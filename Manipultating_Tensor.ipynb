{
  "nbformat": 4,
  "nbformat_minor": 0,
  "metadata": {
    "colab": {
      "provenance": [],
      "authorship_tag": "ABX9TyOsT0FZIeNU3//ccrU0psws",
      "include_colab_link": true
    },
    "kernelspec": {
      "name": "python3",
      "display_name": "Python 3"
    },
    "language_info": {
      "name": "python"
    }
  },
  "cells": [
    {
      "cell_type": "markdown",
      "metadata": {
        "id": "view-in-github",
        "colab_type": "text"
      },
      "source": [
        "<a href=\"https://colab.research.google.com/github/FairozAhmadSheikh/Tensor_Flow/blob/main/Manipultating_Tensor.ipynb\" target=\"_parent\"><img src=\"https://colab.research.google.com/assets/colab-badge.svg\" alt=\"Open In Colab\"/></a>"
      ]
    },
    {
      "cell_type": "markdown",
      "source": [
        "# **Tensorflow Opeartions**\n",
        "\n",
        "\n",
        "1. + , - ,* ,/\n",
        "\n",
        "\n"
      ],
      "metadata": {
        "id": "YduW70VLKwvX"
      }
    },
    {
      "cell_type": "code",
      "execution_count": 6,
      "metadata": {
        "id": "IkFi9OaLKBfc"
      },
      "outputs": [],
      "source": [
        "import tensorflow as tf\n",
        "import numpy as np"
      ]
    },
    {
      "cell_type": "code",
      "source": [
        "tensor=tf.constant(np.random.rand(),shape=[3,4])"
      ],
      "metadata": {
        "id": "YvkZ35-2KEVh"
      },
      "execution_count": 11,
      "outputs": []
    },
    {
      "cell_type": "code",
      "source": [
        "tensor"
      ],
      "metadata": {
        "colab": {
          "base_uri": "https://localhost:8080/"
        },
        "id": "hszpmFD4KNl7",
        "outputId": "304c6102-0af2-48db-d3f3-1b517b669bc4"
      },
      "execution_count": 12,
      "outputs": [
        {
          "output_type": "execute_result",
          "data": {
            "text/plain": [
              "<tf.Tensor: shape=(3, 4), dtype=float32, numpy=\n",
              "array([[0.89918673, 0.89918673, 0.89918673, 0.89918673],\n",
              "       [0.89918673, 0.89918673, 0.89918673, 0.89918673],\n",
              "       [0.89918673, 0.89918673, 0.89918673, 0.89918673]], dtype=float32)>"
            ]
          },
          "metadata": {},
          "execution_count": 12
        }
      ]
    },
    {
      "cell_type": "code",
      "source": [
        "tensor*10"
      ],
      "metadata": {
        "colab": {
          "base_uri": "https://localhost:8080/"
        },
        "id": "Ju_vCJGRKOMp",
        "outputId": "4bd36380-db58-4efe-eb2b-668176eff2cb"
      },
      "execution_count": 13,
      "outputs": [
        {
          "output_type": "execute_result",
          "data": {
            "text/plain": [
              "<tf.Tensor: shape=(3, 4), dtype=float32, numpy=\n",
              "array([[8.991867, 8.991867, 8.991867, 8.991867],\n",
              "       [8.991867, 8.991867, 8.991867, 8.991867],\n",
              "       [8.991867, 8.991867, 8.991867, 8.991867]], dtype=float32)>"
            ]
          },
          "metadata": {},
          "execution_count": 13
        }
      ]
    },
    {
      "cell_type": "code",
      "source": [
        "tensor +10"
      ],
      "metadata": {
        "colab": {
          "base_uri": "https://localhost:8080/"
        },
        "id": "wQ51B0OPK_c_",
        "outputId": "1c53fa0f-7fb9-419b-cefd-6dbc25d0d16a"
      },
      "execution_count": 14,
      "outputs": [
        {
          "output_type": "execute_result",
          "data": {
            "text/plain": [
              "<tf.Tensor: shape=(3, 4), dtype=float32, numpy=\n",
              "array([[10.899187, 10.899187, 10.899187, 10.899187],\n",
              "       [10.899187, 10.899187, 10.899187, 10.899187],\n",
              "       [10.899187, 10.899187, 10.899187, 10.899187]], dtype=float32)>"
            ]
          },
          "metadata": {},
          "execution_count": 14
        }
      ]
    },
    {
      "cell_type": "code",
      "source": [
        "tensor /10"
      ],
      "metadata": {
        "colab": {
          "base_uri": "https://localhost:8080/"
        },
        "id": "e8TuEvOWLB3D",
        "outputId": "7a731312-b752-4aad-d468-effe9ce9a315"
      },
      "execution_count": 15,
      "outputs": [
        {
          "output_type": "execute_result",
          "data": {
            "text/plain": [
              "<tf.Tensor: shape=(3, 4), dtype=float32, numpy=\n",
              "array([[0.08991867, 0.08991867, 0.08991867, 0.08991867],\n",
              "       [0.08991867, 0.08991867, 0.08991867, 0.08991867],\n",
              "       [0.08991867, 0.08991867, 0.08991867, 0.08991867]], dtype=float32)>"
            ]
          },
          "metadata": {},
          "execution_count": 15
        }
      ]
    },
    {
      "cell_type": "code",
      "source": [
        "tensor -.89"
      ],
      "metadata": {
        "colab": {
          "base_uri": "https://localhost:8080/"
        },
        "id": "EMQJpypbLEHa",
        "outputId": "ec4b2ed9-3263-4f16-f275-e66011431dc1"
      },
      "execution_count": 17,
      "outputs": [
        {
          "output_type": "execute_result",
          "data": {
            "text/plain": [
              "<tf.Tensor: shape=(3, 4), dtype=float32, numpy=\n",
              "array([[0.00918674, 0.00918674, 0.00918674, 0.00918674],\n",
              "       [0.00918674, 0.00918674, 0.00918674, 0.00918674],\n",
              "       [0.00918674, 0.00918674, 0.00918674, 0.00918674]], dtype=float32)>"
            ]
          },
          "metadata": {},
          "execution_count": 17
        }
      ]
    },
    {
      "cell_type": "code",
      "source": [],
      "metadata": {
        "id": "K6M5_tXNLFvN"
      },
      "execution_count": null,
      "outputs": []
    }
  ]
}