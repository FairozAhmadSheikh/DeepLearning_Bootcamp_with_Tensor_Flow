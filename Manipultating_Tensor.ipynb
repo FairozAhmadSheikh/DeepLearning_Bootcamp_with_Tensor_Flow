{
  "nbformat": 4,
  "nbformat_minor": 0,
  "metadata": {
    "colab": {
      "provenance": [],
      "authorship_tag": "ABX9TyM5d+2qg9NueZLqBMbqLB9B",
      "include_colab_link": true
    },
    "kernelspec": {
      "name": "python3",
      "display_name": "Python 3"
    },
    "language_info": {
      "name": "python"
    }
  },
  "cells": [
    {
      "cell_type": "markdown",
      "metadata": {
        "id": "view-in-github",
        "colab_type": "text"
      },
      "source": [
        "<a href=\"https://colab.research.google.com/github/FairozAhmadSheikh/Tensor_Flow/blob/main/Manipultating_Tensor.ipynb\" target=\"_parent\"><img src=\"https://colab.research.google.com/assets/colab-badge.svg\" alt=\"Open In Colab\"/></a>"
      ]
    },
    {
      "cell_type": "markdown",
      "source": [
        "# **Tensorflow Opeartions**\n",
        "\n",
        "\n",
        "1. + , - ,* ,/\n",
        "\n",
        "\n"
      ],
      "metadata": {
        "id": "YduW70VLKwvX"
      }
    },
    {
      "cell_type": "code",
      "execution_count": 23,
      "metadata": {
        "id": "IkFi9OaLKBfc"
      },
      "outputs": [],
      "source": [
        "import tensorflow as tf\n",
        "import numpy as np"
      ]
    },
    {
      "cell_type": "code",
      "source": [
        "tensor=tf.constant(np.random.rand(),shape=[3,4])"
      ],
      "metadata": {
        "id": "YvkZ35-2KEVh"
      },
      "execution_count": 24,
      "outputs": []
    },
    {
      "cell_type": "code",
      "source": [
        "tensor"
      ],
      "metadata": {
        "colab": {
          "base_uri": "https://localhost:8080/"
        },
        "id": "hszpmFD4KNl7",
        "outputId": "422ecb93-b5c4-4874-f9fb-9b47be1949be"
      },
      "execution_count": 25,
      "outputs": [
        {
          "output_type": "execute_result",
          "data": {
            "text/plain": [
              "<tf.Tensor: shape=(3, 4), dtype=float32, numpy=\n",
              "array([[0.74845916, 0.74845916, 0.74845916, 0.74845916],\n",
              "       [0.74845916, 0.74845916, 0.74845916, 0.74845916],\n",
              "       [0.74845916, 0.74845916, 0.74845916, 0.74845916]], dtype=float32)>"
            ]
          },
          "metadata": {},
          "execution_count": 25
        }
      ]
    },
    {
      "cell_type": "code",
      "source": [
        "tensor*10"
      ],
      "metadata": {
        "colab": {
          "base_uri": "https://localhost:8080/"
        },
        "id": "Ju_vCJGRKOMp",
        "outputId": "4d025c2f-edbb-45ba-84c6-d6d754391f3b"
      },
      "execution_count": 26,
      "outputs": [
        {
          "output_type": "execute_result",
          "data": {
            "text/plain": [
              "<tf.Tensor: shape=(3, 4), dtype=float32, numpy=\n",
              "array([[7.4845915, 7.4845915, 7.4845915, 7.4845915],\n",
              "       [7.4845915, 7.4845915, 7.4845915, 7.4845915],\n",
              "       [7.4845915, 7.4845915, 7.4845915, 7.4845915]], dtype=float32)>"
            ]
          },
          "metadata": {},
          "execution_count": 26
        }
      ]
    },
    {
      "cell_type": "code",
      "source": [
        "tensor +10"
      ],
      "metadata": {
        "colab": {
          "base_uri": "https://localhost:8080/"
        },
        "id": "wQ51B0OPK_c_",
        "outputId": "a06bf5fa-581d-4d3d-eab6-f16e84a05737"
      },
      "execution_count": 27,
      "outputs": [
        {
          "output_type": "execute_result",
          "data": {
            "text/plain": [
              "<tf.Tensor: shape=(3, 4), dtype=float32, numpy=\n",
              "array([[10.748459, 10.748459, 10.748459, 10.748459],\n",
              "       [10.748459, 10.748459, 10.748459, 10.748459],\n",
              "       [10.748459, 10.748459, 10.748459, 10.748459]], dtype=float32)>"
            ]
          },
          "metadata": {},
          "execution_count": 27
        }
      ]
    },
    {
      "cell_type": "code",
      "source": [
        "tensor /10"
      ],
      "metadata": {
        "colab": {
          "base_uri": "https://localhost:8080/"
        },
        "id": "e8TuEvOWLB3D",
        "outputId": "958f07cd-2db9-439d-a82c-08ec2034614d"
      },
      "execution_count": 28,
      "outputs": [
        {
          "output_type": "execute_result",
          "data": {
            "text/plain": [
              "<tf.Tensor: shape=(3, 4), dtype=float32, numpy=\n",
              "array([[0.07484592, 0.07484592, 0.07484592, 0.07484592],\n",
              "       [0.07484592, 0.07484592, 0.07484592, 0.07484592],\n",
              "       [0.07484592, 0.07484592, 0.07484592, 0.07484592]], dtype=float32)>"
            ]
          },
          "metadata": {},
          "execution_count": 28
        }
      ]
    },
    {
      "cell_type": "code",
      "source": [
        "tensor -.89"
      ],
      "metadata": {
        "colab": {
          "base_uri": "https://localhost:8080/"
        },
        "id": "EMQJpypbLEHa",
        "outputId": "45bc51f0-ba0b-4d97-dbc8-300593a63b32"
      },
      "execution_count": 29,
      "outputs": [
        {
          "output_type": "execute_result",
          "data": {
            "text/plain": [
              "<tf.Tensor: shape=(3, 4), dtype=float32, numpy=\n",
              "array([[-0.14154083, -0.14154083, -0.14154083, -0.14154083],\n",
              "       [-0.14154083, -0.14154083, -0.14154083, -0.14154083],\n",
              "       [-0.14154083, -0.14154083, -0.14154083, -0.14154083]],\n",
              "      dtype=float32)>"
            ]
          },
          "metadata": {},
          "execution_count": 29
        }
      ]
    },
    {
      "cell_type": "markdown",
      "source": [
        "# We can also use   built-in tensorflow functions to do the same"
      ],
      "metadata": {
        "id": "Y6zfIW31LTRl"
      }
    },
    {
      "cell_type": "code",
      "source": [
        "tf.multiply(tensor,10)"
      ],
      "metadata": {
        "colab": {
          "base_uri": "https://localhost:8080/"
        },
        "id": "K6M5_tXNLFvN",
        "outputId": "be0c3652-52bd-4857-ae87-6ef5c5fad69a"
      },
      "execution_count": 30,
      "outputs": [
        {
          "output_type": "execute_result",
          "data": {
            "text/plain": [
              "<tf.Tensor: shape=(3, 4), dtype=float32, numpy=\n",
              "array([[7.4845915, 7.4845915, 7.4845915, 7.4845915],\n",
              "       [7.4845915, 7.4845915, 7.4845915, 7.4845915],\n",
              "       [7.4845915, 7.4845915, 7.4845915, 7.4845915]], dtype=float32)>"
            ]
          },
          "metadata": {},
          "execution_count": 30
        }
      ]
    },
    {
      "cell_type": "code",
      "source": [
        "tf.add(tensor,10)"
      ],
      "metadata": {
        "colab": {
          "base_uri": "https://localhost:8080/"
        },
        "id": "yPUHCbRdLgPm",
        "outputId": "7d5d9aff-1bec-48cf-f483-fc72ad0daea3"
      },
      "execution_count": 31,
      "outputs": [
        {
          "output_type": "execute_result",
          "data": {
            "text/plain": [
              "<tf.Tensor: shape=(3, 4), dtype=float32, numpy=\n",
              "array([[10.748459, 10.748459, 10.748459, 10.748459],\n",
              "       [10.748459, 10.748459, 10.748459, 10.748459],\n",
              "       [10.748459, 10.748459, 10.748459, 10.748459]], dtype=float32)>"
            ]
          },
          "metadata": {},
          "execution_count": 31
        }
      ]
    },
    {
      "cell_type": "code",
      "source": [
        "tf.subtract(tensor,10)"
      ],
      "metadata": {
        "colab": {
          "base_uri": "https://localhost:8080/"
        },
        "id": "Hgk-H4RYLkP0",
        "outputId": "e1329af4-e43b-433d-bc25-2ae76ad485eb"
      },
      "execution_count": 32,
      "outputs": [
        {
          "output_type": "execute_result",
          "data": {
            "text/plain": [
              "<tf.Tensor: shape=(3, 4), dtype=float32, numpy=\n",
              "array([[-9.251541, -9.251541, -9.251541, -9.251541],\n",
              "       [-9.251541, -9.251541, -9.251541, -9.251541],\n",
              "       [-9.251541, -9.251541, -9.251541, -9.251541]], dtype=float32)>"
            ]
          },
          "metadata": {},
          "execution_count": 32
        }
      ]
    },
    {
      "cell_type": "code",
      "source": [
        "tf.divide(tensor,.89)"
      ],
      "metadata": {
        "colab": {
          "base_uri": "https://localhost:8080/"
        },
        "id": "zwjkTnpuLm9H",
        "outputId": "51cf4640-f71a-4e82-b9d0-161d0dac5209"
      },
      "execution_count": 33,
      "outputs": [
        {
          "output_type": "execute_result",
          "data": {
            "text/plain": [
              "<tf.Tensor: shape=(3, 4), dtype=float32, numpy=\n",
              "array([[0.8409654, 0.8409654, 0.8409654, 0.8409654],\n",
              "       [0.8409654, 0.8409654, 0.8409654, 0.8409654],\n",
              "       [0.8409654, 0.8409654, 0.8409654, 0.8409654]], dtype=float32)>"
            ]
          },
          "metadata": {},
          "execution_count": 33
        }
      ]
    },
    {
      "cell_type": "markdown",
      "source": [
        "# Matrix Multiplication\n",
        "*Rules for Matri Multiplication*\n",
        "1.   Inner Dimensions must match\n",
        "2.   Resulting Matrix must have a shape of nner dimensions\n",
        "\n",
        "\n",
        "\n"
      ],
      "metadata": {
        "id": "4yl298uEPx-i"
      }
    },
    {
      "cell_type": "code",
      "source": [
        "X=tf.constant(np.random.randn(),shape=[3,3])\n",
        "Y=tf.constant(np.random.randn(),shape=[3,2])\n",
        "X,Y"
      ],
      "metadata": {
        "colab": {
          "base_uri": "https://localhost:8080/"
        },
        "id": "udrTv9tBLvHi",
        "outputId": "a042dc0f-1d99-4074-fad0-b4e44eba7ff1"
      },
      "execution_count": 38,
      "outputs": [
        {
          "output_type": "execute_result",
          "data": {
            "text/plain": [
              "(<tf.Tensor: shape=(3, 3), dtype=float32, numpy=\n",
              " array([[-0.07640224, -0.07640224, -0.07640224],\n",
              "        [-0.07640224, -0.07640224, -0.07640224],\n",
              "        [-0.07640224, -0.07640224, -0.07640224]], dtype=float32)>,\n",
              " <tf.Tensor: shape=(3, 2), dtype=float32, numpy=\n",
              " array([[2.117835, 2.117835],\n",
              "        [2.117835, 2.117835],\n",
              "        [2.117835, 2.117835]], dtype=float32)>)"
            ]
          },
          "metadata": {},
          "execution_count": 38
        }
      ]
    },
    {
      "cell_type": "code",
      "source": [
        "tf.matmul(X,Y)"
      ],
      "metadata": {
        "colab": {
          "base_uri": "https://localhost:8080/"
        },
        "id": "0cYQH5PEQPBC",
        "outputId": "11afd526-d67a-4331-c3e3-98a159e459b6"
      },
      "execution_count": 39,
      "outputs": [
        {
          "output_type": "execute_result",
          "data": {
            "text/plain": [
              "<tf.Tensor: shape=(3, 2), dtype=float32, numpy=\n",
              "array([[-0.48542202, -0.48542202],\n",
              "       [-0.48542202, -0.48542202],\n",
              "       [-0.48542202, -0.48542202]], dtype=float32)>"
            ]
          },
          "metadata": {},
          "execution_count": 39
        }
      ]
    },
    {
      "cell_type": "code",
      "source": [],
      "metadata": {
        "id": "c3qDp27SQwUz"
      },
      "execution_count": null,
      "outputs": []
    }
  ]
}