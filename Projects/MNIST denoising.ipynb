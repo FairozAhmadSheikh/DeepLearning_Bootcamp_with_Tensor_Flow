{
 "cells": [
  {
   "cell_type": "code",
   "execution_count": null,
   "id": "1adf6f34",
   "metadata": {
    "vscode": {
     "languageId": "plaintext"
    }
   },
   "outputs": [],
   "source": [
    "import tensorflow as tf\n",
    "import numpy as np\n",
    "import matplotlib.pyplot as plt"
   ]
  },
  {
   "cell_type": "code",
   "execution_count": null,
   "id": "0353092b",
   "metadata": {
    "vscode": {
     "languageId": "plaintext"
    }
   },
   "outputs": [],
   "source": [
    "noise_type = 'gaussian'      # 'gaussian', 'saltpepper', 'speckle'\n",
    "model_type = 'conv'          # 'fc', 'conv'\n",
    "epochs = 10\n",
    "batch = 128\n",
    "latent_dim = 64"
   ]
  },
  {
   "cell_type": "code",
   "execution_count": null,
   "id": "e092a21f",
   "metadata": {
    "vscode": {
     "languageId": "plaintext"
    }
   },
   "outputs": [],
   "source": [
    "(train_x, _), (test_x, _) = tf.keras.datasets.mnist.load_data()\n",
    "train_x = train_x.astype('float32') / 255.\n",
    "test_x = test_x.astype('float32') / 255.\n",
    "train_x = np.reshape(train_x, (-1, 28, 28, 1))\n",
    "test_x = np.reshape(test_x, (-1, 28, 28, 1))\n"
   ]
  }
 ],
 "metadata": {
  "language_info": {
   "name": "python"
  }
 },
 "nbformat": 4,
 "nbformat_minor": 5
}
