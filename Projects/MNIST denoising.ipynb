{
 "cells": [
  {
   "cell_type": "code",
   "execution_count": null,
   "id": "1adf6f34",
   "metadata": {
    "vscode": {
     "languageId": "plaintext"
    }
   },
   "outputs": [],
   "source": [
    "import tensorflow as tf\n",
    "import numpy as np\n",
    "import matplotlib.pyplot as plt"
   ]
  },
  {
   "cell_type": "code",
   "execution_count": null,
   "id": "0353092b",
   "metadata": {
    "vscode": {
     "languageId": "plaintext"
    }
   },
   "outputs": [],
   "source": [
    "noise_type = 'gaussian'      # 'gaussian', 'saltpepper', 'speckle'\n",
    "model_type = 'conv'          # 'fc', 'conv'\n",
    "epochs = 10\n",
    "batch = 128\n",
    "latent_dim = 64"
   ]
  },
  {
   "cell_type": "code",
   "execution_count": null,
   "id": "e092a21f",
   "metadata": {
    "vscode": {
     "languageId": "plaintext"
    }
   },
   "outputs": [],
   "source": [
    "(train_x, _), (test_x, _) = tf.keras.datasets.mnist.load_data()\n",
    "train_x = train_x.astype('float32') / 255.\n",
    "test_x = test_x.astype('float32') / 255.\n",
    "train_x = np.reshape(train_x, (-1, 28, 28, 1))\n",
    "test_x = np.reshape(test_x, (-1, 28, 28, 1))\n"
   ]
  },
  {
   "cell_type": "code",
   "execution_count": null,
   "id": "369e8701",
   "metadata": {
    "vscode": {
     "languageId": "plaintext"
    }
   },
   "outputs": [],
   "source": [
    "def add_gaussian_noise(imgs, amount=0.5):\n",
    "    noise = amount * np.random.normal(loc=0.0, scale=1.0, size=imgs.shape)\n",
    "    return np.clip(imgs + noise, 0., 1.)"
   ]
  },
  {
   "cell_type": "code",
   "execution_count": null,
   "id": "5f75db4c",
   "metadata": {
    "vscode": {
     "languageId": "plaintext"
    }
   },
   "outputs": [],
   "source": [
    "def add_saltpepper_noise(imgs, amount=0.2):\n",
    "    out = np.copy(imgs)\n",
    "    num_salt = np.ceil(amount * imgs.size * 0.5)\n",
    "    coords = [np.random.randint(0, i-1, int(num_salt)) for i in imgs.shape]\n",
    "    out[tuple(coords)] = 1\n",
    "    num_pepper = np.ceil(amount* imgs.size * 0.5)\n",
    "    coords = [np.random.randint(0, i-1, int(num_pepper)) for i in imgs.shape]\n",
    "    out[tuple(coords)] = 0\n",
    "    return out"
   ]
  },
  {
   "cell_type": "code",
   "execution_count": null,
   "id": "457f7d83",
   "metadata": {
    "vscode": {
     "languageId": "plaintext"
    }
   },
   "outputs": [],
   "source": [
    "\n",
    "def add_speckle_noise(imgs, amount=0.5):\n",
    "    noise = amount * np.random.randn(*imgs.shape)\n",
    "    return np.clip(imgs + imgs * noise, 0., 1.)"
   ]
  },
  {
   "cell_type": "code",
   "execution_count": null,
   "id": "bba1c111",
   "metadata": {
    "vscode": {
     "languageId": "plaintext"
    }
   },
   "outputs": [],
   "source": [
    "if noise_type == 'gaussian':\n",
    "    noisy_train = add_gaussian_noise(train_x)\n",
    "    noisy_test = add_gaussian_noise(test_x)\n",
    "elif noise_type == 'saltpepper':\n",
    "    noisy_train = add_saltpepper_noise(train_x)\n",
    "    noisy_test = add_saltpepper_noise(test_x)\n",
    "elif noise_type == 'speckle':\n",
    "    noisy_train = add_speckle_noise(train_x)\n",
    "    noisy_test = add_speckle_noise(test_x)\n",
    "else:\n",
    "    noisy_train = train_x\n",
    "    noisy_test = test_x"
   ]
  },
  {
   "cell_type": "code",
   "execution_count": null,
   "id": "00b6cfe3",
   "metadata": {
    "vscode": {
     "languageId": "plaintext"
    }
   },
   "outputs": [],
   "source": [
    "if model_type == 'fc':\n",
    "    flat_shape = np.prod(train_x.shape[1:])\n",
    "    # Flatten input\n",
    "    x_in = tf.keras.layers.Input(shape=(28, 28, 1))\n",
    "    x = tf.keras.layers.Flatten()(x_in)\n",
    "    x = tf.keras.layers.Dense(256, activation='relu')(x)\n",
    "    x = tf.keras.layers.Dense(128, activation='relu')(x)\n",
    "    encoded = tf.keras.layers.Dense(latent_dim, activation='relu')(x)\n",
    "    x = tf.keras.layers.Dense(128, activation='relu')(encoded)\n",
    "    x = tf.keras.layers.Dense(256, activation='relu')(x)\n",
    "    x = tf.keras.layers.Dense(flat_shape, activation='sigmoid')(x)\n",
    "    x_out = tf.keras.layers.Reshape((28,28,1))(x)\n",
    "    autoencoder = tf.keras.Model(x_in, x_out)\n",
    "    encoder = tf.keras.Model(x_in, encoded)\n",
    "else:\n",
    "    x_in = tf.keras.layers.Input(shape=(28,28,1))\n",
    "    x = tf.keras.layers.Conv2D(32, (3,3), activation='relu', padding='same')(x_in)\n",
    "    x = tf.keras.layers.MaxPooling2D((2,2), padding='same')(x)\n",
    "    x = tf.keras.layers.Conv2D(16, (3,3), activation='relu', padding='same')(x)\n",
    "    x = tf.keras.layers.MaxPooling2D((2,2), padding='same')(x)\n",
    "    encoded = tf.keras.layers.Conv2D(8, (3,3), activation='relu', padding='same')(x)\n",
    "    x = tf.keras.layers.UpSampling2D((2,2))(encoded)\n",
    "    x = tf.keras.layers.Conv2D(16, (3,3), activation='relu', padding='same')(x)\n",
    "    x = tf.keras.layers.UpSampling2D((2,2))(x)\n",
    "    x = tf.keras.layers.Conv2D(32, (3,3), activation='relu')(x)\n",
    "    x_out = tf.keras.layers.Conv2D(1, (3,3), activation='sigmoid', padding='same')(x)\n",
    "    autoencoder = tf.keras.Model(x_in, x_out)\n",
    "    encoder = tf.keras.Model(x_in, encoded)"
   ]
  },
  {
   "cell_type": "code",
   "execution_count": null,
   "id": "202f8cd0",
   "metadata": {
    "vscode": {
     "languageId": "plaintext"
    }
   },
   "outputs": [],
   "source": [
    "autoencoder.compile(optimizer='adam', loss='binary_crossentropy')\n"
   ]
  }
 ],
 "metadata": {
  "language_info": {
   "name": "python"
  }
 },
 "nbformat": 4,
 "nbformat_minor": 5
}
