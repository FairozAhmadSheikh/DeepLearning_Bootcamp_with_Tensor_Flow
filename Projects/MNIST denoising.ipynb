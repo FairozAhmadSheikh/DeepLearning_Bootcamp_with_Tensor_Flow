{
 "cells": [
  {
   "cell_type": "code",
   "execution_count": null,
   "id": "1adf6f34",
   "metadata": {
    "vscode": {
     "languageId": "plaintext"
    }
   },
   "outputs": [],
   "source": [
    "import tensorflow as tf\n",
    "import numpy as np\n",
    "import matplotlib.pyplot as plt"
   ]
  },
  {
   "cell_type": "code",
   "execution_count": null,
   "id": "0353092b",
   "metadata": {
    "vscode": {
     "languageId": "plaintext"
    }
   },
   "outputs": [],
   "source": [
    "noise_type = 'gaussian'      # 'gaussian', 'saltpepper', 'speckle'\n",
    "model_type = 'conv'          # 'fc', 'conv'\n",
    "epochs = 10\n",
    "batch = 128\n",
    "latent_dim = 64"
   ]
  },
  {
   "cell_type": "code",
   "execution_count": null,
   "id": "e092a21f",
   "metadata": {
    "vscode": {
     "languageId": "plaintext"
    }
   },
   "outputs": [],
   "source": [
    "(train_x, _), (test_x, _) = tf.keras.datasets.mnist.load_data()\n",
    "train_x = train_x.astype('float32') / 255.\n",
    "test_x = test_x.astype('float32') / 255.\n",
    "train_x = np.reshape(train_x, (-1, 28, 28, 1))\n",
    "test_x = np.reshape(test_x, (-1, 28, 28, 1))\n"
   ]
  },
  {
   "cell_type": "code",
   "execution_count": null,
   "id": "369e8701",
   "metadata": {
    "vscode": {
     "languageId": "plaintext"
    }
   },
   "outputs": [],
   "source": [
    "def add_gaussian_noise(imgs, amount=0.5):\n",
    "    noise = amount * np.random.normal(loc=0.0, scale=1.0, size=imgs.shape)\n",
    "    return np.clip(imgs + noise, 0., 1.)"
   ]
  },
  {
   "cell_type": "code",
   "execution_count": null,
   "id": "5f75db4c",
   "metadata": {
    "vscode": {
     "languageId": "plaintext"
    }
   },
   "outputs": [],
   "source": [
    "def add_saltpepper_noise(imgs, amount=0.2):\n",
    "    out = np.copy(imgs)\n",
    "    num_salt = np.ceil(amount * imgs.size * 0.5)\n",
    "    coords = [np.random.randint(0, i-1, int(num_salt)) for i in imgs.shape]\n",
    "    out[tuple(coords)] = 1\n",
    "    num_pepper = np.ceil(amount* imgs.size * 0.5)\n",
    "    coords = [np.random.randint(0, i-1, int(num_pepper)) for i in imgs.shape]\n",
    "    out[tuple(coords)] = 0\n",
    "    return out"
   ]
  }
 ],
 "metadata": {
  "language_info": {
   "name": "python"
  }
 },
 "nbformat": 4,
 "nbformat_minor": 5
}
