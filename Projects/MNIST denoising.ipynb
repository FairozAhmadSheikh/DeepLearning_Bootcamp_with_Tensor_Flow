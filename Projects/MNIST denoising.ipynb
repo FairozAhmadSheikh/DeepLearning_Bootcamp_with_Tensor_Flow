{
 "cells": [
  {
   "cell_type": "code",
   "execution_count": null,
   "id": "1adf6f34",
   "metadata": {
    "vscode": {
     "languageId": "plaintext"
    }
   },
   "outputs": [],
   "source": [
    "import tensorflow as tf\n",
    "import numpy as np\n",
    "import matplotlib.pyplot as plt"
   ]
  }
 ],
 "metadata": {
  "language_info": {
   "name": "python"
  }
 },
 "nbformat": 4,
 "nbformat_minor": 5
}
