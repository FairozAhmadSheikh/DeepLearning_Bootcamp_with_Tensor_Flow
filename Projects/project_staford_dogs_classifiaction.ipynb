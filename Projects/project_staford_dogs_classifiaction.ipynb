{
  "cells": [
    {
      "cell_type": "code",
      "execution_count": 1,
      "id": "6c9cf06d",
      "metadata": {
        "vscode": {
          "languageId": "plaintext"
        },
        "id": "6c9cf06d"
      },
      "outputs": [],
      "source": [
        "import tensorflow as tf\n",
        "import tensorflow_datasets as tfds\n",
        "from tensorflow.keras.layers import Dense, GlobalAveragePooling2D\n",
        "from tensorflow.keras.models import Model\n",
        "from tensorflow.keras.applications import MobileNetV2\n",
        "import logging"
      ]
    },
    {
      "cell_type": "code",
      "source": [
        "\n",
        "# Set up logging to silence verbose TensorFlow Datasets output\n",
        "logging.basicConfig(level=logging.INFO)\n",
        "tf.get_logger().setLevel(logging.ERROR)"
      ],
      "metadata": {
        "id": "hF2DFsBs8PtJ"
      },
      "id": "hF2DFsBs8PtJ",
      "execution_count": 2,
      "outputs": []
    },
    {
      "cell_type": "code",
      "source": [
        "NUM_CLASSES = 120\n",
        "IMG_SIZE = 224\n",
        "BATCH_SIZE = 32\n",
        "EPOCHS = 3"
      ],
      "metadata": {
        "id": "NWRwIDXn8VTZ"
      },
      "id": "NWRwIDXn8VTZ",
      "execution_count": 3,
      "outputs": []
    },
    {
      "cell_type": "code",
      "source": [
        "def load_stanford_dogs():\n",
        "    \"\"\"Loads the dataset and returns splits and metadata.\"\"\"\n",
        "    print(\"Loading Stanford Dogs dataset...\")\n",
        "    (ds_train, ds_test), info = tfds.load(\n",
        "        \"stanford_dogs\",\n",
        "        split=['train', 'test'],\n",
        "        as_supervised=True,  # (image, label) format\n",
        "        with_info=True,\n",
        "        shuffle_files=True\n",
        "    )\n",
        "    print(f\"Dataset loaded. Total classes: {info.features['label'].num_classes}\")\n",
        "    return ds_train, ds_test\n"
      ],
      "metadata": {
        "id": "devF3ZH08Zjs"
      },
      "id": "devF3ZH08Zjs",
      "execution_count": 4,
      "outputs": []
    },
    {
      "cell_type": "code",
      "source": [
        "def preprocess_image(image, label):\n",
        "    \"\"\"Resize and normalize image for MobileNetV2 [ -1, 1 ].\"\"\"\n",
        "    image = tf.image.resize(image, (IMG_SIZE, IMG_SIZE))\n",
        "    image = tf.cast(image, tf.float32)\n",
        "    # Apply MobileNetV2-specific normalization\n",
        "    image = tf.keras.applications.mobilenet_v2.preprocess_input(image)\n",
        "    return image, label\n"
      ],
      "metadata": {
        "id": "pTDdicDV8fRZ"
      },
      "id": "pTDdicDV8fRZ",
      "execution_count": 5,
      "outputs": []
    },
    {
      "cell_type": "code",
      "source": [
        "def prepare_dataset(ds, shuffle=False):\n",
        "    \"\"\"Configures dataset for performance with map, shuffle, batch, and prefetch.\"\"\"\n",
        "    ds = ds.map(preprocess_image, num_parallel_calls=tf.data.AUTOTUNE)\n",
        "    ds = ds.cache()\n",
        "\n",
        "    if shuffle:\n",
        "        ds = ds.shuffle(buffer_size=1000)\n",
        "\n",
        "    ds = ds.batch(BATCH_SIZE)\n",
        "    ds = ds.prefetch(buffer_size=tf.data.AUTOTUNE)\n",
        "    return ds\n"
      ],
      "metadata": {
        "id": "Or1lyMjU8kQJ"
      },
      "id": "Or1lyMjU8kQJ",
      "execution_count": 6,
      "outputs": []
    },
    {
      "cell_type": "code",
      "source": [
        "def build_dog_classifier_model():\n",
        "    \"\"\"Uses MobileNetV2 for transfer learning by freezing the base and adding a new head.\"\"\"\n",
        "    print(\"Building MobileNetV2 model for transfer learning...\")\n",
        "\n",
        "    # Load MobileNetV2 base model pre-trained on ImageNet\n",
        "    base_model = MobileNetV2(\n",
        "        input_shape=(IMG_SIZE, IMG_SIZE, 3),\n",
        "        include_top=False, # Exclude the default classification head\n",
        "        weights='imagenet'\n",
        "    )\n",
        "\n",
        "    # Freeze the convolutional base\n",
        "    base_model.trainable = False\n",
        "\n",
        "    # Create the new classification layers\n",
        "    x = base_model.output\n",
        "    x = GlobalAveragePooling2D()(x) # Reduce feature maps\n",
        "    predictions = Dense(NUM_CLASSES, activation='softmax')(x) # Final classification layer\n",
        "\n",
        "    model = Model(inputs=base_model.input, outputs=predictions)\n",
        "    return model\n"
      ],
      "metadata": {
        "id": "jx3NCz0H8wMJ"
      },
      "id": "jx3NCz0H8wMJ",
      "execution_count": 7,
      "outputs": []
    },
    {
      "cell_type": "code",
      "source": [
        "def train_and_evaluate(model, train_ds, test_ds):\n",
        "    \"\"\"Compiles, fits, and evaluates the model.\"\"\"\n",
        "    print(\"Compiling model...\")\n",
        "    model.compile(\n",
        "        optimizer=tf.keras.optimizers.Adam(learning_rate=0.001),\n",
        "        loss='sparse_categorical_crossentropy',\n",
        "        metrics=['accuracy']\n",
        "    )\n",
        "\n",
        "    print(f\"Starting training for {EPOCHS} epochs...\")\n",
        "    model.fit(\n",
        "        train_ds,\n",
        "        epochs=EPOCHS,\n",
        "        validation_data=test_ds\n",
        "    )\n",
        "\n",
        "    print(\"\\nEvaluating model on test set...\")\n",
        "    loss, accuracy = model.evaluate(test_ds)\n",
        "    print(f\"Test Accuracy: {accuracy*100:.2f}%\")\n"
      ],
      "metadata": {
        "id": "J7Ti-aQo88XJ"
      },
      "id": "J7Ti-aQo88XJ",
      "execution_count": 8,
      "outputs": []
    }
  ],
  "metadata": {
    "language_info": {
      "name": "python"
    },
    "colab": {
      "provenance": [],
      "gpuType": "T4"
    },
    "accelerator": "GPU",
    "kernelspec": {
      "name": "python3",
      "display_name": "Python 3"
    }
  },
  "nbformat": 4,
  "nbformat_minor": 5
}