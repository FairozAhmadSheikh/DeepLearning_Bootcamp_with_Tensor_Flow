{
  "cells": [
    {
      "cell_type": "code",
      "execution_count": 1,
      "id": "6c9cf06d",
      "metadata": {
        "vscode": {
          "languageId": "plaintext"
        },
        "id": "6c9cf06d"
      },
      "outputs": [],
      "source": [
        "import tensorflow as tf\n",
        "import tensorflow_datasets as tfds\n",
        "from tensorflow.keras.layers import Dense, GlobalAveragePooling2D\n",
        "from tensorflow.keras.models import Model\n",
        "from tensorflow.keras.applications import MobileNetV2\n",
        "import logging"
      ]
    },
    {
      "cell_type": "code",
      "source": [
        "\n",
        "# Set up logging to silence verbose TensorFlow Datasets output\n",
        "logging.basicConfig(level=logging.INFO)\n",
        "tf.get_logger().setLevel(logging.ERROR)"
      ],
      "metadata": {
        "id": "hF2DFsBs8PtJ"
      },
      "id": "hF2DFsBs8PtJ",
      "execution_count": 2,
      "outputs": []
    },
    {
      "cell_type": "code",
      "source": [
        "NUM_CLASSES = 120\n",
        "IMG_SIZE = 224\n",
        "BATCH_SIZE = 32\n",
        "EPOCHS = 3"
      ],
      "metadata": {
        "id": "NWRwIDXn8VTZ"
      },
      "id": "NWRwIDXn8VTZ",
      "execution_count": 3,
      "outputs": []
    },
    {
      "cell_type": "code",
      "source": [
        "def load_stanford_dogs():\n",
        "    \"\"\"Loads the dataset and returns splits and metadata.\"\"\"\n",
        "    print(\"Loading Stanford Dogs dataset...\")\n",
        "    (ds_train, ds_test), info = tfds.load(\n",
        "        \"stanford_dogs\",\n",
        "        split=['train', 'test'],\n",
        "        as_supervised=True,  # (image, label) format\n",
        "        with_info=True,\n",
        "        shuffle_files=True\n",
        "    )\n",
        "    print(f\"Dataset loaded. Total classes: {info.features['label'].num_classes}\")\n",
        "    return ds_train, ds_test\n"
      ],
      "metadata": {
        "id": "devF3ZH08Zjs"
      },
      "id": "devF3ZH08Zjs",
      "execution_count": 4,
      "outputs": []
    },
    {
      "cell_type": "code",
      "source": [
        "def preprocess_image(image, label):\n",
        "    \"\"\"Resize and normalize image for MobileNetV2 [ -1, 1 ].\"\"\"\n",
        "    image = tf.image.resize(image, (IMG_SIZE, IMG_SIZE))\n",
        "    image = tf.cast(image, tf.float32)\n",
        "    # Apply MobileNetV2-specific normalization\n",
        "    image = tf.keras.applications.mobilenet_v2.preprocess_input(image)\n",
        "    return image, label\n"
      ],
      "metadata": {
        "id": "pTDdicDV8fRZ"
      },
      "id": "pTDdicDV8fRZ",
      "execution_count": 5,
      "outputs": []
    }
  ],
  "metadata": {
    "language_info": {
      "name": "python"
    },
    "colab": {
      "provenance": [],
      "gpuType": "T4"
    },
    "accelerator": "GPU",
    "kernelspec": {
      "name": "python3",
      "display_name": "Python 3"
    }
  },
  "nbformat": 4,
  "nbformat_minor": 5
}