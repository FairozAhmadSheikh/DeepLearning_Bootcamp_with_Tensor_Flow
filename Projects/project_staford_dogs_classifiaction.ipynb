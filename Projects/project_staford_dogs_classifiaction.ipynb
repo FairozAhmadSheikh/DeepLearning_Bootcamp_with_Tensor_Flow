{
  "cells": [
    {
      "cell_type": "code",
      "execution_count": 2,
      "id": "6c9cf06d",
      "metadata": {
        "vscode": {
          "languageId": "plaintext"
        },
        "id": "6c9cf06d"
      },
      "outputs": [],
      "source": [
        "import tensorflow as tf\n",
        "import tensorflow_datasets as tfds\n",
        "from tensorflow.keras.layers import Dense, GlobalAveragePooling2D\n",
        "from tensorflow.keras.models import Model\n",
        "from tensorflow.keras.applications import MobileNetV2\n",
        "import logging"
      ]
    },
    {
      "cell_type": "code",
      "source": [
        "\n",
        "# Set up logging to silence verbose TensorFlow Datasets output\n",
        "logging.basicConfig(level=logging.INFO)\n",
        "tf.get_logger().setLevel(logging.ERROR)"
      ],
      "metadata": {
        "id": "hF2DFsBs8PtJ"
      },
      "id": "hF2DFsBs8PtJ",
      "execution_count": 3,
      "outputs": []
    },
    {
      "cell_type": "code",
      "source": [
        "NUM_CLASSES = 120\n",
        "IMG_SIZE = 224\n",
        "BATCH_SIZE = 16 # FIXED: Reduced from 32 to 16 to lower immediate memory use during training.\n",
        "EPOCHS = 3"
      ],
      "metadata": {
        "id": "NWRwIDXn8VTZ"
      },
      "id": "NWRwIDXn8VTZ",
      "execution_count": 4,
      "outputs": []
    },
    {
      "cell_type": "code",
      "source": [
        "def load_stanford_dogs():\n",
        "    \"\"\"Loads the dataset and returns splits and metadata.\"\"\"\n",
        "    print(\"Loading Stanford Dogs dataset...\")\n",
        "    (ds_train, ds_test), info = tfds.load(\n",
        "        \"stanford_dogs\",\n",
        "        split=['train', 'test'],\n",
        "        as_supervised=True,  # (image, label) format\n",
        "        with_info=True,\n",
        "        shuffle_files=True\n",
        "    )\n",
        "    print(f\"Dataset loaded. Total classes: {info.features['label'].num_classes}\")\n",
        "    return ds_train, ds_test\n"
      ],
      "metadata": {
        "id": "devF3ZH08Zjs"
      },
      "id": "devF3ZH08Zjs",
      "execution_count": 5,
      "outputs": []
    },
    {
      "cell_type": "code",
      "source": [
        "def preprocess_image(image, label):\n",
        "    \"\"\"Resize and normalize image for MobileNetV2 [ -1, 1 ].\"\"\"\n",
        "    image = tf.image.resize(image, (IMG_SIZE, IMG_SIZE))\n",
        "    image = tf.cast(image, tf.float32)\n",
        "    # Apply MobileNetV2-specific normalization\n",
        "    image = tf.keras.applications.mobilenet_v2.preprocess_input(image)\n",
        "    return image, label\n"
      ],
      "metadata": {
        "id": "pTDdicDV8fRZ"
      },
      "id": "pTDdicDV8fRZ",
      "execution_count": 6,
      "outputs": []
    },
    {
      "cell_type": "code",
      "source": [
        "def prepare_dataset(ds, shuffle=False):\n",
        "    \"\"\"Configures dataset for performance with map, shuffle, batch, and prefetch.\"\"\"\n",
        "    ds = ds.map(preprocess_image, num_parallel_calls=tf.data.AUTOTUNE)\n",
        "    # FIXED: The ds.cache() call was removed from here.\n",
        "    # This ensures the dataset streams data from the source files instead of\n",
        "    # trying to load the entire processed dataset into RAM, resolving the crash.\n",
        "\n",
        "    if shuffle:\n",
        "        ds = ds.shuffle(buffer_size=1000)\n",
        "\n",
        "    ds = ds.batch(BATCH_SIZE)\n",
        "    ds = ds.prefetch(buffer_size=tf.data.AUTOTUNE)\n",
        "    return ds\n"
      ],
      "metadata": {
        "id": "Or1lyMjU8kQJ"
      },
      "id": "Or1lyMjU8kQJ",
      "execution_count": 7,
      "outputs": []
    },
    {
      "cell_type": "code",
      "source": [
        "def build_dog_classifier_model():\n",
        "    \"\"\"Uses MobileNetV2 for transfer learning by freezing the base and adding a new head.\"\"\"\n",
        "    print(\"Building MobileNetV2 model for transfer learning...\")\n",
        "\n",
        "    # Load MobileNetV2 base model pre-trained on ImageNet\n",
        "    base_model = MobileNetV2(\n",
        "        input_shape=(IMG_SIZE, IMG_SIZE, 3),\n",
        "        include_top=False, # Exclude the default classification head\n",
        "        weights='imagenet'\n",
        "    )\n",
        "\n",
        "    # Freeze the convolutional base\n",
        "    base_model.trainable = False\n",
        "\n",
        "    # Create the new classification layers\n",
        "    x = base_model.output\n",
        "    x = GlobalAveragePooling2D()(x) # Reduce feature maps\n",
        "    predictions = Dense(NUM_CLASSES, activation='softmax')(x) # Final classification layer\n",
        "\n",
        "    model = Model(inputs=base_model.input, outputs=predictions)\n",
        "    return model\n"
      ],
      "metadata": {
        "id": "jx3NCz0H8wMJ"
      },
      "id": "jx3NCz0H8wMJ",
      "execution_count": 8,
      "outputs": []
    },
    {
      "cell_type": "code",
      "source": [
        "def train_and_evaluate(model, train_ds, test_ds):\n",
        "    \"\"\"Compiles, fits, and evaluates the model.\"\"\"\n",
        "    print(\"Compiling model...\")\n",
        "    model.compile(\n",
        "        optimizer=tf.keras.optimizers.Adam(learning_rate=0.001),\n",
        "        loss='sparse_categorical_crossentropy',\n",
        "        metrics=['accuracy']\n",
        "    )\n",
        "\n",
        "    print(f\"Starting training for {EPOCHS} epochs...\")\n",
        "    model.fit(\n",
        "        train_ds,\n",
        "        epochs=EPOCHS,\n",
        "        validation_data=test_ds\n",
        "    )\n",
        "\n",
        "    print(\"\\nEvaluating model on test set...\")\n",
        "    loss, accuracy = model.evaluate(test_ds)\n",
        "    print(f\"Test Accuracy: {accuracy*100:.2f}%\")\n"
      ],
      "metadata": {
        "id": "J7Ti-aQo88XJ"
      },
      "id": "J7Ti-aQo88XJ",
      "execution_count": 9,
      "outputs": []
    },
    {
      "cell_type": "code",
      "source": [
        "if __name__ == '__main__':\n",
        "    try:\n",
        "        # Load and prepare raw data splits\n",
        "        ds_train_raw, ds_test_raw = load_stanford_dogs()\n",
        "\n",
        "        # Configure datasets for efficient deep learning\n",
        "        train_ds = prepare_dataset(ds_train_raw, shuffle=True)\n",
        "        test_ds = prepare_dataset(ds_test_raw)\n",
        "\n",
        "        # Build the transfer learning model\n",
        "        model = build_dog_classifier_model()\n",
        "\n",
        "        # Train and evaluate\n",
        "        train_and_evaluate(model, train_ds, test_ds)\n",
        "\n",
        "    except Exception as e:\n",
        "        print(f\"\\nAn error occurred: {e}\")\n",
        "        print(\"Ensure you have TensorFlow and TensorFlow Datasets installed.\")\n"
      ],
      "metadata": {
        "colab": {
          "base_uri": "https://localhost:8080/"
        },
        "id": "VG3YyGjP9Uey",
        "outputId": "5d27a949-31da-40de-cfdd-cc8b3bb1164e"
      },
      "id": "VG3YyGjP9Uey",
      "execution_count": 10,
      "outputs": [
        {
          "output_type": "stream",
          "name": "stdout",
          "text": [
            "Loading Stanford Dogs dataset...\n",
            "Dataset loaded. Total classes: 120\n",
            "Building MobileNetV2 model for transfer learning...\n",
            "Compiling model...\n",
            "Starting training for 3 epochs...\n",
            "Epoch 1/3\n",
            "\u001b[1m750/750\u001b[0m \u001b[32m━━━━━━━━━━━━━━━━━━━━\u001b[0m\u001b[37m\u001b[0m \u001b[1m69s\u001b[0m 67ms/step - accuracy: 0.5713 - loss: 1.8611 - val_accuracy: 0.8079 - val_loss: 0.6109\n",
            "Epoch 2/3\n",
            "\u001b[1m750/750\u001b[0m \u001b[32m━━━━━━━━━━━━━━━━━━━━\u001b[0m\u001b[37m\u001b[0m \u001b[1m38s\u001b[0m 48ms/step - accuracy: 0.8905 - loss: 0.3535 - val_accuracy: 0.8190 - val_loss: 0.5730\n",
            "Epoch 3/3\n",
            "\u001b[1m750/750\u001b[0m \u001b[32m━━━━━━━━━━━━━━━━━━━━\u001b[0m\u001b[37m\u001b[0m \u001b[1m41s\u001b[0m 49ms/step - accuracy: 0.9373 - loss: 0.2142 - val_accuracy: 0.8197 - val_loss: 0.5758\n",
            "\n",
            "Evaluating model on test set...\n",
            "\u001b[1m537/537\u001b[0m \u001b[32m━━━━━━━━━━━━━━━━━━━━\u001b[0m\u001b[37m\u001b[0m \u001b[1m14s\u001b[0m 27ms/step - accuracy: 0.8259 - loss: 0.5665\n",
            "Test Accuracy: 81.97%\n"
          ]
        }
      ]
    }
  ],
  "metadata": {
    "language_info": {
      "name": "python"
    },
    "colab": {
      "provenance": [],
      "gpuType": "T4"
    },
    "accelerator": "GPU",
    "kernelspec": {
      "name": "python3",
      "display_name": "Python 3"
    }
  },
  "nbformat": 4,
  "nbformat_minor": 5
}