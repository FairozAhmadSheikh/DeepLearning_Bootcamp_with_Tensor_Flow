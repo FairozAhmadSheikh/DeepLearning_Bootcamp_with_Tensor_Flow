{
  "cells": [
    {
      "cell_type": "code",
      "execution_count": 1,
      "id": "8da80bdc",
      "metadata": {
        "id": "8da80bdc"
      },
      "outputs": [],
      "source": [
        "import tensorflow as tf"
      ]
    },
    {
      "cell_type": "code",
      "execution_count": 2,
      "id": "03719a55",
      "metadata": {
        "id": "03719a55"
      },
      "outputs": [],
      "source": [
        "from tensorflow.keras import layers"
      ]
    },
    {
      "cell_type": "code",
      "execution_count": 3,
      "id": "a1bb10c1",
      "metadata": {
        "colab": {
          "base_uri": "https://localhost:8080/"
        },
        "id": "a1bb10c1",
        "outputId": "c1e76f21-c084-4d9b-8d8f-4aa3921ddd84"
      },
      "outputs": [
        {
          "output_type": "stream",
          "name": "stdout",
          "text": [
            "--2025-10-06 04:31:21--  https://raw.githubusercontent.com/FairozAhmadSheikh/DeepLearning_Bootcamp_with_Tensor_Flow/refs/heads/main/helper_functions/helper_functions.py\n",
            "Resolving raw.githubusercontent.com (raw.githubusercontent.com)... 185.199.108.133, 185.199.109.133, 185.199.110.133, ...\n",
            "Connecting to raw.githubusercontent.com (raw.githubusercontent.com)|185.199.108.133|:443... connected.\n",
            "HTTP request sent, awaiting response... 200 OK\n",
            "Length: 6733 (6.6K) [text/plain]\n",
            "Saving to: ‘helper_functions.py’\n",
            "\n",
            "\rhelper_functions.py   0%[                    ]       0  --.-KB/s               \rhelper_functions.py 100%[===================>]   6.58K  --.-KB/s    in 0s      \n",
            "\n",
            "2025-10-06 04:31:21 (88.6 MB/s) - ‘helper_functions.py’ saved [6733/6733]\n",
            "\n"
          ]
        }
      ],
      "source": [
        "!wget https://raw.githubusercontent.com/FairozAhmadSheikh/DeepLearning_Bootcamp_with_Tensor_Flow/refs/heads/main/helper_functions/helper_functions.py"
      ]
    },
    {
      "cell_type": "code",
      "source": [
        "from helper_functions import *"
      ],
      "metadata": {
        "id": "Lskklzsho3x7"
      },
      "id": "Lskklzsho3x7",
      "execution_count": 4,
      "outputs": []
    },
    {
      "cell_type": "code",
      "source": [
        "import tensorflow_datasets as tfds"
      ],
      "metadata": {
        "id": "uJyS4C-Lo6Xa"
      },
      "id": "uJyS4C-Lo6Xa",
      "execution_count": 5,
      "outputs": []
    },
    {
      "cell_type": "code",
      "source": [
        "datasets=tfds.list_builders()"
      ],
      "metadata": {
        "id": "VDvFF9uNpDZO"
      },
      "id": "VDvFF9uNpDZO",
      "execution_count": 6,
      "outputs": []
    },
    {
      "cell_type": "code",
      "source": [
        "len(datasets)"
      ],
      "metadata": {
        "colab": {
          "base_uri": "https://localhost:8080/"
        },
        "id": "R0eKlUntpGi9",
        "outputId": "2952f34f-8d23-4b75-af29-ecd160373853"
      },
      "id": "R0eKlUntpGi9",
      "execution_count": 8,
      "outputs": [
        {
          "output_type": "execute_result",
          "data": {
            "text/plain": [
              "1314"
            ]
          },
          "metadata": {},
          "execution_count": 8
        }
      ]
    },
    {
      "cell_type": "code",
      "source": [
        "(train_data,test_data),ds_info=tfds.load('cifar100',shuffle_files=True,as_supervised=True,with_info=True,split=['train','test'])"
      ],
      "metadata": {
        "id": "LfiNWCorp6kN"
      },
      "id": "LfiNWCorp6kN",
      "execution_count": 13,
      "outputs": []
    },
    {
      "cell_type": "code",
      "source": [
        "ds_info.features"
      ],
      "metadata": {
        "colab": {
          "base_uri": "https://localhost:8080/"
        },
        "id": "l7gTlLWlqcf2",
        "outputId": "4ea9b1f9-0476-4b45-8c09-12a98d334dab"
      },
      "id": "l7gTlLWlqcf2",
      "execution_count": 14,
      "outputs": [
        {
          "output_type": "execute_result",
          "data": {
            "text/plain": [
              "FeaturesDict({\n",
              "    'coarse_label': ClassLabel(shape=(), dtype=int64, num_classes=20),\n",
              "    'id': Text(shape=(), dtype=string),\n",
              "    'image': Image(shape=(32, 32, 3), dtype=uint8),\n",
              "    'label': ClassLabel(shape=(), dtype=int64, num_classes=100),\n",
              "})"
            ]
          },
          "metadata": {},
          "execution_count": 14
        }
      ]
    },
    {
      "cell_type": "code",
      "source": [
        "class_names=ds_info.features['label'].names"
      ],
      "metadata": {
        "id": "o4SDuE8TrKn6"
      },
      "id": "o4SDuE8TrKn6",
      "execution_count": 17,
      "outputs": []
    },
    {
      "cell_type": "code",
      "source": [
        "class_names[:10]"
      ],
      "metadata": {
        "colab": {
          "base_uri": "https://localhost:8080/"
        },
        "id": "-1rbT_kIrRsQ",
        "outputId": "bd5f203c-8328-4899-dab3-5d092f70adcc"
      },
      "id": "-1rbT_kIrRsQ",
      "execution_count": 18,
      "outputs": [
        {
          "output_type": "execute_result",
          "data": {
            "text/plain": [
              "['apple',\n",
              " 'aquarium_fish',\n",
              " 'baby',\n",
              " 'bear',\n",
              " 'beaver',\n",
              " 'bed',\n",
              " 'bee',\n",
              " 'beetle',\n",
              " 'bicycle',\n",
              " 'bottle']"
            ]
          },
          "metadata": {},
          "execution_count": 18
        }
      ]
    },
    {
      "cell_type": "code",
      "source": [
        "train_one_sample=train_data.take(1)\n",
        "train_one_sample"
      ],
      "metadata": {
        "colab": {
          "base_uri": "https://localhost:8080/"
        },
        "id": "SwHEKticrUh2",
        "outputId": "14a8a66f-5ba1-46a8-dc6a-ce6634e319e5"
      },
      "id": "SwHEKticrUh2",
      "execution_count": 32,
      "outputs": [
        {
          "output_type": "execute_result",
          "data": {
            "text/plain": [
              "<_TakeDataset element_spec=(TensorSpec(shape=(32, 32, 3), dtype=tf.uint8, name=None), TensorSpec(shape=(), dtype=tf.int64, name=None))>"
            ]
          },
          "metadata": {},
          "execution_count": 32
        }
      ]
    },
    {
      "cell_type": "code",
      "source": [
        "for image, label in train_one_sample:\n",
        "  print(f'''\n",
        "  Image Shape: {image.shape},\n",
        "  Image Dtype: {image.dtype},\n",
        "  Target class from cifar100 : {label},\n",
        "  Classname (str form) : {class_names[label.numpy()]}\n",
        "  ''')"
      ],
      "metadata": {
        "colab": {
          "base_uri": "https://localhost:8080/"
        },
        "id": "H4gD-zKNrt_u",
        "outputId": "a81f6370-5dca-4eda-e67a-3f6bee189037"
      },
      "id": "H4gD-zKNrt_u",
      "execution_count": 33,
      "outputs": [
        {
          "output_type": "stream",
          "name": "stdout",
          "text": [
            "\n",
            "  Image Shape: (32, 32, 3),\n",
            "  Image Dtype: <dtype: 'uint8'>,\n",
            "  Target class from cifar100 : 66,\n",
            "  Classname (str form) : raccoon\n",
            "  \n"
          ]
        }
      ]
    },
    {
      "cell_type": "code",
      "source": [
        "image"
      ],
      "metadata": {
        "colab": {
          "base_uri": "https://localhost:8080/"
        },
        "id": "VOVCNG40sWyD",
        "outputId": "8fe2d91e-0f9b-47c3-96af-7ba62b3ed786"
      },
      "id": "VOVCNG40sWyD",
      "execution_count": 21,
      "outputs": [
        {
          "output_type": "execute_result",
          "data": {
            "text/plain": [
              "<tf.Tensor: shape=(32, 32, 3), dtype=uint8, numpy=\n",
              "array([[[151, 154, 145],\n",
              "        [144, 147, 135],\n",
              "        [141, 143, 134],\n",
              "        ...,\n",
              "        [ 44,  38,  39],\n",
              "        [112, 100,  96],\n",
              "        [145, 127, 120]],\n",
              "\n",
              "       [[153, 156, 150],\n",
              "        [141, 144, 135],\n",
              "        [139, 142, 136],\n",
              "        ...,\n",
              "        [ 68,  59,  59],\n",
              "        [131, 113, 106],\n",
              "        [121, 101,  94]],\n",
              "\n",
              "       [[163, 165, 161],\n",
              "        [150, 153, 145],\n",
              "        [147, 149, 144],\n",
              "        ...,\n",
              "        [ 75,  66,  60],\n",
              "        [101,  86,  77],\n",
              "        [ 83,  77,  73]],\n",
              "\n",
              "       ...,\n",
              "\n",
              "       [[150, 150, 162],\n",
              "        [ 51,  52,  67],\n",
              "        [ 46,  42,  56],\n",
              "        ...,\n",
              "        [ 60,  59,  48],\n",
              "        [ 71,  73,  56],\n",
              "        [ 58,  62,  44]],\n",
              "\n",
              "       [[146, 158, 168],\n",
              "        [ 92, 106, 116],\n",
              "        [ 73,  77,  85],\n",
              "        ...,\n",
              "        [ 54,  55,  40],\n",
              "        [ 59,  66,  41],\n",
              "        [ 52,  56,  28]],\n",
              "\n",
              "       [[ 92,  95, 105],\n",
              "        [ 86,  90, 100],\n",
              "        [ 77,  74,  82],\n",
              "        ...,\n",
              "        [ 59,  61,  44],\n",
              "        [ 44,  49,  26],\n",
              "        [ 51,  53,  27]]], dtype=uint8)>"
            ]
          },
          "metadata": {},
          "execution_count": 21
        }
      ]
    },
    {
      "cell_type": "code",
      "source": [
        "import tensorflow as tf\n",
        "tf.reduce_min(image),tf.reduce_max(image)"
      ],
      "metadata": {
        "colab": {
          "base_uri": "https://localhost:8080/"
        },
        "id": "UjsJfdZHtAq1",
        "outputId": "50843048-f301-4fef-ba34-baf38dc0283b"
      },
      "id": "UjsJfdZHtAq1",
      "execution_count": 22,
      "outputs": [
        {
          "output_type": "execute_result",
          "data": {
            "text/plain": [
              "(<tf.Tensor: shape=(), dtype=uint8, numpy=1>,\n",
              " <tf.Tensor: shape=(), dtype=uint8, numpy=241>)"
            ]
          },
          "metadata": {},
          "execution_count": 22
        }
      ]
    },
    {
      "cell_type": "code",
      "source": [
        "# Plot image now\n",
        "import matplotlib.pyplot as plt\n",
        "plt.imshow(image)\n",
        "plt.title(class_names[label.numpy()])\n",
        "plt.axis(False)"
      ],
      "metadata": {
        "colab": {
          "base_uri": "https://localhost:8080/",
          "height": 445
        },
        "id": "q9zjLXGxtIqj",
        "outputId": "298117bd-0549-4907-e6a9-d8f739862464"
      },
      "id": "q9zjLXGxtIqj",
      "execution_count": 34,
      "outputs": [
        {
          "output_type": "execute_result",
          "data": {
            "text/plain": [
              "(np.float64(-0.5), np.float64(31.5), np.float64(31.5), np.float64(-0.5))"
            ]
          },
          "metadata": {},
          "execution_count": 34
        },
        {
          "output_type": "display_data",
          "data": {
            "text/plain": [
              "<Figure size 640x480 with 1 Axes>"
            ],
            "image/png": "[encoded data removed]"
          },
          "metadata": {}
        }
      ]
    },
    {
      "cell_type": "code",
      "source": [
        "# Creating a preprocessing function now\n",
        "def preprocess_img(image,label,img_shape=32):\n",
        "    image=tf.image.resize(image,[img_shape,img_shape])\n",
        "    return tf.cast(image,tf.float32),label"
      ],
      "metadata": {
        "id": "5CC0FgaStm-o"
      },
      "id": "5CC0FgaStm-o",
      "execution_count": 35,
      "outputs": []
    },
    {
      "cell_type": "code",
      "source": [
        "preprocessed_image=preprocess_img(image=image,label=label,img_shape=32)[0]\n",
        "print(f'image before preprocessing {image[:2]}....\\n  , Image Shape : {image.shape} \\n Data Type : {image.dtype}')\n",
        "print(f'image after preprocessing {preprocessed_image[:2]}....\\n  , Image Shape : {preprocessed_image.shape} \\n Data Type : {preprocessed_image.dtype}')"
      ],
      "metadata": {
        "colab": {
          "base_uri": "https://localhost:8080/"
        },
        "id": "B9iAHfKvuIgO",
        "outputId": "ec6ddf85-f7e5-4633-a2ed-dd9d8ed2b73f"
      },
      "id": "B9iAHfKvuIgO",
      "execution_count": 36,
      "outputs": [
        {
          "output_type": "stream",
          "name": "stdout",
          "text": [
            "image before preprocessing [[[151 154 145]\n",
            "  [144 147 135]\n",
            "  [141 143 134]\n",
            "  [131 135 130]\n",
            "  [126 132 129]\n",
            "  [149 153 146]\n",
            "  [189 189 182]\n",
            "  [170 165 163]\n",
            "  [102  99 106]\n",
            "  [ 41  48  61]\n",
            "  [ 39  45  53]\n",
            "  [ 36  41  43]\n",
            "  [ 36  39  35]\n",
            "  [ 29  31  32]\n",
            "  [ 25  27  28]\n",
            "  [ 26  29  20]\n",
            "  [117 122 104]\n",
            "  [160 163 146]\n",
            "  [158 146 132]\n",
            "  [147 126 111]\n",
            "  [146 126 112]\n",
            "  [145 131 121]\n",
            "  [136 129 126]\n",
            "  [133 133 135]\n",
            "  [142 143 148]\n",
            "  [144 144 151]\n",
            "  [136 136 145]\n",
            "  [130 130 139]\n",
            "  [ 83  83  88]\n",
            "  [ 44  38  39]\n",
            "  [112 100  96]\n",
            "  [145 127 120]]\n",
            "\n",
            " [[153 156 150]\n",
            "  [141 144 135]\n",
            "  [139 142 136]\n",
            "  [133 135 134]\n",
            "  [134 135 135]\n",
            "  [155 156 153]\n",
            "  [172 173 171]\n",
            "  [141 138 145]\n",
            "  [ 62  63  78]\n",
            "  [ 32  41  57]\n",
            "  [ 35  43  53]\n",
            "  [ 24  31  34]\n",
            "  [ 23  29  24]\n",
            "  [ 23  25  28]\n",
            "  [ 12  12  15]\n",
            "  [ 63  66  54]\n",
            "  [157 163 138]\n",
            "  [157 163 136]\n",
            "  [154 159 134]\n",
            "  [154 154 130]\n",
            "  [156 153 130]\n",
            "  [153 153 136]\n",
            "  [142 147 137]\n",
            "  [127 129 132]\n",
            "  [128 128 134]\n",
            "  [132 132 140]\n",
            "  [138 138 149]\n",
            "  [118 120 132]\n",
            "  [ 48  51  60]\n",
            "  [ 68  59  59]\n",
            "  [131 113 106]\n",
            "  [121 101  94]]]....\n",
            "  , Image Shape : (32, 32, 3) \n",
            " Data Type : <dtype: 'uint8'>\n",
            "image after preprocessing [[[151. 154. 145.]\n",
            "  [144. 147. 135.]\n",
            "  [141. 143. 134.]\n",
            "  [131. 135. 130.]\n",
            "  [126. 132. 129.]\n",
            "  [149. 153. 146.]\n",
            "  [189. 189. 182.]\n",
            "  [170. 165. 163.]\n",
            "  [102.  99. 106.]\n",
            "  [ 41.  48.  61.]\n",
            "  [ 39.  45.  53.]\n",
            "  [ 36.  41.  43.]\n",
            "  [ 36.  39.  35.]\n",
            "  [ 29.  31.  32.]\n",
            "  [ 25.  27.  28.]\n",
            "  [ 26.  29.  20.]\n",
            "  [117. 122. 104.]\n",
            "  [160. 163. 146.]\n",
            "  [158. 146. 132.]\n",
            "  [147. 126. 111.]\n",
            "  [146. 126. 112.]\n",
            "  [145. 131. 121.]\n",
            "  [136. 129. 126.]\n",
            "  [133. 133. 135.]\n",
            "  [142. 143. 148.]\n",
            "  [144. 144. 151.]\n",
            "  [136. 136. 145.]\n",
            "  [130. 130. 139.]\n",
            "  [ 83.  83.  88.]\n",
            "  [ 44.  38.  39.]\n",
            "  [112. 100.  96.]\n",
            "  [145. 127. 120.]]\n",
            "\n",
            " [[153. 156. 150.]\n",
            "  [141. 144. 135.]\n",
            "  [139. 142. 136.]\n",
            "  [133. 135. 134.]\n",
            "  [134. 135. 135.]\n",
            "  [155. 156. 153.]\n",
            "  [172. 173. 171.]\n",
            "  [141. 138. 145.]\n",
            "  [ 62.  63.  78.]\n",
            "  [ 32.  41.  57.]\n",
            "  [ 35.  43.  53.]\n",
            "  [ 24.  31.  34.]\n",
            "  [ 23.  29.  24.]\n",
            "  [ 23.  25.  28.]\n",
            "  [ 12.  12.  15.]\n",
            "  [ 63.  66.  54.]\n",
            "  [157. 163. 138.]\n",
            "  [157. 163. 136.]\n",
            "  [154. 159. 134.]\n",
            "  [154. 154. 130.]\n",
            "  [156. 153. 130.]\n",
            "  [153. 153. 136.]\n",
            "  [142. 147. 137.]\n",
            "  [127. 129. 132.]\n",
            "  [128. 128. 134.]\n",
            "  [132. 132. 140.]\n",
            "  [138. 138. 149.]\n",
            "  [118. 120. 132.]\n",
            "  [ 48.  51.  60.]\n",
            "  [ 68.  59.  59.]\n",
            "  [131. 113. 106.]\n",
            "  [121. 101.  94.]]]....\n",
            "  , Image Shape : (32, 32, 3) \n",
            " Data Type : <dtype: 'float32'>\n"
          ]
        }
      ]
    },
    {
      "cell_type": "code",
      "source": [
        "train_data=train_data.map(map_func=preprocess_img,num_parallel_calls=tf.data.AUTOTUNE)\n",
        "train_data=train_data.shuffle(buffer_size=1000).batch(batch_size=32).prefetch(buffer_size=tf.data.AUTOTUNE)"
      ],
      "metadata": {
        "id": "PqVRMwZUu2Ml"
      },
      "id": "PqVRMwZUu2Ml",
      "execution_count": 38,
      "outputs": []
    },
    {
      "cell_type": "code",
      "source": [
        "test_data=test_data.map(map_func=preprocess_img).batch(batch_size=32).prefetch(buffer_size=tf.data.AUTOTUNE)"
      ],
      "metadata": {
        "id": "3O52wiZ7vizM"
      },
      "id": "3O52wiZ7vizM",
      "execution_count": 39,
      "outputs": []
    },
    {
      "cell_type": "code",
      "source": [
        "train_data,test_data"
      ],
      "metadata": {
        "colab": {
          "base_uri": "https://localhost:8080/"
        },
        "id": "IOFD5fmFv07h",
        "outputId": "dee5135f-0415-4449-833f-0e88ddf97660"
      },
      "id": "IOFD5fmFv07h",
      "execution_count": 40,
      "outputs": [
        {
          "output_type": "execute_result",
          "data": {
            "text/plain": [
              "(<_PrefetchDataset element_spec=(TensorSpec(shape=(None, 32, 32, 3), dtype=tf.float32, name=None), TensorSpec(shape=(None,), dtype=tf.int64, name=None))>,\n",
              " <_PrefetchDataset element_spec=(TensorSpec(shape=(None, 32, 32, 3), dtype=tf.float32, name=None), TensorSpec(shape=(None,), dtype=tf.int64, name=None))>)"
            ]
          },
          "metadata": {},
          "execution_count": 40
        }
      ]
    },
    {
      "cell_type": "code",
      "source": [
        "# Create a Model Checkpoint\n",
        "check_point_path='model_checkpoints/v1_checkpoint.weights.h5'\n",
        "model_check_point=tf.keras.callbacks.ModelCheckpoint(filepath=check_point_path,monitor='val_loss',\n",
        "                                                     save_best_only=True,save_weights_only=True)"
      ],
      "metadata": {
        "id": "_-UlBO6Uv7CK"
      },
      "id": "_-UlBO6Uv7CK",
      "execution_count": 41,
      "outputs": []
    },
    {
      "cell_type": "code",
      "source": [],
      "metadata": {
        "id": "1OMK68mNw3tU"
      },
      "id": "1OMK68mNw3tU",
      "execution_count": null,
      "outputs": []
    }
  ],
  "metadata": {
    "kernelspec": {
      "display_name": "Python 3",
      "name": "python3"
    },
    "language_info": {
      "codemirror_mode": {
        "name": "ipython",
        "version": 3
      },
      "file_extension": ".py",
      "mimetype": "text/x-python",
      "name": "python",
      "nbconvert_exporter": "python",
      "pygments_lexer": "ipython3",
      "version": "3.13.5"
    },
    "colab": {
      "provenance": [],
      "gpuType": "T4"
    },
    "accelerator": "GPU"
  },
  "nbformat": 4,
  "nbformat_minor": 5
}