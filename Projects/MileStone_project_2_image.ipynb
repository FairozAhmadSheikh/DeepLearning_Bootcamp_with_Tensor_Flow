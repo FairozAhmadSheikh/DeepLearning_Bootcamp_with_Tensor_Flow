{
  "cells": [
    {
      "cell_type": "code",
      "execution_count": 1,
      "id": "8da80bdc",
      "metadata": {
        "id": "8da80bdc"
      },
      "outputs": [],
      "source": [
        "import tensorflow as tf"
      ]
    },
    {
      "cell_type": "code",
      "execution_count": 2,
      "id": "03719a55",
      "metadata": {
        "id": "03719a55"
      },
      "outputs": [],
      "source": [
        "from tensorflow.keras import layers"
      ]
    },
    {
      "cell_type": "code",
      "execution_count": 3,
      "id": "a1bb10c1",
      "metadata": {
        "colab": {
          "base_uri": "https://localhost:8080/"
        },
        "id": "a1bb10c1",
        "outputId": "c1e76f21-c084-4d9b-8d8f-4aa3921ddd84"
      },
      "outputs": [
        {
          "output_type": "stream",
          "name": "stdout",
          "text": [
            "--2025-10-06 04:31:21--  https://raw.githubusercontent.com/FairozAhmadSheikh/DeepLearning_Bootcamp_with_Tensor_Flow/refs/heads/main/helper_functions/helper_functions.py\n",
            "Resolving raw.githubusercontent.com (raw.githubusercontent.com)... 185.199.108.133, 185.199.109.133, 185.199.110.133, ...\n",
            "Connecting to raw.githubusercontent.com (raw.githubusercontent.com)|185.199.108.133|:443... connected.\n",
            "HTTP request sent, awaiting response... 200 OK\n",
            "Length: 6733 (6.6K) [text/plain]\n",
            "Saving to: ‘helper_functions.py’\n",
            "\n",
            "\rhelper_functions.py   0%[                    ]       0  --.-KB/s               \rhelper_functions.py 100%[===================>]   6.58K  --.-KB/s    in 0s      \n",
            "\n",
            "2025-10-06 04:31:21 (88.6 MB/s) - ‘helper_functions.py’ saved [6733/6733]\n",
            "\n"
          ]
        }
      ],
      "source": [
        "!wget https://raw.githubusercontent.com/FairozAhmadSheikh/DeepLearning_Bootcamp_with_Tensor_Flow/refs/heads/main/helper_functions/helper_functions.py"
      ]
    },
    {
      "cell_type": "code",
      "source": [
        "from helper_functions import *"
      ],
      "metadata": {
        "id": "Lskklzsho3x7"
      },
      "id": "Lskklzsho3x7",
      "execution_count": 4,
      "outputs": []
    },
    {
      "cell_type": "code",
      "source": [
        "import tensorflow_datasets as tfds"
      ],
      "metadata": {
        "id": "uJyS4C-Lo6Xa"
      },
      "id": "uJyS4C-Lo6Xa",
      "execution_count": 5,
      "outputs": []
    },
    {
      "cell_type": "code",
      "source": [
        "datasets=tfds.list_builders()"
      ],
      "metadata": {
        "id": "VDvFF9uNpDZO"
      },
      "id": "VDvFF9uNpDZO",
      "execution_count": 6,
      "outputs": []
    },
    {
      "cell_type": "code",
      "source": [
        "len(datasets)"
      ],
      "metadata": {
        "colab": {
          "base_uri": "https://localhost:8080/"
        },
        "id": "R0eKlUntpGi9",
        "outputId": "2952f34f-8d23-4b75-af29-ecd160373853"
      },
      "id": "R0eKlUntpGi9",
      "execution_count": 8,
      "outputs": [
        {
          "output_type": "execute_result",
          "data": {
            "text/plain": [
              "1314"
            ]
          },
          "metadata": {},
          "execution_count": 8
        }
      ]
    },
    {
      "cell_type": "code",
      "source": [
        "(train_data,test_data),ds_info=tfds.load('cifar100',shuffle_files=True,as_supervised=True,with_info=True,split=['train','test'])"
      ],
      "metadata": {
        "id": "LfiNWCorp6kN"
      },
      "id": "LfiNWCorp6kN",
      "execution_count": 13,
      "outputs": []
    },
    {
      "cell_type": "code",
      "source": [
        "ds_info.features"
      ],
      "metadata": {
        "colab": {
          "base_uri": "https://localhost:8080/"
        },
        "id": "l7gTlLWlqcf2",
        "outputId": "4ea9b1f9-0476-4b45-8c09-12a98d334dab"
      },
      "id": "l7gTlLWlqcf2",
      "execution_count": 14,
      "outputs": [
        {
          "output_type": "execute_result",
          "data": {
            "text/plain": [
              "FeaturesDict({\n",
              "    'coarse_label': ClassLabel(shape=(), dtype=int64, num_classes=20),\n",
              "    'id': Text(shape=(), dtype=string),\n",
              "    'image': Image(shape=(32, 32, 3), dtype=uint8),\n",
              "    'label': ClassLabel(shape=(), dtype=int64, num_classes=100),\n",
              "})"
            ]
          },
          "metadata": {},
          "execution_count": 14
        }
      ]
    },
    {
      "cell_type": "code",
      "source": [
        "class_names=ds_info.features['label'].names"
      ],
      "metadata": {
        "id": "o4SDuE8TrKn6"
      },
      "id": "o4SDuE8TrKn6",
      "execution_count": 17,
      "outputs": []
    },
    {
      "cell_type": "code",
      "source": [
        "class_names[:10]"
      ],
      "metadata": {
        "colab": {
          "base_uri": "https://localhost:8080/"
        },
        "id": "-1rbT_kIrRsQ",
        "outputId": "bd5f203c-8328-4899-dab3-5d092f70adcc"
      },
      "id": "-1rbT_kIrRsQ",
      "execution_count": 18,
      "outputs": [
        {
          "output_type": "execute_result",
          "data": {
            "text/plain": [
              "['apple',\n",
              " 'aquarium_fish',\n",
              " 'baby',\n",
              " 'bear',\n",
              " 'beaver',\n",
              " 'bed',\n",
              " 'bee',\n",
              " 'beetle',\n",
              " 'bicycle',\n",
              " 'bottle']"
            ]
          },
          "metadata": {},
          "execution_count": 18
        }
      ]
    },
    {
      "cell_type": "code",
      "source": [
        "train_one_sample=train_data.take(1)\n",
        "train_one_sample"
      ],
      "metadata": {
        "colab": {
          "base_uri": "https://localhost:8080/"
        },
        "id": "SwHEKticrUh2",
        "outputId": "14a8a66f-5ba1-46a8-dc6a-ce6634e319e5"
      },
      "id": "SwHEKticrUh2",
      "execution_count": 32,
      "outputs": [
        {
          "output_type": "execute_result",
          "data": {
            "text/plain": [
              "<_TakeDataset element_spec=(TensorSpec(shape=(32, 32, 3), dtype=tf.uint8, name=None), TensorSpec(shape=(), dtype=tf.int64, name=None))>"
            ]
          },
          "metadata": {},
          "execution_count": 32
        }
      ]
    },
    {
      "cell_type": "code",
      "source": [
        "for image, label in train_one_sample:\n",
        "  print(f'''\n",
        "  Image Shape: {image.shape},\n",
        "  Image Dtype: {image.dtype},\n",
        "  Target class from cifar100 : {label},\n",
        "  Classname (str form) : {class_names[label.numpy()]}\n",
        "  ''')"
      ],
      "metadata": {
        "colab": {
          "base_uri": "https://localhost:8080/"
        },
        "id": "H4gD-zKNrt_u",
        "outputId": "a81f6370-5dca-4eda-e67a-3f6bee189037"
      },
      "id": "H4gD-zKNrt_u",
      "execution_count": 33,
      "outputs": [
        {
          "output_type": "stream",
          "name": "stdout",
          "text": [
            "\n",
            "  Image Shape: (32, 32, 3),\n",
            "  Image Dtype: <dtype: 'uint8'>,\n",
            "  Target class from cifar100 : 66,\n",
            "  Classname (str form) : raccoon\n",
            "  \n"
          ]
        }
      ]
    },
    {
      "cell_type": "code",
      "source": [
        "image"
      ],
      "metadata": {
        "colab": {
          "base_uri": "https://localhost:8080/"
        },
        "id": "VOVCNG40sWyD",
        "outputId": "8fe2d91e-0f9b-47c3-96af-7ba62b3ed786"
      },
      "id": "VOVCNG40sWyD",
      "execution_count": 21,
      "outputs": [
        {
          "output_type": "execute_result",
          "data": {
            "text/plain": [
              "<tf.Tensor: shape=(32, 32, 3), dtype=uint8, numpy=\n",
              "array([[[151, 154, 145],\n",
              "        [144, 147, 135],\n",
              "        [141, 143, 134],\n",
              "        ...,\n",
              "        [ 44,  38,  39],\n",
              "        [112, 100,  96],\n",
              "        [145, 127, 120]],\n",
              "\n",
              "       [[153, 156, 150],\n",
              "        [141, 144, 135],\n",
              "        [139, 142, 136],\n",
              "        ...,\n",
              "        [ 68,  59,  59],\n",
              "        [131, 113, 106],\n",
              "        [121, 101,  94]],\n",
              "\n",
              "       [[163, 165, 161],\n",
              "        [150, 153, 145],\n",
              "        [147, 149, 144],\n",
              "        ...,\n",
              "        [ 75,  66,  60],\n",
              "        [101,  86,  77],\n",
              "        [ 83,  77,  73]],\n",
              "\n",
              "       ...,\n",
              "\n",
              "       [[150, 150, 162],\n",
              "        [ 51,  52,  67],\n",
              "        [ 46,  42,  56],\n",
              "        ...,\n",
              "        [ 60,  59,  48],\n",
              "        [ 71,  73,  56],\n",
              "        [ 58,  62,  44]],\n",
              "\n",
              "       [[146, 158, 168],\n",
              "        [ 92, 106, 116],\n",
              "        [ 73,  77,  85],\n",
              "        ...,\n",
              "        [ 54,  55,  40],\n",
              "        [ 59,  66,  41],\n",
              "        [ 52,  56,  28]],\n",
              "\n",
              "       [[ 92,  95, 105],\n",
              "        [ 86,  90, 100],\n",
              "        [ 77,  74,  82],\n",
              "        ...,\n",
              "        [ 59,  61,  44],\n",
              "        [ 44,  49,  26],\n",
              "        [ 51,  53,  27]]], dtype=uint8)>"
            ]
          },
          "metadata": {},
          "execution_count": 21
        }
      ]
    },
    {
      "cell_type": "code",
      "source": [
        "import tensorflow as tf\n",
        "tf.reduce_min(image),tf.reduce_max(image)"
      ],
      "metadata": {
        "colab": {
          "base_uri": "https://localhost:8080/"
        },
        "id": "UjsJfdZHtAq1",
        "outputId": "50843048-f301-4fef-ba34-baf38dc0283b"
      },
      "id": "UjsJfdZHtAq1",
      "execution_count": 22,
      "outputs": [
        {
          "output_type": "execute_result",
          "data": {
            "text/plain": [
              "(<tf.Tensor: shape=(), dtype=uint8, numpy=1>,\n",
              " <tf.Tensor: shape=(), dtype=uint8, numpy=241>)"
            ]
          },
          "metadata": {},
          "execution_count": 22
        }
      ]
    },
    {
      "cell_type": "code",
      "source": [
        "# Plot image now\n",
        "import matplotlib.pyplot as plt\n",
        "plt.imshow(image)\n",
        "plt.title(class_names[label.numpy()])\n",
        "plt.axis(False)"
      ],
      "metadata": {
        "colab": {
          "base_uri": "https://localhost:8080/",
          "height": 445
        },
        "id": "q9zjLXGxtIqj",
        "outputId": "298117bd-0549-4907-e6a9-d8f739862464"
      },
      "id": "q9zjLXGxtIqj",
      "execution_count": 34,
      "outputs": [
        {
          "output_type": "execute_result",
          "data": {
            "text/plain": [
              "(np.float64(-0.5), np.float64(31.5), np.float64(31.5), np.float64(-0.5))"
            ]
          },
          "metadata": {},
          "execution_count": 34
        },
        {
          "output_type": "display_data",
          "data": {
            "text/plain": [
              "<Figure size 640x480 with 1 Axes>"
            ],
            "image/png": "[encoded data removed]"
          },
          "metadata": {}
        }
      ]
    },
    {
      "cell_type": "code",
      "source": [
        "# Creating a preprocessing function now\n",
        "def preprocess_img(image,label,img_shape=32):\n",
        "    image=tf.image.resize(image,[img_shape,img_shape])\n",
        "    return tf.cast(image,tf.float32),label"
      ],
      "metadata": {
        "id": "5CC0FgaStm-o"
      },
      "id": "5CC0FgaStm-o",
      "execution_count": 35,
      "outputs": []
    },
    {
      "cell_type": "code",
      "source": [
        "preprocessed_image=preprocess_img(image=image,label=label,img_shape=32)[0]\n",
        "print(f'image before preprocessing {image[:2]}....\\n  , Image Shape : {image.shape} \\n Data Type : {image.dtype}')\n",
        "print(f'image after preprocessing {preprocessed_image[:2]}....\\n  , Image Shape : {preprocessed_image.shape} \\n Data Type : {preprocessed_image.dtype}')"
      ],
      "metadata": {
        "colab": {
          "base_uri": "https://localhost:8080/"
        },
        "id": "B9iAHfKvuIgO",
        "outputId": "ec6ddf85-f7e5-4633-a2ed-dd9d8ed2b73f"
      },
      "id": "B9iAHfKvuIgO",
      "execution_count": 36,
      "outputs": [
        {
          "output_type": "stream",
          "name": "stdout",
          "text": [
            "image before preprocessing [[[151 154 145]\n",
            "  [144 147 135]\n",
            "  [141 143 134]\n",
            "  [131 135 130]\n",
            "  [126 132 129]\n",
            "  [149 153 146]\n",
            "  [189 189 182]\n",
            "  [170 165 163]\n",
            "  [102  99 106]\n",
            "  [ 41  48  61]\n",
            "  [ 39  45  53]\n",
            "  [ 36  41  43]\n",
            "  [ 36  39  35]\n",
            "  [ 29  31  32]\n",
            "  [ 25  27  28]\n",
            "  [ 26  29  20]\n",
            "  [117 122 104]\n",
            "  [160 163 146]\n",
            "  [158 146 132]\n",
            "  [147 126 111]\n",
            "  [146 126 112]\n",
            "  [145 131 121]\n",
            "  [136 129 126]\n",
            "  [133 133 135]\n",
            "  [142 143 148]\n",
            "  [144 144 151]\n",
            "  [136 136 145]\n",
            "  [130 130 139]\n",
            "  [ 83  83  88]\n",
            "  [ 44  38  39]\n",
            "  [112 100  96]\n",
            "  [145 127 120]]\n",
            "\n",
            " [[153 156 150]\n",
            "  [141 144 135]\n",
            "  [139 142 136]\n",
            "  [133 135 134]\n",
            "  [134 135 135]\n",
            "  [155 156 153]\n",
            "  [172 173 171]\n",
            "  [141 138 145]\n",
            "  [ 62  63  78]\n",
            "  [ 32  41  57]\n",
            "  [ 35  43  53]\n",
            "  [ 24  31  34]\n",
            "  [ 23  29  24]\n",
            "  [ 23  25  28]\n",
            "  [ 12  12  15]\n",
            "  [ 63  66  54]\n",
            "  [157 163 138]\n",
            "  [157 163 136]\n",
            "  [154 159 134]\n",
            "  [154 154 130]\n",
            "  [156 153 130]\n",
            "  [153 153 136]\n",
            "  [142 147 137]\n",
            "  [127 129 132]\n",
            "  [128 128 134]\n",
            "  [132 132 140]\n",
            "  [138 138 149]\n",
            "  [118 120 132]\n",
            "  [ 48  51  60]\n",
            "  [ 68  59  59]\n",
            "  [131 113 106]\n",
            "  [121 101  94]]]....\n",
            "  , Image Shape : (32, 32, 3) \n",
            " Data Type : <dtype: 'uint8'>\n",
            "image after preprocessing [[[151. 154. 145.]\n",
            "  [144. 147. 135.]\n",
            "  [141. 143. 134.]\n",
            "  [131. 135. 130.]\n",
            "  [126. 132. 129.]\n",
            "  [149. 153. 146.]\n",
            "  [189. 189. 182.]\n",
            "  [170. 165. 163.]\n",
            "  [102.  99. 106.]\n",
            "  [ 41.  48.  61.]\n",
            "  [ 39.  45.  53.]\n",
            "  [ 36.  41.  43.]\n",
            "  [ 36.  39.  35.]\n",
            "  [ 29.  31.  32.]\n",
            "  [ 25.  27.  28.]\n",
            "  [ 26.  29.  20.]\n",
            "  [117. 122. 104.]\n",
            "  [160. 163. 146.]\n",
            "  [158. 146. 132.]\n",
            "  [147. 126. 111.]\n",
            "  [146. 126. 112.]\n",
            "  [145. 131. 121.]\n",
            "  [136. 129. 126.]\n",
            "  [133. 133. 135.]\n",
            "  [142. 143. 148.]\n",
            "  [144. 144. 151.]\n",
            "  [136. 136. 145.]\n",
            "  [130. 130. 139.]\n",
            "  [ 83.  83.  88.]\n",
            "  [ 44.  38.  39.]\n",
            "  [112. 100.  96.]\n",
            "  [145. 127. 120.]]\n",
            "\n",
            " [[153. 156. 150.]\n",
            "  [141. 144. 135.]\n",
            "  [139. 142. 136.]\n",
            "  [133. 135. 134.]\n",
            "  [134. 135. 135.]\n",
            "  [155. 156. 153.]\n",
            "  [172. 173. 171.]\n",
            "  [141. 138. 145.]\n",
            "  [ 62.  63.  78.]\n",
            "  [ 32.  41.  57.]\n",
            "  [ 35.  43.  53.]\n",
            "  [ 24.  31.  34.]\n",
            "  [ 23.  29.  24.]\n",
            "  [ 23.  25.  28.]\n",
            "  [ 12.  12.  15.]\n",
            "  [ 63.  66.  54.]\n",
            "  [157. 163. 138.]\n",
            "  [157. 163. 136.]\n",
            "  [154. 159. 134.]\n",
            "  [154. 154. 130.]\n",
            "  [156. 153. 130.]\n",
            "  [153. 153. 136.]\n",
            "  [142. 147. 137.]\n",
            "  [127. 129. 132.]\n",
            "  [128. 128. 134.]\n",
            "  [132. 132. 140.]\n",
            "  [138. 138. 149.]\n",
            "  [118. 120. 132.]\n",
            "  [ 48.  51.  60.]\n",
            "  [ 68.  59.  59.]\n",
            "  [131. 113. 106.]\n",
            "  [121. 101.  94.]]]....\n",
            "  , Image Shape : (32, 32, 3) \n",
            " Data Type : <dtype: 'float32'>\n"
          ]
        }
      ]
    },
    {
      "cell_type": "code",
      "source": [
        "train_data=train_data.map(map_func=preprocess_img,num_parallel_calls=tf.data.AUTOTUNE)\n",
        "train_data=train_data.shuffle(buffer_size=1000).batch(batch_size=32).prefetch(buffer_size=tf.data.AUTOTUNE)"
      ],
      "metadata": {
        "id": "PqVRMwZUu2Ml"
      },
      "id": "PqVRMwZUu2Ml",
      "execution_count": 38,
      "outputs": []
    },
    {
      "cell_type": "code",
      "source": [
        "test_data=test_data.map(map_func=preprocess_img).batch(batch_size=32).prefetch(buffer_size=tf.data.AUTOTUNE)"
      ],
      "metadata": {
        "id": "3O52wiZ7vizM"
      },
      "id": "3O52wiZ7vizM",
      "execution_count": 39,
      "outputs": []
    },
    {
      "cell_type": "code",
      "source": [
        "train_data,test_data"
      ],
      "metadata": {
        "colab": {
          "base_uri": "https://localhost:8080/"
        },
        "id": "IOFD5fmFv07h",
        "outputId": "dee5135f-0415-4449-833f-0e88ddf97660"
      },
      "id": "IOFD5fmFv07h",
      "execution_count": 40,
      "outputs": [
        {
          "output_type": "execute_result",
          "data": {
            "text/plain": [
              "(<_PrefetchDataset element_spec=(TensorSpec(shape=(None, 32, 32, 3), dtype=tf.float32, name=None), TensorSpec(shape=(None,), dtype=tf.int64, name=None))>,\n",
              " <_PrefetchDataset element_spec=(TensorSpec(shape=(None, 32, 32, 3), dtype=tf.float32, name=None), TensorSpec(shape=(None,), dtype=tf.int64, name=None))>)"
            ]
          },
          "metadata": {},
          "execution_count": 40
        }
      ]
    },
    {
      "cell_type": "code",
      "source": [
        "# Create a Model Checkpoint\n",
        "check_point_path='model_checkpoints/v1_checkpoint.weights.h5'\n",
        "model_check_point=tf.keras.callbacks.ModelCheckpoint(filepath=check_point_path,monitor='val_loss',\n",
        "                                                     save_best_only=True,save_weights_only=True)"
      ],
      "metadata": {
        "id": "_-UlBO6Uv7CK"
      },
      "id": "_-UlBO6Uv7CK",
      "execution_count": 41,
      "outputs": []
    },
    {
      "cell_type": "code",
      "source": [
        "# setting up mixed precesion\n",
        "from tensorflow.keras import mixed_precision\n",
        "mixed_precision.set_global_policy('mixed_float16')"
      ],
      "metadata": {
        "id": "1OMK68mNw3tU"
      },
      "id": "1OMK68mNw3tU",
      "execution_count": 43,
      "outputs": []
    },
    {
      "cell_type": "code",
      "source": [
        "# Craeating a Feature Extarction model\n",
        "image_shape=(32,32,3)\n",
        "base_model=tf.keras.applications.EfficientNetV2S(include_top=False)\n",
        "base_model.trainable=False"
      ],
      "metadata": {
        "colab": {
          "base_uri": "https://localhost:8080/"
        },
        "id": "hD5YpjKqxuVl",
        "outputId": "fa077f9c-14b3-47ff-c14d-ad581562e384"
      },
      "id": "hD5YpjKqxuVl",
      "execution_count": 44,
      "outputs": [
        {
          "output_type": "stream",
          "name": "stdout",
          "text": [
            "Downloading data from https://storage.googleapis.com/tensorflow/keras-applications/efficientnet_v2/efficientnetv2-s_notop.h5\n",
            "\u001b[1m82420632/82420632\u001b[0m \u001b[32m━━━━━━━━━━━━━━━━━━━━\u001b[0m\u001b[37m\u001b[0m \u001b[1m0s\u001b[0m 0us/step\n"
          ]
        }
      ]
    },
    {
      "cell_type": "code",
      "source": [
        "# Create a functional model now\n",
        "inputs=layers.Input(shape=image_shape,name='Input_Layer')\n",
        "x=base_model(inputs,training=False)\n",
        "x=layers.GlobalAveragePooling2D()(x)\n",
        "x=layers.Dense(len(class_names))(x)\n",
        "outputs=layers.Activation('softmax',dtype=tf.float32,name='softmax_float32')(x)\n",
        "model=tf.keras.Model(inputs,outputs)"
      ],
      "metadata": {
        "id": "Waa8oUOsyunZ"
      },
      "id": "Waa8oUOsyunZ",
      "execution_count": 46,
      "outputs": []
    },
    {
      "cell_type": "code",
      "source": [
        "model.compile(loss=tf.keras.losses.SparseCategoricalCrossentropy(),\n",
        "              optimizer=tf.keras.optimizers.Adam(),\n",
        "              metrics=['accuracy'])"
      ],
      "metadata": {
        "id": "KIDBdXsJ1mbx"
      },
      "id": "KIDBdXsJ1mbx",
      "execution_count": 56,
      "outputs": []
    },
    {
      "cell_type": "code",
      "source": [
        "model.summary()"
      ],
      "metadata": {
        "colab": {
          "base_uri": "https://localhost:8080/",
          "height": 313
        },
        "id": "IwFSlLp00jbk",
        "outputId": "2463709f-3fa6-4ccd-9715-e637a95727cd"
      },
      "id": "IwFSlLp00jbk",
      "execution_count": 57,
      "outputs": [
        {
          "output_type": "display_data",
          "data": {
            "text/plain": [
              "\u001b[1mModel: \"functional\"\u001b[0m\n"
            ],
            "text/html": [
              "<pre style=\"white-space:pre;overflow-x:auto;line-height:normal;font-family:Menlo,'DejaVu Sans Mono',consolas,'Courier New',monospace\"><span style=\"font-weight: bold\">Model: \"functional\"</span>\n",
              "</pre>\n"
            ]
          },
          "metadata": {}
        },
        {
          "output_type": "display_data",
          "data": {
            "text/plain": [
              "┏━━━━━━━━━━━━━━━━━━━━━━━━━━━━━━━━━┳━━━━━━━━━━━━━━━━━━━━━━━━┳━━━━━━━━━━━━━━━┓\n",
              "┃\u001b[1m \u001b[0m\u001b[1mLayer (type)                   \u001b[0m\u001b[1m \u001b[0m┃\u001b[1m \u001b[0m\u001b[1mOutput Shape          \u001b[0m\u001b[1m \u001b[0m┃\u001b[1m \u001b[0m\u001b[1m      Param #\u001b[0m\u001b[1m \u001b[0m┃\n",
              "┡━━━━━━━━━━━━━━━━━━━━━━━━━━━━━━━━━╇━━━━━━━━━━━━━━━━━━━━━━━━╇━━━━━━━━━━━━━━━┩\n",
              "│ Input_Layer (\u001b[38;5;33mInputLayer\u001b[0m)        │ (\u001b[38;5;45mNone\u001b[0m, \u001b[38;5;34m32\u001b[0m, \u001b[38;5;34m32\u001b[0m, \u001b[38;5;34m3\u001b[0m)      │             \u001b[38;5;34m0\u001b[0m │\n",
              "├─────────────────────────────────┼────────────────────────┼───────────────┤\n",
              "│ efficientnetv2-s (\u001b[38;5;33mFunctional\u001b[0m)   │ (\u001b[38;5;45mNone\u001b[0m, \u001b[38;5;34m1\u001b[0m, \u001b[38;5;34m1\u001b[0m, \u001b[38;5;34m1280\u001b[0m)     │    \u001b[38;5;34m20,331,360\u001b[0m │\n",
              "├─────────────────────────────────┼────────────────────────┼───────────────┤\n",
              "│ global_average_pooling2d_1      │ (\u001b[38;5;45mNone\u001b[0m, \u001b[38;5;34m1280\u001b[0m)           │             \u001b[38;5;34m0\u001b[0m │\n",
              "│ (\u001b[38;5;33mGlobalAveragePooling2D\u001b[0m)        │                        │               │\n",
              "├─────────────────────────────────┼────────────────────────┼───────────────┤\n",
              "│ dense (\u001b[38;5;33mDense\u001b[0m)                   │ (\u001b[38;5;45mNone\u001b[0m, \u001b[38;5;34m100\u001b[0m)            │       \u001b[38;5;34m128,100\u001b[0m │\n",
              "├─────────────────────────────────┼────────────────────────┼───────────────┤\n",
              "│ softmax_float32 (\u001b[38;5;33mActivation\u001b[0m)    │ (\u001b[38;5;45mNone\u001b[0m, \u001b[38;5;34m100\u001b[0m)            │             \u001b[38;5;34m0\u001b[0m │\n",
              "└─────────────────────────────────┴────────────────────────┴───────────────┘\n"
            ],
            "text/html": [
              "<pre style=\"white-space:pre;overflow-x:auto;line-height:normal;font-family:Menlo,'DejaVu Sans Mono',consolas,'Courier New',monospace\">┏━━━━━━━━━━━━━━━━━━━━━━━━━━━━━━━━━┳━━━━━━━━━━━━━━━━━━━━━━━━┳━━━━━━━━━━━━━━━┓\n",
              "┃<span style=\"font-weight: bold\"> Layer (type)                    </span>┃<span style=\"font-weight: bold\"> Output Shape           </span>┃<span style=\"font-weight: bold\">       Param # </span>┃\n",
              "┡━━━━━━━━━━━━━━━━━━━━━━━━━━━━━━━━━╇━━━━━━━━━━━━━━━━━━━━━━━━╇━━━━━━━━━━━━━━━┩\n",
              "│ Input_Layer (<span style=\"color: #0087ff; text-decoration-color: #0087ff\">InputLayer</span>)        │ (<span style=\"color: #00d7ff; text-decoration-color: #00d7ff\">None</span>, <span style=\"color: #00af00; text-decoration-color: #00af00\">32</span>, <span style=\"color: #00af00; text-decoration-color: #00af00\">32</span>, <span style=\"color: #00af00; text-decoration-color: #00af00\">3</span>)      │             <span style=\"color: #00af00; text-decoration-color: #00af00\">0</span> │\n",
              "├─────────────────────────────────┼────────────────────────┼───────────────┤\n",
              "│ efficientnetv2-s (<span style=\"color: #0087ff; text-decoration-color: #0087ff\">Functional</span>)   │ (<span style=\"color: #00d7ff; text-decoration-color: #00d7ff\">None</span>, <span style=\"color: #00af00; text-decoration-color: #00af00\">1</span>, <span style=\"color: #00af00; text-decoration-color: #00af00\">1</span>, <span style=\"color: #00af00; text-decoration-color: #00af00\">1280</span>)     │    <span style=\"color: #00af00; text-decoration-color: #00af00\">20,331,360</span> │\n",
              "├─────────────────────────────────┼────────────────────────┼───────────────┤\n",
              "│ global_average_pooling2d_1      │ (<span style=\"color: #00d7ff; text-decoration-color: #00d7ff\">None</span>, <span style=\"color: #00af00; text-decoration-color: #00af00\">1280</span>)           │             <span style=\"color: #00af00; text-decoration-color: #00af00\">0</span> │\n",
              "│ (<span style=\"color: #0087ff; text-decoration-color: #0087ff\">GlobalAveragePooling2D</span>)        │                        │               │\n",
              "├─────────────────────────────────┼────────────────────────┼───────────────┤\n",
              "│ dense (<span style=\"color: #0087ff; text-decoration-color: #0087ff\">Dense</span>)                   │ (<span style=\"color: #00d7ff; text-decoration-color: #00d7ff\">None</span>, <span style=\"color: #00af00; text-decoration-color: #00af00\">100</span>)            │       <span style=\"color: #00af00; text-decoration-color: #00af00\">128,100</span> │\n",
              "├─────────────────────────────────┼────────────────────────┼───────────────┤\n",
              "│ softmax_float32 (<span style=\"color: #0087ff; text-decoration-color: #0087ff\">Activation</span>)    │ (<span style=\"color: #00d7ff; text-decoration-color: #00d7ff\">None</span>, <span style=\"color: #00af00; text-decoration-color: #00af00\">100</span>)            │             <span style=\"color: #00af00; text-decoration-color: #00af00\">0</span> │\n",
              "└─────────────────────────────────┴────────────────────────┴───────────────┘\n",
              "</pre>\n"
            ]
          },
          "metadata": {}
        },
        {
          "output_type": "display_data",
          "data": {
            "text/plain": [
              "\u001b[1m Total params: \u001b[0m\u001b[38;5;34m20,459,460\u001b[0m (78.05 MB)\n"
            ],
            "text/html": [
              "<pre style=\"white-space:pre;overflow-x:auto;line-height:normal;font-family:Menlo,'DejaVu Sans Mono',consolas,'Courier New',monospace\"><span style=\"font-weight: bold\"> Total params: </span><span style=\"color: #00af00; text-decoration-color: #00af00\">20,459,460</span> (78.05 MB)\n",
              "</pre>\n"
            ]
          },
          "metadata": {}
        },
        {
          "output_type": "display_data",
          "data": {
            "text/plain": [
              "\u001b[1m Trainable params: \u001b[0m\u001b[38;5;34m128,100\u001b[0m (500.39 KB)\n"
            ],
            "text/html": [
              "<pre style=\"white-space:pre;overflow-x:auto;line-height:normal;font-family:Menlo,'DejaVu Sans Mono',consolas,'Courier New',monospace\"><span style=\"font-weight: bold\"> Trainable params: </span><span style=\"color: #00af00; text-decoration-color: #00af00\">128,100</span> (500.39 KB)\n",
              "</pre>\n"
            ]
          },
          "metadata": {}
        },
        {
          "output_type": "display_data",
          "data": {
            "text/plain": [
              "\u001b[1m Non-trainable params: \u001b[0m\u001b[38;5;34m20,331,360\u001b[0m (77.56 MB)\n"
            ],
            "text/html": [
              "<pre style=\"white-space:pre;overflow-x:auto;line-height:normal;font-family:Menlo,'DejaVu Sans Mono',consolas,'Courier New',monospace\"><span style=\"font-weight: bold\"> Non-trainable params: </span><span style=\"color: #00af00; text-decoration-color: #00af00\">20,331,360</span> (77.56 MB)\n",
              "</pre>\n"
            ]
          },
          "metadata": {}
        }
      ]
    },
    {
      "cell_type": "code",
      "source": [
        "history_feature_extract_model=model.fit(\n",
        "\n",
        "                                  train_data,\n",
        "                                  epochs=5,\n",
        "                                  steps_per_epoch=len(train_data),\n",
        "                                  validation_data=test_data,\n",
        "                                  validation_steps=int(0.15 * len(test_data)),\n",
        "                                  callbacks=[model_check_point])"
      ],
      "metadata": {
        "colab": {
          "base_uri": "https://localhost:8080/"
        },
        "id": "s2BAkool0Lwg",
        "outputId": "85badae0-b7d3-4500-80dc-9b4d7984b3b7"
      },
      "id": "s2BAkool0Lwg",
      "execution_count": 59,
      "outputs": [
        {
          "output_type": "stream",
          "name": "stdout",
          "text": [
            "Epoch 1/5\n",
            "\u001b[1m1563/1563\u001b[0m \u001b[32m━━━━━━━━━━━━━━━━━━━━\u001b[0m\u001b[37m\u001b[0m \u001b[1m26s\u001b[0m 16ms/step - accuracy: 0.2944 - loss: 2.9354 - val_accuracy: 0.3220 - val_loss: 2.8245\n",
            "Epoch 2/5\n",
            "\u001b[1m1563/1563\u001b[0m \u001b[32m━━━━━━━━━━━━━━━━━━━━\u001b[0m\u001b[37m\u001b[0m \u001b[1m38s\u001b[0m 15ms/step - accuracy: 0.3006 - loss: 2.8868 - val_accuracy: 0.3105 - val_loss: 2.8116\n",
            "Epoch 3/5\n",
            "\u001b[1m1563/1563\u001b[0m \u001b[32m━━━━━━━━━━━━━━━━━━━━\u001b[0m\u001b[37m\u001b[0m \u001b[1m23s\u001b[0m 15ms/step - accuracy: 0.3105 - loss: 2.8513 - val_accuracy: 0.3152 - val_loss: 2.7860\n",
            "Epoch 4/5\n",
            "\u001b[1m1563/1563\u001b[0m \u001b[32m━━━━━━━━━━━━━━━━━━━━\u001b[0m\u001b[37m\u001b[0m \u001b[1m24s\u001b[0m 15ms/step - accuracy: 0.3138 - loss: 2.8264 - val_accuracy: 0.3084 - val_loss: 2.7614\n",
            "Epoch 5/5\n",
            "\u001b[1m1563/1563\u001b[0m \u001b[32m━━━━━━━━━━━━━━━━━━━━\u001b[0m\u001b[37m\u001b[0m \u001b[1m25s\u001b[0m 16ms/step - accuracy: 0.3185 - loss: 2.7996 - val_accuracy: 0.3254 - val_loss: 2.7404\n"
          ]
        }
      ]
    },
    {
      "cell_type": "code",
      "source": [
        "res_feature_extartion=model.evaluate(test_data)"
      ],
      "metadata": {
        "colab": {
          "base_uri": "https://localhost:8080/"
        },
        "id": "fVqmWHto4QHk",
        "outputId": "65145652-ebe3-49b7-dd31-48cf0b640473"
      },
      "id": "fVqmWHto4QHk",
      "execution_count": 60,
      "outputs": [
        {
          "output_type": "stream",
          "name": "stdout",
          "text": [
            "\u001b[1m313/313\u001b[0m \u001b[32m━━━━━━━━━━━━━━━━━━━━\u001b[0m\u001b[37m\u001b[0m \u001b[1m36s\u001b[0m 116ms/step - accuracy: 0.3218 - loss: 2.7534\n"
          ]
        }
      ]
    },
    {
      "cell_type": "code",
      "source": [
        "plot_loss_curves(history_feature_extract_model)"
      ],
      "metadata": {
        "colab": {
          "base_uri": "https://localhost:8080/",
          "height": 927
        },
        "id": "0ISvDeF649yl",
        "outputId": "126a737a-0378-4339-df57-60fc13393f2a"
      },
      "id": "0ISvDeF649yl",
      "execution_count": 61,
      "outputs": [
        {
          "output_type": "display_data",
          "data": {
            "text/plain": [
              "<Figure size 640x480 with 1 Axes>"
            ],
            "image/png": "[encoded data removed]"
          },
          "metadata": {}
        },
        {
          "output_type": "display_data",
          "data": {
            "text/plain": [
              "<Figure size 640x480 with 1 Axes>"
            ],
            "image/png": "[encoded data removed]"
          },
          "metadata": {}
        }
      ]
    },
    {
      "cell_type": "markdown",
      "source": [
        "# **Lets now Fine Tune so accuracy increases**"
      ],
      "metadata": {
        "id": "CmAD1ek9EfdO"
      },
      "id": "CmAD1ek9EfdO"
    },
    {
      "cell_type": "code",
      "source": [
        "base_model.trainable=True\n",
        "\n",
        "for layer in model.layers[1].layers[:-20]:\n",
        "    layer.trainable=False"
      ],
      "metadata": {
        "id": "naPnSapXElz2"
      },
      "id": "naPnSapXElz2",
      "execution_count": 62,
      "outputs": []
    },
    {
      "cell_type": "code",
      "source": [
        "for layer_no , layer in enumerate(base_model.layers):\n",
        "    print(layer_no,layer.name,layer.trainable)"
      ],
      "metadata": {
        "colab": {
          "base_uri": "https://localhost:8080/"
        },
        "id": "pFDKrUPRE_QH",
        "outputId": "8b3314a6-1a47-4003-9cc3-65021daa6c9c"
      },
      "id": "pFDKrUPRE_QH",
      "execution_count": 63,
      "outputs": [
        {
          "output_type": "stream",
          "name": "stdout",
          "text": [
            "0 input_layer False\n",
            "1 rescaling False\n",
            "2 stem_conv False\n",
            "3 stem_bn False\n",
            "4 stem_activation False\n",
            "5 block1a_project_conv False\n",
            "6 block1a_project_bn False\n",
            "7 block1a_project_activation False\n",
            "8 block1a_add False\n",
            "9 block1b_project_conv False\n",
            "10 block1b_project_bn False\n",
            "11 block1b_project_activation False\n",
            "12 block1b_drop False\n",
            "13 block1b_add False\n",
            "14 block2a_expand_conv False\n",
            "15 block2a_expand_bn False\n",
            "16 block2a_expand_activation False\n",
            "17 block2a_project_conv False\n",
            "18 block2a_project_bn False\n",
            "19 block2b_expand_conv False\n",
            "20 block2b_expand_bn False\n",
            "21 block2b_expand_activation False\n",
            "22 block2b_project_conv False\n",
            "23 block2b_project_bn False\n",
            "24 block2b_drop False\n",
            "25 block2b_add False\n",
            "26 block2c_expand_conv False\n",
            "27 block2c_expand_bn False\n",
            "28 block2c_expand_activation False\n",
            "29 block2c_project_conv False\n",
            "30 block2c_project_bn False\n",
            "31 block2c_drop False\n",
            "32 block2c_add False\n",
            "33 block2d_expand_conv False\n",
            "34 block2d_expand_bn False\n",
            "35 block2d_expand_activation False\n",
            "36 block2d_project_conv False\n",
            "37 block2d_project_bn False\n",
            "38 block2d_drop False\n",
            "39 block2d_add False\n",
            "40 block3a_expand_conv False\n",
            "41 block3a_expand_bn False\n",
            "42 block3a_expand_activation False\n",
            "43 block3a_project_conv False\n",
            "44 block3a_project_bn False\n",
            "45 block3b_expand_conv False\n",
            "46 block3b_expand_bn False\n",
            "47 block3b_expand_activation False\n",
            "48 block3b_project_conv False\n",
            "49 block3b_project_bn False\n",
            "50 block3b_drop False\n",
            "51 block3b_add False\n",
            "52 block3c_expand_conv False\n",
            "53 block3c_expand_bn False\n",
            "54 block3c_expand_activation False\n",
            "55 block3c_project_conv False\n",
            "56 block3c_project_bn False\n",
            "57 block3c_drop False\n",
            "58 block3c_add False\n",
            "59 block3d_expand_conv False\n",
            "60 block3d_expand_bn False\n",
            "61 block3d_expand_activation False\n",
            "62 block3d_project_conv False\n",
            "63 block3d_project_bn False\n",
            "64 block3d_drop False\n",
            "65 block3d_add False\n",
            "66 block4a_expand_conv False\n",
            "67 block4a_expand_bn False\n",
            "68 block4a_expand_activation False\n",
            "69 block4a_dwconv2 False\n",
            "70 block4a_bn False\n",
            "71 block4a_activation False\n",
            "72 block4a_se_squeeze False\n",
            "73 block4a_se_reshape False\n",
            "74 block4a_se_reduce False\n",
            "75 block4a_se_expand False\n",
            "76 block4a_se_excite False\n",
            "77 block4a_project_conv False\n",
            "78 block4a_project_bn False\n",
            "79 block4b_expand_conv False\n",
            "80 block4b_expand_bn False\n",
            "81 block4b_expand_activation False\n",
            "82 block4b_dwconv2 False\n",
            "83 block4b_bn False\n",
            "84 block4b_activation False\n",
            "85 block4b_se_squeeze False\n",
            "86 block4b_se_reshape False\n",
            "87 block4b_se_reduce False\n",
            "88 block4b_se_expand False\n",
            "89 block4b_se_excite False\n",
            "90 block4b_project_conv False\n",
            "91 block4b_project_bn False\n",
            "92 block4b_drop False\n",
            "93 block4b_add False\n",
            "94 block4c_expand_conv False\n",
            "95 block4c_expand_bn False\n",
            "96 block4c_expand_activation False\n",
            "97 block4c_dwconv2 False\n",
            "98 block4c_bn False\n",
            "99 block4c_activation False\n",
            "100 block4c_se_squeeze False\n",
            "101 block4c_se_reshape False\n",
            "102 block4c_se_reduce False\n",
            "103 block4c_se_expand False\n",
            "104 block4c_se_excite False\n",
            "105 block4c_project_conv False\n",
            "106 block4c_project_bn False\n",
            "107 block4c_drop False\n",
            "108 block4c_add False\n",
            "109 block4d_expand_conv False\n",
            "110 block4d_expand_bn False\n",
            "111 block4d_expand_activation False\n",
            "112 block4d_dwconv2 False\n",
            "113 block4d_bn False\n",
            "114 block4d_activation False\n",
            "115 block4d_se_squeeze False\n",
            "116 block4d_se_reshape False\n",
            "117 block4d_se_reduce False\n",
            "118 block4d_se_expand False\n",
            "119 block4d_se_excite False\n",
            "120 block4d_project_conv False\n",
            "121 block4d_project_bn False\n",
            "122 block4d_drop False\n",
            "123 block4d_add False\n",
            "124 block4e_expand_conv False\n",
            "125 block4e_expand_bn False\n",
            "126 block4e_expand_activation False\n",
            "127 block4e_dwconv2 False\n",
            "128 block4e_bn False\n",
            "129 block4e_activation False\n",
            "130 block4e_se_squeeze False\n",
            "131 block4e_se_reshape False\n",
            "132 block4e_se_reduce False\n",
            "133 block4e_se_expand False\n",
            "134 block4e_se_excite False\n",
            "135 block4e_project_conv False\n",
            "136 block4e_project_bn False\n",
            "137 block4e_drop False\n",
            "138 block4e_add False\n",
            "139 block4f_expand_conv False\n",
            "140 block4f_expand_bn False\n",
            "141 block4f_expand_activation False\n",
            "142 block4f_dwconv2 False\n",
            "143 block4f_bn False\n",
            "144 block4f_activation False\n",
            "145 block4f_se_squeeze False\n",
            "146 block4f_se_reshape False\n",
            "147 block4f_se_reduce False\n",
            "148 block4f_se_expand False\n",
            "149 block4f_se_excite False\n",
            "150 block4f_project_conv False\n",
            "151 block4f_project_bn False\n",
            "152 block4f_drop False\n",
            "153 block4f_add False\n",
            "154 block5a_expand_conv False\n",
            "155 block5a_expand_bn False\n",
            "156 block5a_expand_activation False\n",
            "157 block5a_dwconv2 False\n",
            "158 block5a_bn False\n",
            "159 block5a_activation False\n",
            "160 block5a_se_squeeze False\n",
            "161 block5a_se_reshape False\n",
            "162 block5a_se_reduce False\n",
            "163 block5a_se_expand False\n",
            "164 block5a_se_excite False\n",
            "165 block5a_project_conv False\n",
            "166 block5a_project_bn False\n",
            "167 block5b_expand_conv False\n",
            "168 block5b_expand_bn False\n",
            "169 block5b_expand_activation False\n",
            "170 block5b_dwconv2 False\n",
            "171 block5b_bn False\n",
            "172 block5b_activation False\n",
            "173 block5b_se_squeeze False\n",
            "174 block5b_se_reshape False\n",
            "175 block5b_se_reduce False\n",
            "176 block5b_se_expand False\n",
            "177 block5b_se_excite False\n",
            "178 block5b_project_conv False\n",
            "179 block5b_project_bn False\n",
            "180 block5b_drop False\n",
            "181 block5b_add False\n",
            "182 block5c_expand_conv False\n",
            "183 block5c_expand_bn False\n",
            "184 block5c_expand_activation False\n",
            "185 block5c_dwconv2 False\n",
            "186 block5c_bn False\n",
            "187 block5c_activation False\n",
            "188 block5c_se_squeeze False\n",
            "189 block5c_se_reshape False\n",
            "190 block5c_se_reduce False\n",
            "191 block5c_se_expand False\n",
            "192 block5c_se_excite False\n",
            "193 block5c_project_conv False\n",
            "194 block5c_project_bn False\n",
            "195 block5c_drop False\n",
            "196 block5c_add False\n",
            "197 block5d_expand_conv False\n",
            "198 block5d_expand_bn False\n",
            "199 block5d_expand_activation False\n",
            "200 block5d_dwconv2 False\n",
            "201 block5d_bn False\n",
            "202 block5d_activation False\n",
            "203 block5d_se_squeeze False\n",
            "204 block5d_se_reshape False\n",
            "205 block5d_se_reduce False\n",
            "206 block5d_se_expand False\n",
            "207 block5d_se_excite False\n",
            "208 block5d_project_conv False\n",
            "209 block5d_project_bn False\n",
            "210 block5d_drop False\n",
            "211 block5d_add False\n",
            "212 block5e_expand_conv False\n",
            "213 block5e_expand_bn False\n",
            "214 block5e_expand_activation False\n",
            "215 block5e_dwconv2 False\n",
            "216 block5e_bn False\n",
            "217 block5e_activation False\n",
            "218 block5e_se_squeeze False\n",
            "219 block5e_se_reshape False\n",
            "220 block5e_se_reduce False\n",
            "221 block5e_se_expand False\n",
            "222 block5e_se_excite False\n",
            "223 block5e_project_conv False\n",
            "224 block5e_project_bn False\n",
            "225 block5e_drop False\n",
            "226 block5e_add False\n",
            "227 block5f_expand_conv False\n",
            "228 block5f_expand_bn False\n",
            "229 block5f_expand_activation False\n",
            "230 block5f_dwconv2 False\n",
            "231 block5f_bn False\n",
            "232 block5f_activation False\n",
            "233 block5f_se_squeeze False\n",
            "234 block5f_se_reshape False\n",
            "235 block5f_se_reduce False\n",
            "236 block5f_se_expand False\n",
            "237 block5f_se_excite False\n",
            "238 block5f_project_conv False\n",
            "239 block5f_project_bn False\n",
            "240 block5f_drop False\n",
            "241 block5f_add False\n",
            "242 block5g_expand_conv False\n",
            "243 block5g_expand_bn False\n",
            "244 block5g_expand_activation False\n",
            "245 block5g_dwconv2 False\n",
            "246 block5g_bn False\n",
            "247 block5g_activation False\n",
            "248 block5g_se_squeeze False\n",
            "249 block5g_se_reshape False\n",
            "250 block5g_se_reduce False\n",
            "251 block5g_se_expand False\n",
            "252 block5g_se_excite False\n",
            "253 block5g_project_conv False\n",
            "254 block5g_project_bn False\n",
            "255 block5g_drop False\n",
            "256 block5g_add False\n",
            "257 block5h_expand_conv False\n",
            "258 block5h_expand_bn False\n",
            "259 block5h_expand_activation False\n",
            "260 block5h_dwconv2 False\n",
            "261 block5h_bn False\n",
            "262 block5h_activation False\n",
            "263 block5h_se_squeeze False\n",
            "264 block5h_se_reshape False\n",
            "265 block5h_se_reduce False\n",
            "266 block5h_se_expand False\n",
            "267 block5h_se_excite False\n",
            "268 block5h_project_conv False\n",
            "269 block5h_project_bn False\n",
            "270 block5h_drop False\n",
            "271 block5h_add False\n",
            "272 block5i_expand_conv False\n",
            "273 block5i_expand_bn False\n",
            "274 block5i_expand_activation False\n",
            "275 block5i_dwconv2 False\n",
            "276 block5i_bn False\n",
            "277 block5i_activation False\n",
            "278 block5i_se_squeeze False\n",
            "279 block5i_se_reshape False\n",
            "280 block5i_se_reduce False\n",
            "281 block5i_se_expand False\n",
            "282 block5i_se_excite False\n",
            "283 block5i_project_conv False\n",
            "284 block5i_project_bn False\n",
            "285 block5i_drop False\n",
            "286 block5i_add False\n",
            "287 block6a_expand_conv False\n",
            "288 block6a_expand_bn False\n",
            "289 block6a_expand_activation False\n",
            "290 block6a_dwconv2 False\n",
            "291 block6a_bn False\n",
            "292 block6a_activation False\n",
            "293 block6a_se_squeeze False\n",
            "294 block6a_se_reshape False\n",
            "295 block6a_se_reduce False\n",
            "296 block6a_se_expand False\n",
            "297 block6a_se_excite False\n",
            "298 block6a_project_conv False\n",
            "299 block6a_project_bn False\n",
            "300 block6b_expand_conv False\n",
            "301 block6b_expand_bn False\n",
            "302 block6b_expand_activation False\n",
            "303 block6b_dwconv2 False\n",
            "304 block6b_bn False\n",
            "305 block6b_activation False\n",
            "306 block6b_se_squeeze False\n",
            "307 block6b_se_reshape False\n",
            "308 block6b_se_reduce False\n",
            "309 block6b_se_expand False\n",
            "310 block6b_se_excite False\n",
            "311 block6b_project_conv False\n",
            "312 block6b_project_bn False\n",
            "313 block6b_drop False\n",
            "314 block6b_add False\n",
            "315 block6c_expand_conv False\n",
            "316 block6c_expand_bn False\n",
            "317 block6c_expand_activation False\n",
            "318 block6c_dwconv2 False\n",
            "319 block6c_bn False\n",
            "320 block6c_activation False\n",
            "321 block6c_se_squeeze False\n",
            "322 block6c_se_reshape False\n",
            "323 block6c_se_reduce False\n",
            "324 block6c_se_expand False\n",
            "325 block6c_se_excite False\n",
            "326 block6c_project_conv False\n",
            "327 block6c_project_bn False\n",
            "328 block6c_drop False\n",
            "329 block6c_add False\n",
            "330 block6d_expand_conv False\n",
            "331 block6d_expand_bn False\n",
            "332 block6d_expand_activation False\n",
            "333 block6d_dwconv2 False\n",
            "334 block6d_bn False\n",
            "335 block6d_activation False\n",
            "336 block6d_se_squeeze False\n",
            "337 block6d_se_reshape False\n",
            "338 block6d_se_reduce False\n",
            "339 block6d_se_expand False\n",
            "340 block6d_se_excite False\n",
            "341 block6d_project_conv False\n",
            "342 block6d_project_bn False\n",
            "343 block6d_drop False\n",
            "344 block6d_add False\n",
            "345 block6e_expand_conv False\n",
            "346 block6e_expand_bn False\n",
            "347 block6e_expand_activation False\n",
            "348 block6e_dwconv2 False\n",
            "349 block6e_bn False\n",
            "350 block6e_activation False\n",
            "351 block6e_se_squeeze False\n",
            "352 block6e_se_reshape False\n",
            "353 block6e_se_reduce False\n",
            "354 block6e_se_expand False\n",
            "355 block6e_se_excite False\n",
            "356 block6e_project_conv False\n",
            "357 block6e_project_bn False\n",
            "358 block6e_drop False\n",
            "359 block6e_add False\n",
            "360 block6f_expand_conv False\n",
            "361 block6f_expand_bn False\n",
            "362 block6f_expand_activation False\n",
            "363 block6f_dwconv2 False\n",
            "364 block6f_bn False\n",
            "365 block6f_activation False\n",
            "366 block6f_se_squeeze False\n",
            "367 block6f_se_reshape False\n",
            "368 block6f_se_reduce False\n",
            "369 block6f_se_expand False\n",
            "370 block6f_se_excite False\n",
            "371 block6f_project_conv False\n",
            "372 block6f_project_bn False\n",
            "373 block6f_drop False\n",
            "374 block6f_add False\n",
            "375 block6g_expand_conv False\n",
            "376 block6g_expand_bn False\n",
            "377 block6g_expand_activation False\n",
            "378 block6g_dwconv2 False\n",
            "379 block6g_bn False\n",
            "380 block6g_activation False\n",
            "381 block6g_se_squeeze False\n",
            "382 block6g_se_reshape False\n",
            "383 block6g_se_reduce False\n",
            "384 block6g_se_expand False\n",
            "385 block6g_se_excite False\n",
            "386 block6g_project_conv False\n",
            "387 block6g_project_bn False\n",
            "388 block6g_drop False\n",
            "389 block6g_add False\n",
            "390 block6h_expand_conv False\n",
            "391 block6h_expand_bn False\n",
            "392 block6h_expand_activation False\n",
            "393 block6h_dwconv2 False\n",
            "394 block6h_bn False\n",
            "395 block6h_activation False\n",
            "396 block6h_se_squeeze False\n",
            "397 block6h_se_reshape False\n",
            "398 block6h_se_reduce False\n",
            "399 block6h_se_expand False\n",
            "400 block6h_se_excite False\n",
            "401 block6h_project_conv False\n",
            "402 block6h_project_bn False\n",
            "403 block6h_drop False\n",
            "404 block6h_add False\n",
            "405 block6i_expand_conv False\n",
            "406 block6i_expand_bn False\n",
            "407 block6i_expand_activation False\n",
            "408 block6i_dwconv2 False\n",
            "409 block6i_bn False\n",
            "410 block6i_activation False\n",
            "411 block6i_se_squeeze False\n",
            "412 block6i_se_reshape False\n",
            "413 block6i_se_reduce False\n",
            "414 block6i_se_expand False\n",
            "415 block6i_se_excite False\n",
            "416 block6i_project_conv False\n",
            "417 block6i_project_bn False\n",
            "418 block6i_drop False\n",
            "419 block6i_add False\n",
            "420 block6j_expand_conv False\n",
            "421 block6j_expand_bn False\n",
            "422 block6j_expand_activation False\n",
            "423 block6j_dwconv2 False\n",
            "424 block6j_bn False\n",
            "425 block6j_activation False\n",
            "426 block6j_se_squeeze False\n",
            "427 block6j_se_reshape False\n",
            "428 block6j_se_reduce False\n",
            "429 block6j_se_expand False\n",
            "430 block6j_se_excite False\n",
            "431 block6j_project_conv False\n",
            "432 block6j_project_bn False\n",
            "433 block6j_drop False\n",
            "434 block6j_add False\n",
            "435 block6k_expand_conv False\n",
            "436 block6k_expand_bn False\n",
            "437 block6k_expand_activation False\n",
            "438 block6k_dwconv2 False\n",
            "439 block6k_bn False\n",
            "440 block6k_activation False\n",
            "441 block6k_se_squeeze False\n",
            "442 block6k_se_reshape False\n",
            "443 block6k_se_reduce False\n",
            "444 block6k_se_expand False\n",
            "445 block6k_se_excite False\n",
            "446 block6k_project_conv False\n",
            "447 block6k_project_bn False\n",
            "448 block6k_drop False\n",
            "449 block6k_add False\n",
            "450 block6l_expand_conv False\n",
            "451 block6l_expand_bn False\n",
            "452 block6l_expand_activation False\n",
            "453 block6l_dwconv2 False\n",
            "454 block6l_bn False\n",
            "455 block6l_activation False\n",
            "456 block6l_se_squeeze False\n",
            "457 block6l_se_reshape False\n",
            "458 block6l_se_reduce False\n",
            "459 block6l_se_expand False\n",
            "460 block6l_se_excite False\n",
            "461 block6l_project_conv False\n",
            "462 block6l_project_bn False\n",
            "463 block6l_drop False\n",
            "464 block6l_add False\n",
            "465 block6m_expand_conv False\n",
            "466 block6m_expand_bn False\n",
            "467 block6m_expand_activation False\n",
            "468 block6m_dwconv2 False\n",
            "469 block6m_bn False\n",
            "470 block6m_activation False\n",
            "471 block6m_se_squeeze False\n",
            "472 block6m_se_reshape False\n",
            "473 block6m_se_reduce False\n",
            "474 block6m_se_expand False\n",
            "475 block6m_se_excite False\n",
            "476 block6m_project_conv False\n",
            "477 block6m_project_bn False\n",
            "478 block6m_drop False\n",
            "479 block6m_add False\n",
            "480 block6n_expand_conv False\n",
            "481 block6n_expand_bn False\n",
            "482 block6n_expand_activation False\n",
            "483 block6n_dwconv2 False\n",
            "484 block6n_bn False\n",
            "485 block6n_activation False\n",
            "486 block6n_se_squeeze False\n",
            "487 block6n_se_reshape False\n",
            "488 block6n_se_reduce False\n",
            "489 block6n_se_expand False\n",
            "490 block6n_se_excite False\n",
            "491 block6n_project_conv False\n",
            "492 block6n_project_bn False\n",
            "493 block6n_drop True\n",
            "494 block6n_add True\n",
            "495 block6o_expand_conv True\n",
            "496 block6o_expand_bn True\n",
            "497 block6o_expand_activation True\n",
            "498 block6o_dwconv2 True\n",
            "499 block6o_bn True\n",
            "500 block6o_activation True\n",
            "501 block6o_se_squeeze True\n",
            "502 block6o_se_reshape True\n",
            "503 block6o_se_reduce True\n",
            "504 block6o_se_expand True\n",
            "505 block6o_se_excite True\n",
            "506 block6o_project_conv True\n",
            "507 block6o_project_bn True\n",
            "508 block6o_drop True\n",
            "509 block6o_add True\n",
            "510 top_conv True\n",
            "511 top_bn True\n",
            "512 top_activation True\n"
          ]
        }
      ]
    },
    {
      "cell_type": "code",
      "source": [
        "# Add a custom classification head\n",
        "\n",
        "x=base_model.output\n",
        "x=layers.GlobalAveragePooling2D()(x)\n",
        "x=layers.Dense(224,activation='relu')(x)\n",
        "x=layers.BatchNormalization()(x)\n",
        "x=layers.Dropout(0.5)(x)\n",
        "\n",
        "x=layers.Dense(112,activation='relu')(x)\n",
        "x=tf.keras.layers.BatchNormalization()(x)\n",
        "x=tf.keras.layers.Dropout(0.4)(x)\n",
        "\n",
        "outputs=layers.Dense(len(class_names),activation='softmax',name='output_layer')(x)\n",
        "model=tf.keras.Model(inputs=base_model.input,outputs=outputs)"
      ],
      "metadata": {
        "id": "YxXzFfw9FVhu"
      },
      "id": "YxXzFfw9FVhu",
      "execution_count": 68,
      "outputs": []
    },
    {
      "cell_type": "code",
      "source": [
        "model.compile(loss=tf.keras.losses.SparseCategoricalCrossentropy(),\n",
        "              optimizer=tf.keras.optimizers.Adam(),\n",
        "              metrics=['accuracy'])"
      ],
      "metadata": {
        "id": "fUWmNb8nGjOZ"
      },
      "id": "fUWmNb8nGjOZ",
      "execution_count": 69,
      "outputs": []
    },
    {
      "cell_type": "code",
      "source": [
        "check_point_path=\"model_checkpoints/v2_finetuned_checkpoint.weights.h5\"\n",
        "model_check_point=tf.keras.callbacks.ModelCheckpoint(filepath=check_point_path,monitor='val_loss',save_best_only=True,\n",
        "                                                     save_weights_only=True,)"
      ],
      "metadata": {
        "id": "-NJKaCdpHy4e"
      },
      "id": "-NJKaCdpHy4e",
      "execution_count": 71,
      "outputs": []
    },
    {
      "cell_type": "code",
      "source": [
        "total_epochs=10\n",
        "\n",
        "history_fine_tuned=model.fit(train_data,validation_data=test_data,epochs=total_epochs,initial_epoch=history_feature_extract_model.epoch[-1],\n",
        "                             steps_per_epoch=len(train_data),validation_steps=int(0.15*len(test_data)),callbacks=[model_check_point])"
      ],
      "metadata": {
        "colab": {
          "base_uri": "https://localhost:8080/"
        },
        "id": "v8RPwW67G_Nq",
        "outputId": "8ebff9c0-bf93-4c20-d157-28e5e09c0ac3"
      },
      "id": "v8RPwW67G_Nq",
      "execution_count": 72,
      "outputs": [
        {
          "output_type": "stream",
          "name": "stdout",
          "text": [
            "Epoch 5/10\n",
            "\u001b[1m1563/1563\u001b[0m \u001b[32m━━━━━━━━━━━━━━━━━━━━\u001b[0m\u001b[37m\u001b[0m \u001b[1m181s\u001b[0m 68ms/step - accuracy: 0.0598 - loss: 4.4835 - val_accuracy: 0.2480 - val_loss: 2.9593\n",
            "Epoch 6/10\n",
            "\u001b[1m1563/1563\u001b[0m \u001b[32m━━━━━━━━━━━━━━━━━━━━\u001b[0m\u001b[37m\u001b[0m \u001b[1m25s\u001b[0m 16ms/step - accuracy: 0.1883 - loss: 3.3391 - val_accuracy: 0.3098 - val_loss: 2.7351\n",
            "Epoch 7/10\n",
            "\u001b[1m1563/1563\u001b[0m \u001b[32m━━━━━━━━━━━━━━━━━━━━\u001b[0m\u001b[37m\u001b[0m \u001b[1m25s\u001b[0m 16ms/step - accuracy: 0.2284 - loss: 3.1123 - val_accuracy: 0.3145 - val_loss: 2.6352\n",
            "Epoch 8/10\n",
            "\u001b[1m1563/1563\u001b[0m \u001b[32m━━━━━━━━━━━━━━━━━━━━\u001b[0m\u001b[37m\u001b[0m \u001b[1m25s\u001b[0m 16ms/step - accuracy: 0.2550 - loss: 2.9924 - val_accuracy: 0.3499 - val_loss: 2.5728\n",
            "Epoch 9/10\n",
            "\u001b[1m1563/1563\u001b[0m \u001b[32m━━━━━━━━━━━━━━━━━━━━\u001b[0m\u001b[37m\u001b[0m \u001b[1m27s\u001b[0m 17ms/step - accuracy: 0.2729 - loss: 2.9063 - val_accuracy: 0.3499 - val_loss: 2.5168\n",
            "Epoch 10/10\n",
            "\u001b[1m1563/1563\u001b[0m \u001b[32m━━━━━━━━━━━━━━━━━━━━\u001b[0m\u001b[37m\u001b[0m \u001b[1m28s\u001b[0m 18ms/step - accuracy: 0.2905 - loss: 2.8423 - val_accuracy: 0.3533 - val_loss: 2.4932\n"
          ]
        }
      ]
    },
    {
      "cell_type": "markdown",
      "source": [
        "Lets Try again"
      ],
      "metadata": {
        "id": "oLpVNMEyJX0z"
      },
      "id": "oLpVNMEyJX0z"
    },
    {
      "cell_type": "code",
      "source": [
        "# Add a custom classification head\n",
        "\n",
        "x=base_model.output\n",
        "x=layers.GlobalAveragePooling2D()(x)\n",
        "x=layers.Dense(1024,activation='relu')(x)\n",
        "x=layers.BatchNormalization()(x)\n",
        "x=layers.Dropout(0.5)(x)\n",
        "\n",
        "x=layers.Dense(512,activation='relu')(x)\n",
        "x=tf.keras.layers.BatchNormalization()(x)\n",
        "x=tf.keras.layers.Dropout(0.4)(x)\n",
        "\n",
        "outputs=layers.Dense(len(class_names),activation='softmax',name='output_layer')(x)\n",
        "model=tf.keras.Model(inputs=base_model.input,outputs=outputs)\n",
        "\n",
        "model.compile(loss=tf.keras.losses.SparseCategoricalCrossentropy(),\n",
        "              optimizer=tf.keras.optimizers.Adam(),\n",
        "              metrics=['accuracy'])\n",
        "\n",
        "check_point_path=\"model_checkpoints/v3_finetuned_checkpoint.weights.h5\"\n",
        "model_check_point=tf.keras.callbacks.ModelCheckpoint(filepath=check_point_path,monitor='val_loss',save_best_only=True,\n",
        "                                                     save_weights_only=True,)\n",
        "total_epochs=10\n",
        "\n",
        "history_fine_tuned_v3=model.fit(train_data,validation_data=test_data,epochs=total_epochs,\n",
        "                             steps_per_epoch=len(train_data),validation_steps=int(0.15*len(test_data)),callbacks=[model_check_point])"
      ],
      "metadata": {
        "colab": {
          "base_uri": "https://localhost:8080/"
        },
        "id": "lG0nNvmXIPxY",
        "outputId": "bc3a4974-654a-46f0-9705-0dd9520d670a"
      },
      "id": "lG0nNvmXIPxY",
      "execution_count": 73,
      "outputs": [
        {
          "output_type": "stream",
          "name": "stdout",
          "text": [
            "Epoch 1/10\n",
            "\u001b[1m1563/1563\u001b[0m \u001b[32m━━━━━━━━━━━━━━━━━━━━\u001b[0m\u001b[37m\u001b[0m \u001b[1m184s\u001b[0m 70ms/step - accuracy: 0.1952 - loss: 3.7083 - val_accuracy: 0.3356 - val_loss: 2.5794\n",
            "Epoch 2/10\n",
            "\u001b[1m1563/1563\u001b[0m \u001b[32m━━━━━━━━━━━━━━━━━━━━\u001b[0m\u001b[37m\u001b[0m \u001b[1m26s\u001b[0m 16ms/step - accuracy: 0.2980 - loss: 2.8113 - val_accuracy: 0.3628 - val_loss: 2.4593\n",
            "Epoch 3/10\n",
            "\u001b[1m1563/1563\u001b[0m \u001b[32m━━━━━━━━━━━━━━━━━━━━\u001b[0m\u001b[37m\u001b[0m \u001b[1m26s\u001b[0m 16ms/step - accuracy: 0.3247 - loss: 2.6523 - val_accuracy: 0.3716 - val_loss: 2.4198\n",
            "Epoch 4/10\n",
            "\u001b[1m1563/1563\u001b[0m \u001b[32m━━━━━━━━━━━━━━━━━━━━\u001b[0m\u001b[37m\u001b[0m \u001b[1m25s\u001b[0m 16ms/step - accuracy: 0.3457 - loss: 2.5531 - val_accuracy: 0.3838 - val_loss: 2.3736\n",
            "Epoch 5/10\n",
            "\u001b[1m1563/1563\u001b[0m \u001b[32m━━━━━━━━━━━━━━━━━━━━\u001b[0m\u001b[37m\u001b[0m \u001b[1m25s\u001b[0m 16ms/step - accuracy: 0.3591 - loss: 2.4754 - val_accuracy: 0.3798 - val_loss: 2.3545\n",
            "Epoch 6/10\n",
            "\u001b[1m1563/1563\u001b[0m \u001b[32m━━━━━━━━━━━━━━━━━━━━\u001b[0m\u001b[37m\u001b[0m \u001b[1m26s\u001b[0m 16ms/step - accuracy: 0.3792 - loss: 2.3869 - val_accuracy: 0.3872 - val_loss: 2.3348\n",
            "Epoch 7/10\n",
            "\u001b[1m1563/1563\u001b[0m \u001b[32m━━━━━━━━━━━━━━━━━━━━\u001b[0m\u001b[37m\u001b[0m \u001b[1m25s\u001b[0m 16ms/step - accuracy: 0.3945 - loss: 2.3224 - val_accuracy: 0.4035 - val_loss: 2.2953\n",
            "Epoch 8/10\n",
            "\u001b[1m1563/1563\u001b[0m \u001b[32m━━━━━━━━━━━━━━━━━━━━\u001b[0m\u001b[37m\u001b[0m \u001b[1m25s\u001b[0m 16ms/step - accuracy: 0.4074 - loss: 2.2434 - val_accuracy: 0.4015 - val_loss: 2.2766\n",
            "Epoch 9/10\n",
            "\u001b[1m1563/1563\u001b[0m \u001b[32m━━━━━━━━━━━━━━━━━━━━\u001b[0m\u001b[37m\u001b[0m \u001b[1m25s\u001b[0m 16ms/step - accuracy: 0.4195 - loss: 2.1921 - val_accuracy: 0.4198 - val_loss: 2.2642\n",
            "Epoch 10/10\n",
            "\u001b[1m1563/1563\u001b[0m \u001b[32m━━━━━━━━━━━━━━━━━━━━\u001b[0m\u001b[37m\u001b[0m \u001b[1m26s\u001b[0m 16ms/step - accuracy: 0.4295 - loss: 2.1384 - val_accuracy: 0.4178 - val_loss: 2.2821\n"
          ]
        }
      ]
    },
    {
      "cell_type": "code",
      "source": [
        "plot_loss_curves(history_fine_tuned_v3)"
      ],
      "metadata": {
        "colab": {
          "base_uri": "https://localhost:8080/",
          "height": 927
        },
        "id": "Crwa5ZwNLWov",
        "outputId": "58e63413-1556-435a-dcad-665794b3b930"
      },
      "id": "Crwa5ZwNLWov",
      "execution_count": 74,
      "outputs": [
        {
          "output_type": "display_data",
          "data": {
            "text/plain": [
              "<Figure size 640x480 with 1 Axes>"
            ],
            "image/png": "[encoded data removed]"
          },
          "metadata": {}
        },
        {
          "output_type": "display_data",
          "data": {
            "text/plain": [
              "<Figure size 640x480 with 1 Axes>"
            ],
            "image/png": "[encoded data removed]"
          },
          "metadata": {}
        }
      ]
    },
    {
      "cell_type": "code",
      "source": [
        "base_model.trainable=True\n",
        "\n",
        "for layer in base_model.layers[:-50]:\n",
        "    layer.trainable=False\n",
        "\n",
        "# Add a custom classification head\n",
        "\n",
        "x=base_model.output\n",
        "x=layers.GlobalAveragePooling2D()(x)\n",
        "x=layers.Dense(1024,activation='relu')(x)\n",
        "x=layers.BatchNormalization()(x)\n",
        "x=layers.Dropout(0.5)(x)\n",
        "\n",
        "\n",
        "x=layers.Dense(512,activation='relu')(x)\n",
        "x=tf.keras.layers.BatchNormalization()(x)\n",
        "x=tf.keras.layers.Dropout(0.4)(x)\n",
        "\n",
        "x=layers.Dense(212,activation='relu')(x)\n",
        "x=tf.keras.layers.BatchNormalization()(x)\n",
        "x=tf.keras.layers.Dropout(0.2)(x)\n",
        "\n",
        "outputs=layers.Dense(len(class_names),activation='softmax',name='output_layer')(x)\n",
        "model=tf.keras.Model(inputs=base_model.input,outputs=outputs)\n",
        "\n",
        "model.compile(loss=tf.keras.losses.SparseCategoricalCrossentropy(),\n",
        "              optimizer=tf.keras.optimizers.Adam(),\n",
        "              metrics=['accuracy'])\n",
        "\n",
        "check_point_path=\"model_checkpoints/v4_finetuned_checkpoint.weights.h5\"\n",
        "model_check_point=tf.keras.callbacks.ModelCheckpoint(filepath=check_point_path,monitor='val_loss',save_best_only=True,\n",
        "                                                     save_weights_only=True,)\n",
        "total_epochs=10\n",
        "\n",
        "history_fine_tuned_v4=model.fit(train_data,validation_data=test_data,epochs=total_epochs,\n",
        "                             steps_per_epoch=len(train_data),validation_steps=int(0.15*len(test_data)),callbacks=[model_check_point])"
      ],
      "metadata": {
        "colab": {
          "base_uri": "https://localhost:8080/"
        },
        "id": "_c6GoSAkLbck",
        "outputId": "d10ef8e2-4f9e-4364-c32b-5d4ae6a61688"
      },
      "id": "_c6GoSAkLbck",
      "execution_count": 76,
      "outputs": [
        {
          "output_type": "stream",
          "name": "stdout",
          "text": [
            "Epoch 1/10\n",
            "\u001b[1m1563/1563\u001b[0m \u001b[32m━━━━━━━━━━━━━━━━━━━━\u001b[0m\u001b[37m\u001b[0m \u001b[1m190s\u001b[0m 72ms/step - accuracy: 0.1906 - loss: 3.5666 - val_accuracy: 0.3750 - val_loss: 2.4819\n",
            "Epoch 2/10\n",
            "\u001b[1m1563/1563\u001b[0m \u001b[32m━━━━━━━━━━━━━━━━━━━━\u001b[0m\u001b[37m\u001b[0m \u001b[1m26s\u001b[0m 17ms/step - accuracy: 0.3355 - loss: 2.5952 - val_accuracy: 0.3852 - val_loss: 2.4110\n",
            "Epoch 3/10\n",
            "\u001b[1m1563/1563\u001b[0m \u001b[32m━━━━━━━━━━━━━━━━━━━━\u001b[0m\u001b[37m\u001b[0m \u001b[1m28s\u001b[0m 18ms/step - accuracy: 0.3657 - loss: 2.4509 - val_accuracy: 0.3879 - val_loss: 2.3938\n",
            "Epoch 4/10\n",
            "\u001b[1m1563/1563\u001b[0m \u001b[32m━━━━━━━━━━━━━━━━━━━━\u001b[0m\u001b[37m\u001b[0m \u001b[1m28s\u001b[0m 18ms/step - accuracy: 0.3859 - loss: 2.3676 - val_accuracy: 0.4015 - val_loss: 2.3532\n",
            "Epoch 5/10\n",
            "\u001b[1m1563/1563\u001b[0m \u001b[32m━━━━━━━━━━━━━━━━━━━━\u001b[0m\u001b[37m\u001b[0m \u001b[1m27s\u001b[0m 17ms/step - accuracy: 0.3976 - loss: 2.2875 - val_accuracy: 0.3988 - val_loss: 2.3360\n",
            "Epoch 6/10\n",
            "\u001b[1m1563/1563\u001b[0m \u001b[32m━━━━━━━━━━━━━━━━━━━━\u001b[0m\u001b[37m\u001b[0m \u001b[1m26s\u001b[0m 17ms/step - accuracy: 0.4157 - loss: 2.2190 - val_accuracy: 0.3967 - val_loss: 2.3742\n",
            "Epoch 7/10\n",
            "\u001b[1m1563/1563\u001b[0m \u001b[32m━━━━━━━━━━━━━━━━━━━━\u001b[0m\u001b[37m\u001b[0m \u001b[1m26s\u001b[0m 17ms/step - accuracy: 0.4301 - loss: 2.1634 - val_accuracy: 0.3988 - val_loss: 2.3678\n",
            "Epoch 8/10\n",
            "\u001b[1m1563/1563\u001b[0m \u001b[32m━━━━━━━━━━━━━━━━━━━━\u001b[0m\u001b[37m\u001b[0m \u001b[1m26s\u001b[0m 16ms/step - accuracy: 0.4415 - loss: 2.1032 - val_accuracy: 0.3967 - val_loss: 2.3683\n",
            "Epoch 9/10\n",
            "\u001b[1m1563/1563\u001b[0m \u001b[32m━━━━━━━━━━━━━━━━━━━━\u001b[0m\u001b[37m\u001b[0m \u001b[1m26s\u001b[0m 17ms/step - accuracy: 0.4534 - loss: 2.0623 - val_accuracy: 0.4056 - val_loss: 2.3846\n",
            "Epoch 10/10\n",
            "\u001b[1m1563/1563\u001b[0m \u001b[32m━━━━━━━━━━━━━━━━━━━━\u001b[0m\u001b[37m\u001b[0m \u001b[1m25s\u001b[0m 16ms/step - accuracy: 0.4593 - loss: 2.0177 - val_accuracy: 0.3988 - val_loss: 2.3502\n"
          ]
        }
      ]
    }
  ],
  "metadata": {
    "kernelspec": {
      "display_name": "Python 3",
      "name": "python3"
    },
    "language_info": {
      "codemirror_mode": {
        "name": "ipython",
        "version": 3
      },
      "file_extension": ".py",
      "mimetype": "text/x-python",
      "name": "python",
      "nbconvert_exporter": "python",
      "pygments_lexer": "ipython3",
      "version": "3.13.5"
    },
    "colab": {
      "provenance": [],
      "gpuType": "T4"
    },
    "accelerator": "GPU"
  },
  "nbformat": 4,
  "nbformat_minor": 5
}