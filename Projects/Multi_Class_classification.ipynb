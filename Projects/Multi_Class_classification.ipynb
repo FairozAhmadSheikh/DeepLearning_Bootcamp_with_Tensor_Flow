{
 "cells": [
  {
   "cell_type": "code",
   "execution_count": 1,
   "id": "427340a3",
   "metadata": {},
   "outputs": [],
   "source": [
    "import tensorflow as tf"
   ]
  },
  {
   "cell_type": "code",
   "execution_count": 2,
   "id": "91068146",
   "metadata": {},
   "outputs": [],
   "source": [
    "from tensorflow.keras.datasets import fashion_mnist"
   ]
  },
  {
   "cell_type": "code",
   "execution_count": 3,
   "id": "d1f7e1a6",
   "metadata": {},
   "outputs": [],
   "source": [
    "(train_data,train_label),(test_data,test_label)=fashion_mnist.load_data()"
   ]
  },
  {
   "cell_type": "code",
   "execution_count": 4,
   "id": "118dbfe3",
   "metadata": {},
   "outputs": [
    {
     "data": {
      "text/plain": [
       "((60000, 28, 28), (60000,), (10000, 28, 28), (10000,))"
      ]
     },
     "execution_count": 4,
     "metadata": {},
     "output_type": "execute_result"
    }
   ],
   "source": [
    "train_data.shape,train_label.shape,test_data.shape,test_label.shape"
   ]
  },
  {
   "cell_type": "code",
   "execution_count": 5,
   "id": "3f7964cb",
   "metadata": {},
   "outputs": [
    {
     "data": {
      "text/plain": [
       "(array([[  0,   0,   0,   0,   0,   0,   0,   0,   0,   0,   0,   0,   0,\n",
       "           0,   0,   0,   0,   0,   0,   0,   0,   0,   0,   0,   0,   0,\n",
       "           0,   0],\n",
       "        [  0,   0,   0,   0,   0,   0,   0,   0,   0,   0,   0,   0,   0,\n",
       "           0,   0,   0,   0,   0,   0,   0,   0,   0,   0,   0,   0,   0,\n",
       "           0,   0],\n",
       "        [  0,   0,   0,   0,   0,   0,   0,   0,   0,   0,   0,   0,   0,\n",
       "           0,   0,   0,   0,   0,   0,   0,   0,   0,   0,   0,   0,   0,\n",
       "           0,   0],\n",
       "        [  0,   0,   0,   0,   0,   0,   0,   0,   0,   0,   0,   0,   1,\n",
       "           0,   0,  13,  73,   0,   0,   1,   4,   0,   0,   0,   0,   1,\n",
       "           1,   0],\n",
       "        [  0,   0,   0,   0,   0,   0,   0,   0,   0,   0,   0,   0,   3,\n",
       "           0,  36, 136, 127,  62,  54,   0,   0,   0,   1,   3,   4,   0,\n",
       "           0,   3],\n",
       "        [  0,   0,   0,   0,   0,   0,   0,   0,   0,   0,   0,   0,   6,\n",
       "           0, 102, 204, 176, 134, 144, 123,  23,   0,   0,   0,   0,  12,\n",
       "          10,   0],\n",
       "        [  0,   0,   0,   0,   0,   0,   0,   0,   0,   0,   0,   0,   0,\n",
       "           0, 155, 236, 207, 178, 107, 156, 161, 109,  64,  23,  77, 130,\n",
       "          72,  15],\n",
       "        [  0,   0,   0,   0,   0,   0,   0,   0,   0,   0,   0,   1,   0,\n",
       "          69, 207, 223, 218, 216, 216, 163, 127, 121, 122, 146, 141,  88,\n",
       "         172,  66],\n",
       "        [  0,   0,   0,   0,   0,   0,   0,   0,   0,   1,   1,   1,   0,\n",
       "         200, 232, 232, 233, 229, 223, 223, 215, 213, 164, 127, 123, 196,\n",
       "         229,   0],\n",
       "        [  0,   0,   0,   0,   0,   0,   0,   0,   0,   0,   0,   0,   0,\n",
       "         183, 225, 216, 223, 228, 235, 227, 224, 222, 224, 221, 223, 245,\n",
       "         173,   0],\n",
       "        [  0,   0,   0,   0,   0,   0,   0,   0,   0,   0,   0,   0,   0,\n",
       "         193, 228, 218, 213, 198, 180, 212, 210, 211, 213, 223, 220, 243,\n",
       "         202,   0],\n",
       "        [  0,   0,   0,   0,   0,   0,   0,   0,   0,   1,   3,   0,  12,\n",
       "         219, 220, 212, 218, 192, 169, 227, 208, 218, 224, 212, 226, 197,\n",
       "         209,  52],\n",
       "        [  0,   0,   0,   0,   0,   0,   0,   0,   0,   0,   6,   0,  99,\n",
       "         244, 222, 220, 218, 203, 198, 221, 215, 213, 222, 220, 245, 119,\n",
       "         167,  56],\n",
       "        [  0,   0,   0,   0,   0,   0,   0,   0,   0,   4,   0,   0,  55,\n",
       "         236, 228, 230, 228, 240, 232, 213, 218, 223, 234, 217, 217, 209,\n",
       "          92,   0],\n",
       "        [  0,   0,   1,   4,   6,   7,   2,   0,   0,   0,   0,   0, 237,\n",
       "         226, 217, 223, 222, 219, 222, 221, 216, 223, 229, 215, 218, 255,\n",
       "          77,   0],\n",
       "        [  0,   3,   0,   0,   0,   0,   0,   0,   0,  62, 145, 204, 228,\n",
       "         207, 213, 221, 218, 208, 211, 218, 224, 223, 219, 215, 224, 244,\n",
       "         159,   0],\n",
       "        [  0,   0,   0,   0,  18,  44,  82, 107, 189, 228, 220, 222, 217,\n",
       "         226, 200, 205, 211, 230, 224, 234, 176, 188, 250, 248, 233, 238,\n",
       "         215,   0],\n",
       "        [  0,  57, 187, 208, 224, 221, 224, 208, 204, 214, 208, 209, 200,\n",
       "         159, 245, 193, 206, 223, 255, 255, 221, 234, 221, 211, 220, 232,\n",
       "         246,   0],\n",
       "        [  3, 202, 228, 224, 221, 211, 211, 214, 205, 205, 205, 220, 240,\n",
       "          80, 150, 255, 229, 221, 188, 154, 191, 210, 204, 209, 222, 228,\n",
       "         225,   0],\n",
       "        [ 98, 233, 198, 210, 222, 229, 229, 234, 249, 220, 194, 215, 217,\n",
       "         241,  65,  73, 106, 117, 168, 219, 221, 215, 217, 223, 223, 224,\n",
       "         229,  29],\n",
       "        [ 75, 204, 212, 204, 193, 205, 211, 225, 216, 185, 197, 206, 198,\n",
       "         213, 240, 195, 227, 245, 239, 223, 218, 212, 209, 222, 220, 221,\n",
       "         230,  67],\n",
       "        [ 48, 203, 183, 194, 213, 197, 185, 190, 194, 192, 202, 214, 219,\n",
       "         221, 220, 236, 225, 216, 199, 206, 186, 181, 177, 172, 181, 205,\n",
       "         206, 115],\n",
       "        [  0, 122, 219, 193, 179, 171, 183, 196, 204, 210, 213, 207, 211,\n",
       "         210, 200, 196, 194, 191, 195, 191, 198, 192, 176, 156, 167, 177,\n",
       "         210,  92],\n",
       "        [  0,   0,  74, 189, 212, 191, 175, 172, 175, 181, 185, 188, 189,\n",
       "         188, 193, 198, 204, 209, 210, 210, 211, 188, 188, 194, 192, 216,\n",
       "         170,   0],\n",
       "        [  2,   0,   0,   0,  66, 200, 222, 237, 239, 242, 246, 243, 244,\n",
       "         221, 220, 193, 191, 179, 182, 182, 181, 176, 166, 168,  99,  58,\n",
       "           0,   0],\n",
       "        [  0,   0,   0,   0,   0,   0,   0,  40,  61,  44,  72,  41,  35,\n",
       "           0,   0,   0,   0,   0,   0,   0,   0,   0,   0,   0,   0,   0,\n",
       "           0,   0],\n",
       "        [  0,   0,   0,   0,   0,   0,   0,   0,   0,   0,   0,   0,   0,\n",
       "           0,   0,   0,   0,   0,   0,   0,   0,   0,   0,   0,   0,   0,\n",
       "           0,   0],\n",
       "        [  0,   0,   0,   0,   0,   0,   0,   0,   0,   0,   0,   0,   0,\n",
       "           0,   0,   0,   0,   0,   0,   0,   0,   0,   0,   0,   0,   0,\n",
       "           0,   0]], dtype=uint8),\n",
       " np.uint8(9))"
      ]
     },
     "execution_count": 5,
     "metadata": {},
     "output_type": "execute_result"
    }
   ],
   "source": [
    "train_data[0],train_label[0]"
   ]
  },
  {
   "cell_type": "code",
   "execution_count": 6,
   "id": "2b60c293",
   "metadata": {},
   "outputs": [],
   "source": [
    "import matplotlib.pyplot as plt"
   ]
  },
  {
   "cell_type": "code",
   "execution_count": 7,
   "id": "e0948b80",
   "metadata": {},
   "outputs": [
    {
     "data": {
      "text/plain": [
       "<matplotlib.image.AxesImage at 0x1cf15ff0590>"
      ]
     },
     "execution_count": 7,
     "metadata": {},
     "output_type": "execute_result"
    },
    {
     "data": {
      "image/png": "[encoded data removed]",
      "text/plain": [
       "<Figure size 640x480 with 1 Axes>"
      ]
     },
     "metadata": {},
     "output_type": "display_data"
    }
   ],
   "source": [
    "plt.imshow(train_data[0])"
   ]
  },
  {
   "cell_type": "code",
   "execution_count": 8,
   "id": "d55214ed",
   "metadata": {},
   "outputs": [
    {
     "name": "stdout",
     "output_type": "stream",
     "text": [
      "9\n"
     ]
    }
   ],
   "source": [
    "print(train_label[0])"
   ]
  },
  {
   "cell_type": "code",
   "execution_count": 9,
   "id": "98bd9864",
   "metadata": {},
   "outputs": [],
   "source": [
    "# As labels are in numbers so we will convert them first in human readable form\n",
    "class_names=['T-shirt/Top','Trouser','Pull over','Dress','Coat','Sandal','Shirt','Sneaker','Bag','Ankle-boots']"
   ]
  },
  {
   "cell_type": "code",
   "execution_count": 10,
   "id": "435157c9",
   "metadata": {},
   "outputs": [
    {
     "data": {
      "text/plain": [
       "'Ankle-boots'"
      ]
     },
     "execution_count": 10,
     "metadata": {},
     "output_type": "execute_result"
    }
   ],
   "source": [
    "class_names[train_label[0]]"
   ]
  },
  {
   "cell_type": "code",
   "execution_count": 11,
   "id": "ef1d346a",
   "metadata": {},
   "outputs": [
    {
     "data": {
      "text/plain": [
       "Text(0.5, 1.0, 'T-shirt/Top')"
      ]
     },
     "execution_count": 11,
     "metadata": {},
     "output_type": "execute_result"
    },
    {
     "data": {
      "image/png": "[encoded data removed]",
      "text/plain": [
       "<Figure size 640x480 with 1 Axes>"
      ]
     },
     "metadata": {},
     "output_type": "display_data"
    }
   ],
   "source": [
    "# Plotting now an example with its understandable label\n",
    "plt.imshow(train_data[2])\n",
    "plt.title(class_names[train_label[2]])"
   ]
  },
  {
   "cell_type": "code",
   "execution_count": 12,
   "id": "671bb2e2",
   "metadata": {},
   "outputs": [
    {
     "data": {
      "image/png": "[encoded data removed]",
      "text/plain": [
       "<Figure size 640x480 with 4 Axes>"
      ]
     },
     "metadata": {},
     "output_type": "display_data"
    }
   ],
   "source": [
    "# Creating a random function that displays images randomly\n",
    "import random\n",
    "\n",
    "for i in range(4):\n",
    "    plt.subplot(2,2,i+1)\n",
    "    rand_index=random.choice(range(len(train_data)))\n",
    "    plt.imshow(train_data[rand_index],cmap=plt.cm.binary)\n",
    "    plt.title(class_names[train_label[rand_index]])\n",
    "    plt.axis('off')"
   ]
  },
  {
   "cell_type": "markdown",
   "id": "9acdb327",
   "metadata": {},
   "source": [
    "**Make A Multiclass classification model now**\n",
    "> Points to remember :\n",
    "* final activation as softmax\n",
    "* No of units of final layer should be equal to number of classes\n",
    "> Things to focus on when facing shape error:\n",
    "* you can add a Flatterned layers\n",
    "* check loss function sparse for numeric labels and categorical for one hot encoded ones\n",
    "* check input and output shapes\n"
   ]
  },
  {
   "cell_type": "code",
   "execution_count": 13,
   "id": "2e117ad7",
   "metadata": {},
   "outputs": [],
   "source": [
    "# set seed\n",
    "tf.random.set_seed(42)\n",
    "\n",
    "# Model Creation\n",
    "multi_classification_model=tf.keras.Sequential([\n",
    "    tf.keras.Input(shape=(28,28)),\n",
    "    tf.keras.layers.Flatten(),\n",
    "    tf.keras.layers.Dense(4,activation='relu'),\n",
    "    tf.keras.layers.Dense(4,activation='relu'),\n",
    "    tf.keras.layers.Dense(10,activation='softmax')\n",
    "])\n",
    "multi_classification_model.compile(loss=tf.keras.losses.SparseCategoricalCrossentropy(),\n",
    "                                   optimizer=tf.keras.optimizers.Adam(learning_rate=0.1),\n",
    "                                   metrics=['accuracy'])"
   ]
  },
  {
   "cell_type": "code",
   "execution_count": 14,
   "id": "22ed0a09",
   "metadata": {},
   "outputs": [
    {
     "name": "stdout",
     "output_type": "stream",
     "text": [
      "Epoch 1/10\n",
      "\u001b[1m1875/1875\u001b[0m \u001b[32m━━━━━━━━━━━━━━━━━━━━\u001b[0m\u001b[37m\u001b[0m \u001b[1m11s\u001b[0m 4ms/step - accuracy: 0.0999 - loss: 2.3485 - val_accuracy: 0.1000 - val_loss: 2.3104\n",
      "Epoch 2/10\n",
      "\u001b[1m1875/1875\u001b[0m \u001b[32m━━━━━━━━━━━━━━━━━━━━\u001b[0m\u001b[37m\u001b[0m \u001b[1m7s\u001b[0m 4ms/step - accuracy: 0.0997 - loss: 2.3147 - val_accuracy: 0.1000 - val_loss: 2.3104\n",
      "Epoch 3/10\n",
      "\u001b[1m1875/1875\u001b[0m \u001b[32m━━━━━━━━━━━━━━━━━━━━\u001b[0m\u001b[37m\u001b[0m \u001b[1m8s\u001b[0m 4ms/step - accuracy: 0.0996 - loss: 2.3147 - val_accuracy: 0.1000 - val_loss: 2.3104\n",
      "Epoch 4/10\n",
      "\u001b[1m1875/1875\u001b[0m \u001b[32m━━━━━━━━━━━━━━━━━━━━\u001b[0m\u001b[37m\u001b[0m \u001b[1m10s\u001b[0m 5ms/step - accuracy: 0.0996 - loss: 2.3147 - val_accuracy: 0.1000 - val_loss: 2.3104\n",
      "Epoch 5/10\n",
      "\u001b[1m1875/1875\u001b[0m \u001b[32m━━━━━━━━━━━━━━━━━━━━\u001b[0m\u001b[37m\u001b[0m \u001b[1m8s\u001b[0m 4ms/step - accuracy: 0.0996 - loss: 2.3147 - val_accuracy: 0.1000 - val_loss: 2.3104\n",
      "Epoch 6/10\n",
      "\u001b[1m1875/1875\u001b[0m \u001b[32m━━━━━━━━━━━━━━━━━━━━\u001b[0m\u001b[37m\u001b[0m \u001b[1m8s\u001b[0m 4ms/step - accuracy: 0.0996 - loss: 2.3147 - val_accuracy: 0.1000 - val_loss: 2.3104\n",
      "Epoch 7/10\n",
      "\u001b[1m1875/1875\u001b[0m \u001b[32m━━━━━━━━━━━━━━━━━━━━\u001b[0m\u001b[37m\u001b[0m \u001b[1m10s\u001b[0m 4ms/step - accuracy: 0.0996 - loss: 2.3147 - val_accuracy: 0.1000 - val_loss: 2.3104\n",
      "Epoch 8/10\n",
      "\u001b[1m1875/1875\u001b[0m \u001b[32m━━━━━━━━━━━━━━━━━━━━\u001b[0m\u001b[37m\u001b[0m \u001b[1m11s\u001b[0m 4ms/step - accuracy: 0.0996 - loss: 2.3147 - val_accuracy: 0.1000 - val_loss: 2.3104\n",
      "Epoch 9/10\n",
      "\u001b[1m1875/1875\u001b[0m \u001b[32m━━━━━━━━━━━━━━━━━━━━\u001b[0m\u001b[37m\u001b[0m \u001b[1m9s\u001b[0m 5ms/step - accuracy: 0.0996 - loss: 2.3147 - val_accuracy: 0.1000 - val_loss: 2.3104\n",
      "Epoch 10/10\n",
      "\u001b[1m1875/1875\u001b[0m \u001b[32m━━━━━━━━━━━━━━━━━━━━\u001b[0m\u001b[37m\u001b[0m \u001b[1m8s\u001b[0m 4ms/step - accuracy: 0.0996 - loss: 2.3147 - val_accuracy: 0.1000 - val_loss: 2.3104\n"
     ]
    }
   ],
   "source": [
    "non_norm_history=multi_classification_model.fit(train_data,train_label,epochs=10,validation_data=(test_data,test_label))"
   ]
  },
  {
   "cell_type": "markdown",
   "id": "cb95eb38",
   "metadata": {},
   "source": [
    "**Lets now train on One hot encoded labels**"
   ]
  },
  {
   "cell_type": "code",
   "execution_count": 15,
   "id": "13bd4f17",
   "metadata": {},
   "outputs": [
    {
     "data": {
      "text/plain": [
       "array([9, 2, 1, 1, 6, 1, 4, 6, 5, 7], dtype=uint8)"
      ]
     },
     "execution_count": 15,
     "metadata": {},
     "output_type": "execute_result"
    }
   ],
   "source": [
    "test_label[:10]"
   ]
  },
  {
   "cell_type": "code",
   "execution_count": 16,
   "id": "16cfb0a5",
   "metadata": {},
   "outputs": [],
   "source": [
    "test_label_oh_encoded=tf.one_hot(test_label,depth=10)\n",
    "train_label_oh_encoded=tf.one_hot(train_label,depth=10)"
   ]
  },
  {
   "cell_type": "code",
   "execution_count": 17,
   "id": "60236b2f",
   "metadata": {},
   "outputs": [
    {
     "data": {
      "text/plain": [
       "<tf.Tensor: shape=(10, 10), dtype=float32, numpy=\n",
       "array([[0., 0., 0., 0., 0., 0., 0., 0., 0., 1.],\n",
       "       [0., 0., 1., 0., 0., 0., 0., 0., 0., 0.],\n",
       "       [0., 1., 0., 0., 0., 0., 0., 0., 0., 0.],\n",
       "       [0., 1., 0., 0., 0., 0., 0., 0., 0., 0.],\n",
       "       [0., 0., 0., 0., 0., 0., 1., 0., 0., 0.],\n",
       "       [0., 1., 0., 0., 0., 0., 0., 0., 0., 0.],\n",
       "       [0., 0., 0., 0., 1., 0., 0., 0., 0., 0.],\n",
       "       [0., 0., 0., 0., 0., 0., 1., 0., 0., 0.],\n",
       "       [0., 0., 0., 0., 0., 1., 0., 0., 0., 0.],\n",
       "       [0., 0., 0., 0., 0., 0., 0., 1., 0., 0.]], dtype=float32)>"
      ]
     },
     "execution_count": 17,
     "metadata": {},
     "output_type": "execute_result"
    }
   ],
   "source": [
    "test_label_oh_encoded[:10]"
   ]
  },
  {
   "cell_type": "code",
   "execution_count": 18,
   "id": "0c4d6580",
   "metadata": {},
   "outputs": [
    {
     "name": "stdout",
     "output_type": "stream",
     "text": [
      "Epoch 1/10\n",
      "\u001b[1m1875/1875\u001b[0m \u001b[32m━━━━━━━━━━━━━━━━━━━━\u001b[0m\u001b[37m\u001b[0m \u001b[1m13s\u001b[0m 5ms/step - accuracy: 0.2052 - loss: 2.0902 - val_accuracy: 0.3499 - val_loss: 1.7205\n",
      "Epoch 2/10\n",
      "\u001b[1m1875/1875\u001b[0m \u001b[32m━━━━━━━━━━━━━━━━━━━━\u001b[0m\u001b[37m\u001b[0m \u001b[1m9s\u001b[0m 4ms/step - accuracy: 0.3751 - loss: 1.5408 - val_accuracy: 0.3980 - val_loss: 1.4475\n",
      "Epoch 3/10\n",
      "\u001b[1m1875/1875\u001b[0m \u001b[32m━━━━━━━━━━━━━━━━━━━━\u001b[0m\u001b[37m\u001b[0m \u001b[1m10s\u001b[0m 4ms/step - accuracy: 0.4094 - loss: 1.3726 - val_accuracy: 0.4380 - val_loss: 1.3876\n",
      "Epoch 4/10\n",
      "\u001b[1m1875/1875\u001b[0m \u001b[32m━━━━━━━━━━━━━━━━━━━━\u001b[0m\u001b[37m\u001b[0m \u001b[1m11s\u001b[0m 4ms/step - accuracy: 0.4514 - loss: 1.2854 - val_accuracy: 0.4714 - val_loss: 1.2628\n",
      "Epoch 5/10\n",
      "\u001b[1m1875/1875\u001b[0m \u001b[32m━━━━━━━━━━━━━━━━━━━━\u001b[0m\u001b[37m\u001b[0m \u001b[1m11s\u001b[0m 5ms/step - accuracy: 0.4985 - loss: 1.2343 - val_accuracy: 0.5399 - val_loss: 1.2299\n",
      "Epoch 6/10\n",
      "\u001b[1m1875/1875\u001b[0m \u001b[32m━━━━━━━━━━━━━━━━━━━━\u001b[0m\u001b[37m\u001b[0m \u001b[1m8s\u001b[0m 4ms/step - accuracy: 0.5353 - loss: 1.1685 - val_accuracy: 0.5604 - val_loss: 1.1652\n",
      "Epoch 7/10\n",
      "\u001b[1m1875/1875\u001b[0m \u001b[32m━━━━━━━━━━━━━━━━━━━━\u001b[0m\u001b[37m\u001b[0m \u001b[1m8s\u001b[0m 4ms/step - accuracy: 0.5508 - loss: 1.1325 - val_accuracy: 0.5627 - val_loss: 1.1293\n",
      "Epoch 8/10\n",
      "\u001b[1m1875/1875\u001b[0m \u001b[32m━━━━━━━━━━━━━━━━━━━━\u001b[0m\u001b[37m\u001b[0m \u001b[1m9s\u001b[0m 5ms/step - accuracy: 0.5640 - loss: 1.0973 - val_accuracy: 0.5788 - val_loss: 1.0934\n",
      "Epoch 9/10\n",
      "\u001b[1m1875/1875\u001b[0m \u001b[32m━━━━━━━━━━━━━━━━━━━━\u001b[0m\u001b[37m\u001b[0m \u001b[1m8s\u001b[0m 4ms/step - accuracy: 0.5717 - loss: 1.0748 - val_accuracy: 0.5799 - val_loss: 1.0847\n",
      "Epoch 10/10\n",
      "\u001b[1m1875/1875\u001b[0m \u001b[32m━━━━━━━━━━━━━━━━━━━━\u001b[0m\u001b[37m\u001b[0m \u001b[1m10s\u001b[0m 5ms/step - accuracy: 0.5724 - loss: 1.0638 - val_accuracy: 0.5653 - val_loss: 1.1143\n"
     ]
    }
   ],
   "source": [
    "# Model for working with one hot encoded labels\n",
    "tf.random.set_seed(42)\n",
    "multi_oh_class_model=tf.keras.Sequential([\n",
    "    tf.keras.Input(shape=(28,28)),\n",
    "    tf.keras.layers.Flatten(),\n",
    "    tf.keras.layers.Dense(4,activation='relu'),\n",
    "    tf.keras.layers.Dense(4,activation='relu'),\n",
    "    tf.keras.layers.Dense(10,activation='softmax'),\n",
    "])\n",
    "multi_oh_class_model.compile(\n",
    "    loss=tf.keras.losses.CategoricalCrossentropy(),  # Categotical for one hot labels\n",
    "    optimizer=tf.keras.optimizers.Adam(),\n",
    "    metrics=['accuracy']\n",
    ")\n",
    "non_norm_history_oh=multi_oh_class_model.fit(train_data,train_label_oh_encoded,epochs=10,validation_data=(test_data,test_label_oh_encoded))"
   ]
  },
  {
   "cell_type": "code",
   "execution_count": 19,
   "id": "950331d5",
   "metadata": {},
   "outputs": [
    {
     "data": {
      "text/html": [
       "<pre style=\"white-space:pre;overflow-x:auto;line-height:normal;font-family:Menlo,'DejaVu Sans Mono',consolas,'Courier New',monospace\"><span style=\"font-weight: bold\">Model: \"sequential\"</span>\n",
       "</pre>\n"
      ],
      "text/plain": [
       "\u001b[1mModel: \"sequential\"\u001b[0m\n"
      ]
     },
     "metadata": {},
     "output_type": "display_data"
    },
    {
     "data": {
      "text/html": [
       "<pre style=\"white-space:pre;overflow-x:auto;line-height:normal;font-family:Menlo,'DejaVu Sans Mono',consolas,'Courier New',monospace\">┏━━━━━━━━━━━━━━━━━━━━━━━━━━━━━━━━━┳━━━━━━━━━━━━━━━━━━━━━━━━┳━━━━━━━━━━━━━━━┓\n",
       "┃<span style=\"font-weight: bold\"> Layer (type)                    </span>┃<span style=\"font-weight: bold\"> Output Shape           </span>┃<span style=\"font-weight: bold\">       Param # </span>┃\n",
       "┡━━━━━━━━━━━━━━━━━━━━━━━━━━━━━━━━━╇━━━━━━━━━━━━━━━━━━━━━━━━╇━━━━━━━━━━━━━━━┩\n",
       "│ flatten (<span style=\"color: #0087ff; text-decoration-color: #0087ff\">Flatten</span>)               │ (<span style=\"color: #00d7ff; text-decoration-color: #00d7ff\">None</span>, <span style=\"color: #00af00; text-decoration-color: #00af00\">784</span>)            │             <span style=\"color: #00af00; text-decoration-color: #00af00\">0</span> │\n",
       "├─────────────────────────────────┼────────────────────────┼───────────────┤\n",
       "│ dense (<span style=\"color: #0087ff; text-decoration-color: #0087ff\">Dense</span>)                   │ (<span style=\"color: #00d7ff; text-decoration-color: #00d7ff\">None</span>, <span style=\"color: #00af00; text-decoration-color: #00af00\">4</span>)              │         <span style=\"color: #00af00; text-decoration-color: #00af00\">3,140</span> │\n",
       "├─────────────────────────────────┼────────────────────────┼───────────────┤\n",
       "│ dense_1 (<span style=\"color: #0087ff; text-decoration-color: #0087ff\">Dense</span>)                 │ (<span style=\"color: #00d7ff; text-decoration-color: #00d7ff\">None</span>, <span style=\"color: #00af00; text-decoration-color: #00af00\">4</span>)              │            <span style=\"color: #00af00; text-decoration-color: #00af00\">20</span> │\n",
       "├─────────────────────────────────┼────────────────────────┼───────────────┤\n",
       "│ dense_2 (<span style=\"color: #0087ff; text-decoration-color: #0087ff\">Dense</span>)                 │ (<span style=\"color: #00d7ff; text-decoration-color: #00d7ff\">None</span>, <span style=\"color: #00af00; text-decoration-color: #00af00\">10</span>)             │            <span style=\"color: #00af00; text-decoration-color: #00af00\">50</span> │\n",
       "└─────────────────────────────────┴────────────────────────┴───────────────┘\n",
       "</pre>\n"
      ],
      "text/plain": [
       "┏━━━━━━━━━━━━━━━━━━━━━━━━━━━━━━━━━┳━━━━━━━━━━━━━━━━━━━━━━━━┳━━━━━━━━━━━━━━━┓\n",
       "┃\u001b[1m \u001b[0m\u001b[1mLayer (type)                   \u001b[0m\u001b[1m \u001b[0m┃\u001b[1m \u001b[0m\u001b[1mOutput Shape          \u001b[0m\u001b[1m \u001b[0m┃\u001b[1m \u001b[0m\u001b[1m      Param #\u001b[0m\u001b[1m \u001b[0m┃\n",
       "┡━━━━━━━━━━━━━━━━━━━━━━━━━━━━━━━━━╇━━━━━━━━━━━━━━━━━━━━━━━━╇━━━━━━━━━━━━━━━┩\n",
       "│ flatten (\u001b[38;5;33mFlatten\u001b[0m)               │ (\u001b[38;5;45mNone\u001b[0m, \u001b[38;5;34m784\u001b[0m)            │             \u001b[38;5;34m0\u001b[0m │\n",
       "├─────────────────────────────────┼────────────────────────┼───────────────┤\n",
       "│ dense (\u001b[38;5;33mDense\u001b[0m)                   │ (\u001b[38;5;45mNone\u001b[0m, \u001b[38;5;34m4\u001b[0m)              │         \u001b[38;5;34m3,140\u001b[0m │\n",
       "├─────────────────────────────────┼────────────────────────┼───────────────┤\n",
       "│ dense_1 (\u001b[38;5;33mDense\u001b[0m)                 │ (\u001b[38;5;45mNone\u001b[0m, \u001b[38;5;34m4\u001b[0m)              │            \u001b[38;5;34m20\u001b[0m │\n",
       "├─────────────────────────────────┼────────────────────────┼───────────────┤\n",
       "│ dense_2 (\u001b[38;5;33mDense\u001b[0m)                 │ (\u001b[38;5;45mNone\u001b[0m, \u001b[38;5;34m10\u001b[0m)             │            \u001b[38;5;34m50\u001b[0m │\n",
       "└─────────────────────────────────┴────────────────────────┴───────────────┘\n"
      ]
     },
     "metadata": {},
     "output_type": "display_data"
    },
    {
     "data": {
      "text/html": [
       "<pre style=\"white-space:pre;overflow-x:auto;line-height:normal;font-family:Menlo,'DejaVu Sans Mono',consolas,'Courier New',monospace\"><span style=\"font-weight: bold\"> Total params: </span><span style=\"color: #00af00; text-decoration-color: #00af00\">9,632</span> (37.63 KB)\n",
       "</pre>\n"
      ],
      "text/plain": [
       "\u001b[1m Total params: \u001b[0m\u001b[38;5;34m9,632\u001b[0m (37.63 KB)\n"
      ]
     },
     "metadata": {},
     "output_type": "display_data"
    },
    {
     "data": {
      "text/html": [
       "<pre style=\"white-space:pre;overflow-x:auto;line-height:normal;font-family:Menlo,'DejaVu Sans Mono',consolas,'Courier New',monospace\"><span style=\"font-weight: bold\"> Trainable params: </span><span style=\"color: #00af00; text-decoration-color: #00af00\">3,210</span> (12.54 KB)\n",
       "</pre>\n"
      ],
      "text/plain": [
       "\u001b[1m Trainable params: \u001b[0m\u001b[38;5;34m3,210\u001b[0m (12.54 KB)\n"
      ]
     },
     "metadata": {},
     "output_type": "display_data"
    },
    {
     "data": {
      "text/html": [
       "<pre style=\"white-space:pre;overflow-x:auto;line-height:normal;font-family:Menlo,'DejaVu Sans Mono',consolas,'Courier New',monospace\"><span style=\"font-weight: bold\"> Non-trainable params: </span><span style=\"color: #00af00; text-decoration-color: #00af00\">0</span> (0.00 B)\n",
       "</pre>\n"
      ],
      "text/plain": [
       "\u001b[1m Non-trainable params: \u001b[0m\u001b[38;5;34m0\u001b[0m (0.00 B)\n"
      ]
     },
     "metadata": {},
     "output_type": "display_data"
    },
    {
     "data": {
      "text/html": [
       "<pre style=\"white-space:pre;overflow-x:auto;line-height:normal;font-family:Menlo,'DejaVu Sans Mono',consolas,'Courier New',monospace\"><span style=\"font-weight: bold\"> Optimizer params: </span><span style=\"color: #00af00; text-decoration-color: #00af00\">6,422</span> (25.09 KB)\n",
       "</pre>\n"
      ],
      "text/plain": [
       "\u001b[1m Optimizer params: \u001b[0m\u001b[38;5;34m6,422\u001b[0m (25.09 KB)\n"
      ]
     },
     "metadata": {},
     "output_type": "display_data"
    }
   ],
   "source": [
    "multi_classification_model.summary()"
   ]
  },
  {
   "cell_type": "markdown",
   "id": "a4ff9fe7",
   "metadata": {},
   "source": [
    "**Lets Improve the models Performance by Normalization**"
   ]
  },
  {
   "cell_type": "code",
   "execution_count": 20,
   "id": "26417456",
   "metadata": {},
   "outputs": [
    {
     "name": "stdout",
     "output_type": "stream",
     "text": [
      "0\n",
      "255\n"
     ]
    }
   ],
   "source": [
    "print(train_data.min())\n",
    "print(train_data.max())"
   ]
  },
  {
   "cell_type": "code",
   "execution_count": 21,
   "id": "b94455d4",
   "metadata": {},
   "outputs": [],
   "source": [
    "train_data_norm=train_data/255.0\n",
    "test_data_norm=test_data/255.0"
   ]
  },
  {
   "cell_type": "code",
   "execution_count": 22,
   "id": "cb7f3332",
   "metadata": {},
   "outputs": [],
   "source": [
    "tf.random.set_seed(42)\n",
    "normed_model=tf.keras.Sequential([\n",
    "    tf.keras.Input(shape=(28,28)),\n",
    "    tf.keras.layers.Flatten(),\n",
    "    tf.keras.layers.Dense(4,activation='relu'),\n",
    "    tf.keras.layers.Dense(4,activation='relu'),\n",
    "    tf.keras.layers.Dense(10,activation='softmax')\n",
    "])\n",
    "normed_model.compile(loss=tf.keras.losses.SparseCategoricalCrossentropy(),\n",
    "                     optimizer=tf.keras.optimizers.Adam(),\n",
    "                     metrics=['accuracy'])"
   ]
  },
  {
   "cell_type": "code",
   "execution_count": 23,
   "id": "e2ebd2e3",
   "metadata": {},
   "outputs": [
    {
     "name": "stdout",
     "output_type": "stream",
     "text": [
      "Epoch 1/10\n",
      "\u001b[1m1875/1875\u001b[0m \u001b[32m━━━━━━━━━━━━━━━━━━━━\u001b[0m\u001b[37m\u001b[0m \u001b[1m12s\u001b[0m 5ms/step - accuracy: 0.6034 - loss: 1.0840 - val_accuracy: 0.7313 - val_loss: 0.7731\n",
      "Epoch 2/10\n",
      "\u001b[1m1875/1875\u001b[0m \u001b[32m━━━━━━━━━━━━━━━━━━━━\u001b[0m\u001b[37m\u001b[0m \u001b[1m12s\u001b[0m 6ms/step - accuracy: 0.7553 - loss: 0.6966 - val_accuracy: 0.7661 - val_loss: 0.6637\n",
      "Epoch 3/10\n",
      "\u001b[1m1875/1875\u001b[0m \u001b[32m━━━━━━━━━━━━━━━━━━━━\u001b[0m\u001b[37m\u001b[0m \u001b[1m20s\u001b[0m 6ms/step - accuracy: 0.7756 - loss: 0.6301 - val_accuracy: 0.7795 - val_loss: 0.6317\n",
      "Epoch 4/10\n",
      "\u001b[1m1875/1875\u001b[0m \u001b[32m━━━━━━━━━━━━━━━━━━━━\u001b[0m\u001b[37m\u001b[0m \u001b[1m22s\u001b[0m 6ms/step - accuracy: 0.7858 - loss: 0.6039 - val_accuracy: 0.7868 - val_loss: 0.6149\n",
      "Epoch 5/10\n",
      "\u001b[1m1875/1875\u001b[0m \u001b[32m━━━━━━━━━━━━━━━━━━━━\u001b[0m\u001b[37m\u001b[0m \u001b[1m12s\u001b[0m 6ms/step - accuracy: 0.7922 - loss: 0.5874 - val_accuracy: 0.7902 - val_loss: 0.6027\n",
      "Epoch 6/10\n",
      "\u001b[1m1875/1875\u001b[0m \u001b[32m━━━━━━━━━━━━━━━━━━━━\u001b[0m\u001b[37m\u001b[0m \u001b[1m12s\u001b[0m 6ms/step - accuracy: 0.7970 - loss: 0.5753 - val_accuracy: 0.7919 - val_loss: 0.5937\n",
      "Epoch 7/10\n",
      "\u001b[1m1875/1875\u001b[0m \u001b[32m━━━━━━━━━━━━━━━━━━━━\u001b[0m\u001b[37m\u001b[0m \u001b[1m21s\u001b[0m 6ms/step - accuracy: 0.8003 - loss: 0.5657 - val_accuracy: 0.7939 - val_loss: 0.5858\n",
      "Epoch 8/10\n",
      "\u001b[1m1875/1875\u001b[0m \u001b[32m━━━━━━━━━━━━━━━━━━━━\u001b[0m\u001b[37m\u001b[0m \u001b[1m12s\u001b[0m 6ms/step - accuracy: 0.8038 - loss: 0.5577 - val_accuracy: 0.7951 - val_loss: 0.5812\n",
      "Epoch 9/10\n",
      "\u001b[1m1875/1875\u001b[0m \u001b[32m━━━━━━━━━━━━━━━━━━━━\u001b[0m\u001b[37m\u001b[0m \u001b[1m21s\u001b[0m 6ms/step - accuracy: 0.8058 - loss: 0.5513 - val_accuracy: 0.7968 - val_loss: 0.5760\n",
      "Epoch 10/10\n",
      "\u001b[1m1875/1875\u001b[0m \u001b[32m━━━━━━━━━━━━━━━━━━━━\u001b[0m\u001b[37m\u001b[0m \u001b[1m12s\u001b[0m 6ms/step - accuracy: 0.8080 - loss: 0.5456 - val_accuracy: 0.7997 - val_loss: 0.5723\n"
     ]
    }
   ],
   "source": [
    "norm_history=normed_model.fit(train_data_norm,train_label,epochs=10,validation_data=(test_data_norm,test_label))"
   ]
  },
  {
   "cell_type": "markdown",
   "id": "cc2cf33c",
   "metadata": {},
   "source": [
    "**Comparing Noramlaized and non Normalized Data**"
   ]
  },
  {
   "cell_type": "code",
   "execution_count": 25,
   "id": "db901814",
   "metadata": {},
   "outputs": [
    {
     "data": {
      "text/plain": [
       "<Axes: title={'center': 'Normalized Data'}>"
      ]
     },
     "execution_count": 25,
     "metadata": {},
     "output_type": "execute_result"
    },
    {
     "data": {
      "image/png": "[encoded data removed]",
      "text/plain": [
       "<Figure size 640x480 with 1 Axes>"
      ]
     },
     "metadata": {},
     "output_type": "display_data"
    },
    {
     "data": {
      "image/png": "[encoded data removed]",
      "text/plain": [
       "<Figure size 640x480 with 1 Axes>"
      ]
     },
     "metadata": {},
     "output_type": "display_data"
    }
   ],
   "source": [
    "import pandas as pd \n",
    "pd.DataFrame(non_norm_history.history).plot(title=\"Non Normalized Data\")\n",
    "pd.DataFrame(norm_history.history).plot(title='Normalized Data')"
   ]
  },
  {
   "cell_type": "markdown",
   "id": "a5d897f3",
   "metadata": {},
   "source": [
    "**Finding ideal Learning Rate**"
   ]
  },
  {
   "cell_type": "code",
   "execution_count": 29,
   "id": "c344f15e",
   "metadata": {},
   "outputs": [
    {
     "name": "stdout",
     "output_type": "stream",
     "text": [
      "Epoch 1/40\n",
      "\u001b[1m1875/1875\u001b[0m \u001b[32m━━━━━━━━━━━━━━━━━━━━\u001b[0m\u001b[37m\u001b[0m \u001b[1m14s\u001b[0m 6ms/step - accuracy: 0.6548 - loss: 0.9692 - val_accuracy: 0.7519 - val_loss: 0.7152 - learning_rate: 0.0010\n",
      "Epoch 2/40\n",
      "\u001b[1m1875/1875\u001b[0m \u001b[32m━━━━━━━━━━━━━━━━━━━━\u001b[0m\u001b[37m\u001b[0m \u001b[1m10s\u001b[0m 5ms/step - accuracy: 0.7717 - loss: 0.6459 - val_accuracy: 0.7729 - val_loss: 0.6433 - learning_rate: 0.0011\n",
      "Epoch 3/40\n",
      "\u001b[1m1875/1875\u001b[0m \u001b[32m━━━━━━━━━━━━━━━━━━━━\u001b[0m\u001b[37m\u001b[0m \u001b[1m11s\u001b[0m 6ms/step - accuracy: 0.7830 - loss: 0.6016 - val_accuracy: 0.7814 - val_loss: 0.6110 - learning_rate: 0.0013\n",
      "Epoch 4/40\n",
      "\u001b[1m1875/1875\u001b[0m \u001b[32m━━━━━━━━━━━━━━━━━━━━\u001b[0m\u001b[37m\u001b[0m \u001b[1m12s\u001b[0m 6ms/step - accuracy: 0.7894 - loss: 0.5823 - val_accuracy: 0.7877 - val_loss: 0.5942 - learning_rate: 0.0014\n",
      "Epoch 5/40\n",
      "\u001b[1m1875/1875\u001b[0m \u001b[32m━━━━━━━━━━━━━━━━━━━━\u001b[0m\u001b[37m\u001b[0m \u001b[1m12s\u001b[0m 7ms/step - accuracy: 0.7940 - loss: 0.5691 - val_accuracy: 0.7928 - val_loss: 0.5800 - learning_rate: 0.0016\n",
      "Epoch 6/40\n",
      "\u001b[1m1875/1875\u001b[0m \u001b[32m━━━━━━━━━━━━━━━━━━━━\u001b[0m\u001b[37m\u001b[0m \u001b[1m12s\u001b[0m 6ms/step - accuracy: 0.8025 - loss: 0.5530 - val_accuracy: 0.8021 - val_loss: 0.5647 - learning_rate: 0.0018\n",
      "Epoch 7/40\n",
      "\u001b[1m1875/1875\u001b[0m \u001b[32m━━━━━━━━━━━━━━━━━━━━\u001b[0m\u001b[37m\u001b[0m \u001b[1m12s\u001b[0m 6ms/step - accuracy: 0.8104 - loss: 0.5396 - val_accuracy: 0.8054 - val_loss: 0.5548 - learning_rate: 0.0020\n",
      "Epoch 8/40\n",
      "\u001b[1m1875/1875\u001b[0m \u001b[32m━━━━━━━━━━━━━━━━━━━━\u001b[0m\u001b[37m\u001b[0m \u001b[1m12s\u001b[0m 6ms/step - accuracy: 0.8141 - loss: 0.5305 - val_accuracy: 0.8100 - val_loss: 0.5460 - learning_rate: 0.0022\n",
      "Epoch 9/40\n",
      "\u001b[1m1875/1875\u001b[0m \u001b[32m━━━━━━━━━━━━━━━━━━━━\u001b[0m\u001b[37m\u001b[0m \u001b[1m13s\u001b[0m 7ms/step - accuracy: 0.8176 - loss: 0.5233 - val_accuracy: 0.8140 - val_loss: 0.5364 - learning_rate: 0.0025\n",
      "Epoch 10/40\n",
      "\u001b[1m1875/1875\u001b[0m \u001b[32m━━━━━━━━━━━━━━━━━━━━\u001b[0m\u001b[37m\u001b[0m \u001b[1m12s\u001b[0m 7ms/step - accuracy: 0.8189 - loss: 0.5174 - val_accuracy: 0.8163 - val_loss: 0.5286 - learning_rate: 0.0028\n",
      "Epoch 11/40\n",
      "\u001b[1m1875/1875\u001b[0m \u001b[32m━━━━━━━━━━━━━━━━━━━━\u001b[0m\u001b[37m\u001b[0m \u001b[1m12s\u001b[0m 7ms/step - accuracy: 0.8206 - loss: 0.5118 - val_accuracy: 0.8168 - val_loss: 0.5251 - learning_rate: 0.0032\n",
      "Epoch 12/40\n",
      "\u001b[1m1875/1875\u001b[0m \u001b[32m━━━━━━━━━━━━━━━━━━━━\u001b[0m\u001b[37m\u001b[0m \u001b[1m12s\u001b[0m 7ms/step - accuracy: 0.8226 - loss: 0.5078 - val_accuracy: 0.8153 - val_loss: 0.5270 - learning_rate: 0.0035\n",
      "Epoch 13/40\n",
      "\u001b[1m1875/1875\u001b[0m \u001b[32m━━━━━━━━━━━━━━━━━━━━\u001b[0m\u001b[37m\u001b[0m \u001b[1m12s\u001b[0m 7ms/step - accuracy: 0.8227 - loss: 0.5056 - val_accuracy: 0.8168 - val_loss: 0.5265 - learning_rate: 0.0040\n",
      "Epoch 14/40\n",
      "\u001b[1m1875/1875\u001b[0m \u001b[32m━━━━━━━━━━━━━━━━━━━━\u001b[0m\u001b[37m\u001b[0m \u001b[1m12s\u001b[0m 7ms/step - accuracy: 0.8230 - loss: 0.5048 - val_accuracy: 0.8182 - val_loss: 0.5252 - learning_rate: 0.0045\n",
      "Epoch 15/40\n",
      "\u001b[1m1875/1875\u001b[0m \u001b[32m━━━━━━━━━━━━━━━━━━━━\u001b[0m\u001b[37m\u001b[0m \u001b[1m12s\u001b[0m 6ms/step - accuracy: 0.8230 - loss: 0.5052 - val_accuracy: 0.8148 - val_loss: 0.5311 - learning_rate: 0.0050\n",
      "Epoch 16/40\n",
      "\u001b[1m1875/1875\u001b[0m \u001b[32m━━━━━━━━━━━━━━━━━━━━\u001b[0m\u001b[37m\u001b[0m \u001b[1m12s\u001b[0m 6ms/step - accuracy: 0.8226 - loss: 0.5068 - val_accuracy: 0.8175 - val_loss: 0.5294 - learning_rate: 0.0056\n",
      "Epoch 17/40\n",
      "\u001b[1m1875/1875\u001b[0m \u001b[32m━━━━━━━━━━━━━━━━━━━━\u001b[0m\u001b[37m\u001b[0m \u001b[1m12s\u001b[0m 6ms/step - accuracy: 0.8225 - loss: 0.5073 - val_accuracy: 0.8163 - val_loss: 0.5307 - learning_rate: 0.0063\n",
      "Epoch 18/40\n",
      "\u001b[1m1875/1875\u001b[0m \u001b[32m━━━━━━━━━━━━━━━━━━━━\u001b[0m\u001b[37m\u001b[0m \u001b[1m12s\u001b[0m 6ms/step - accuracy: 0.8215 - loss: 0.5100 - val_accuracy: 0.8163 - val_loss: 0.5327 - learning_rate: 0.0071\n",
      "Epoch 19/40\n",
      "\u001b[1m1875/1875\u001b[0m \u001b[32m━━━━━━━━━━━━━━━━━━━━\u001b[0m\u001b[37m\u001b[0m \u001b[1m23s\u001b[0m 7ms/step - accuracy: 0.8205 - loss: 0.5117 - val_accuracy: 0.8165 - val_loss: 0.5308 - learning_rate: 0.0079\n",
      "Epoch 20/40\n",
      "\u001b[1m1875/1875\u001b[0m \u001b[32m━━━━━━━━━━━━━━━━━━━━\u001b[0m\u001b[37m\u001b[0m \u001b[1m19s\u001b[0m 7ms/step - accuracy: 0.8199 - loss: 0.5156 - val_accuracy: 0.8176 - val_loss: 0.5346 - learning_rate: 0.0089\n",
      "Epoch 21/40\n",
      "\u001b[1m1875/1875\u001b[0m \u001b[32m━━━━━━━━━━━━━━━━━━━━\u001b[0m\u001b[37m\u001b[0m \u001b[1m20s\u001b[0m 7ms/step - accuracy: 0.8181 - loss: 0.5201 - val_accuracy: 0.8139 - val_loss: 0.5396 - learning_rate: 0.0100\n",
      "Epoch 22/40\n",
      "\u001b[1m1875/1875\u001b[0m \u001b[32m━━━━━━━━━━━━━━━━━━━━\u001b[0m\u001b[37m\u001b[0m \u001b[1m12s\u001b[0m 6ms/step - accuracy: 0.8161 - loss: 0.5259 - val_accuracy: 0.8069 - val_loss: 0.5625 - learning_rate: 0.0112\n",
      "Epoch 23/40\n",
      "\u001b[1m1875/1875\u001b[0m \u001b[32m━━━━━━━━━━━━━━━━━━━━\u001b[0m\u001b[37m\u001b[0m \u001b[1m12s\u001b[0m 6ms/step - accuracy: 0.8149 - loss: 0.5341 - val_accuracy: 0.7989 - val_loss: 0.5747 - learning_rate: 0.0126\n",
      "Epoch 24/40\n",
      "\u001b[1m1875/1875\u001b[0m \u001b[32m━━━━━━━━━━━━━━━━━━━━\u001b[0m\u001b[37m\u001b[0m \u001b[1m21s\u001b[0m 7ms/step - accuracy: 0.8106 - loss: 0.5449 - val_accuracy: 0.7908 - val_loss: 0.5882 - learning_rate: 0.0141\n",
      "Epoch 25/40\n",
      "\u001b[1m1875/1875\u001b[0m \u001b[32m━━━━━━━━━━━━━━━━━━━━\u001b[0m\u001b[37m\u001b[0m \u001b[1m21s\u001b[0m 7ms/step - accuracy: 0.8084 - loss: 0.5539 - val_accuracy: 0.7909 - val_loss: 0.5938 - learning_rate: 0.0158\n",
      "Epoch 26/40\n",
      "\u001b[1m1875/1875\u001b[0m \u001b[32m━━━━━━━━━━━━━━━━━━━━\u001b[0m\u001b[37m\u001b[0m \u001b[1m12s\u001b[0m 6ms/step - accuracy: 0.8041 - loss: 0.5666 - val_accuracy: 0.7838 - val_loss: 0.6038 - learning_rate: 0.0178\n",
      "Epoch 27/40\n",
      "\u001b[1m1875/1875\u001b[0m \u001b[32m━━━━━━━━━━━━━━━━━━━━\u001b[0m\u001b[37m\u001b[0m \u001b[1m20s\u001b[0m 6ms/step - accuracy: 0.8020 - loss: 0.5775 - val_accuracy: 0.7885 - val_loss: 0.5843 - learning_rate: 0.0200\n",
      "Epoch 28/40\n",
      "\u001b[1m1875/1875\u001b[0m \u001b[32m━━━━━━━━━━━━━━━━━━━━\u001b[0m\u001b[37m\u001b[0m \u001b[1m11s\u001b[0m 6ms/step - accuracy: 0.7950 - loss: 0.6006 - val_accuracy: 0.7803 - val_loss: 0.6257 - learning_rate: 0.0224\n",
      "Epoch 29/40\n",
      "\u001b[1m1875/1875\u001b[0m \u001b[32m━━━━━━━━━━━━━━━━━━━━\u001b[0m\u001b[37m\u001b[0m \u001b[1m12s\u001b[0m 6ms/step - accuracy: 0.7929 - loss: 0.6152 - val_accuracy: 0.7797 - val_loss: 0.6252 - learning_rate: 0.0251\n",
      "Epoch 30/40\n",
      "\u001b[1m1875/1875\u001b[0m \u001b[32m━━━━━━━━━━━━━━━━━━━━\u001b[0m\u001b[37m\u001b[0m \u001b[1m21s\u001b[0m 7ms/step - accuracy: 0.7969 - loss: 0.6209 - val_accuracy: 0.7729 - val_loss: 0.6418 - learning_rate: 0.0282\n",
      "Epoch 31/40\n",
      "\u001b[1m1875/1875\u001b[0m \u001b[32m━━━━━━━━━━━━━━━━━━━━\u001b[0m\u001b[37m\u001b[0m \u001b[1m12s\u001b[0m 6ms/step - accuracy: 0.7893 - loss: 0.6530 - val_accuracy: 0.7541 - val_loss: 0.7102 - learning_rate: 0.0316\n",
      "Epoch 32/40\n",
      "\u001b[1m1875/1875\u001b[0m \u001b[32m━━━━━━━━━━━━━━━━━━━━\u001b[0m\u001b[37m\u001b[0m \u001b[1m12s\u001b[0m 6ms/step - accuracy: 0.7801 - loss: 0.6783 - val_accuracy: 0.7439 - val_loss: 0.7474 - learning_rate: 0.0355\n",
      "Epoch 33/40\n",
      "\u001b[1m1875/1875\u001b[0m \u001b[32m━━━━━━━━━━━━━━━━━━━━\u001b[0m\u001b[37m\u001b[0m \u001b[1m21s\u001b[0m 7ms/step - accuracy: 0.7497 - loss: 0.7524 - val_accuracy: 0.7086 - val_loss: 0.9492 - learning_rate: 0.0398\n",
      "Epoch 34/40\n",
      "\u001b[1m1875/1875\u001b[0m \u001b[32m━━━━━━━━━━━━━━━━━━━━\u001b[0m\u001b[37m\u001b[0m \u001b[1m20s\u001b[0m 7ms/step - accuracy: 0.7348 - loss: 0.7935 - val_accuracy: 0.7551 - val_loss: 0.7434 - learning_rate: 0.0447\n",
      "Epoch 35/40\n",
      "\u001b[1m1875/1875\u001b[0m \u001b[32m━━━━━━━━━━━━━━━━━━━━\u001b[0m\u001b[37m\u001b[0m \u001b[1m11s\u001b[0m 6ms/step - accuracy: 0.6817 - loss: 0.9110 - val_accuracy: 0.6666 - val_loss: 0.9057 - learning_rate: 0.0501\n",
      "Epoch 36/40\n",
      "\u001b[1m1875/1875\u001b[0m \u001b[32m━━━━━━━━━━━━━━━━━━━━\u001b[0m\u001b[37m\u001b[0m \u001b[1m22s\u001b[0m 7ms/step - accuracy: 0.6164 - loss: 0.9706 - val_accuracy: 0.6002 - val_loss: 1.0200 - learning_rate: 0.0562\n",
      "Epoch 37/40\n",
      "\u001b[1m1875/1875\u001b[0m \u001b[32m━━━━━━━━━━━━━━━━━━━━\u001b[0m\u001b[37m\u001b[0m \u001b[1m12s\u001b[0m 6ms/step - accuracy: 0.5508 - loss: 1.1103 - val_accuracy: 0.4409 - val_loss: 1.4658 - learning_rate: 0.0631\n",
      "Epoch 38/40\n",
      "\u001b[1m1875/1875\u001b[0m \u001b[32m━━━━━━━━━━━━━━━━━━━━\u001b[0m\u001b[37m\u001b[0m \u001b[1m12s\u001b[0m 6ms/step - accuracy: 0.5253 - loss: 1.1720 - val_accuracy: 0.5315 - val_loss: 1.0862 - learning_rate: 0.0708\n",
      "Epoch 39/40\n",
      "\u001b[1m1875/1875\u001b[0m \u001b[32m━━━━━━━━━━━━━━━━━━━━\u001b[0m\u001b[37m\u001b[0m \u001b[1m12s\u001b[0m 6ms/step - accuracy: 0.4572 - loss: 1.2687 - val_accuracy: 0.3698 - val_loss: 1.3556 - learning_rate: 0.0794\n",
      "Epoch 40/40\n",
      "\u001b[1m1875/1875\u001b[0m \u001b[32m━━━━━━━━━━━━━━━━━━━━\u001b[0m\u001b[37m\u001b[0m \u001b[1m12s\u001b[0m 6ms/step - accuracy: 0.3959 - loss: 1.3855 - val_accuracy: 0.3934 - val_loss: 1.3276 - learning_rate: 0.0891\n"
     ]
    }
   ],
   "source": [
    "tf.random.set_seed(42)\n",
    "model_lr_find=tf.keras.Sequential([\n",
    "    tf.keras.Input(shape=(28,28)),\n",
    "    tf.keras.layers.Flatten(),\n",
    "    tf.keras.layers.Dense(4,activation='relu'),\n",
    "    tf.keras.layers.Dense(4,activation='relu'),\n",
    "    tf.keras.layers.Dense(10,activation='softmax'),\n",
    "])\n",
    "model_lr_find.compile(loss=tf.keras.losses.SparseCategoricalCrossentropy(),\n",
    "                      optimizer=tf.keras.optimizers.Adam(),\n",
    "                      metrics=['accuracy'])\n",
    "lr_schedular=tf.keras.callbacks.LearningRateScheduler(lambda epoch:1e-3*10**(epoch/20))\n",
    "find_lr_history=model_lr_find.fit(train_data_norm,train_label,epochs=40,validation_data=(test_data_norm,test_label),callbacks=[lr_schedular])"
   ]
  },
  {
   "cell_type": "code",
   "execution_count": 31,
   "id": "622abee0",
   "metadata": {},
   "outputs": [
    {
     "data": {
      "text/plain": [
       "Text(0.5, 1.0, 'Finding ideal Learning rate')"
      ]
     },
     "execution_count": 31,
     "metadata": {},
     "output_type": "execute_result"
    },
    {
     "data": {
      "image/png": "[encoded data removed]",
      "text/plain": [
       "<Figure size 640x480 with 1 Axes>"
      ]
     },
     "metadata": {},
     "output_type": "display_data"
    }
   ],
   "source": [
    "# Learning rate decay graph\n",
    "lrs=1e-3 *(10**(tf.range(40)/20))\n",
    "plt.semilogx(lrs,find_lr_history.history['loss'])\n",
    "plt.xlabel(\"Learning Rate \")\n",
    "plt.ylabel(\"Loss \")\n",
    "plt.title('Finding ideal Learning rate')"
   ]
  },
  {
   "cell_type": "code",
   "execution_count": 32,
   "id": "39bb219e",
   "metadata": {},
   "outputs": [
    {
     "data": {
      "text/plain": [
       "0.001"
      ]
     },
     "execution_count": 32,
     "metadata": {},
     "output_type": "execute_result"
    }
   ],
   "source": [
    "10**-3"
   ]
  },
  {
   "cell_type": "code",
   "execution_count": 33,
   "id": "684d7142",
   "metadata": {},
   "outputs": [
    {
     "name": "stdout",
     "output_type": "stream",
     "text": [
      "Epoch 1/20\n",
      "\u001b[1m1875/1875\u001b[0m \u001b[32m━━━━━━━━━━━━━━━━━━━━\u001b[0m\u001b[37m\u001b[0m \u001b[1m14s\u001b[0m 6ms/step - accuracy: 0.6480 - loss: 0.9659 - val_accuracy: 0.7408 - val_loss: 0.7218\n",
      "Epoch 2/20\n",
      "\u001b[1m1875/1875\u001b[0m \u001b[32m━━━━━━━━━━━━━━━━━━━━\u001b[0m\u001b[37m\u001b[0m \u001b[1m19s\u001b[0m 5ms/step - accuracy: 0.7601 - loss: 0.6696 - val_accuracy: 0.7657 - val_loss: 0.6547\n",
      "Epoch 3/20\n",
      "\u001b[1m1875/1875\u001b[0m \u001b[32m━━━━━━━━━━━━━━━━━━━━\u001b[0m\u001b[37m\u001b[0m \u001b[1m10s\u001b[0m 5ms/step - accuracy: 0.7738 - loss: 0.6270 - val_accuracy: 0.7741 - val_loss: 0.6336\n",
      "Epoch 4/20\n",
      "\u001b[1m1875/1875\u001b[0m \u001b[32m━━━━━━━━━━━━━━━━━━━━\u001b[0m\u001b[37m\u001b[0m \u001b[1m9s\u001b[0m 5ms/step - accuracy: 0.7800 - loss: 0.6078 - val_accuracy: 0.7783 - val_loss: 0.6215\n",
      "Epoch 5/20\n",
      "\u001b[1m1875/1875\u001b[0m \u001b[32m━━━━━━━━━━━━━━━━━━━━\u001b[0m\u001b[37m\u001b[0m \u001b[1m10s\u001b[0m 5ms/step - accuracy: 0.7844 - loss: 0.5957 - val_accuracy: 0.7801 - val_loss: 0.6155\n",
      "Epoch 6/20\n",
      "\u001b[1m1875/1875\u001b[0m \u001b[32m━━━━━━━━━━━━━━━━━━━━\u001b[0m\u001b[37m\u001b[0m \u001b[1m10s\u001b[0m 5ms/step - accuracy: 0.7871 - loss: 0.5872 - val_accuracy: 0.7800 - val_loss: 0.6116\n",
      "Epoch 7/20\n",
      "\u001b[1m1875/1875\u001b[0m \u001b[32m━━━━━━━━━━━━━━━━━━━━\u001b[0m\u001b[37m\u001b[0m \u001b[1m9s\u001b[0m 5ms/step - accuracy: 0.7889 - loss: 0.5809 - val_accuracy: 0.7807 - val_loss: 0.6093\n",
      "Epoch 8/20\n",
      "\u001b[1m1875/1875\u001b[0m \u001b[32m━━━━━━━━━━━━━━━━━━━━\u001b[0m\u001b[37m\u001b[0m \u001b[1m11s\u001b[0m 5ms/step - accuracy: 0.7905 - loss: 0.5761 - val_accuracy: 0.7810 - val_loss: 0.6077\n",
      "Epoch 9/20\n",
      "\u001b[1m1875/1875\u001b[0m \u001b[32m━━━━━━━━━━━━━━━━━━━━\u001b[0m\u001b[37m\u001b[0m \u001b[1m10s\u001b[0m 5ms/step - accuracy: 0.7920 - loss: 0.5720 - val_accuracy: 0.7814 - val_loss: 0.6064\n",
      "Epoch 10/20\n",
      "\u001b[1m1875/1875\u001b[0m \u001b[32m━━━━━━━━━━━━━━━━━━━━\u001b[0m\u001b[37m\u001b[0m \u001b[1m10s\u001b[0m 5ms/step - accuracy: 0.7935 - loss: 0.5686 - val_accuracy: 0.7810 - val_loss: 0.6058\n",
      "Epoch 11/20\n",
      "\u001b[1m1875/1875\u001b[0m \u001b[32m━━━━━━━━━━━━━━━━━━━━\u001b[0m\u001b[37m\u001b[0m \u001b[1m11s\u001b[0m 6ms/step - accuracy: 0.7943 - loss: 0.5656 - val_accuracy: 0.7811 - val_loss: 0.6051\n",
      "Epoch 12/20\n",
      "\u001b[1m1875/1875\u001b[0m \u001b[32m━━━━━━━━━━━━━━━━━━━━\u001b[0m\u001b[37m\u001b[0m \u001b[1m22s\u001b[0m 7ms/step - accuracy: 0.7954 - loss: 0.5630 - val_accuracy: 0.7825 - val_loss: 0.6058\n",
      "Epoch 13/20\n",
      "\u001b[1m1875/1875\u001b[0m \u001b[32m━━━━━━━━━━━━━━━━━━━━\u001b[0m\u001b[37m\u001b[0m \u001b[1m19s\u001b[0m 6ms/step - accuracy: 0.7958 - loss: 0.5606 - val_accuracy: 0.7822 - val_loss: 0.6052\n",
      "Epoch 14/20\n",
      "\u001b[1m1875/1875\u001b[0m \u001b[32m━━━━━━━━━━━━━━━━━━━━\u001b[0m\u001b[37m\u001b[0m \u001b[1m11s\u001b[0m 6ms/step - accuracy: 0.7964 - loss: 0.5584 - val_accuracy: 0.7823 - val_loss: 0.6047\n",
      "Epoch 15/20\n",
      "\u001b[1m1875/1875\u001b[0m \u001b[32m━━━━━━━━━━━━━━━━━━━━\u001b[0m\u001b[37m\u001b[0m \u001b[1m21s\u001b[0m 6ms/step - accuracy: 0.7972 - loss: 0.5565 - val_accuracy: 0.7832 - val_loss: 0.6038\n",
      "Epoch 16/20\n",
      "\u001b[1m1875/1875\u001b[0m \u001b[32m━━━━━━━━━━━━━━━━━━━━\u001b[0m\u001b[37m\u001b[0m \u001b[1m10s\u001b[0m 5ms/step - accuracy: 0.7979 - loss: 0.5546 - val_accuracy: 0.7835 - val_loss: 0.6041\n",
      "Epoch 17/20\n",
      "\u001b[1m1875/1875\u001b[0m \u001b[32m━━━━━━━━━━━━━━━━━━━━\u001b[0m\u001b[37m\u001b[0m \u001b[1m10s\u001b[0m 5ms/step - accuracy: 0.7981 - loss: 0.5530 - val_accuracy: 0.7843 - val_loss: 0.6041\n",
      "Epoch 18/20\n",
      "\u001b[1m1875/1875\u001b[0m \u001b[32m━━━━━━━━━━━━━━━━━━━━\u001b[0m\u001b[37m\u001b[0m \u001b[1m11s\u001b[0m 6ms/step - accuracy: 0.7988 - loss: 0.5514 - val_accuracy: 0.7850 - val_loss: 0.6044\n",
      "Epoch 19/20\n",
      "\u001b[1m1875/1875\u001b[0m \u001b[32m━━━━━━━━━━━━━━━━━━━━\u001b[0m\u001b[37m\u001b[0m \u001b[1m21s\u001b[0m 6ms/step - accuracy: 0.7990 - loss: 0.5499 - val_accuracy: 0.7853 - val_loss: 0.6048\n",
      "Epoch 20/20\n",
      "\u001b[1m1875/1875\u001b[0m \u001b[32m━━━━━━━━━━━━━━━━━━━━\u001b[0m\u001b[37m\u001b[0m \u001b[1m11s\u001b[0m 6ms/step - accuracy: 0.7992 - loss: 0.5485 - val_accuracy: 0.7853 - val_loss: 0.6045\n"
     ]
    }
   ],
   "source": [
    "# as ideal lr is 0.001 so refit the model\n",
    "tf.random.set_seed(42)\n",
    "model_new=tf.keras.Sequential([\n",
    "    tf.keras.Input(shape=(28,28)),\n",
    "    tf.keras.layers.Flatten(),\n",
    "    tf.keras.layers.Dense(4,activation='relu'),\n",
    "    tf.keras.layers.Dense(4,activation='relu'),\n",
    "    tf.keras.layers.Dense(10,activation='softmax'),\n",
    "])\n",
    "model_new.compile(loss=tf.keras.losses.SparseCategoricalCrossentropy(),\n",
    "                      optimizer=tf.keras.optimizers.Adam(0.001),\n",
    "                      metrics=['accuracy'])\n",
    "ideal_lr_history=model_new.fit(train_data_norm,train_label,epochs=20,validation_data=(test_data_norm,test_label))"
   ]
  }
 ],
 "metadata": {
  "kernelspec": {
   "display_name": "base",
   "language": "python",
   "name": "python3"
  },
  "language_info": {
   "codemirror_mode": {
    "name": "ipython",
    "version": 3
   },
   "file_extension": ".py",
   "mimetype": "text/x-python",
   "name": "python",
   "nbconvert_exporter": "python",
   "pygments_lexer": "ipython3",
   "version": "3.13.5"
  }
 },
 "nbformat": 4,
 "nbformat_minor": 5
}
