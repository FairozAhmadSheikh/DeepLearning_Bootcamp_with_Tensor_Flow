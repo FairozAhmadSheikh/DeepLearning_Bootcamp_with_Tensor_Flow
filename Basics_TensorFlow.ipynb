{
  "nbformat": 4,
  "nbformat_minor": 0,
  "metadata": {
    "colab": {
      "provenance": []
    },
    "kernelspec": {
      "name": "python3",
      "display_name": "Python 3"
    },
    "language_info": {
      "name": "python"
    }
  },
  "cells": [
    {
      "cell_type": "code",
      "execution_count": 1,
      "metadata": {
        "colab": {
          "base_uri": "https://localhost:8080/"
        },
        "id": "klbnGbi50YzZ",
        "outputId": "797b92f6-45f8-4b43-c63c-11510f98f254"
      },
      "outputs": [
        {
          "output_type": "stream",
          "name": "stdout",
          "text": [
            "Colab only includes TensorFlow 2.x; %tensorflow_version has no effect.\n",
            "<module 'tensorflow._api.v2.version' from '/usr/local/lib/python3.10/dist-packages/tensorflow/_api/v2/version/__init__.py'>\n"
          ]
        }
      ],
      "source": [
        "%tensorflow_version 2.x\n",
        "import tensorflow as tf\n",
        "print(tf.version)"
      ]
    },
    {
      "cell_type": "markdown",
      "source": [
        "**Tensor** is a vector or matrix that is is generalized to higher dimensions\n",
        "**TensorFlow **represents tensors as n-dimensional arrays of base datatype\n",
        "TF Programs work by building graphs of tensor objects that detail how tensors are related.\n",
        "Then running different or all parts of the graphs allows results to be generated"
      ],
      "metadata": {
        "id": "sfArJGhu0wpY"
      }
    },
    {
      "cell_type": "code",
      "source": [
        "# Creating Tensors\n",
        "\n",
        "# String\n",
        "string=tf.Variable(\"I am String \",tf.string)\n",
        "# Number\n",
        "number=tf.Variable(321,tf.int16)\n",
        "# Float\n",
        "floating=tf.Variable(22.6,tf.float16)"
      ],
      "metadata": {
        "id": "AC3yDm9z1ak0"
      },
      "execution_count": 3,
      "outputs": []
    },
    {
      "cell_type": "markdown",
      "source": [
        "**Rank / Degree of a Tensor :** Simply means the number of dimensions involved in the tensor , What we created above all are rank1 Tensor\n",
        "\n",
        "**Creating N Rank Tensors : ** (below)"
      ],
      "metadata": {
        "id": "DG1AAseT2Phy"
      }
    },
    {
      "cell_type": "code",
      "source": [
        "rank1_tensor=tf.Variable([\"Hello\",\"Google\",\"Yahoo\"],tf.string)\n",
        "rank2_tensor=tf.Variable([[\"I AM \",\"A\",\"Coder\"],[\"I LOVE \",\"JAVA\",\"Script\"],[\"no\",\"yes\",\"no\"]],dtype=tf.string)\n",
        "# To print Rank\n",
        "# tf.rank(rank1_tensor)\n",
        "tf.rank(rank2_tensor)"
      ],
      "metadata": {
        "colab": {
          "base_uri": "https://localhost:8080/"
        },
        "id": "EA4F1Rq-207I",
        "outputId": "7ad3a3ee-8745-465f-a406-43f1b7d884de"
      },
      "execution_count": 23,
      "outputs": [
        {
          "output_type": "execute_result",
          "data": {
            "text/plain": [
              "<tf.Tensor: shape=(), dtype=int32, numpy=2>"
            ]
          },
          "metadata": {},
          "execution_count": 23
        }
      ]
    },
    {
      "cell_type": "markdown",
      "source": [
        "**Shape of Tensor :** The number of elements of a tensor is the product of all the sizes of its shape which in simple word means the number of elements in a dimension\n"
      ],
      "metadata": {
        "id": "f50qe_Ke5ZQh"
      }
    },
    {
      "cell_type": "code",
      "source": [
        "rank2_tensor.shape"
      ],
      "metadata": {
        "colab": {
          "base_uri": "https://localhost:8080/"
        },
        "id": "QWY6PAG650X0",
        "outputId": "4942b187-4df1-4a42-8f25-1d0a7d382938"
      },
      "execution_count": 24,
      "outputs": [
        {
          "output_type": "execute_result",
          "data": {
            "text/plain": [
              "TensorShape([3, 3])"
            ]
          },
          "metadata": {},
          "execution_count": 24
        }
      ]
    },
    {
      "cell_type": "markdown",
      "source": [
        "**Changing shapes of a Tensor :** Below"
      ],
      "metadata": {
        "id": "r2HtTnWF6ZUP"
      }
    },
    {
      "cell_type": "code",
      "source": [
        "t1=tf.ones([1,2,3]) # One internal list which consits two lists internally which internally  consists  of 3 elements\n",
        "print(t1)\n",
        "t2=tf.reshape(t1,[2,3,1])\n",
        "print(t2)\n",
        "t3=tf.reshape(t1,[3,2,1])\n",
        "print(t3)"
      ],
      "metadata": {
        "colab": {
          "base_uri": "https://localhost:8080/"
        },
        "id": "uySBhP6M6cIO",
        "outputId": "b163abcd-2b6c-4922-d401-3ef7d430cd24"
      },
      "execution_count": 32,
      "outputs": [
        {
          "output_type": "stream",
          "name": "stdout",
          "text": [
            "tf.Tensor(\n",
            "[[[1. 1. 1.]\n",
            "  [1. 1. 1.]]], shape=(1, 2, 3), dtype=float32)\n",
            "tf.Tensor(\n",
            "[[[1.]\n",
            "  [1.]\n",
            "  [1.]]\n",
            "\n",
            " [[1.]\n",
            "  [1.]\n",
            "  [1.]]], shape=(2, 3, 1), dtype=float32)\n",
            "tf.Tensor(\n",
            "[[[1.]\n",
            "  [1.]]\n",
            "\n",
            " [[1.]\n",
            "  [1.]]\n",
            "\n",
            " [[1.]\n",
            "  [1.]]], shape=(3, 2, 1), dtype=float32)\n"
          ]
        }
      ]
    },
    {
      "cell_type": "markdown",
      "source": [
        "**Types of Tensor:**\n",
        "1: Variable\n",
        "2: Constant\n",
        "3: Placeholder\n",
        "4: SpareTensor\n",
        "\n",
        "With the Exception of **Variable**  all of the tensors are immutable , their value may not change during the execution\n",
        "\n"
      ],
      "metadata": {
        "id": "DO98iSIR7kDB"
      }
    },
    {
      "cell_type": "markdown",
      "source": [
        "**Evalvating Tensor :**Since Tensors Represent a partially Complete Computation we will sometime need to run a session to Evalvate The Tensor.\n",
        "Syntax:\n",
        "with tf.Session() as sess:\n",
        "  tensor_name.eval()"
      ],
      "metadata": {
        "id": "Er8m85cc9Eie"
      }
    }
  ]
}