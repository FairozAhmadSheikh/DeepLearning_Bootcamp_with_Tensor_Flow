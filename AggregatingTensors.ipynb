{
  "nbformat": 4,
  "nbformat_minor": 0,
  "metadata": {
    "colab": {
      "provenance": [],
      "authorship_tag": "ABX9TyOhEtF6c0D/OulfoIj9cAET",
      "include_colab_link": true
    },
    "kernelspec": {
      "name": "python3",
      "display_name": "Python 3"
    },
    "language_info": {
      "name": "python"
    }
  },
  "cells": [
    {
      "cell_type": "markdown",
      "metadata": {
        "id": "view-in-github",
        "colab_type": "text"
      },
      "source": [
        "<a href=\"https://colab.research.google.com/github/FairozAhmadSheikh/Tensor_Flow/blob/main/AggregatingTensors.ipynb\" target=\"_parent\"><img src=\"https://colab.research.google.com/assets/colab-badge.svg\" alt=\"Open In Colab\"/></a>"
      ]
    },
    {
      "cell_type": "code",
      "execution_count": 46,
      "metadata": {
        "id": "EeIJ3q8N1WzR"
      },
      "outputs": [],
      "source": [
        "import tensorflow as tf"
      ]
    },
    {
      "cell_type": "code",
      "source": [
        "import numpy as np"
      ],
      "metadata": {
        "id": "gOFUiJ781dhb"
      },
      "execution_count": 47,
      "outputs": []
    },
    {
      "cell_type": "code",
      "source": [
        "tensor=tf.constant(np.random.randint(1,45,size=50))"
      ],
      "metadata": {
        "id": "QdPpkq0q1fZd"
      },
      "execution_count": 48,
      "outputs": []
    },
    {
      "cell_type": "code",
      "source": [
        "tensor"
      ],
      "metadata": {
        "colab": {
          "base_uri": "https://localhost:8080/"
        },
        "id": "ebLfFrCR44AI",
        "outputId": "cb1c2344-acf3-4a31-a97f-04d2af64af33"
      },
      "execution_count": 49,
      "outputs": [
        {
          "output_type": "execute_result",
          "data": {
            "text/plain": [
              "<tf.Tensor: shape=(50,), dtype=int64, numpy=\n",
              "array([19,  2, 26, 20, 42,  8, 33,  1, 37,  7, 24, 13, 21, 35, 29,  1, 28,\n",
              "       31, 31,  8, 37, 21, 37,  2, 20,  8, 43, 42, 44, 29, 25, 43, 19, 31,\n",
              "       32,  4, 21, 25,  7, 16,  2, 11, 14, 41, 22, 29, 33, 43, 38, 34])>"
            ]
          },
          "metadata": {},
          "execution_count": 49
        }
      ]
    },
    {
      "cell_type": "markdown",
      "source": [
        "\n",
        "**Aggregating Tensors** : Condensing Tensors from multiple values to smaller values\n",
        "1.   Finding Absolute values\n",
        "2.   Min, Max, Mean, Standard Deviation, variance\n",
        "\n"
      ],
      "metadata": {
        "id": "UShtAe_15Py5"
      }
    },
    {
      "cell_type": "code",
      "source": [
        "neg_tesnor=tf.negative(tensor)"
      ],
      "metadata": {
        "id": "vC6zzas248ma"
      },
      "execution_count": 50,
      "outputs": []
    },
    {
      "cell_type": "code",
      "source": [
        "neg_tesnor"
      ],
      "metadata": {
        "colab": {
          "base_uri": "https://localhost:8080/"
        },
        "id": "Jj-Rki7i5Jk_",
        "outputId": "981ac290-2a96-4e02-dcc4-867d73d76476"
      },
      "execution_count": 51,
      "outputs": [
        {
          "output_type": "execute_result",
          "data": {
            "text/plain": [
              "<tf.Tensor: shape=(50,), dtype=int64, numpy=\n",
              "array([-19,  -2, -26, -20, -42,  -8, -33,  -1, -37,  -7, -24, -13, -21,\n",
              "       -35, -29,  -1, -28, -31, -31,  -8, -37, -21, -37,  -2, -20,  -8,\n",
              "       -43, -42, -44, -29, -25, -43, -19, -31, -32,  -4, -21, -25,  -7,\n",
              "       -16,  -2, -11, -14, -41, -22, -29, -33, -43, -38, -34])>"
            ]
          },
          "metadata": {},
          "execution_count": 51
        }
      ]
    },
    {
      "cell_type": "code",
      "source": [
        "tf.abs(neg_tesnor)"
      ],
      "metadata": {
        "colab": {
          "base_uri": "https://localhost:8080/"
        },
        "id": "OQZn4sxa5Kjw",
        "outputId": "4d38212e-5548-405e-f79d-357de960b7da"
      },
      "execution_count": 52,
      "outputs": [
        {
          "output_type": "execute_result",
          "data": {
            "text/plain": [
              "<tf.Tensor: shape=(50,), dtype=int64, numpy=\n",
              "array([19,  2, 26, 20, 42,  8, 33,  1, 37,  7, 24, 13, 21, 35, 29,  1, 28,\n",
              "       31, 31,  8, 37, 21, 37,  2, 20,  8, 43, 42, 44, 29, 25, 43, 19, 31,\n",
              "       32,  4, 21, 25,  7, 16,  2, 11, 14, 41, 22, 29, 33, 43, 38, 34])>"
            ]
          },
          "metadata": {},
          "execution_count": 52
        }
      ]
    },
    {
      "cell_type": "code",
      "source": [
        "# Min Max Mean Sum Standard div\n",
        "print(\"the min of the tensor is : \",tf.reduce_min(tensor).numpy())\n",
        "print(\"the max of the tensor is : \",tf.reduce_max(tensor).numpy())\n",
        "print(\"the mean of the tensor is : \",tf.reduce_mean(tensor).numpy())\n",
        "print(\"the sum of the tensor is : \",tf.reduce_sum(tensor).numpy())"
      ],
      "metadata": {
        "colab": {
          "base_uri": "https://localhost:8080/"
        },
        "id": "8tnOi9Pm5NFy",
        "outputId": "38f12d13-1fe6-49df-a9c0-9d6413f12182"
      },
      "execution_count": 53,
      "outputs": [
        {
          "output_type": "stream",
          "name": "stdout",
          "text": [
            "the min of the tensor is :  1\n",
            "the max of the tensor is :  44\n",
            "the mean of the tensor is :  23\n",
            "the sum of the tensor is :  1189\n"
          ]
        }
      ]
    },
    {
      "cell_type": "code",
      "source": [
        "tensor=tf.cast(tensor,dtype=tf.float32)\n",
        "print(\"the standard devaition of the tensor is : \",tf.math.reduce_std(tensor).numpy())"
      ],
      "metadata": {
        "colab": {
          "base_uri": "https://localhost:8080/"
        },
        "id": "ux7WhOo06Fmv",
        "outputId": "a2a4138c-a56b-4031-b174-70a2de416922"
      },
      "execution_count": 54,
      "outputs": [
        {
          "output_type": "stream",
          "name": "stdout",
          "text": [
            "the standard devaition of the tensor is :  13.141218\n"
          ]
        }
      ]
    },
    {
      "cell_type": "code",
      "source": [
        "print(\"the variance of the tensor is : \",tf.math.reduce_variance(tensor).numpy())"
      ],
      "metadata": {
        "colab": {
          "base_uri": "https://localhost:8080/"
        },
        "id": "jtFQ88_U6_F1",
        "outputId": "81579daa-669e-4c37-cff7-c50894f4e35c"
      },
      "execution_count": 55,
      "outputs": [
        {
          "output_type": "stream",
          "name": "stdout",
          "text": [
            "the variance of the tensor is :  172.69162\n"
          ]
        }
      ]
    },
    {
      "cell_type": "markdown",
      "source": [
        "Finding Positional Maximum and Minimum"
      ],
      "metadata": {
        "id": "5fc1P7WHAUIX"
      }
    },
    {
      "cell_type": "code",
      "source": [
        "tf.random.set_seed(41)\n",
        "F=tf.random.uniform(shape=[50])\n",
        "F"
      ],
      "metadata": {
        "colab": {
          "base_uri": "https://localhost:8080/"
        },
        "id": "_8k0JjUDAaxL",
        "outputId": "fa0168b4-795e-4a83-9541-692d109a9cb0"
      },
      "execution_count": 56,
      "outputs": [
        {
          "output_type": "execute_result",
          "data": {
            "text/plain": [
              "<tf.Tensor: shape=(50,), dtype=float32, numpy=\n",
              "array([0.5692048 , 0.6666248 , 0.32513022, 0.09477615, 0.1430676 ,\n",
              "       0.9487461 , 0.26147044, 0.53215694, 0.5716516 , 0.79212654,\n",
              "       0.5494933 , 0.08265758, 0.22660685, 0.52790964, 0.5241066 ,\n",
              "       0.77981806, 0.4664129 , 0.168244  , 0.9082866 , 0.7481499 ,\n",
              "       0.34556842, 0.89022803, 0.9366288 , 0.81991935, 0.89360964,\n",
              "       0.4494692 , 0.33884466, 0.79724765, 0.47883475, 0.89233124,\n",
              "       0.5223061 , 0.74678063, 0.03605425, 0.33815563, 0.9649874 ,\n",
              "       0.7138554 , 0.3746251 , 0.45740092, 0.83387935, 0.3895929 ,\n",
              "       0.6817522 , 0.362216  , 0.13202369, 0.17989862, 0.8558754 ,\n",
              "       0.69342184, 0.08636093, 0.41801453, 0.10704994, 0.21429658],\n",
              "      dtype=float32)>"
            ]
          },
          "metadata": {},
          "execution_count": 56
        }
      ]
    },
    {
      "cell_type": "code",
      "source": [
        "import matplotlib.pyplot as plt\n",
        "import seaborn as sns"
      ],
      "metadata": {
        "id": "NWM6jkbyAf3K"
      },
      "execution_count": 57,
      "outputs": []
    },
    {
      "cell_type": "code",
      "source": [
        "sns.histplot(F,kde=True)\n",
        "plt.show()"
      ],
      "metadata": {
        "colab": {
          "base_uri": "https://localhost:8080/",
          "height": 430
        },
        "id": "jADYg5TuAoFw",
        "outputId": "56ada609-dff5-4683-d4d3-d9ad57f3ac32"
      },
      "execution_count": 58,
      "outputs": [
        {
          "output_type": "display_data",
          "data": {
            "text/plain": [
              "<Figure size 640x480 with 1 Axes>"
            ],
            "image/png": "[encoded data removed]"
          },
          "metadata": {}
        }
      ]
    },
    {
      "cell_type": "code",
      "source": [
        "#Finding Max Value\n",
        "tf.reduce_max(F).numpy()"
      ],
      "metadata": {
        "colab": {
          "base_uri": "https://localhost:8080/"
        },
        "id": "bnGYxFfxBpsP",
        "outputId": "bda96d26-57a5-4b97-d297-0c4c3af0d271"
      },
      "execution_count": 59,
      "outputs": [
        {
          "output_type": "execute_result",
          "data": {
            "text/plain": [
              "np.float32(0.9649874)"
            ]
          },
          "metadata": {},
          "execution_count": 59
        }
      ]
    },
    {
      "cell_type": "code",
      "source": [
        "#Positional Maximum\n",
        "tf.argmax(F).numpy()"
      ],
      "metadata": {
        "colab": {
          "base_uri": "https://localhost:8080/"
        },
        "id": "ddlAzjVhAqjJ",
        "outputId": "69a51370-2e65-454a-90f3-f2413450d34a"
      },
      "execution_count": 60,
      "outputs": [
        {
          "output_type": "execute_result",
          "data": {
            "text/plain": [
              "np.int64(34)"
            ]
          },
          "metadata": {},
          "execution_count": 60
        }
      ]
    },
    {
      "cell_type": "code",
      "source": [
        "# Verify\n",
        "F[tf.argmax(F)].numpy()"
      ],
      "metadata": {
        "colab": {
          "base_uri": "https://localhost:8080/"
        },
        "id": "Tvu3DIArBV1R",
        "outputId": "e5f7536a-c353-478e-95d3-cc60f7a7532a"
      },
      "execution_count": 61,
      "outputs": [
        {
          "output_type": "execute_result",
          "data": {
            "text/plain": [
              "np.float32(0.9649874)"
            ]
          },
          "metadata": {},
          "execution_count": 61
        }
      ]
    },
    {
      "cell_type": "code",
      "source": [
        "# Finding Min\n",
        "tf.reduce_min(F).numpy()"
      ],
      "metadata": {
        "colab": {
          "base_uri": "https://localhost:8080/"
        },
        "id": "bmZLjzXQB1Fq",
        "outputId": "60f86232-d064-4ae2-debc-33682978fe06"
      },
      "execution_count": 62,
      "outputs": [
        {
          "output_type": "execute_result",
          "data": {
            "text/plain": [
              "np.float32(0.036054254)"
            ]
          },
          "metadata": {},
          "execution_count": 62
        }
      ]
    },
    {
      "cell_type": "code",
      "source": [
        "# Positional Min\n",
        "tf.argmin(F).numpy()"
      ],
      "metadata": {
        "colab": {
          "base_uri": "https://localhost:8080/"
        },
        "id": "G5Tw9NTqB_Fe",
        "outputId": "45407fa4-7c80-4695-d77d-77cc47cc448f"
      },
      "execution_count": 63,
      "outputs": [
        {
          "output_type": "execute_result",
          "data": {
            "text/plain": [
              "np.int64(32)"
            ]
          },
          "metadata": {},
          "execution_count": 63
        }
      ]
    },
    {
      "cell_type": "code",
      "source": [
        "# Verify Min\n",
        "F[tf.argmin(F)].numpy()"
      ],
      "metadata": {
        "colab": {
          "base_uri": "https://localhost:8080/"
        },
        "id": "Mzl48qbUCB3i",
        "outputId": "56168c48-a21f-4c1e-df6f-99ae1e4493b7"
      },
      "execution_count": 64,
      "outputs": [
        {
          "output_type": "execute_result",
          "data": {
            "text/plain": [
              "np.float32(0.036054254)"
            ]
          },
          "metadata": {},
          "execution_count": 64
        }
      ]
    },
    {
      "cell_type": "markdown",
      "source": [
        "# **Squeeing All Single Dimension(Removing all single Dimensions)**"
      ],
      "metadata": {
        "id": "m5whA3L3YEU4"
      }
    },
    {
      "cell_type": "code",
      "source": [
        "tf.random.set_seed(43)\n",
        "T=tf.constant(tf.random.uniform(shape=[50]),shape=(1,1,1,1,50))\n",
        "T"
      ],
      "metadata": {
        "colab": {
          "base_uri": "https://localhost:8080/"
        },
        "id": "ylgbr87IXNMZ",
        "outputId": "5f94d912-5bc5-4f58-ccd2-b7912b170190"
      },
      "execution_count": 65,
      "outputs": [
        {
          "output_type": "execute_result",
          "data": {
            "text/plain": [
              "<tf.Tensor: shape=(1, 1, 1, 1, 50), dtype=float32, numpy=\n",
              "array([[[[[0.2733041 , 0.5020257 , 0.6628481 , 0.6473899 , 0.3857293 ,\n",
              "           0.36172044, 0.5412978 , 0.48597205, 0.8773687 , 0.19192028,\n",
              "           0.9264002 , 0.89626896, 0.6672703 , 0.47216296, 0.22052324,\n",
              "           0.88224113, 0.21332026, 0.3742751 , 0.6198429 , 0.67401516,\n",
              "           0.33629417, 0.04864144, 0.00223255, 0.9375315 , 0.1595205 ,\n",
              "           0.76488817, 0.5631764 , 0.48775423, 0.4250028 , 0.29910493,\n",
              "           0.8409952 , 0.6727512 , 0.00153816, 0.4085456 , 0.9261861 ,\n",
              "           0.18742752, 0.60272205, 0.99417937, 0.42423892, 0.27978897,\n",
              "           0.9430332 , 0.80545497, 0.06359637, 0.56783044, 0.26592016,\n",
              "           0.98973536, 0.5452112 , 0.11514163, 0.53635466, 0.6935723 ]]]]],\n",
              "      dtype=float32)>"
            ]
          },
          "metadata": {},
          "execution_count": 65
        }
      ]
    },
    {
      "cell_type": "code",
      "source": [
        "T_squeezed=tf.squeeze(T)\n",
        "T_squeezed.shape, T.shape"
      ],
      "metadata": {
        "colab": {
          "base_uri": "https://localhost:8080/"
        },
        "id": "xx4LbNUaXlWY",
        "outputId": "d01f5eb0-f6f3-4482-af16-ea4f4bece6a3"
      },
      "execution_count": 66,
      "outputs": [
        {
          "output_type": "execute_result",
          "data": {
            "text/plain": [
              "(TensorShape([50]), TensorShape([1, 1, 1, 1, 50]))"
            ]
          },
          "metadata": {},
          "execution_count": 66
        }
      ]
    },
    {
      "cell_type": "markdown",
      "source": [
        "# **One Hot Encoding Tensors**"
      ],
      "metadata": {
        "id": "_NE2WIK6avFN"
      }
    },
    {
      "cell_type": "code",
      "source": [
        "some_list=[1,2,3,4]\n",
        "some_list"
      ],
      "metadata": {
        "colab": {
          "base_uri": "https://localhost:8080/"
        },
        "id": "8foBjJfJY4tX",
        "outputId": "deeb0df1-93fc-43ca-fa58-5acd39214e1a"
      },
      "execution_count": 67,
      "outputs": [
        {
          "output_type": "execute_result",
          "data": {
            "text/plain": [
              "[1, 2, 3, 4]"
            ]
          },
          "metadata": {},
          "execution_count": 67
        }
      ]
    },
    {
      "cell_type": "code",
      "source": [
        "tf.one_hot(some_list,depth=4)"
      ],
      "metadata": {
        "colab": {
          "base_uri": "https://localhost:8080/"
        },
        "id": "gCptCQ6ea7CA",
        "outputId": "b59ab672-0add-4d6c-85b2-82dc71259470"
      },
      "execution_count": 68,
      "outputs": [
        {
          "output_type": "execute_result",
          "data": {
            "text/plain": [
              "<tf.Tensor: shape=(4, 4), dtype=float32, numpy=\n",
              "array([[0., 1., 0., 0.],\n",
              "       [0., 0., 1., 0.],\n",
              "       [0., 0., 0., 1.],\n",
              "       [0., 0., 0., 0.]], dtype=float32)>"
            ]
          },
          "metadata": {},
          "execution_count": 68
        }
      ]
    },
    {
      "cell_type": "code",
      "source": [
        "# Specify custom values for one hot encoding\n",
        "tf.one_hot(some_list,depth=4,on_value='Love',off_value=\"Love\")"
      ],
      "metadata": {
        "colab": {
          "base_uri": "https://localhost:8080/"
        },
        "id": "VFlAXM4ia-vo",
        "outputId": "730db98e-d131-427f-f50b-b48e9ed00dd6"
      },
      "execution_count": 69,
      "outputs": [
        {
          "output_type": "execute_result",
          "data": {
            "text/plain": [
              "<tf.Tensor: shape=(4, 4), dtype=string, numpy=\n",
              "array([[b'Love', b'Love', b'Love', b'Love'],\n",
              "       [b'Love', b'Love', b'Love', b'Love'],\n",
              "       [b'Love', b'Love', b'Love', b'Love'],\n",
              "       [b'Love', b'Love', b'Love', b'Love']], dtype=object)>"
            ]
          },
          "metadata": {},
          "execution_count": 69
        }
      ]
    },
    {
      "cell_type": "markdown",
      "source": [
        "# **Trying Tensor Math Opearations**\n",
        "\n",
        "\n",
        "1.  Squaring , Log , Square Root\n",
        "\n"
      ],
      "metadata": {
        "id": "oPBNU6zDdNQw"
      }
    },
    {
      "cell_type": "code",
      "source": [
        "H=tf.range(1,50)"
      ],
      "metadata": {
        "id": "bBWOz_zGbR0u"
      },
      "execution_count": 70,
      "outputs": []
    },
    {
      "cell_type": "code",
      "source": [
        "H"
      ],
      "metadata": {
        "colab": {
          "base_uri": "https://localhost:8080/"
        },
        "id": "bHNUQI45dh6J",
        "outputId": "f9c9b621-5408-4087-b474-b5811b8f34f9"
      },
      "execution_count": 71,
      "outputs": [
        {
          "output_type": "execute_result",
          "data": {
            "text/plain": [
              "<tf.Tensor: shape=(49,), dtype=int32, numpy=\n",
              "array([ 1,  2,  3,  4,  5,  6,  7,  8,  9, 10, 11, 12, 13, 14, 15, 16, 17,\n",
              "       18, 19, 20, 21, 22, 23, 24, 25, 26, 27, 28, 29, 30, 31, 32, 33, 34,\n",
              "       35, 36, 37, 38, 39, 40, 41, 42, 43, 44, 45, 46, 47, 48, 49],\n",
              "      dtype=int32)>"
            ]
          },
          "metadata": {},
          "execution_count": 71
        }
      ]
    },
    {
      "cell_type": "code",
      "source": [
        "# Square\n",
        "tf.square(H)"
      ],
      "metadata": {
        "colab": {
          "base_uri": "https://localhost:8080/"
        },
        "id": "VBL4E64cdi4W",
        "outputId": "5f1aa992-0eef-431a-e932-be66213f94aa"
      },
      "execution_count": 72,
      "outputs": [
        {
          "output_type": "execute_result",
          "data": {
            "text/plain": [
              "<tf.Tensor: shape=(49,), dtype=int32, numpy=\n",
              "array([   1,    4,    9,   16,   25,   36,   49,   64,   81,  100,  121,\n",
              "        144,  169,  196,  225,  256,  289,  324,  361,  400,  441,  484,\n",
              "        529,  576,  625,  676,  729,  784,  841,  900,  961, 1024, 1089,\n",
              "       1156, 1225, 1296, 1369, 1444, 1521, 1600, 1681, 1764, 1849, 1936,\n",
              "       2025, 2116, 2209, 2304, 2401], dtype=int32)>"
            ]
          },
          "metadata": {},
          "execution_count": 72
        }
      ]
    },
    {
      "cell_type": "code",
      "source": [
        "# Squareroot\n",
        "tf.math.sqrt(tf.cast(H,dtype=tf.float32))"
      ],
      "metadata": {
        "colab": {
          "base_uri": "https://localhost:8080/"
        },
        "id": "3bWeAgq8dltg",
        "outputId": "ac126340-b0ba-4fd8-b246-7d8e6530cfb5"
      },
      "execution_count": 73,
      "outputs": [
        {
          "output_type": "execute_result",
          "data": {
            "text/plain": [
              "<tf.Tensor: shape=(49,), dtype=float32, numpy=\n",
              "array([1.       , 1.4142135, 1.7320508, 2.       , 2.236068 , 2.4494898,\n",
              "       2.6457512, 2.828427 , 3.       , 3.1622777, 3.3166249, 3.4641016,\n",
              "       3.6055512, 3.7416575, 3.8729835, 4.       , 4.1231055, 4.2426405,\n",
              "       4.358899 , 4.472136 , 4.582576 , 4.690416 , 4.7958317, 4.8989797,\n",
              "       5.       , 5.0990195, 5.196152 , 5.2915025, 5.3851647, 5.477226 ,\n",
              "       5.5677643, 5.656854 , 5.7445626, 5.8309517, 5.91608  , 6.       ,\n",
              "       6.0827627, 6.164414 , 6.244998 , 6.3245554, 6.4031243, 6.4807405,\n",
              "       6.5574384, 6.6332498, 6.708204 , 6.78233  , 6.8556547, 6.928203 ,\n",
              "       7.       ], dtype=float32)>"
            ]
          },
          "metadata": {},
          "execution_count": 73
        }
      ]
    },
    {
      "cell_type": "code",
      "source": [
        "# Log\n",
        "tf.math.log(tf.cast(H,dtype=tf.float32))"
      ],
      "metadata": {
        "colab": {
          "base_uri": "https://localhost:8080/"
        },
        "id": "U_lW57RJd3Ts",
        "outputId": "c4542458-bfd5-4415-e84d-6f97799693b7"
      },
      "execution_count": 75,
      "outputs": [
        {
          "output_type": "execute_result",
          "data": {
            "text/plain": [
              "<tf.Tensor: shape=(49,), dtype=float32, numpy=\n",
              "array([0.       , 0.6931472, 1.0986123, 1.3862944, 1.609438 , 1.7917595,\n",
              "       1.9459102, 2.0794415, 2.1972246, 2.3025851, 2.3978953, 2.4849067,\n",
              "       2.5649493, 2.6390574, 2.7080503, 2.7725887, 2.8332133, 2.8903718,\n",
              "       2.944439 , 2.9957323, 3.0445225, 3.0910425, 3.1354942, 3.1780539,\n",
              "       3.218876 , 3.2580965, 3.295837 , 3.3322046, 3.3672957, 3.4011974,\n",
              "       3.4339871, 3.465736 , 3.4965076, 3.5263605, 3.5553482, 3.583519 ,\n",
              "       3.610918 , 3.637586 , 3.6635616, 3.6888795, 3.713572 , 3.7376697,\n",
              "       3.7612002, 3.7841897, 3.8066626, 3.8286414, 3.8501477, 3.871201 ,\n",
              "       3.8918202], dtype=float32)>"
            ]
          },
          "metadata": {},
          "execution_count": 75
        }
      ]
    },
    {
      "cell_type": "code",
      "source": [],
      "metadata": {
        "id": "sK4DYfGveJkk"
      },
      "execution_count": null,
      "outputs": []
    }
  ]
}