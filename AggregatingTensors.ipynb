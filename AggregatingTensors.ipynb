{
  "nbformat": 4,
  "nbformat_minor": 0,
  "metadata": {
    "colab": {
      "provenance": [],
      "authorship_tag": "ABX9TyMney9cL1m9sWkEpNCi4e8f",
      "include_colab_link": true
    },
    "kernelspec": {
      "name": "python3",
      "display_name": "Python 3"
    },
    "language_info": {
      "name": "python"
    }
  },
  "cells": [
    {
      "cell_type": "markdown",
      "metadata": {
        "id": "view-in-github",
        "colab_type": "text"
      },
      "source": [
        "<a href=\"https://colab.research.google.com/github/FairozAhmadSheikh/Tensor_Flow/blob/main/AggregatingTensors.ipynb\" target=\"_parent\"><img src=\"https://colab.research.google.com/assets/colab-badge.svg\" alt=\"Open In Colab\"/></a>"
      ]
    },
    {
      "cell_type": "code",
      "execution_count": 1,
      "metadata": {
        "id": "EeIJ3q8N1WzR"
      },
      "outputs": [],
      "source": [
        "import tensorflow as tf"
      ]
    },
    {
      "cell_type": "code",
      "source": [
        "import numpy as np"
      ],
      "metadata": {
        "id": "gOFUiJ781dhb"
      },
      "execution_count": 2,
      "outputs": []
    },
    {
      "cell_type": "code",
      "source": [
        "tensor=tf.constant(np.random.randint(1,45,size=50))"
      ],
      "metadata": {
        "id": "QdPpkq0q1fZd"
      },
      "execution_count": 6,
      "outputs": []
    },
    {
      "cell_type": "code",
      "source": [
        "tensor"
      ],
      "metadata": {
        "colab": {
          "base_uri": "https://localhost:8080/"
        },
        "id": "ebLfFrCR44AI",
        "outputId": "0d551b3e-3cb3-4202-87b8-f307187975cb"
      },
      "execution_count": 7,
      "outputs": [
        {
          "output_type": "execute_result",
          "data": {
            "text/plain": [
              "<tf.Tensor: shape=(50,), dtype=int64, numpy=\n",
              "array([15, 31,  1, 31, 34, 27, 17, 29, 35, 27,  8, 30, 11, 27, 38,  5,  2,\n",
              "       27, 30,  9,  8, 15, 11,  1, 22, 38, 21, 27, 13,  2, 24,  2, 20, 12,\n",
              "        7, 38,  5,  6, 18, 22,  9,  2, 17, 14, 28,  4,  4, 31, 31, 18])>"
            ]
          },
          "metadata": {},
          "execution_count": 7
        }
      ]
    },
    {
      "cell_type": "markdown",
      "source": [
        "\n",
        "**Aggregating Tensors** : Condensing Tensors from multiple values to smaller values\n",
        "1.   Finding Absolute values\n",
        "2.   Min, Max, Mean, Standard Deviation, variance\n",
        "\n"
      ],
      "metadata": {
        "id": "UShtAe_15Py5"
      }
    },
    {
      "cell_type": "code",
      "source": [
        "neg_tesnor=tf.negative(tensor)"
      ],
      "metadata": {
        "id": "vC6zzas248ma"
      },
      "execution_count": 8,
      "outputs": []
    },
    {
      "cell_type": "code",
      "source": [
        "neg_tesnor"
      ],
      "metadata": {
        "colab": {
          "base_uri": "https://localhost:8080/"
        },
        "id": "Jj-Rki7i5Jk_",
        "outputId": "4d30a9de-f073-4496-957e-b4d7e758f5b3"
      },
      "execution_count": 9,
      "outputs": [
        {
          "output_type": "execute_result",
          "data": {
            "text/plain": [
              "<tf.Tensor: shape=(50,), dtype=int64, numpy=\n",
              "array([-15, -31,  -1, -31, -34, -27, -17, -29, -35, -27,  -8, -30, -11,\n",
              "       -27, -38,  -5,  -2, -27, -30,  -9,  -8, -15, -11,  -1, -22, -38,\n",
              "       -21, -27, -13,  -2, -24,  -2, -20, -12,  -7, -38,  -5,  -6, -18,\n",
              "       -22,  -9,  -2, -17, -14, -28,  -4,  -4, -31, -31, -18])>"
            ]
          },
          "metadata": {},
          "execution_count": 9
        }
      ]
    },
    {
      "cell_type": "code",
      "source": [
        "tf.abs(neg_tesnor)"
      ],
      "metadata": {
        "colab": {
          "base_uri": "https://localhost:8080/"
        },
        "id": "OQZn4sxa5Kjw",
        "outputId": "0c6fb676-6617-47c8-ccd7-489fb6871d4c"
      },
      "execution_count": 10,
      "outputs": [
        {
          "output_type": "execute_result",
          "data": {
            "text/plain": [
              "<tf.Tensor: shape=(50,), dtype=int64, numpy=\n",
              "array([15, 31,  1, 31, 34, 27, 17, 29, 35, 27,  8, 30, 11, 27, 38,  5,  2,\n",
              "       27, 30,  9,  8, 15, 11,  1, 22, 38, 21, 27, 13,  2, 24,  2, 20, 12,\n",
              "        7, 38,  5,  6, 18, 22,  9,  2, 17, 14, 28,  4,  4, 31, 31, 18])>"
            ]
          },
          "metadata": {},
          "execution_count": 10
        }
      ]
    },
    {
      "cell_type": "code",
      "source": [
        "# Min Max Mean Sum Standard div\n",
        "print(\"the min of the tensor is : \",tf.reduce_min(tensor).numpy())\n",
        "print(\"the max of the tensor is : \",tf.reduce_max(tensor).numpy())\n",
        "print(\"the mean of the tensor is : \",tf.reduce_mean(tensor).numpy())\n",
        "print(\"the sum of the tensor is : \",tf.reduce_sum(tensor).numpy())"
      ],
      "metadata": {
        "colab": {
          "base_uri": "https://localhost:8080/"
        },
        "id": "8tnOi9Pm5NFy",
        "outputId": "cce24ad3-a095-4079-bd85-ec8d92c4cca7"
      },
      "execution_count": 16,
      "outputs": [
        {
          "output_type": "stream",
          "name": "stdout",
          "text": [
            "the min of the tensor is :  1\n",
            "the max of the tensor is :  38\n",
            "the mean of the tensor is :  18\n",
            "the sum of the tensor is :  904\n"
          ]
        }
      ]
    },
    {
      "cell_type": "code",
      "source": [
        "tensor=tf.cast(tensor,dtype=tf.float32)\n",
        "print(\"the standard devaition of the tensor is : \",tf.math.reduce_std(tensor).numpy())"
      ],
      "metadata": {
        "colab": {
          "base_uri": "https://localhost:8080/"
        },
        "id": "ux7WhOo06Fmv",
        "outputId": "7cb17c3d-aeed-4981-e1f6-59c657ea2a34"
      },
      "execution_count": 17,
      "outputs": [
        {
          "output_type": "stream",
          "name": "stdout",
          "text": [
            "the standard devaition of the tensor is :  11.462705\n"
          ]
        }
      ]
    },
    {
      "cell_type": "code",
      "source": [
        "print(\"the variance of the tensor is : \",tf.math.reduce_variance(tensor).numpy())"
      ],
      "metadata": {
        "id": "jtFQ88_U6_F1",
        "outputId": "bd55d25f-7a53-48e5-fbc4-7d9f2bbe6392",
        "colab": {
          "base_uri": "https://localhost:8080/"
        }
      },
      "execution_count": 19,
      "outputs": [
        {
          "output_type": "stream",
          "name": "stdout",
          "text": [
            "the variance of the tensor is :  131.3936\n"
          ]
        }
      ]
    }
  ]
}