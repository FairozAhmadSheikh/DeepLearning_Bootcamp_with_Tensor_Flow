{
  "nbformat": 4,
  "nbformat_minor": 0,
  "metadata": {
    "colab": {
      "provenance": [],
      "authorship_tag": "ABX9TyObsuEI9uhIyFKM63S5sOwy",
      "include_colab_link": true
    },
    "kernelspec": {
      "name": "python3",
      "display_name": "Python 3"
    },
    "language_info": {
      "name": "python"
    }
  },
  "cells": [
    {
      "cell_type": "markdown",
      "metadata": {
        "id": "view-in-github",
        "colab_type": "text"
      },
      "source": [
        "<a href=\"https://colab.research.google.com/github/FairozAhmadSheikh/Tensor_Flow/blob/main/AggregatingTensors.ipynb\" target=\"_parent\"><img src=\"https://colab.research.google.com/assets/colab-badge.svg\" alt=\"Open In Colab\"/></a>"
      ]
    },
    {
      "cell_type": "code",
      "execution_count": 1,
      "metadata": {
        "id": "EeIJ3q8N1WzR"
      },
      "outputs": [],
      "source": [
        "import tensorflow as tf"
      ]
    },
    {
      "cell_type": "code",
      "source": [
        "import numpy as np"
      ],
      "metadata": {
        "id": "gOFUiJ781dhb"
      },
      "execution_count": 2,
      "outputs": []
    },
    {
      "cell_type": "code",
      "source": [
        "tensor=tf.constant(np.random.randint(1,45,size=50))"
      ],
      "metadata": {
        "id": "QdPpkq0q1fZd"
      },
      "execution_count": 6,
      "outputs": []
    },
    {
      "cell_type": "code",
      "source": [
        "tensor"
      ],
      "metadata": {
        "colab": {
          "base_uri": "https://localhost:8080/"
        },
        "id": "ebLfFrCR44AI",
        "outputId": "0d551b3e-3cb3-4202-87b8-f307187975cb"
      },
      "execution_count": 7,
      "outputs": [
        {
          "output_type": "execute_result",
          "data": {
            "text/plain": [
              "<tf.Tensor: shape=(50,), dtype=int64, numpy=\n",
              "array([15, 31,  1, 31, 34, 27, 17, 29, 35, 27,  8, 30, 11, 27, 38,  5,  2,\n",
              "       27, 30,  9,  8, 15, 11,  1, 22, 38, 21, 27, 13,  2, 24,  2, 20, 12,\n",
              "        7, 38,  5,  6, 18, 22,  9,  2, 17, 14, 28,  4,  4, 31, 31, 18])>"
            ]
          },
          "metadata": {},
          "execution_count": 7
        }
      ]
    },
    {
      "cell_type": "markdown",
      "source": [
        "\n",
        "**Aggregating Tensors** : Condensing Tensors from multiple values to smaller values\n",
        "1.   Finding Absolute values\n",
        "2.   Min, Max, Mean, Standard Deviation, variance\n",
        "\n"
      ],
      "metadata": {
        "id": "UShtAe_15Py5"
      }
    },
    {
      "cell_type": "code",
      "source": [
        "neg_tesnor=tf.negative(tensor)"
      ],
      "metadata": {
        "id": "vC6zzas248ma"
      },
      "execution_count": 8,
      "outputs": []
    },
    {
      "cell_type": "code",
      "source": [
        "neg_tesnor"
      ],
      "metadata": {
        "colab": {
          "base_uri": "https://localhost:8080/"
        },
        "id": "Jj-Rki7i5Jk_",
        "outputId": "4d30a9de-f073-4496-957e-b4d7e758f5b3"
      },
      "execution_count": 9,
      "outputs": [
        {
          "output_type": "execute_result",
          "data": {
            "text/plain": [
              "<tf.Tensor: shape=(50,), dtype=int64, numpy=\n",
              "array([-15, -31,  -1, -31, -34, -27, -17, -29, -35, -27,  -8, -30, -11,\n",
              "       -27, -38,  -5,  -2, -27, -30,  -9,  -8, -15, -11,  -1, -22, -38,\n",
              "       -21, -27, -13,  -2, -24,  -2, -20, -12,  -7, -38,  -5,  -6, -18,\n",
              "       -22,  -9,  -2, -17, -14, -28,  -4,  -4, -31, -31, -18])>"
            ]
          },
          "metadata": {},
          "execution_count": 9
        }
      ]
    },
    {
      "cell_type": "code",
      "source": [
        "tf.abs(neg_tesnor)"
      ],
      "metadata": {
        "colab": {
          "base_uri": "https://localhost:8080/"
        },
        "id": "OQZn4sxa5Kjw",
        "outputId": "0c6fb676-6617-47c8-ccd7-489fb6871d4c"
      },
      "execution_count": 10,
      "outputs": [
        {
          "output_type": "execute_result",
          "data": {
            "text/plain": [
              "<tf.Tensor: shape=(50,), dtype=int64, numpy=\n",
              "array([15, 31,  1, 31, 34, 27, 17, 29, 35, 27,  8, 30, 11, 27, 38,  5,  2,\n",
              "       27, 30,  9,  8, 15, 11,  1, 22, 38, 21, 27, 13,  2, 24,  2, 20, 12,\n",
              "        7, 38,  5,  6, 18, 22,  9,  2, 17, 14, 28,  4,  4, 31, 31, 18])>"
            ]
          },
          "metadata": {},
          "execution_count": 10
        }
      ]
    },
    {
      "cell_type": "code",
      "source": [
        "# Min Max Mean Sum Standard div\n",
        "print(\"the min of the tensor is : \",tf.reduce_min(tensor).numpy())\n",
        "print(\"the max of the tensor is : \",tf.reduce_max(tensor).numpy())\n",
        "print(\"the mean of the tensor is : \",tf.reduce_mean(tensor).numpy())\n",
        "print(\"the sum of the tensor is : \",tf.reduce_sum(tensor).numpy())"
      ],
      "metadata": {
        "colab": {
          "base_uri": "https://localhost:8080/"
        },
        "id": "8tnOi9Pm5NFy",
        "outputId": "cce24ad3-a095-4079-bd85-ec8d92c4cca7"
      },
      "execution_count": 16,
      "outputs": [
        {
          "output_type": "stream",
          "name": "stdout",
          "text": [
            "the min of the tensor is :  1\n",
            "the max of the tensor is :  38\n",
            "the mean of the tensor is :  18\n",
            "the sum of the tensor is :  904\n"
          ]
        }
      ]
    },
    {
      "cell_type": "code",
      "source": [
        "tensor=tf.cast(tensor,dtype=tf.float32)\n",
        "print(\"the standard devaition of the tensor is : \",tf.math.reduce_std(tensor).numpy())"
      ],
      "metadata": {
        "colab": {
          "base_uri": "https://localhost:8080/"
        },
        "id": "ux7WhOo06Fmv",
        "outputId": "7cb17c3d-aeed-4981-e1f6-59c657ea2a34"
      },
      "execution_count": 17,
      "outputs": [
        {
          "output_type": "stream",
          "name": "stdout",
          "text": [
            "the standard devaition of the tensor is :  11.462705\n"
          ]
        }
      ]
    },
    {
      "cell_type": "code",
      "source": [
        "print(\"the variance of the tensor is : \",tf.math.reduce_variance(tensor).numpy())"
      ],
      "metadata": {
        "colab": {
          "base_uri": "https://localhost:8080/"
        },
        "id": "jtFQ88_U6_F1",
        "outputId": "bd55d25f-7a53-48e5-fbc4-7d9f2bbe6392"
      },
      "execution_count": 19,
      "outputs": [
        {
          "output_type": "stream",
          "name": "stdout",
          "text": [
            "the variance of the tensor is :  131.3936\n"
          ]
        }
      ]
    },
    {
      "cell_type": "markdown",
      "source": [
        "Finding Positional Maximum and Minimum"
      ],
      "metadata": {
        "id": "5fc1P7WHAUIX"
      }
    },
    {
      "cell_type": "code",
      "source": [
        "tf.random.set_seed(41)\n",
        "F=tf.random.uniform(shape=[50])\n",
        "F"
      ],
      "metadata": {
        "colab": {
          "base_uri": "https://localhost:8080/"
        },
        "id": "_8k0JjUDAaxL",
        "outputId": "6e190208-6247-4c06-d821-33bbe5eda47e"
      },
      "execution_count": 44,
      "outputs": [
        {
          "output_type": "execute_result",
          "data": {
            "text/plain": [
              "<tf.Tensor: shape=(50,), dtype=float32, numpy=\n",
              "array([0.5692048 , 0.6666248 , 0.32513022, 0.09477615, 0.1430676 ,\n",
              "       0.9487461 , 0.26147044, 0.53215694, 0.5716516 , 0.79212654,\n",
              "       0.5494933 , 0.08265758, 0.22660685, 0.52790964, 0.5241066 ,\n",
              "       0.77981806, 0.4664129 , 0.168244  , 0.9082866 , 0.7481499 ,\n",
              "       0.34556842, 0.89022803, 0.9366288 , 0.81991935, 0.89360964,\n",
              "       0.4494692 , 0.33884466, 0.79724765, 0.47883475, 0.89233124,\n",
              "       0.5223061 , 0.74678063, 0.03605425, 0.33815563, 0.9649874 ,\n",
              "       0.7138554 , 0.3746251 , 0.45740092, 0.83387935, 0.3895929 ,\n",
              "       0.6817522 , 0.362216  , 0.13202369, 0.17989862, 0.8558754 ,\n",
              "       0.69342184, 0.08636093, 0.41801453, 0.10704994, 0.21429658],\n",
              "      dtype=float32)>"
            ]
          },
          "metadata": {},
          "execution_count": 44
        }
      ]
    },
    {
      "cell_type": "code",
      "source": [
        "import matplotlib.pyplot as plt\n",
        "import seaborn as sns"
      ],
      "metadata": {
        "id": "NWM6jkbyAf3K"
      },
      "execution_count": 45,
      "outputs": []
    },
    {
      "cell_type": "code",
      "source": [
        "sns.histplot(F,kde=True)\n",
        "plt.show()"
      ],
      "metadata": {
        "colab": {
          "base_uri": "https://localhost:8080/",
          "height": 430
        },
        "id": "jADYg5TuAoFw",
        "outputId": "dafaac92-98e7-4e5e-c64b-2b7fc6547605"
      },
      "execution_count": 46,
      "outputs": [
        {
          "output_type": "display_data",
          "data": {
            "text/plain": [
              "<Figure size 640x480 with 1 Axes>"
            ],
            "image/png": "[encoded data removed]"
          },
          "metadata": {}
        }
      ]
    },
    {
      "cell_type": "code",
      "source": [
        "#Finding Max Value\n",
        "tf.reduce_max(F).numpy()"
      ],
      "metadata": {
        "colab": {
          "base_uri": "https://localhost:8080/"
        },
        "id": "bnGYxFfxBpsP",
        "outputId": "9a9f0e6e-b1a7-41c0-ee40-863d716c4415"
      },
      "execution_count": 51,
      "outputs": [
        {
          "output_type": "execute_result",
          "data": {
            "text/plain": [
              "np.float32(0.9649874)"
            ]
          },
          "metadata": {},
          "execution_count": 51
        }
      ]
    },
    {
      "cell_type": "code",
      "source": [
        "#Positional Maximum\n",
        "tf.argmax(F).numpy()"
      ],
      "metadata": {
        "colab": {
          "base_uri": "https://localhost:8080/"
        },
        "id": "ddlAzjVhAqjJ",
        "outputId": "aed1c84b-5131-4f00-d98c-88a8f1d290c8"
      },
      "execution_count": 49,
      "outputs": [
        {
          "output_type": "execute_result",
          "data": {
            "text/plain": [
              "np.int64(34)"
            ]
          },
          "metadata": {},
          "execution_count": 49
        }
      ]
    },
    {
      "cell_type": "code",
      "source": [
        "# Verify\n",
        "F[tf.argmax(F)].numpy()"
      ],
      "metadata": {
        "colab": {
          "base_uri": "https://localhost:8080/"
        },
        "id": "Tvu3DIArBV1R",
        "outputId": "05b049f2-90c2-4871-83f0-59a51dd0c530"
      },
      "execution_count": 53,
      "outputs": [
        {
          "output_type": "execute_result",
          "data": {
            "text/plain": [
              "np.float32(0.9649874)"
            ]
          },
          "metadata": {},
          "execution_count": 53
        }
      ]
    },
    {
      "cell_type": "code",
      "source": [
        "# Finding Min\n",
        "tf.reduce_min(F).numpy()"
      ],
      "metadata": {
        "colab": {
          "base_uri": "https://localhost:8080/"
        },
        "id": "bmZLjzXQB1Fq",
        "outputId": "37f78d85-bf5a-4609-8699-6d25af83644a"
      },
      "execution_count": 55,
      "outputs": [
        {
          "output_type": "execute_result",
          "data": {
            "text/plain": [
              "np.float32(0.036054254)"
            ]
          },
          "metadata": {},
          "execution_count": 55
        }
      ]
    },
    {
      "cell_type": "code",
      "source": [
        "# Positional Min\n",
        "tf.argmin(F).numpy()"
      ],
      "metadata": {
        "colab": {
          "base_uri": "https://localhost:8080/"
        },
        "id": "G5Tw9NTqB_Fe",
        "outputId": "5086dd45-5645-4700-85f5-46c6ced72e2b"
      },
      "execution_count": 56,
      "outputs": [
        {
          "output_type": "execute_result",
          "data": {
            "text/plain": [
              "np.int64(32)"
            ]
          },
          "metadata": {},
          "execution_count": 56
        }
      ]
    },
    {
      "cell_type": "code",
      "source": [
        "# Verify Min\n",
        "F[tf.argmin(F)].numpy()"
      ],
      "metadata": {
        "colab": {
          "base_uri": "https://localhost:8080/"
        },
        "id": "Mzl48qbUCB3i",
        "outputId": "1f9af39e-6bde-461b-e5dc-d771f510509c"
      },
      "execution_count": 58,
      "outputs": [
        {
          "output_type": "execute_result",
          "data": {
            "text/plain": [
              "np.float32(0.036054254)"
            ]
          },
          "metadata": {},
          "execution_count": 58
        }
      ]
    }
  ]
}