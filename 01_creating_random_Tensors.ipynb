{
  "nbformat": 4,
  "nbformat_minor": 0,
  "metadata": {
    "colab": {
      "provenance": [],
      "authorship_tag": "ABX9TyMbgZQ3KEJ2tHLYSzWRW2Ok",
      "include_colab_link": true
    },
    "kernelspec": {
      "name": "python3",
      "display_name": "Python 3"
    },
    "language_info": {
      "name": "python"
    }
  },
  "cells": [
    {
      "cell_type": "markdown",
      "metadata": {
        "id": "view-in-github",
        "colab_type": "text"
      },
      "source": [
        "<a href=\"https://colab.research.google.com/github/FairozAhmadSheikh/Tensor_Flow/blob/main/01_creating_random_Tensors.ipynb\" target=\"_parent\"><img src=\"https://colab.research.google.com/assets/colab-badge.svg\" alt=\"Open In Colab\"/></a>"
      ]
    },
    {
      "cell_type": "code",
      "execution_count": 1,
      "metadata": {
        "id": "KapASE3ybejt"
      },
      "outputs": [],
      "source": [
        "import tensorflow as tf"
      ]
    },
    {
      "cell_type": "code",
      "source": [
        "random1=tf.random.Generator.from_seed(23)\n",
        "random1=random1.normal(shape=(3,3))\n",
        "random1"
      ],
      "metadata": {
        "colab": {
          "base_uri": "https://localhost:8080/"
        },
        "id": "hU7PlUIObmCN",
        "outputId": "09dcd657-f24d-4da7-c563-6f42ab75d68a"
      },
      "execution_count": 2,
      "outputs": [
        {
          "output_type": "execute_result",
          "data": {
            "text/plain": [
              "<tf.Tensor: shape=(3, 3), dtype=float32, numpy=\n",
              "array([[ 0.1175475 ,  0.03493892, -1.5700307 ],\n",
              "       [ 0.4457582 ,  0.10944034, -0.8035768 ],\n",
              "       [-1.7166729 ,  0.3738578 , -0.14371012]], dtype=float32)>"
            ]
          },
          "metadata": {},
          "execution_count": 2
        }
      ]
    },
    {
      "cell_type": "code",
      "source": [
        "random2=tf.random.Generator.from_seed(23)\n",
        "random2=random2.normal(shape=(3,3))\n",
        "random2"
      ],
      "metadata": {
        "colab": {
          "base_uri": "https://localhost:8080/"
        },
        "id": "fsInSa8Rb8qM",
        "outputId": "910eea36-a3ad-4153-b980-6b5fc5be5e52"
      },
      "execution_count": 3,
      "outputs": [
        {
          "output_type": "execute_result",
          "data": {
            "text/plain": [
              "<tf.Tensor: shape=(3, 3), dtype=float32, numpy=\n",
              "array([[ 0.1175475 ,  0.03493892, -1.5700307 ],\n",
              "       [ 0.4457582 ,  0.10944034, -0.8035768 ],\n",
              "       [-1.7166729 ,  0.3738578 , -0.14371012]], dtype=float32)>"
            ]
          },
          "metadata": {},
          "execution_count": 3
        }
      ]
    },
    {
      "cell_type": "markdown",
      "source": [
        "As we have set same seed for both so both will be equal\n",
        "`seed` is set for reproducibilty"
      ],
      "metadata": {
        "id": "IX999fx5cY64"
      }
    },
    {
      "cell_type": "code",
      "source": [
        "random1,random2,random1==random2"
      ],
      "metadata": {
        "colab": {
          "base_uri": "https://localhost:8080/"
        },
        "id": "pjKPtwyicLjL",
        "outputId": "1a493fc5-2722-489a-aadc-6639d3566a00"
      },
      "execution_count": 4,
      "outputs": [
        {
          "output_type": "execute_result",
          "data": {
            "text/plain": [
              "(<tf.Tensor: shape=(3, 3), dtype=float32, numpy=\n",
              " array([[ 0.1175475 ,  0.03493892, -1.5700307 ],\n",
              "        [ 0.4457582 ,  0.10944034, -0.8035768 ],\n",
              "        [-1.7166729 ,  0.3738578 , -0.14371012]], dtype=float32)>,\n",
              " <tf.Tensor: shape=(3, 3), dtype=float32, numpy=\n",
              " array([[ 0.1175475 ,  0.03493892, -1.5700307 ],\n",
              "        [ 0.4457582 ,  0.10944034, -0.8035768 ],\n",
              "        [-1.7166729 ,  0.3738578 , -0.14371012]], dtype=float32)>,\n",
              " <tf.Tensor: shape=(3, 3), dtype=bool, numpy=\n",
              " array([[ True,  True,  True],\n",
              "        [ True,  True,  True],\n",
              "        [ True,  True,  True]])>)"
            ]
          },
          "metadata": {},
          "execution_count": 4
        }
      ]
    },
    {
      "cell_type": "markdown",
      "source": [
        "**Shuffle the order of Tensors** .............\n",
        "\n",
        "***Shuffling the order of elemnets in Tensors**............"
      ],
      "metadata": {
        "id": "poEeYAsLfv5_"
      }
    },
    {
      "cell_type": "code",
      "source": [
        "not_shuffled_tensor=tf.Variable([[1,2,3],[4,4,5],[6,1,3]])\n",
        "not_shuffled_tensor"
      ],
      "metadata": {
        "colab": {
          "base_uri": "https://localhost:8080/"
        },
        "id": "SHKk5xozcP5f",
        "outputId": "31320548-c143-45f8-c545-60355b65c46d"
      },
      "execution_count": 5,
      "outputs": [
        {
          "output_type": "execute_result",
          "data": {
            "text/plain": [
              "<tf.Variable 'Variable:0' shape=(3, 3) dtype=int32, numpy=\n",
              "array([[1, 2, 3],\n",
              "       [4, 4, 5],\n",
              "       [6, 1, 3]], dtype=int32)>"
            ]
          },
          "metadata": {},
          "execution_count": 5
        }
      ]
    },
    {
      "cell_type": "code",
      "source": [
        "shuffled_tensor=tf.random.shuffle(not_shuffled_tensor)\n",
        "shuffled_tensor"
      ],
      "metadata": {
        "colab": {
          "base_uri": "https://localhost:8080/"
        },
        "id": "7EF7OGU8gNSd",
        "outputId": "beae5744-59cd-459e-b58f-de6ee68b4114"
      },
      "execution_count": 6,
      "outputs": [
        {
          "output_type": "execute_result",
          "data": {
            "text/plain": [
              "<tf.Tensor: shape=(3, 3), dtype=int32, numpy=\n",
              "array([[4, 4, 5],\n",
              "       [6, 1, 3],\n",
              "       [1, 2, 3]], dtype=int32)>"
            ]
          },
          "metadata": {},
          "execution_count": 6
        }
      ]
    },
    {
      "cell_type": "markdown",
      "source": [
        "Same order shuffuled Data."
      ],
      "metadata": {
        "id": "1mKNHN0RgjB3"
      }
    },
    {
      "cell_type": "code",
      "source": [
        "new_not_shuffled=tf.random.Generator.from_seed(30)\n",
        "new_not_shuffled=new_not_shuffled.uniform(shape=(3,3))\n",
        "new_not_shuffled"
      ],
      "metadata": {
        "colab": {
          "base_uri": "https://localhost:8080/"
        },
        "id": "R00DBF_AgnXW",
        "outputId": "9fd064a6-2761-4ae8-cb49-d6de7da0146c"
      },
      "execution_count": 7,
      "outputs": [
        {
          "output_type": "execute_result",
          "data": {
            "text/plain": [
              "<tf.Tensor: shape=(3, 3), dtype=float32, numpy=\n",
              "array([[0.6900625 , 0.21108961, 0.00885725],\n",
              "       [0.42452395, 0.08308113, 0.40762496],\n",
              "       [0.5765996 , 0.49922466, 0.20822704]], dtype=float32)>"
            ]
          },
          "metadata": {},
          "execution_count": 7
        }
      ]
    },
    {
      "cell_type": "code",
      "source": [
        "shuffled_one=tf.random.set_seed(20)\n",
        "shuffled_one=tf.random.shuffle(new_not_shuffled,seed=20)\n",
        "new_not_shuffled\n"
      ],
      "metadata": {
        "colab": {
          "base_uri": "https://localhost:8080/"
        },
        "id": "xGq2y_wCg24V",
        "outputId": "aa8fff2d-170f-4a92-fbb1-b6eff7e2af9a"
      },
      "execution_count": 8,
      "outputs": [
        {
          "output_type": "execute_result",
          "data": {
            "text/plain": [
              "<tf.Tensor: shape=(3, 3), dtype=float32, numpy=\n",
              "array([[0.6900625 , 0.21108961, 0.00885725],\n",
              "       [0.42452395, 0.08308113, 0.40762496],\n",
              "       [0.5765996 , 0.49922466, 0.20822704]], dtype=float32)>"
            ]
          },
          "metadata": {},
          "execution_count": 8
        }
      ]
    },
    {
      "cell_type": "markdown",
      "source": [
        "Other ways of Creating Tensor"
      ],
      "metadata": {
        "id": "oQ6fv0Co7uj9"
      }
    },
    {
      "cell_type": "markdown",
      "source": [
        "<!-- Other ways of creating Tensor -->"
      ],
      "metadata": {
        "id": "uVENNo2k7oqz"
      }
    },
    {
      "cell_type": "code",
      "source": [
        "tf.ones(shape=(10,10))"
      ],
      "metadata": {
        "id": "CU__3ZiyhMim",
        "colab": {
          "base_uri": "https://localhost:8080/"
        },
        "outputId": "de24e73d-302f-4043-ec38-50658c51913a"
      },
      "execution_count": 9,
      "outputs": [
        {
          "output_type": "execute_result",
          "data": {
            "text/plain": [
              "<tf.Tensor: shape=(10, 10), dtype=float32, numpy=\n",
              "array([[1., 1., 1., 1., 1., 1., 1., 1., 1., 1.],\n",
              "       [1., 1., 1., 1., 1., 1., 1., 1., 1., 1.],\n",
              "       [1., 1., 1., 1., 1., 1., 1., 1., 1., 1.],\n",
              "       [1., 1., 1., 1., 1., 1., 1., 1., 1., 1.],\n",
              "       [1., 1., 1., 1., 1., 1., 1., 1., 1., 1.],\n",
              "       [1., 1., 1., 1., 1., 1., 1., 1., 1., 1.],\n",
              "       [1., 1., 1., 1., 1., 1., 1., 1., 1., 1.],\n",
              "       [1., 1., 1., 1., 1., 1., 1., 1., 1., 1.],\n",
              "       [1., 1., 1., 1., 1., 1., 1., 1., 1., 1.],\n",
              "       [1., 1., 1., 1., 1., 1., 1., 1., 1., 1.]], dtype=float32)>"
            ]
          },
          "metadata": {},
          "execution_count": 9
        }
      ]
    },
    {
      "cell_type": "code",
      "source": [
        "tf.ones([10,10])"
      ],
      "metadata": {
        "colab": {
          "base_uri": "https://localhost:8080/"
        },
        "id": "u_YbHuQr71Ez",
        "outputId": "34fd9d8a-40fe-4317-9315-a57b75ff6c50"
      },
      "execution_count": 10,
      "outputs": [
        {
          "output_type": "execute_result",
          "data": {
            "text/plain": [
              "<tf.Tensor: shape=(10, 10), dtype=float32, numpy=\n",
              "array([[1., 1., 1., 1., 1., 1., 1., 1., 1., 1.],\n",
              "       [1., 1., 1., 1., 1., 1., 1., 1., 1., 1.],\n",
              "       [1., 1., 1., 1., 1., 1., 1., 1., 1., 1.],\n",
              "       [1., 1., 1., 1., 1., 1., 1., 1., 1., 1.],\n",
              "       [1., 1., 1., 1., 1., 1., 1., 1., 1., 1.],\n",
              "       [1., 1., 1., 1., 1., 1., 1., 1., 1., 1.],\n",
              "       [1., 1., 1., 1., 1., 1., 1., 1., 1., 1.],\n",
              "       [1., 1., 1., 1., 1., 1., 1., 1., 1., 1.],\n",
              "       [1., 1., 1., 1., 1., 1., 1., 1., 1., 1.],\n",
              "       [1., 1., 1., 1., 1., 1., 1., 1., 1., 1.]], dtype=float32)>"
            ]
          },
          "metadata": {},
          "execution_count": 10
        }
      ]
    },
    {
      "cell_type": "markdown",
      "source": [
        "Turn numpy arrays into Tensors"
      ],
      "metadata": {
        "id": "umakCBQ07-L1"
      }
    },
    {
      "cell_type": "code",
      "source": [
        "import numpy as np"
      ],
      "metadata": {
        "id": "WTuKhY5v78Jl"
      },
      "execution_count": 11,
      "outputs": []
    },
    {
      "cell_type": "code",
      "source": [
        "numpy_A=np.arange(1,11)"
      ],
      "metadata": {
        "id": "C3x6Igei8rkb"
      },
      "execution_count": 12,
      "outputs": []
    },
    {
      "cell_type": "code",
      "source": [
        "numpy_A"
      ],
      "metadata": {
        "colab": {
          "base_uri": "https://localhost:8080/"
        },
        "id": "ShA7PLVE8zWI",
        "outputId": "c2786912-77c8-49ac-9cc6-37d0f6975442"
      },
      "execution_count": 13,
      "outputs": [
        {
          "output_type": "execute_result",
          "data": {
            "text/plain": [
              "array([ 1,  2,  3,  4,  5,  6,  7,  8,  9, 10])"
            ]
          },
          "metadata": {},
          "execution_count": 13
        }
      ]
    },
    {
      "cell_type": "code",
      "source": [
        "A=tf.constant(numpy_A)"
      ],
      "metadata": {
        "id": "sIWbl6gJ80v9"
      },
      "execution_count": 14,
      "outputs": []
    },
    {
      "cell_type": "code",
      "source": [
        "A"
      ],
      "metadata": {
        "colab": {
          "base_uri": "https://localhost:8080/"
        },
        "id": "GrQ6OMCI86zH",
        "outputId": "12c7d2d5-c5bc-4d53-8afb-2786220c677e"
      },
      "execution_count": 15,
      "outputs": [
        {
          "output_type": "execute_result",
          "data": {
            "text/plain": [
              "<tf.Tensor: shape=(10,), dtype=int64, numpy=array([ 1,  2,  3,  4,  5,  6,  7,  8,  9, 10])>"
            ]
          },
          "metadata": {},
          "execution_count": 15
        }
      ]
    },
    {
      "cell_type": "code",
      "source": [
        "B=tf.constant(numpy_A,shape=(5,2))\n",
        "B"
      ],
      "metadata": {
        "colab": {
          "base_uri": "https://localhost:8080/"
        },
        "id": "0sNfr7g187u8",
        "outputId": "f2243323-a1cd-4e0b-b2f7-568d8ec0cff4"
      },
      "execution_count": 16,
      "outputs": [
        {
          "output_type": "execute_result",
          "data": {
            "text/plain": [
              "<tf.Tensor: shape=(5, 2), dtype=int64, numpy=\n",
              "array([[ 1,  2],\n",
              "       [ 3,  4],\n",
              "       [ 5,  6],\n",
              "       [ 7,  8],\n",
              "       [ 9, 10]])>"
            ]
          },
          "metadata": {},
          "execution_count": 16
        }
      ]
    },
    {
      "cell_type": "code",
      "source": [
        "C=tf.constant(numpy_A,shape=(2,5))\n",
        "C"
      ],
      "metadata": {
        "colab": {
          "base_uri": "https://localhost:8080/"
        },
        "id": "KSzu0PMh9Twd",
        "outputId": "fd2705dc-85fc-4542-b706-bbcd9a21d582"
      },
      "execution_count": 17,
      "outputs": [
        {
          "output_type": "execute_result",
          "data": {
            "text/plain": [
              "<tf.Tensor: shape=(2, 5), dtype=int64, numpy=\n",
              "array([[ 1,  2,  3,  4,  5],\n",
              "       [ 6,  7,  8,  9, 10]])>"
            ]
          },
          "metadata": {},
          "execution_count": 17
        }
      ]
    },
    {
      "cell_type": "code",
      "source": [
        "tf.zeros([10,10])"
      ],
      "metadata": {
        "colab": {
          "base_uri": "https://localhost:8080/"
        },
        "id": "c2_NlJh-9b57",
        "outputId": "57c75e01-7fd8-41a1-b7d2-3e9a323844fd"
      },
      "execution_count": 18,
      "outputs": [
        {
          "output_type": "execute_result",
          "data": {
            "text/plain": [
              "<tf.Tensor: shape=(10, 10), dtype=float32, numpy=\n",
              "array([[0., 0., 0., 0., 0., 0., 0., 0., 0., 0.],\n",
              "       [0., 0., 0., 0., 0., 0., 0., 0., 0., 0.],\n",
              "       [0., 0., 0., 0., 0., 0., 0., 0., 0., 0.],\n",
              "       [0., 0., 0., 0., 0., 0., 0., 0., 0., 0.],\n",
              "       [0., 0., 0., 0., 0., 0., 0., 0., 0., 0.],\n",
              "       [0., 0., 0., 0., 0., 0., 0., 0., 0., 0.],\n",
              "       [0., 0., 0., 0., 0., 0., 0., 0., 0., 0.],\n",
              "       [0., 0., 0., 0., 0., 0., 0., 0., 0., 0.],\n",
              "       [0., 0., 0., 0., 0., 0., 0., 0., 0., 0.],\n",
              "       [0., 0., 0., 0., 0., 0., 0., 0., 0., 0.]], dtype=float32)>"
            ]
          },
          "metadata": {},
          "execution_count": 18
        }
      ]
    },
    {
      "cell_type": "code",
      "source": [
        "tf.zeros(shape=(10,10))"
      ],
      "metadata": {
        "colab": {
          "base_uri": "https://localhost:8080/"
        },
        "id": "N58urc5a-QCP",
        "outputId": "2dae3ff0-19da-4242-f15e-70c22f9020de"
      },
      "execution_count": 19,
      "outputs": [
        {
          "output_type": "execute_result",
          "data": {
            "text/plain": [
              "<tf.Tensor: shape=(10, 10), dtype=float32, numpy=\n",
              "array([[0., 0., 0., 0., 0., 0., 0., 0., 0., 0.],\n",
              "       [0., 0., 0., 0., 0., 0., 0., 0., 0., 0.],\n",
              "       [0., 0., 0., 0., 0., 0., 0., 0., 0., 0.],\n",
              "       [0., 0., 0., 0., 0., 0., 0., 0., 0., 0.],\n",
              "       [0., 0., 0., 0., 0., 0., 0., 0., 0., 0.],\n",
              "       [0., 0., 0., 0., 0., 0., 0., 0., 0., 0.],\n",
              "       [0., 0., 0., 0., 0., 0., 0., 0., 0., 0.],\n",
              "       [0., 0., 0., 0., 0., 0., 0., 0., 0., 0.],\n",
              "       [0., 0., 0., 0., 0., 0., 0., 0., 0., 0.],\n",
              "       [0., 0., 0., 0., 0., 0., 0., 0., 0., 0.]], dtype=float32)>"
            ]
          },
          "metadata": {},
          "execution_count": 19
        }
      ]
    },
    {
      "cell_type": "code",
      "source": [
        "tf.constant(np.arange(1,81),shape=(4,2,10))"
      ],
      "metadata": {
        "colab": {
          "base_uri": "https://localhost:8080/"
        },
        "id": "lXHKsmhJ_EeR",
        "outputId": "1da17ef7-e410-42f4-9fdc-20bfe555113d"
      },
      "execution_count": 20,
      "outputs": [
        {
          "output_type": "execute_result",
          "data": {
            "text/plain": [
              "<tf.Tensor: shape=(4, 2, 10), dtype=int64, numpy=\n",
              "array([[[ 1,  2,  3,  4,  5,  6,  7,  8,  9, 10],\n",
              "        [11, 12, 13, 14, 15, 16, 17, 18, 19, 20]],\n",
              "\n",
              "       [[21, 22, 23, 24, 25, 26, 27, 28, 29, 30],\n",
              "        [31, 32, 33, 34, 35, 36, 37, 38, 39, 40]],\n",
              "\n",
              "       [[41, 42, 43, 44, 45, 46, 47, 48, 49, 50],\n",
              "        [51, 52, 53, 54, 55, 56, 57, 58, 59, 60]],\n",
              "\n",
              "       [[61, 62, 63, 64, 65, 66, 67, 68, 69, 70],\n",
              "        [71, 72, 73, 74, 75, 76, 77, 78, 79, 80]]])>"
            ]
          },
          "metadata": {},
          "execution_count": 20
        }
      ]
    },
    {
      "cell_type": "markdown",
      "source": [
        "## Getting Information From Tensors\n"
      ],
      "metadata": {
        "id": "KxLOSfXg-acq"
      }
    },
    {
      "cell_type": "code",
      "source": [
        "# Creating a Rank 4 tensor\n",
        "rank_4_tensor=tf.zeros(shape=[2,3,5,6])\n",
        "rank_4_tensor"
      ],
      "metadata": {
        "colab": {
          "base_uri": "https://localhost:8080/"
        },
        "id": "2Ke5HlGB-fui",
        "outputId": "3e410979-7aec-44ad-e993-deed185ff0f2"
      },
      "execution_count": 26,
      "outputs": [
        {
          "output_type": "execute_result",
          "data": {
            "text/plain": [
              "<tf.Tensor: shape=(2, 3, 5, 6), dtype=float32, numpy=\n",
              "array([[[[0., 0., 0., 0., 0., 0.],\n",
              "         [0., 0., 0., 0., 0., 0.],\n",
              "         [0., 0., 0., 0., 0., 0.],\n",
              "         [0., 0., 0., 0., 0., 0.],\n",
              "         [0., 0., 0., 0., 0., 0.]],\n",
              "\n",
              "        [[0., 0., 0., 0., 0., 0.],\n",
              "         [0., 0., 0., 0., 0., 0.],\n",
              "         [0., 0., 0., 0., 0., 0.],\n",
              "         [0., 0., 0., 0., 0., 0.],\n",
              "         [0., 0., 0., 0., 0., 0.]],\n",
              "\n",
              "        [[0., 0., 0., 0., 0., 0.],\n",
              "         [0., 0., 0., 0., 0., 0.],\n",
              "         [0., 0., 0., 0., 0., 0.],\n",
              "         [0., 0., 0., 0., 0., 0.],\n",
              "         [0., 0., 0., 0., 0., 0.]]],\n",
              "\n",
              "\n",
              "       [[[0., 0., 0., 0., 0., 0.],\n",
              "         [0., 0., 0., 0., 0., 0.],\n",
              "         [0., 0., 0., 0., 0., 0.],\n",
              "         [0., 0., 0., 0., 0., 0.],\n",
              "         [0., 0., 0., 0., 0., 0.]],\n",
              "\n",
              "        [[0., 0., 0., 0., 0., 0.],\n",
              "         [0., 0., 0., 0., 0., 0.],\n",
              "         [0., 0., 0., 0., 0., 0.],\n",
              "         [0., 0., 0., 0., 0., 0.],\n",
              "         [0., 0., 0., 0., 0., 0.]],\n",
              "\n",
              "        [[0., 0., 0., 0., 0., 0.],\n",
              "         [0., 0., 0., 0., 0., 0.],\n",
              "         [0., 0., 0., 0., 0., 0.],\n",
              "         [0., 0., 0., 0., 0., 0.],\n",
              "         [0., 0., 0., 0., 0., 0.]]]], dtype=float32)>"
            ]
          },
          "metadata": {},
          "execution_count": 26
        }
      ]
    },
    {
      "cell_type": "code",
      "source": [
        "rank_4_tensor.shape"
      ],
      "metadata": {
        "colab": {
          "base_uri": "https://localhost:8080/"
        },
        "id": "6Cjp93ZQ-lTS",
        "outputId": "3b6a4731-dbf8-43ec-9762-ab862a4489bb"
      },
      "execution_count": 27,
      "outputs": [
        {
          "output_type": "execute_result",
          "data": {
            "text/plain": [
              "TensorShape([2, 3, 5, 6])"
            ]
          },
          "metadata": {},
          "execution_count": 27
        }
      ]
    },
    {
      "cell_type": "code",
      "source": [
        "rank_4_tensor.ndim"
      ],
      "metadata": {
        "colab": {
          "base_uri": "https://localhost:8080/"
        },
        "id": "xCiDQnwN-5rk",
        "outputId": "bb066ada-61e2-414c-d0ca-a099f5e3f474"
      },
      "execution_count": 28,
      "outputs": [
        {
          "output_type": "execute_result",
          "data": {
            "text/plain": [
              "4"
            ]
          },
          "metadata": {},
          "execution_count": 28
        }
      ]
    },
    {
      "cell_type": "code",
      "source": [
        "tf.size(rank_4_tensor).numpy()"
      ],
      "metadata": {
        "colab": {
          "base_uri": "https://localhost:8080/"
        },
        "id": "y_fOXgAo-8WI",
        "outputId": "fde2a4cd-c715-4677-ed3d-a17effe445d7"
      },
      "execution_count": 31,
      "outputs": [
        {
          "output_type": "execute_result",
          "data": {
            "text/plain": [
              "np.int32(180)"
            ]
          },
          "metadata": {},
          "execution_count": 31
        }
      ]
    },
    {
      "cell_type": "code",
      "source": [
        "2*3*5*6  # proof for size"
      ],
      "metadata": {
        "colab": {
          "base_uri": "https://localhost:8080/"
        },
        "id": "MBYvYy75_ALO",
        "outputId": "ad497c35-f2ce-40f3-e014-b449865f25a6"
      },
      "execution_count": 33,
      "outputs": [
        {
          "output_type": "execute_result",
          "data": {
            "text/plain": [
              "180"
            ]
          },
          "metadata": {},
          "execution_count": 33
        }
      ]
    },
    {
      "cell_type": "markdown",
      "source": [
        "Getting various attributes of the tensors"
      ],
      "metadata": {
        "id": "B3TkeiPh_yqy"
      }
    },
    {
      "cell_type": "code",
      "source": [
        "print(\"Data Type of every element \",rank_4_tensor.dtype)\n",
        "print(\"Number of Dimensions (rank) \",rank_4_tensor.ndim)\n",
        "print(\"Shape of Tensor \",rank_4_tensor.shape)\n",
        "print('Elements along 0 axis',rank_4_tensor.shape[0])\n",
        "print('Elements along last axis',rank_4_tensor.shape[-1])\n",
        "print('Total elements or items in tensor ',tf.size(rank_4_tensor).numpy())\n"
      ],
      "metadata": {
        "colab": {
          "base_uri": "https://localhost:8080/"
        },
        "id": "tXHbVqf-_3BB",
        "outputId": "05d00314-79ca-4650-8e02-00bf32b79697"
      },
      "execution_count": 37,
      "outputs": [
        {
          "output_type": "stream",
          "name": "stdout",
          "text": [
            "Data Type of every element  <dtype: 'float32'>\n",
            "Number of Dimensions (rank)  4\n",
            "Shape of Tensor  (2, 3, 5, 6)\n",
            "Elements along 0 axis 2\n",
            "Elements along last axis 6\n",
            "Total elements or items in tensor  180\n"
          ]
        }
      ]
    },
    {
      "cell_type": "markdown",
      "source": [
        "## Indexing and Expanding Tensors"
      ],
      "metadata": {
        "id": "FwQqMhNtGTIi"
      }
    },
    {
      "cell_type": "code",
      "source": [
        "# Getting first 2 elemets of each dimensions\n",
        "rank_4_tensor[:2,:2,:2,:2]"
      ],
      "metadata": {
        "id": "8VsmOF2iGYiU",
        "outputId": "8ccf98e4-6a44-411a-97de-e7c18dc8606e",
        "colab": {
          "base_uri": "https://localhost:8080/"
        }
      },
      "execution_count": 38,
      "outputs": [
        {
          "output_type": "execute_result",
          "data": {
            "text/plain": [
              "<tf.Tensor: shape=(2, 2, 2, 2), dtype=float32, numpy=\n",
              "array([[[[0., 0.],\n",
              "         [0., 0.]],\n",
              "\n",
              "        [[0., 0.],\n",
              "         [0., 0.]]],\n",
              "\n",
              "\n",
              "       [[[0., 0.],\n",
              "         [0., 0.]],\n",
              "\n",
              "        [[0., 0.],\n",
              "         [0., 0.]]]], dtype=float32)>"
            ]
          },
          "metadata": {},
          "execution_count": 38
        }
      ]
    },
    {
      "cell_type": "code",
      "source": [
        "# Getting First element from each Dimension except final one\n",
        "rank_4_tensor[:1,:1,:1,:]"
      ],
      "metadata": {
        "id": "Z6X1YImtGk0z",
        "outputId": "21e8225c-82f9-497b-da51-fb1549501bfe",
        "colab": {
          "base_uri": "https://localhost:8080/"
        }
      },
      "execution_count": 39,
      "outputs": [
        {
          "output_type": "execute_result",
          "data": {
            "text/plain": [
              "<tf.Tensor: shape=(1, 1, 1, 6), dtype=float32, numpy=array([[[[0., 0., 0., 0., 0., 0.]]]], dtype=float32)>"
            ]
          },
          "metadata": {},
          "execution_count": 39
        }
      ]
    },
    {
      "cell_type": "code",
      "source": [
        "rank_4_tensor[:1,:1,:1,]"
      ],
      "metadata": {
        "id": "SToLoG_MGyxn",
        "outputId": "61f25558-4c5c-42f7-cec5-340983d3efaf",
        "colab": {
          "base_uri": "https://localhost:8080/"
        }
      },
      "execution_count": 40,
      "outputs": [
        {
          "output_type": "execute_result",
          "data": {
            "text/plain": [
              "<tf.Tensor: shape=(1, 1, 1, 6), dtype=float32, numpy=array([[[[0., 0., 0., 0., 0., 0.]]]], dtype=float32)>"
            ]
          },
          "metadata": {},
          "execution_count": 40
        }
      ]
    },
    {
      "cell_type": "code",
      "source": [
        "(rank_4_tensor[:1,:1,:1,]  == rank_4_tensor[:1,:1,:1,:])"
      ],
      "metadata": {
        "id": "fmD5wgUFG2aG",
        "outputId": "022321ce-1698-443b-ed5e-09895ba533d4",
        "colab": {
          "base_uri": "https://localhost:8080/"
        }
      },
      "execution_count": 42,
      "outputs": [
        {
          "output_type": "execute_result",
          "data": {
            "text/plain": [
              "array([[[[ True,  True,  True,  True,  True,  True]]]])"
            ]
          },
          "metadata": {},
          "execution_count": 42
        }
      ]
    },
    {
      "cell_type": "code",
      "source": [
        "rank_2_tensor=tf.constant([[1,2],\n",
        "                           [3,4]])"
      ],
      "metadata": {
        "id": "7TD2UymnG5f7"
      },
      "execution_count": 43,
      "outputs": []
    },
    {
      "cell_type": "code",
      "source": [
        "rank_2_tensor.ndim, rank_2_tensor.shape"
      ],
      "metadata": {
        "id": "t0JmMKjtHH7_",
        "outputId": "28f03acd-d390-4f4d-cbbb-2078baf1dffb",
        "colab": {
          "base_uri": "https://localhost:8080/"
        }
      },
      "execution_count": 45,
      "outputs": [
        {
          "output_type": "execute_result",
          "data": {
            "text/plain": [
              "(2, TensorShape([2, 2]))"
            ]
          },
          "metadata": {},
          "execution_count": 45
        }
      ]
    },
    {
      "cell_type": "code",
      "source": [
        "# Get the last item of each of rank2 tensor\n",
        "(rank_2_tensor[:,-1]).numpy()"
      ],
      "metadata": {
        "id": "dZ3eSiBaHy-5",
        "outputId": "cc182796-ff07-4021-b38d-84936fc406f5",
        "colab": {
          "base_uri": "https://localhost:8080/"
        }
      },
      "execution_count": 48,
      "outputs": [
        {
          "output_type": "execute_result",
          "data": {
            "text/plain": [
              "array([2, 4], dtype=int32)"
            ]
          },
          "metadata": {},
          "execution_count": 48
        }
      ]
    },
    {
      "cell_type": "markdown",
      "source": [
        "Adding an Extra Dimension  to the tensor"
      ],
      "metadata": {
        "id": "74x7IlWyIL4Z"
      }
    },
    {
      "cell_type": "code",
      "source": [
        "rank_3_tensor=rank_2_tensor[...,tf.newaxis]\n",
        "rank_3_tensor"
      ],
      "metadata": {
        "id": "sVHM2j2XIAfV",
        "outputId": "2cbcc17f-4342-4107-b763-86b408c3ff8b",
        "colab": {
          "base_uri": "https://localhost:8080/"
        }
      },
      "execution_count": 50,
      "outputs": [
        {
          "output_type": "execute_result",
          "data": {
            "text/plain": [
              "<tf.Tensor: shape=(2, 2, 1), dtype=int32, numpy=\n",
              "array([[[1],\n",
              "        [2]],\n",
              "\n",
              "       [[3],\n",
              "        [4]]], dtype=int32)>"
            ]
          },
          "metadata": {},
          "execution_count": 50
        }
      ]
    },
    {
      "cell_type": "code",
      "source": [
        "# Alternative way\n",
        "# -1 means expand along 0 -axis\n",
        "tf.expand_dims(rank_2_tensor,axis=-1)\n"
      ],
      "metadata": {
        "id": "C0M4Kv08IgZQ",
        "outputId": "6a80ad8b-04cb-49c2-a5fe-77255bfba6b7",
        "colab": {
          "base_uri": "https://localhost:8080/"
        }
      },
      "execution_count": 54,
      "outputs": [
        {
          "output_type": "execute_result",
          "data": {
            "text/plain": [
              "<tf.Tensor: shape=(2, 2, 1), dtype=int32, numpy=\n",
              "array([[[1],\n",
              "        [2]],\n",
              "\n",
              "       [[3],\n",
              "        [4]]], dtype=int32)>"
            ]
          },
          "metadata": {},
          "execution_count": 54
        }
      ]
    },
    {
      "cell_type": "code",
      "source": [
        "tf.expand_dims(rank_2_tensor,axis=0)"
      ],
      "metadata": {
        "id": "vOO8JjhFIun2",
        "outputId": "ef41039d-f55f-432f-9ba6-e4b0effe1e85",
        "colab": {
          "base_uri": "https://localhost:8080/"
        }
      },
      "execution_count": 55,
      "outputs": [
        {
          "output_type": "execute_result",
          "data": {
            "text/plain": [
              "<tf.Tensor: shape=(1, 2, 2), dtype=int32, numpy=\n",
              "array([[[1, 2],\n",
              "        [3, 4]]], dtype=int32)>"
            ]
          },
          "metadata": {},
          "execution_count": 55
        }
      ]
    },
    {
      "cell_type": "code",
      "source": [
        "tf.expand_dims(rank_2_tensor,axis=1)"
      ],
      "metadata": {
        "id": "EiTdGpR6JDGg",
        "outputId": "36d06197-e1a1-4db5-a72d-f68da73c1788",
        "colab": {
          "base_uri": "https://localhost:8080/"
        }
      },
      "execution_count": 56,
      "outputs": [
        {
          "output_type": "execute_result",
          "data": {
            "text/plain": [
              "<tf.Tensor: shape=(2, 1, 2), dtype=int32, numpy=\n",
              "array([[[1, 2]],\n",
              "\n",
              "       [[3, 4]]], dtype=int32)>"
            ]
          },
          "metadata": {},
          "execution_count": 56
        }
      ]
    }
  ]
}