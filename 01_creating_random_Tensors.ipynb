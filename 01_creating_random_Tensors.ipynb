{
  "nbformat": 4,
  "nbformat_minor": 0,
  "metadata": {
    "colab": {
      "provenance": [],
      "authorship_tag": "ABX9TyOVhUPAJFymkaEP/NG2IrjL",
      "include_colab_link": true
    },
    "kernelspec": {
      "name": "python3",
      "display_name": "Python 3"
    },
    "language_info": {
      "name": "python"
    }
  },
  "cells": [
    {
      "cell_type": "markdown",
      "metadata": {
        "id": "view-in-github",
        "colab_type": "text"
      },
      "source": [
        "<a href=\"https://colab.research.google.com/github/FairozAhmadSheikh/Tensor_Flow/blob/main/01_creating_random_Tensors.ipynb\" target=\"_parent\"><img src=\"https://colab.research.google.com/assets/colab-badge.svg\" alt=\"Open In Colab\"/></a>"
      ]
    },
    {
      "cell_type": "code",
      "execution_count": 7,
      "metadata": {
        "id": "KapASE3ybejt"
      },
      "outputs": [],
      "source": [
        "import tensorflow as tf"
      ]
    },
    {
      "cell_type": "code",
      "source": [
        "random1=tf.random.Generator.from_seed(23)\n",
        "random1=random1.normal(shape=(3,3))\n",
        "random1"
      ],
      "metadata": {
        "colab": {
          "base_uri": "https://localhost:8080/"
        },
        "id": "hU7PlUIObmCN",
        "outputId": "3d3ae0bb-cfbf-4f04-f9fb-ec3cf9e6bb6f"
      },
      "execution_count": 8,
      "outputs": [
        {
          "output_type": "execute_result",
          "data": {
            "text/plain": [
              "<tf.Tensor: shape=(3, 3), dtype=float32, numpy=\n",
              "array([[ 0.1175475 ,  0.03493892, -1.5700307 ],\n",
              "       [ 0.4457582 ,  0.10944034, -0.8035768 ],\n",
              "       [-1.7166729 ,  0.3738578 , -0.14371012]], dtype=float32)>"
            ]
          },
          "metadata": {},
          "execution_count": 8
        }
      ]
    },
    {
      "cell_type": "code",
      "source": [
        "random2=tf.random.Generator.from_seed(23)\n",
        "random2=random2.normal(shape=(3,3))\n",
        "random2"
      ],
      "metadata": {
        "colab": {
          "base_uri": "https://localhost:8080/"
        },
        "id": "fsInSa8Rb8qM",
        "outputId": "f9b76108-8468-4a62-a14f-e002c8c0e444"
      },
      "execution_count": 9,
      "outputs": [
        {
          "output_type": "execute_result",
          "data": {
            "text/plain": [
              "<tf.Tensor: shape=(3, 3), dtype=float32, numpy=\n",
              "array([[ 0.1175475 ,  0.03493892, -1.5700307 ],\n",
              "       [ 0.4457582 ,  0.10944034, -0.8035768 ],\n",
              "       [-1.7166729 ,  0.3738578 , -0.14371012]], dtype=float32)>"
            ]
          },
          "metadata": {},
          "execution_count": 9
        }
      ]
    },
    {
      "cell_type": "markdown",
      "source": [
        "As we have set same seed for both so both will be equal\n",
        "`seed` is set for reproducibilty"
      ],
      "metadata": {
        "id": "IX999fx5cY64"
      }
    },
    {
      "cell_type": "code",
      "source": [
        "random1,random2,random1==random2"
      ],
      "metadata": {
        "colab": {
          "base_uri": "https://localhost:8080/"
        },
        "id": "pjKPtwyicLjL",
        "outputId": "c24b93b2-81f8-4634-c85d-aaa38ee9fd4a"
      },
      "execution_count": 10,
      "outputs": [
        {
          "output_type": "execute_result",
          "data": {
            "text/plain": [
              "(<tf.Tensor: shape=(3, 3), dtype=float32, numpy=\n",
              " array([[ 0.1175475 ,  0.03493892, -1.5700307 ],\n",
              "        [ 0.4457582 ,  0.10944034, -0.8035768 ],\n",
              "        [-1.7166729 ,  0.3738578 , -0.14371012]], dtype=float32)>,\n",
              " <tf.Tensor: shape=(3, 3), dtype=float32, numpy=\n",
              " array([[ 0.1175475 ,  0.03493892, -1.5700307 ],\n",
              "        [ 0.4457582 ,  0.10944034, -0.8035768 ],\n",
              "        [-1.7166729 ,  0.3738578 , -0.14371012]], dtype=float32)>,\n",
              " <tf.Tensor: shape=(3, 3), dtype=bool, numpy=\n",
              " array([[ True,  True,  True],\n",
              "        [ True,  True,  True],\n",
              "        [ True,  True,  True]])>)"
            ]
          },
          "metadata": {},
          "execution_count": 10
        }
      ]
    },
    {
      "cell_type": "markdown",
      "source": [
        "**Shuffle the order of Tensors** .............\n",
        "\n",
        "***Shuffling the order of elemnets in Tensors**............"
      ],
      "metadata": {
        "id": "poEeYAsLfv5_"
      }
    },
    {
      "cell_type": "code",
      "source": [
        "not_shuffled_tensor=tf.Variable([[1,2,3],[4,4,5],[6,1,3]])\n",
        "not_shuffled_tensor"
      ],
      "metadata": {
        "colab": {
          "base_uri": "https://localhost:8080/"
        },
        "id": "SHKk5xozcP5f",
        "outputId": "5808984c-cd8b-4b61-a8e0-b4335813f689"
      },
      "execution_count": 16,
      "outputs": [
        {
          "output_type": "execute_result",
          "data": {
            "text/plain": [
              "<tf.Variable 'Variable:0' shape=(3, 3) dtype=int32, numpy=\n",
              "array([[1, 2, 3],\n",
              "       [4, 4, 5],\n",
              "       [6, 1, 3]], dtype=int32)>"
            ]
          },
          "metadata": {},
          "execution_count": 16
        }
      ]
    },
    {
      "cell_type": "code",
      "source": [
        "shuffled_tensor=tf.random.shuffle(not_shuffled_tensor)\n",
        "shuffled_tensor"
      ],
      "metadata": {
        "colab": {
          "base_uri": "https://localhost:8080/"
        },
        "id": "7EF7OGU8gNSd",
        "outputId": "6fb57235-6276-48f6-f142-105265fd341f"
      },
      "execution_count": 17,
      "outputs": [
        {
          "output_type": "execute_result",
          "data": {
            "text/plain": [
              "<tf.Tensor: shape=(3, 3), dtype=int32, numpy=\n",
              "array([[4, 4, 5],\n",
              "       [6, 1, 3],\n",
              "       [1, 2, 3]], dtype=int32)>"
            ]
          },
          "metadata": {},
          "execution_count": 17
        }
      ]
    },
    {
      "cell_type": "markdown",
      "source": [
        "Same order shuffuled Data."
      ],
      "metadata": {
        "id": "1mKNHN0RgjB3"
      }
    },
    {
      "cell_type": "code",
      "source": [
        "new_not_shuffled=tf.random.Generator.from_seed(30)\n",
        "new_not_shuffled=new_not_shuffled.uniform(shape=(3,3))\n",
        "new_not_shuffled"
      ],
      "metadata": {
        "colab": {
          "base_uri": "https://localhost:8080/"
        },
        "id": "R00DBF_AgnXW",
        "outputId": "57b6a16c-9011-4f3a-ace0-d30b3c7e9deb"
      },
      "execution_count": 18,
      "outputs": [
        {
          "output_type": "execute_result",
          "data": {
            "text/plain": [
              "<tf.Tensor: shape=(3, 3), dtype=float32, numpy=\n",
              "array([[0.6900625 , 0.21108961, 0.00885725],\n",
              "       [0.42452395, 0.08308113, 0.40762496],\n",
              "       [0.5765996 , 0.49922466, 0.20822704]], dtype=float32)>"
            ]
          },
          "metadata": {},
          "execution_count": 18
        }
      ]
    },
    {
      "cell_type": "code",
      "source": [
        "shuffled_one=tf.random.set_seed(20)\n",
        "shuffled_one=tf.random.shuffle(new_not_shuffled,seed=20)\n",
        "new_not_shuffled\n"
      ],
      "metadata": {
        "colab": {
          "base_uri": "https://localhost:8080/"
        },
        "id": "xGq2y_wCg24V",
        "outputId": "3cd85615-841c-4aae-a868-0b7c36b10ae2"
      },
      "execution_count": 23,
      "outputs": [
        {
          "output_type": "execute_result",
          "data": {
            "text/plain": [
              "<tf.Tensor: shape=(3, 3), dtype=float32, numpy=\n",
              "array([[0.6900625 , 0.21108961, 0.00885725],\n",
              "       [0.42452395, 0.08308113, 0.40762496],\n",
              "       [0.5765996 , 0.49922466, 0.20822704]], dtype=float32)>"
            ]
          },
          "metadata": {},
          "execution_count": 23
        }
      ]
    },
    {
      "cell_type": "code",
      "source": [],
      "metadata": {
        "id": "CU__3ZiyhMim"
      },
      "execution_count": null,
      "outputs": []
    }
  ]
}