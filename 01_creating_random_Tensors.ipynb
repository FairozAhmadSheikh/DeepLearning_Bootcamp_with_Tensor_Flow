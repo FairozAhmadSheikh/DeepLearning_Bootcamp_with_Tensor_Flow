{
  "nbformat": 4,
  "nbformat_minor": 0,
  "metadata": {
    "colab": {
      "provenance": [],
      "authorship_tag": "ABX9TyMxVJucybpGl9cP67wvLfOw",
      "include_colab_link": true
    },
    "kernelspec": {
      "name": "python3",
      "display_name": "Python 3"
    },
    "language_info": {
      "name": "python"
    }
  },
  "cells": [
    {
      "cell_type": "markdown",
      "metadata": {
        "id": "view-in-github",
        "colab_type": "text"
      },
      "source": [
        "<a href=\"https://colab.research.google.com/github/FairozAhmadSheikh/Tensor_Flow/blob/main/01_creating_random_Tensors.ipynb\" target=\"_parent\"><img src=\"https://colab.research.google.com/assets/colab-badge.svg\" alt=\"Open In Colab\"/></a>"
      ]
    },
    {
      "cell_type": "code",
      "execution_count": 1,
      "metadata": {
        "id": "KapASE3ybejt"
      },
      "outputs": [],
      "source": [
        "import tensorflow as tf"
      ]
    },
    {
      "cell_type": "code",
      "source": [
        "random1=tf.random.Generator.from_seed(23)\n",
        "random1=random1.normal(shape=(3,3))\n",
        "random1"
      ],
      "metadata": {
        "colab": {
          "base_uri": "https://localhost:8080/"
        },
        "id": "hU7PlUIObmCN",
        "outputId": "5df94fd6-cfa8-4741-ca56-8b4944428786"
      },
      "execution_count": 2,
      "outputs": [
        {
          "output_type": "execute_result",
          "data": {
            "text/plain": [
              "<tf.Tensor: shape=(3, 3), dtype=float32, numpy=\n",
              "array([[ 0.1175475 ,  0.03493892, -1.5700307 ],\n",
              "       [ 0.4457582 ,  0.10944034, -0.8035768 ],\n",
              "       [-1.7166729 ,  0.3738578 , -0.14371012]], dtype=float32)>"
            ]
          },
          "metadata": {},
          "execution_count": 2
        }
      ]
    },
    {
      "cell_type": "code",
      "source": [
        "random2=tf.random.Generator.from_seed(23)\n",
        "random2=random2.normal(shape=(3,3))\n",
        "random2"
      ],
      "metadata": {
        "colab": {
          "base_uri": "https://localhost:8080/"
        },
        "id": "fsInSa8Rb8qM",
        "outputId": "03a6505a-c462-4bd0-c92b-c73db36bacd5"
      },
      "execution_count": 3,
      "outputs": [
        {
          "output_type": "execute_result",
          "data": {
            "text/plain": [
              "<tf.Tensor: shape=(3, 3), dtype=float32, numpy=\n",
              "array([[ 0.1175475 ,  0.03493892, -1.5700307 ],\n",
              "       [ 0.4457582 ,  0.10944034, -0.8035768 ],\n",
              "       [-1.7166729 ,  0.3738578 , -0.14371012]], dtype=float32)>"
            ]
          },
          "metadata": {},
          "execution_count": 3
        }
      ]
    },
    {
      "cell_type": "markdown",
      "source": [
        "As we have set same seed for both so both will be equal\n",
        "`seed` is set for reproducibilty"
      ],
      "metadata": {
        "id": "IX999fx5cY64"
      }
    },
    {
      "cell_type": "code",
      "source": [
        "random1,random2,random1==random2"
      ],
      "metadata": {
        "colab": {
          "base_uri": "https://localhost:8080/"
        },
        "id": "pjKPtwyicLjL",
        "outputId": "69642cd2-385d-4102-fd35-e8fd5c926ebc"
      },
      "execution_count": 4,
      "outputs": [
        {
          "output_type": "execute_result",
          "data": {
            "text/plain": [
              "(<tf.Tensor: shape=(3, 3), dtype=float32, numpy=\n",
              " array([[ 0.1175475 ,  0.03493892, -1.5700307 ],\n",
              "        [ 0.4457582 ,  0.10944034, -0.8035768 ],\n",
              "        [-1.7166729 ,  0.3738578 , -0.14371012]], dtype=float32)>,\n",
              " <tf.Tensor: shape=(3, 3), dtype=float32, numpy=\n",
              " array([[ 0.1175475 ,  0.03493892, -1.5700307 ],\n",
              "        [ 0.4457582 ,  0.10944034, -0.8035768 ],\n",
              "        [-1.7166729 ,  0.3738578 , -0.14371012]], dtype=float32)>,\n",
              " <tf.Tensor: shape=(3, 3), dtype=bool, numpy=\n",
              " array([[ True,  True,  True],\n",
              "        [ True,  True,  True],\n",
              "        [ True,  True,  True]])>)"
            ]
          },
          "metadata": {},
          "execution_count": 4
        }
      ]
    },
    {
      "cell_type": "markdown",
      "source": [
        "**Shuffle the order of Tensors** .............\n",
        "\n",
        "***Shuffling the order of elemnets in Tensors**............"
      ],
      "metadata": {
        "id": "poEeYAsLfv5_"
      }
    },
    {
      "cell_type": "code",
      "source": [
        "not_shuffled_tensor=tf.Variable([[1,2,3],[4,4,5],[6,1,3]])\n",
        "not_shuffled_tensor"
      ],
      "metadata": {
        "colab": {
          "base_uri": "https://localhost:8080/"
        },
        "id": "SHKk5xozcP5f",
        "outputId": "2eb6581f-54a5-47a2-d585-81339c4f74a0"
      },
      "execution_count": 5,
      "outputs": [
        {
          "output_type": "execute_result",
          "data": {
            "text/plain": [
              "<tf.Variable 'Variable:0' shape=(3, 3) dtype=int32, numpy=\n",
              "array([[1, 2, 3],\n",
              "       [4, 4, 5],\n",
              "       [6, 1, 3]], dtype=int32)>"
            ]
          },
          "metadata": {},
          "execution_count": 5
        }
      ]
    },
    {
      "cell_type": "code",
      "source": [
        "shuffled_tensor=tf.random.shuffle(not_shuffled_tensor)\n",
        "shuffled_tensor"
      ],
      "metadata": {
        "colab": {
          "base_uri": "https://localhost:8080/"
        },
        "id": "7EF7OGU8gNSd",
        "outputId": "0fb54af7-2908-4495-8519-c4a48a2b5709"
      },
      "execution_count": 6,
      "outputs": [
        {
          "output_type": "execute_result",
          "data": {
            "text/plain": [
              "<tf.Tensor: shape=(3, 3), dtype=int32, numpy=\n",
              "array([[6, 1, 3],\n",
              "       [1, 2, 3],\n",
              "       [4, 4, 5]], dtype=int32)>"
            ]
          },
          "metadata": {},
          "execution_count": 6
        }
      ]
    },
    {
      "cell_type": "markdown",
      "source": [
        "Same order shuffuled Data."
      ],
      "metadata": {
        "id": "1mKNHN0RgjB3"
      }
    },
    {
      "cell_type": "code",
      "source": [
        "new_not_shuffled=tf.random.Generator.from_seed(30)\n",
        "new_not_shuffled=new_not_shuffled.uniform(shape=(3,3))\n",
        "new_not_shuffled"
      ],
      "metadata": {
        "colab": {
          "base_uri": "https://localhost:8080/"
        },
        "id": "R00DBF_AgnXW",
        "outputId": "39b17f61-9ed2-4d1a-fbbf-10b4a837007c"
      },
      "execution_count": 7,
      "outputs": [
        {
          "output_type": "execute_result",
          "data": {
            "text/plain": [
              "<tf.Tensor: shape=(3, 3), dtype=float32, numpy=\n",
              "array([[0.6900625 , 0.21108961, 0.00885725],\n",
              "       [0.42452395, 0.08308113, 0.40762496],\n",
              "       [0.5765996 , 0.49922466, 0.20822704]], dtype=float32)>"
            ]
          },
          "metadata": {},
          "execution_count": 7
        }
      ]
    },
    {
      "cell_type": "code",
      "source": [
        "shuffled_one=tf.random.set_seed(20)\n",
        "shuffled_one=tf.random.shuffle(new_not_shuffled,seed=20)\n",
        "new_not_shuffled\n"
      ],
      "metadata": {
        "colab": {
          "base_uri": "https://localhost:8080/"
        },
        "id": "xGq2y_wCg24V",
        "outputId": "40d39be0-256a-4f72-cde1-d8bf074ae5ed"
      },
      "execution_count": 8,
      "outputs": [
        {
          "output_type": "execute_result",
          "data": {
            "text/plain": [
              "<tf.Tensor: shape=(3, 3), dtype=float32, numpy=\n",
              "array([[0.6900625 , 0.21108961, 0.00885725],\n",
              "       [0.42452395, 0.08308113, 0.40762496],\n",
              "       [0.5765996 , 0.49922466, 0.20822704]], dtype=float32)>"
            ]
          },
          "metadata": {},
          "execution_count": 8
        }
      ]
    },
    {
      "cell_type": "markdown",
      "source": [
        "Other ways of Creating Tensor"
      ],
      "metadata": {
        "id": "oQ6fv0Co7uj9"
      }
    },
    {
      "cell_type": "markdown",
      "source": [
        "<!-- Other ways of creating Tensor -->"
      ],
      "metadata": {
        "id": "uVENNo2k7oqz"
      }
    },
    {
      "cell_type": "code",
      "source": [
        "tf.ones(shape=(10,10))"
      ],
      "metadata": {
        "id": "CU__3ZiyhMim",
        "colab": {
          "base_uri": "https://localhost:8080/"
        },
        "outputId": "e828c899-5402-4ad7-f07a-0fe1b71c5c3f"
      },
      "execution_count": 9,
      "outputs": [
        {
          "output_type": "execute_result",
          "data": {
            "text/plain": [
              "<tf.Tensor: shape=(10, 10), dtype=float32, numpy=\n",
              "array([[1., 1., 1., 1., 1., 1., 1., 1., 1., 1.],\n",
              "       [1., 1., 1., 1., 1., 1., 1., 1., 1., 1.],\n",
              "       [1., 1., 1., 1., 1., 1., 1., 1., 1., 1.],\n",
              "       [1., 1., 1., 1., 1., 1., 1., 1., 1., 1.],\n",
              "       [1., 1., 1., 1., 1., 1., 1., 1., 1., 1.],\n",
              "       [1., 1., 1., 1., 1., 1., 1., 1., 1., 1.],\n",
              "       [1., 1., 1., 1., 1., 1., 1., 1., 1., 1.],\n",
              "       [1., 1., 1., 1., 1., 1., 1., 1., 1., 1.],\n",
              "       [1., 1., 1., 1., 1., 1., 1., 1., 1., 1.],\n",
              "       [1., 1., 1., 1., 1., 1., 1., 1., 1., 1.]], dtype=float32)>"
            ]
          },
          "metadata": {},
          "execution_count": 9
        }
      ]
    },
    {
      "cell_type": "code",
      "source": [
        "tf.ones([10,10])"
      ],
      "metadata": {
        "colab": {
          "base_uri": "https://localhost:8080/"
        },
        "id": "u_YbHuQr71Ez",
        "outputId": "ff20eb41-0471-4130-d142-e87d6df79678"
      },
      "execution_count": 10,
      "outputs": [
        {
          "output_type": "execute_result",
          "data": {
            "text/plain": [
              "<tf.Tensor: shape=(10, 10), dtype=float32, numpy=\n",
              "array([[1., 1., 1., 1., 1., 1., 1., 1., 1., 1.],\n",
              "       [1., 1., 1., 1., 1., 1., 1., 1., 1., 1.],\n",
              "       [1., 1., 1., 1., 1., 1., 1., 1., 1., 1.],\n",
              "       [1., 1., 1., 1., 1., 1., 1., 1., 1., 1.],\n",
              "       [1., 1., 1., 1., 1., 1., 1., 1., 1., 1.],\n",
              "       [1., 1., 1., 1., 1., 1., 1., 1., 1., 1.],\n",
              "       [1., 1., 1., 1., 1., 1., 1., 1., 1., 1.],\n",
              "       [1., 1., 1., 1., 1., 1., 1., 1., 1., 1.],\n",
              "       [1., 1., 1., 1., 1., 1., 1., 1., 1., 1.],\n",
              "       [1., 1., 1., 1., 1., 1., 1., 1., 1., 1.]], dtype=float32)>"
            ]
          },
          "metadata": {},
          "execution_count": 10
        }
      ]
    },
    {
      "cell_type": "markdown",
      "source": [
        "Turn numpy arrays into Tensors"
      ],
      "metadata": {
        "id": "umakCBQ07-L1"
      }
    },
    {
      "cell_type": "code",
      "source": [
        "import numpy as np"
      ],
      "metadata": {
        "id": "WTuKhY5v78Jl"
      },
      "execution_count": 11,
      "outputs": []
    },
    {
      "cell_type": "code",
      "source": [
        "numpy_A=np.arange(1,11)"
      ],
      "metadata": {
        "id": "C3x6Igei8rkb"
      },
      "execution_count": 12,
      "outputs": []
    },
    {
      "cell_type": "code",
      "source": [
        "numpy_A"
      ],
      "metadata": {
        "colab": {
          "base_uri": "https://localhost:8080/"
        },
        "id": "ShA7PLVE8zWI",
        "outputId": "d70b4f53-58c1-4495-bff6-013073f8fc86"
      },
      "execution_count": 13,
      "outputs": [
        {
          "output_type": "execute_result",
          "data": {
            "text/plain": [
              "array([ 1,  2,  3,  4,  5,  6,  7,  8,  9, 10])"
            ]
          },
          "metadata": {},
          "execution_count": 13
        }
      ]
    },
    {
      "cell_type": "code",
      "source": [
        "A=tf.constant(numpy_A)"
      ],
      "metadata": {
        "id": "sIWbl6gJ80v9"
      },
      "execution_count": 14,
      "outputs": []
    },
    {
      "cell_type": "code",
      "source": [
        "A"
      ],
      "metadata": {
        "colab": {
          "base_uri": "https://localhost:8080/"
        },
        "id": "GrQ6OMCI86zH",
        "outputId": "4d14c25f-2726-459a-a41c-e37a6f72181e"
      },
      "execution_count": 15,
      "outputs": [
        {
          "output_type": "execute_result",
          "data": {
            "text/plain": [
              "<tf.Tensor: shape=(10,), dtype=int64, numpy=array([ 1,  2,  3,  4,  5,  6,  7,  8,  9, 10])>"
            ]
          },
          "metadata": {},
          "execution_count": 15
        }
      ]
    },
    {
      "cell_type": "code",
      "source": [
        "B=tf.constant(numpy_A,shape=(5,2))\n",
        "B"
      ],
      "metadata": {
        "colab": {
          "base_uri": "https://localhost:8080/"
        },
        "id": "0sNfr7g187u8",
        "outputId": "8dfeedeb-5b27-4fc2-e0f3-ea42fbed9cc1"
      },
      "execution_count": 16,
      "outputs": [
        {
          "output_type": "execute_result",
          "data": {
            "text/plain": [
              "<tf.Tensor: shape=(5, 2), dtype=int64, numpy=\n",
              "array([[ 1,  2],\n",
              "       [ 3,  4],\n",
              "       [ 5,  6],\n",
              "       [ 7,  8],\n",
              "       [ 9, 10]])>"
            ]
          },
          "metadata": {},
          "execution_count": 16
        }
      ]
    },
    {
      "cell_type": "code",
      "source": [
        "C=tf.constant(numpy_A,shape=(2,5))\n",
        "C"
      ],
      "metadata": {
        "colab": {
          "base_uri": "https://localhost:8080/"
        },
        "id": "KSzu0PMh9Twd",
        "outputId": "6fd7675e-00f6-4df3-8a14-b9c3f5657643"
      },
      "execution_count": 17,
      "outputs": [
        {
          "output_type": "execute_result",
          "data": {
            "text/plain": [
              "<tf.Tensor: shape=(2, 5), dtype=int64, numpy=\n",
              "array([[ 1,  2,  3,  4,  5],\n",
              "       [ 6,  7,  8,  9, 10]])>"
            ]
          },
          "metadata": {},
          "execution_count": 17
        }
      ]
    },
    {
      "cell_type": "code",
      "source": [
        "tf.zeros([10,10])"
      ],
      "metadata": {
        "colab": {
          "base_uri": "https://localhost:8080/"
        },
        "id": "c2_NlJh-9b57",
        "outputId": "6f14512d-08ef-4414-8960-534a7ba25d5a"
      },
      "execution_count": 18,
      "outputs": [
        {
          "output_type": "execute_result",
          "data": {
            "text/plain": [
              "<tf.Tensor: shape=(10, 10), dtype=float32, numpy=\n",
              "array([[0., 0., 0., 0., 0., 0., 0., 0., 0., 0.],\n",
              "       [0., 0., 0., 0., 0., 0., 0., 0., 0., 0.],\n",
              "       [0., 0., 0., 0., 0., 0., 0., 0., 0., 0.],\n",
              "       [0., 0., 0., 0., 0., 0., 0., 0., 0., 0.],\n",
              "       [0., 0., 0., 0., 0., 0., 0., 0., 0., 0.],\n",
              "       [0., 0., 0., 0., 0., 0., 0., 0., 0., 0.],\n",
              "       [0., 0., 0., 0., 0., 0., 0., 0., 0., 0.],\n",
              "       [0., 0., 0., 0., 0., 0., 0., 0., 0., 0.],\n",
              "       [0., 0., 0., 0., 0., 0., 0., 0., 0., 0.],\n",
              "       [0., 0., 0., 0., 0., 0., 0., 0., 0., 0.]], dtype=float32)>"
            ]
          },
          "metadata": {},
          "execution_count": 18
        }
      ]
    },
    {
      "cell_type": "code",
      "source": [
        "tf.zeros(shape=(10,10))"
      ],
      "metadata": {
        "id": "N58urc5a-QCP",
        "outputId": "000da0e1-5fd4-4a82-9384-795792614bef",
        "colab": {
          "base_uri": "https://localhost:8080/"
        }
      },
      "execution_count": 19,
      "outputs": [
        {
          "output_type": "execute_result",
          "data": {
            "text/plain": [
              "<tf.Tensor: shape=(10, 10), dtype=float32, numpy=\n",
              "array([[0., 0., 0., 0., 0., 0., 0., 0., 0., 0.],\n",
              "       [0., 0., 0., 0., 0., 0., 0., 0., 0., 0.],\n",
              "       [0., 0., 0., 0., 0., 0., 0., 0., 0., 0.],\n",
              "       [0., 0., 0., 0., 0., 0., 0., 0., 0., 0.],\n",
              "       [0., 0., 0., 0., 0., 0., 0., 0., 0., 0.],\n",
              "       [0., 0., 0., 0., 0., 0., 0., 0., 0., 0.],\n",
              "       [0., 0., 0., 0., 0., 0., 0., 0., 0., 0.],\n",
              "       [0., 0., 0., 0., 0., 0., 0., 0., 0., 0.],\n",
              "       [0., 0., 0., 0., 0., 0., 0., 0., 0., 0.],\n",
              "       [0., 0., 0., 0., 0., 0., 0., 0., 0., 0.]], dtype=float32)>"
            ]
          },
          "metadata": {},
          "execution_count": 19
        }
      ]
    }
  ]
}