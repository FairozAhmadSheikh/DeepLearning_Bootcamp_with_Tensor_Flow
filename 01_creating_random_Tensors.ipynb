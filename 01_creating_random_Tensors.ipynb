{
  "nbformat": 4,
  "nbformat_minor": 0,
  "metadata": {
    "colab": {
      "provenance": [],
      "authorship_tag": "ABX9TyNfv+idCi0dFX+V6AH7oAT3"
    },
    "kernelspec": {
      "name": "python3",
      "display_name": "Python 3"
    },
    "language_info": {
      "name": "python"
    }
  },
  "cells": [
    {
      "cell_type": "code",
      "execution_count": 7,
      "metadata": {
        "id": "KapASE3ybejt"
      },
      "outputs": [],
      "source": [
        "import tensorflow as tf"
      ]
    },
    {
      "cell_type": "code",
      "source": [
        "random1=tf.random.Generator.from_seed(23)\n",
        "random1=random1.normal(shape=(3,3))\n",
        "random1"
      ],
      "metadata": {
        "colab": {
          "base_uri": "https://localhost:8080/"
        },
        "id": "hU7PlUIObmCN",
        "outputId": "3d3ae0bb-cfbf-4f04-f9fb-ec3cf9e6bb6f"
      },
      "execution_count": 8,
      "outputs": [
        {
          "output_type": "execute_result",
          "data": {
            "text/plain": [
              "<tf.Tensor: shape=(3, 3), dtype=float32, numpy=\n",
              "array([[ 0.1175475 ,  0.03493892, -1.5700307 ],\n",
              "       [ 0.4457582 ,  0.10944034, -0.8035768 ],\n",
              "       [-1.7166729 ,  0.3738578 , -0.14371012]], dtype=float32)>"
            ]
          },
          "metadata": {},
          "execution_count": 8
        }
      ]
    },
    {
      "cell_type": "code",
      "source": [
        "random2=tf.random.Generator.from_seed(23)\n",
        "random2=random2.normal(shape=(3,3))\n",
        "random2"
      ],
      "metadata": {
        "colab": {
          "base_uri": "https://localhost:8080/"
        },
        "id": "fsInSa8Rb8qM",
        "outputId": "f9b76108-8468-4a62-a14f-e002c8c0e444"
      },
      "execution_count": 9,
      "outputs": [
        {
          "output_type": "execute_result",
          "data": {
            "text/plain": [
              "<tf.Tensor: shape=(3, 3), dtype=float32, numpy=\n",
              "array([[ 0.1175475 ,  0.03493892, -1.5700307 ],\n",
              "       [ 0.4457582 ,  0.10944034, -0.8035768 ],\n",
              "       [-1.7166729 ,  0.3738578 , -0.14371012]], dtype=float32)>"
            ]
          },
          "metadata": {},
          "execution_count": 9
        }
      ]
    },
    {
      "cell_type": "markdown",
      "source": [
        "As we have set same seed for both so both will be equal\n",
        "`seed` is set for reproducibilty"
      ],
      "metadata": {
        "id": "IX999fx5cY64"
      }
    },
    {
      "cell_type": "code",
      "source": [
        "random1,random2,random1==random2"
      ],
      "metadata": {
        "colab": {
          "base_uri": "https://localhost:8080/"
        },
        "id": "pjKPtwyicLjL",
        "outputId": "c24b93b2-81f8-4634-c85d-aaa38ee9fd4a"
      },
      "execution_count": 10,
      "outputs": [
        {
          "output_type": "execute_result",
          "data": {
            "text/plain": [
              "(<tf.Tensor: shape=(3, 3), dtype=float32, numpy=\n",
              " array([[ 0.1175475 ,  0.03493892, -1.5700307 ],\n",
              "        [ 0.4457582 ,  0.10944034, -0.8035768 ],\n",
              "        [-1.7166729 ,  0.3738578 , -0.14371012]], dtype=float32)>,\n",
              " <tf.Tensor: shape=(3, 3), dtype=float32, numpy=\n",
              " array([[ 0.1175475 ,  0.03493892, -1.5700307 ],\n",
              "        [ 0.4457582 ,  0.10944034, -0.8035768 ],\n",
              "        [-1.7166729 ,  0.3738578 , -0.14371012]], dtype=float32)>,\n",
              " <tf.Tensor: shape=(3, 3), dtype=bool, numpy=\n",
              " array([[ True,  True,  True],\n",
              "        [ True,  True,  True],\n",
              "        [ True,  True,  True]])>)"
            ]
          },
          "metadata": {},
          "execution_count": 10
        }
      ]
    },
    {
      "cell_type": "code",
      "source": [],
      "metadata": {
        "id": "SHKk5xozcP5f"
      },
      "execution_count": 10,
      "outputs": []
    }
  ]
}