{
  "nbformat": 4,
  "nbformat_minor": 0,
  "metadata": {
    "colab": {
      "provenance": [],
      "gpuType": "T4",
      "authorship_tag": "ABX9TyN7nXZeyZ7wplCx6j+Jaueq",
      "include_colab_link": true
    },
    "kernelspec": {
      "name": "python3",
      "display_name": "Python 3"
    },
    "language_info": {
      "name": "python"
    },
    "accelerator": "GPU"
  },
  "cells": [
    {
      "cell_type": "markdown",
      "metadata": {
        "id": "view-in-github",
        "colab_type": "text"
      },
      "source": [
        "<a href=\"https://colab.research.google.com/github/FairozAhmadSheikh/DeepLearning_Bootcamp_with_Tensor_Flow/blob/main/05_transfer_learning_fine_tunning.ipynb\" target=\"_parent\"><img src=\"https://colab.research.google.com/assets/colab-badge.svg\" alt=\"Open In Colab\"/></a>"
      ]
    },
    {
      "cell_type": "markdown",
      "source": [
        "Lets start with importing some helper functions from a script"
      ],
      "metadata": {
        "id": "aKKBAdtWZJz4"
      }
    },
    {
      "cell_type": "code",
      "execution_count": 1,
      "metadata": {
        "colab": {
          "base_uri": "https://localhost:8080/"
        },
        "id": "pYXlrcUzY3sR",
        "outputId": "1349836e-f8c9-47c0-8db1-90b4dbec33ca"
      },
      "outputs": [
        {
          "output_type": "stream",
          "name": "stdout",
          "text": [
            "--2025-09-19 07:18:35--  https://raw.githubusercontent.com/FairozAhmadSheikh/DeepLearning_Bootcamp_with_Tensor_Flow/refs/heads/main/helper_functions/helper_functions.py\n",
            "Resolving raw.githubusercontent.com (raw.githubusercontent.com)... 185.199.111.133, 185.199.109.133, 185.199.108.133, ...\n",
            "Connecting to raw.githubusercontent.com (raw.githubusercontent.com)|185.199.111.133|:443... connected.\n",
            "HTTP request sent, awaiting response... 200 OK\n",
            "Length: 6733 (6.6K) [text/plain]\n",
            "Saving to: ‘helper_functions.py’\n",
            "\n",
            "\rhelper_functions.py   0%[                    ]       0  --.-KB/s               \rhelper_functions.py 100%[===================>]   6.58K  --.-KB/s    in 0s      \n",
            "\n",
            "2025-09-19 07:18:36 (71.4 MB/s) - ‘helper_functions.py’ saved [6733/6733]\n",
            "\n"
          ]
        }
      ],
      "source": [
        "!wget  https://raw.githubusercontent.com/FairozAhmadSheikh/DeepLearning_Bootcamp_with_Tensor_Flow/refs/heads/main/helper_functions/helper_functions.py"
      ]
    },
    {
      "cell_type": "code",
      "source": [
        "!wget https://storage.googleapis.com/ztm_tf_course/food_vision/10_food_classes_10_percent.zip"
      ],
      "metadata": {
        "colab": {
          "base_uri": "https://localhost:8080/"
        },
        "id": "yJpwcmnUZUye",
        "outputId": "023ce829-a280-47a1-d99e-ffbaa31d2873"
      },
      "execution_count": 2,
      "outputs": [
        {
          "output_type": "stream",
          "name": "stdout",
          "text": [
            "--2025-09-19 07:18:36--  https://storage.googleapis.com/ztm_tf_course/food_vision/10_food_classes_10_percent.zip\n",
            "Resolving storage.googleapis.com (storage.googleapis.com)... 173.194.202.207, 173.194.203.207, 74.125.199.207, ...\n",
            "Connecting to storage.googleapis.com (storage.googleapis.com)|173.194.202.207|:443... connected.\n",
            "HTTP request sent, awaiting response... 200 OK\n",
            "Length: 168546183 (161M) [application/zip]\n",
            "Saving to: ‘10_food_classes_10_percent.zip’\n",
            "\n",
            "10_food_classes_10_ 100%[===================>] 160.74M   152MB/s    in 1.1s    \n",
            "\n",
            "2025-09-19 07:18:37 (152 MB/s) - ‘10_food_classes_10_percent.zip’ saved [168546183/168546183]\n",
            "\n"
          ]
        }
      ]
    },
    {
      "cell_type": "code",
      "source": [
        "from helper_functions import unzip_data,walk_through_dir,plot_loss_curves,create_tensorboard_callback"
      ],
      "metadata": {
        "id": "w35ByqCiZhc_"
      },
      "execution_count": 3,
      "outputs": []
    },
    {
      "cell_type": "code",
      "source": [
        "unzip_data(\"10_food_classes_10_percent.zip\")"
      ],
      "metadata": {
        "id": "6PZyqvsOZnF5"
      },
      "execution_count": 4,
      "outputs": []
    },
    {
      "cell_type": "code",
      "source": [
        "walk_through_dir('10_food_classes_10_percent')"
      ],
      "metadata": {
        "colab": {
          "base_uri": "https://localhost:8080/"
        },
        "id": "T6LCWbyDZtaO",
        "outputId": "a487d881-d595-4bc6-82b1-b628baa7c757"
      },
      "execution_count": 5,
      "outputs": [
        {
          "output_type": "stream",
          "name": "stdout",
          "text": [
            "There are 2 directories and 0 images in '10_food_classes_10_percent'.\n",
            "There are 10 directories and 0 images in '10_food_classes_10_percent/test'.\n",
            "There are 0 directories and 250 images in '10_food_classes_10_percent/test/pizza'.\n",
            "There are 0 directories and 250 images in '10_food_classes_10_percent/test/chicken_wings'.\n",
            "There are 0 directories and 250 images in '10_food_classes_10_percent/test/grilled_salmon'.\n",
            "There are 0 directories and 250 images in '10_food_classes_10_percent/test/ramen'.\n",
            "There are 0 directories and 250 images in '10_food_classes_10_percent/test/hamburger'.\n",
            "There are 0 directories and 250 images in '10_food_classes_10_percent/test/ice_cream'.\n",
            "There are 0 directories and 250 images in '10_food_classes_10_percent/test/steak'.\n",
            "There are 0 directories and 250 images in '10_food_classes_10_percent/test/fried_rice'.\n",
            "There are 0 directories and 250 images in '10_food_classes_10_percent/test/sushi'.\n",
            "There are 0 directories and 250 images in '10_food_classes_10_percent/test/chicken_curry'.\n",
            "There are 10 directories and 0 images in '10_food_classes_10_percent/train'.\n",
            "There are 0 directories and 75 images in '10_food_classes_10_percent/train/pizza'.\n",
            "There are 0 directories and 75 images in '10_food_classes_10_percent/train/chicken_wings'.\n",
            "There are 0 directories and 75 images in '10_food_classes_10_percent/train/grilled_salmon'.\n",
            "There are 0 directories and 75 images in '10_food_classes_10_percent/train/ramen'.\n",
            "There are 0 directories and 75 images in '10_food_classes_10_percent/train/hamburger'.\n",
            "There are 0 directories and 75 images in '10_food_classes_10_percent/train/ice_cream'.\n",
            "There are 0 directories and 75 images in '10_food_classes_10_percent/train/steak'.\n",
            "There are 0 directories and 75 images in '10_food_classes_10_percent/train/fried_rice'.\n",
            "There are 0 directories and 75 images in '10_food_classes_10_percent/train/sushi'.\n",
            "There are 0 directories and 75 images in '10_food_classes_10_percent/train/chicken_curry'.\n"
          ]
        }
      ]
    },
    {
      "cell_type": "code",
      "source": [
        "# Create  train and test directory\n",
        "train_dir='10_food_classes_10_percent/train'\n",
        "test_dir='10_food_classes_10_percent/test'"
      ],
      "metadata": {
        "id": "wnTO4d1SaAMV"
      },
      "execution_count": 6,
      "outputs": []
    },
    {
      "cell_type": "code",
      "source": [
        "import tensorflow as tf"
      ],
      "metadata": {
        "id": "V1nsGdtban9X"
      },
      "execution_count": 7,
      "outputs": []
    },
    {
      "cell_type": "code",
      "source": [
        "IMG_SIZE=(224,224)\n",
        "BATCH_SIZE=32"
      ],
      "metadata": {
        "id": "agKrD32ca2oP"
      },
      "execution_count": 8,
      "outputs": []
    },
    {
      "cell_type": "code",
      "source": [
        "# Instead of using ImageDataGenerator we use the below method\n",
        "train_data_10_percent=tf.keras.preprocessing.image_dataset_from_directory(train_dir,label_mode='categorical',batch_size=BATCH_SIZE,image_size=IMG_SIZE)\n",
        "test_data=tf.keras.preprocessing.image_dataset_from_directory(test_dir,batch_size=BATCH_SIZE,image_size=IMG_SIZE,label_mode='categorical')"
      ],
      "metadata": {
        "colab": {
          "base_uri": "https://localhost:8080/"
        },
        "id": "U84yTE2yaPUY",
        "outputId": "43a0334f-073b-4cf3-afcf-a4c5fa99a039"
      },
      "execution_count": 9,
      "outputs": [
        {
          "output_type": "stream",
          "name": "stdout",
          "text": [
            "Found 750 files belonging to 10 classes.\n",
            "Found 2500 files belonging to 10 classes.\n"
          ]
        }
      ]
    },
    {
      "cell_type": "code",
      "source": [
        "# Check out class names\n",
        "train_data_10_percent.class_names"
      ],
      "metadata": {
        "colab": {
          "base_uri": "https://localhost:8080/"
        },
        "id": "VWFEld2fba-y",
        "outputId": "e8aadaa4-810d-480c-cb79-5018d4270baa"
      },
      "execution_count": 10,
      "outputs": [
        {
          "output_type": "execute_result",
          "data": {
            "text/plain": [
              "['chicken_curry',\n",
              " 'chicken_wings',\n",
              " 'fried_rice',\n",
              " 'grilled_salmon',\n",
              " 'hamburger',\n",
              " 'ice_cream',\n",
              " 'pizza',\n",
              " 'ramen',\n",
              " 'steak',\n",
              " 'sushi']"
            ]
          },
          "metadata": {},
          "execution_count": 10
        }
      ]
    },
    {
      "cell_type": "code",
      "source": [
        "# See an example of batch of data\n",
        "for images,label in train_data_10_percent.take(1):\n",
        "  print(images,label)"
      ],
      "metadata": {
        "colab": {
          "base_uri": "https://localhost:8080/"
        },
        "id": "JzehKRtIblMq",
        "outputId": "308a92da-f509-4ca6-9a27-a3eab5734d03"
      },
      "execution_count": 11,
      "outputs": [
        {
          "output_type": "stream",
          "name": "stdout",
          "text": [
            "tf.Tensor(\n",
            "[[[[2.13056122e+02 1.62795929e+02 1.03826532e+01]\n",
            "   [2.10974487e+02 1.53974487e+02 8.12244797e+00]\n",
            "   [1.97474487e+02 1.36030609e+02 0.00000000e+00]\n",
            "   ...\n",
            "   [4.57857361e+01 2.87857361e+01 2.17857361e+01]\n",
            "   [4.98112297e+01 3.28112297e+01 2.48112297e+01]\n",
            "   [4.94590530e+01 3.24590530e+01 2.44590530e+01]]\n",
            "\n",
            "  [[2.16142868e+02 1.52979584e+02 2.34693050e-01]\n",
            "   [2.09770401e+02 1.48714294e+02 2.29590893e-01]\n",
            "   [2.03683670e+02 1.44770401e+02 9.02041149e+00]\n",
            "   ...\n",
            "   [4.68317375e+01 2.88878613e+01 2.47194901e+01]\n",
            "   [4.77193756e+01 3.07193756e+01 2.37193756e+01]\n",
            "   [5.07602005e+01 3.37602005e+01 2.67602024e+01]]\n",
            "\n",
            "  [[2.25397964e+02 1.56178558e+02 3.39285755e+00]\n",
            "   [2.08000000e+02 1.45571411e+02 7.13775730e+00]\n",
            "   [2.01744904e+02 1.49551010e+02 4.97346992e+01]\n",
            "   ...\n",
            "   [4.67347946e+01 2.93776512e+01 2.71633644e+01]\n",
            "   [4.65305786e+01 2.91734352e+01 2.49591503e+01]\n",
            "   [4.57193260e+01 2.83621826e+01 2.41478977e+01]]\n",
            "\n",
            "  ...\n",
            "\n",
            "  [[2.09066315e+02 1.75280579e+02 2.07852051e+02]\n",
            "   [2.10357101e+02 1.76571365e+02 2.09142838e+02]\n",
            "   [2.09714233e+02 1.75928497e+02 2.08499969e+02]\n",
            "   ...\n",
            "   [2.37571472e+02 1.98571472e+02 2.51571472e+02]\n",
            "   [2.33168396e+02 1.96168396e+02 2.47168396e+02]\n",
            "   [2.36454025e+02 1.99454025e+02 2.50454025e+02]]\n",
            "\n",
            "  [[2.11000000e+02 1.80000000e+02 2.12000000e+02]\n",
            "   [2.04071411e+02 1.73071411e+02 2.05071411e+02]\n",
            "   [2.09372452e+02 1.75372452e+02 2.08372452e+02]\n",
            "   ...\n",
            "   [2.36015305e+02 1.97015305e+02 2.50015305e+02]\n",
            "   [2.34398026e+02 1.97398026e+02 2.48398026e+02]\n",
            "   [2.37219193e+02 2.00219193e+02 2.51219193e+02]]\n",
            "\n",
            "  [[2.05800934e+02 1.74800934e+02 2.08800934e+02]\n",
            "   [2.01734756e+02 1.70734756e+02 2.02734756e+02]\n",
            "   [2.08280609e+02 1.74280609e+02 2.07280609e+02]\n",
            "   ...\n",
            "   [2.33346848e+02 1.94346848e+02 2.47346848e+02]\n",
            "   [2.33566238e+02 1.96566238e+02 2.47566238e+02]\n",
            "   [2.29454254e+02 1.92454254e+02 2.43454254e+02]]]\n",
            "\n",
            "\n",
            " [[[3.93544312e+01 4.03544312e+01 3.43544312e+01]\n",
            "   [3.95036659e+01 4.05036659e+01 3.45036659e+01]\n",
            "   [4.03080330e+01 4.13080330e+01 3.53080330e+01]\n",
            "   ...\n",
            "   [2.80000000e+01 2.90000000e+01 2.40000000e+01]\n",
            "   [2.60000000e+01 2.70000000e+01 2.20000000e+01]\n",
            "   [2.50000000e+01 2.60000000e+01 2.10000000e+01]]\n",
            "\n",
            "  [[4.19241066e+01 4.29241066e+01 3.69241066e+01]\n",
            "   [4.17680168e+01 4.27680168e+01 3.67680168e+01]\n",
            "   [4.25691948e+01 4.35691948e+01 3.75691948e+01]\n",
            "   ...\n",
            "   [2.80000000e+01 2.90000000e+01 2.40000000e+01]\n",
            "   [2.67275085e+01 2.77275085e+01 2.27275085e+01]\n",
            "   [2.55036392e+01 2.65036392e+01 2.15036392e+01]]\n",
            "\n",
            "  [[4.30000000e+01 4.40000000e+01 3.80000000e+01]\n",
            "   [4.30000000e+01 4.40000000e+01 3.80000000e+01]\n",
            "   [4.37857132e+01 4.47857132e+01 3.87857132e+01]\n",
            "   ...\n",
            "   [2.87603493e+01 2.97603493e+01 2.47603493e+01]\n",
            "   [2.73058033e+01 2.83058033e+01 2.33058033e+01]\n",
            "   [2.63058033e+01 2.73058033e+01 2.23058033e+01]]\n",
            "\n",
            "  ...\n",
            "\n",
            "  [[9.30000000e+01 9.81092072e+01 9.12278671e+01]\n",
            "   [9.20000000e+01 9.70714264e+01 9.97142868e+01]\n",
            "   [9.20000000e+01 9.72142868e+01 9.98116837e+01]\n",
            "   ...\n",
            "   [9.92142639e+01 1.09214264e+02 1.10214264e+02]\n",
            "   [9.69504013e+01 1.06950401e+02 1.07950401e+02]\n",
            "   [9.61965637e+01 1.06196564e+02 1.07196564e+02]]\n",
            "\n",
            "  [[9.30000000e+01 9.80000000e+01 9.19985733e+01]\n",
            "   [9.20000000e+01 9.80000000e+01 9.73121719e+01]\n",
            "   [9.20000000e+01 9.73844147e+01 9.87098083e+01]\n",
            "   ...\n",
            "   [9.79977417e+01 1.07997742e+02 1.08997742e+02]\n",
            "   [9.57834778e+01 1.05783478e+02 1.06783478e+02]\n",
            "   [9.50000000e+01 1.05000000e+02 1.06000000e+02]]\n",
            "\n",
            "  [[9.30000000e+01 9.80000000e+01 9.38134689e+01]\n",
            "   [9.20000000e+01 9.80000000e+01 9.44849701e+01]\n",
            "   [9.20000000e+01 9.80000000e+01 9.48207245e+01]\n",
            "   ...\n",
            "   [9.72142639e+01 1.07214264e+02 1.08214264e+02]\n",
            "   [9.50000000e+01 1.05000000e+02 1.06000000e+02]\n",
            "   [9.42611389e+01 1.04261139e+02 1.05261139e+02]]]\n",
            "\n",
            "\n",
            " [[[2.95237560e+01 2.45237560e+01 5.52375650e+00]\n",
            "   [3.18014984e+01 2.48014984e+01 6.80149889e+00]\n",
            "   [3.04258614e+01 2.34258614e+01 5.42586088e+00]\n",
            "   ...\n",
            "   [7.23201370e+01 5.31058769e+01 3.97486687e+01]\n",
            "   [7.23149185e+01 5.33149147e+01 3.93149147e+01]\n",
            "   [7.59866409e+01 5.69866409e+01 4.19866409e+01]]\n",
            "\n",
            "  [[2.90000000e+01 2.28883934e+01 4.44419670e+00]\n",
            "   [2.98566647e+01 2.28566647e+01 4.85666466e+00]\n",
            "   [2.99048138e+01 2.29048138e+01 4.90481520e+00]\n",
            "   ...\n",
            "   [7.33415375e+01 5.36905594e+01 4.16434975e+01]\n",
            "   [7.41036301e+01 5.51036339e+01 4.11036339e+01]\n",
            "   [7.39601364e+01 5.49601364e+01 4.05159416e+01]]\n",
            "\n",
            "  [[2.90000000e+01 2.20000000e+01 4.00000000e+00]\n",
            "   [2.90000000e+01 2.20000000e+01 4.00000000e+00]\n",
            "   [3.01985016e+01 2.31985016e+01 5.19850159e+00]\n",
            "   ...\n",
            "   [7.54399338e+01 5.39842186e+01 4.29842186e+01]\n",
            "   [7.67150574e+01 5.51345787e+01 4.19947357e+01]\n",
            "   [7.60909729e+01 5.53045578e+01 4.19000282e+01]]\n",
            "\n",
            "  ...\n",
            "\n",
            "  [[3.87526817e+01 2.87526817e+01 1.88263512e+01]\n",
            "   [4.19886971e+01 3.19886971e+01 2.19886951e+01]\n",
            "   [4.49751472e+01 3.50330315e+01 2.32563839e+01]\n",
            "   ...\n",
            "   [7.97781296e+01 6.19254723e+01 6.19991417e+01]\n",
            "   [8.04120636e+01 6.05677032e+01 6.27097778e+01]\n",
            "   [7.63955002e+01 5.68789749e+01 5.90000000e+01]]\n",
            "\n",
            "  [[3.66899338e+01 2.66899319e+01 1.76899319e+01]\n",
            "   [4.37063179e+01 3.37063179e+01 2.28813477e+01]\n",
            "   [4.72619553e+01 3.81428566e+01 2.35001469e+01]\n",
            "   ...\n",
            "   [7.57714157e+01 5.97714195e+01 6.14694862e+01]\n",
            "   [7.45085297e+01 5.69602928e+01 6.04763718e+01]\n",
            "   [7.36029739e+01 5.65311546e+01 5.98884277e+01]]\n",
            "\n",
            "  [[4.12589111e+01 3.12589111e+01 2.22589111e+01]\n",
            "   [4.46004410e+01 3.46004410e+01 2.27432995e+01]\n",
            "   [4.65027161e+01 3.75027161e+01 2.25027142e+01]\n",
            "   ...\n",
            "   [6.74607697e+01 5.14607658e+01 5.40322380e+01]\n",
            "   [7.06722260e+01 5.46722260e+01 5.76722260e+01]\n",
            "   [7.31852722e+01 5.71852722e+01 6.01852722e+01]]]\n",
            "\n",
            "\n",
            " ...\n",
            "\n",
            "\n",
            " [[[2.33556122e+02 2.14556122e+02 1.72556122e+02]\n",
            "   [2.27096939e+02 2.08096939e+02 1.66096939e+02]\n",
            "   [2.28923477e+02 2.09923477e+02 1.67923477e+02]\n",
            "   ...\n",
            "   [2.50428589e+02 2.34505188e+02 1.96132782e+02]\n",
            "   [2.52071442e+02 2.38071442e+02 2.03071442e+02]\n",
            "   [2.54173508e+02 2.41428635e+02 2.06428635e+02]]\n",
            "\n",
            "  [[2.31142853e+02 2.12142853e+02 1.70142853e+02]\n",
            "   [2.26071426e+02 2.07071426e+02 1.65071426e+02]\n",
            "   [2.29071426e+02 2.10071426e+02 1.68071426e+02]\n",
            "   ...\n",
            "   [2.51785736e+02 2.36142944e+02 1.96928680e+02]\n",
            "   [2.53000000e+02 2.39000000e+02 2.02000000e+02]\n",
            "   [2.53025513e+02 2.39025513e+02 2.04025513e+02]]\n",
            "\n",
            "  [[2.27137756e+02 2.07709183e+02 1.65494904e+02]\n",
            "   [2.21127548e+02 2.01698975e+02 1.59484695e+02]\n",
            "   [2.23831635e+02 2.04403061e+02 1.62188782e+02]\n",
            "   ...\n",
            "   [2.51188843e+02 2.33188843e+02 1.94760315e+02]\n",
            "   [2.52372452e+02 2.36372452e+02 2.00372452e+02]\n",
            "   [2.52862259e+02 2.38433685e+02 2.03219391e+02]]\n",
            "\n",
            "  ...\n",
            "\n",
            "  [[1.28571411e+02 1.09571404e+02 7.75714035e+01]\n",
            "   [1.28000000e+02 1.09000000e+02 7.70000000e+01]\n",
            "   [1.29000000e+02 1.10000000e+02 7.80000000e+01]\n",
            "   ...\n",
            "   [1.75457573e+01 1.35457563e+01 1.42855835e+01]\n",
            "   [1.54130983e+01 1.11274538e+01 1.18978825e+01]\n",
            "   [1.56376114e+01 1.19234390e+01 1.26326447e+01]]\n",
            "\n",
            "  [[1.27096954e+02 1.08096954e+02 7.80969543e+01]\n",
            "   [1.28071457e+02 1.09071457e+02 7.90714569e+01]\n",
            "   [1.29000046e+02 1.10000038e+02 8.00000381e+01]\n",
            "   ...\n",
            "   [1.10561342e+01 1.10561342e+01 1.30561342e+01]\n",
            "   [1.22143250e+01 1.22143250e+01 1.42143250e+01]\n",
            "   [1.53316603e+01 1.53316603e+01 1.73316612e+01]]\n",
            "\n",
            "  [[1.28642822e+02 1.09642822e+02 7.96428223e+01]\n",
            "   [1.30903061e+02 1.11903061e+02 8.19030609e+01]\n",
            "   [1.32709183e+02 1.13709175e+02 8.37091751e+01]\n",
            "   ...\n",
            "   [1.42142944e+01 1.52142944e+01 1.72142944e+01]\n",
            "   [1.66173058e+01 1.76173058e+01 1.96173058e+01]\n",
            "   [1.51580687e+01 1.61580677e+01 1.81580677e+01]]]\n",
            "\n",
            "\n",
            " [[[7.87142792e+01 7.87142792e+01 5.47142868e+01]\n",
            "   [7.83316345e+01 7.77346954e+01 5.55255127e+01]\n",
            "   [7.81428528e+01 7.71428528e+01 5.75714302e+01]\n",
            "   ...\n",
            "   [9.30765228e+01 8.35050507e+01 7.32907867e+01]\n",
            "   [9.60969543e+01 8.20969543e+01 7.30969543e+01]\n",
            "   [1.01484741e+02 8.44847412e+01 7.64847412e+01]]\n",
            "\n",
            "  [[8.10204086e+01 7.80255127e+01 5.53571434e+01]\n",
            "   [7.90000000e+01 7.70000000e+01 5.60000000e+01]\n",
            "   [7.73724442e+01 7.46020355e+01 5.78724480e+01]\n",
            "   ...\n",
            "   [9.55153503e+01 8.31581421e+01 7.39438782e+01]\n",
            "   [9.78622437e+01 8.38622437e+01 7.48622437e+01]\n",
            "   [1.00954086e+02 8.39540863e+01 7.59540863e+01]]\n",
            "\n",
            "  [[8.42193832e+01 7.71428528e+01 5.81428566e+01]\n",
            "   [8.18571396e+01 7.67142868e+01 5.77857132e+01]\n",
            "   [7.99081573e+01 7.61887741e+01 6.20000000e+01]\n",
            "   ...\n",
            "   [9.95714722e+01 8.59081726e+01 7.47398224e+01]\n",
            "   [1.01198975e+02 8.71989746e+01 7.61989746e+01]\n",
            "   [1.01494888e+02 8.51377487e+01 7.53520355e+01]]\n",
            "\n",
            "  ...\n",
            "\n",
            "  [[1.19790871e+02 1.16500084e+02 1.09862366e+02]\n",
            "   [1.26280357e+02 1.23050789e+02 1.15780426e+02]\n",
            "   [1.30846909e+02 1.27586731e+02 1.20632690e+02]\n",
            "   ...\n",
            "   [1.09693916e+02 1.24479652e+02 1.65051132e+02]\n",
            "   [1.08086685e+02 1.22872421e+02 1.63443893e+02]\n",
            "   [1.04362144e+02 1.19147881e+02 1.59719345e+02]]\n",
            "\n",
            "  [[1.12887856e+02 1.17173622e+02 1.18316505e+02]\n",
            "   [1.21903015e+02 1.26188782e+02 1.27331665e+02]\n",
            "   [1.20255112e+02 1.24540878e+02 1.25683762e+02]\n",
            "   ...\n",
            "   [1.03372391e+02 1.20372391e+02 1.63372391e+02]\n",
            "   [1.01928558e+02 1.18928558e+02 1.61928558e+02]\n",
            "   [1.03785675e+02 1.20785675e+02 1.63785675e+02]]\n",
            "\n",
            "  [[1.15331940e+02 1.26403473e+02 1.35403473e+02]\n",
            "   [1.21542274e+02 1.32613800e+02 1.41613800e+02]\n",
            "   [1.11633194e+02 1.22704727e+02 1.31704727e+02]\n",
            "   ...\n",
            "   [1.04489914e+02 1.21489914e+02 1.65489914e+02]\n",
            "   [1.05428802e+02 1.22428802e+02 1.66428802e+02]\n",
            "   [1.01943954e+02 1.18943954e+02 1.62943954e+02]]]\n",
            "\n",
            "\n",
            " [[[2.08316307e+01 2.79030590e+01 1.32908154e+01]\n",
            "   [1.80765305e+01 2.40306129e+01 1.35510206e+01]\n",
            "   [9.03061748e-01 3.11734796e+00 4.59183872e-01]\n",
            "   ...\n",
            "   [1.05305958e+01 6.95918512e+00 2.09591846e+01]\n",
            "   [7.34690619e+00 6.27549505e+00 2.02754955e+01]\n",
            "   [7.33672667e+00 8.33672619e+00 2.63367271e+01]]\n",
            "\n",
            "  [[8.45918560e+00 8.62755299e+00 6.50000191e+00]\n",
            "   [9.76530647e+00 9.90816307e+00 7.82653236e+00]\n",
            "   [8.07143116e+00 8.10204315e+00 8.02551270e+00]\n",
            "   ...\n",
            "   [4.58164692e+00 6.12260342e-01 1.33520803e+01]\n",
            "   [9.17863464e+00 7.11234140e+00 2.11786518e+01]\n",
            "   [8.03062248e+00 8.36734867e+00 2.57040749e+01]]\n",
            "\n",
            "  [[1.71683674e+01 1.05255098e+01 1.41581631e+01]\n",
            "   [1.37244911e+01 7.25510263e+00 1.03826532e+01]\n",
            "   [1.57091837e+01 1.14948978e+01 1.02346935e+01]\n",
            "   ...\n",
            "   [1.08775377e+01 4.66324329e+00 1.90918312e+01]\n",
            "   [9.37754536e+00 5.16331244e+00 2.02347240e+01]\n",
            "   [9.61734676e+00 6.40306091e+00 2.34030609e+01]]\n",
            "\n",
            "  ...\n",
            "\n",
            "  [[6.35051575e+01 4.25715141e+01 2.03011284e+01]\n",
            "   [6.18469315e+01 3.98469315e+01 1.67755032e+01]\n",
            "   [7.49335327e+01 5.37192497e+01 2.73621063e+01]\n",
            "   ...\n",
            "   [0.00000000e+00 0.00000000e+00 2.00000000e+00]\n",
            "   [0.00000000e+00 0.00000000e+00 2.00000000e+00]\n",
            "   [0.00000000e+00 0.00000000e+00 2.00000000e+00]]\n",
            "\n",
            "  [[5.99336624e+01 3.89336624e+01 1.79336605e+01]\n",
            "   [6.34948044e+01 4.34948044e+01 1.94233780e+01]\n",
            "   [6.52551880e+01 4.36837616e+01 1.94694729e+01]\n",
            "   ...\n",
            "   [0.00000000e+00 0.00000000e+00 2.00000000e+00]\n",
            "   [0.00000000e+00 0.00000000e+00 2.00000000e+00]\n",
            "   [0.00000000e+00 0.00000000e+00 2.00000000e+00]]\n",
            "\n",
            "  [[6.81225967e+01 4.71225929e+01 2.61225929e+01]\n",
            "   [5.89592972e+01 3.89592972e+01 1.48878689e+01]\n",
            "   [7.03467865e+01 4.87753563e+01 2.45610695e+01]\n",
            "   ...\n",
            "   [0.00000000e+00 0.00000000e+00 2.00000000e+00]\n",
            "   [0.00000000e+00 0.00000000e+00 2.00000000e+00]\n",
            "   [0.00000000e+00 0.00000000e+00 2.00000000e+00]]]], shape=(32, 224, 224, 3), dtype=float32) tf.Tensor(\n",
            "[[1. 0. 0. 0. 0. 0. 0. 0. 0. 0.]\n",
            " [0. 0. 0. 0. 0. 1. 0. 0. 0. 0.]\n",
            " [1. 0. 0. 0. 0. 0. 0. 0. 0. 0.]\n",
            " [0. 0. 0. 0. 1. 0. 0. 0. 0. 0.]\n",
            " [0. 1. 0. 0. 0. 0. 0. 0. 0. 0.]\n",
            " [0. 0. 0. 0. 1. 0. 0. 0. 0. 0.]\n",
            " [0. 0. 0. 0. 0. 0. 0. 1. 0. 0.]\n",
            " [0. 0. 0. 0. 0. 0. 0. 0. 1. 0.]\n",
            " [0. 0. 0. 0. 1. 0. 0. 0. 0. 0.]\n",
            " [0. 0. 0. 1. 0. 0. 0. 0. 0. 0.]\n",
            " [0. 0. 0. 0. 0. 0. 0. 0. 1. 0.]\n",
            " [0. 0. 0. 0. 0. 1. 0. 0. 0. 0.]\n",
            " [0. 0. 0. 1. 0. 0. 0. 0. 0. 0.]\n",
            " [0. 0. 1. 0. 0. 0. 0. 0. 0. 0.]\n",
            " [0. 1. 0. 0. 0. 0. 0. 0. 0. 0.]\n",
            " [0. 0. 0. 0. 1. 0. 0. 0. 0. 0.]\n",
            " [0. 0. 0. 0. 0. 0. 1. 0. 0. 0.]\n",
            " [0. 1. 0. 0. 0. 0. 0. 0. 0. 0.]\n",
            " [0. 0. 0. 0. 1. 0. 0. 0. 0. 0.]\n",
            " [0. 0. 0. 0. 0. 0. 0. 0. 1. 0.]\n",
            " [0. 0. 1. 0. 0. 0. 0. 0. 0. 0.]\n",
            " [0. 0. 0. 1. 0. 0. 0. 0. 0. 0.]\n",
            " [0. 0. 0. 0. 1. 0. 0. 0. 0. 0.]\n",
            " [0. 0. 0. 0. 1. 0. 0. 0. 0. 0.]\n",
            " [0. 0. 0. 0. 0. 0. 1. 0. 0. 0.]\n",
            " [0. 0. 0. 0. 0. 0. 0. 1. 0. 0.]\n",
            " [0. 0. 0. 0. 0. 0. 0. 1. 0. 0.]\n",
            " [0. 1. 0. 0. 0. 0. 0. 0. 0. 0.]\n",
            " [0. 0. 0. 0. 0. 1. 0. 0. 0. 0.]\n",
            " [0. 0. 0. 0. 0. 0. 0. 0. 0. 1.]\n",
            " [0. 0. 0. 0. 0. 0. 1. 0. 0. 0.]\n",
            " [0. 0. 0. 0. 0. 0. 0. 1. 0. 0.]], shape=(32, 10), dtype=float32)\n"
          ]
        }
      ]
    },
    {
      "cell_type": "markdown",
      "source": [
        "Lets now create our first model with functional api"
      ],
      "metadata": {
        "id": "tTuOi3GiCbUl"
      }
    },
    {
      "cell_type": "code",
      "source": [
        "base_model = tf.keras.applications.EfficientNetB0(include_top=False)\n",
        "base_model.trainable = False\n",
        "\n",
        "inputs = tf.keras.layers.Input(shape=(IMG_SIZE + (3,)), name='Input_Layer')\n",
        "\n",
        "# # Normalize if using resnet\n",
        "# x = tf.keras.layers.Rescaling(1./255)(inputs)\n",
        "\n",
        "# Pass normalized data to base model\n",
        "x = base_model(inputs)\n",
        "print(f'The shape after passing inputs through the base model {x.shape}')\n",
        "\n",
        "# Global Average Pooling\n",
        "x = tf.keras.layers.GlobalAveragePooling2D(name='Global_average_pooling_layer')(x)\n",
        "print(f'The shape after passing inputs through the average pool layer {x.shape}')\n",
        "\n",
        "# Output layer with softmax\n",
        "output = tf.keras.layers.Dense(10, activation='softmax')(x)\n",
        "\n",
        "# Build model\n",
        "model_0 = tf.keras.Model(inputs, output)"
      ],
      "metadata": {
        "id": "0SAojV5eb16o",
        "colab": {
          "base_uri": "https://localhost:8080/"
        },
        "outputId": "3c5e6182-3433-42b9-82a1-3511273765fc"
      },
      "execution_count": 12,
      "outputs": [
        {
          "output_type": "stream",
          "name": "stdout",
          "text": [
            "Downloading data from https://storage.googleapis.com/keras-applications/efficientnetb0_notop.h5\n",
            "\u001b[1m16705208/16705208\u001b[0m \u001b[32m━━━━━━━━━━━━━━━━━━━━\u001b[0m\u001b[37m\u001b[0m \u001b[1m0s\u001b[0m 0us/step\n",
            "The shape after passing inputs through the base model (None, 7, 7, 1280)\n",
            "The shape after passing inputs through the average pool layer (None, 1280)\n"
          ]
        }
      ]
    },
    {
      "cell_type": "code",
      "source": [
        "# Combine inputs with outputs\n",
        "model_0=tf.keras.Model(inputs,output)\n",
        "\n",
        "# Compile the model\n",
        "model_0.compile(loss=tf.keras.losses.CategoricalCrossentropy(),\n",
        "                optimizer=tf.keras.optimizers.Adam(),\n",
        "                metrics=['accuracy'])\n",
        "\n",
        "# Fit the model\n",
        "history_10_percent=model_0.fit(train_data_10_percent,epochs=5,steps_per_epoch=len(train_data_10_percent),validation_data=test_data,validation_steps=int(0.25*len(test_data)),\n",
        "                               callbacks=[create_tensorboard_callback(dir_name='transfer_learning',experiment_name='10-percent-feature-extarction')])"
      ],
      "metadata": {
        "colab": {
          "base_uri": "https://localhost:8080/"
        },
        "id": "wVX9Q93oGGzP",
        "outputId": "60a12552-7ee0-42ca-9e07-32e5d17a7160"
      },
      "execution_count": 13,
      "outputs": [
        {
          "output_type": "stream",
          "name": "stdout",
          "text": [
            "Saving TensorBoard log files to: transfer_learning/10-percent-feature-extarction/20250919-071849\n",
            "Epoch 1/5\n",
            "\u001b[1m24/24\u001b[0m \u001b[32m━━━━━━━━━━━━━━━━━━━━\u001b[0m\u001b[37m\u001b[0m \u001b[1m60s\u001b[0m 1s/step - accuracy: 0.2203 - loss: 2.1807 - val_accuracy: 0.7023 - val_loss: 1.3809\n",
            "Epoch 2/5\n",
            "\u001b[1m24/24\u001b[0m \u001b[32m━━━━━━━━━━━━━━━━━━━━\u001b[0m\u001b[37m\u001b[0m \u001b[1m5s\u001b[0m 190ms/step - accuracy: 0.7421 - loss: 1.2065 - val_accuracy: 0.8010 - val_loss: 0.9357\n",
            "Epoch 3/5\n",
            "\u001b[1m24/24\u001b[0m \u001b[32m━━━━━━━━━━━━━━━━━━━━\u001b[0m\u001b[37m\u001b[0m \u001b[1m3s\u001b[0m 106ms/step - accuracy: 0.8351 - loss: 0.8345 - val_accuracy: 0.8207 - val_loss: 0.7541\n",
            "Epoch 4/5\n",
            "\u001b[1m24/24\u001b[0m \u001b[32m━━━━━━━━━━━━━━━━━━━━\u001b[0m\u001b[37m\u001b[0m \u001b[1m4s\u001b[0m 171ms/step - accuracy: 0.8427 - loss: 0.6504 - val_accuracy: 0.8405 - val_loss: 0.6379\n",
            "Epoch 5/5\n",
            "\u001b[1m24/24\u001b[0m \u001b[32m━━━━━━━━━━━━━━━━━━━━\u001b[0m\u001b[37m\u001b[0m \u001b[1m3s\u001b[0m 104ms/step - accuracy: 0.9011 - loss: 0.5404 - val_accuracy: 0.8438 - val_loss: 0.5967\n"
          ]
        }
      ]
    },
    {
      "cell_type": "code",
      "source": [
        "# evalute the model\n",
        "model_0.evaluate(test_data)"
      ],
      "metadata": {
        "colab": {
          "base_uri": "https://localhost:8080/"
        },
        "id": "HmEjRdqKHn5V",
        "outputId": "446928e4-0b52-41bf-af24-101988e82740"
      },
      "execution_count": 14,
      "outputs": [
        {
          "output_type": "stream",
          "name": "stdout",
          "text": [
            "\u001b[1m79/79\u001b[0m \u001b[32m━━━━━━━━━━━━━━━━━━━━\u001b[0m\u001b[37m\u001b[0m \u001b[1m16s\u001b[0m 204ms/step - accuracy: 0.8476 - loss: 0.5895\n"
          ]
        },
        {
          "output_type": "execute_result",
          "data": {
            "text/plain": [
              "[0.5621510148048401, 0.8600000143051147]"
            ]
          },
          "metadata": {},
          "execution_count": 14
        }
      ]
    },
    {
      "cell_type": "code",
      "source": [
        "# Check the layers in our base model\n",
        "for layer_number, layer in enumerate(model_0.layers):\n",
        "    print(layer_number,layer)"
      ],
      "metadata": {
        "colab": {
          "base_uri": "https://localhost:8080/"
        },
        "id": "C0Es1cNcMM7C",
        "outputId": "fd49dc6d-544b-4441-b0c9-42ceaa86c313"
      },
      "execution_count": 15,
      "outputs": [
        {
          "output_type": "stream",
          "name": "stdout",
          "text": [
            "0 <InputLayer name=Input_Layer, built=True>\n",
            "1 <Functional name=efficientnetb0, built=True>\n",
            "2 <GlobalAveragePooling2D name=Global_average_pooling_layer, built=True>\n",
            "3 <Dense name=dense, built=True>\n"
          ]
        }
      ]
    },
    {
      "cell_type": "code",
      "source": [
        "# Model summary\n",
        "model_0.summary()"
      ],
      "metadata": {
        "colab": {
          "base_uri": "https://localhost:8080/",
          "height": 295
        },
        "id": "gUAG7db7Mll4",
        "outputId": "58665c0d-6660-42c3-b9c9-cf76c185b42c"
      },
      "execution_count": 16,
      "outputs": [
        {
          "output_type": "display_data",
          "data": {
            "text/plain": [
              "\u001b[1mModel: \"functional_1\"\u001b[0m\n"
            ],
            "text/html": [
              "<pre style=\"white-space:pre;overflow-x:auto;line-height:normal;font-family:Menlo,'DejaVu Sans Mono',consolas,'Courier New',monospace\"><span style=\"font-weight: bold\">Model: \"functional_1\"</span>\n",
              "</pre>\n"
            ]
          },
          "metadata": {}
        },
        {
          "output_type": "display_data",
          "data": {
            "text/plain": [
              "┏━━━━━━━━━━━━━━━━━━━━━━━━━━━━━━━━━┳━━━━━━━━━━━━━━━━━━━━━━━━┳━━━━━━━━━━━━━━━┓\n",
              "┃\u001b[1m \u001b[0m\u001b[1mLayer (type)                   \u001b[0m\u001b[1m \u001b[0m┃\u001b[1m \u001b[0m\u001b[1mOutput Shape          \u001b[0m\u001b[1m \u001b[0m┃\u001b[1m \u001b[0m\u001b[1m      Param #\u001b[0m\u001b[1m \u001b[0m┃\n",
              "┡━━━━━━━━━━━━━━━━━━━━━━━━━━━━━━━━━╇━━━━━━━━━━━━━━━━━━━━━━━━╇━━━━━━━━━━━━━━━┩\n",
              "│ Input_Layer (\u001b[38;5;33mInputLayer\u001b[0m)        │ (\u001b[38;5;45mNone\u001b[0m, \u001b[38;5;34m224\u001b[0m, \u001b[38;5;34m224\u001b[0m, \u001b[38;5;34m3\u001b[0m)    │             \u001b[38;5;34m0\u001b[0m │\n",
              "├─────────────────────────────────┼────────────────────────┼───────────────┤\n",
              "│ efficientnetb0 (\u001b[38;5;33mFunctional\u001b[0m)     │ (\u001b[38;5;45mNone\u001b[0m, \u001b[38;5;34m7\u001b[0m, \u001b[38;5;34m7\u001b[0m, \u001b[38;5;34m1280\u001b[0m)     │     \u001b[38;5;34m4,049,571\u001b[0m │\n",
              "├─────────────────────────────────┼────────────────────────┼───────────────┤\n",
              "│ Global_average_pooling_layer    │ (\u001b[38;5;45mNone\u001b[0m, \u001b[38;5;34m1280\u001b[0m)           │             \u001b[38;5;34m0\u001b[0m │\n",
              "│ (\u001b[38;5;33mGlobalAveragePooling2D\u001b[0m)        │                        │               │\n",
              "├─────────────────────────────────┼────────────────────────┼───────────────┤\n",
              "│ dense (\u001b[38;5;33mDense\u001b[0m)                   │ (\u001b[38;5;45mNone\u001b[0m, \u001b[38;5;34m10\u001b[0m)             │        \u001b[38;5;34m12,810\u001b[0m │\n",
              "└─────────────────────────────────┴────────────────────────┴───────────────┘\n"
            ],
            "text/html": [
              "<pre style=\"white-space:pre;overflow-x:auto;line-height:normal;font-family:Menlo,'DejaVu Sans Mono',consolas,'Courier New',monospace\">┏━━━━━━━━━━━━━━━━━━━━━━━━━━━━━━━━━┳━━━━━━━━━━━━━━━━━━━━━━━━┳━━━━━━━━━━━━━━━┓\n",
              "┃<span style=\"font-weight: bold\"> Layer (type)                    </span>┃<span style=\"font-weight: bold\"> Output Shape           </span>┃<span style=\"font-weight: bold\">       Param # </span>┃\n",
              "┡━━━━━━━━━━━━━━━━━━━━━━━━━━━━━━━━━╇━━━━━━━━━━━━━━━━━━━━━━━━╇━━━━━━━━━━━━━━━┩\n",
              "│ Input_Layer (<span style=\"color: #0087ff; text-decoration-color: #0087ff\">InputLayer</span>)        │ (<span style=\"color: #00d7ff; text-decoration-color: #00d7ff\">None</span>, <span style=\"color: #00af00; text-decoration-color: #00af00\">224</span>, <span style=\"color: #00af00; text-decoration-color: #00af00\">224</span>, <span style=\"color: #00af00; text-decoration-color: #00af00\">3</span>)    │             <span style=\"color: #00af00; text-decoration-color: #00af00\">0</span> │\n",
              "├─────────────────────────────────┼────────────────────────┼───────────────┤\n",
              "│ efficientnetb0 (<span style=\"color: #0087ff; text-decoration-color: #0087ff\">Functional</span>)     │ (<span style=\"color: #00d7ff; text-decoration-color: #00d7ff\">None</span>, <span style=\"color: #00af00; text-decoration-color: #00af00\">7</span>, <span style=\"color: #00af00; text-decoration-color: #00af00\">7</span>, <span style=\"color: #00af00; text-decoration-color: #00af00\">1280</span>)     │     <span style=\"color: #00af00; text-decoration-color: #00af00\">4,049,571</span> │\n",
              "├─────────────────────────────────┼────────────────────────┼───────────────┤\n",
              "│ Global_average_pooling_layer    │ (<span style=\"color: #00d7ff; text-decoration-color: #00d7ff\">None</span>, <span style=\"color: #00af00; text-decoration-color: #00af00\">1280</span>)           │             <span style=\"color: #00af00; text-decoration-color: #00af00\">0</span> │\n",
              "│ (<span style=\"color: #0087ff; text-decoration-color: #0087ff\">GlobalAveragePooling2D</span>)        │                        │               │\n",
              "├─────────────────────────────────┼────────────────────────┼───────────────┤\n",
              "│ dense (<span style=\"color: #0087ff; text-decoration-color: #0087ff\">Dense</span>)                   │ (<span style=\"color: #00d7ff; text-decoration-color: #00d7ff\">None</span>, <span style=\"color: #00af00; text-decoration-color: #00af00\">10</span>)             │        <span style=\"color: #00af00; text-decoration-color: #00af00\">12,810</span> │\n",
              "└─────────────────────────────────┴────────────────────────┴───────────────┘\n",
              "</pre>\n"
            ]
          },
          "metadata": {}
        },
        {
          "output_type": "display_data",
          "data": {
            "text/plain": [
              "\u001b[1m Total params: \u001b[0m\u001b[38;5;34m4,088,003\u001b[0m (15.59 MB)\n"
            ],
            "text/html": [
              "<pre style=\"white-space:pre;overflow-x:auto;line-height:normal;font-family:Menlo,'DejaVu Sans Mono',consolas,'Courier New',monospace\"><span style=\"font-weight: bold\"> Total params: </span><span style=\"color: #00af00; text-decoration-color: #00af00\">4,088,003</span> (15.59 MB)\n",
              "</pre>\n"
            ]
          },
          "metadata": {}
        },
        {
          "output_type": "display_data",
          "data": {
            "text/plain": [
              "\u001b[1m Trainable params: \u001b[0m\u001b[38;5;34m12,810\u001b[0m (50.04 KB)\n"
            ],
            "text/html": [
              "<pre style=\"white-space:pre;overflow-x:auto;line-height:normal;font-family:Menlo,'DejaVu Sans Mono',consolas,'Courier New',monospace\"><span style=\"font-weight: bold\"> Trainable params: </span><span style=\"color: #00af00; text-decoration-color: #00af00\">12,810</span> (50.04 KB)\n",
              "</pre>\n"
            ]
          },
          "metadata": {}
        },
        {
          "output_type": "display_data",
          "data": {
            "text/plain": [
              "\u001b[1m Non-trainable params: \u001b[0m\u001b[38;5;34m4,049,571\u001b[0m (15.45 MB)\n"
            ],
            "text/html": [
              "<pre style=\"white-space:pre;overflow-x:auto;line-height:normal;font-family:Menlo,'DejaVu Sans Mono',consolas,'Courier New',monospace\"><span style=\"font-weight: bold\"> Non-trainable params: </span><span style=\"color: #00af00; text-decoration-color: #00af00\">4,049,571</span> (15.45 MB)\n",
              "</pre>\n"
            ]
          },
          "metadata": {}
        },
        {
          "output_type": "display_data",
          "data": {
            "text/plain": [
              "\u001b[1m Optimizer params: \u001b[0m\u001b[38;5;34m25,622\u001b[0m (100.09 KB)\n"
            ],
            "text/html": [
              "<pre style=\"white-space:pre;overflow-x:auto;line-height:normal;font-family:Menlo,'DejaVu Sans Mono',consolas,'Courier New',monospace\"><span style=\"font-weight: bold\"> Optimizer params: </span><span style=\"color: #00af00; text-decoration-color: #00af00\">25,622</span> (100.09 KB)\n",
              "</pre>\n"
            ]
          },
          "metadata": {}
        }
      ]
    },
    {
      "cell_type": "code",
      "source": [
        "# plot loss curves\n",
        "plot_loss_curves(history_10_percent)"
      ],
      "metadata": {
        "colab": {
          "base_uri": "https://localhost:8080/",
          "height": 927
        },
        "id": "PYGdE4ZPMtYN",
        "outputId": "93474075-7354-4428-db1a-f4efbbf92e90"
      },
      "execution_count": 17,
      "outputs": [
        {
          "output_type": "display_data",
          "data": {
            "text/plain": [
              "<Figure size 640x480 with 1 Axes>"
            ],
            "image/png": "[encoded data removed]"
          },
          "metadata": {}
        },
        {
          "output_type": "display_data",
          "data": {
            "text/plain": [
              "<Figure size 640x480 with 1 Axes>"
            ],
            "image/png": "[encoded data removed]"
          },
          "metadata": {}
        }
      ]
    },
    {
      "cell_type": "code",
      "source": [
        "# creating a another model now\n",
        "base_model_1=tf.keras.applications.EfficientNetB7(include_top=False)\n",
        "base_model_1.trainable=False\n",
        "inputs=tf.keras.layers.Input(shape=(224,224,3))\n",
        "# x=tf.keras.layers.Rescaling(1./255)(inputs)\n",
        "x=base_model_1(inputs)\n",
        "x=tf.keras.layers.GlobalAvgPool2D(name='gloabal_avg_pool')(x)\n",
        "outputs=tf.keras.layers.Dense(10,activation='softmax')(x)"
      ],
      "metadata": {
        "colab": {
          "base_uri": "https://localhost:8080/"
        },
        "id": "ZkRYjda5M5yS",
        "outputId": "70f1890e-67a4-4b2f-c2d7-a467d34dfa82"
      },
      "execution_count": 18,
      "outputs": [
        {
          "output_type": "stream",
          "name": "stdout",
          "text": [
            "Downloading data from https://storage.googleapis.com/keras-applications/efficientnetb7_notop.h5\n",
            "\u001b[1m258076736/258076736\u001b[0m \u001b[32m━━━━━━━━━━━━━━━━━━━━\u001b[0m\u001b[37m\u001b[0m \u001b[1m1s\u001b[0m 0us/step\n"
          ]
        }
      ]
    },
    {
      "cell_type": "code",
      "source": [
        "model_1=tf.keras.Model(inputs,outputs)\n",
        "model_1.compile(loss=tf.keras.losses.CategoricalCrossentropy(),\n",
        "                optimizer='adam',\n",
        "                metrics=['accuracy'])\n",
        "history_model_1_b7=model_1.fit(train_data_10_percent,epochs=5,steps_per_epoch=len(train_data_10_percent),validation_data=test_data,validation_steps=len(test_data),\n",
        "                               callbacks=[create_tensorboard_callback(dir_name='transfer_learning',experiment_name='efficemt_net_b7')])"
      ],
      "metadata": {
        "colab": {
          "base_uri": "https://localhost:8080/"
        },
        "id": "P3RYdHmlOKfr",
        "outputId": "4f9337c0-adf8-4112-ca9a-9c47b045d71f"
      },
      "execution_count": 19,
      "outputs": [
        {
          "output_type": "stream",
          "name": "stdout",
          "text": [
            "Saving TensorBoard log files to: transfer_learning/efficemt_net_b7/20250919-072034\n",
            "Epoch 1/5\n",
            "\u001b[1m24/24\u001b[0m \u001b[32m━━━━━━━━━━━━━━━━━━━━\u001b[0m\u001b[37m\u001b[0m \u001b[1m239s\u001b[0m 6s/step - accuracy: 0.4301 - loss: 1.8954 - val_accuracy: 0.8056 - val_loss: 0.9535\n",
            "Epoch 2/5\n",
            "\u001b[1m24/24\u001b[0m \u001b[32m━━━━━━━━━━━━━━━━━━━━\u001b[0m\u001b[37m\u001b[0m \u001b[1m24s\u001b[0m 1s/step - accuracy: 0.8151 - loss: 0.8893 - val_accuracy: 0.8416 - val_loss: 0.6635\n",
            "Epoch 3/5\n",
            "\u001b[1m24/24\u001b[0m \u001b[32m━━━━━━━━━━━━━━━━━━━━\u001b[0m\u001b[37m\u001b[0m \u001b[1m41s\u001b[0m 1s/step - accuracy: 0.8592 - loss: 0.6264 - val_accuracy: 0.8560 - val_loss: 0.5683\n",
            "Epoch 4/5\n",
            "\u001b[1m24/24\u001b[0m \u001b[32m━━━━━━━━━━━━━━━━━━━━\u001b[0m\u001b[37m\u001b[0m \u001b[1m42s\u001b[0m 1s/step - accuracy: 0.8969 - loss: 0.4893 - val_accuracy: 0.8544 - val_loss: 0.5247\n",
            "Epoch 5/5\n",
            "\u001b[1m24/24\u001b[0m \u001b[32m━━━━━━━━━━━━━━━━━━━━\u001b[0m\u001b[37m\u001b[0m \u001b[1m24s\u001b[0m 1s/step - accuracy: 0.9038 - loss: 0.4482 - val_accuracy: 0.8560 - val_loss: 0.4950\n"
          ]
        }
      ]
    },
    {
      "cell_type": "code",
      "source": [
        "# Model Evaluation\n",
        "model_1.evaluate(test_data)"
      ],
      "metadata": {
        "colab": {
          "base_uri": "https://localhost:8080/"
        },
        "id": "F56L7zDEQrjO",
        "outputId": "99495768-4fd6-4900-a519-50fab49ce2f3"
      },
      "execution_count": 20,
      "outputs": [
        {
          "output_type": "stream",
          "name": "stdout",
          "text": [
            "\u001b[1m79/79\u001b[0m \u001b[32m━━━━━━━━━━━━━━━━━━━━\u001b[0m\u001b[37m\u001b[0m \u001b[1m18s\u001b[0m 229ms/step - accuracy: 0.8478 - loss: 0.5119\n"
          ]
        },
        {
          "output_type": "execute_result",
          "data": {
            "text/plain": [
              "[0.4950188398361206, 0.8560000061988831]"
            ]
          },
          "metadata": {},
          "execution_count": 20
        }
      ]
    },
    {
      "cell_type": "code",
      "source": [
        "plot_loss_curves(history_model_1_b7)"
      ],
      "metadata": {
        "colab": {
          "base_uri": "https://localhost:8080/",
          "height": 927
        },
        "id": "FT1V0oSFQ6UJ",
        "outputId": "b00d2957-b18d-46f5-ef80-aab799a8c1bd"
      },
      "execution_count": 21,
      "outputs": [
        {
          "output_type": "display_data",
          "data": {
            "text/plain": [
              "<Figure size 640x480 with 1 Axes>"
            ],
            "image/png": "[encoded data removed]"
          },
          "metadata": {}
        },
        {
          "output_type": "display_data",
          "data": {
            "text/plain": [
              "<Figure size 640x480 with 1 Axes>"
            ],
            "image/png": "[encoded data removed]"
          },
          "metadata": {}
        }
      ]
    },
    {
      "cell_type": "markdown",
      "source": [
        "# Get a Feature vector from trained model\n",
        "# lets see how global average pooling layer"
      ],
      "metadata": {
        "id": "O_DoU1ET08Rn"
      }
    },
    {
      "cell_type": "code",
      "source": [
        "import tensorflow as tf"
      ],
      "metadata": {
        "id": "LnHF8E_X37mp"
      },
      "execution_count": 24,
      "outputs": []
    },
    {
      "cell_type": "code",
      "source": [
        "# Define input shape\n",
        "input_shape=(1,4,4,3)\n",
        "\n",
        "# Create a random tensor\n",
        "tf.random.set_seed(42)\n",
        "input_tensor=tf.random.normal(input_shape)\n",
        "print(f'Random input tensor :{input_tensor.shape}')"
      ],
      "metadata": {
        "colab": {
          "base_uri": "https://localhost:8080/"
        },
        "id": "0c66glLm1N0X",
        "outputId": "4eaad918-358b-4c3f-8514-0ef8fff307da"
      },
      "execution_count": 25,
      "outputs": [
        {
          "output_type": "stream",
          "name": "stdout",
          "text": [
            "Random input tensor :(1, 4, 4, 3)\n"
          ]
        }
      ]
    },
    {
      "cell_type": "code",
      "source": [
        "# Pass it through the global average pooling\n",
        "global_average_pooled_layer=tf.keras.layers.GlobalAveragePooling2D()(input_tensor)\n",
        "print(f'Global average pooled shape {global_average_pooled_layer.shape}')"
      ],
      "metadata": {
        "colab": {
          "base_uri": "https://localhost:8080/"
        },
        "id": "4YRklkzF17io",
        "outputId": "b95fbb9a-b766-4c98-921f-983abffd4977"
      },
      "execution_count": 26,
      "outputs": [
        {
          "output_type": "stream",
          "name": "stdout",
          "text": [
            "Global average pooled shape (1, 3)\n"
          ]
        }
      ]
    },
    {
      "cell_type": "code",
      "source": [
        "print(f\"input Tensor orignal \\n {input_tensor}\")"
      ],
      "metadata": {
        "colab": {
          "base_uri": "https://localhost:8080/"
        },
        "id": "2PT1_pON2VJ-",
        "outputId": "71bb0618-5cc2-4b0d-c082-4959cc9e214b"
      },
      "execution_count": 28,
      "outputs": [
        {
          "output_type": "stream",
          "name": "stdout",
          "text": [
            "input Tensor orignal \n",
            " [[[[ 0.3274685  -0.8426258   0.3194337 ]\n",
            "   [-1.4075519  -2.3880599  -1.0392479 ]\n",
            "   [-0.5573232   0.539707    1.6994323 ]\n",
            "   [ 0.28893656 -1.5066116  -0.2645474 ]]\n",
            "\n",
            "  [[-0.59722406 -1.9171132  -0.62044144]\n",
            "   [ 0.8504023  -0.40604794 -3.0258412 ]\n",
            "   [ 0.9058464   0.29855987 -0.22561555]\n",
            "   [-0.7616443  -1.8917141  -0.93847126]]\n",
            "\n",
            "  [[ 0.77852213 -0.47338894  0.97772694]\n",
            "   [ 0.24694404  0.20573746 -0.52562326]\n",
            "   [ 0.32410017  0.02545409 -0.10638496]\n",
            "   [-0.63694745  1.1603122   0.2507359 ]]\n",
            "\n",
            "  [[-0.41728503  0.4012578  -1.4145443 ]\n",
            "   [-0.5931857  -1.6617213   0.33567193]\n",
            "   [ 0.10815628  0.23479679 -0.56668764]\n",
            "   [-0.35819843  0.88698614  0.52744764]]]]\n"
          ]
        }
      ]
    },
    {
      "cell_type": "code",
      "source": [
        "print(f'Global average pooled tensor \\n {global_average_pooled_layer}')"
      ],
      "metadata": {
        "colab": {
          "base_uri": "https://localhost:8080/"
        },
        "id": "NlkJjxzK2kLB",
        "outputId": "745aa4d3-0561-42ac-d93b-f1b58ce4def9"
      },
      "execution_count": 29,
      "outputs": [
        {
          "output_type": "stream",
          "name": "stdout",
          "text": [
            "Global average pooled tensor \n",
            " [[-0.09368646 -0.45840448 -0.2885598 ]]\n"
          ]
        }
      ]
    },
    {
      "cell_type": "markdown",
      "source": [
        "Lets replicate the Global Average pooling 2d"
      ],
      "metadata": {
        "id": "cfTxqIAr3U3j"
      }
    },
    {
      "cell_type": "code",
      "source": [
        "tf.reduce_mean(input_tensor,axis=[1,2]).numpy()"
      ],
      "metadata": {
        "colab": {
          "base_uri": "https://localhost:8080/"
        },
        "id": "0TXdL6OE2thS",
        "outputId": "568ce905-2c59-467c-9c1d-ec03822d4e5f"
      },
      "execution_count": 31,
      "outputs": [
        {
          "output_type": "execute_result",
          "data": {
            "text/plain": [
              "array([[-0.09368646, -0.45840448, -0.2885598 ]], dtype=float32)"
            ]
          },
          "metadata": {},
          "execution_count": 31
        }
      ]
    },
    {
      "cell_type": "code",
      "source": [],
      "metadata": {
        "id": "4SOpQB994OZD"
      },
      "execution_count": null,
      "outputs": []
    }
  ]
}