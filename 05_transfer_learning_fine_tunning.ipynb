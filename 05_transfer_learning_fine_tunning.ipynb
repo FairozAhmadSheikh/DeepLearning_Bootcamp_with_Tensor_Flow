{
  "nbformat": 4,
  "nbformat_minor": 0,
  "metadata": {
    "colab": {
      "provenance": [],
      "gpuType": "T4",
      "authorship_tag": "ABX9TyPROFnndlRZ4oOHt0PKya3v",
      "include_colab_link": true
    },
    "kernelspec": {
      "name": "python3",
      "display_name": "Python 3"
    },
    "language_info": {
      "name": "python"
    },
    "accelerator": "GPU"
  },
  "cells": [
    {
      "cell_type": "markdown",
      "metadata": {
        "id": "view-in-github",
        "colab_type": "text"
      },
      "source": [
        "<a href=\"https://colab.research.google.com/github/FairozAhmadSheikh/DeepLearning_Bootcamp_with_Tensor_Flow/blob/main/05_transfer_learning_fine_tunning.ipynb\" target=\"_parent\"><img src=\"https://colab.research.google.com/assets/colab-badge.svg\" alt=\"Open In Colab\"/></a>"
      ]
    },
    {
      "cell_type": "markdown",
      "source": [
        "Lets start with importing some helper functions from a script"
      ],
      "metadata": {
        "id": "aKKBAdtWZJz4"
      }
    },
    {
      "cell_type": "code",
      "execution_count": 1,
      "metadata": {
        "colab": {
          "base_uri": "https://localhost:8080/"
        },
        "id": "pYXlrcUzY3sR",
        "outputId": "a2bc3df5-2a25-42f9-9cbb-cfea3fd09d91"
      },
      "outputs": [
        {
          "output_type": "stream",
          "name": "stdout",
          "text": [
            "--2025-09-17 15:57:37--  https://raw.githubusercontent.com/FairozAhmadSheikh/DeepLearning_Bootcamp_with_Tensor_Flow/refs/heads/main/helper_functions/helper_functions.py\n",
            "Resolving raw.githubusercontent.com (raw.githubusercontent.com)... 185.199.108.133, 185.199.109.133, 185.199.110.133, ...\n",
            "Connecting to raw.githubusercontent.com (raw.githubusercontent.com)|185.199.108.133|:443... connected.\n",
            "HTTP request sent, awaiting response... 200 OK\n",
            "Length: 6733 (6.6K) [text/plain]\n",
            "Saving to: ‘helper_functions.py’\n",
            "\n",
            "\rhelper_functions.py   0%[                    ]       0  --.-KB/s               \rhelper_functions.py 100%[===================>]   6.58K  --.-KB/s    in 0s      \n",
            "\n",
            "2025-09-17 15:57:38 (48.4 MB/s) - ‘helper_functions.py’ saved [6733/6733]\n",
            "\n"
          ]
        }
      ],
      "source": [
        "!wget  https://raw.githubusercontent.com/FairozAhmadSheikh/DeepLearning_Bootcamp_with_Tensor_Flow/refs/heads/main/helper_functions/helper_functions.py"
      ]
    },
    {
      "cell_type": "code",
      "source": [
        "!wget https://storage.googleapis.com/ztm_tf_course/food_vision/10_food_classes_10_percent.zip"
      ],
      "metadata": {
        "colab": {
          "base_uri": "https://localhost:8080/"
        },
        "id": "yJpwcmnUZUye",
        "outputId": "f6238d10-5e29-4654-e99e-c5d404b3fc35"
      },
      "execution_count": 2,
      "outputs": [
        {
          "output_type": "stream",
          "name": "stdout",
          "text": [
            "--2025-09-17 15:58:29--  https://storage.googleapis.com/ztm_tf_course/food_vision/10_food_classes_10_percent.zip\n",
            "Resolving storage.googleapis.com (storage.googleapis.com)... 74.125.137.207, 142.250.101.207, 142.251.2.207, ...\n",
            "Connecting to storage.googleapis.com (storage.googleapis.com)|74.125.137.207|:443... connected.\n",
            "HTTP request sent, awaiting response... 200 OK\n",
            "Length: 168546183 (161M) [application/zip]\n",
            "Saving to: ‘10_food_classes_10_percent.zip’\n",
            "\n",
            "10_food_classes_10_ 100%[===================>] 160.74M   162MB/s    in 1.0s    \n",
            "\n",
            "2025-09-17 15:58:30 (162 MB/s) - ‘10_food_classes_10_percent.zip’ saved [168546183/168546183]\n",
            "\n"
          ]
        }
      ]
    },
    {
      "cell_type": "code",
      "source": [
        "from helper_functions import unzip_data,walk_through_dir,plot_loss_curves,create_tensorboard_callback"
      ],
      "metadata": {
        "id": "w35ByqCiZhc_"
      },
      "execution_count": 6,
      "outputs": []
    },
    {
      "cell_type": "code",
      "source": [
        "unzip_data(\"10_food_classes_10_percent.zip\")"
      ],
      "metadata": {
        "id": "6PZyqvsOZnF5"
      },
      "execution_count": 5,
      "outputs": []
    },
    {
      "cell_type": "code",
      "source": [
        "walk_through_dir('10_food_classes_10_percent')"
      ],
      "metadata": {
        "colab": {
          "base_uri": "https://localhost:8080/"
        },
        "id": "T6LCWbyDZtaO",
        "outputId": "a0753312-ef7b-4b74-fc84-081566012eee"
      },
      "execution_count": 7,
      "outputs": [
        {
          "output_type": "stream",
          "name": "stdout",
          "text": [
            "There are 2 directories and 0 images in '10_food_classes_10_percent'.\n",
            "There are 10 directories and 0 images in '10_food_classes_10_percent/train'.\n",
            "There are 0 directories and 75 images in '10_food_classes_10_percent/train/sushi'.\n",
            "There are 0 directories and 75 images in '10_food_classes_10_percent/train/chicken_wings'.\n",
            "There are 0 directories and 75 images in '10_food_classes_10_percent/train/hamburger'.\n",
            "There are 0 directories and 75 images in '10_food_classes_10_percent/train/ramen'.\n",
            "There are 0 directories and 75 images in '10_food_classes_10_percent/train/chicken_curry'.\n",
            "There are 0 directories and 75 images in '10_food_classes_10_percent/train/grilled_salmon'.\n",
            "There are 0 directories and 75 images in '10_food_classes_10_percent/train/fried_rice'.\n",
            "There are 0 directories and 75 images in '10_food_classes_10_percent/train/pizza'.\n",
            "There are 0 directories and 75 images in '10_food_classes_10_percent/train/steak'.\n",
            "There are 0 directories and 75 images in '10_food_classes_10_percent/train/ice_cream'.\n",
            "There are 10 directories and 0 images in '10_food_classes_10_percent/test'.\n",
            "There are 0 directories and 250 images in '10_food_classes_10_percent/test/sushi'.\n",
            "There are 0 directories and 250 images in '10_food_classes_10_percent/test/chicken_wings'.\n",
            "There are 0 directories and 250 images in '10_food_classes_10_percent/test/hamburger'.\n",
            "There are 0 directories and 250 images in '10_food_classes_10_percent/test/ramen'.\n",
            "There are 0 directories and 250 images in '10_food_classes_10_percent/test/chicken_curry'.\n",
            "There are 0 directories and 250 images in '10_food_classes_10_percent/test/grilled_salmon'.\n",
            "There are 0 directories and 250 images in '10_food_classes_10_percent/test/fried_rice'.\n",
            "There are 0 directories and 250 images in '10_food_classes_10_percent/test/pizza'.\n",
            "There are 0 directories and 250 images in '10_food_classes_10_percent/test/steak'.\n",
            "There are 0 directories and 250 images in '10_food_classes_10_percent/test/ice_cream'.\n"
          ]
        }
      ]
    },
    {
      "cell_type": "code",
      "source": [
        "# Create  train and test directory\n",
        "train_dir='10_food_classes_10_percent/train'\n",
        "test_dir='10_food_classes_10_percent/test'"
      ],
      "metadata": {
        "id": "wnTO4d1SaAMV"
      },
      "execution_count": 8,
      "outputs": []
    },
    {
      "cell_type": "code",
      "source": [
        "import tensorflow as tf"
      ],
      "metadata": {
        "id": "V1nsGdtban9X"
      },
      "execution_count": 9,
      "outputs": []
    },
    {
      "cell_type": "code",
      "source": [
        "IMG_SIZE=(224,224)\n",
        "BATCH_SIZE=32"
      ],
      "metadata": {
        "id": "agKrD32ca2oP"
      },
      "execution_count": 10,
      "outputs": []
    },
    {
      "cell_type": "code",
      "source": [
        "# Instead of using ImageDataGenerator we use the below method\n",
        "train_data_10_percent=tf.keras.preprocessing.image_dataset_from_directory(train_dir,label_mode='categorical',batch_size=BATCH_SIZE,image_size=IMG_SIZE)\n",
        "test_data=tf.keras.preprocessing.image_dataset_from_directory(test_dir,batch_size=BATCH_SIZE,image_size=IMG_SIZE,label_mode='categorical')"
      ],
      "metadata": {
        "colab": {
          "base_uri": "https://localhost:8080/"
        },
        "id": "U84yTE2yaPUY",
        "outputId": "f7b26cfe-dfb4-4e42-a737-9a80d532b8e2"
      },
      "execution_count": 11,
      "outputs": [
        {
          "output_type": "stream",
          "name": "stdout",
          "text": [
            "Found 750 files belonging to 10 classes.\n",
            "Found 2500 files belonging to 10 classes.\n"
          ]
        }
      ]
    },
    {
      "cell_type": "code",
      "source": [
        "# Check out class names\n",
        "train_data_10_percent.class_names"
      ],
      "metadata": {
        "colab": {
          "base_uri": "https://localhost:8080/"
        },
        "id": "VWFEld2fba-y",
        "outputId": "46c1e382-19d8-47d5-a5b9-09d96a345d3e"
      },
      "execution_count": 12,
      "outputs": [
        {
          "output_type": "execute_result",
          "data": {
            "text/plain": [
              "['chicken_curry',\n",
              " 'chicken_wings',\n",
              " 'fried_rice',\n",
              " 'grilled_salmon',\n",
              " 'hamburger',\n",
              " 'ice_cream',\n",
              " 'pizza',\n",
              " 'ramen',\n",
              " 'steak',\n",
              " 'sushi']"
            ]
          },
          "metadata": {},
          "execution_count": 12
        }
      ]
    },
    {
      "cell_type": "code",
      "source": [
        "# See an example of batch of data\n",
        "for images,label in train_data_10_percent.take(1):\n",
        "  print(images,label)"
      ],
      "metadata": {
        "colab": {
          "base_uri": "https://localhost:8080/"
        },
        "id": "JzehKRtIblMq",
        "outputId": "6724f008-3a03-4fbf-9fb5-79238b45ecd1"
      },
      "execution_count": 13,
      "outputs": [
        {
          "output_type": "stream",
          "name": "stdout",
          "text": [
            "tf.Tensor(\n",
            "[[[[1.17285713e+02 1.95153065e+01 1.58265314e+01]\n",
            "   [1.19000000e+02 2.13316326e+01 1.73367348e+01]\n",
            "   [1.14076530e+02 1.95714302e+01 1.25816326e+01]\n",
            "   ...\n",
            "   [1.28780533e+02 1.31566269e+02 1.10352005e+02]\n",
            "   [1.29933685e+02 1.32933685e+02 1.13933685e+02]\n",
            "   [1.29765244e+02 1.32765244e+02 1.15765244e+02]]\n",
            "\n",
            "  [[1.17668373e+02 2.06683674e+01 1.38571434e+01]\n",
            "   [1.17000000e+02 2.29336739e+01 1.49234695e+01]\n",
            "   [1.15056122e+02 2.10561218e+01 1.10561228e+01]\n",
            "   ...\n",
            "   [1.32173462e+02 1.35173462e+02 1.14173470e+02]\n",
            "   [1.32500000e+02 1.35500000e+02 1.16500000e+02]\n",
            "   [1.30780563e+02 1.33780563e+02 1.16780571e+02]]\n",
            "\n",
            "  [[1.16428574e+02 2.17857132e+01 1.04285717e+01]\n",
            "   [1.16214287e+02 2.22142868e+01 1.06428576e+01]\n",
            "   [1.15785713e+02 2.17857132e+01 1.02142859e+01]\n",
            "   ...\n",
            "   [1.40714233e+02 1.43714233e+02 1.22714241e+02]\n",
            "   [1.41525543e+02 1.44525543e+02 1.25525543e+02]\n",
            "   [1.44469406e+02 1.47469406e+02 1.30469406e+02]]\n",
            "\n",
            "  ...\n",
            "\n",
            "  [[3.37142868e+01 1.67142849e+01 6.71428585e+00]\n",
            "   [3.19438782e+01 1.49438782e+01 4.94387817e+00]\n",
            "   [3.35714188e+01 1.65714188e+01 6.57141972e+00]\n",
            "   ...\n",
            "   [1.60617386e+02 1.37831680e+02 1.24045975e+02]\n",
            "   [1.58887741e+02 1.36102036e+02 1.22316322e+02]\n",
            "   [1.52494812e+02 1.29709106e+02 1.15923401e+02]]\n",
            "\n",
            "  [[3.58367729e+01 1.88367748e+01 8.83677483e+00]\n",
            "   [3.48520927e+01 1.78520947e+01 7.85209417e+00]\n",
            "   [3.46428909e+01 1.76428909e+01 7.64289188e+00]\n",
            "   ...\n",
            "   [1.66556229e+02 1.44556229e+02 1.31556229e+02]\n",
            "   [1.59994934e+02 1.37994934e+02 1.24994926e+02]\n",
            "   [1.57357056e+02 1.35357056e+02 1.22357056e+02]]\n",
            "\n",
            "  [[2.90561237e+01 1.20561237e+01 2.05612421e+00]\n",
            "   [3.11173458e+01 1.41173458e+01 4.11734629e+00]\n",
            "   [2.74285717e+01 1.04285717e+01 4.28571701e-01]\n",
            "   ...\n",
            "   [1.70010223e+02 1.51010223e+02 1.37010223e+02]\n",
            "   [1.60714294e+02 1.41714294e+02 1.27714294e+02]\n",
            "   [1.61856995e+02 1.39856995e+02 1.26856995e+02]]]\n",
            "\n",
            "\n",
            " [[[2.13627548e+02 2.34984695e+02 1.90913269e+02]\n",
            "   [2.19000015e+02 2.40000015e+02 1.98193878e+02]\n",
            "   [2.19076523e+02 2.37841827e+02 1.99153061e+02]\n",
            "   ...\n",
            "   [7.89949036e+01 6.43521118e+01 5.35663795e+01]\n",
            "   [7.69132996e+01 6.29133034e+01 4.99133034e+01]\n",
            "   [7.61477890e+01 6.21477928e+01 4.91477928e+01]]\n",
            "\n",
            "  [[2.13836746e+02 2.29979599e+02 1.93693878e+02]\n",
            "   [2.15923477e+02 2.32066330e+02 1.95051025e+02]\n",
            "   [2.15969391e+02 2.31571426e+02 1.94770416e+02]\n",
            "   ...\n",
            "   [7.92449188e+01 6.33571625e+01 5.03571625e+01]\n",
            "   [8.23417816e+01 6.92754593e+01 5.34744339e+01]\n",
            "   [7.98368759e+01 6.68368759e+01 5.05052147e+01]]\n",
            "\n",
            "  [[1.92469376e+02 2.02250000e+02 1.72821426e+02]\n",
            "   [2.11433670e+02 2.22061234e+02 1.88076538e+02]\n",
            "   [2.18729584e+02 2.30255096e+02 1.91015305e+02]\n",
            "   ...\n",
            "   [9.20254745e+01 7.45969467e+01 5.88112068e+01]\n",
            "   [8.05000000e+01 6.75153122e+01 4.99285469e+01]\n",
            "   [7.54998245e+01 6.29283981e+01 4.32855415e+01]]\n",
            "\n",
            "  ...\n",
            "\n",
            "  [[2.04801025e+02 2.16795944e+02 1.73158234e+02]\n",
            "   [2.01867203e+02 2.14295807e+02 1.71351944e+02]\n",
            "   [1.92719482e+02 2.04459305e+02 1.64933792e+02]\n",
            "   ...\n",
            "   [1.52622299e+02 1.62744736e+02 1.55219177e+02]\n",
            "   [1.51571411e+02 1.62602020e+02 1.54586716e+02]\n",
            "   [1.51076492e+02 1.64076492e+02 1.54862228e+02]]\n",
            "\n",
            "  [[2.15091858e+02 2.30163300e+02 1.91331696e+02]\n",
            "   [1.97770477e+02 2.12709244e+02 1.73923569e+02]\n",
            "   [1.70535721e+02 1.84535721e+02 1.48535721e+02]\n",
            "   ...\n",
            "   [1.56428650e+02 1.65785858e+02 1.57785858e+02]\n",
            "   [1.57398026e+02 1.68398026e+02 1.62398026e+02]\n",
            "   [1.58071625e+02 1.69071625e+02 1.63071625e+02]]\n",
            "\n",
            "  [[2.18321625e+02 2.35321625e+02 2.00495132e+02]\n",
            "   [2.10964264e+02 2.27367355e+02 1.92173553e+02]\n",
            "   [1.88281021e+02 2.04281021e+02 1.68066742e+02]\n",
            "   ...\n",
            "   [1.81944366e+02 1.91378113e+02 1.83148529e+02]\n",
            "   [1.76883270e+02 1.87883270e+02 1.81883270e+02]\n",
            "   [1.63674286e+02 1.74674286e+02 1.70674286e+02]]]\n",
            "\n",
            "\n",
            " [[[8.20000000e+01 4.50000000e+01 3.90000000e+01]\n",
            "   [8.29285736e+01 4.59285736e+01 3.99285736e+01]\n",
            "   [8.25714264e+01 4.60000000e+01 4.00000000e+01]\n",
            "   ...\n",
            "   [1.61429443e+01 7.78573608e+00 8.57147217e+00]\n",
            "   [1.83316422e+01 8.33164120e+00 9.33164120e+00]\n",
            "   [2.11275978e+01 1.11275988e+01 1.21275988e+01]]\n",
            "\n",
            "  [[8.30000000e+01 4.60000000e+01 4.00000000e+01]\n",
            "   [8.30000000e+01 4.60000000e+01 4.00000000e+01]\n",
            "   [8.10000000e+01 4.60000000e+01 4.00000000e+01]\n",
            "   ...\n",
            "   [1.67857361e+01 7.78573608e+00 8.78573608e+00]\n",
            "   [2.30000134e+01 1.30000134e+01 1.40000134e+01]\n",
            "   [2.16428223e+01 1.16428223e+01 1.26428223e+01]]\n",
            "\n",
            "  [[8.30000000e+01 4.80000000e+01 4.20000000e+01]\n",
            "   [8.18010178e+01 4.72295914e+01 4.10153046e+01]\n",
            "   [8.07857132e+01 4.62142868e+01 4.00000000e+01]\n",
            "   ...\n",
            "   [1.62142868e+01 7.21428585e+00 8.21428585e+00]\n",
            "   [1.99132881e+01 9.91328812e+00 1.09132881e+01]\n",
            "   [2.21530762e+01 1.21530762e+01 1.31530762e+01]]\n",
            "\n",
            "  ...\n",
            "\n",
            "  [[2.57194462e+01 2.17194462e+01 2.11479740e+01]\n",
            "   [2.85561676e+01 2.45561676e+01 2.39846954e+01]\n",
            "   [2.44030781e+01 2.04030781e+01 2.14030781e+01]\n",
            "   ...\n",
            "   [2.08785736e+02 1.97785736e+02 1.78214264e+02]\n",
            "   [2.00857117e+02 1.89857117e+02 1.70285645e+02]\n",
            "   [2.07127594e+02 1.96127594e+02 1.76556122e+02]]\n",
            "\n",
            "  [[2.51683464e+01 1.91683464e+01 1.91683464e+01]\n",
            "   [2.67193489e+01 2.27193489e+01 2.17193489e+01]\n",
            "   [2.46734486e+01 2.06734486e+01 2.01020222e+01]\n",
            "   ...\n",
            "   [2.03515213e+02 1.92515213e+02 1.72515213e+02]\n",
            "   [2.02423553e+02 1.91423553e+02 1.71423553e+02]\n",
            "   [2.06545868e+02 1.95545868e+02 1.75545868e+02]]\n",
            "\n",
            "  [[2.54847412e+01 1.94847412e+01 1.94847412e+01]\n",
            "   [2.18111916e+01 1.78111916e+01 1.68111916e+01]\n",
            "   [2.06428223e+01 1.70713940e+01 1.64999657e+01]\n",
            "   ...\n",
            "   [2.03193939e+02 1.92193939e+02 1.72193939e+02]\n",
            "   [2.05948959e+02 1.94948959e+02 1.74948959e+02]\n",
            "   [2.03954010e+02 1.92954010e+02 1.72954010e+02]]]\n",
            "\n",
            "\n",
            " ...\n",
            "\n",
            "\n",
            " [[[1.60357147e+02 4.74285736e+01 2.01989803e+01]\n",
            "   [1.68688782e+02 5.43775520e+01 2.32397957e+01]\n",
            "   [1.80275513e+02 6.10612259e+01 2.69234695e+01]\n",
            "   ...\n",
            "   [1.07750336e+02 5.31176491e+01 5.61239958e-01]\n",
            "   [1.84551529e+02 1.23265762e+02 5.81943207e+01]\n",
            "   [1.94115814e+02 1.25345390e+02 6.03453903e+01]]\n",
            "\n",
            "  [[1.78239807e+02 6.13826523e+01 2.73316345e+01]\n",
            "   [1.77775497e+02 5.96479607e+01 2.39285717e+01]\n",
            "   [1.76974487e+02 5.69438782e+01 1.99438801e+01]\n",
            "   ...\n",
            "   [1.29725006e+02 7.38117371e+01 1.70972290e+01]\n",
            "   [2.19913300e+02 1.55627533e+02 9.35561142e+01]\n",
            "   [1.68881363e+02 9.41670761e+01 3.58813629e+01]]\n",
            "\n",
            "  [[1.61377548e+02 5.04438782e+01 1.78010216e+01]\n",
            "   [1.62673462e+02 5.18163261e+01 1.84591846e+01]\n",
            "   [1.61265305e+02 5.36224480e+01 1.89744892e+01]\n",
            "   ...\n",
            "   [1.61128433e+02 9.84396591e+01 4.29394798e+01]\n",
            "   [2.28183228e+02 1.57397461e+02 9.87852402e+01]\n",
            "   [1.50234055e+02 6.90911331e+01 1.80810204e+01]]\n",
            "\n",
            "  ...\n",
            "\n",
            "  [[1.45714722e+01 7.21426392e+00 3.57147217e+00]\n",
            "   [1.47704315e+01 7.41322327e+00 4.19895935e+00]\n",
            "   [1.60918064e+01 6.42850590e+00 5.68872738e+00]\n",
            "   ...\n",
            "   [2.49163437e+02 2.15637878e+02 1.54163437e+02]\n",
            "   [2.46260254e+02 2.11903046e+02 1.53688782e+02]\n",
            "   [2.47995010e+02 2.13637802e+02 1.57423538e+02]]\n",
            "\n",
            "  [[1.20714417e+01 4.00000000e+00 2.21432495e+00]\n",
            "   [1.30051165e+01 4.07144165e+00 5.00514317e+00]\n",
            "   [1.40714417e+01 5.07144165e+00 8.07144165e+00]\n",
            "   ...\n",
            "   [2.41229385e+02 2.05285461e+02 1.42872238e+02]\n",
            "   [2.37479507e+02 2.01479507e+02 1.41479507e+02]\n",
            "   [2.32341980e+02 1.96341980e+02 1.38341980e+02]]\n",
            "\n",
            "  [[1.37703857e+01 4.77038574e+00 7.77038574e+00]\n",
            "   [1.33111572e+01 4.31115723e+00 9.21932602e+00]\n",
            "   [1.29284668e+01 3.92846680e+00 8.92846680e+00]\n",
            "   ...\n",
            "   [2.35633286e+02 1.97556763e+02 1.34128235e+02]\n",
            "   [2.30321838e+02 1.91321838e+02 1.32321838e+02]\n",
            "   [2.35173553e+02 1.96173553e+02 1.39173553e+02]]]\n",
            "\n",
            "\n",
            " [[[9.76530609e+01 7.90663223e+01 6.50663223e+01]\n",
            "   [1.04392860e+02 8.82500000e+01 7.33214264e+01]\n",
            "   [1.09520409e+02 9.69591827e+01 8.36683655e+01]\n",
            "   ...\n",
            "   [2.44423492e+02 2.37423492e+02 2.19423492e+02]\n",
            "   [2.46760208e+02 2.39760208e+02 2.21760208e+02]\n",
            "   [2.48000000e+02 2.41000000e+02 2.23000000e+02]]\n",
            "\n",
            "  [[1.06326530e+02 8.95204086e+01 7.75867386e+01]\n",
            "   [1.11239799e+02 9.68877640e+01 8.40918427e+01]\n",
            "   [1.50612244e+02 1.41198990e+02 1.26897964e+02]\n",
            "   ...\n",
            "   [2.40857162e+02 2.33857162e+02 2.15857162e+02]\n",
            "   [2.45071442e+02 2.38071442e+02 2.20071442e+02]\n",
            "   [2.47000000e+02 2.40000000e+02 2.22000000e+02]]\n",
            "\n",
            "  [[1.15163269e+02 1.02295921e+02 9.33724518e+01]\n",
            "   [1.54887756e+02 1.45117355e+02 1.34989807e+02]\n",
            "   [2.00071426e+02 1.92836746e+02 1.79790833e+02]\n",
            "   ...\n",
            "   [2.40357193e+02 2.33357193e+02 2.15357193e+02]\n",
            "   [2.43642868e+02 2.36642868e+02 2.18642868e+02]\n",
            "   [2.44571426e+02 2.37571426e+02 2.19571426e+02]]\n",
            "\n",
            "  ...\n",
            "\n",
            "  [[1.41214325e+02 5.36428566e+01 5.27959023e+01]\n",
            "   [1.37571487e+02 5.00000229e+01 4.82704086e+01]\n",
            "   [1.39000046e+02 5.16428375e+01 4.90000000e+01]\n",
            "   ...\n",
            "   [2.50168350e+02 2.41168350e+02 2.24168350e+02]\n",
            "   [2.50000000e+02 2.41000000e+02 2.24000000e+02]\n",
            "   [2.49785736e+02 2.40785736e+02 2.23785736e+02]]\n",
            "\n",
            "  [[1.41974503e+02 5.39744949e+01 5.19744949e+01]\n",
            "   [1.40357147e+02 5.23571548e+01 5.03571548e+01]\n",
            "   [1.39642853e+02 5.16581650e+01 4.76122398e+01]\n",
            "   ...\n",
            "   [2.51000000e+02 2.42000000e+02 2.25000000e+02]\n",
            "   [2.50933655e+02 2.41933655e+02 2.24933655e+02]\n",
            "   [2.50000000e+02 2.41000000e+02 2.24000000e+02]]\n",
            "\n",
            "  [[1.42571426e+02 5.45714302e+01 5.25714302e+01]\n",
            "   [1.42617371e+02 5.46173782e+01 5.26173782e+01]\n",
            "   [1.39642853e+02 5.18571434e+01 4.72142868e+01]\n",
            "   ...\n",
            "   [2.51494919e+02 2.42494919e+02 2.25494919e+02]\n",
            "   [2.51000000e+02 2.42000000e+02 2.25000000e+02]\n",
            "   [2.51000000e+02 2.42000000e+02 2.25000000e+02]]]\n",
            "\n",
            "\n",
            " [[[6.44285736e+01 2.14285717e+01 5.42857170e+00]\n",
            "   [6.22040825e+01 1.92040806e+01 3.80102015e+00]\n",
            "   [6.17602043e+01 1.87602043e+01 2.76020408e+00]\n",
            "   ...\n",
            "   [1.45714111e+01 9.85710812e+00 3.57649875e+00]\n",
            "   [1.45255394e+01 8.23982430e+00 2.23982453e+00]\n",
            "   [1.10255375e+01 5.09696531e+00 2.29594663e-01]]\n",
            "\n",
            "  [[5.62244873e+01 9.03061008e+00 9.18363333e-02]\n",
            "   [6.67244949e+01 2.07244911e+01 5.72449112e+00]\n",
            "   [6.49540787e+01 1.89540844e+01 3.95408273e+00]\n",
            "   ...\n",
            "   [1.45305614e+01 3.98464942e+00 7.29583979e-01]\n",
            "   [1.18520765e+01 1.06124389e+00 0.00000000e+00]\n",
            "   [1.63061390e+01 4.45408583e+00 7.14294434e-01]]\n",
            "\n",
            "  [[6.72142868e+01 1.78010216e+01 4.00000000e+00]\n",
            "   [7.42295914e+01 2.52857151e+01 1.10714293e+01]\n",
            "   [6.47244873e+01 1.74642849e+01 2.01530623e+00]\n",
            "   ...\n",
            "   [2.25917969e+01 7.63771677e+00 4.30098581e+00]\n",
            "   [2.03265553e+01 5.54084158e+00 2.54084158e+00]\n",
            "   [2.08571606e+01 6.07144642e+00 3.07144642e+00]]\n",
            "\n",
            "  ...\n",
            "\n",
            "  [[5.98724709e+01 2.10867329e+01 1.36582050e+01]\n",
            "   [6.21683273e+01 2.41683292e+01 1.51683283e+01]\n",
            "   [5.69336433e+01 1.89336433e+01 8.36221600e+00]\n",
            "   ...\n",
            "   [2.41724594e+02 1.77724594e+02 1.04153183e+02]\n",
            "   [2.37071747e+02 1.74000336e+02 1.02928925e+02]\n",
            "   [2.33096954e+02 1.71612305e+02 1.01678658e+02]]\n",
            "\n",
            "  [[5.90969200e+01 2.00969162e+01 1.44336615e+01]\n",
            "   [5.72908058e+01 1.83622322e+01 1.12193756e+01]\n",
            "   [6.13265533e+01 2.33265514e+01 1.28673887e+01]\n",
            "   ...\n",
            "   [2.30101883e+02 1.67076370e+02 9.88468552e+01]\n",
            "   [2.29545959e+02 1.68347000e+02 1.03622627e+02]\n",
            "   [2.18158005e+02 1.56158005e+02 9.54437790e+01]]\n",
            "\n",
            "  [[5.74387550e+01 1.64387550e+01 1.24387560e+01]\n",
            "   [6.08521042e+01 1.99235306e+01 1.37806740e+01]\n",
            "   [5.97243996e+01 2.12958298e+01 1.25101147e+01]\n",
            "   ...\n",
            "   [2.13259827e+02 1.49407776e+02 8.98313599e+01]\n",
            "   [1.99743423e+02 1.36814835e+02 8.28404541e+01]\n",
            "   [1.47967712e+02 8.61972961e+01 3.63454514e+01]]]], shape=(32, 224, 224, 3), dtype=float32) tf.Tensor(\n",
            "[[1. 0. 0. 0. 0. 0. 0. 0. 0. 0.]\n",
            " [1. 0. 0. 0. 0. 0. 0. 0. 0. 0.]\n",
            " [0. 0. 0. 0. 0. 0. 0. 0. 1. 0.]\n",
            " [0. 0. 0. 0. 0. 0. 0. 0. 1. 0.]\n",
            " [1. 0. 0. 0. 0. 0. 0. 0. 0. 0.]\n",
            " [0. 0. 1. 0. 0. 0. 0. 0. 0. 0.]\n",
            " [0. 0. 0. 0. 0. 1. 0. 0. 0. 0.]\n",
            " [0. 0. 0. 0. 0. 0. 0. 0. 0. 1.]\n",
            " [0. 0. 0. 0. 0. 0. 0. 0. 1. 0.]\n",
            " [0. 0. 0. 0. 0. 0. 1. 0. 0. 0.]\n",
            " [0. 0. 0. 1. 0. 0. 0. 0. 0. 0.]\n",
            " [0. 0. 0. 0. 0. 0. 0. 0. 1. 0.]\n",
            " [0. 0. 0. 1. 0. 0. 0. 0. 0. 0.]\n",
            " [0. 0. 0. 0. 0. 0. 0. 1. 0. 0.]\n",
            " [0. 0. 0. 0. 0. 0. 1. 0. 0. 0.]\n",
            " [0. 0. 0. 1. 0. 0. 0. 0. 0. 0.]\n",
            " [0. 0. 1. 0. 0. 0. 0. 0. 0. 0.]\n",
            " [0. 0. 0. 0. 1. 0. 0. 0. 0. 0.]\n",
            " [0. 0. 0. 1. 0. 0. 0. 0. 0. 0.]\n",
            " [0. 0. 0. 1. 0. 0. 0. 0. 0. 0.]\n",
            " [1. 0. 0. 0. 0. 0. 0. 0. 0. 0.]\n",
            " [0. 0. 0. 0. 0. 0. 1. 0. 0. 0.]\n",
            " [0. 0. 0. 1. 0. 0. 0. 0. 0. 0.]\n",
            " [0. 0. 0. 1. 0. 0. 0. 0. 0. 0.]\n",
            " [0. 0. 0. 1. 0. 0. 0. 0. 0. 0.]\n",
            " [0. 0. 0. 1. 0. 0. 0. 0. 0. 0.]\n",
            " [0. 0. 0. 0. 0. 0. 0. 0. 0. 1.]\n",
            " [0. 0. 0. 0. 0. 0. 1. 0. 0. 0.]\n",
            " [0. 0. 0. 0. 0. 0. 0. 0. 1. 0.]\n",
            " [0. 0. 0. 0. 0. 0. 0. 1. 0. 0.]\n",
            " [0. 0. 0. 0. 0. 0. 0. 0. 0. 1.]\n",
            " [0. 0. 0. 0. 1. 0. 0. 0. 0. 0.]], shape=(32, 10), dtype=float32)\n"
          ]
        }
      ]
    },
    {
      "cell_type": "code",
      "source": [],
      "metadata": {
        "id": "0SAojV5eb16o"
      },
      "execution_count": null,
      "outputs": []
    }
  ]
}