{
  "nbformat": 4,
  "nbformat_minor": 0,
  "metadata": {
    "colab": {
      "provenance": [],
      "gpuType": "T4",
      "authorship_tag": "ABX9TyOtKgwCD3Vlc5AFBiosPL+H",
      "include_colab_link": true
    },
    "kernelspec": {
      "name": "python3",
      "display_name": "Python 3"
    },
    "language_info": {
      "name": "python"
    },
    "accelerator": "GPU"
  },
  "cells": [
    {
      "cell_type": "markdown",
      "metadata": {
        "id": "view-in-github",
        "colab_type": "text"
      },
      "source": [
        "<a href=\"https://colab.research.google.com/github/FairozAhmadSheikh/DeepLearning_Bootcamp_with_Tensor_Flow/blob/main/05_transfer_learning_fine_tunning.ipynb\" target=\"_parent\"><img src=\"https://colab.research.google.com/assets/colab-badge.svg\" alt=\"Open In Colab\"/></a>"
      ]
    },
    {
      "cell_type": "markdown",
      "source": [
        "Lets start with importing some helper functions from a script"
      ],
      "metadata": {
        "id": "aKKBAdtWZJz4"
      }
    },
    {
      "cell_type": "code",
      "execution_count": 32,
      "metadata": {
        "colab": {
          "base_uri": "https://localhost:8080/"
        },
        "id": "pYXlrcUzY3sR",
        "outputId": "1863ae77-e739-4f03-b826-2b0ed0a99cfd"
      },
      "outputs": [
        {
          "output_type": "stream",
          "name": "stdout",
          "text": [
            "--2025-09-19 03:49:21--  https://raw.githubusercontent.com/FairozAhmadSheikh/DeepLearning_Bootcamp_with_Tensor_Flow/refs/heads/main/helper_functions/helper_functions.py\n",
            "Resolving raw.githubusercontent.com (raw.githubusercontent.com)... 185.199.108.133, 185.199.109.133, 185.199.110.133, ...\n",
            "Connecting to raw.githubusercontent.com (raw.githubusercontent.com)|185.199.108.133|:443... connected.\n",
            "HTTP request sent, awaiting response... 200 OK\n",
            "Length: 6733 (6.6K) [text/plain]\n",
            "Saving to: ‘helper_functions.py.1’\n",
            "\n",
            "helper_functions.py 100%[===================>]   6.58K  --.-KB/s    in 0s      \n",
            "\n",
            "2025-09-19 03:49:21 (86.0 MB/s) - ‘helper_functions.py.1’ saved [6733/6733]\n",
            "\n"
          ]
        }
      ],
      "source": [
        "!wget  https://raw.githubusercontent.com/FairozAhmadSheikh/DeepLearning_Bootcamp_with_Tensor_Flow/refs/heads/main/helper_functions/helper_functions.py"
      ]
    },
    {
      "cell_type": "code",
      "source": [
        "!wget https://storage.googleapis.com/ztm_tf_course/food_vision/10_food_classes_10_percent.zip"
      ],
      "metadata": {
        "colab": {
          "base_uri": "https://localhost:8080/"
        },
        "id": "yJpwcmnUZUye",
        "outputId": "0cfb2b65-5d1d-45d6-f140-e044386882c6"
      },
      "execution_count": 33,
      "outputs": [
        {
          "output_type": "stream",
          "name": "stdout",
          "text": [
            "--2025-09-19 03:49:21--  https://storage.googleapis.com/ztm_tf_course/food_vision/10_food_classes_10_percent.zip\n",
            "Resolving storage.googleapis.com (storage.googleapis.com)... 172.253.118.207, 142.251.10.207, 142.251.12.207, ...\n",
            "Connecting to storage.googleapis.com (storage.googleapis.com)|172.253.118.207|:443... connected.\n",
            "HTTP request sent, awaiting response... 200 OK\n",
            "Length: 168546183 (161M) [application/zip]\n",
            "Saving to: ‘10_food_classes_10_percent.zip.1’\n",
            "\n",
            "10_food_classes_10_ 100%[===================>] 160.74M  22.5MB/s    in 8.1s    \n",
            "\n",
            "2025-09-19 03:49:30 (19.9 MB/s) - ‘10_food_classes_10_percent.zip.1’ saved [168546183/168546183]\n",
            "\n"
          ]
        }
      ]
    },
    {
      "cell_type": "code",
      "source": [
        "from helper_functions import unzip_data,walk_through_dir,plot_loss_curves,create_tensorboard_callback"
      ],
      "metadata": {
        "id": "w35ByqCiZhc_"
      },
      "execution_count": 34,
      "outputs": []
    },
    {
      "cell_type": "code",
      "source": [
        "unzip_data(\"10_food_classes_10_percent.zip\")"
      ],
      "metadata": {
        "id": "6PZyqvsOZnF5"
      },
      "execution_count": 35,
      "outputs": []
    },
    {
      "cell_type": "code",
      "source": [
        "walk_through_dir('10_food_classes_10_percent')"
      ],
      "metadata": {
        "colab": {
          "base_uri": "https://localhost:8080/"
        },
        "id": "T6LCWbyDZtaO",
        "outputId": "2d527cd5-5458-4308-fb1a-d42043195a34"
      },
      "execution_count": 36,
      "outputs": [
        {
          "output_type": "stream",
          "name": "stdout",
          "text": [
            "There are 2 directories and 0 images in '10_food_classes_10_percent'.\n",
            "There are 10 directories and 0 images in '10_food_classes_10_percent/test'.\n",
            "There are 0 directories and 250 images in '10_food_classes_10_percent/test/pizza'.\n",
            "There are 0 directories and 250 images in '10_food_classes_10_percent/test/chicken_wings'.\n",
            "There are 0 directories and 250 images in '10_food_classes_10_percent/test/grilled_salmon'.\n",
            "There are 0 directories and 250 images in '10_food_classes_10_percent/test/ramen'.\n",
            "There are 0 directories and 250 images in '10_food_classes_10_percent/test/hamburger'.\n",
            "There are 0 directories and 250 images in '10_food_classes_10_percent/test/ice_cream'.\n",
            "There are 0 directories and 250 images in '10_food_classes_10_percent/test/steak'.\n",
            "There are 0 directories and 250 images in '10_food_classes_10_percent/test/fried_rice'.\n",
            "There are 0 directories and 250 images in '10_food_classes_10_percent/test/sushi'.\n",
            "There are 0 directories and 250 images in '10_food_classes_10_percent/test/chicken_curry'.\n",
            "There are 10 directories and 0 images in '10_food_classes_10_percent/train'.\n",
            "There are 0 directories and 75 images in '10_food_classes_10_percent/train/pizza'.\n",
            "There are 0 directories and 75 images in '10_food_classes_10_percent/train/chicken_wings'.\n",
            "There are 0 directories and 75 images in '10_food_classes_10_percent/train/grilled_salmon'.\n",
            "There are 0 directories and 75 images in '10_food_classes_10_percent/train/ramen'.\n",
            "There are 0 directories and 75 images in '10_food_classes_10_percent/train/hamburger'.\n",
            "There are 0 directories and 75 images in '10_food_classes_10_percent/train/ice_cream'.\n",
            "There are 0 directories and 75 images in '10_food_classes_10_percent/train/steak'.\n",
            "There are 0 directories and 75 images in '10_food_classes_10_percent/train/fried_rice'.\n",
            "There are 0 directories and 75 images in '10_food_classes_10_percent/train/sushi'.\n",
            "There are 0 directories and 75 images in '10_food_classes_10_percent/train/chicken_curry'.\n"
          ]
        }
      ]
    },
    {
      "cell_type": "code",
      "source": [
        "# Create  train and test directory\n",
        "train_dir='10_food_classes_10_percent/train'\n",
        "test_dir='10_food_classes_10_percent/test'"
      ],
      "metadata": {
        "id": "wnTO4d1SaAMV"
      },
      "execution_count": 37,
      "outputs": []
    },
    {
      "cell_type": "code",
      "source": [
        "import tensorflow as tf"
      ],
      "metadata": {
        "id": "V1nsGdtban9X"
      },
      "execution_count": 38,
      "outputs": []
    },
    {
      "cell_type": "code",
      "source": [
        "IMG_SIZE=(224,224)\n",
        "BATCH_SIZE=32"
      ],
      "metadata": {
        "id": "agKrD32ca2oP"
      },
      "execution_count": 39,
      "outputs": []
    },
    {
      "cell_type": "code",
      "source": [
        "# Instead of using ImageDataGenerator we use the below method\n",
        "train_data_10_percent=tf.keras.preprocessing.image_dataset_from_directory(train_dir,label_mode='categorical',batch_size=BATCH_SIZE,image_size=IMG_SIZE)\n",
        "test_data=tf.keras.preprocessing.image_dataset_from_directory(test_dir,batch_size=BATCH_SIZE,image_size=IMG_SIZE,label_mode='categorical')"
      ],
      "metadata": {
        "colab": {
          "base_uri": "https://localhost:8080/"
        },
        "id": "U84yTE2yaPUY",
        "outputId": "13b8d188-ba05-4681-ad55-978925ea9f5f"
      },
      "execution_count": 40,
      "outputs": [
        {
          "output_type": "stream",
          "name": "stdout",
          "text": [
            "Found 750 files belonging to 10 classes.\n",
            "Found 2500 files belonging to 10 classes.\n"
          ]
        }
      ]
    },
    {
      "cell_type": "code",
      "source": [
        "# Check out class names\n",
        "train_data_10_percent.class_names"
      ],
      "metadata": {
        "colab": {
          "base_uri": "https://localhost:8080/"
        },
        "id": "VWFEld2fba-y",
        "outputId": "1f309e0f-69f6-45a3-987c-75b75a66ddc1"
      },
      "execution_count": 41,
      "outputs": [
        {
          "output_type": "execute_result",
          "data": {
            "text/plain": [
              "['chicken_curry',\n",
              " 'chicken_wings',\n",
              " 'fried_rice',\n",
              " 'grilled_salmon',\n",
              " 'hamburger',\n",
              " 'ice_cream',\n",
              " 'pizza',\n",
              " 'ramen',\n",
              " 'steak',\n",
              " 'sushi']"
            ]
          },
          "metadata": {},
          "execution_count": 41
        }
      ]
    },
    {
      "cell_type": "code",
      "source": [
        "# See an example of batch of data\n",
        "for images,label in train_data_10_percent.take(1):\n",
        "  print(images,label)"
      ],
      "metadata": {
        "colab": {
          "base_uri": "https://localhost:8080/"
        },
        "id": "JzehKRtIblMq",
        "outputId": "67573521-366d-4d1d-9289-f5f1e91ed60e"
      },
      "execution_count": 42,
      "outputs": [
        {
          "output_type": "stream",
          "name": "stdout",
          "text": [
            "tf.Tensor(\n",
            "[[[[4.41603928e+01 3.67442589e+01 2.12783794e+01]\n",
            "   [4.27413902e+01 3.57413902e+01 1.90271053e+01]\n",
            "   [4.57726402e+01 3.75184937e+01 2.00408173e+01]\n",
            "   ...\n",
            "   [7.00000000e+00 6.00000000e+00 1.24732666e+01]\n",
            "   [6.66357660e+00 5.66357660e+00 1.36635761e+01]\n",
            "   [7.41614628e+00 5.41614628e+00 1.84161472e+01]]\n",
            "\n",
            "  [[2.07337341e+01 9.87659168e+00 6.81409264e+00]\n",
            "   [3.51393509e+01 2.42107773e+01 1.97417088e+01]\n",
            "   [4.80650482e+01 3.56096954e+01 2.77971935e+01]\n",
            "   ...\n",
            "   [7.78026915e+00 6.78026915e+00 1.32535353e+01]\n",
            "   [7.00414371e+00 5.12944221e+00 1.57535467e+01]\n",
            "   [7.04623842e+00 5.04623842e+00 1.73912964e+01]]\n",
            "\n",
            "  [[1.77735996e+01 2.83641744e+00 2.77423620e-01]\n",
            "   [2.00637779e+01 4.84949207e+00 3.19197118e-01]\n",
            "   [3.90838661e+01 2.25063782e+01 1.30793991e+01]\n",
            "   ...\n",
            "   [6.97765255e+00 5.57744074e+00 1.47780762e+01]\n",
            "   [5.27229977e+00 3.27229977e+00 1.42722998e+01]\n",
            "   [5.00000000e+00 3.00000000e+00 1.40000000e+01]]\n",
            "\n",
            "  ...\n",
            "\n",
            "  [[2.49566940e+02 2.36428238e+02 2.04290115e+02]\n",
            "   [2.50987564e+02 2.37785736e+02 2.06300018e+02]\n",
            "   [2.50785736e+02 2.37622162e+02 2.05741043e+02]\n",
            "   ...\n",
            "   [2.32244354e+02 1.94534454e+02 1.12663750e+02]\n",
            "   [2.33513458e+02 1.92773300e+02 1.00445442e+02]\n",
            "   [2.31045258e+02 1.88906555e+02 8.73344727e+01]]\n",
            "\n",
            "  [[2.47575882e+02 2.35575882e+02 1.97382614e+02]\n",
            "   [2.47973190e+02 2.35973190e+02 1.97830307e+02]\n",
            "   [2.51438431e+02 2.39438431e+02 2.01295547e+02]\n",
            "   ...\n",
            "   [2.30345703e+02 1.95598175e+02 1.23282043e+02]\n",
            "   [2.31000000e+02 1.93129456e+02 1.08821320e+02]\n",
            "   [2.31680130e+02 1.91306412e+02 9.83765411e+01]]\n",
            "\n",
            "  [[2.46168686e+02 2.34752563e+02 1.91000900e+02]\n",
            "   [2.43758896e+02 2.32116074e+02 1.89044540e+02]\n",
            "   [2.48696396e+02 2.36780899e+02 1.96054153e+02]\n",
            "   ...\n",
            "   [2.37205063e+02 2.01156570e+02 1.40062378e+02]\n",
            "   [2.36377899e+02 1.98415192e+02 1.24556366e+02]\n",
            "   [2.33158722e+02 1.92826767e+02 1.10409683e+02]]]\n",
            "\n",
            "\n",
            " [[[2.45609055e+01 4.15609055e+01 0.00000000e+00]\n",
            "   [2.81575260e+01 4.51575241e+01 1.01020396e+00]\n",
            "   [3.96855850e+01 5.70156250e+01 1.10255108e+01]\n",
            "   ...\n",
            "   [1.56417709e+02 1.83631973e+02 1.27989174e+02]\n",
            "   [1.58250305e+02 1.82387100e+02 1.29976715e+02]\n",
            "   [1.39989929e+02 1.63989929e+02 1.13695282e+02]]\n",
            "\n",
            "  [[2.87933655e+01 4.69614143e+01 2.62021613e+00]\n",
            "   [3.66881371e+01 5.50140305e+01 8.24617386e+00]\n",
            "   [3.90640945e+01 5.79480247e+01 8.62213135e+00]\n",
            "   ...\n",
            "   [1.60501312e+02 1.88062836e+02 1.31283539e+02]\n",
            "   [1.50035904e+02 1.74996048e+02 1.19294868e+02]\n",
            "   [1.18972076e+02 1.43414032e+02 9.00881424e+01]]\n",
            "\n",
            "  [[3.92126923e+01 5.91186218e+01 9.45376205e+00]\n",
            "   [3.48960457e+01 5.48960457e+01 4.52805996e+00]\n",
            "   [2.93590584e+01 4.93590584e+01 1.14764047e+00]\n",
            "   ...\n",
            "   [1.53640472e+02 1.81640472e+02 1.22847427e+02]\n",
            "   [1.28412903e+02 1.53412903e+02 9.57139282e+01]\n",
            "   [1.24477982e+02 1.49477982e+02 9.22681580e+01]]\n",
            "\n",
            "  ...\n",
            "\n",
            "  [[2.68118820e+01 4.79811859e+01 4.47326660e+00]\n",
            "   [2.44062233e+01 4.56507759e+01 1.91711354e+00]\n",
            "   [2.86278629e+01 5.00490799e+01 5.78543043e+00]\n",
            "   ...\n",
            "   [0.00000000e+00 0.00000000e+00 0.00000000e+00]\n",
            "   [0.00000000e+00 0.00000000e+00 0.00000000e+00]\n",
            "   [0.00000000e+00 0.00000000e+00 0.00000000e+00]]\n",
            "\n",
            "  [[2.65248623e+01 4.83670120e+01 2.48184395e+00]\n",
            "   [2.34688148e+01 4.54372444e+01 5.68267345e-01]\n",
            "   [2.63543682e+01 4.83543701e+01 2.23479342e+00]\n",
            "   ...\n",
            "   [0.00000000e+00 0.00000000e+00 0.00000000e+00]\n",
            "   [0.00000000e+00 0.00000000e+00 0.00000000e+00]\n",
            "   [0.00000000e+00 0.00000000e+00 0.00000000e+00]]\n",
            "\n",
            "  [[2.67142849e+01 4.87142868e+01 1.76690662e+00]\n",
            "   [2.21428566e+01 4.41428566e+01 0.00000000e+00]\n",
            "   [2.44285717e+01 4.64285736e+01 2.14285851e-01]\n",
            "   ...\n",
            "   [0.00000000e+00 0.00000000e+00 0.00000000e+00]\n",
            "   [0.00000000e+00 0.00000000e+00 0.00000000e+00]\n",
            "   [0.00000000e+00 0.00000000e+00 0.00000000e+00]]]\n",
            "\n",
            "\n",
            " [[[2.44000000e+02 2.41000000e+02 2.34000000e+02]\n",
            "   [2.44058029e+02 2.41058029e+02 2.34058029e+02]\n",
            "   [2.45000000e+02 2.42000000e+02 2.35000000e+02]\n",
            "   ...\n",
            "   [1.98272629e+02 2.19272629e+02 2.24272629e+02]\n",
            "   [1.97058014e+02 2.18058014e+02 2.23058014e+02]\n",
            "   [1.96357147e+02 2.17357147e+02 2.22357147e+02]]\n",
            "\n",
            "  [[2.44000000e+02 2.41000000e+02 2.34000000e+02]\n",
            "   [2.44058029e+02 2.41058029e+02 2.34058029e+02]\n",
            "   [2.45000000e+02 2.42000000e+02 2.35000000e+02]\n",
            "   ...\n",
            "   [1.97763367e+02 2.17817886e+02 2.24708847e+02]\n",
            "   [1.96125305e+02 2.16125305e+02 2.23125305e+02]\n",
            "   [1.96000000e+02 2.16000000e+02 2.23000000e+02]]\n",
            "\n",
            "  [[2.44000000e+02 2.41000000e+02 2.34000000e+02]\n",
            "   [2.44058029e+02 2.41058029e+02 2.34058029e+02]\n",
            "   [2.45000000e+02 2.42000000e+02 2.35000000e+02]\n",
            "   ...\n",
            "   [1.98977646e+02 2.18650497e+02 2.28242645e+02]\n",
            "   [1.97272293e+02 2.17070450e+02 2.28584839e+02]\n",
            "   [1.97214279e+02 2.17000000e+02 2.28642853e+02]]\n",
            "\n",
            "  ...\n",
            "\n",
            "  [[2.06914425e+01 1.53514805e+01 9.71744347e+00]\n",
            "   [2.54484653e+01 1.80332222e+01 7.75632572e+00]\n",
            "   [1.24872955e+02 1.15152527e+02 9.50797424e+01]\n",
            "   ...\n",
            "   [5.76102829e+01 5.28108711e+01 3.84106750e+01]\n",
            "   [5.03294144e+01 4.73294144e+01 3.23294144e+01]\n",
            "   [4.30449524e+01 3.98306885e+01 2.54734783e+01]]\n",
            "\n",
            "  [[3.41301727e+01 2.48871517e+01 1.27692795e+01]\n",
            "   [1.50805786e+02 1.40618271e+02 1.15198883e+02]\n",
            "   [1.62831345e+02 1.49233124e+02 1.20623367e+02]\n",
            "   ...\n",
            "   [6.57356567e+01 5.97356567e+01 4.42089233e+01]\n",
            "   [6.25581055e+01 5.65581055e+01 4.25581055e+01]\n",
            "   [5.70414772e+01 5.40414772e+01 3.90414772e+01]]\n",
            "\n",
            "  [[1.50723328e+02 1.37723328e+02 1.05008980e+02]\n",
            "   [1.72307907e+02 1.58876114e+02 1.24556244e+02]\n",
            "   [1.78152344e+02 1.61928131e+02 1.27450386e+02]\n",
            "   ...\n",
            "   [7.56112518e+01 6.96112518e+01 5.40845184e+01]\n",
            "   [7.37516479e+01 6.77516479e+01 5.37516479e+01]\n",
            "   [6.79446106e+01 6.49446106e+01 4.99446068e+01]]]\n",
            "\n",
            "\n",
            " ...\n",
            "\n",
            "\n",
            " [[[5.56584816e+01 7.65848207e+00 3.65848207e+00]\n",
            "   [5.75870552e+01 8.65848255e+00 4.04703426e+00]\n",
            "   [6.73013458e+01 8.65848255e+00 6.87276793e+00]\n",
            "   ...\n",
            "   [6.15173950e+01 6.48260689e+00 5.00000000e+00]\n",
            "   [5.91270370e+01 6.31711912e+00 4.70568037e+00]\n",
            "   [5.37089310e+01 6.78046465e+00 4.42328691e+00]]\n",
            "\n",
            "  [[5.49508934e+01 7.02455330e+00 3.74585438e+00]\n",
            "   [5.68571434e+01 7.92857170e+00 3.92857170e+00]\n",
            "   [6.56428604e+01 7.00000000e+00 5.21428585e+00]\n",
            "   ...\n",
            "   [5.79701843e+01 7.00526094e+00 5.58199406e+00]\n",
            "   [5.59004974e+01 6.09248686e+00 5.18672800e+00]\n",
            "   [5.11874313e+01 6.01578379e+00 5.63580847e+00]]\n",
            "\n",
            "  [[5.30000000e+01 8.00000000e+00 5.00000000e+00]\n",
            "   [5.61495552e+01 8.02965546e+00 4.08019733e+00]\n",
            "   [6.50868988e+01 7.70758915e+00 6.62946415e+00]\n",
            "   ...\n",
            "   [5.41069908e+01 7.06265306e+00 6.70758915e+00]\n",
            "   [5.26123581e+01 6.27152061e+00 7.63614750e+00]\n",
            "   [4.61231995e+01 6.44070339e+00 5.81203175e+00]]\n",
            "\n",
            "  ...\n",
            "\n",
            "  [[6.00000000e+00 6.00000000e+00 6.00000000e+00]\n",
            "   [6.00000000e+00 6.00000000e+00 6.00000000e+00]\n",
            "   [6.00000000e+00 6.00000000e+00 6.00000000e+00]\n",
            "   ...\n",
            "   [2.80938740e+01 2.79819317e+01 2.55848389e+01]\n",
            "   [2.95789356e+01 2.86988125e+01 2.53342018e+01]\n",
            "   [3.31879730e+01 2.91879730e+01 2.61879730e+01]]\n",
            "\n",
            "  [[6.00000000e+00 6.00000000e+00 6.00000000e+00]\n",
            "   [6.00000000e+00 6.00000000e+00 6.00000000e+00]\n",
            "   [6.00000000e+00 6.00000000e+00 6.00000000e+00]\n",
            "   ...\n",
            "   [1.57782755e+01 1.89382095e+01 2.62335434e+01]\n",
            "   [2.43124695e+01 2.52164917e+01 2.69789696e+01]\n",
            "   [2.87655029e+01 2.76918945e+01 2.37164307e+01]]\n",
            "\n",
            "  [[6.00000000e+00 6.00000000e+00 6.00000000e+00]\n",
            "   [6.00000000e+00 6.00000000e+00 6.00000000e+00]\n",
            "   [6.00000000e+00 6.00000000e+00 6.00000000e+00]\n",
            "   ...\n",
            "   [1.03572083e+01 1.47857361e+01 2.61463509e+01]\n",
            "   [2.18954468e+01 2.15558472e+01 2.59041595e+01]\n",
            "   [2.75119267e+01 2.52351933e+01 2.17403755e+01]]]\n",
            "\n",
            "\n",
            " [[[2.54000000e+02 2.54000000e+02 2.54000000e+02]\n",
            "   [2.54000000e+02 2.54000000e+02 2.54000000e+02]\n",
            "   [2.54000000e+02 2.54000000e+02 2.54000000e+02]\n",
            "   ...\n",
            "   [2.54000000e+02 2.54000000e+02 2.54000000e+02]\n",
            "   [2.54000000e+02 2.54000000e+02 2.54000000e+02]\n",
            "   [2.54000000e+02 2.54000000e+02 2.54000000e+02]]\n",
            "\n",
            "  [[2.54000000e+02 2.54000000e+02 2.54000000e+02]\n",
            "   [2.54000000e+02 2.54000000e+02 2.54000000e+02]\n",
            "   [2.54000000e+02 2.54000000e+02 2.54000000e+02]\n",
            "   ...\n",
            "   [2.54000000e+02 2.54000000e+02 2.54000000e+02]\n",
            "   [2.54000000e+02 2.54000000e+02 2.54000000e+02]\n",
            "   [2.54000000e+02 2.54000000e+02 2.54000000e+02]]\n",
            "\n",
            "  [[2.54000000e+02 2.54000000e+02 2.54000000e+02]\n",
            "   [2.54000000e+02 2.54000000e+02 2.54000000e+02]\n",
            "   [2.54000000e+02 2.54000000e+02 2.54000000e+02]\n",
            "   ...\n",
            "   [2.54000000e+02 2.54000000e+02 2.54000000e+02]\n",
            "   [2.54000000e+02 2.54000000e+02 2.54000000e+02]\n",
            "   [2.54000000e+02 2.54000000e+02 2.54000000e+02]]\n",
            "\n",
            "  ...\n",
            "\n",
            "  [[2.54000000e+02 2.54000000e+02 2.54000000e+02]\n",
            "   [2.54000000e+02 2.54000000e+02 2.54000000e+02]\n",
            "   [2.54000000e+02 2.54000000e+02 2.54000000e+02]\n",
            "   ...\n",
            "   [2.54000000e+02 2.54000000e+02 2.54000000e+02]\n",
            "   [2.54000000e+02 2.54000000e+02 2.54000000e+02]\n",
            "   [2.54000000e+02 2.54000000e+02 2.54000000e+02]]\n",
            "\n",
            "  [[2.54000000e+02 2.54000000e+02 2.54000000e+02]\n",
            "   [2.54000000e+02 2.54000000e+02 2.54000000e+02]\n",
            "   [2.54000000e+02 2.54000000e+02 2.54000000e+02]\n",
            "   ...\n",
            "   [2.54000000e+02 2.54000000e+02 2.54000000e+02]\n",
            "   [2.54000000e+02 2.54000000e+02 2.54000000e+02]\n",
            "   [2.54000000e+02 2.54000000e+02 2.54000000e+02]]\n",
            "\n",
            "  [[2.54000000e+02 2.54000000e+02 2.54000000e+02]\n",
            "   [2.54000000e+02 2.54000000e+02 2.54000000e+02]\n",
            "   [2.54000000e+02 2.54000000e+02 2.54000000e+02]\n",
            "   ...\n",
            "   [2.54000000e+02 2.54000000e+02 2.54000000e+02]\n",
            "   [2.54000000e+02 2.54000000e+02 2.54000000e+02]\n",
            "   [2.54000000e+02 2.54000000e+02 2.54000000e+02]]]\n",
            "\n",
            "\n",
            " [[[6.99719391e+01 5.12125320e+01 2.63330669e+01]\n",
            "   [8.29800720e+01 5.84636497e+01 3.21310616e+01]\n",
            "   [9.64749680e+01 6.43188782e+01 3.56200562e+01]\n",
            "   ...\n",
            "   [1.39580536e+02 8.15805359e+01 3.35805321e+01]\n",
            "   [1.36928558e+02 7.89285583e+01 3.09285583e+01]\n",
            "   [1.36093277e+02 7.80932846e+01 3.00932808e+01]]\n",
            "\n",
            "  [[8.54062500e+01 5.64336700e+01 2.87893810e+01]\n",
            "   [9.46787338e+01 6.16811256e+01 3.38262138e+01]\n",
            "   [9.73990707e+01 5.94352684e+01 2.97946415e+01]\n",
            "   ...\n",
            "   [1.39167877e+02 8.11678696e+01 3.31678734e+01]\n",
            "   [1.36201050e+02 7.82010498e+01 3.02010498e+01]\n",
            "   [1.37140656e+02 7.91406631e+01 3.11406593e+01]]\n",
            "\n",
            "  [[9.40644150e+01 5.58411980e+01 2.65353947e+01]\n",
            "   [9.89722595e+01 5.87490425e+01 2.74432392e+01]\n",
            "   [9.90797195e+01 5.71050720e+01 2.41304188e+01]\n",
            "   ...\n",
            "   [1.41520065e+02 8.35200653e+01 3.55200691e+01]\n",
            "   [1.36283951e+02 7.82839584e+01 3.02839565e+01]\n",
            "   [1.36801712e+02 7.88017044e+01 3.08017063e+01]]\n",
            "\n",
            "  ...\n",
            "\n",
            "  [[7.23370743e+01 6.03370705e+01 4.43370705e+01]\n",
            "   [7.39285736e+01 6.19285736e+01 4.59285736e+01]\n",
            "   [7.70655289e+01 6.40655289e+01 4.70655251e+01]\n",
            "   ...\n",
            "   [1.35518188e+02 1.28732452e+02 1.18303932e+02]\n",
            "   [1.26945641e+02 1.19945641e+02 1.09945641e+02]\n",
            "   [1.15463867e+02 1.08463867e+02 9.84638672e+01]]\n",
            "\n",
            "  [[7.42165222e+01 6.22165222e+01 4.62165222e+01]\n",
            "   [7.42165222e+01 6.22165222e+01 4.62165222e+01]\n",
            "   [7.59536057e+01 6.29536018e+01 4.59536018e+01]\n",
            "   ...\n",
            "   [1.13602448e+02 1.06602448e+02 9.66024475e+01]\n",
            "   [1.00457428e+02 9.34574280e+01 8.34574280e+01]\n",
            "   [8.63167114e+01 7.93167114e+01 6.97497559e+01]]\n",
            "\n",
            "  [[7.57388611e+01 6.37388611e+01 4.77388611e+01]\n",
            "   [7.50527725e+01 6.30527725e+01 4.70527725e+01]\n",
            "   [7.52051773e+01 6.22051811e+01 4.52051811e+01]\n",
            "   ...\n",
            "   [8.89974823e+01 8.19974823e+01 7.31585846e+01]\n",
            "   [7.60717239e+01 6.90717239e+01 6.05494499e+01]\n",
            "   [6.43505402e+01 5.73505440e+01 4.93505440e+01]]]], shape=(32, 224, 224, 3), dtype=float32) tf.Tensor(\n",
            "[[0. 0. 0. 0. 0. 0. 0. 0. 0. 1.]\n",
            " [1. 0. 0. 0. 0. 0. 0. 0. 0. 0.]\n",
            " [0. 0. 0. 0. 0. 0. 1. 0. 0. 0.]\n",
            " [0. 0. 0. 0. 1. 0. 0. 0. 0. 0.]\n",
            " [0. 0. 1. 0. 0. 0. 0. 0. 0. 0.]\n",
            " [1. 0. 0. 0. 0. 0. 0. 0. 0. 0.]\n",
            " [0. 0. 0. 0. 1. 0. 0. 0. 0. 0.]\n",
            " [0. 0. 0. 0. 0. 0. 0. 0. 1. 0.]\n",
            " [0. 0. 0. 0. 1. 0. 0. 0. 0. 0.]\n",
            " [0. 0. 0. 0. 0. 0. 0. 1. 0. 0.]\n",
            " [0. 0. 0. 0. 0. 0. 0. 0. 1. 0.]\n",
            " [0. 1. 0. 0. 0. 0. 0. 0. 0. 0.]\n",
            " [0. 0. 0. 0. 0. 0. 0. 1. 0. 0.]\n",
            " [0. 0. 0. 1. 0. 0. 0. 0. 0. 0.]\n",
            " [0. 0. 0. 0. 0. 0. 0. 1. 0. 0.]\n",
            " [0. 0. 0. 1. 0. 0. 0. 0. 0. 0.]\n",
            " [0. 0. 1. 0. 0. 0. 0. 0. 0. 0.]\n",
            " [0. 0. 1. 0. 0. 0. 0. 0. 0. 0.]\n",
            " [0. 1. 0. 0. 0. 0. 0. 0. 0. 0.]\n",
            " [0. 0. 1. 0. 0. 0. 0. 0. 0. 0.]\n",
            " [0. 1. 0. 0. 0. 0. 0. 0. 0. 0.]\n",
            " [0. 0. 0. 0. 0. 0. 1. 0. 0. 0.]\n",
            " [0. 0. 0. 0. 0. 1. 0. 0. 0. 0.]\n",
            " [0. 0. 0. 0. 0. 0. 0. 0. 0. 1.]\n",
            " [0. 1. 0. 0. 0. 0. 0. 0. 0. 0.]\n",
            " [0. 0. 1. 0. 0. 0. 0. 0. 0. 0.]\n",
            " [0. 0. 0. 0. 0. 0. 1. 0. 0. 0.]\n",
            " [1. 0. 0. 0. 0. 0. 0. 0. 0. 0.]\n",
            " [0. 0. 0. 0. 0. 0. 0. 1. 0. 0.]\n",
            " [0. 0. 0. 0. 0. 1. 0. 0. 0. 0.]\n",
            " [0. 0. 0. 0. 0. 0. 0. 0. 1. 0.]\n",
            " [1. 0. 0. 0. 0. 0. 0. 0. 0. 0.]], shape=(32, 10), dtype=float32)\n"
          ]
        }
      ]
    },
    {
      "cell_type": "markdown",
      "source": [
        "Lets now create our first model with functional api"
      ],
      "metadata": {
        "id": "tTuOi3GiCbUl"
      }
    },
    {
      "cell_type": "code",
      "source": [
        "base_model = tf.keras.applications.EfficientNetB0(include_top=False)\n",
        "base_model.trainable = False\n",
        "\n",
        "inputs = tf.keras.layers.Input(shape=(IMG_SIZE + (3,)), name='Input_Layer')\n",
        "\n",
        "# # Normalize if using resnet\n",
        "# x = tf.keras.layers.Rescaling(1./255)(inputs)\n",
        "\n",
        "# Pass normalized data to base model\n",
        "x = base_model(inputs)\n",
        "print(f'The shape after passing inputs through the base model {x.shape}')\n",
        "\n",
        "# Global Average Pooling\n",
        "x = tf.keras.layers.GlobalAveragePooling2D(name='Global_average_pooling_layer')(x)\n",
        "print(f'The shape after passing inputs through the average pool layer {x.shape}')\n",
        "\n",
        "# Output layer with softmax\n",
        "output = tf.keras.layers.Dense(10, activation='softmax')(x)\n",
        "\n",
        "# Build model\n",
        "model_0 = tf.keras.Model(inputs, output)"
      ],
      "metadata": {
        "id": "0SAojV5eb16o",
        "colab": {
          "base_uri": "https://localhost:8080/"
        },
        "outputId": "2e5170f9-7076-4d01-c1fe-65259433d535"
      },
      "execution_count": 52,
      "outputs": [
        {
          "output_type": "stream",
          "name": "stdout",
          "text": [
            "The shape after passing inputs through the base model (None, 7, 7, 1280)\n",
            "The shape after passing inputs through the average pool layer (None, 1280)\n"
          ]
        }
      ]
    },
    {
      "cell_type": "code",
      "source": [
        "# Combine inputs with outputs\n",
        "model_0=tf.keras.Model(inputs,output)\n",
        "\n",
        "# Compile the model\n",
        "model_0.compile(loss=tf.keras.losses.CategoricalCrossentropy(),\n",
        "                optimizer=tf.keras.optimizers.Adam(),\n",
        "                metrics=['accuracy'])\n",
        "\n",
        "# Fit the model\n",
        "history_10_percent=model_0.fit(train_data_10_percent,epochs=5,steps_per_epoch=len(train_data_10_percent),validation_data=test_data,validation_steps=int(0.25*len(test_data)),\n",
        "                               callbacks=[create_tensorboard_callback(dir_name='transfer_learning',experiment_name='10-percent-feature-extarction')])"
      ],
      "metadata": {
        "colab": {
          "base_uri": "https://localhost:8080/"
        },
        "id": "wVX9Q93oGGzP",
        "outputId": "37e6dbc6-ad4b-4433-a04c-a413733a6c7a"
      },
      "execution_count": 53,
      "outputs": [
        {
          "output_type": "stream",
          "name": "stdout",
          "text": [
            "Saving TensorBoard log files to: transfer_learning/10-percent-feature-extarction/20250919-040628\n",
            "Epoch 1/5\n",
            "\u001b[1m24/24\u001b[0m \u001b[32m━━━━━━━━━━━━━━━━━━━━\u001b[0m\u001b[37m\u001b[0m \u001b[1m39s\u001b[0m 838ms/step - accuracy: 0.1879 - loss: 2.2138 - val_accuracy: 0.7138 - val_loss: 1.3627\n",
            "Epoch 2/5\n",
            "\u001b[1m24/24\u001b[0m \u001b[32m━━━━━━━━━━━━━━━━━━━━\u001b[0m\u001b[37m\u001b[0m \u001b[1m14s\u001b[0m 98ms/step - accuracy: 0.7307 - loss: 1.2459 - val_accuracy: 0.8388 - val_loss: 0.8968\n",
            "Epoch 3/5\n",
            "\u001b[1m24/24\u001b[0m \u001b[32m━━━━━━━━━━━━━━━━━━━━\u001b[0m\u001b[37m\u001b[0m \u001b[1m3s\u001b[0m 98ms/step - accuracy: 0.8249 - loss: 0.8569 - val_accuracy: 0.8602 - val_loss: 0.7157\n",
            "Epoch 4/5\n",
            "\u001b[1m24/24\u001b[0m \u001b[32m━━━━━━━━━━━━━━━━━━━━\u001b[0m\u001b[37m\u001b[0m \u001b[1m2s\u001b[0m 95ms/step - accuracy: 0.8654 - loss: 0.6564 - val_accuracy: 0.8618 - val_loss: 0.6173\n",
            "Epoch 5/5\n",
            "\u001b[1m24/24\u001b[0m \u001b[32m━━━━━━━━━━━━━━━━━━━━\u001b[0m\u001b[37m\u001b[0m \u001b[1m3s\u001b[0m 122ms/step - accuracy: 0.8951 - loss: 0.5391 - val_accuracy: 0.8701 - val_loss: 0.5673\n"
          ]
        }
      ]
    },
    {
      "cell_type": "code",
      "source": [
        "# evalute the model\n",
        "model_0.evaluate(test_data)"
      ],
      "metadata": {
        "colab": {
          "base_uri": "https://localhost:8080/"
        },
        "id": "HmEjRdqKHn5V",
        "outputId": "feb589aa-484e-429c-e789-5c39333b0d9d"
      },
      "execution_count": 54,
      "outputs": [
        {
          "output_type": "stream",
          "name": "stdout",
          "text": [
            "\u001b[1m79/79\u001b[0m \u001b[32m━━━━━━━━━━━━━━━━━━━━\u001b[0m\u001b[37m\u001b[0m \u001b[1m14s\u001b[0m 183ms/step - accuracy: 0.8806 - loss: 0.5399\n"
          ]
        },
        {
          "output_type": "execute_result",
          "data": {
            "text/plain": [
              "[0.5660110712051392, 0.8664000034332275]"
            ]
          },
          "metadata": {},
          "execution_count": 54
        }
      ]
    },
    {
      "cell_type": "code",
      "source": [
        "# Check the layers in our base model\n",
        "for layer_number, layer in enumerate(model_0.layers):\n",
        "    print(layer_number,layer)"
      ],
      "metadata": {
        "colab": {
          "base_uri": "https://localhost:8080/"
        },
        "id": "C0Es1cNcMM7C",
        "outputId": "924aecd8-a242-4ccc-cd2c-0fdbb2d9e0f1"
      },
      "execution_count": 55,
      "outputs": [
        {
          "output_type": "stream",
          "name": "stdout",
          "text": [
            "0 <InputLayer name=Input_Layer, built=True>\n",
            "1 <Functional name=efficientnetb0, built=True>\n",
            "2 <GlobalAveragePooling2D name=Global_average_pooling_layer, built=True>\n",
            "3 <Dense name=dense_3, built=True>\n"
          ]
        }
      ]
    },
    {
      "cell_type": "code",
      "source": [
        "# Model summary\n",
        "model_0.summary()"
      ],
      "metadata": {
        "colab": {
          "base_uri": "https://localhost:8080/",
          "height": 291
        },
        "id": "gUAG7db7Mll4",
        "outputId": "5ea537f0-464b-4e9a-a059-34d88ed0ea78"
      },
      "execution_count": 56,
      "outputs": [
        {
          "output_type": "display_data",
          "data": {
            "text/plain": [
              "\u001b[1mModel: \"functional_5\"\u001b[0m\n"
            ],
            "text/html": [
              "<pre style=\"white-space:pre;overflow-x:auto;line-height:normal;font-family:Menlo,'DejaVu Sans Mono',consolas,'Courier New',monospace\"><span style=\"font-weight: bold\">Model: \"functional_5\"</span>\n",
              "</pre>\n"
            ]
          },
          "metadata": {}
        },
        {
          "output_type": "display_data",
          "data": {
            "text/plain": [
              "┏━━━━━━━━━━━━━━━━━━━━━━━━━━━━━━━━━┳━━━━━━━━━━━━━━━━━━━━━━━━┳━━━━━━━━━━━━━━━┓\n",
              "┃\u001b[1m \u001b[0m\u001b[1mLayer (type)                   \u001b[0m\u001b[1m \u001b[0m┃\u001b[1m \u001b[0m\u001b[1mOutput Shape          \u001b[0m\u001b[1m \u001b[0m┃\u001b[1m \u001b[0m\u001b[1m      Param #\u001b[0m\u001b[1m \u001b[0m┃\n",
              "┡━━━━━━━━━━━━━━━━━━━━━━━━━━━━━━━━━╇━━━━━━━━━━━━━━━━━━━━━━━━╇━━━━━━━━━━━━━━━┩\n",
              "│ Input_Layer (\u001b[38;5;33mInputLayer\u001b[0m)        │ (\u001b[38;5;45mNone\u001b[0m, \u001b[38;5;34m224\u001b[0m, \u001b[38;5;34m224\u001b[0m, \u001b[38;5;34m3\u001b[0m)    │             \u001b[38;5;34m0\u001b[0m │\n",
              "├─────────────────────────────────┼────────────────────────┼───────────────┤\n",
              "│ efficientnetb0 (\u001b[38;5;33mFunctional\u001b[0m)     │ (\u001b[38;5;45mNone\u001b[0m, \u001b[38;5;34m7\u001b[0m, \u001b[38;5;34m7\u001b[0m, \u001b[38;5;34m1280\u001b[0m)     │     \u001b[38;5;34m4,049,571\u001b[0m │\n",
              "├─────────────────────────────────┼────────────────────────┼───────────────┤\n",
              "│ Global_average_pooling_layer    │ (\u001b[38;5;45mNone\u001b[0m, \u001b[38;5;34m1280\u001b[0m)           │             \u001b[38;5;34m0\u001b[0m │\n",
              "│ (\u001b[38;5;33mGlobalAveragePooling2D\u001b[0m)        │                        │               │\n",
              "├─────────────────────────────────┼────────────────────────┼───────────────┤\n",
              "│ dense_3 (\u001b[38;5;33mDense\u001b[0m)                 │ (\u001b[38;5;45mNone\u001b[0m, \u001b[38;5;34m10\u001b[0m)             │        \u001b[38;5;34m12,810\u001b[0m │\n",
              "└─────────────────────────────────┴────────────────────────┴───────────────┘\n"
            ],
            "text/html": [
              "<pre style=\"white-space:pre;overflow-x:auto;line-height:normal;font-family:Menlo,'DejaVu Sans Mono',consolas,'Courier New',monospace\">┏━━━━━━━━━━━━━━━━━━━━━━━━━━━━━━━━━┳━━━━━━━━━━━━━━━━━━━━━━━━┳━━━━━━━━━━━━━━━┓\n",
              "┃<span style=\"font-weight: bold\"> Layer (type)                    </span>┃<span style=\"font-weight: bold\"> Output Shape           </span>┃<span style=\"font-weight: bold\">       Param # </span>┃\n",
              "┡━━━━━━━━━━━━━━━━━━━━━━━━━━━━━━━━━╇━━━━━━━━━━━━━━━━━━━━━━━━╇━━━━━━━━━━━━━━━┩\n",
              "│ Input_Layer (<span style=\"color: #0087ff; text-decoration-color: #0087ff\">InputLayer</span>)        │ (<span style=\"color: #00d7ff; text-decoration-color: #00d7ff\">None</span>, <span style=\"color: #00af00; text-decoration-color: #00af00\">224</span>, <span style=\"color: #00af00; text-decoration-color: #00af00\">224</span>, <span style=\"color: #00af00; text-decoration-color: #00af00\">3</span>)    │             <span style=\"color: #00af00; text-decoration-color: #00af00\">0</span> │\n",
              "├─────────────────────────────────┼────────────────────────┼───────────────┤\n",
              "│ efficientnetb0 (<span style=\"color: #0087ff; text-decoration-color: #0087ff\">Functional</span>)     │ (<span style=\"color: #00d7ff; text-decoration-color: #00d7ff\">None</span>, <span style=\"color: #00af00; text-decoration-color: #00af00\">7</span>, <span style=\"color: #00af00; text-decoration-color: #00af00\">7</span>, <span style=\"color: #00af00; text-decoration-color: #00af00\">1280</span>)     │     <span style=\"color: #00af00; text-decoration-color: #00af00\">4,049,571</span> │\n",
              "├─────────────────────────────────┼────────────────────────┼───────────────┤\n",
              "│ Global_average_pooling_layer    │ (<span style=\"color: #00d7ff; text-decoration-color: #00d7ff\">None</span>, <span style=\"color: #00af00; text-decoration-color: #00af00\">1280</span>)           │             <span style=\"color: #00af00; text-decoration-color: #00af00\">0</span> │\n",
              "│ (<span style=\"color: #0087ff; text-decoration-color: #0087ff\">GlobalAveragePooling2D</span>)        │                        │               │\n",
              "├─────────────────────────────────┼────────────────────────┼───────────────┤\n",
              "│ dense_3 (<span style=\"color: #0087ff; text-decoration-color: #0087ff\">Dense</span>)                 │ (<span style=\"color: #00d7ff; text-decoration-color: #00d7ff\">None</span>, <span style=\"color: #00af00; text-decoration-color: #00af00\">10</span>)             │        <span style=\"color: #00af00; text-decoration-color: #00af00\">12,810</span> │\n",
              "└─────────────────────────────────┴────────────────────────┴───────────────┘\n",
              "</pre>\n"
            ]
          },
          "metadata": {}
        },
        {
          "output_type": "display_data",
          "data": {
            "text/plain": [
              "\u001b[1m Total params: \u001b[0m\u001b[38;5;34m4,088,003\u001b[0m (15.59 MB)\n"
            ],
            "text/html": [
              "<pre style=\"white-space:pre;overflow-x:auto;line-height:normal;font-family:Menlo,'DejaVu Sans Mono',consolas,'Courier New',monospace\"><span style=\"font-weight: bold\"> Total params: </span><span style=\"color: #00af00; text-decoration-color: #00af00\">4,088,003</span> (15.59 MB)\n",
              "</pre>\n"
            ]
          },
          "metadata": {}
        },
        {
          "output_type": "display_data",
          "data": {
            "text/plain": [
              "\u001b[1m Trainable params: \u001b[0m\u001b[38;5;34m12,810\u001b[0m (50.04 KB)\n"
            ],
            "text/html": [
              "<pre style=\"white-space:pre;overflow-x:auto;line-height:normal;font-family:Menlo,'DejaVu Sans Mono',consolas,'Courier New',monospace\"><span style=\"font-weight: bold\"> Trainable params: </span><span style=\"color: #00af00; text-decoration-color: #00af00\">12,810</span> (50.04 KB)\n",
              "</pre>\n"
            ]
          },
          "metadata": {}
        },
        {
          "output_type": "display_data",
          "data": {
            "text/plain": [
              "\u001b[1m Non-trainable params: \u001b[0m\u001b[38;5;34m4,049,571\u001b[0m (15.45 MB)\n"
            ],
            "text/html": [
              "<pre style=\"white-space:pre;overflow-x:auto;line-height:normal;font-family:Menlo,'DejaVu Sans Mono',consolas,'Courier New',monospace\"><span style=\"font-weight: bold\"> Non-trainable params: </span><span style=\"color: #00af00; text-decoration-color: #00af00\">4,049,571</span> (15.45 MB)\n",
              "</pre>\n"
            ]
          },
          "metadata": {}
        },
        {
          "output_type": "display_data",
          "data": {
            "text/plain": [
              "\u001b[1m Optimizer params: \u001b[0m\u001b[38;5;34m25,622\u001b[0m (100.09 KB)\n"
            ],
            "text/html": [
              "<pre style=\"white-space:pre;overflow-x:auto;line-height:normal;font-family:Menlo,'DejaVu Sans Mono',consolas,'Courier New',monospace\"><span style=\"font-weight: bold\"> Optimizer params: </span><span style=\"color: #00af00; text-decoration-color: #00af00\">25,622</span> (100.09 KB)\n",
              "</pre>\n"
            ]
          },
          "metadata": {}
        }
      ]
    },
    {
      "cell_type": "code",
      "source": [
        "# plot loss curves\n",
        "plot_loss_curves(history_10_percent)"
      ],
      "metadata": {
        "colab": {
          "base_uri": "https://localhost:8080/",
          "height": 927
        },
        "id": "PYGdE4ZPMtYN",
        "outputId": "cd1c643c-c13f-47d8-da08-88306e07b935"
      },
      "execution_count": 57,
      "outputs": [
        {
          "output_type": "display_data",
          "data": {
            "text/plain": [
              "<Figure size 640x480 with 1 Axes>"
            ],
            "image/png": "[encoded data removed]"
          },
          "metadata": {}
        },
        {
          "output_type": "display_data",
          "data": {
            "text/plain": [
              "<Figure size 640x480 with 1 Axes>"
            ],
            "image/png": "[encoded data removed]"
          },
          "metadata": {}
        }
      ]
    },
    {
      "cell_type": "code",
      "source": [
        "# creating a another model now\n",
        "base_model_1=tf.keras.applications.EfficientNetB7(include_top=False)\n",
        "base_model_1.trainable=False\n",
        "inputs=tf.keras.layers.Input(shape=(224,224,3))\n",
        "# x=tf.keras.layers.Rescaling(1./255)(inputs)\n",
        "x=base_model_1(inputs)\n",
        "x=tf.keras.layers.GlobalAvgPool2D(name='gloabal_avg_pool')(x)\n",
        "outputs=tf.keras.layers.Dense(10,activation='softmax')(x)"
      ],
      "metadata": {
        "id": "ZkRYjda5M5yS"
      },
      "execution_count": 59,
      "outputs": []
    },
    {
      "cell_type": "code",
      "source": [
        "model_1=tf.keras.Model(inputs,outputs)\n",
        "model_1.compile(loss=tf.keras.losses.CategoricalCrossentropy(),\n",
        "                optimizer='adam',\n",
        "                metrics=['accuracy'])\n",
        "history_model_1_b7=model_1.fit(train_data_10_percent,epochs=5,steps_per_epoch=len(train_data_10_percent),validation_data=test_data,validation_steps=len(test_data),\n",
        "                               callbacks=[create_tensorboard_callback(dir_name='transfer_learning',experiment_name='efficemt_net_b7')])"
      ],
      "metadata": {
        "colab": {
          "base_uri": "https://localhost:8080/"
        },
        "id": "P3RYdHmlOKfr",
        "outputId": "717ad566-747f-49a1-9cb3-748805a31ca9"
      },
      "execution_count": 64,
      "outputs": [
        {
          "output_type": "stream",
          "name": "stdout",
          "text": [
            "Saving TensorBoard log files to: transfer_learning/efficemt_net_b7/20250919-043036\n",
            "Epoch 1/5\n",
            "\u001b[1m24/24\u001b[0m \u001b[32m━━━━━━━━━━━━━━━━━━━━\u001b[0m\u001b[37m\u001b[0m \u001b[1m228s\u001b[0m 6s/step - accuracy: 0.3536 - loss: 1.9511 - val_accuracy: 0.7868 - val_loss: 0.9898\n",
            "Epoch 2/5\n",
            "\u001b[1m24/24\u001b[0m \u001b[32m━━━━━━━━━━━━━━━━━━━━\u001b[0m\u001b[37m\u001b[0m \u001b[1m32s\u001b[0m 1s/step - accuracy: 0.8167 - loss: 0.9047 - val_accuracy: 0.8388 - val_loss: 0.6775\n",
            "Epoch 3/5\n",
            "\u001b[1m24/24\u001b[0m \u001b[32m━━━━━━━━━━━━━━━━━━━━\u001b[0m\u001b[37m\u001b[0m \u001b[1m27s\u001b[0m 1s/step - accuracy: 0.8534 - loss: 0.6326 - val_accuracy: 0.8520 - val_loss: 0.5832\n",
            "Epoch 4/5\n",
            "\u001b[1m24/24\u001b[0m \u001b[32m━━━━━━━━━━━━━━━━━━━━\u001b[0m\u001b[37m\u001b[0m \u001b[1m38s\u001b[0m 1s/step - accuracy: 0.8886 - loss: 0.5438 - val_accuracy: 0.8588 - val_loss: 0.5310\n",
            "Epoch 5/5\n",
            "\u001b[1m24/24\u001b[0m \u001b[32m━━━━━━━━━━━━━━━━━━━━\u001b[0m\u001b[37m\u001b[0m \u001b[1m26s\u001b[0m 1s/step - accuracy: 0.8845 - loss: 0.4504 - val_accuracy: 0.8572 - val_loss: 0.5011\n"
          ]
        }
      ]
    },
    {
      "cell_type": "code",
      "source": [],
      "metadata": {
        "id": "F56L7zDEQrjO"
      },
      "execution_count": null,
      "outputs": []
    }
  ]
}