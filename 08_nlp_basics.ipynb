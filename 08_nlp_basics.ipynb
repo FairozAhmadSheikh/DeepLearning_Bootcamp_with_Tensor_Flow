{
  "cells": [
    {
      "cell_type": "markdown",
      "metadata": {
        "id": "view-in-github",
        "colab_type": "text"
      },
      "source": [
        "<a href=\"https://colab.research.google.com/github/FairozAhmadSheikh/DeepLearning_Bootcamp_with_Tensor_Flow/blob/main/08_nlp_basics.ipynb\" target=\"_parent\"><img src=\"https://colab.research.google.com/assets/colab-badge.svg\" alt=\"Open In Colab\"/></a>"
      ]
    },
    {
      "cell_type": "code",
      "execution_count": 1,
      "id": "79bebad2",
      "metadata": {
        "colab": {
          "base_uri": "https://localhost:8080/"
        },
        "id": "79bebad2",
        "outputId": "afaed7e5-2d1a-4093-b7f4-9249ac7f33e7"
      },
      "outputs": [
        {
          "output_type": "stream",
          "name": "stdout",
          "text": [
            "--2025-10-26 05:11:21--  https://raw.githubusercontent.com/FairozAhmadSheikh/DeepLearning_Bootcamp_with_Tensor_Flow/refs/heads/main/helper_functions/helper_functions.py\n",
            "Resolving raw.githubusercontent.com (raw.githubusercontent.com)... 185.199.110.133, 185.199.108.133, 185.199.109.133, ...\n",
            "Connecting to raw.githubusercontent.com (raw.githubusercontent.com)|185.199.110.133|:443... connected.\n",
            "HTTP request sent, awaiting response... 200 OK\n",
            "Length: 6733 (6.6K) [text/plain]\n",
            "Saving to: ‘helper_functions.py’\n",
            "\n",
            "helper_functions.py 100%[===================>]   6.58K  --.-KB/s    in 0s      \n",
            "\n",
            "2025-10-26 05:11:22 (88.1 MB/s) - ‘helper_functions.py’ saved [6733/6733]\n",
            "\n"
          ]
        }
      ],
      "source": [
        "!wget https://raw.githubusercontent.com/FairozAhmadSheikh/DeepLearning_Bootcamp_with_Tensor_Flow/refs/heads/main/helper_functions/helper_functions.py"
      ]
    },
    {
      "cell_type": "code",
      "source": [
        "from helper_functions import unzip_data,plot_loss_curves,compare_historys,create_tensorboard_callback"
      ],
      "metadata": {
        "id": "q1kydqFNoI4r"
      },
      "id": "q1kydqFNoI4r",
      "execution_count": 2,
      "outputs": []
    },
    {
      "cell_type": "code",
      "source": [
        "# Get the Dataset from kaggle NLP with Disaster Tweets\n",
        "!wget https://storage.googleapis.com/ztm_tf_course/nlp_getting_started.zip"
      ],
      "metadata": {
        "colab": {
          "base_uri": "https://localhost:8080/"
        },
        "id": "2DCyKa_jobwa",
        "outputId": "a60096a8-4dd2-424d-ba26-2ed807c9f083"
      },
      "id": "2DCyKa_jobwa",
      "execution_count": 3,
      "outputs": [
        {
          "output_type": "stream",
          "name": "stdout",
          "text": [
            "--2025-10-26 05:11:26--  https://storage.googleapis.com/ztm_tf_course/nlp_getting_started.zip\n",
            "Resolving storage.googleapis.com (storage.googleapis.com)... 64.233.170.207, 74.125.200.207, 74.125.130.207, ...\n",
            "Connecting to storage.googleapis.com (storage.googleapis.com)|64.233.170.207|:443... connected.\n",
            "HTTP request sent, awaiting response... 200 OK\n",
            "Length: 607343 (593K) [application/zip]\n",
            "Saving to: ‘nlp_getting_started.zip’\n",
            "\n",
            "nlp_getting_started 100%[===================>] 593.11K   726KB/s    in 0.8s    \n",
            "\n",
            "2025-10-26 05:11:27 (726 KB/s) - ‘nlp_getting_started.zip’ saved [607343/607343]\n",
            "\n"
          ]
        }
      ]
    },
    {
      "cell_type": "code",
      "source": [
        "unzip_data(\"nlp_getting_started.zip\")"
      ],
      "metadata": {
        "id": "9T83aIBFovEb"
      },
      "id": "9T83aIBFovEb",
      "execution_count": 4,
      "outputs": []
    },
    {
      "cell_type": "code",
      "source": [
        "# Become One with Dataset (Visualize)\n",
        "import pandas as pd\n",
        "train_df=pd.read_csv('train.csv')\n",
        "test_df=pd.read_csv('test.csv')\n",
        "train_df.head()"
      ],
      "metadata": {
        "colab": {
          "base_uri": "https://localhost:8080/",
          "height": 206
        },
        "id": "ruf8rF-Lpafz",
        "outputId": "beeb54e4-2030-4e29-a97b-07352bf78ab9"
      },
      "id": "ruf8rF-Lpafz",
      "execution_count": 5,
      "outputs": [
        {
          "output_type": "execute_result",
          "data": {
            "text/plain": [
              "   id keyword location                                               text  \\\n",
              "0   1     NaN      NaN  Our Deeds are the Reason of this #earthquake M...   \n",
              "1   4     NaN      NaN             Forest fire near La Ronge Sask. Canada   \n",
              "2   5     NaN      NaN  All residents asked to 'shelter in place' are ...   \n",
              "3   6     NaN      NaN  13,000 people receive #wildfires evacuation or...   \n",
              "4   7     NaN      NaN  Just got sent this photo from Ruby #Alaska as ...   \n",
              "\n",
              "   target  \n",
              "0       1  \n",
              "1       1  \n",
              "2       1  \n",
              "3       1  \n",
              "4       1  "
            ],
            "text/html": [
              "\n",
              "  <div id=\"df-c88ce3e1-b87f-4e5b-bc63-4347c5478ab4\" class=\"colab-df-container\">\n",
              "    <div>\n",
              "<style scoped>\n",
              "    .dataframe tbody tr th:only-of-type {\n",
              "        vertical-align: middle;\n",
              "    }\n",
              "\n",
              "    .dataframe tbody tr th {\n",
              "        vertical-align: top;\n",
              "    }\n",
              "\n",
              "    .dataframe thead th {\n",
              "        text-align: right;\n",
              "    }\n",
              "</style>\n",
              "<table border=\"1\" class=\"dataframe\">\n",
              "  <thead>\n",
              "    <tr style=\"text-align: right;\">\n",
              "      <th></th>\n",
              "      <th>id</th>\n",
              "      <th>keyword</th>\n",
              "      <th>location</th>\n",
              "      <th>text</th>\n",
              "      <th>target</th>\n",
              "    </tr>\n",
              "  </thead>\n",
              "  <tbody>\n",
              "    <tr>\n",
              "      <th>0</th>\n",
              "      <td>1</td>\n",
              "      <td>NaN</td>\n",
              "      <td>NaN</td>\n",
              "      <td>Our Deeds are the Reason of this #earthquake M...</td>\n",
              "      <td>1</td>\n",
              "    </tr>\n",
              "    <tr>\n",
              "      <th>1</th>\n",
              "      <td>4</td>\n",
              "      <td>NaN</td>\n",
              "      <td>NaN</td>\n",
              "      <td>Forest fire near La Ronge Sask. Canada</td>\n",
              "      <td>1</td>\n",
              "    </tr>\n",
              "    <tr>\n",
              "      <th>2</th>\n",
              "      <td>5</td>\n",
              "      <td>NaN</td>\n",
              "      <td>NaN</td>\n",
              "      <td>All residents asked to 'shelter in place' are ...</td>\n",
              "      <td>1</td>\n",
              "    </tr>\n",
              "    <tr>\n",
              "      <th>3</th>\n",
              "      <td>6</td>\n",
              "      <td>NaN</td>\n",
              "      <td>NaN</td>\n",
              "      <td>13,000 people receive #wildfires evacuation or...</td>\n",
              "      <td>1</td>\n",
              "    </tr>\n",
              "    <tr>\n",
              "      <th>4</th>\n",
              "      <td>7</td>\n",
              "      <td>NaN</td>\n",
              "      <td>NaN</td>\n",
              "      <td>Just got sent this photo from Ruby #Alaska as ...</td>\n",
              "      <td>1</td>\n",
              "    </tr>\n",
              "  </tbody>\n",
              "</table>\n",
              "</div>\n",
              "    <div class=\"colab-df-buttons\">\n",
              "\n",
              "  <div class=\"colab-df-container\">\n",
              "    <button class=\"colab-df-convert\" onclick=\"convertToInteractive('df-c88ce3e1-b87f-4e5b-bc63-4347c5478ab4')\"\n",
              "            title=\"Convert this dataframe to an interactive table.\"\n",
              "            style=\"display:none;\">\n",
              "\n",
              "  <svg xmlns=\"http://www.w3.org/2000/svg\" height=\"24px\" viewBox=\"0 -960 960 960\">\n",
              "    <path d=\"M120-120v-720h720v720H120Zm60-500h600v-160H180v160Zm220 220h160v-160H400v160Zm0 220h160v-160H400v160ZM180-400h160v-160H180v160Zm440 0h160v-160H620v160ZM180-180h160v-160H180v160Zm440 0h160v-160H620v160Z\"/>\n",
              "  </svg>\n",
              "    </button>\n",
              "\n",
              "  <style>\n",
              "    .colab-df-container {\n",
              "      display:flex;\n",
              "      gap: 12px;\n",
              "    }\n",
              "\n",
              "    .colab-df-convert {\n",
              "      background-color: #E8F0FE;\n",
              "      border: none;\n",
              "      border-radius: 50%;\n",
              "      cursor: pointer;\n",
              "      display: none;\n",
              "      fill: #1967D2;\n",
              "      height: 32px;\n",
              "      padding: 0 0 0 0;\n",
              "      width: 32px;\n",
              "    }\n",
              "\n",
              "    .colab-df-convert:hover {\n",
              "      background-color: #E2EBFA;\n",
              "      box-shadow: 0px 1px 2px rgba(60, 64, 67, 0.3), 0px 1px 3px 1px rgba(60, 64, 67, 0.15);\n",
              "      fill: #174EA6;\n",
              "    }\n",
              "\n",
              "    .colab-df-buttons div {\n",
              "      margin-bottom: 4px;\n",
              "    }\n",
              "\n",
              "    [theme=dark] .colab-df-convert {\n",
              "      background-color: #3B4455;\n",
              "      fill: #D2E3FC;\n",
              "    }\n",
              "\n",
              "    [theme=dark] .colab-df-convert:hover {\n",
              "      background-color: #434B5C;\n",
              "      box-shadow: 0px 1px 3px 1px rgba(0, 0, 0, 0.15);\n",
              "      filter: drop-shadow(0px 1px 2px rgba(0, 0, 0, 0.3));\n",
              "      fill: #FFFFFF;\n",
              "    }\n",
              "  </style>\n",
              "\n",
              "    <script>\n",
              "      const buttonEl =\n",
              "        document.querySelector('#df-c88ce3e1-b87f-4e5b-bc63-4347c5478ab4 button.colab-df-convert');\n",
              "      buttonEl.style.display =\n",
              "        google.colab.kernel.accessAllowed ? 'block' : 'none';\n",
              "\n",
              "      async function convertToInteractive(key) {\n",
              "        const element = document.querySelector('#df-c88ce3e1-b87f-4e5b-bc63-4347c5478ab4');\n",
              "        const dataTable =\n",
              "          await google.colab.kernel.invokeFunction('convertToInteractive',\n",
              "                                                    [key], {});\n",
              "        if (!dataTable) return;\n",
              "\n",
              "        const docLinkHtml = 'Like what you see? Visit the ' +\n",
              "          '<a target=\"_blank\" href=https://colab.research.google.com/notebooks/data_table.ipynb>data table notebook</a>'\n",
              "          + ' to learn more about interactive tables.';\n",
              "        element.innerHTML = '';\n",
              "        dataTable['output_type'] = 'display_data';\n",
              "        await google.colab.output.renderOutput(dataTable, element);\n",
              "        const docLink = document.createElement('div');\n",
              "        docLink.innerHTML = docLinkHtml;\n",
              "        element.appendChild(docLink);\n",
              "      }\n",
              "    </script>\n",
              "  </div>\n",
              "\n",
              "\n",
              "    <div id=\"df-0592a0c4-bf73-487d-a0fa-f62c2a86626c\">\n",
              "      <button class=\"colab-df-quickchart\" onclick=\"quickchart('df-0592a0c4-bf73-487d-a0fa-f62c2a86626c')\"\n",
              "                title=\"Suggest charts\"\n",
              "                style=\"display:none;\">\n",
              "\n",
              "<svg xmlns=\"http://www.w3.org/2000/svg\" height=\"24px\"viewBox=\"0 0 24 24\"\n",
              "     width=\"24px\">\n",
              "    <g>\n",
              "        <path d=\"M19 3H5c-1.1 0-2 .9-2 2v14c0 1.1.9 2 2 2h14c1.1 0 2-.9 2-2V5c0-1.1-.9-2-2-2zM9 17H7v-7h2v7zm4 0h-2V7h2v10zm4 0h-2v-4h2v4z\"/>\n",
              "    </g>\n",
              "</svg>\n",
              "      </button>\n",
              "\n",
              "<style>\n",
              "  .colab-df-quickchart {\n",
              "      --bg-color: #E8F0FE;\n",
              "      --fill-color: #1967D2;\n",
              "      --hover-bg-color: #E2EBFA;\n",
              "      --hover-fill-color: #174EA6;\n",
              "      --disabled-fill-color: #AAA;\n",
              "      --disabled-bg-color: #DDD;\n",
              "  }\n",
              "\n",
              "  [theme=dark] .colab-df-quickchart {\n",
              "      --bg-color: #3B4455;\n",
              "      --fill-color: #D2E3FC;\n",
              "      --hover-bg-color: #434B5C;\n",
              "      --hover-fill-color: #FFFFFF;\n",
              "      --disabled-bg-color: #3B4455;\n",
              "      --disabled-fill-color: #666;\n",
              "  }\n",
              "\n",
              "  .colab-df-quickchart {\n",
              "    background-color: var(--bg-color);\n",
              "    border: none;\n",
              "    border-radius: 50%;\n",
              "    cursor: pointer;\n",
              "    display: none;\n",
              "    fill: var(--fill-color);\n",
              "    height: 32px;\n",
              "    padding: 0;\n",
              "    width: 32px;\n",
              "  }\n",
              "\n",
              "  .colab-df-quickchart:hover {\n",
              "    background-color: var(--hover-bg-color);\n",
              "    box-shadow: 0 1px 2px rgba(60, 64, 67, 0.3), 0 1px 3px 1px rgba(60, 64, 67, 0.15);\n",
              "    fill: var(--button-hover-fill-color);\n",
              "  }\n",
              "\n",
              "  .colab-df-quickchart-complete:disabled,\n",
              "  .colab-df-quickchart-complete:disabled:hover {\n",
              "    background-color: var(--disabled-bg-color);\n",
              "    fill: var(--disabled-fill-color);\n",
              "    box-shadow: none;\n",
              "  }\n",
              "\n",
              "  .colab-df-spinner {\n",
              "    border: 2px solid var(--fill-color);\n",
              "    border-color: transparent;\n",
              "    border-bottom-color: var(--fill-color);\n",
              "    animation:\n",
              "      spin 1s steps(1) infinite;\n",
              "  }\n",
              "\n",
              "  @keyframes spin {\n",
              "    0% {\n",
              "      border-color: transparent;\n",
              "      border-bottom-color: var(--fill-color);\n",
              "      border-left-color: var(--fill-color);\n",
              "    }\n",
              "    20% {\n",
              "      border-color: transparent;\n",
              "      border-left-color: var(--fill-color);\n",
              "      border-top-color: var(--fill-color);\n",
              "    }\n",
              "    30% {\n",
              "      border-color: transparent;\n",
              "      border-left-color: var(--fill-color);\n",
              "      border-top-color: var(--fill-color);\n",
              "      border-right-color: var(--fill-color);\n",
              "    }\n",
              "    40% {\n",
              "      border-color: transparent;\n",
              "      border-right-color: var(--fill-color);\n",
              "      border-top-color: var(--fill-color);\n",
              "    }\n",
              "    60% {\n",
              "      border-color: transparent;\n",
              "      border-right-color: var(--fill-color);\n",
              "    }\n",
              "    80% {\n",
              "      border-color: transparent;\n",
              "      border-right-color: var(--fill-color);\n",
              "      border-bottom-color: var(--fill-color);\n",
              "    }\n",
              "    90% {\n",
              "      border-color: transparent;\n",
              "      border-bottom-color: var(--fill-color);\n",
              "    }\n",
              "  }\n",
              "</style>\n",
              "\n",
              "      <script>\n",
              "        async function quickchart(key) {\n",
              "          const quickchartButtonEl =\n",
              "            document.querySelector('#' + key + ' button');\n",
              "          quickchartButtonEl.disabled = true;  // To prevent multiple clicks.\n",
              "          quickchartButtonEl.classList.add('colab-df-spinner');\n",
              "          try {\n",
              "            const charts = await google.colab.kernel.invokeFunction(\n",
              "                'suggestCharts', [key], {});\n",
              "          } catch (error) {\n",
              "            console.error('Error during call to suggestCharts:', error);\n",
              "          }\n",
              "          quickchartButtonEl.classList.remove('colab-df-spinner');\n",
              "          quickchartButtonEl.classList.add('colab-df-quickchart-complete');\n",
              "        }\n",
              "        (() => {\n",
              "          let quickchartButtonEl =\n",
              "            document.querySelector('#df-0592a0c4-bf73-487d-a0fa-f62c2a86626c button');\n",
              "          quickchartButtonEl.style.display =\n",
              "            google.colab.kernel.accessAllowed ? 'block' : 'none';\n",
              "        })();\n",
              "      </script>\n",
              "    </div>\n",
              "\n",
              "    </div>\n",
              "  </div>\n"
            ],
            "application/vnd.google.colaboratory.intrinsic+json": {
              "type": "dataframe",
              "variable_name": "train_df",
              "summary": "{\n  \"name\": \"train_df\",\n  \"rows\": 7613,\n  \"fields\": [\n    {\n      \"column\": \"id\",\n      \"properties\": {\n        \"dtype\": \"number\",\n        \"std\": 3137,\n        \"min\": 1,\n        \"max\": 10873,\n        \"num_unique_values\": 7613,\n        \"samples\": [\n          3796,\n          3185,\n          7769\n        ],\n        \"semantic_type\": \"\",\n        \"description\": \"\"\n      }\n    },\n    {\n      \"column\": \"keyword\",\n      \"properties\": {\n        \"dtype\": \"category\",\n        \"num_unique_values\": 221,\n        \"samples\": [\n          \"injury\",\n          \"nuclear%20reactor\",\n          \"engulfed\"\n        ],\n        \"semantic_type\": \"\",\n        \"description\": \"\"\n      }\n    },\n    {\n      \"column\": \"location\",\n      \"properties\": {\n        \"dtype\": \"category\",\n        \"num_unique_values\": 3341,\n        \"samples\": [\n          \"Oklahoma\",\n          \"Starling City\",\n          \"Trinidad and Tobago\"\n        ],\n        \"semantic_type\": \"\",\n        \"description\": \"\"\n      }\n    },\n    {\n      \"column\": \"text\",\n      \"properties\": {\n        \"dtype\": \"string\",\n        \"num_unique_values\": 7503,\n        \"samples\": [\n          \"Three Homes Demolished in Unrecognized Arab Village - International Middle East Media Center http://t.co/ik8m4Yi9T4\",\n          \"Reid Lake fire prompts campground evacuation order http://t.co/jBODKM6rBU\",\n          \"FAAN orders evacuation of abandoned aircraft at MMA http://t.co/dEvYbnVXGQ via @todayng\"\n        ],\n        \"semantic_type\": \"\",\n        \"description\": \"\"\n      }\n    },\n    {\n      \"column\": \"target\",\n      \"properties\": {\n        \"dtype\": \"number\",\n        \"std\": 0,\n        \"min\": 0,\n        \"max\": 1,\n        \"num_unique_values\": 2,\n        \"samples\": [\n          0,\n          1\n        ],\n        \"semantic_type\": \"\",\n        \"description\": \"\"\n      }\n    }\n  ]\n}"
            }
          },
          "metadata": {},
          "execution_count": 5
        }
      ]
    },
    {
      "cell_type": "code",
      "source": [
        "train_df['text'][1]"
      ],
      "metadata": {
        "colab": {
          "base_uri": "https://localhost:8080/",
          "height": 35
        },
        "id": "M2gAI_KPptCk",
        "outputId": "4b1557e7-d030-4ca9-b57a-ac0932c44214"
      },
      "id": "M2gAI_KPptCk",
      "execution_count": 6,
      "outputs": [
        {
          "output_type": "execute_result",
          "data": {
            "text/plain": [
              "'Forest fire near La Ronge Sask. Canada'"
            ],
            "application/vnd.google.colaboratory.intrinsic+json": {
              "type": "string"
            }
          },
          "metadata": {},
          "execution_count": 6
        }
      ]
    },
    {
      "cell_type": "code",
      "source": [
        "train_df['text'][0]"
      ],
      "metadata": {
        "colab": {
          "base_uri": "https://localhost:8080/",
          "height": 35
        },
        "id": "B3Hua_hrp-U9",
        "outputId": "df236d75-50f1-4740-bd83-929b993d47f4"
      },
      "id": "B3Hua_hrp-U9",
      "execution_count": 7,
      "outputs": [
        {
          "output_type": "execute_result",
          "data": {
            "text/plain": [
              "'Our Deeds are the Reason of this #earthquake May ALLAH Forgive us all'"
            ],
            "application/vnd.google.colaboratory.intrinsic+json": {
              "type": "string"
            }
          },
          "metadata": {},
          "execution_count": 7
        }
      ]
    },
    {
      "cell_type": "code",
      "source": [
        "# Shuffle Dataset\n",
        "train_df_shuffled=train_df.sample(frac=1,random_state=42)\n",
        "train_df_shuffled.head()\n"
      ],
      "metadata": {
        "colab": {
          "base_uri": "https://localhost:8080/",
          "height": 206
        },
        "id": "R7s7Cm_uqMbN",
        "outputId": "f21b5364-0ef9-440a-d3de-45249108334f"
      },
      "id": "R7s7Cm_uqMbN",
      "execution_count": 8,
      "outputs": [
        {
          "output_type": "execute_result",
          "data": {
            "text/plain": [
              "        id      keyword               location  \\\n",
              "2644  3796  destruction                    NaN   \n",
              "2227  3185       deluge                    NaN   \n",
              "5448  7769       police                     UK   \n",
              "132    191   aftershock                    NaN   \n",
              "6845  9810       trauma  Montgomery County, MD   \n",
              "\n",
              "                                                   text  target  \n",
              "2644  So you have a new weapon that can cause un-ima...       1  \n",
              "2227  The f$&amp;@ing things I do for #GISHWHES Just...       0  \n",
              "5448  DT @georgegalloway: RT @Galloway4Mayor: ÛÏThe...       1  \n",
              "132   Aftershock back to school kick off was great. ...       0  \n",
              "6845  in response to trauma Children of Addicts deve...       0  "
            ],
            "text/html": [
              "\n",
              "  <div id=\"df-726165c8-b6bf-4139-84dd-201a87491941\" class=\"colab-df-container\">\n",
              "    <div>\n",
              "<style scoped>\n",
              "    .dataframe tbody tr th:only-of-type {\n",
              "        vertical-align: middle;\n",
              "    }\n",
              "\n",
              "    .dataframe tbody tr th {\n",
              "        vertical-align: top;\n",
              "    }\n",
              "\n",
              "    .dataframe thead th {\n",
              "        text-align: right;\n",
              "    }\n",
              "</style>\n",
              "<table border=\"1\" class=\"dataframe\">\n",
              "  <thead>\n",
              "    <tr style=\"text-align: right;\">\n",
              "      <th></th>\n",
              "      <th>id</th>\n",
              "      <th>keyword</th>\n",
              "      <th>location</th>\n",
              "      <th>text</th>\n",
              "      <th>target</th>\n",
              "    </tr>\n",
              "  </thead>\n",
              "  <tbody>\n",
              "    <tr>\n",
              "      <th>2644</th>\n",
              "      <td>3796</td>\n",
              "      <td>destruction</td>\n",
              "      <td>NaN</td>\n",
              "      <td>So you have a new weapon that can cause un-ima...</td>\n",
              "      <td>1</td>\n",
              "    </tr>\n",
              "    <tr>\n",
              "      <th>2227</th>\n",
              "      <td>3185</td>\n",
              "      <td>deluge</td>\n",
              "      <td>NaN</td>\n",
              "      <td>The f$&amp;amp;@ing things I do for #GISHWHES Just...</td>\n",
              "      <td>0</td>\n",
              "    </tr>\n",
              "    <tr>\n",
              "      <th>5448</th>\n",
              "      <td>7769</td>\n",
              "      <td>police</td>\n",
              "      <td>UK</td>\n",
              "      <td>DT @georgegalloway: RT @Galloway4Mayor: ÛÏThe...</td>\n",
              "      <td>1</td>\n",
              "    </tr>\n",
              "    <tr>\n",
              "      <th>132</th>\n",
              "      <td>191</td>\n",
              "      <td>aftershock</td>\n",
              "      <td>NaN</td>\n",
              "      <td>Aftershock back to school kick off was great. ...</td>\n",
              "      <td>0</td>\n",
              "    </tr>\n",
              "    <tr>\n",
              "      <th>6845</th>\n",
              "      <td>9810</td>\n",
              "      <td>trauma</td>\n",
              "      <td>Montgomery County, MD</td>\n",
              "      <td>in response to trauma Children of Addicts deve...</td>\n",
              "      <td>0</td>\n",
              "    </tr>\n",
              "  </tbody>\n",
              "</table>\n",
              "</div>\n",
              "    <div class=\"colab-df-buttons\">\n",
              "\n",
              "  <div class=\"colab-df-container\">\n",
              "    <button class=\"colab-df-convert\" onclick=\"convertToInteractive('df-726165c8-b6bf-4139-84dd-201a87491941')\"\n",
              "            title=\"Convert this dataframe to an interactive table.\"\n",
              "            style=\"display:none;\">\n",
              "\n",
              "  <svg xmlns=\"http://www.w3.org/2000/svg\" height=\"24px\" viewBox=\"0 -960 960 960\">\n",
              "    <path d=\"M120-120v-720h720v720H120Zm60-500h600v-160H180v160Zm220 220h160v-160H400v160Zm0 220h160v-160H400v160ZM180-400h160v-160H180v160Zm440 0h160v-160H620v160ZM180-180h160v-160H180v160Zm440 0h160v-160H620v160Z\"/>\n",
              "  </svg>\n",
              "    </button>\n",
              "\n",
              "  <style>\n",
              "    .colab-df-container {\n",
              "      display:flex;\n",
              "      gap: 12px;\n",
              "    }\n",
              "\n",
              "    .colab-df-convert {\n",
              "      background-color: #E8F0FE;\n",
              "      border: none;\n",
              "      border-radius: 50%;\n",
              "      cursor: pointer;\n",
              "      display: none;\n",
              "      fill: #1967D2;\n",
              "      height: 32px;\n",
              "      padding: 0 0 0 0;\n",
              "      width: 32px;\n",
              "    }\n",
              "\n",
              "    .colab-df-convert:hover {\n",
              "      background-color: #E2EBFA;\n",
              "      box-shadow: 0px 1px 2px rgba(60, 64, 67, 0.3), 0px 1px 3px 1px rgba(60, 64, 67, 0.15);\n",
              "      fill: #174EA6;\n",
              "    }\n",
              "\n",
              "    .colab-df-buttons div {\n",
              "      margin-bottom: 4px;\n",
              "    }\n",
              "\n",
              "    [theme=dark] .colab-df-convert {\n",
              "      background-color: #3B4455;\n",
              "      fill: #D2E3FC;\n",
              "    }\n",
              "\n",
              "    [theme=dark] .colab-df-convert:hover {\n",
              "      background-color: #434B5C;\n",
              "      box-shadow: 0px 1px 3px 1px rgba(0, 0, 0, 0.15);\n",
              "      filter: drop-shadow(0px 1px 2px rgba(0, 0, 0, 0.3));\n",
              "      fill: #FFFFFF;\n",
              "    }\n",
              "  </style>\n",
              "\n",
              "    <script>\n",
              "      const buttonEl =\n",
              "        document.querySelector('#df-726165c8-b6bf-4139-84dd-201a87491941 button.colab-df-convert');\n",
              "      buttonEl.style.display =\n",
              "        google.colab.kernel.accessAllowed ? 'block' : 'none';\n",
              "\n",
              "      async function convertToInteractive(key) {\n",
              "        const element = document.querySelector('#df-726165c8-b6bf-4139-84dd-201a87491941');\n",
              "        const dataTable =\n",
              "          await google.colab.kernel.invokeFunction('convertToInteractive',\n",
              "                                                    [key], {});\n",
              "        if (!dataTable) return;\n",
              "\n",
              "        const docLinkHtml = 'Like what you see? Visit the ' +\n",
              "          '<a target=\"_blank\" href=https://colab.research.google.com/notebooks/data_table.ipynb>data table notebook</a>'\n",
              "          + ' to learn more about interactive tables.';\n",
              "        element.innerHTML = '';\n",
              "        dataTable['output_type'] = 'display_data';\n",
              "        await google.colab.output.renderOutput(dataTable, element);\n",
              "        const docLink = document.createElement('div');\n",
              "        docLink.innerHTML = docLinkHtml;\n",
              "        element.appendChild(docLink);\n",
              "      }\n",
              "    </script>\n",
              "  </div>\n",
              "\n",
              "\n",
              "    <div id=\"df-903807ca-2eba-4196-a98e-3ef70c4f4721\">\n",
              "      <button class=\"colab-df-quickchart\" onclick=\"quickchart('df-903807ca-2eba-4196-a98e-3ef70c4f4721')\"\n",
              "                title=\"Suggest charts\"\n",
              "                style=\"display:none;\">\n",
              "\n",
              "<svg xmlns=\"http://www.w3.org/2000/svg\" height=\"24px\"viewBox=\"0 0 24 24\"\n",
              "     width=\"24px\">\n",
              "    <g>\n",
              "        <path d=\"M19 3H5c-1.1 0-2 .9-2 2v14c0 1.1.9 2 2 2h14c1.1 0 2-.9 2-2V5c0-1.1-.9-2-2-2zM9 17H7v-7h2v7zm4 0h-2V7h2v10zm4 0h-2v-4h2v4z\"/>\n",
              "    </g>\n",
              "</svg>\n",
              "      </button>\n",
              "\n",
              "<style>\n",
              "  .colab-df-quickchart {\n",
              "      --bg-color: #E8F0FE;\n",
              "      --fill-color: #1967D2;\n",
              "      --hover-bg-color: #E2EBFA;\n",
              "      --hover-fill-color: #174EA6;\n",
              "      --disabled-fill-color: #AAA;\n",
              "      --disabled-bg-color: #DDD;\n",
              "  }\n",
              "\n",
              "  [theme=dark] .colab-df-quickchart {\n",
              "      --bg-color: #3B4455;\n",
              "      --fill-color: #D2E3FC;\n",
              "      --hover-bg-color: #434B5C;\n",
              "      --hover-fill-color: #FFFFFF;\n",
              "      --disabled-bg-color: #3B4455;\n",
              "      --disabled-fill-color: #666;\n",
              "  }\n",
              "\n",
              "  .colab-df-quickchart {\n",
              "    background-color: var(--bg-color);\n",
              "    border: none;\n",
              "    border-radius: 50%;\n",
              "    cursor: pointer;\n",
              "    display: none;\n",
              "    fill: var(--fill-color);\n",
              "    height: 32px;\n",
              "    padding: 0;\n",
              "    width: 32px;\n",
              "  }\n",
              "\n",
              "  .colab-df-quickchart:hover {\n",
              "    background-color: var(--hover-bg-color);\n",
              "    box-shadow: 0 1px 2px rgba(60, 64, 67, 0.3), 0 1px 3px 1px rgba(60, 64, 67, 0.15);\n",
              "    fill: var(--button-hover-fill-color);\n",
              "  }\n",
              "\n",
              "  .colab-df-quickchart-complete:disabled,\n",
              "  .colab-df-quickchart-complete:disabled:hover {\n",
              "    background-color: var(--disabled-bg-color);\n",
              "    fill: var(--disabled-fill-color);\n",
              "    box-shadow: none;\n",
              "  }\n",
              "\n",
              "  .colab-df-spinner {\n",
              "    border: 2px solid var(--fill-color);\n",
              "    border-color: transparent;\n",
              "    border-bottom-color: var(--fill-color);\n",
              "    animation:\n",
              "      spin 1s steps(1) infinite;\n",
              "  }\n",
              "\n",
              "  @keyframes spin {\n",
              "    0% {\n",
              "      border-color: transparent;\n",
              "      border-bottom-color: var(--fill-color);\n",
              "      border-left-color: var(--fill-color);\n",
              "    }\n",
              "    20% {\n",
              "      border-color: transparent;\n",
              "      border-left-color: var(--fill-color);\n",
              "      border-top-color: var(--fill-color);\n",
              "    }\n",
              "    30% {\n",
              "      border-color: transparent;\n",
              "      border-left-color: var(--fill-color);\n",
              "      border-top-color: var(--fill-color);\n",
              "      border-right-color: var(--fill-color);\n",
              "    }\n",
              "    40% {\n",
              "      border-color: transparent;\n",
              "      border-right-color: var(--fill-color);\n",
              "      border-top-color: var(--fill-color);\n",
              "    }\n",
              "    60% {\n",
              "      border-color: transparent;\n",
              "      border-right-color: var(--fill-color);\n",
              "    }\n",
              "    80% {\n",
              "      border-color: transparent;\n",
              "      border-right-color: var(--fill-color);\n",
              "      border-bottom-color: var(--fill-color);\n",
              "    }\n",
              "    90% {\n",
              "      border-color: transparent;\n",
              "      border-bottom-color: var(--fill-color);\n",
              "    }\n",
              "  }\n",
              "</style>\n",
              "\n",
              "      <script>\n",
              "        async function quickchart(key) {\n",
              "          const quickchartButtonEl =\n",
              "            document.querySelector('#' + key + ' button');\n",
              "          quickchartButtonEl.disabled = true;  // To prevent multiple clicks.\n",
              "          quickchartButtonEl.classList.add('colab-df-spinner');\n",
              "          try {\n",
              "            const charts = await google.colab.kernel.invokeFunction(\n",
              "                'suggestCharts', [key], {});\n",
              "          } catch (error) {\n",
              "            console.error('Error during call to suggestCharts:', error);\n",
              "          }\n",
              "          quickchartButtonEl.classList.remove('colab-df-spinner');\n",
              "          quickchartButtonEl.classList.add('colab-df-quickchart-complete');\n",
              "        }\n",
              "        (() => {\n",
              "          let quickchartButtonEl =\n",
              "            document.querySelector('#df-903807ca-2eba-4196-a98e-3ef70c4f4721 button');\n",
              "          quickchartButtonEl.style.display =\n",
              "            google.colab.kernel.accessAllowed ? 'block' : 'none';\n",
              "        })();\n",
              "      </script>\n",
              "    </div>\n",
              "\n",
              "    </div>\n",
              "  </div>\n"
            ],
            "application/vnd.google.colaboratory.intrinsic+json": {
              "type": "dataframe",
              "variable_name": "train_df_shuffled",
              "summary": "{\n  \"name\": \"train_df_shuffled\",\n  \"rows\": 7613,\n  \"fields\": [\n    {\n      \"column\": \"id\",\n      \"properties\": {\n        \"dtype\": \"number\",\n        \"std\": 3137,\n        \"min\": 1,\n        \"max\": 10873,\n        \"num_unique_values\": 7613,\n        \"samples\": [\n          7061,\n          843,\n          10603\n        ],\n        \"semantic_type\": \"\",\n        \"description\": \"\"\n      }\n    },\n    {\n      \"column\": \"keyword\",\n      \"properties\": {\n        \"dtype\": \"category\",\n        \"num_unique_values\": 221,\n        \"samples\": [\n          \"blazing\",\n          \"emergency\",\n          \"rescue\"\n        ],\n        \"semantic_type\": \"\",\n        \"description\": \"\"\n      }\n    },\n    {\n      \"column\": \"location\",\n      \"properties\": {\n        \"dtype\": \"category\",\n        \"num_unique_values\": 3341,\n        \"samples\": [\n          \"617-BTOWN-BEATDOWN\",\n          \"Newcastle Upon Tyne, England\",\n          \"Federal Capital Territory\"\n        ],\n        \"semantic_type\": \"\",\n        \"description\": \"\"\n      }\n    },\n    {\n      \"column\": \"text\",\n      \"properties\": {\n        \"dtype\": \"string\",\n        \"num_unique_values\": 7503,\n        \"samples\": [\n          \"This week first responders and DART members are participating in a four day intensive Technical Large Animal... http://t.co/tL93AOd3ER\",\n          \"My mom is watching a show about bridges breaking/falling and the people on them drowning in their cars aka one of my biggest fears ????\",\n          \"@NickLee8  i went to school in a bombed out East End of London3 families to one house no bathroom outside loo &amp; poor so whats yr point\"\n        ],\n        \"semantic_type\": \"\",\n        \"description\": \"\"\n      }\n    },\n    {\n      \"column\": \"target\",\n      \"properties\": {\n        \"dtype\": \"number\",\n        \"std\": 0,\n        \"min\": 0,\n        \"max\": 1,\n        \"num_unique_values\": 2,\n        \"samples\": [\n          0,\n          1\n        ],\n        \"semantic_type\": \"\",\n        \"description\": \"\"\n      }\n    }\n  ]\n}"
            }
          },
          "metadata": {},
          "execution_count": 8
        }
      ]
    },
    {
      "cell_type": "code",
      "source": [
        "# What does Test Dataset Look like\n",
        "test_df.head()"
      ],
      "metadata": {
        "colab": {
          "base_uri": "https://localhost:8080/",
          "height": 206
        },
        "id": "3nzua3WmqbSf",
        "outputId": "ed7bf474-fc55-4a74-a155-23d36d21bb41"
      },
      "id": "3nzua3WmqbSf",
      "execution_count": 9,
      "outputs": [
        {
          "output_type": "execute_result",
          "data": {
            "text/plain": [
              "   id keyword location                                               text\n",
              "0   0     NaN      NaN                 Just happened a terrible car crash\n",
              "1   2     NaN      NaN  Heard about #earthquake is different cities, s...\n",
              "2   3     NaN      NaN  there is a forest fire at spot pond, geese are...\n",
              "3   9     NaN      NaN           Apocalypse lighting. #Spokane #wildfires\n",
              "4  11     NaN      NaN      Typhoon Soudelor kills 28 in China and Taiwan"
            ],
            "text/html": [
              "\n",
              "  <div id=\"df-46b54cc0-b947-4954-8350-8c75c64e833a\" class=\"colab-df-container\">\n",
              "    <div>\n",
              "<style scoped>\n",
              "    .dataframe tbody tr th:only-of-type {\n",
              "        vertical-align: middle;\n",
              "    }\n",
              "\n",
              "    .dataframe tbody tr th {\n",
              "        vertical-align: top;\n",
              "    }\n",
              "\n",
              "    .dataframe thead th {\n",
              "        text-align: right;\n",
              "    }\n",
              "</style>\n",
              "<table border=\"1\" class=\"dataframe\">\n",
              "  <thead>\n",
              "    <tr style=\"text-align: right;\">\n",
              "      <th></th>\n",
              "      <th>id</th>\n",
              "      <th>keyword</th>\n",
              "      <th>location</th>\n",
              "      <th>text</th>\n",
              "    </tr>\n",
              "  </thead>\n",
              "  <tbody>\n",
              "    <tr>\n",
              "      <th>0</th>\n",
              "      <td>0</td>\n",
              "      <td>NaN</td>\n",
              "      <td>NaN</td>\n",
              "      <td>Just happened a terrible car crash</td>\n",
              "    </tr>\n",
              "    <tr>\n",
              "      <th>1</th>\n",
              "      <td>2</td>\n",
              "      <td>NaN</td>\n",
              "      <td>NaN</td>\n",
              "      <td>Heard about #earthquake is different cities, s...</td>\n",
              "    </tr>\n",
              "    <tr>\n",
              "      <th>2</th>\n",
              "      <td>3</td>\n",
              "      <td>NaN</td>\n",
              "      <td>NaN</td>\n",
              "      <td>there is a forest fire at spot pond, geese are...</td>\n",
              "    </tr>\n",
              "    <tr>\n",
              "      <th>3</th>\n",
              "      <td>9</td>\n",
              "      <td>NaN</td>\n",
              "      <td>NaN</td>\n",
              "      <td>Apocalypse lighting. #Spokane #wildfires</td>\n",
              "    </tr>\n",
              "    <tr>\n",
              "      <th>4</th>\n",
              "      <td>11</td>\n",
              "      <td>NaN</td>\n",
              "      <td>NaN</td>\n",
              "      <td>Typhoon Soudelor kills 28 in China and Taiwan</td>\n",
              "    </tr>\n",
              "  </tbody>\n",
              "</table>\n",
              "</div>\n",
              "    <div class=\"colab-df-buttons\">\n",
              "\n",
              "  <div class=\"colab-df-container\">\n",
              "    <button class=\"colab-df-convert\" onclick=\"convertToInteractive('df-46b54cc0-b947-4954-8350-8c75c64e833a')\"\n",
              "            title=\"Convert this dataframe to an interactive table.\"\n",
              "            style=\"display:none;\">\n",
              "\n",
              "  <svg xmlns=\"http://www.w3.org/2000/svg\" height=\"24px\" viewBox=\"0 -960 960 960\">\n",
              "    <path d=\"M120-120v-720h720v720H120Zm60-500h600v-160H180v160Zm220 220h160v-160H400v160Zm0 220h160v-160H400v160ZM180-400h160v-160H180v160Zm440 0h160v-160H620v160ZM180-180h160v-160H180v160Zm440 0h160v-160H620v160Z\"/>\n",
              "  </svg>\n",
              "    </button>\n",
              "\n",
              "  <style>\n",
              "    .colab-df-container {\n",
              "      display:flex;\n",
              "      gap: 12px;\n",
              "    }\n",
              "\n",
              "    .colab-df-convert {\n",
              "      background-color: #E8F0FE;\n",
              "      border: none;\n",
              "      border-radius: 50%;\n",
              "      cursor: pointer;\n",
              "      display: none;\n",
              "      fill: #1967D2;\n",
              "      height: 32px;\n",
              "      padding: 0 0 0 0;\n",
              "      width: 32px;\n",
              "    }\n",
              "\n",
              "    .colab-df-convert:hover {\n",
              "      background-color: #E2EBFA;\n",
              "      box-shadow: 0px 1px 2px rgba(60, 64, 67, 0.3), 0px 1px 3px 1px rgba(60, 64, 67, 0.15);\n",
              "      fill: #174EA6;\n",
              "    }\n",
              "\n",
              "    .colab-df-buttons div {\n",
              "      margin-bottom: 4px;\n",
              "    }\n",
              "\n",
              "    [theme=dark] .colab-df-convert {\n",
              "      background-color: #3B4455;\n",
              "      fill: #D2E3FC;\n",
              "    }\n",
              "\n",
              "    [theme=dark] .colab-df-convert:hover {\n",
              "      background-color: #434B5C;\n",
              "      box-shadow: 0px 1px 3px 1px rgba(0, 0, 0, 0.15);\n",
              "      filter: drop-shadow(0px 1px 2px rgba(0, 0, 0, 0.3));\n",
              "      fill: #FFFFFF;\n",
              "    }\n",
              "  </style>\n",
              "\n",
              "    <script>\n",
              "      const buttonEl =\n",
              "        document.querySelector('#df-46b54cc0-b947-4954-8350-8c75c64e833a button.colab-df-convert');\n",
              "      buttonEl.style.display =\n",
              "        google.colab.kernel.accessAllowed ? 'block' : 'none';\n",
              "\n",
              "      async function convertToInteractive(key) {\n",
              "        const element = document.querySelector('#df-46b54cc0-b947-4954-8350-8c75c64e833a');\n",
              "        const dataTable =\n",
              "          await google.colab.kernel.invokeFunction('convertToInteractive',\n",
              "                                                    [key], {});\n",
              "        if (!dataTable) return;\n",
              "\n",
              "        const docLinkHtml = 'Like what you see? Visit the ' +\n",
              "          '<a target=\"_blank\" href=https://colab.research.google.com/notebooks/data_table.ipynb>data table notebook</a>'\n",
              "          + ' to learn more about interactive tables.';\n",
              "        element.innerHTML = '';\n",
              "        dataTable['output_type'] = 'display_data';\n",
              "        await google.colab.output.renderOutput(dataTable, element);\n",
              "        const docLink = document.createElement('div');\n",
              "        docLink.innerHTML = docLinkHtml;\n",
              "        element.appendChild(docLink);\n",
              "      }\n",
              "    </script>\n",
              "  </div>\n",
              "\n",
              "\n",
              "    <div id=\"df-1ae22335-0ded-44b2-83c7-e07f2d5177bf\">\n",
              "      <button class=\"colab-df-quickchart\" onclick=\"quickchart('df-1ae22335-0ded-44b2-83c7-e07f2d5177bf')\"\n",
              "                title=\"Suggest charts\"\n",
              "                style=\"display:none;\">\n",
              "\n",
              "<svg xmlns=\"http://www.w3.org/2000/svg\" height=\"24px\"viewBox=\"0 0 24 24\"\n",
              "     width=\"24px\">\n",
              "    <g>\n",
              "        <path d=\"M19 3H5c-1.1 0-2 .9-2 2v14c0 1.1.9 2 2 2h14c1.1 0 2-.9 2-2V5c0-1.1-.9-2-2-2zM9 17H7v-7h2v7zm4 0h-2V7h2v10zm4 0h-2v-4h2v4z\"/>\n",
              "    </g>\n",
              "</svg>\n",
              "      </button>\n",
              "\n",
              "<style>\n",
              "  .colab-df-quickchart {\n",
              "      --bg-color: #E8F0FE;\n",
              "      --fill-color: #1967D2;\n",
              "      --hover-bg-color: #E2EBFA;\n",
              "      --hover-fill-color: #174EA6;\n",
              "      --disabled-fill-color: #AAA;\n",
              "      --disabled-bg-color: #DDD;\n",
              "  }\n",
              "\n",
              "  [theme=dark] .colab-df-quickchart {\n",
              "      --bg-color: #3B4455;\n",
              "      --fill-color: #D2E3FC;\n",
              "      --hover-bg-color: #434B5C;\n",
              "      --hover-fill-color: #FFFFFF;\n",
              "      --disabled-bg-color: #3B4455;\n",
              "      --disabled-fill-color: #666;\n",
              "  }\n",
              "\n",
              "  .colab-df-quickchart {\n",
              "    background-color: var(--bg-color);\n",
              "    border: none;\n",
              "    border-radius: 50%;\n",
              "    cursor: pointer;\n",
              "    display: none;\n",
              "    fill: var(--fill-color);\n",
              "    height: 32px;\n",
              "    padding: 0;\n",
              "    width: 32px;\n",
              "  }\n",
              "\n",
              "  .colab-df-quickchart:hover {\n",
              "    background-color: var(--hover-bg-color);\n",
              "    box-shadow: 0 1px 2px rgba(60, 64, 67, 0.3), 0 1px 3px 1px rgba(60, 64, 67, 0.15);\n",
              "    fill: var(--button-hover-fill-color);\n",
              "  }\n",
              "\n",
              "  .colab-df-quickchart-complete:disabled,\n",
              "  .colab-df-quickchart-complete:disabled:hover {\n",
              "    background-color: var(--disabled-bg-color);\n",
              "    fill: var(--disabled-fill-color);\n",
              "    box-shadow: none;\n",
              "  }\n",
              "\n",
              "  .colab-df-spinner {\n",
              "    border: 2px solid var(--fill-color);\n",
              "    border-color: transparent;\n",
              "    border-bottom-color: var(--fill-color);\n",
              "    animation:\n",
              "      spin 1s steps(1) infinite;\n",
              "  }\n",
              "\n",
              "  @keyframes spin {\n",
              "    0% {\n",
              "      border-color: transparent;\n",
              "      border-bottom-color: var(--fill-color);\n",
              "      border-left-color: var(--fill-color);\n",
              "    }\n",
              "    20% {\n",
              "      border-color: transparent;\n",
              "      border-left-color: var(--fill-color);\n",
              "      border-top-color: var(--fill-color);\n",
              "    }\n",
              "    30% {\n",
              "      border-color: transparent;\n",
              "      border-left-color: var(--fill-color);\n",
              "      border-top-color: var(--fill-color);\n",
              "      border-right-color: var(--fill-color);\n",
              "    }\n",
              "    40% {\n",
              "      border-color: transparent;\n",
              "      border-right-color: var(--fill-color);\n",
              "      border-top-color: var(--fill-color);\n",
              "    }\n",
              "    60% {\n",
              "      border-color: transparent;\n",
              "      border-right-color: var(--fill-color);\n",
              "    }\n",
              "    80% {\n",
              "      border-color: transparent;\n",
              "      border-right-color: var(--fill-color);\n",
              "      border-bottom-color: var(--fill-color);\n",
              "    }\n",
              "    90% {\n",
              "      border-color: transparent;\n",
              "      border-bottom-color: var(--fill-color);\n",
              "    }\n",
              "  }\n",
              "</style>\n",
              "\n",
              "      <script>\n",
              "        async function quickchart(key) {\n",
              "          const quickchartButtonEl =\n",
              "            document.querySelector('#' + key + ' button');\n",
              "          quickchartButtonEl.disabled = true;  // To prevent multiple clicks.\n",
              "          quickchartButtonEl.classList.add('colab-df-spinner');\n",
              "          try {\n",
              "            const charts = await google.colab.kernel.invokeFunction(\n",
              "                'suggestCharts', [key], {});\n",
              "          } catch (error) {\n",
              "            console.error('Error during call to suggestCharts:', error);\n",
              "          }\n",
              "          quickchartButtonEl.classList.remove('colab-df-spinner');\n",
              "          quickchartButtonEl.classList.add('colab-df-quickchart-complete');\n",
              "        }\n",
              "        (() => {\n",
              "          let quickchartButtonEl =\n",
              "            document.querySelector('#df-1ae22335-0ded-44b2-83c7-e07f2d5177bf button');\n",
              "          quickchartButtonEl.style.display =\n",
              "            google.colab.kernel.accessAllowed ? 'block' : 'none';\n",
              "        })();\n",
              "      </script>\n",
              "    </div>\n",
              "\n",
              "    </div>\n",
              "  </div>\n"
            ],
            "application/vnd.google.colaboratory.intrinsic+json": {
              "type": "dataframe",
              "variable_name": "test_df",
              "summary": "{\n  \"name\": \"test_df\",\n  \"rows\": 3263,\n  \"fields\": [\n    {\n      \"column\": \"id\",\n      \"properties\": {\n        \"dtype\": \"number\",\n        \"std\": 3146,\n        \"min\": 0,\n        \"max\": 10875,\n        \"num_unique_values\": 3263,\n        \"samples\": [\n          8051,\n          425,\n          1330\n        ],\n        \"semantic_type\": \"\",\n        \"description\": \"\"\n      }\n    },\n    {\n      \"column\": \"keyword\",\n      \"properties\": {\n        \"dtype\": \"category\",\n        \"num_unique_values\": 221,\n        \"samples\": [\n          \"injury\",\n          \"nuclear%20reactor\",\n          \"engulfed\"\n        ],\n        \"semantic_type\": \"\",\n        \"description\": \"\"\n      }\n    },\n    {\n      \"column\": \"location\",\n      \"properties\": {\n        \"dtype\": \"category\",\n        \"num_unique_values\": 1602,\n        \"samples\": [\n          \"UAE\",\n          \"Tokio / Tokyo\",\n          \"Texas\"\n        ],\n        \"semantic_type\": \"\",\n        \"description\": \"\"\n      }\n    },\n    {\n      \"column\": \"text\",\n      \"properties\": {\n        \"dtype\": \"string\",\n        \"num_unique_values\": 3243,\n        \"samples\": [\n          \"Latest: USA: Huge sinkhole swallows up Brooklyn intersection http://t.co/vspKHg3nZy\",\n          \"I liked a @YouTube video http://t.co/a5YTAw9Vih S.O.S. Rona Guide - The Red Whirlwind\",\n          \"HitchBot travels Europe and greeted with open arms. Gets destroyed after two weeks in america. There's a lesson to be learned here.\"\n        ],\n        \"semantic_type\": \"\",\n        \"description\": \"\"\n      }\n    }\n  ]\n}"
            }
          },
          "metadata": {},
          "execution_count": 9
        }
      ]
    },
    {
      "cell_type": "code",
      "source": [
        "# How many examples of each classes\n",
        "train_df.target.value_counts()"
      ],
      "metadata": {
        "colab": {
          "base_uri": "https://localhost:8080/",
          "height": 178
        },
        "id": "14Sb9rxVqugm",
        "outputId": "25bd353b-fd5c-4f29-deef-1c44cb740485"
      },
      "id": "14Sb9rxVqugm",
      "execution_count": 10,
      "outputs": [
        {
          "output_type": "execute_result",
          "data": {
            "text/plain": [
              "target\n",
              "0    4342\n",
              "1    3271\n",
              "Name: count, dtype: int64"
            ],
            "text/html": [
              "<div>\n",
              "<style scoped>\n",
              "    .dataframe tbody tr th:only-of-type {\n",
              "        vertical-align: middle;\n",
              "    }\n",
              "\n",
              "    .dataframe tbody tr th {\n",
              "        vertical-align: top;\n",
              "    }\n",
              "\n",
              "    .dataframe thead th {\n",
              "        text-align: right;\n",
              "    }\n",
              "</style>\n",
              "<table border=\"1\" class=\"dataframe\">\n",
              "  <thead>\n",
              "    <tr style=\"text-align: right;\">\n",
              "      <th></th>\n",
              "      <th>count</th>\n",
              "    </tr>\n",
              "    <tr>\n",
              "      <th>target</th>\n",
              "      <th></th>\n",
              "    </tr>\n",
              "  </thead>\n",
              "  <tbody>\n",
              "    <tr>\n",
              "      <th>0</th>\n",
              "      <td>4342</td>\n",
              "    </tr>\n",
              "    <tr>\n",
              "      <th>1</th>\n",
              "      <td>3271</td>\n",
              "    </tr>\n",
              "  </tbody>\n",
              "</table>\n",
              "</div><br><label><b>dtype:</b> int64</label>"
            ]
          },
          "metadata": {},
          "execution_count": 10
        }
      ]
    },
    {
      "cell_type": "code",
      "source": [
        "# How many Total Samples\n",
        "len(train_df),len(test_df)"
      ],
      "metadata": {
        "colab": {
          "base_uri": "https://localhost:8080/"
        },
        "id": "VRZ0K-x3rFlY",
        "outputId": "d05d20b0-127d-4326-c991-46f6e1fd20bf"
      },
      "id": "VRZ0K-x3rFlY",
      "execution_count": 11,
      "outputs": [
        {
          "output_type": "execute_result",
          "data": {
            "text/plain": [
              "(7613, 3263)"
            ]
          },
          "metadata": {},
          "execution_count": 11
        }
      ]
    },
    {
      "cell_type": "markdown",
      "source": [
        "# **Visualize some random training examples**"
      ],
      "metadata": {
        "id": "tjK-XSYsrSte"
      },
      "id": "tjK-XSYsrSte"
    },
    {
      "cell_type": "code",
      "source": [
        "import random\n",
        "random_index=random.randint(0,len(train_df)-5)\n",
        "for row in train_df_shuffled[['text','target']][random_index:random_index+5].itertuples():\n",
        "    _,text,target=row\n",
        "    print(f'Target : {target} \\n ',\"(real disaster)\" if target>0 else \"not real disaster\")\n",
        "    print(f'Text : \\n {text}')\n",
        "    print('---\\n')"
      ],
      "metadata": {
        "colab": {
          "base_uri": "https://localhost:8080/"
        },
        "id": "EdTfwsABrNpW",
        "outputId": "8edf5315-db03-4edc-d1b8-9bcfbcce3f78"
      },
      "id": "EdTfwsABrNpW",
      "execution_count": 12,
      "outputs": [
        {
          "output_type": "stream",
          "name": "stdout",
          "text": [
            "Target : 1 \n",
            "  (real disaster)\n",
            "Text : \n",
            " Disaster control teams are studying ways to evacuate the port area in response to tidal wave warnings.[900037]\n",
            "---\n",
            "\n",
            "Target : 1 \n",
            "  (real disaster)\n",
            "Text : \n",
            " MH370: Reunion debris is from missing Malaysia flight http://t.co/6iMe8KJaCV\n",
            "---\n",
            "\n",
            "Target : 1 \n",
            "  (real disaster)\n",
            "Text : \n",
            " when you don't know which way an ambulance is coming from &lt;&lt;\n",
            "---\n",
            "\n",
            "Target : 1 \n",
            "  (real disaster)\n",
            "Text : \n",
            " #Japan marks 70th anniversary of #Hiroshima atomic bombing (from @AP) http://t.co/qREInWg0GS\n",
            "---\n",
            "\n",
            "Target : 0 \n",
            "  not real disaster\n",
            "Text : \n",
            " I'm in bed eating a twister and drinking a cup of tea. I am not dunking the twister in the tea. That would be well weird.\n",
            "---\n",
            "\n"
          ]
        }
      ]
    },
    {
      "cell_type": "code",
      "source": [
        "#Splitting data into Train and Validation\n",
        "from sklearn.model_selection import train_test_split\n",
        "\n",
        "train_sentances,val_sentances,train_labels,val_labels=train_test_split(\n",
        "                                                      train_df_shuffled['text'].to_numpy(),\n",
        "                                                      train_df_shuffled['target'].to_numpy(),\n",
        "                                                      test_size=0.1,\n",
        "                                                      random_state=42)"
      ],
      "metadata": {
        "id": "wMV3n0nutBqw"
      },
      "id": "wMV3n0nutBqw",
      "execution_count": 13,
      "outputs": []
    },
    {
      "cell_type": "code",
      "source": [
        "# Check lengths\n",
        "len(train_sentances),len(val_sentances),len(train_labels),len(val_labels)"
      ],
      "metadata": {
        "colab": {
          "base_uri": "https://localhost:8080/"
        },
        "id": "INoCGnqhtv4z",
        "outputId": "01487cfe-bfa6-42b5-9a9e-f3200507ea16"
      },
      "id": "INoCGnqhtv4z",
      "execution_count": 14,
      "outputs": [
        {
          "output_type": "execute_result",
          "data": {
            "text/plain": [
              "(6851, 762, 6851, 762)"
            ]
          },
          "metadata": {},
          "execution_count": 14
        }
      ]
    },
    {
      "cell_type": "markdown",
      "source": [
        "# **Convert Text into Numbers**"
      ],
      "metadata": {
        "id": "qbFNALyouHma"
      },
      "id": "qbFNALyouHma"
    },
    {
      "cell_type": "code",
      "source": [
        "import tensorflow as tf\n",
        "from tensorflow.keras.layers import TextVectorization\n",
        "text_vectorizer=TextVectorization(\n",
        "                                  max_tokens=10000, # Set max_tokens to a value\n",
        "                                  standardize='lower_and_strip_punctuation',\n",
        "                                  split='whitespace',\n",
        "                                  ngrams=None,\n",
        "                                  output_mode='int',\n",
        "                                  output_sequence_length=None,\n",
        "                                  pad_to_max_tokens=True,\n",
        "                                   )"
      ],
      "metadata": {
        "id": "YrtXGOeQu8Ug"
      },
      "id": "YrtXGOeQu8Ug",
      "execution_count": 15,
      "outputs": []
    },
    {
      "cell_type": "code",
      "source": [
        "max_vocab_length=100   # Max number of words to have in vocabulary\n",
        "max_length=15  # Max length our sequence will be\n",
        "text_vectorizer=TextVectorization(max_tokens=max_vocab_length,\n",
        "                                  standardize='lower_and_strip_punctuation',\n",
        "                                  split='whitespace',\n",
        "                                  ngrams=None,\n",
        "                                  output_mode='int',\n",
        "                                  output_sequence_length=max_vocab_length,\n",
        "                                  pad_to_max_tokens=True)"
      ],
      "metadata": {
        "id": "mQZEu3pNv1b6"
      },
      "id": "mQZEu3pNv1b6",
      "execution_count": 16,
      "outputs": []
    },
    {
      "cell_type": "code",
      "source": [
        "# Fit the Text Vectorizer\n",
        "text_vectorizer.adapt(train_sentances)"
      ],
      "metadata": {
        "id": "3M87lSsv3vp0"
      },
      "id": "3M87lSsv3vp0",
      "execution_count": 17,
      "outputs": []
    },
    {
      "cell_type": "code",
      "source": [
        "# Create a sample sentance and tokenize it\n",
        "sample_sentance=random.choice(train_sentances)\n",
        "print(f' The Original Sentance \\n {sample_sentance} \\n The Text Vectorized Version \\n')\n",
        "text_vectorizer([sample_sentance])"
      ],
      "metadata": {
        "colab": {
          "base_uri": "https://localhost:8080/"
        },
        "id": "xMdvl0-t4ofh",
        "outputId": "5d0f5a04-89cd-48ed-d10a-e440ed3f2141"
      },
      "id": "xMdvl0-t4ofh",
      "execution_count": 18,
      "outputs": [
        {
          "output_type": "stream",
          "name": "stdout",
          "text": [
            " The Original Sentance \n",
            " Obama Declares Disaster for Typhoon-Devastated Saipan: Obama signs disaster declaration for Northern Marians a... http://t.co/XDt4VHFn7B \n",
            " The Text Vectorized Version \n",
            "\n"
          ]
        },
        {
          "output_type": "execute_result",
          "data": {
            "text/plain": [
              "<tf.Tensor: shape=(1, 100), dtype=int64, numpy=\n",
              "array([[ 1,  1, 75, 10,  1,  1,  1,  1, 75,  1, 10,  1,  1,  3,  1,  0,\n",
              "         0,  0,  0,  0,  0,  0,  0,  0,  0,  0,  0,  0,  0,  0,  0,  0,\n",
              "         0,  0,  0,  0,  0,  0,  0,  0,  0,  0,  0,  0,  0,  0,  0,  0,\n",
              "         0,  0,  0,  0,  0,  0,  0,  0,  0,  0,  0,  0,  0,  0,  0,  0,\n",
              "         0,  0,  0,  0,  0,  0,  0,  0,  0,  0,  0,  0,  0,  0,  0,  0,\n",
              "         0,  0,  0,  0,  0,  0,  0,  0,  0,  0,  0,  0,  0,  0,  0,  0,\n",
              "         0,  0,  0,  0]])>"
            ]
          },
          "metadata": {},
          "execution_count": 18
        }
      ]
    },
    {
      "cell_type": "code",
      "source": [
        "# Get uniqe words in vocab\n",
        "words_in_vocab=text_vectorizer.get_vocabulary()\n",
        "top_5_words=words_in_vocab[:5]\n",
        "bottom_5_words=words_in_vocab[-5:]\n",
        "print(f'The Number of words in vocab are : {len(words_in_vocab)}')\n",
        "print(f'The Five most common words in vocab are : {top_5_words}')\n",
        "print(f'The Five least words in vocab are : {bottom_5_words}')"
      ],
      "metadata": {
        "colab": {
          "base_uri": "https://localhost:8080/"
        },
        "id": "SWFaiThw4vrw",
        "outputId": "3b80726b-0c2a-41cf-acff-f00a780fae62"
      },
      "id": "SWFaiThw4vrw",
      "execution_count": 19,
      "outputs": [
        {
          "output_type": "stream",
          "name": "stdout",
          "text": [
            "The Number of words in vocab are : 100\n",
            "The Five most common words in vocab are : ['', '[UNK]', np.str_('the'), np.str_('a'), np.str_('in')]\n",
            "The Five least words in vocab are : [np.str_('buildings'), np.str_('rt'), np.str_('first'), np.str_('cant'), np.str_('see')]\n"
          ]
        }
      ]
    },
    {
      "cell_type": "code",
      "source": [
        "# Creating a embedding layer that turns text vectorized into the embeding vectors\n",
        "from tensorflow.keras.layers import Embedding\n",
        "\n",
        "embedding=Embedding(input_dim=max_vocab_length,\n",
        "                    output_dim=128,\n",
        "                    )"
      ],
      "metadata": {
        "id": "p7mdj4Ty5rsA"
      },
      "id": "p7mdj4Ty5rsA",
      "execution_count": 20,
      "outputs": []
    },
    {
      "cell_type": "code",
      "source": [
        "# Get Random Sentance from trainning set\n",
        "random_sentance=random.choice(train_sentances)\n",
        "print(f'Original Text \\n {random_sentance}\\n')\n",
        "sample_embedding=embedding(text_vectorizer([random_sentance]))\n",
        "sample_embedding"
      ],
      "metadata": {
        "colab": {
          "base_uri": "https://localhost:8080/"
        },
        "id": "433odmK27cxo",
        "outputId": "faf295fb-68a1-49be-e522-0850cec6a33e"
      },
      "id": "433odmK27cxo",
      "execution_count": 21,
      "outputs": [
        {
          "output_type": "stream",
          "name": "stdout",
          "text": [
            "Original Text \n",
            " 'Among other main factors behind pedestrian fatalities are people failing to yield to a car' http://t.co/dgUL7FfJt2\n",
            "\n"
          ]
        },
        {
          "output_type": "execute_result",
          "data": {
            "text/plain": [
              "<tf.Tensor: shape=(1, 100, 128), dtype=float32, numpy=\n",
              "array([[[-0.04694747,  0.02119812,  0.04551835, ...,  0.03751495,\n",
              "          0.04793226, -0.03888023],\n",
              "        [-0.04694747,  0.02119812,  0.04551835, ...,  0.03751495,\n",
              "          0.04793226, -0.03888023],\n",
              "        [-0.04694747,  0.02119812,  0.04551835, ...,  0.03751495,\n",
              "          0.04793226, -0.03888023],\n",
              "        ...,\n",
              "        [ 0.04370045, -0.00997155, -0.00665887, ...,  0.04970368,\n",
              "          0.03441938, -0.02893131],\n",
              "        [ 0.04370045, -0.00997155, -0.00665887, ...,  0.04970368,\n",
              "          0.03441938, -0.02893131],\n",
              "        [ 0.04370045, -0.00997155, -0.00665887, ...,  0.04970368,\n",
              "          0.03441938, -0.02893131]]], dtype=float32)>"
            ]
          },
          "metadata": {},
          "execution_count": 21
        }
      ]
    },
    {
      "cell_type": "markdown",
      "source": [
        "# ***Lets Now Create our Baseline Model***\n",
        "its common to use ML model first or non DL model and then switch to DL model"
      ],
      "metadata": {
        "id": "7jVRac8Q8vHI"
      },
      "id": "7jVRac8Q8vHI"
    },
    {
      "cell_type": "code",
      "source": [
        "from sklearn.feature_extraction.text import TfidfVectorizer\n",
        "from sklearn.naive_bayes import MultinomialNB\n",
        "from sklearn.pipeline import Pipeline\n",
        "\n",
        "model_0=Pipeline([\n",
        "    ('tfid',TfidfVectorizer()),\n",
        "    ('clf',MultinomialNB()),\n",
        "])\n",
        "\n",
        "model_0.fit(train_sentances,train_labels)\n",
        "baseline_score=model_0.score(val_sentances,val_labels)\n",
        "\n",
        "print(f'Our Baseline Model Acheives Accuracy of : {baseline_score*100:.2f}')"
      ],
      "metadata": {
        "colab": {
          "base_uri": "https://localhost:8080/"
        },
        "id": "vVnZOG9A8dwx",
        "outputId": "5ed2a935-2204-47d8-b45f-cc923473b898"
      },
      "id": "vVnZOG9A8dwx",
      "execution_count": 22,
      "outputs": [
        {
          "output_type": "stream",
          "name": "stdout",
          "text": [
            "Our Baseline Model Acheives Accuracy of : 79.27\n"
          ]
        }
      ]
    },
    {
      "cell_type": "code",
      "source": [
        "# Model Predictions\n",
        "baseline_preds=model_0.predict(val_sentances)\n",
        "baseline_preds[:20]"
      ],
      "metadata": {
        "colab": {
          "base_uri": "https://localhost:8080/"
        },
        "id": "W83eH1la9qMi",
        "outputId": "2e03e35e-5094-451e-8281-1d240b0887c8"
      },
      "id": "W83eH1la9qMi",
      "execution_count": 23,
      "outputs": [
        {
          "output_type": "execute_result",
          "data": {
            "text/plain": [
              "array([1, 1, 1, 0, 0, 1, 1, 1, 1, 0, 0, 1, 0, 0, 0, 0, 0, 0, 0, 1])"
            ]
          },
          "metadata": {},
          "execution_count": 23
        }
      ]
    },
    {
      "cell_type": "markdown",
      "source": [
        "# **Creating an evaluation function**"
      ],
      "metadata": {
        "id": "fVKbRAs763wd"
      },
      "id": "fVKbRAs763wd"
    },
    {
      "cell_type": "code",
      "source": [
        "from sklearn.metrics import accuracy_score,precision_recall_fscore_support\n",
        "\n",
        "\n",
        "def calculate_results(y_true,y_pred):\n",
        "  model_accuracy=accuracy_score(y_true=y_true,y_pred=y_pred)\n",
        "  model_precission,model_recall,model_f1,_=precision_recall_fscore_support(y_true=y_true,y_pred=y_pred,average='weighted')\n",
        "\n",
        "  model_results={\n",
        "     \"accuracy\":model_accuracy,\n",
        "     \"precsion\":model_precission,\n",
        "     \"recall\":model_recall,\n",
        "     'f1_score':model_f1\n",
        "  }\n",
        "  return model_results"
      ],
      "metadata": {
        "id": "kIae8fDw5sV4"
      },
      "id": "kIae8fDw5sV4",
      "execution_count": 24,
      "outputs": []
    },
    {
      "cell_type": "code",
      "source": [
        "# Get Baseline Results\n",
        "baseline_results=calculate_results(y_true=val_labels,y_pred=baseline_preds)\n",
        "\n",
        "baseline_results"
      ],
      "metadata": {
        "colab": {
          "base_uri": "https://localhost:8080/"
        },
        "id": "U3hOOLyr6zsH",
        "outputId": "9b8a0fc8-c775-4114-dbbc-e8a750df8f48"
      },
      "id": "U3hOOLyr6zsH",
      "execution_count": 25,
      "outputs": [
        {
          "output_type": "execute_result",
          "data": {
            "text/plain": [
              "{'accuracy': 0.7926509186351706,\n",
              " 'precsion': 0.8111390004213173,\n",
              " 'recall': 0.7926509186351706,\n",
              " 'f1_score': 0.7862189758049549}"
            ]
          },
          "metadata": {},
          "execution_count": 25
        }
      ]
    },
    {
      "cell_type": "markdown",
      "source": [
        "# **Model1 : Feed Forward Neural Network ( Dense Model)**"
      ],
      "metadata": {
        "id": "vyXSO-967_-z"
      },
      "id": "vyXSO-967_-z"
    },
    {
      "cell_type": "code",
      "source": [
        "from helper_functions import create_tensorboard_callback\n",
        "from tensorflow.keras import layers"
      ],
      "metadata": {
        "id": "RVZbkEUq781s"
      },
      "id": "RVZbkEUq781s",
      "execution_count": 26,
      "outputs": []
    },
    {
      "cell_type": "code",
      "source": [
        "SAVE_DIR=\"ModelLogs\"\n",
        "\n",
        "inputs=layers.Input(shape=(1,),dtype=tf.string)\n",
        "x=text_vectorizer(inputs)\n",
        "x=embedding(x)\n",
        "x=layers.GlobalAveragePooling1D()(x) # Add this layer to reduce dimensions\n",
        "outputs=layers.Dense(1,activation='sigmoid')(x)\n",
        "model_1=tf.keras.Model(inputs,outputs,name=\"model_1_Dense\")\n",
        "model_1.summary()"
      ],
      "metadata": {
        "colab": {
          "base_uri": "https://localhost:8080/",
          "height": 323
        },
        "id": "fPKAH30T8QOD",
        "outputId": "e9bb13d6-cebd-4179-bf6e-42f8735f2282"
      },
      "id": "fPKAH30T8QOD",
      "execution_count": 27,
      "outputs": [
        {
          "output_type": "display_data",
          "data": {
            "text/plain": [
              "\u001b[1mModel: \"model_1_Dense\"\u001b[0m\n"
            ],
            "text/html": [
              "<pre style=\"white-space:pre;overflow-x:auto;line-height:normal;font-family:Menlo,'DejaVu Sans Mono',consolas,'Courier New',monospace\"><span style=\"font-weight: bold\">Model: \"model_1_Dense\"</span>\n",
              "</pre>\n"
            ]
          },
          "metadata": {}
        },
        {
          "output_type": "display_data",
          "data": {
            "text/plain": [
              "┏━━━━━━━━━━━━━━━━━━━━━━━━━━━━━━━━━┳━━━━━━━━━━━━━━━━━━━━━━━━┳━━━━━━━━━━━━━━━┓\n",
              "┃\u001b[1m \u001b[0m\u001b[1mLayer (type)                   \u001b[0m\u001b[1m \u001b[0m┃\u001b[1m \u001b[0m\u001b[1mOutput Shape          \u001b[0m\u001b[1m \u001b[0m┃\u001b[1m \u001b[0m\u001b[1m      Param #\u001b[0m\u001b[1m \u001b[0m┃\n",
              "┡━━━━━━━━━━━━━━━━━━━━━━━━━━━━━━━━━╇━━━━━━━━━━━━━━━━━━━━━━━━╇━━━━━━━━━━━━━━━┩\n",
              "│ input_layer (\u001b[38;5;33mInputLayer\u001b[0m)        │ (\u001b[38;5;45mNone\u001b[0m, \u001b[38;5;34m1\u001b[0m)              │             \u001b[38;5;34m0\u001b[0m │\n",
              "├─────────────────────────────────┼────────────────────────┼───────────────┤\n",
              "│ text_vectorization_1            │ (\u001b[38;5;45mNone\u001b[0m, \u001b[38;5;34m100\u001b[0m)            │             \u001b[38;5;34m0\u001b[0m │\n",
              "│ (\u001b[38;5;33mTextVectorization\u001b[0m)             │                        │               │\n",
              "├─────────────────────────────────┼────────────────────────┼───────────────┤\n",
              "│ embedding (\u001b[38;5;33mEmbedding\u001b[0m)           │ (\u001b[38;5;45mNone\u001b[0m, \u001b[38;5;34m100\u001b[0m, \u001b[38;5;34m128\u001b[0m)       │        \u001b[38;5;34m12,800\u001b[0m │\n",
              "├─────────────────────────────────┼────────────────────────┼───────────────┤\n",
              "│ global_average_pooling1d        │ (\u001b[38;5;45mNone\u001b[0m, \u001b[38;5;34m128\u001b[0m)            │             \u001b[38;5;34m0\u001b[0m │\n",
              "│ (\u001b[38;5;33mGlobalAveragePooling1D\u001b[0m)        │                        │               │\n",
              "├─────────────────────────────────┼────────────────────────┼───────────────┤\n",
              "│ dense (\u001b[38;5;33mDense\u001b[0m)                   │ (\u001b[38;5;45mNone\u001b[0m, \u001b[38;5;34m1\u001b[0m)              │           \u001b[38;5;34m129\u001b[0m │\n",
              "└─────────────────────────────────┴────────────────────────┴───────────────┘\n"
            ],
            "text/html": [
              "<pre style=\"white-space:pre;overflow-x:auto;line-height:normal;font-family:Menlo,'DejaVu Sans Mono',consolas,'Courier New',monospace\">┏━━━━━━━━━━━━━━━━━━━━━━━━━━━━━━━━━┳━━━━━━━━━━━━━━━━━━━━━━━━┳━━━━━━━━━━━━━━━┓\n",
              "┃<span style=\"font-weight: bold\"> Layer (type)                    </span>┃<span style=\"font-weight: bold\"> Output Shape           </span>┃<span style=\"font-weight: bold\">       Param # </span>┃\n",
              "┡━━━━━━━━━━━━━━━━━━━━━━━━━━━━━━━━━╇━━━━━━━━━━━━━━━━━━━━━━━━╇━━━━━━━━━━━━━━━┩\n",
              "│ input_layer (<span style=\"color: #0087ff; text-decoration-color: #0087ff\">InputLayer</span>)        │ (<span style=\"color: #00d7ff; text-decoration-color: #00d7ff\">None</span>, <span style=\"color: #00af00; text-decoration-color: #00af00\">1</span>)              │             <span style=\"color: #00af00; text-decoration-color: #00af00\">0</span> │\n",
              "├─────────────────────────────────┼────────────────────────┼───────────────┤\n",
              "│ text_vectorization_1            │ (<span style=\"color: #00d7ff; text-decoration-color: #00d7ff\">None</span>, <span style=\"color: #00af00; text-decoration-color: #00af00\">100</span>)            │             <span style=\"color: #00af00; text-decoration-color: #00af00\">0</span> │\n",
              "│ (<span style=\"color: #0087ff; text-decoration-color: #0087ff\">TextVectorization</span>)             │                        │               │\n",
              "├─────────────────────────────────┼────────────────────────┼───────────────┤\n",
              "│ embedding (<span style=\"color: #0087ff; text-decoration-color: #0087ff\">Embedding</span>)           │ (<span style=\"color: #00d7ff; text-decoration-color: #00d7ff\">None</span>, <span style=\"color: #00af00; text-decoration-color: #00af00\">100</span>, <span style=\"color: #00af00; text-decoration-color: #00af00\">128</span>)       │        <span style=\"color: #00af00; text-decoration-color: #00af00\">12,800</span> │\n",
              "├─────────────────────────────────┼────────────────────────┼───────────────┤\n",
              "│ global_average_pooling1d        │ (<span style=\"color: #00d7ff; text-decoration-color: #00d7ff\">None</span>, <span style=\"color: #00af00; text-decoration-color: #00af00\">128</span>)            │             <span style=\"color: #00af00; text-decoration-color: #00af00\">0</span> │\n",
              "│ (<span style=\"color: #0087ff; text-decoration-color: #0087ff\">GlobalAveragePooling1D</span>)        │                        │               │\n",
              "├─────────────────────────────────┼────────────────────────┼───────────────┤\n",
              "│ dense (<span style=\"color: #0087ff; text-decoration-color: #0087ff\">Dense</span>)                   │ (<span style=\"color: #00d7ff; text-decoration-color: #00d7ff\">None</span>, <span style=\"color: #00af00; text-decoration-color: #00af00\">1</span>)              │           <span style=\"color: #00af00; text-decoration-color: #00af00\">129</span> │\n",
              "└─────────────────────────────────┴────────────────────────┴───────────────┘\n",
              "</pre>\n"
            ]
          },
          "metadata": {}
        },
        {
          "output_type": "display_data",
          "data": {
            "text/plain": [
              "\u001b[1m Total params: \u001b[0m\u001b[38;5;34m12,929\u001b[0m (50.50 KB)\n"
            ],
            "text/html": [
              "<pre style=\"white-space:pre;overflow-x:auto;line-height:normal;font-family:Menlo,'DejaVu Sans Mono',consolas,'Courier New',monospace\"><span style=\"font-weight: bold\"> Total params: </span><span style=\"color: #00af00; text-decoration-color: #00af00\">12,929</span> (50.50 KB)\n",
              "</pre>\n"
            ]
          },
          "metadata": {}
        },
        {
          "output_type": "display_data",
          "data": {
            "text/plain": [
              "\u001b[1m Trainable params: \u001b[0m\u001b[38;5;34m12,929\u001b[0m (50.50 KB)\n"
            ],
            "text/html": [
              "<pre style=\"white-space:pre;overflow-x:auto;line-height:normal;font-family:Menlo,'DejaVu Sans Mono',consolas,'Courier New',monospace\"><span style=\"font-weight: bold\"> Trainable params: </span><span style=\"color: #00af00; text-decoration-color: #00af00\">12,929</span> (50.50 KB)\n",
              "</pre>\n"
            ]
          },
          "metadata": {}
        },
        {
          "output_type": "display_data",
          "data": {
            "text/plain": [
              "\u001b[1m Non-trainable params: \u001b[0m\u001b[38;5;34m0\u001b[0m (0.00 B)\n"
            ],
            "text/html": [
              "<pre style=\"white-space:pre;overflow-x:auto;line-height:normal;font-family:Menlo,'DejaVu Sans Mono',consolas,'Courier New',monospace\"><span style=\"font-weight: bold\"> Non-trainable params: </span><span style=\"color: #00af00; text-decoration-color: #00af00\">0</span> (0.00 B)\n",
              "</pre>\n"
            ]
          },
          "metadata": {}
        }
      ]
    },
    {
      "cell_type": "code",
      "source": [
        "model_1.compile(loss='binary_crossentropy',\n",
        "                optimizer=tf.keras.optimizers.Adam(),\n",
        "                metrics=['accuracy'])\n",
        "model_1_history=model_1.fit(train_sentances,train_labels,epochs=5,validation_data=(val_sentances,val_labels),callbacks=[create_tensorboard_callback(dir_name=SAVE_DIR,experiment_name='model_1_dense')])"
      ],
      "metadata": {
        "colab": {
          "base_uri": "https://localhost:8080/"
        },
        "id": "sN0C3bSD81eY",
        "outputId": "fd40cdeb-f35a-49bc-9c86-4438c0e35855"
      },
      "id": "sN0C3bSD81eY",
      "execution_count": 28,
      "outputs": [
        {
          "output_type": "stream",
          "name": "stdout",
          "text": [
            "Saving TensorBoard log files to: ModelLogs/model_1_dense/20251026-051132\n",
            "Epoch 1/5\n",
            "\u001b[1m215/215\u001b[0m \u001b[32m━━━━━━━━━━━━━━━━━━━━\u001b[0m\u001b[37m\u001b[0m \u001b[1m4s\u001b[0m 6ms/step - accuracy: 0.5585 - loss: 0.6852 - val_accuracy: 0.5433 - val_loss: 0.6891\n",
            "Epoch 2/5\n",
            "\u001b[1m215/215\u001b[0m \u001b[32m━━━━━━━━━━━━━━━━━━━━\u001b[0m\u001b[37m\u001b[0m \u001b[1m1s\u001b[0m 5ms/step - accuracy: 0.5824 - loss: 0.6696 - val_accuracy: 0.5538 - val_loss: 0.6654\n",
            "Epoch 3/5\n",
            "\u001b[1m215/215\u001b[0m \u001b[32m━━━━━━━━━━━━━━━━━━━━\u001b[0m\u001b[37m\u001b[0m \u001b[1m1s\u001b[0m 5ms/step - accuracy: 0.6129 - loss: 0.6551 - val_accuracy: 0.5997 - val_loss: 0.6618\n",
            "Epoch 4/5\n",
            "\u001b[1m215/215\u001b[0m \u001b[32m━━━━━━━━━━━━━━━━━━━━\u001b[0m\u001b[37m\u001b[0m \u001b[1m1s\u001b[0m 5ms/step - accuracy: 0.6342 - loss: 0.6393 - val_accuracy: 0.6168 - val_loss: 0.6339\n",
            "Epoch 5/5\n",
            "\u001b[1m215/215\u001b[0m \u001b[32m━━━━━━━━━━━━━━━━━━━━\u001b[0m\u001b[37m\u001b[0m \u001b[1m1s\u001b[0m 5ms/step - accuracy: 0.6650 - loss: 0.6140 - val_accuracy: 0.5984 - val_loss: 0.6504\n"
          ]
        }
      ]
    },
    {
      "cell_type": "code",
      "source": [
        "model_1.evaluate(val_sentances,val_labels)"
      ],
      "metadata": {
        "colab": {
          "base_uri": "https://localhost:8080/"
        },
        "id": "Quzoywi_9oUM",
        "outputId": "cf0003cb-580c-48cf-e071-856b9c52540d"
      },
      "id": "Quzoywi_9oUM",
      "execution_count": 29,
      "outputs": [
        {
          "output_type": "stream",
          "name": "stdout",
          "text": [
            "\u001b[1m24/24\u001b[0m \u001b[32m━━━━━━━━━━━━━━━━━━━━\u001b[0m\u001b[37m\u001b[0m \u001b[1m0s\u001b[0m 4ms/step - accuracy: 0.5845 - loss: 0.6762\n"
          ]
        },
        {
          "output_type": "execute_result",
          "data": {
            "text/plain": [
              "[0.6504325866699219, 0.5984252095222473]"
            ]
          },
          "metadata": {},
          "execution_count": 29
        }
      ]
    },
    {
      "cell_type": "code",
      "source": [
        "model_1_predict_probs=model_1.predict(val_sentances)\n",
        "model_1_predict_probs"
      ],
      "metadata": {
        "colab": {
          "base_uri": "https://localhost:8080/"
        },
        "id": "7mezY-iW98qu",
        "outputId": "28d5949a-0abd-44dc-91a0-f1484ddaac43"
      },
      "id": "7mezY-iW98qu",
      "execution_count": 30,
      "outputs": [
        {
          "output_type": "stream",
          "name": "stdout",
          "text": [
            "\u001b[1m24/24\u001b[0m \u001b[32m━━━━━━━━━━━━━━━━━━━━\u001b[0m\u001b[37m\u001b[0m \u001b[1m0s\u001b[0m 5ms/step\n"
          ]
        },
        {
          "output_type": "execute_result",
          "data": {
            "text/plain": [
              "array([[0.38164508],\n",
              "       [0.50552285],\n",
              "       [0.5709377 ],\n",
              "       [0.2088908 ],\n",
              "       [0.29879102],\n",
              "       [0.47246432],\n",
              "       [0.5520835 ],\n",
              "       [0.49718314],\n",
              "       [0.50798285],\n",
              "       [0.17032097],\n",
              "       [0.33674362],\n",
              "       [0.37448415],\n",
              "       [0.42232364],\n",
              "       [0.31745845],\n",
              "       [0.4612574 ],\n",
              "       [0.33480594],\n",
              "       [0.18072245],\n",
              "       [0.2501111 ],\n",
              "       [0.27232024],\n",
              "       [0.35553023],\n",
              "       [0.16210772],\n",
              "       [0.08505306],\n",
              "       [0.26442254],\n",
              "       [0.3025895 ],\n",
              "       [0.34582725],\n",
              "       [0.45189524],\n",
              "       [0.08239754],\n",
              "       [0.37387925],\n",
              "       [0.15248094],\n",
              "       [0.18799847],\n",
              "       [0.29824454],\n",
              "       [0.3030188 ],\n",
              "       [0.38563755],\n",
              "       [0.31884646],\n",
              "       [0.37533957],\n",
              "       [0.09321768],\n",
              "       [0.47603378],\n",
              "       [0.16495675],\n",
              "       [0.15591675],\n",
              "       [0.52402693],\n",
              "       [0.23220763],\n",
              "       [0.4461039 ],\n",
              "       [0.26792246],\n",
              "       [0.35950264],\n",
              "       [0.23571001],\n",
              "       [0.4233403 ],\n",
              "       [0.29642612],\n",
              "       [0.59775835],\n",
              "       [0.23769683],\n",
              "       [0.5717937 ],\n",
              "       [0.06198189],\n",
              "       [0.37839764],\n",
              "       [0.31797275],\n",
              "       [0.18245165],\n",
              "       [0.04737318],\n",
              "       [0.09620903],\n",
              "       [0.40393415],\n",
              "       [0.4182155 ],\n",
              "       [0.31261605],\n",
              "       [0.0160296 ],\n",
              "       [0.18331964],\n",
              "       [0.33350497],\n",
              "       [0.8075509 ],\n",
              "       [0.19321102],\n",
              "       [0.4597329 ],\n",
              "       [0.5493471 ],\n",
              "       [0.1481275 ],\n",
              "       [0.4422535 ],\n",
              "       [0.12388274],\n",
              "       [0.23814423],\n",
              "       [0.26870385],\n",
              "       [0.17499512],\n",
              "       [0.4689075 ],\n",
              "       [0.18197674],\n",
              "       [0.23878846],\n",
              "       [0.2936478 ],\n",
              "       [0.28681633],\n",
              "       [0.30732784],\n",
              "       [0.19334003],\n",
              "       [0.5353939 ],\n",
              "       [0.38373592],\n",
              "       [0.12203367],\n",
              "       [0.39746815],\n",
              "       [0.21564576],\n",
              "       [0.28430867],\n",
              "       [0.19975762],\n",
              "       [0.13061024],\n",
              "       [0.31223464],\n",
              "       [0.45759517],\n",
              "       [0.22625645],\n",
              "       [0.34126574],\n",
              "       [0.28425482],\n",
              "       [0.15656132],\n",
              "       [0.3426697 ],\n",
              "       [0.44885913],\n",
              "       [0.45930526],\n",
              "       [0.4206095 ],\n",
              "       [0.3617925 ],\n",
              "       [0.4531535 ],\n",
              "       [0.5457726 ],\n",
              "       [0.5448473 ],\n",
              "       [0.21652938],\n",
              "       [0.13546665],\n",
              "       [0.48319215],\n",
              "       [0.24781385],\n",
              "       [0.13658598],\n",
              "       [0.4966345 ],\n",
              "       [0.44334435],\n",
              "       [0.3157611 ],\n",
              "       [0.3182651 ],\n",
              "       [0.39899102],\n",
              "       [0.20623794],\n",
              "       [0.2758339 ],\n",
              "       [0.3661128 ],\n",
              "       [0.26803797],\n",
              "       [0.64984447],\n",
              "       [0.35694954],\n",
              "       [0.4843901 ],\n",
              "       [0.38567284],\n",
              "       [0.26112083],\n",
              "       [0.49082923],\n",
              "       [0.3987735 ],\n",
              "       [0.24584976],\n",
              "       [0.4423465 ],\n",
              "       [0.40142012],\n",
              "       [0.19990586],\n",
              "       [0.37125364],\n",
              "       [0.20612784],\n",
              "       [0.24499565],\n",
              "       [0.36435297],\n",
              "       [0.21424976],\n",
              "       [0.49082923],\n",
              "       [0.6390979 ],\n",
              "       [0.45189524],\n",
              "       [0.44399962],\n",
              "       [0.2926413 ],\n",
              "       [0.35257795],\n",
              "       [0.23829167],\n",
              "       [0.2540413 ],\n",
              "       [0.19742924],\n",
              "       [0.4749946 ],\n",
              "       [0.29294506],\n",
              "       [0.31745845],\n",
              "       [0.33266512],\n",
              "       [0.21991171],\n",
              "       [0.5048324 ],\n",
              "       [0.16298382],\n",
              "       [0.11892624],\n",
              "       [0.19733873],\n",
              "       [0.330345  ],\n",
              "       [0.3514772 ],\n",
              "       [0.2668799 ],\n",
              "       [0.3343329 ],\n",
              "       [0.36913252],\n",
              "       [0.12589139],\n",
              "       [0.6198318 ],\n",
              "       [0.5175196 ],\n",
              "       [0.37730703],\n",
              "       [0.4758726 ],\n",
              "       [0.26498273],\n",
              "       [0.5557089 ],\n",
              "       [0.01206472],\n",
              "       [0.12343638],\n",
              "       [0.55987716],\n",
              "       [0.28141722],\n",
              "       [0.36303   ],\n",
              "       [0.55917186],\n",
              "       [0.23859006],\n",
              "       [0.36832327],\n",
              "       [0.3265043 ],\n",
              "       [0.598453  ],\n",
              "       [0.54027116],\n",
              "       [0.50456256],\n",
              "       [0.16093287],\n",
              "       [0.44552946],\n",
              "       [0.17271629],\n",
              "       [0.41056457],\n",
              "       [0.24266756],\n",
              "       [0.21113355],\n",
              "       [0.48314005],\n",
              "       [0.2010442 ],\n",
              "       [0.49917006],\n",
              "       [0.42066738],\n",
              "       [0.42139044],\n",
              "       [0.37869078],\n",
              "       [0.40287027],\n",
              "       [0.21227811],\n",
              "       [0.6148246 ],\n",
              "       [0.38432536],\n",
              "       [0.3282146 ],\n",
              "       [0.38599873],\n",
              "       [0.3716182 ],\n",
              "       [0.33309677],\n",
              "       [0.3911201 ],\n",
              "       [0.30160707],\n",
              "       [0.48431417],\n",
              "       [0.19884072],\n",
              "       [0.19220589],\n",
              "       [0.30704919],\n",
              "       [0.25885907],\n",
              "       [0.16931945],\n",
              "       [0.30515936],\n",
              "       [0.53022695],\n",
              "       [0.2919609 ],\n",
              "       [0.41790545],\n",
              "       [0.48395205],\n",
              "       [0.32801977],\n",
              "       [0.54453194],\n",
              "       [0.38625118],\n",
              "       [0.5422562 ],\n",
              "       [0.25723168],\n",
              "       [0.46351177],\n",
              "       [0.09810414],\n",
              "       [0.17654875],\n",
              "       [0.17123045],\n",
              "       [0.18375415],\n",
              "       [0.48688892],\n",
              "       [0.43138334],\n",
              "       [0.32145447],\n",
              "       [0.13880295],\n",
              "       [0.4105261 ],\n",
              "       [0.25033194],\n",
              "       [0.18092784],\n",
              "       [0.266568  ],\n",
              "       [0.32920468],\n",
              "       [0.39331168],\n",
              "       [0.6536811 ],\n",
              "       [0.45464867],\n",
              "       [0.3117481 ],\n",
              "       [0.39927948],\n",
              "       [0.38082013],\n",
              "       [0.22112079],\n",
              "       [0.43919864],\n",
              "       [0.14107929],\n",
              "       [0.19693851],\n",
              "       [0.1547555 ],\n",
              "       [0.31155455],\n",
              "       [0.5521115 ],\n",
              "       [0.37689957],\n",
              "       [0.21151142],\n",
              "       [0.35111794],\n",
              "       [0.38538742],\n",
              "       [0.34304112],\n",
              "       [0.32673913],\n",
              "       [0.29146096],\n",
              "       [0.3899493 ],\n",
              "       [0.3817935 ],\n",
              "       [0.31544146],\n",
              "       [0.19979712],\n",
              "       [0.35654318],\n",
              "       [0.21748552],\n",
              "       [0.30583352],\n",
              "       [0.04808265],\n",
              "       [0.30926594],\n",
              "       [0.25534078],\n",
              "       [0.18679374],\n",
              "       [0.52920914],\n",
              "       [0.47218233],\n",
              "       [0.16335931],\n",
              "       [0.36362904],\n",
              "       [0.55253327],\n",
              "       [0.23605365],\n",
              "       [0.22074755],\n",
              "       [0.42838916],\n",
              "       [0.4252195 ],\n",
              "       [0.5519459 ],\n",
              "       [0.34882617],\n",
              "       [0.14880852],\n",
              "       [0.14411215],\n",
              "       [0.16820897],\n",
              "       [0.33497888],\n",
              "       [0.44205838],\n",
              "       [0.34947076],\n",
              "       [0.30696425],\n",
              "       [0.35162264],\n",
              "       [0.38652357],\n",
              "       [0.5061502 ],\n",
              "       [0.15589888],\n",
              "       [0.4006981 ],\n",
              "       [0.37788802],\n",
              "       [0.07847909],\n",
              "       [0.2859026 ],\n",
              "       [0.39271098],\n",
              "       [0.37115118],\n",
              "       [0.45201752],\n",
              "       [0.4572754 ],\n",
              "       [0.31825683],\n",
              "       [0.1110636 ],\n",
              "       [0.48444337],\n",
              "       [0.21247986],\n",
              "       [0.37705237],\n",
              "       [0.43815386],\n",
              "       [0.27352747],\n",
              "       [0.2719129 ],\n",
              "       [0.40399435],\n",
              "       [0.5327849 ],\n",
              "       [0.22498478],\n",
              "       [0.394543  ],\n",
              "       [0.09228846],\n",
              "       [0.6359894 ],\n",
              "       [0.4765333 ],\n",
              "       [0.12471526],\n",
              "       [0.32162836],\n",
              "       [0.5405051 ],\n",
              "       [0.22789532],\n",
              "       [0.1195354 ],\n",
              "       [0.24805802],\n",
              "       [0.22226049],\n",
              "       [0.26292416],\n",
              "       [0.21787216],\n",
              "       [0.3509654 ],\n",
              "       [0.27586505],\n",
              "       [0.24761738],\n",
              "       [0.46882966],\n",
              "       [0.46086392],\n",
              "       [0.18593946],\n",
              "       [0.3387798 ],\n",
              "       [0.2611685 ],\n",
              "       [0.15496834],\n",
              "       [0.18691577],\n",
              "       [0.33228996],\n",
              "       [0.17082201],\n",
              "       [0.39641112],\n",
              "       [0.24448407],\n",
              "       [0.35257795],\n",
              "       [0.29783005],\n",
              "       [0.35428455],\n",
              "       [0.40716806],\n",
              "       [0.31412053],\n",
              "       [0.6057843 ],\n",
              "       [0.2356043 ],\n",
              "       [0.18554403],\n",
              "       [0.4269057 ],\n",
              "       [0.4435378 ],\n",
              "       [0.26533195],\n",
              "       [0.3901643 ],\n",
              "       [0.15176418],\n",
              "       [0.33534917],\n",
              "       [0.11037199],\n",
              "       [0.48504317],\n",
              "       [0.16235672],\n",
              "       [0.1299294 ],\n",
              "       [0.40292466],\n",
              "       [0.4314764 ],\n",
              "       [0.27800277],\n",
              "       [0.20574477],\n",
              "       [0.36011258],\n",
              "       [0.16251628],\n",
              "       [0.16461335],\n",
              "       [0.2895837 ],\n",
              "       [0.22226049],\n",
              "       [0.5000961 ],\n",
              "       [0.09323171],\n",
              "       [0.43504417],\n",
              "       [0.26404214],\n",
              "       [0.21888185],\n",
              "       [0.2425883 ],\n",
              "       [0.45189524],\n",
              "       [0.43546328],\n",
              "       [0.24119395],\n",
              "       [0.31622475],\n",
              "       [0.29190126],\n",
              "       [0.3839155 ],\n",
              "       [0.24762951],\n",
              "       [0.48354498],\n",
              "       [0.18944216],\n",
              "       [0.184198  ],\n",
              "       [0.27391037],\n",
              "       [0.3590886 ],\n",
              "       [0.06735288],\n",
              "       [0.21529955],\n",
              "       [0.20838036],\n",
              "       [0.3078242 ],\n",
              "       [0.3557624 ],\n",
              "       [0.17480114],\n",
              "       [0.20527819],\n",
              "       [0.30573842],\n",
              "       [0.5193168 ],\n",
              "       [0.26161483],\n",
              "       [0.50706947],\n",
              "       [0.32542747],\n",
              "       [0.22226049],\n",
              "       [0.22988407],\n",
              "       [0.37387925],\n",
              "       [0.2729801 ],\n",
              "       [0.37562916],\n",
              "       [0.482012  ],\n",
              "       [0.14842223],\n",
              "       [0.49904445],\n",
              "       [0.28609923],\n",
              "       [0.40052888],\n",
              "       [0.09795316],\n",
              "       [0.1339075 ],\n",
              "       [0.2614713 ],\n",
              "       [0.15105423],\n",
              "       [0.33475965],\n",
              "       [0.20143668],\n",
              "       [0.2921392 ],\n",
              "       [0.3883376 ],\n",
              "       [0.48354498],\n",
              "       [0.37834644],\n",
              "       [0.0423222 ],\n",
              "       [0.2067451 ],\n",
              "       [0.60715   ],\n",
              "       [0.5715231 ],\n",
              "       [0.49082923],\n",
              "       [0.35172465],\n",
              "       [0.38255444],\n",
              "       [0.21890241],\n",
              "       [0.430098  ],\n",
              "       [0.5568378 ],\n",
              "       [0.08968578],\n",
              "       [0.05909634],\n",
              "       [0.18815355],\n",
              "       [0.46277145],\n",
              "       [0.36942887],\n",
              "       [0.33206862],\n",
              "       [0.52820307],\n",
              "       [0.5071561 ],\n",
              "       [0.23859006],\n",
              "       [0.49018258],\n",
              "       [0.40800545],\n",
              "       [0.47939068],\n",
              "       [0.5852137 ],\n",
              "       [0.11774572],\n",
              "       [0.36242896],\n",
              "       [0.17371608],\n",
              "       [0.3222198 ],\n",
              "       [0.2631386 ],\n",
              "       [0.28706282],\n",
              "       [0.18122295],\n",
              "       [0.32508153],\n",
              "       [0.12571715],\n",
              "       [0.3472951 ],\n",
              "       [0.36556277],\n",
              "       [0.2643262 ],\n",
              "       [0.16851304],\n",
              "       [0.37387925],\n",
              "       [0.47211355],\n",
              "       [0.56328195],\n",
              "       [0.22296166],\n",
              "       [0.50552285],\n",
              "       [0.47034982],\n",
              "       [0.14697465],\n",
              "       [0.24780507],\n",
              "       [0.43630493],\n",
              "       [0.27613842],\n",
              "       [0.15942195],\n",
              "       [0.36358184],\n",
              "       [0.25346068],\n",
              "       [0.316761  ],\n",
              "       [0.47575083],\n",
              "       [0.56204003],\n",
              "       [0.3741298 ],\n",
              "       [0.6520625 ],\n",
              "       [0.38307366],\n",
              "       [0.33849993],\n",
              "       [0.22468574],\n",
              "       [0.37259784],\n",
              "       [0.4479243 ],\n",
              "       [0.38567284],\n",
              "       [0.16617408],\n",
              "       [0.34401992],\n",
              "       [0.34571442],\n",
              "       [0.46387056],\n",
              "       [0.48346862],\n",
              "       [0.4081676 ],\n",
              "       [0.3056319 ],\n",
              "       [0.71116114],\n",
              "       [0.20855024],\n",
              "       [0.20889121],\n",
              "       [0.57251304],\n",
              "       [0.331847  ],\n",
              "       [0.2723032 ],\n",
              "       [0.2460754 ],\n",
              "       [0.4374776 ],\n",
              "       [0.331847  ],\n",
              "       [0.54188406],\n",
              "       [0.2099849 ],\n",
              "       [0.24011575],\n",
              "       [0.48821497],\n",
              "       [0.18020895],\n",
              "       [0.4445868 ],\n",
              "       [0.39582357],\n",
              "       [0.22400373],\n",
              "       [0.22023194],\n",
              "       [0.37387925],\n",
              "       [0.10604811],\n",
              "       [0.2510941 ],\n",
              "       [0.4881957 ],\n",
              "       [0.5110061 ],\n",
              "       [0.4489126 ],\n",
              "       [0.27845526],\n",
              "       [0.33612284],\n",
              "       [0.36238092],\n",
              "       [0.45205483],\n",
              "       [0.29233387],\n",
              "       [0.39682987],\n",
              "       [0.13169391],\n",
              "       [0.3900264 ],\n",
              "       [0.5318667 ],\n",
              "       [0.35267028],\n",
              "       [0.16180763],\n",
              "       [0.5156204 ],\n",
              "       [0.25845623],\n",
              "       [0.19158228],\n",
              "       [0.08835495],\n",
              "       [0.6411516 ],\n",
              "       [0.17508034],\n",
              "       [0.2067451 ],\n",
              "       [0.26214376],\n",
              "       [0.2516726 ],\n",
              "       [0.2544536 ],\n",
              "       [0.22821435],\n",
              "       [0.33542362],\n",
              "       [0.2067451 ],\n",
              "       [0.6288797 ],\n",
              "       [0.27739373],\n",
              "       [0.45930526],\n",
              "       [0.7522247 ],\n",
              "       [0.2680731 ],\n",
              "       [0.2176563 ],\n",
              "       [0.4269057 ],\n",
              "       [0.3853237 ],\n",
              "       [0.08901917],\n",
              "       [0.5551054 ],\n",
              "       [0.4967268 ],\n",
              "       [0.41790545],\n",
              "       [0.55595654],\n",
              "       [0.34300774],\n",
              "       [0.3403858 ],\n",
              "       [0.42401126],\n",
              "       [0.11494677],\n",
              "       [0.1568185 ],\n",
              "       [0.31294268],\n",
              "       [0.25975162],\n",
              "       [0.22035074],\n",
              "       [0.20073023],\n",
              "       [0.0801818 ],\n",
              "       [0.21932836],\n",
              "       [0.12363093],\n",
              "       [0.21297854],\n",
              "       [0.22226049],\n",
              "       [0.33059308],\n",
              "       [0.25572485],\n",
              "       [0.4740825 ],\n",
              "       [0.4358818 ],\n",
              "       [0.48576024],\n",
              "       [0.6389436 ],\n",
              "       [0.40006608],\n",
              "       [0.31142226],\n",
              "       [0.37127957],\n",
              "       [0.34523475],\n",
              "       [0.3404687 ],\n",
              "       [0.16833282],\n",
              "       [0.35373288],\n",
              "       [0.22226049],\n",
              "       [0.26498273],\n",
              "       [0.31595978],\n",
              "       [0.22602269],\n",
              "       [0.1288453 ],\n",
              "       [0.3409158 ],\n",
              "       [0.49849454],\n",
              "       [0.3749309 ],\n",
              "       [0.3528222 ],\n",
              "       [0.18274489],\n",
              "       [0.36631227],\n",
              "       [0.40880394],\n",
              "       [0.24011779],\n",
              "       [0.38592234],\n",
              "       [0.35394183],\n",
              "       [0.4227799 ],\n",
              "       [0.32552487],\n",
              "       [0.43523088],\n",
              "       [0.1211372 ],\n",
              "       [0.22174622],\n",
              "       [0.35105228],\n",
              "       [0.23859006],\n",
              "       [0.37127957],\n",
              "       [0.34478438],\n",
              "       [0.18177918],\n",
              "       [0.20078585],\n",
              "       [0.32218552],\n",
              "       [0.2880938 ],\n",
              "       [0.21585573],\n",
              "       [0.40978742],\n",
              "       [0.46344846],\n",
              "       [0.19668047],\n",
              "       [0.29503742],\n",
              "       [0.1952945 ],\n",
              "       [0.27094528],\n",
              "       [0.43752658],\n",
              "       [0.33723572],\n",
              "       [0.25161052],\n",
              "       [0.40315306],\n",
              "       [0.3497442 ],\n",
              "       [0.402347  ],\n",
              "       [0.49689403],\n",
              "       [0.5692249 ],\n",
              "       [0.11818575],\n",
              "       [0.3173325 ],\n",
              "       [0.06963323],\n",
              "       [0.47010645],\n",
              "       [0.44431946],\n",
              "       [0.6686184 ],\n",
              "       [0.2550573 ],\n",
              "       [0.37333265],\n",
              "       [0.22226049],\n",
              "       [0.5066822 ],\n",
              "       [0.2738026 ],\n",
              "       [0.19297124],\n",
              "       [0.5153439 ],\n",
              "       [0.22937691],\n",
              "       [0.21554731],\n",
              "       [0.53779274],\n",
              "       [0.22043331],\n",
              "       [0.07814976],\n",
              "       [0.3117481 ],\n",
              "       [0.11674096],\n",
              "       [0.25774202],\n",
              "       [0.48395205],\n",
              "       [0.33036527],\n",
              "       [0.5425716 ],\n",
              "       [0.2875724 ],\n",
              "       [0.28467306],\n",
              "       [0.1455732 ],\n",
              "       [0.3117481 ],\n",
              "       [0.34153494],\n",
              "       [0.36677784],\n",
              "       [0.14127553],\n",
              "       [0.37360665],\n",
              "       [0.49386662],\n",
              "       [0.33040276],\n",
              "       [0.4393935 ],\n",
              "       [0.35257795],\n",
              "       [0.13766888],\n",
              "       [0.2512802 ],\n",
              "       [0.33935252],\n",
              "       [0.15549244],\n",
              "       [0.23769633],\n",
              "       [0.2679661 ],\n",
              "       [0.25272727],\n",
              "       [0.38279057],\n",
              "       [0.47440708],\n",
              "       [0.2853017 ],\n",
              "       [0.22254889],\n",
              "       [0.2067451 ],\n",
              "       [0.26729903],\n",
              "       [0.19569862],\n",
              "       [0.35053504],\n",
              "       [0.4784853 ],\n",
              "       [0.2661133 ],\n",
              "       [0.32601804],\n",
              "       [0.16312519],\n",
              "       [0.28483212],\n",
              "       [0.3274083 ],\n",
              "       [0.10421667],\n",
              "       [0.48682454],\n",
              "       [0.26189584],\n",
              "       [0.19130222],\n",
              "       [0.20044456],\n",
              "       [0.2666274 ],\n",
              "       [0.41500357],\n",
              "       [0.28122595],\n",
              "       [0.37387925],\n",
              "       [0.16238551],\n",
              "       [0.45989025],\n",
              "       [0.33644247],\n",
              "       [0.5927926 ],\n",
              "       [0.29233387],\n",
              "       [0.2498659 ],\n",
              "       [0.26115522],\n",
              "       [0.25821337],\n",
              "       [0.512652  ],\n",
              "       [0.33197924],\n",
              "       [0.50277555],\n",
              "       [0.2850872 ],\n",
              "       [0.5132569 ],\n",
              "       [0.20745428],\n",
              "       [0.1452134 ],\n",
              "       [0.25572485],\n",
              "       [0.12047987],\n",
              "       [0.49035975],\n",
              "       [0.27364796],\n",
              "       [0.1508075 ],\n",
              "       [0.5605449 ],\n",
              "       [0.25135046],\n",
              "       [0.23859006],\n",
              "       [0.41790545],\n",
              "       [0.23239367],\n",
              "       [0.44979295],\n",
              "       [0.49082923],\n",
              "       [0.29733503],\n",
              "       [0.14057836],\n",
              "       [0.41655225],\n",
              "       [0.37366888],\n",
              "       [0.3871099 ],\n",
              "       [0.37366888],\n",
              "       [0.4404684 ],\n",
              "       [0.36786816],\n",
              "       [0.19314411],\n",
              "       [0.41152948],\n",
              "       [0.47317687],\n",
              "       [0.44438544],\n",
              "       [0.28787363],\n",
              "       [0.22136404],\n",
              "       [0.20080616],\n",
              "       [0.22244728],\n",
              "       [0.07251285],\n",
              "       [0.28748232],\n",
              "       [0.13408117],\n",
              "       [0.12850177],\n",
              "       [0.43653142],\n",
              "       [0.05987475],\n",
              "       [0.18331964],\n",
              "       [0.23776473],\n",
              "       [0.32339495],\n",
              "       [0.07304286],\n",
              "       [0.4132053 ],\n",
              "       [0.18919946],\n",
              "       [0.5221885 ],\n",
              "       [0.1192618 ],\n",
              "       [0.1416149 ],\n",
              "       [0.3117481 ],\n",
              "       [0.42725638],\n",
              "       [0.23739347],\n",
              "       [0.3851623 ],\n",
              "       [0.15951352],\n",
              "       [0.5956129 ],\n",
              "       [0.32339495],\n",
              "       [0.34989417],\n",
              "       [0.6203407 ],\n",
              "       [0.35257795],\n",
              "       [0.4659616 ],\n",
              "       [0.6955549 ],\n",
              "       [0.5728037 ],\n",
              "       [0.35747114],\n",
              "       [0.25267795],\n",
              "       [0.22950588],\n",
              "       [0.331847  ],\n",
              "       [0.45228258],\n",
              "       [0.24328092],\n",
              "       [0.35421178],\n",
              "       [0.3892859 ],\n",
              "       [0.4296005 ],\n",
              "       [0.30680907],\n",
              "       [0.29862115],\n",
              "       [0.20103244],\n",
              "       [0.19261028],\n",
              "       [0.11167403],\n",
              "       [0.11611438],\n",
              "       [0.23293857],\n",
              "       [0.4752513 ],\n",
              "       [0.15634559],\n",
              "       [0.34539258],\n",
              "       [0.35587958],\n",
              "       [0.14513496],\n",
              "       [0.21032903],\n",
              "       [0.16644558],\n",
              "       [0.45669708],\n",
              "       [0.37798253],\n",
              "       [0.19553684]], dtype=float32)"
            ]
          },
          "metadata": {},
          "execution_count": 30
        }
      ]
    },
    {
      "cell_type": "code",
      "source": [
        "model_1_predict_probs.shape"
      ],
      "metadata": {
        "colab": {
          "base_uri": "https://localhost:8080/"
        },
        "id": "SIpsqs38-LnF",
        "outputId": "033c9150-71b6-4536-c3f7-eae152fe3c08"
      },
      "id": "SIpsqs38-LnF",
      "execution_count": 31,
      "outputs": [
        {
          "output_type": "execute_result",
          "data": {
            "text/plain": [
              "(762, 1)"
            ]
          },
          "metadata": {},
          "execution_count": 31
        }
      ]
    },
    {
      "cell_type": "code",
      "source": [
        "model_1_predict_probs[0]"
      ],
      "metadata": {
        "colab": {
          "base_uri": "https://localhost:8080/"
        },
        "id": "ckUJXAR3-VrR",
        "outputId": "717d1126-5245-4975-c63c-b9ed8f1fe76f"
      },
      "id": "ckUJXAR3-VrR",
      "execution_count": 32,
      "outputs": [
        {
          "output_type": "execute_result",
          "data": {
            "text/plain": [
              "array([0.38164508], dtype=float32)"
            ]
          },
          "metadata": {},
          "execution_count": 32
        }
      ]
    },
    {
      "cell_type": "code",
      "source": [
        "# Make the preictions comaparable with the actaul labels\n",
        "model_1_predict_probs=tf.squeeze(tf.round(model_1_predict_probs))\n",
        "model_1_predict_probs[:10]"
      ],
      "metadata": {
        "colab": {
          "base_uri": "https://localhost:8080/"
        },
        "id": "0yAY1ua--ZZL",
        "outputId": "5d3a371a-bbf2-4c34-9ba2-8ab93e35cfe9"
      },
      "id": "0yAY1ua--ZZL",
      "execution_count": 33,
      "outputs": [
        {
          "output_type": "execute_result",
          "data": {
            "text/plain": [
              "<tf.Tensor: shape=(10,), dtype=float32, numpy=array([0., 1., 1., 0., 0., 0., 1., 0., 1., 0.], dtype=float32)>"
            ]
          },
          "metadata": {},
          "execution_count": 33
        }
      ]
    },
    {
      "cell_type": "code",
      "source": [
        "val_labels[:10]"
      ],
      "metadata": {
        "colab": {
          "base_uri": "https://localhost:8080/"
        },
        "id": "vsFl7Hi7-vsm",
        "outputId": "114641c1-105a-4d76-fd6b-039f44bed5e9"
      },
      "id": "vsFl7Hi7-vsm",
      "execution_count": 34,
      "outputs": [
        {
          "output_type": "execute_result",
          "data": {
            "text/plain": [
              "array([0, 0, 1, 1, 1, 1, 1, 1, 1, 0])"
            ]
          },
          "metadata": {},
          "execution_count": 34
        }
      ]
    },
    {
      "cell_type": "markdown",
      "source": [
        "# ***Calculate Model Results***"
      ],
      "metadata": {
        "id": "wpNBirEp-5TE"
      },
      "id": "wpNBirEp-5TE"
    },
    {
      "cell_type": "code",
      "source": [
        "model_1_results=calculate_results(y_true=val_labels,y_pred=model_1_predict_probs)\n",
        "model_1_results"
      ],
      "metadata": {
        "colab": {
          "base_uri": "https://localhost:8080/"
        },
        "id": "6WC9okhM-0c5",
        "outputId": "14dc9c34-b998-4e4f-bbd7-89e2706b367e"
      },
      "id": "6WC9okhM-0c5",
      "execution_count": 35,
      "outputs": [
        {
          "output_type": "execute_result",
          "data": {
            "text/plain": [
              "{'accuracy': 0.5984251968503937,\n",
              " 'precsion': 0.6658484491058051,\n",
              " 'recall': 0.5984251968503937,\n",
              " 'f1_score': 0.5205395273408879}"
            ]
          },
          "metadata": {},
          "execution_count": 35
        }
      ]
    },
    {
      "cell_type": "code",
      "source": [
        "import numpy as np\n",
        "np.array(list(model_1_results.values()))>np.array(list(baseline_results.values()))"
      ],
      "metadata": {
        "colab": {
          "base_uri": "https://localhost:8080/"
        },
        "id": "5cJG9MXi_hKE",
        "outputId": "b2c44f3b-2fdd-4b64-f94d-a4fe50e47ce9"
      },
      "id": "5cJG9MXi_hKE",
      "execution_count": 36,
      "outputs": [
        {
          "output_type": "execute_result",
          "data": {
            "text/plain": [
              "array([False, False, False, False])"
            ]
          },
          "metadata": {},
          "execution_count": 36
        }
      ]
    },
    {
      "cell_type": "markdown",
      "source": [
        "# ***Lets Visualize the embedding that Model learned using Tensorflow Projector***"
      ],
      "metadata": {
        "id": "ZRDepOumAhni"
      },
      "id": "ZRDepOumAhni"
    },
    {
      "cell_type": "code",
      "source": [
        "words_in_vocab=text_vectorizer.get_vocabulary()\n",
        "len(words_in_vocab),words_in_vocab[:10]"
      ],
      "metadata": {
        "colab": {
          "base_uri": "https://localhost:8080/"
        },
        "id": "nGwG30ydAnSs",
        "outputId": "34575d63-d8f9-43c0-eee8-fc95d469a76b"
      },
      "id": "nGwG30ydAnSs",
      "execution_count": 37,
      "outputs": [
        {
          "output_type": "execute_result",
          "data": {
            "text/plain": [
              "(100,\n",
              " ['',\n",
              "  '[UNK]',\n",
              "  np.str_('the'),\n",
              "  np.str_('a'),\n",
              "  np.str_('in'),\n",
              "  np.str_('to'),\n",
              "  np.str_('of'),\n",
              "  np.str_('and'),\n",
              "  np.str_('i'),\n",
              "  np.str_('is')])"
            ]
          },
          "metadata": {},
          "execution_count": 37
        }
      ]
    },
    {
      "cell_type": "code",
      "source": [
        "model_1.summary()"
      ],
      "metadata": {
        "colab": {
          "base_uri": "https://localhost:8080/",
          "height": 340
        },
        "id": "WCKbAK7zA28L",
        "outputId": "1253810c-6e0e-4847-b8d3-9b69e09cb10c"
      },
      "id": "WCKbAK7zA28L",
      "execution_count": 38,
      "outputs": [
        {
          "output_type": "display_data",
          "data": {
            "text/plain": [
              "\u001b[1mModel: \"model_1_Dense\"\u001b[0m\n"
            ],
            "text/html": [
              "<pre style=\"white-space:pre;overflow-x:auto;line-height:normal;font-family:Menlo,'DejaVu Sans Mono',consolas,'Courier New',monospace\"><span style=\"font-weight: bold\">Model: \"model_1_Dense\"</span>\n",
              "</pre>\n"
            ]
          },
          "metadata": {}
        },
        {
          "output_type": "display_data",
          "data": {
            "text/plain": [
              "┏━━━━━━━━━━━━━━━━━━━━━━━━━━━━━━━━━┳━━━━━━━━━━━━━━━━━━━━━━━━┳━━━━━━━━━━━━━━━┓\n",
              "┃\u001b[1m \u001b[0m\u001b[1mLayer (type)                   \u001b[0m\u001b[1m \u001b[0m┃\u001b[1m \u001b[0m\u001b[1mOutput Shape          \u001b[0m\u001b[1m \u001b[0m┃\u001b[1m \u001b[0m\u001b[1m      Param #\u001b[0m\u001b[1m \u001b[0m┃\n",
              "┡━━━━━━━━━━━━━━━━━━━━━━━━━━━━━━━━━╇━━━━━━━━━━━━━━━━━━━━━━━━╇━━━━━━━━━━━━━━━┩\n",
              "│ input_layer (\u001b[38;5;33mInputLayer\u001b[0m)        │ (\u001b[38;5;45mNone\u001b[0m, \u001b[38;5;34m1\u001b[0m)              │             \u001b[38;5;34m0\u001b[0m │\n",
              "├─────────────────────────────────┼────────────────────────┼───────────────┤\n",
              "│ text_vectorization_1            │ (\u001b[38;5;45mNone\u001b[0m, \u001b[38;5;34m100\u001b[0m)            │             \u001b[38;5;34m0\u001b[0m │\n",
              "│ (\u001b[38;5;33mTextVectorization\u001b[0m)             │                        │               │\n",
              "├─────────────────────────────────┼────────────────────────┼───────────────┤\n",
              "│ embedding (\u001b[38;5;33mEmbedding\u001b[0m)           │ (\u001b[38;5;45mNone\u001b[0m, \u001b[38;5;34m100\u001b[0m, \u001b[38;5;34m128\u001b[0m)       │        \u001b[38;5;34m12,800\u001b[0m │\n",
              "├─────────────────────────────────┼────────────────────────┼───────────────┤\n",
              "│ global_average_pooling1d        │ (\u001b[38;5;45mNone\u001b[0m, \u001b[38;5;34m128\u001b[0m)            │             \u001b[38;5;34m0\u001b[0m │\n",
              "│ (\u001b[38;5;33mGlobalAveragePooling1D\u001b[0m)        │                        │               │\n",
              "├─────────────────────────────────┼────────────────────────┼───────────────┤\n",
              "│ dense (\u001b[38;5;33mDense\u001b[0m)                   │ (\u001b[38;5;45mNone\u001b[0m, \u001b[38;5;34m1\u001b[0m)              │           \u001b[38;5;34m129\u001b[0m │\n",
              "└─────────────────────────────────┴────────────────────────┴───────────────┘\n"
            ],
            "text/html": [
              "<pre style=\"white-space:pre;overflow-x:auto;line-height:normal;font-family:Menlo,'DejaVu Sans Mono',consolas,'Courier New',monospace\">┏━━━━━━━━━━━━━━━━━━━━━━━━━━━━━━━━━┳━━━━━━━━━━━━━━━━━━━━━━━━┳━━━━━━━━━━━━━━━┓\n",
              "┃<span style=\"font-weight: bold\"> Layer (type)                    </span>┃<span style=\"font-weight: bold\"> Output Shape           </span>┃<span style=\"font-weight: bold\">       Param # </span>┃\n",
              "┡━━━━━━━━━━━━━━━━━━━━━━━━━━━━━━━━━╇━━━━━━━━━━━━━━━━━━━━━━━━╇━━━━━━━━━━━━━━━┩\n",
              "│ input_layer (<span style=\"color: #0087ff; text-decoration-color: #0087ff\">InputLayer</span>)        │ (<span style=\"color: #00d7ff; text-decoration-color: #00d7ff\">None</span>, <span style=\"color: #00af00; text-decoration-color: #00af00\">1</span>)              │             <span style=\"color: #00af00; text-decoration-color: #00af00\">0</span> │\n",
              "├─────────────────────────────────┼────────────────────────┼───────────────┤\n",
              "│ text_vectorization_1            │ (<span style=\"color: #00d7ff; text-decoration-color: #00d7ff\">None</span>, <span style=\"color: #00af00; text-decoration-color: #00af00\">100</span>)            │             <span style=\"color: #00af00; text-decoration-color: #00af00\">0</span> │\n",
              "│ (<span style=\"color: #0087ff; text-decoration-color: #0087ff\">TextVectorization</span>)             │                        │               │\n",
              "├─────────────────────────────────┼────────────────────────┼───────────────┤\n",
              "│ embedding (<span style=\"color: #0087ff; text-decoration-color: #0087ff\">Embedding</span>)           │ (<span style=\"color: #00d7ff; text-decoration-color: #00d7ff\">None</span>, <span style=\"color: #00af00; text-decoration-color: #00af00\">100</span>, <span style=\"color: #00af00; text-decoration-color: #00af00\">128</span>)       │        <span style=\"color: #00af00; text-decoration-color: #00af00\">12,800</span> │\n",
              "├─────────────────────────────────┼────────────────────────┼───────────────┤\n",
              "│ global_average_pooling1d        │ (<span style=\"color: #00d7ff; text-decoration-color: #00d7ff\">None</span>, <span style=\"color: #00af00; text-decoration-color: #00af00\">128</span>)            │             <span style=\"color: #00af00; text-decoration-color: #00af00\">0</span> │\n",
              "│ (<span style=\"color: #0087ff; text-decoration-color: #0087ff\">GlobalAveragePooling1D</span>)        │                        │               │\n",
              "├─────────────────────────────────┼────────────────────────┼───────────────┤\n",
              "│ dense (<span style=\"color: #0087ff; text-decoration-color: #0087ff\">Dense</span>)                   │ (<span style=\"color: #00d7ff; text-decoration-color: #00d7ff\">None</span>, <span style=\"color: #00af00; text-decoration-color: #00af00\">1</span>)              │           <span style=\"color: #00af00; text-decoration-color: #00af00\">129</span> │\n",
              "└─────────────────────────────────┴────────────────────────┴───────────────┘\n",
              "</pre>\n"
            ]
          },
          "metadata": {}
        },
        {
          "output_type": "display_data",
          "data": {
            "text/plain": [
              "\u001b[1m Total params: \u001b[0m\u001b[38;5;34m38,789\u001b[0m (151.52 KB)\n"
            ],
            "text/html": [
              "<pre style=\"white-space:pre;overflow-x:auto;line-height:normal;font-family:Menlo,'DejaVu Sans Mono',consolas,'Courier New',monospace\"><span style=\"font-weight: bold\"> Total params: </span><span style=\"color: #00af00; text-decoration-color: #00af00\">38,789</span> (151.52 KB)\n",
              "</pre>\n"
            ]
          },
          "metadata": {}
        },
        {
          "output_type": "display_data",
          "data": {
            "text/plain": [
              "\u001b[1m Trainable params: \u001b[0m\u001b[38;5;34m12,929\u001b[0m (50.50 KB)\n"
            ],
            "text/html": [
              "<pre style=\"white-space:pre;overflow-x:auto;line-height:normal;font-family:Menlo,'DejaVu Sans Mono',consolas,'Courier New',monospace\"><span style=\"font-weight: bold\"> Trainable params: </span><span style=\"color: #00af00; text-decoration-color: #00af00\">12,929</span> (50.50 KB)\n",
              "</pre>\n"
            ]
          },
          "metadata": {}
        },
        {
          "output_type": "display_data",
          "data": {
            "text/plain": [
              "\u001b[1m Non-trainable params: \u001b[0m\u001b[38;5;34m0\u001b[0m (0.00 B)\n"
            ],
            "text/html": [
              "<pre style=\"white-space:pre;overflow-x:auto;line-height:normal;font-family:Menlo,'DejaVu Sans Mono',consolas,'Courier New',monospace\"><span style=\"font-weight: bold\"> Non-trainable params: </span><span style=\"color: #00af00; text-decoration-color: #00af00\">0</span> (0.00 B)\n",
              "</pre>\n"
            ]
          },
          "metadata": {}
        },
        {
          "output_type": "display_data",
          "data": {
            "text/plain": [
              "\u001b[1m Optimizer params: \u001b[0m\u001b[38;5;34m25,860\u001b[0m (101.02 KB)\n"
            ],
            "text/html": [
              "<pre style=\"white-space:pre;overflow-x:auto;line-height:normal;font-family:Menlo,'DejaVu Sans Mono',consolas,'Courier New',monospace\"><span style=\"font-weight: bold\"> Optimizer params: </span><span style=\"color: #00af00; text-decoration-color: #00af00\">25,860</span> (101.02 KB)\n",
              "</pre>\n"
            ]
          },
          "metadata": {}
        }
      ]
    },
    {
      "cell_type": "code",
      "source": [
        "embed_weights=model_1.get_layer('embedding').get_weights()[0]\n",
        "embed_weights,print(embed_weights.shape)"
      ],
      "metadata": {
        "colab": {
          "base_uri": "https://localhost:8080/"
        },
        "id": "nuYMmO_iA7HX",
        "outputId": "40f47ade-2abf-47cc-905f-7267f440ebc1"
      },
      "id": "nuYMmO_iA7HX",
      "execution_count": 39,
      "outputs": [
        {
          "output_type": "stream",
          "name": "stdout",
          "text": [
            "(100, 128)\n"
          ]
        },
        {
          "output_type": "execute_result",
          "data": {
            "text/plain": [
              "(array([[ 0.01365811,  0.03091951,  0.02005928, ...,  0.08388501,\n",
              "         -0.0280317 , -0.06804219],\n",
              "        [ 0.01129229, -0.15195915, -0.12734437, ..., -0.14716743,\n",
              "          0.22710441,  0.14358094],\n",
              "        [ 0.1662095 ,  0.16329436,  0.16955568, ...,  0.1489195 ,\n",
              "         -0.12611312, -0.16335775],\n",
              "        ...,\n",
              "        [-0.03640025, -0.05898622, -0.0791558 , ..., -0.0255525 ,\n",
              "          0.04710792,  0.03099846],\n",
              "        [ 0.25467154,  0.34615955,  0.4275126 , ...,  0.2903726 ,\n",
              "         -0.4177854 , -0.29285625],\n",
              "        [ 0.14889567,  0.3005157 ,  0.33518073, ...,  0.24990274,\n",
              "         -0.23999597, -0.2619192 ]], dtype=float32),\n",
              " None)"
            ]
          },
          "metadata": {},
          "execution_count": 39
        }
      ]
    },
    {
      "cell_type": "markdown",
      "source": [
        "Write the weights to disk. To use the Embedding Projector, you will upload two files in tab separated format: a file of vectors (containing the embedding), and a file of meta data (containing the words).  This code is from the tensorflow documentation Here[https://www.tensorflow.org/text/guide/word_embeddings]"
      ],
      "metadata": {
        "id": "U_POLZP5CBzy"
      },
      "id": "U_POLZP5CBzy"
    },
    {
      "cell_type": "code",
      "source": [
        "import io\n",
        "out_v = io.open('vectors.tsv', 'w', encoding='utf-8')\n",
        "out_m = io.open('metadata.tsv', 'w', encoding='utf-8')\n",
        "\n",
        "for index, word in enumerate(words_in_vocab):\n",
        "  if index == 0:\n",
        "    continue  # skip 0, it's padding.\n",
        "  vec = embed_weights[index]\n",
        "  out_v.write('\\t'.join([str(x) for x in vec]) + \"\\n\")\n",
        "  out_m.write(word + \"\\n\")\n",
        "out_v.close()\n",
        "out_m.close()"
      ],
      "metadata": {
        "id": "4J565xUdB8gL"
      },
      "id": "4J565xUdB8gL",
      "execution_count": 40,
      "outputs": []
    },
    {
      "cell_type": "code",
      "source": [
        "# After this download step use projector tensorflow to visualzize it\n",
        "\"\"\"\n",
        "try:\n",
        "  from google.colab import files\n",
        "  files.download('vectors.tsv')\n",
        "  files.download('metadata.tsv')\n",
        "except Exception:\n",
        "  pass\n",
        "\"\"\"\n"
      ],
      "metadata": {
        "id": "QiGrdgdUB9aK",
        "outputId": "e4512885-c853-41f7-8d7c-0375d4d58ad1",
        "colab": {
          "base_uri": "https://localhost:8080/",
          "height": 35
        }
      },
      "id": "QiGrdgdUB9aK",
      "execution_count": 41,
      "outputs": [
        {
          "output_type": "execute_result",
          "data": {
            "text/plain": [
              "\"\\ntry:\\n  from google.colab import files\\n  files.download('vectors.tsv')\\n  files.download('metadata.tsv')\\nexcept Exception:\\n  pass\\n\""
            ],
            "application/vnd.google.colaboratory.intrinsic+json": {
              "type": "string"
            }
          },
          "metadata": {},
          "execution_count": 41
        }
      ]
    },
    {
      "cell_type": "markdown",
      "source": [
        "# ***MODEL2 =  LSTM [LONG SHORT TERM MEMORY]***"
      ],
      "metadata": {
        "id": "s3TiE9k7-qzW"
      },
      "id": "s3TiE9k7-qzW"
    },
    {
      "cell_type": "code",
      "source": [
        "from tensorflow.keras import layers\n"
      ],
      "metadata": {
        "id": "VI9DORkn-5im"
      },
      "id": "VI9DORkn-5im",
      "execution_count": 52,
      "outputs": []
    },
    {
      "cell_type": "code",
      "source": [
        "inputs=layers.Input(shape=(1,),dtype=tf.string)\n",
        "x=text_vectorizer(inputs)\n",
        "x=embedding(x)\n",
        "x=layers.LSTM(64,return_sequences=True)(x)\n",
        "x=layers.LSTM(64)(x)\n",
        "x=layers.Dense(64,activation='relu')(x)\n",
        "outputs=layers.Dense(1,activation='sigmoid')(x)\n",
        "model_2=tf.keras.Model(inputs,outputs)"
      ],
      "metadata": {
        "id": "iA3Mqk0H_GH2"
      },
      "id": "iA3Mqk0H_GH2",
      "execution_count": 53,
      "outputs": []
    },
    {
      "cell_type": "code",
      "source": [
        "model_2.compile(loss='binary_crossentropy',\n",
        "                optimizer=tf.keras.optimizers.Adam(),\n",
        "                metrics=['accuracy'])"
      ],
      "metadata": {
        "id": "E0Mw9dX9Awxk"
      },
      "id": "E0Mw9dX9Awxk",
      "execution_count": 54,
      "outputs": []
    },
    {
      "cell_type": "code",
      "source": [
        "model_2.summary()"
      ],
      "metadata": {
        "id": "bpT9eHEFBeRJ",
        "outputId": "4e42f423-016f-4ba7-9e83-46173c9e6325",
        "colab": {
          "base_uri": "https://localhost:8080/",
          "height": 372
        }
      },
      "id": "bpT9eHEFBeRJ",
      "execution_count": 55,
      "outputs": [
        {
          "output_type": "display_data",
          "data": {
            "text/plain": [
              "\u001b[1mModel: \"functional_1\"\u001b[0m\n"
            ],
            "text/html": [
              "<pre style=\"white-space:pre;overflow-x:auto;line-height:normal;font-family:Menlo,'DejaVu Sans Mono',consolas,'Courier New',monospace\"><span style=\"font-weight: bold\">Model: \"functional_1\"</span>\n",
              "</pre>\n"
            ]
          },
          "metadata": {}
        },
        {
          "output_type": "display_data",
          "data": {
            "text/plain": [
              "┏━━━━━━━━━━━━━━━━━━━━━━━━━━━━━━━━━┳━━━━━━━━━━━━━━━━━━━━━━━━┳━━━━━━━━━━━━━━━┓\n",
              "┃\u001b[1m \u001b[0m\u001b[1mLayer (type)                   \u001b[0m\u001b[1m \u001b[0m┃\u001b[1m \u001b[0m\u001b[1mOutput Shape          \u001b[0m\u001b[1m \u001b[0m┃\u001b[1m \u001b[0m\u001b[1m      Param #\u001b[0m\u001b[1m \u001b[0m┃\n",
              "┡━━━━━━━━━━━━━━━━━━━━━━━━━━━━━━━━━╇━━━━━━━━━━━━━━━━━━━━━━━━╇━━━━━━━━━━━━━━━┩\n",
              "│ input_layer_3 (\u001b[38;5;33mInputLayer\u001b[0m)      │ (\u001b[38;5;45mNone\u001b[0m, \u001b[38;5;34m1\u001b[0m)              │             \u001b[38;5;34m0\u001b[0m │\n",
              "├─────────────────────────────────┼────────────────────────┼───────────────┤\n",
              "│ text_vectorization_1            │ (\u001b[38;5;45mNone\u001b[0m, \u001b[38;5;34m100\u001b[0m)            │             \u001b[38;5;34m0\u001b[0m │\n",
              "│ (\u001b[38;5;33mTextVectorization\u001b[0m)             │                        │               │\n",
              "├─────────────────────────────────┼────────────────────────┼───────────────┤\n",
              "│ embedding (\u001b[38;5;33mEmbedding\u001b[0m)           │ (\u001b[38;5;45mNone\u001b[0m, \u001b[38;5;34m100\u001b[0m, \u001b[38;5;34m128\u001b[0m)       │        \u001b[38;5;34m12,800\u001b[0m │\n",
              "├─────────────────────────────────┼────────────────────────┼───────────────┤\n",
              "│ lstm_3 (\u001b[38;5;33mLSTM\u001b[0m)                   │ (\u001b[38;5;45mNone\u001b[0m, \u001b[38;5;34m100\u001b[0m, \u001b[38;5;34m64\u001b[0m)        │        \u001b[38;5;34m49,408\u001b[0m │\n",
              "├─────────────────────────────────┼────────────────────────┼───────────────┤\n",
              "│ lstm_4 (\u001b[38;5;33mLSTM\u001b[0m)                   │ (\u001b[38;5;45mNone\u001b[0m, \u001b[38;5;34m64\u001b[0m)             │        \u001b[38;5;34m33,024\u001b[0m │\n",
              "├─────────────────────────────────┼────────────────────────┼───────────────┤\n",
              "│ dense_3 (\u001b[38;5;33mDense\u001b[0m)                 │ (\u001b[38;5;45mNone\u001b[0m, \u001b[38;5;34m64\u001b[0m)             │         \u001b[38;5;34m4,160\u001b[0m │\n",
              "├─────────────────────────────────┼────────────────────────┼───────────────┤\n",
              "│ dense_4 (\u001b[38;5;33mDense\u001b[0m)                 │ (\u001b[38;5;45mNone\u001b[0m, \u001b[38;5;34m1\u001b[0m)              │            \u001b[38;5;34m65\u001b[0m │\n",
              "└─────────────────────────────────┴────────────────────────┴───────────────┘\n"
            ],
            "text/html": [
              "<pre style=\"white-space:pre;overflow-x:auto;line-height:normal;font-family:Menlo,'DejaVu Sans Mono',consolas,'Courier New',monospace\">┏━━━━━━━━━━━━━━━━━━━━━━━━━━━━━━━━━┳━━━━━━━━━━━━━━━━━━━━━━━━┳━━━━━━━━━━━━━━━┓\n",
              "┃<span style=\"font-weight: bold\"> Layer (type)                    </span>┃<span style=\"font-weight: bold\"> Output Shape           </span>┃<span style=\"font-weight: bold\">       Param # </span>┃\n",
              "┡━━━━━━━━━━━━━━━━━━━━━━━━━━━━━━━━━╇━━━━━━━━━━━━━━━━━━━━━━━━╇━━━━━━━━━━━━━━━┩\n",
              "│ input_layer_3 (<span style=\"color: #0087ff; text-decoration-color: #0087ff\">InputLayer</span>)      │ (<span style=\"color: #00d7ff; text-decoration-color: #00d7ff\">None</span>, <span style=\"color: #00af00; text-decoration-color: #00af00\">1</span>)              │             <span style=\"color: #00af00; text-decoration-color: #00af00\">0</span> │\n",
              "├─────────────────────────────────┼────────────────────────┼───────────────┤\n",
              "│ text_vectorization_1            │ (<span style=\"color: #00d7ff; text-decoration-color: #00d7ff\">None</span>, <span style=\"color: #00af00; text-decoration-color: #00af00\">100</span>)            │             <span style=\"color: #00af00; text-decoration-color: #00af00\">0</span> │\n",
              "│ (<span style=\"color: #0087ff; text-decoration-color: #0087ff\">TextVectorization</span>)             │                        │               │\n",
              "├─────────────────────────────────┼────────────────────────┼───────────────┤\n",
              "│ embedding (<span style=\"color: #0087ff; text-decoration-color: #0087ff\">Embedding</span>)           │ (<span style=\"color: #00d7ff; text-decoration-color: #00d7ff\">None</span>, <span style=\"color: #00af00; text-decoration-color: #00af00\">100</span>, <span style=\"color: #00af00; text-decoration-color: #00af00\">128</span>)       │        <span style=\"color: #00af00; text-decoration-color: #00af00\">12,800</span> │\n",
              "├─────────────────────────────────┼────────────────────────┼───────────────┤\n",
              "│ lstm_3 (<span style=\"color: #0087ff; text-decoration-color: #0087ff\">LSTM</span>)                   │ (<span style=\"color: #00d7ff; text-decoration-color: #00d7ff\">None</span>, <span style=\"color: #00af00; text-decoration-color: #00af00\">100</span>, <span style=\"color: #00af00; text-decoration-color: #00af00\">64</span>)        │        <span style=\"color: #00af00; text-decoration-color: #00af00\">49,408</span> │\n",
              "├─────────────────────────────────┼────────────────────────┼───────────────┤\n",
              "│ lstm_4 (<span style=\"color: #0087ff; text-decoration-color: #0087ff\">LSTM</span>)                   │ (<span style=\"color: #00d7ff; text-decoration-color: #00d7ff\">None</span>, <span style=\"color: #00af00; text-decoration-color: #00af00\">64</span>)             │        <span style=\"color: #00af00; text-decoration-color: #00af00\">33,024</span> │\n",
              "├─────────────────────────────────┼────────────────────────┼───────────────┤\n",
              "│ dense_3 (<span style=\"color: #0087ff; text-decoration-color: #0087ff\">Dense</span>)                 │ (<span style=\"color: #00d7ff; text-decoration-color: #00d7ff\">None</span>, <span style=\"color: #00af00; text-decoration-color: #00af00\">64</span>)             │         <span style=\"color: #00af00; text-decoration-color: #00af00\">4,160</span> │\n",
              "├─────────────────────────────────┼────────────────────────┼───────────────┤\n",
              "│ dense_4 (<span style=\"color: #0087ff; text-decoration-color: #0087ff\">Dense</span>)                 │ (<span style=\"color: #00d7ff; text-decoration-color: #00d7ff\">None</span>, <span style=\"color: #00af00; text-decoration-color: #00af00\">1</span>)              │            <span style=\"color: #00af00; text-decoration-color: #00af00\">65</span> │\n",
              "└─────────────────────────────────┴────────────────────────┴───────────────┘\n",
              "</pre>\n"
            ]
          },
          "metadata": {}
        },
        {
          "output_type": "display_data",
          "data": {
            "text/plain": [
              "\u001b[1m Total params: \u001b[0m\u001b[38;5;34m99,457\u001b[0m (388.50 KB)\n"
            ],
            "text/html": [
              "<pre style=\"white-space:pre;overflow-x:auto;line-height:normal;font-family:Menlo,'DejaVu Sans Mono',consolas,'Courier New',monospace\"><span style=\"font-weight: bold\"> Total params: </span><span style=\"color: #00af00; text-decoration-color: #00af00\">99,457</span> (388.50 KB)\n",
              "</pre>\n"
            ]
          },
          "metadata": {}
        },
        {
          "output_type": "display_data",
          "data": {
            "text/plain": [
              "\u001b[1m Trainable params: \u001b[0m\u001b[38;5;34m99,457\u001b[0m (388.50 KB)\n"
            ],
            "text/html": [
              "<pre style=\"white-space:pre;overflow-x:auto;line-height:normal;font-family:Menlo,'DejaVu Sans Mono',consolas,'Courier New',monospace\"><span style=\"font-weight: bold\"> Trainable params: </span><span style=\"color: #00af00; text-decoration-color: #00af00\">99,457</span> (388.50 KB)\n",
              "</pre>\n"
            ]
          },
          "metadata": {}
        },
        {
          "output_type": "display_data",
          "data": {
            "text/plain": [
              "\u001b[1m Non-trainable params: \u001b[0m\u001b[38;5;34m0\u001b[0m (0.00 B)\n"
            ],
            "text/html": [
              "<pre style=\"white-space:pre;overflow-x:auto;line-height:normal;font-family:Menlo,'DejaVu Sans Mono',consolas,'Courier New',monospace\"><span style=\"font-weight: bold\"> Non-trainable params: </span><span style=\"color: #00af00; text-decoration-color: #00af00\">0</span> (0.00 B)\n",
              "</pre>\n"
            ]
          },
          "metadata": {}
        }
      ]
    },
    {
      "cell_type": "code",
      "source": [
        "model_2_history=model_2.fit(train_sentances,train_labels,epochs=5,validation_data=(val_sentances,val_labels),callbacks=[create_tensorboard_callback(SAVE_DIR,\"model_2_LSTM\")])"
      ],
      "metadata": {
        "colab": {
          "base_uri": "https://localhost:8080/"
        },
        "id": "Glw6UceeA_mr",
        "outputId": "df8622e4-d24a-4204-8bf0-701760b564f5"
      },
      "id": "Glw6UceeA_mr",
      "execution_count": 56,
      "outputs": [
        {
          "output_type": "stream",
          "name": "stdout",
          "text": [
            "Saving TensorBoard log files to: ModelLogs/model_2_LSTM/20251026-053945\n",
            "Epoch 1/5\n",
            "\u001b[1m215/215\u001b[0m \u001b[32m━━━━━━━━━━━━━━━━━━━━\u001b[0m\u001b[37m\u001b[0m \u001b[1m5s\u001b[0m 15ms/step - accuracy: 0.5819 - loss: 0.6836 - val_accuracy: 0.5433 - val_loss: 0.6899\n",
            "Epoch 2/5\n",
            "\u001b[1m215/215\u001b[0m \u001b[32m━━━━━━━━━━━━━━━━━━━━\u001b[0m\u001b[37m\u001b[0m \u001b[1m3s\u001b[0m 14ms/step - accuracy: 0.5767 - loss: 0.6823 - val_accuracy: 0.5433 - val_loss: 0.6908\n",
            "Epoch 3/5\n",
            "\u001b[1m215/215\u001b[0m \u001b[32m━━━━━━━━━━━━━━━━━━━━\u001b[0m\u001b[37m\u001b[0m \u001b[1m3s\u001b[0m 15ms/step - accuracy: 0.5636 - loss: 0.6854 - val_accuracy: 0.5433 - val_loss: 0.6915\n",
            "Epoch 4/5\n",
            "\u001b[1m215/215\u001b[0m \u001b[32m━━━━━━━━━━━━━━━━━━━━\u001b[0m\u001b[37m\u001b[0m \u001b[1m3s\u001b[0m 13ms/step - accuracy: 0.5707 - loss: 0.6836 - val_accuracy: 0.5433 - val_loss: 0.6906\n",
            "Epoch 5/5\n",
            "\u001b[1m215/215\u001b[0m \u001b[32m━━━━━━━━━━━━━━━━━━━━\u001b[0m\u001b[37m\u001b[0m \u001b[1m3s\u001b[0m 13ms/step - accuracy: 0.5645 - loss: 0.6854 - val_accuracy: 0.5433 - val_loss: 0.6930\n"
          ]
        }
      ]
    },
    {
      "cell_type": "code",
      "source": [
        "model_2_pred_probs=model_2.predict(val_sentances)\n",
        "model_2_pred_probs[:10]"
      ],
      "metadata": {
        "id": "iSbZa8kWBXAP",
        "outputId": "a679f16f-4cf5-4b04-af0a-cf2b20f044b3",
        "colab": {
          "base_uri": "https://localhost:8080/"
        }
      },
      "id": "iSbZa8kWBXAP",
      "execution_count": 57,
      "outputs": [
        {
          "output_type": "stream",
          "name": "stdout",
          "text": [
            "\u001b[1m24/24\u001b[0m \u001b[32m━━━━━━━━━━━━━━━━━━━━\u001b[0m\u001b[37m\u001b[0m \u001b[1m1s\u001b[0m 16ms/step\n"
          ]
        },
        {
          "output_type": "execute_result",
          "data": {
            "text/plain": [
              "array([[0.41464683],\n",
              "       [0.41464683],\n",
              "       [0.41464683],\n",
              "       [0.41464683],\n",
              "       [0.41464683],\n",
              "       [0.41464683],\n",
              "       [0.41464683],\n",
              "       [0.41464683],\n",
              "       [0.41464683],\n",
              "       [0.41464683]], dtype=float32)"
            ]
          },
          "metadata": {},
          "execution_count": 57
        }
      ]
    },
    {
      "cell_type": "code",
      "source": [
        "model_2_preds=tf.squeeze(tf.round(model_2_pred_probs))\n",
        "model_2_preds[:10]"
      ],
      "metadata": {
        "id": "rpzJwHiWCMPp",
        "outputId": "ba04b524-1a34-4020-fc98-a898d8511105",
        "colab": {
          "base_uri": "https://localhost:8080/"
        }
      },
      "id": "rpzJwHiWCMPp",
      "execution_count": 59,
      "outputs": [
        {
          "output_type": "execute_result",
          "data": {
            "text/plain": [
              "<tf.Tensor: shape=(10,), dtype=float32, numpy=array([0., 0., 0., 0., 0., 0., 0., 0., 0., 0.], dtype=float32)>"
            ]
          },
          "metadata": {},
          "execution_count": 59
        }
      ]
    },
    {
      "cell_type": "code",
      "source": [],
      "metadata": {
        "id": "FXjvEqQNCZru"
      },
      "id": "FXjvEqQNCZru",
      "execution_count": null,
      "outputs": []
    }
  ],
  "metadata": {
    "kernelspec": {
      "display_name": "TensorFlow GPU",
      "language": "python",
      "name": "tf-gpu"
    },
    "language_info": {
      "name": "python",
      "version": "3.10.11"
    },
    "colab": {
      "provenance": [],
      "gpuType": "T4",
      "include_colab_link": true
    },
    "accelerator": "GPU"
  },
  "nbformat": 4,
  "nbformat_minor": 5
}