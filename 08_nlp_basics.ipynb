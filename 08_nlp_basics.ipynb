{
  "cells": [
    {
      "cell_type": "markdown",
      "metadata": {
        "id": "view-in-github",
        "colab_type": "text"
      },
      "source": [
        "<a href=\"https://colab.research.google.com/github/FairozAhmadSheikh/DeepLearning_Bootcamp_with_Tensor_Flow/blob/main/08_nlp_basics.ipynb\" target=\"_parent\"><img src=\"https://colab.research.google.com/assets/colab-badge.svg\" alt=\"Open In Colab\"/></a>"
      ]
    },
    {
      "cell_type": "code",
      "execution_count": 1,
      "id": "79bebad2",
      "metadata": {
        "colab": {
          "base_uri": "https://localhost:8080/"
        },
        "id": "79bebad2",
        "outputId": "3eee86b8-1e08-4cda-d4cd-2604f583d940"
      },
      "outputs": [
        {
          "output_type": "stream",
          "name": "stdout",
          "text": [
            "--2025-10-24 04:02:41--  https://raw.githubusercontent.com/FairozAhmadSheikh/DeepLearning_Bootcamp_with_Tensor_Flow/refs/heads/main/helper_functions/helper_functions.py\n",
            "Resolving raw.githubusercontent.com (raw.githubusercontent.com)... 185.199.108.133, 185.199.111.133, 185.199.110.133, ...\n",
            "Connecting to raw.githubusercontent.com (raw.githubusercontent.com)|185.199.108.133|:443... connected.\n",
            "HTTP request sent, awaiting response... 200 OK\n",
            "Length: 6733 (6.6K) [text/plain]\n",
            "Saving to: ‘helper_functions.py’\n",
            "\n",
            "\rhelper_functions.py   0%[                    ]       0  --.-KB/s               \rhelper_functions.py 100%[===================>]   6.58K  --.-KB/s    in 0s      \n",
            "\n",
            "2025-10-24 04:02:42 (33.3 MB/s) - ‘helper_functions.py’ saved [6733/6733]\n",
            "\n"
          ]
        }
      ],
      "source": [
        "!wget https://raw.githubusercontent.com/FairozAhmadSheikh/DeepLearning_Bootcamp_with_Tensor_Flow/refs/heads/main/helper_functions/helper_functions.py"
      ]
    },
    {
      "cell_type": "code",
      "source": [
        "from helper_functions import unzip_data,plot_loss_curves,compare_historys,create_tensorboard_callback"
      ],
      "metadata": {
        "id": "q1kydqFNoI4r"
      },
      "id": "q1kydqFNoI4r",
      "execution_count": 2,
      "outputs": []
    },
    {
      "cell_type": "code",
      "source": [
        "# Get the Dataset from kaggle NLP with Disaster Tweets\n",
        "!wget https://storage.googleapis.com/ztm_tf_course/nlp_getting_started.zip"
      ],
      "metadata": {
        "colab": {
          "base_uri": "https://localhost:8080/"
        },
        "id": "2DCyKa_jobwa",
        "outputId": "13a9a871-9bd0-4d28-a2ca-3285a2dfcb79"
      },
      "id": "2DCyKa_jobwa",
      "execution_count": 3,
      "outputs": [
        {
          "output_type": "stream",
          "name": "stdout",
          "text": [
            "--2025-10-24 04:02:50--  https://storage.googleapis.com/ztm_tf_course/nlp_getting_started.zip\n",
            "Resolving storage.googleapis.com (storage.googleapis.com)... 172.217.214.207, 108.177.121.207, 142.251.183.207, ...\n",
            "Connecting to storage.googleapis.com (storage.googleapis.com)|172.217.214.207|:443... connected.\n",
            "HTTP request sent, awaiting response... 200 OK\n",
            "Length: 607343 (593K) [application/zip]\n",
            "Saving to: ‘nlp_getting_started.zip’\n",
            "\n",
            "\rnlp_getting_started   0%[                    ]       0  --.-KB/s               \rnlp_getting_started 100%[===================>] 593.11K  --.-KB/s    in 0.02s   \n",
            "\n",
            "2025-10-24 04:02:51 (37.4 MB/s) - ‘nlp_getting_started.zip’ saved [607343/607343]\n",
            "\n"
          ]
        }
      ]
    },
    {
      "cell_type": "code",
      "source": [
        "unzip_data(\"nlp_getting_started.zip\")"
      ],
      "metadata": {
        "id": "9T83aIBFovEb"
      },
      "id": "9T83aIBFovEb",
      "execution_count": 4,
      "outputs": []
    },
    {
      "cell_type": "code",
      "source": [
        "# Become One with Dataset (Visualize)\n",
        "import pandas as pd\n",
        "train_df=pd.read_csv('train.csv')\n",
        "test_df=pd.read_csv('test.csv')\n",
        "train_df.head()"
      ],
      "metadata": {
        "colab": {
          "base_uri": "https://localhost:8080/",
          "height": 206
        },
        "id": "ruf8rF-Lpafz",
        "outputId": "8fae1922-b75f-4f06-a433-045a2323ddb1"
      },
      "id": "ruf8rF-Lpafz",
      "execution_count": 5,
      "outputs": [
        {
          "output_type": "execute_result",
          "data": {
            "text/plain": [
              "   id keyword location                                               text  \\\n",
              "0   1     NaN      NaN  Our Deeds are the Reason of this #earthquake M...   \n",
              "1   4     NaN      NaN             Forest fire near La Ronge Sask. Canada   \n",
              "2   5     NaN      NaN  All residents asked to 'shelter in place' are ...   \n",
              "3   6     NaN      NaN  13,000 people receive #wildfires evacuation or...   \n",
              "4   7     NaN      NaN  Just got sent this photo from Ruby #Alaska as ...   \n",
              "\n",
              "   target  \n",
              "0       1  \n",
              "1       1  \n",
              "2       1  \n",
              "3       1  \n",
              "4       1  "
            ],
            "text/html": [
              "\n",
              "  <div id=\"df-76b9c711-cbde-4a85-99d1-cbddf8894dba\" class=\"colab-df-container\">\n",
              "    <div>\n",
              "<style scoped>\n",
              "    .dataframe tbody tr th:only-of-type {\n",
              "        vertical-align: middle;\n",
              "    }\n",
              "\n",
              "    .dataframe tbody tr th {\n",
              "        vertical-align: top;\n",
              "    }\n",
              "\n",
              "    .dataframe thead th {\n",
              "        text-align: right;\n",
              "    }\n",
              "</style>\n",
              "<table border=\"1\" class=\"dataframe\">\n",
              "  <thead>\n",
              "    <tr style=\"text-align: right;\">\n",
              "      <th></th>\n",
              "      <th>id</th>\n",
              "      <th>keyword</th>\n",
              "      <th>location</th>\n",
              "      <th>text</th>\n",
              "      <th>target</th>\n",
              "    </tr>\n",
              "  </thead>\n",
              "  <tbody>\n",
              "    <tr>\n",
              "      <th>0</th>\n",
              "      <td>1</td>\n",
              "      <td>NaN</td>\n",
              "      <td>NaN</td>\n",
              "      <td>Our Deeds are the Reason of this #earthquake M...</td>\n",
              "      <td>1</td>\n",
              "    </tr>\n",
              "    <tr>\n",
              "      <th>1</th>\n",
              "      <td>4</td>\n",
              "      <td>NaN</td>\n",
              "      <td>NaN</td>\n",
              "      <td>Forest fire near La Ronge Sask. Canada</td>\n",
              "      <td>1</td>\n",
              "    </tr>\n",
              "    <tr>\n",
              "      <th>2</th>\n",
              "      <td>5</td>\n",
              "      <td>NaN</td>\n",
              "      <td>NaN</td>\n",
              "      <td>All residents asked to 'shelter in place' are ...</td>\n",
              "      <td>1</td>\n",
              "    </tr>\n",
              "    <tr>\n",
              "      <th>3</th>\n",
              "      <td>6</td>\n",
              "      <td>NaN</td>\n",
              "      <td>NaN</td>\n",
              "      <td>13,000 people receive #wildfires evacuation or...</td>\n",
              "      <td>1</td>\n",
              "    </tr>\n",
              "    <tr>\n",
              "      <th>4</th>\n",
              "      <td>7</td>\n",
              "      <td>NaN</td>\n",
              "      <td>NaN</td>\n",
              "      <td>Just got sent this photo from Ruby #Alaska as ...</td>\n",
              "      <td>1</td>\n",
              "    </tr>\n",
              "  </tbody>\n",
              "</table>\n",
              "</div>\n",
              "    <div class=\"colab-df-buttons\">\n",
              "\n",
              "  <div class=\"colab-df-container\">\n",
              "    <button class=\"colab-df-convert\" onclick=\"convertToInteractive('df-76b9c711-cbde-4a85-99d1-cbddf8894dba')\"\n",
              "            title=\"Convert this dataframe to an interactive table.\"\n",
              "            style=\"display:none;\">\n",
              "\n",
              "  <svg xmlns=\"http://www.w3.org/2000/svg\" height=\"24px\" viewBox=\"0 -960 960 960\">\n",
              "    <path d=\"M120-120v-720h720v720H120Zm60-500h600v-160H180v160Zm220 220h160v-160H400v160Zm0 220h160v-160H400v160ZM180-400h160v-160H180v160Zm440 0h160v-160H620v160ZM180-180h160v-160H180v160Zm440 0h160v-160H620v160Z\"/>\n",
              "  </svg>\n",
              "    </button>\n",
              "\n",
              "  <style>\n",
              "    .colab-df-container {\n",
              "      display:flex;\n",
              "      gap: 12px;\n",
              "    }\n",
              "\n",
              "    .colab-df-convert {\n",
              "      background-color: #E8F0FE;\n",
              "      border: none;\n",
              "      border-radius: 50%;\n",
              "      cursor: pointer;\n",
              "      display: none;\n",
              "      fill: #1967D2;\n",
              "      height: 32px;\n",
              "      padding: 0 0 0 0;\n",
              "      width: 32px;\n",
              "    }\n",
              "\n",
              "    .colab-df-convert:hover {\n",
              "      background-color: #E2EBFA;\n",
              "      box-shadow: 0px 1px 2px rgba(60, 64, 67, 0.3), 0px 1px 3px 1px rgba(60, 64, 67, 0.15);\n",
              "      fill: #174EA6;\n",
              "    }\n",
              "\n",
              "    .colab-df-buttons div {\n",
              "      margin-bottom: 4px;\n",
              "    }\n",
              "\n",
              "    [theme=dark] .colab-df-convert {\n",
              "      background-color: #3B4455;\n",
              "      fill: #D2E3FC;\n",
              "    }\n",
              "\n",
              "    [theme=dark] .colab-df-convert:hover {\n",
              "      background-color: #434B5C;\n",
              "      box-shadow: 0px 1px 3px 1px rgba(0, 0, 0, 0.15);\n",
              "      filter: drop-shadow(0px 1px 2px rgba(0, 0, 0, 0.3));\n",
              "      fill: #FFFFFF;\n",
              "    }\n",
              "  </style>\n",
              "\n",
              "    <script>\n",
              "      const buttonEl =\n",
              "        document.querySelector('#df-76b9c711-cbde-4a85-99d1-cbddf8894dba button.colab-df-convert');\n",
              "      buttonEl.style.display =\n",
              "        google.colab.kernel.accessAllowed ? 'block' : 'none';\n",
              "\n",
              "      async function convertToInteractive(key) {\n",
              "        const element = document.querySelector('#df-76b9c711-cbde-4a85-99d1-cbddf8894dba');\n",
              "        const dataTable =\n",
              "          await google.colab.kernel.invokeFunction('convertToInteractive',\n",
              "                                                    [key], {});\n",
              "        if (!dataTable) return;\n",
              "\n",
              "        const docLinkHtml = 'Like what you see? Visit the ' +\n",
              "          '<a target=\"_blank\" href=https://colab.research.google.com/notebooks/data_table.ipynb>data table notebook</a>'\n",
              "          + ' to learn more about interactive tables.';\n",
              "        element.innerHTML = '';\n",
              "        dataTable['output_type'] = 'display_data';\n",
              "        await google.colab.output.renderOutput(dataTable, element);\n",
              "        const docLink = document.createElement('div');\n",
              "        docLink.innerHTML = docLinkHtml;\n",
              "        element.appendChild(docLink);\n",
              "      }\n",
              "    </script>\n",
              "  </div>\n",
              "\n",
              "\n",
              "    <div id=\"df-d8664c06-78e2-4b96-9dc7-02fa0311c73c\">\n",
              "      <button class=\"colab-df-quickchart\" onclick=\"quickchart('df-d8664c06-78e2-4b96-9dc7-02fa0311c73c')\"\n",
              "                title=\"Suggest charts\"\n",
              "                style=\"display:none;\">\n",
              "\n",
              "<svg xmlns=\"http://www.w3.org/2000/svg\" height=\"24px\"viewBox=\"0 0 24 24\"\n",
              "     width=\"24px\">\n",
              "    <g>\n",
              "        <path d=\"M19 3H5c-1.1 0-2 .9-2 2v14c0 1.1.9 2 2 2h14c1.1 0 2-.9 2-2V5c0-1.1-.9-2-2-2zM9 17H7v-7h2v7zm4 0h-2V7h2v10zm4 0h-2v-4h2v4z\"/>\n",
              "    </g>\n",
              "</svg>\n",
              "      </button>\n",
              "\n",
              "<style>\n",
              "  .colab-df-quickchart {\n",
              "      --bg-color: #E8F0FE;\n",
              "      --fill-color: #1967D2;\n",
              "      --hover-bg-color: #E2EBFA;\n",
              "      --hover-fill-color: #174EA6;\n",
              "      --disabled-fill-color: #AAA;\n",
              "      --disabled-bg-color: #DDD;\n",
              "  }\n",
              "\n",
              "  [theme=dark] .colab-df-quickchart {\n",
              "      --bg-color: #3B4455;\n",
              "      --fill-color: #D2E3FC;\n",
              "      --hover-bg-color: #434B5C;\n",
              "      --hover-fill-color: #FFFFFF;\n",
              "      --disabled-bg-color: #3B4455;\n",
              "      --disabled-fill-color: #666;\n",
              "  }\n",
              "\n",
              "  .colab-df-quickchart {\n",
              "    background-color: var(--bg-color);\n",
              "    border: none;\n",
              "    border-radius: 50%;\n",
              "    cursor: pointer;\n",
              "    display: none;\n",
              "    fill: var(--fill-color);\n",
              "    height: 32px;\n",
              "    padding: 0;\n",
              "    width: 32px;\n",
              "  }\n",
              "\n",
              "  .colab-df-quickchart:hover {\n",
              "    background-color: var(--hover-bg-color);\n",
              "    box-shadow: 0 1px 2px rgba(60, 64, 67, 0.3), 0 1px 3px 1px rgba(60, 64, 67, 0.15);\n",
              "    fill: var(--button-hover-fill-color);\n",
              "  }\n",
              "\n",
              "  .colab-df-quickchart-complete:disabled,\n",
              "  .colab-df-quickchart-complete:disabled:hover {\n",
              "    background-color: var(--disabled-bg-color);\n",
              "    fill: var(--disabled-fill-color);\n",
              "    box-shadow: none;\n",
              "  }\n",
              "\n",
              "  .colab-df-spinner {\n",
              "    border: 2px solid var(--fill-color);\n",
              "    border-color: transparent;\n",
              "    border-bottom-color: var(--fill-color);\n",
              "    animation:\n",
              "      spin 1s steps(1) infinite;\n",
              "  }\n",
              "\n",
              "  @keyframes spin {\n",
              "    0% {\n",
              "      border-color: transparent;\n",
              "      border-bottom-color: var(--fill-color);\n",
              "      border-left-color: var(--fill-color);\n",
              "    }\n",
              "    20% {\n",
              "      border-color: transparent;\n",
              "      border-left-color: var(--fill-color);\n",
              "      border-top-color: var(--fill-color);\n",
              "    }\n",
              "    30% {\n",
              "      border-color: transparent;\n",
              "      border-left-color: var(--fill-color);\n",
              "      border-top-color: var(--fill-color);\n",
              "      border-right-color: var(--fill-color);\n",
              "    }\n",
              "    40% {\n",
              "      border-color: transparent;\n",
              "      border-right-color: var(--fill-color);\n",
              "      border-top-color: var(--fill-color);\n",
              "    }\n",
              "    60% {\n",
              "      border-color: transparent;\n",
              "      border-right-color: var(--fill-color);\n",
              "    }\n",
              "    80% {\n",
              "      border-color: transparent;\n",
              "      border-right-color: var(--fill-color);\n",
              "      border-bottom-color: var(--fill-color);\n",
              "    }\n",
              "    90% {\n",
              "      border-color: transparent;\n",
              "      border-bottom-color: var(--fill-color);\n",
              "    }\n",
              "  }\n",
              "</style>\n",
              "\n",
              "      <script>\n",
              "        async function quickchart(key) {\n",
              "          const quickchartButtonEl =\n",
              "            document.querySelector('#' + key + ' button');\n",
              "          quickchartButtonEl.disabled = true;  // To prevent multiple clicks.\n",
              "          quickchartButtonEl.classList.add('colab-df-spinner');\n",
              "          try {\n",
              "            const charts = await google.colab.kernel.invokeFunction(\n",
              "                'suggestCharts', [key], {});\n",
              "          } catch (error) {\n",
              "            console.error('Error during call to suggestCharts:', error);\n",
              "          }\n",
              "          quickchartButtonEl.classList.remove('colab-df-spinner');\n",
              "          quickchartButtonEl.classList.add('colab-df-quickchart-complete');\n",
              "        }\n",
              "        (() => {\n",
              "          let quickchartButtonEl =\n",
              "            document.querySelector('#df-d8664c06-78e2-4b96-9dc7-02fa0311c73c button');\n",
              "          quickchartButtonEl.style.display =\n",
              "            google.colab.kernel.accessAllowed ? 'block' : 'none';\n",
              "        })();\n",
              "      </script>\n",
              "    </div>\n",
              "\n",
              "    </div>\n",
              "  </div>\n"
            ],
            "application/vnd.google.colaboratory.intrinsic+json": {
              "type": "dataframe",
              "variable_name": "train_df",
              "summary": "{\n  \"name\": \"train_df\",\n  \"rows\": 7613,\n  \"fields\": [\n    {\n      \"column\": \"id\",\n      \"properties\": {\n        \"dtype\": \"number\",\n        \"std\": 3137,\n        \"min\": 1,\n        \"max\": 10873,\n        \"num_unique_values\": 7613,\n        \"samples\": [\n          3796,\n          3185,\n          7769\n        ],\n        \"semantic_type\": \"\",\n        \"description\": \"\"\n      }\n    },\n    {\n      \"column\": \"keyword\",\n      \"properties\": {\n        \"dtype\": \"category\",\n        \"num_unique_values\": 221,\n        \"samples\": [\n          \"injury\",\n          \"nuclear%20reactor\",\n          \"engulfed\"\n        ],\n        \"semantic_type\": \"\",\n        \"description\": \"\"\n      }\n    },\n    {\n      \"column\": \"location\",\n      \"properties\": {\n        \"dtype\": \"category\",\n        \"num_unique_values\": 3341,\n        \"samples\": [\n          \"Oklahoma\",\n          \"Starling City\",\n          \"Trinidad and Tobago\"\n        ],\n        \"semantic_type\": \"\",\n        \"description\": \"\"\n      }\n    },\n    {\n      \"column\": \"text\",\n      \"properties\": {\n        \"dtype\": \"string\",\n        \"num_unique_values\": 7503,\n        \"samples\": [\n          \"Three Homes Demolished in Unrecognized Arab Village - International Middle East Media Center http://t.co/ik8m4Yi9T4\",\n          \"Reid Lake fire prompts campground evacuation order http://t.co/jBODKM6rBU\",\n          \"FAAN orders evacuation of abandoned aircraft at MMA http://t.co/dEvYbnVXGQ via @todayng\"\n        ],\n        \"semantic_type\": \"\",\n        \"description\": \"\"\n      }\n    },\n    {\n      \"column\": \"target\",\n      \"properties\": {\n        \"dtype\": \"number\",\n        \"std\": 0,\n        \"min\": 0,\n        \"max\": 1,\n        \"num_unique_values\": 2,\n        \"samples\": [\n          0,\n          1\n        ],\n        \"semantic_type\": \"\",\n        \"description\": \"\"\n      }\n    }\n  ]\n}"
            }
          },
          "metadata": {},
          "execution_count": 5
        }
      ]
    },
    {
      "cell_type": "code",
      "source": [
        "train_df['text'][1]"
      ],
      "metadata": {
        "colab": {
          "base_uri": "https://localhost:8080/",
          "height": 35
        },
        "id": "M2gAI_KPptCk",
        "outputId": "924e2edf-f406-46a8-91c5-6bef320c0839"
      },
      "id": "M2gAI_KPptCk",
      "execution_count": 6,
      "outputs": [
        {
          "output_type": "execute_result",
          "data": {
            "text/plain": [
              "'Forest fire near La Ronge Sask. Canada'"
            ],
            "application/vnd.google.colaboratory.intrinsic+json": {
              "type": "string"
            }
          },
          "metadata": {},
          "execution_count": 6
        }
      ]
    },
    {
      "cell_type": "code",
      "source": [
        "train_df['text'][0]"
      ],
      "metadata": {
        "colab": {
          "base_uri": "https://localhost:8080/",
          "height": 35
        },
        "id": "B3Hua_hrp-U9",
        "outputId": "dfbcf24a-e1b4-48b9-97d5-71a7db6a2a79"
      },
      "id": "B3Hua_hrp-U9",
      "execution_count": 7,
      "outputs": [
        {
          "output_type": "execute_result",
          "data": {
            "text/plain": [
              "'Our Deeds are the Reason of this #earthquake May ALLAH Forgive us all'"
            ],
            "application/vnd.google.colaboratory.intrinsic+json": {
              "type": "string"
            }
          },
          "metadata": {},
          "execution_count": 7
        }
      ]
    },
    {
      "cell_type": "code",
      "source": [
        "# Shuffle Dataset\n",
        "train_df_shuffled=train_df.sample(frac=1,random_state=42)\n",
        "train_df_shuffled.head()\n"
      ],
      "metadata": {
        "colab": {
          "base_uri": "https://localhost:8080/",
          "height": 206
        },
        "id": "R7s7Cm_uqMbN",
        "outputId": "ffe33d3f-0362-49a0-9d3e-a914db792df3"
      },
      "id": "R7s7Cm_uqMbN",
      "execution_count": 8,
      "outputs": [
        {
          "output_type": "execute_result",
          "data": {
            "text/plain": [
              "        id      keyword               location  \\\n",
              "2644  3796  destruction                    NaN   \n",
              "2227  3185       deluge                    NaN   \n",
              "5448  7769       police                     UK   \n",
              "132    191   aftershock                    NaN   \n",
              "6845  9810       trauma  Montgomery County, MD   \n",
              "\n",
              "                                                   text  target  \n",
              "2644  So you have a new weapon that can cause un-ima...       1  \n",
              "2227  The f$&amp;@ing things I do for #GISHWHES Just...       0  \n",
              "5448  DT @georgegalloway: RT @Galloway4Mayor: ÛÏThe...       1  \n",
              "132   Aftershock back to school kick off was great. ...       0  \n",
              "6845  in response to trauma Children of Addicts deve...       0  "
            ],
            "text/html": [
              "\n",
              "  <div id=\"df-a390f8fe-9c77-48c8-9409-44c58a9d7c96\" class=\"colab-df-container\">\n",
              "    <div>\n",
              "<style scoped>\n",
              "    .dataframe tbody tr th:only-of-type {\n",
              "        vertical-align: middle;\n",
              "    }\n",
              "\n",
              "    .dataframe tbody tr th {\n",
              "        vertical-align: top;\n",
              "    }\n",
              "\n",
              "    .dataframe thead th {\n",
              "        text-align: right;\n",
              "    }\n",
              "</style>\n",
              "<table border=\"1\" class=\"dataframe\">\n",
              "  <thead>\n",
              "    <tr style=\"text-align: right;\">\n",
              "      <th></th>\n",
              "      <th>id</th>\n",
              "      <th>keyword</th>\n",
              "      <th>location</th>\n",
              "      <th>text</th>\n",
              "      <th>target</th>\n",
              "    </tr>\n",
              "  </thead>\n",
              "  <tbody>\n",
              "    <tr>\n",
              "      <th>2644</th>\n",
              "      <td>3796</td>\n",
              "      <td>destruction</td>\n",
              "      <td>NaN</td>\n",
              "      <td>So you have a new weapon that can cause un-ima...</td>\n",
              "      <td>1</td>\n",
              "    </tr>\n",
              "    <tr>\n",
              "      <th>2227</th>\n",
              "      <td>3185</td>\n",
              "      <td>deluge</td>\n",
              "      <td>NaN</td>\n",
              "      <td>The f$&amp;amp;@ing things I do for #GISHWHES Just...</td>\n",
              "      <td>0</td>\n",
              "    </tr>\n",
              "    <tr>\n",
              "      <th>5448</th>\n",
              "      <td>7769</td>\n",
              "      <td>police</td>\n",
              "      <td>UK</td>\n",
              "      <td>DT @georgegalloway: RT @Galloway4Mayor: ÛÏThe...</td>\n",
              "      <td>1</td>\n",
              "    </tr>\n",
              "    <tr>\n",
              "      <th>132</th>\n",
              "      <td>191</td>\n",
              "      <td>aftershock</td>\n",
              "      <td>NaN</td>\n",
              "      <td>Aftershock back to school kick off was great. ...</td>\n",
              "      <td>0</td>\n",
              "    </tr>\n",
              "    <tr>\n",
              "      <th>6845</th>\n",
              "      <td>9810</td>\n",
              "      <td>trauma</td>\n",
              "      <td>Montgomery County, MD</td>\n",
              "      <td>in response to trauma Children of Addicts deve...</td>\n",
              "      <td>0</td>\n",
              "    </tr>\n",
              "  </tbody>\n",
              "</table>\n",
              "</div>\n",
              "    <div class=\"colab-df-buttons\">\n",
              "\n",
              "  <div class=\"colab-df-container\">\n",
              "    <button class=\"colab-df-convert\" onclick=\"convertToInteractive('df-a390f8fe-9c77-48c8-9409-44c58a9d7c96')\"\n",
              "            title=\"Convert this dataframe to an interactive table.\"\n",
              "            style=\"display:none;\">\n",
              "\n",
              "  <svg xmlns=\"http://www.w3.org/2000/svg\" height=\"24px\" viewBox=\"0 -960 960 960\">\n",
              "    <path d=\"M120-120v-720h720v720H120Zm60-500h600v-160H180v160Zm220 220h160v-160H400v160Zm0 220h160v-160H400v160ZM180-400h160v-160H180v160Zm440 0h160v-160H620v160ZM180-180h160v-160H180v160Zm440 0h160v-160H620v160Z\"/>\n",
              "  </svg>\n",
              "    </button>\n",
              "\n",
              "  <style>\n",
              "    .colab-df-container {\n",
              "      display:flex;\n",
              "      gap: 12px;\n",
              "    }\n",
              "\n",
              "    .colab-df-convert {\n",
              "      background-color: #E8F0FE;\n",
              "      border: none;\n",
              "      border-radius: 50%;\n",
              "      cursor: pointer;\n",
              "      display: none;\n",
              "      fill: #1967D2;\n",
              "      height: 32px;\n",
              "      padding: 0 0 0 0;\n",
              "      width: 32px;\n",
              "    }\n",
              "\n",
              "    .colab-df-convert:hover {\n",
              "      background-color: #E2EBFA;\n",
              "      box-shadow: 0px 1px 2px rgba(60, 64, 67, 0.3), 0px 1px 3px 1px rgba(60, 64, 67, 0.15);\n",
              "      fill: #174EA6;\n",
              "    }\n",
              "\n",
              "    .colab-df-buttons div {\n",
              "      margin-bottom: 4px;\n",
              "    }\n",
              "\n",
              "    [theme=dark] .colab-df-convert {\n",
              "      background-color: #3B4455;\n",
              "      fill: #D2E3FC;\n",
              "    }\n",
              "\n",
              "    [theme=dark] .colab-df-convert:hover {\n",
              "      background-color: #434B5C;\n",
              "      box-shadow: 0px 1px 3px 1px rgba(0, 0, 0, 0.15);\n",
              "      filter: drop-shadow(0px 1px 2px rgba(0, 0, 0, 0.3));\n",
              "      fill: #FFFFFF;\n",
              "    }\n",
              "  </style>\n",
              "\n",
              "    <script>\n",
              "      const buttonEl =\n",
              "        document.querySelector('#df-a390f8fe-9c77-48c8-9409-44c58a9d7c96 button.colab-df-convert');\n",
              "      buttonEl.style.display =\n",
              "        google.colab.kernel.accessAllowed ? 'block' : 'none';\n",
              "\n",
              "      async function convertToInteractive(key) {\n",
              "        const element = document.querySelector('#df-a390f8fe-9c77-48c8-9409-44c58a9d7c96');\n",
              "        const dataTable =\n",
              "          await google.colab.kernel.invokeFunction('convertToInteractive',\n",
              "                                                    [key], {});\n",
              "        if (!dataTable) return;\n",
              "\n",
              "        const docLinkHtml = 'Like what you see? Visit the ' +\n",
              "          '<a target=\"_blank\" href=https://colab.research.google.com/notebooks/data_table.ipynb>data table notebook</a>'\n",
              "          + ' to learn more about interactive tables.';\n",
              "        element.innerHTML = '';\n",
              "        dataTable['output_type'] = 'display_data';\n",
              "        await google.colab.output.renderOutput(dataTable, element);\n",
              "        const docLink = document.createElement('div');\n",
              "        docLink.innerHTML = docLinkHtml;\n",
              "        element.appendChild(docLink);\n",
              "      }\n",
              "    </script>\n",
              "  </div>\n",
              "\n",
              "\n",
              "    <div id=\"df-029f13cf-5d5a-4ba2-b4ea-c24519a0f0f4\">\n",
              "      <button class=\"colab-df-quickchart\" onclick=\"quickchart('df-029f13cf-5d5a-4ba2-b4ea-c24519a0f0f4')\"\n",
              "                title=\"Suggest charts\"\n",
              "                style=\"display:none;\">\n",
              "\n",
              "<svg xmlns=\"http://www.w3.org/2000/svg\" height=\"24px\"viewBox=\"0 0 24 24\"\n",
              "     width=\"24px\">\n",
              "    <g>\n",
              "        <path d=\"M19 3H5c-1.1 0-2 .9-2 2v14c0 1.1.9 2 2 2h14c1.1 0 2-.9 2-2V5c0-1.1-.9-2-2-2zM9 17H7v-7h2v7zm4 0h-2V7h2v10zm4 0h-2v-4h2v4z\"/>\n",
              "    </g>\n",
              "</svg>\n",
              "      </button>\n",
              "\n",
              "<style>\n",
              "  .colab-df-quickchart {\n",
              "      --bg-color: #E8F0FE;\n",
              "      --fill-color: #1967D2;\n",
              "      --hover-bg-color: #E2EBFA;\n",
              "      --hover-fill-color: #174EA6;\n",
              "      --disabled-fill-color: #AAA;\n",
              "      --disabled-bg-color: #DDD;\n",
              "  }\n",
              "\n",
              "  [theme=dark] .colab-df-quickchart {\n",
              "      --bg-color: #3B4455;\n",
              "      --fill-color: #D2E3FC;\n",
              "      --hover-bg-color: #434B5C;\n",
              "      --hover-fill-color: #FFFFFF;\n",
              "      --disabled-bg-color: #3B4455;\n",
              "      --disabled-fill-color: #666;\n",
              "  }\n",
              "\n",
              "  .colab-df-quickchart {\n",
              "    background-color: var(--bg-color);\n",
              "    border: none;\n",
              "    border-radius: 50%;\n",
              "    cursor: pointer;\n",
              "    display: none;\n",
              "    fill: var(--fill-color);\n",
              "    height: 32px;\n",
              "    padding: 0;\n",
              "    width: 32px;\n",
              "  }\n",
              "\n",
              "  .colab-df-quickchart:hover {\n",
              "    background-color: var(--hover-bg-color);\n",
              "    box-shadow: 0 1px 2px rgba(60, 64, 67, 0.3), 0 1px 3px 1px rgba(60, 64, 67, 0.15);\n",
              "    fill: var(--button-hover-fill-color);\n",
              "  }\n",
              "\n",
              "  .colab-df-quickchart-complete:disabled,\n",
              "  .colab-df-quickchart-complete:disabled:hover {\n",
              "    background-color: var(--disabled-bg-color);\n",
              "    fill: var(--disabled-fill-color);\n",
              "    box-shadow: none;\n",
              "  }\n",
              "\n",
              "  .colab-df-spinner {\n",
              "    border: 2px solid var(--fill-color);\n",
              "    border-color: transparent;\n",
              "    border-bottom-color: var(--fill-color);\n",
              "    animation:\n",
              "      spin 1s steps(1) infinite;\n",
              "  }\n",
              "\n",
              "  @keyframes spin {\n",
              "    0% {\n",
              "      border-color: transparent;\n",
              "      border-bottom-color: var(--fill-color);\n",
              "      border-left-color: var(--fill-color);\n",
              "    }\n",
              "    20% {\n",
              "      border-color: transparent;\n",
              "      border-left-color: var(--fill-color);\n",
              "      border-top-color: var(--fill-color);\n",
              "    }\n",
              "    30% {\n",
              "      border-color: transparent;\n",
              "      border-left-color: var(--fill-color);\n",
              "      border-top-color: var(--fill-color);\n",
              "      border-right-color: var(--fill-color);\n",
              "    }\n",
              "    40% {\n",
              "      border-color: transparent;\n",
              "      border-right-color: var(--fill-color);\n",
              "      border-top-color: var(--fill-color);\n",
              "    }\n",
              "    60% {\n",
              "      border-color: transparent;\n",
              "      border-right-color: var(--fill-color);\n",
              "    }\n",
              "    80% {\n",
              "      border-color: transparent;\n",
              "      border-right-color: var(--fill-color);\n",
              "      border-bottom-color: var(--fill-color);\n",
              "    }\n",
              "    90% {\n",
              "      border-color: transparent;\n",
              "      border-bottom-color: var(--fill-color);\n",
              "    }\n",
              "  }\n",
              "</style>\n",
              "\n",
              "      <script>\n",
              "        async function quickchart(key) {\n",
              "          const quickchartButtonEl =\n",
              "            document.querySelector('#' + key + ' button');\n",
              "          quickchartButtonEl.disabled = true;  // To prevent multiple clicks.\n",
              "          quickchartButtonEl.classList.add('colab-df-spinner');\n",
              "          try {\n",
              "            const charts = await google.colab.kernel.invokeFunction(\n",
              "                'suggestCharts', [key], {});\n",
              "          } catch (error) {\n",
              "            console.error('Error during call to suggestCharts:', error);\n",
              "          }\n",
              "          quickchartButtonEl.classList.remove('colab-df-spinner');\n",
              "          quickchartButtonEl.classList.add('colab-df-quickchart-complete');\n",
              "        }\n",
              "        (() => {\n",
              "          let quickchartButtonEl =\n",
              "            document.querySelector('#df-029f13cf-5d5a-4ba2-b4ea-c24519a0f0f4 button');\n",
              "          quickchartButtonEl.style.display =\n",
              "            google.colab.kernel.accessAllowed ? 'block' : 'none';\n",
              "        })();\n",
              "      </script>\n",
              "    </div>\n",
              "\n",
              "    </div>\n",
              "  </div>\n"
            ],
            "application/vnd.google.colaboratory.intrinsic+json": {
              "type": "dataframe",
              "variable_name": "train_df_shuffled",
              "summary": "{\n  \"name\": \"train_df_shuffled\",\n  \"rows\": 7613,\n  \"fields\": [\n    {\n      \"column\": \"id\",\n      \"properties\": {\n        \"dtype\": \"number\",\n        \"std\": 3137,\n        \"min\": 1,\n        \"max\": 10873,\n        \"num_unique_values\": 7613,\n        \"samples\": [\n          7061,\n          843,\n          10603\n        ],\n        \"semantic_type\": \"\",\n        \"description\": \"\"\n      }\n    },\n    {\n      \"column\": \"keyword\",\n      \"properties\": {\n        \"dtype\": \"category\",\n        \"num_unique_values\": 221,\n        \"samples\": [\n          \"blazing\",\n          \"emergency\",\n          \"rescue\"\n        ],\n        \"semantic_type\": \"\",\n        \"description\": \"\"\n      }\n    },\n    {\n      \"column\": \"location\",\n      \"properties\": {\n        \"dtype\": \"category\",\n        \"num_unique_values\": 3341,\n        \"samples\": [\n          \"617-BTOWN-BEATDOWN\",\n          \"Newcastle Upon Tyne, England\",\n          \"Federal Capital Territory\"\n        ],\n        \"semantic_type\": \"\",\n        \"description\": \"\"\n      }\n    },\n    {\n      \"column\": \"text\",\n      \"properties\": {\n        \"dtype\": \"string\",\n        \"num_unique_values\": 7503,\n        \"samples\": [\n          \"This week first responders and DART members are participating in a four day intensive Technical Large Animal... http://t.co/tL93AOd3ER\",\n          \"My mom is watching a show about bridges breaking/falling and the people on them drowning in their cars aka one of my biggest fears ????\",\n          \"@NickLee8  i went to school in a bombed out East End of London3 families to one house no bathroom outside loo &amp; poor so whats yr point\"\n        ],\n        \"semantic_type\": \"\",\n        \"description\": \"\"\n      }\n    },\n    {\n      \"column\": \"target\",\n      \"properties\": {\n        \"dtype\": \"number\",\n        \"std\": 0,\n        \"min\": 0,\n        \"max\": 1,\n        \"num_unique_values\": 2,\n        \"samples\": [\n          0,\n          1\n        ],\n        \"semantic_type\": \"\",\n        \"description\": \"\"\n      }\n    }\n  ]\n}"
            }
          },
          "metadata": {},
          "execution_count": 8
        }
      ]
    },
    {
      "cell_type": "code",
      "source": [
        "# What does Test Dataset Look like\n",
        "test_df.head()"
      ],
      "metadata": {
        "colab": {
          "base_uri": "https://localhost:8080/",
          "height": 206
        },
        "id": "3nzua3WmqbSf",
        "outputId": "f366f805-70a4-4c3a-bb0e-c9b02990e894"
      },
      "id": "3nzua3WmqbSf",
      "execution_count": 9,
      "outputs": [
        {
          "output_type": "execute_result",
          "data": {
            "text/plain": [
              "   id keyword location                                               text\n",
              "0   0     NaN      NaN                 Just happened a terrible car crash\n",
              "1   2     NaN      NaN  Heard about #earthquake is different cities, s...\n",
              "2   3     NaN      NaN  there is a forest fire at spot pond, geese are...\n",
              "3   9     NaN      NaN           Apocalypse lighting. #Spokane #wildfires\n",
              "4  11     NaN      NaN      Typhoon Soudelor kills 28 in China and Taiwan"
            ],
            "text/html": [
              "\n",
              "  <div id=\"df-60ce2041-11a0-4668-8aa2-81174839d890\" class=\"colab-df-container\">\n",
              "    <div>\n",
              "<style scoped>\n",
              "    .dataframe tbody tr th:only-of-type {\n",
              "        vertical-align: middle;\n",
              "    }\n",
              "\n",
              "    .dataframe tbody tr th {\n",
              "        vertical-align: top;\n",
              "    }\n",
              "\n",
              "    .dataframe thead th {\n",
              "        text-align: right;\n",
              "    }\n",
              "</style>\n",
              "<table border=\"1\" class=\"dataframe\">\n",
              "  <thead>\n",
              "    <tr style=\"text-align: right;\">\n",
              "      <th></th>\n",
              "      <th>id</th>\n",
              "      <th>keyword</th>\n",
              "      <th>location</th>\n",
              "      <th>text</th>\n",
              "    </tr>\n",
              "  </thead>\n",
              "  <tbody>\n",
              "    <tr>\n",
              "      <th>0</th>\n",
              "      <td>0</td>\n",
              "      <td>NaN</td>\n",
              "      <td>NaN</td>\n",
              "      <td>Just happened a terrible car crash</td>\n",
              "    </tr>\n",
              "    <tr>\n",
              "      <th>1</th>\n",
              "      <td>2</td>\n",
              "      <td>NaN</td>\n",
              "      <td>NaN</td>\n",
              "      <td>Heard about #earthquake is different cities, s...</td>\n",
              "    </tr>\n",
              "    <tr>\n",
              "      <th>2</th>\n",
              "      <td>3</td>\n",
              "      <td>NaN</td>\n",
              "      <td>NaN</td>\n",
              "      <td>there is a forest fire at spot pond, geese are...</td>\n",
              "    </tr>\n",
              "    <tr>\n",
              "      <th>3</th>\n",
              "      <td>9</td>\n",
              "      <td>NaN</td>\n",
              "      <td>NaN</td>\n",
              "      <td>Apocalypse lighting. #Spokane #wildfires</td>\n",
              "    </tr>\n",
              "    <tr>\n",
              "      <th>4</th>\n",
              "      <td>11</td>\n",
              "      <td>NaN</td>\n",
              "      <td>NaN</td>\n",
              "      <td>Typhoon Soudelor kills 28 in China and Taiwan</td>\n",
              "    </tr>\n",
              "  </tbody>\n",
              "</table>\n",
              "</div>\n",
              "    <div class=\"colab-df-buttons\">\n",
              "\n",
              "  <div class=\"colab-df-container\">\n",
              "    <button class=\"colab-df-convert\" onclick=\"convertToInteractive('df-60ce2041-11a0-4668-8aa2-81174839d890')\"\n",
              "            title=\"Convert this dataframe to an interactive table.\"\n",
              "            style=\"display:none;\">\n",
              "\n",
              "  <svg xmlns=\"http://www.w3.org/2000/svg\" height=\"24px\" viewBox=\"0 -960 960 960\">\n",
              "    <path d=\"M120-120v-720h720v720H120Zm60-500h600v-160H180v160Zm220 220h160v-160H400v160Zm0 220h160v-160H400v160ZM180-400h160v-160H180v160Zm440 0h160v-160H620v160ZM180-180h160v-160H180v160Zm440 0h160v-160H620v160Z\"/>\n",
              "  </svg>\n",
              "    </button>\n",
              "\n",
              "  <style>\n",
              "    .colab-df-container {\n",
              "      display:flex;\n",
              "      gap: 12px;\n",
              "    }\n",
              "\n",
              "    .colab-df-convert {\n",
              "      background-color: #E8F0FE;\n",
              "      border: none;\n",
              "      border-radius: 50%;\n",
              "      cursor: pointer;\n",
              "      display: none;\n",
              "      fill: #1967D2;\n",
              "      height: 32px;\n",
              "      padding: 0 0 0 0;\n",
              "      width: 32px;\n",
              "    }\n",
              "\n",
              "    .colab-df-convert:hover {\n",
              "      background-color: #E2EBFA;\n",
              "      box-shadow: 0px 1px 2px rgba(60, 64, 67, 0.3), 0px 1px 3px 1px rgba(60, 64, 67, 0.15);\n",
              "      fill: #174EA6;\n",
              "    }\n",
              "\n",
              "    .colab-df-buttons div {\n",
              "      margin-bottom: 4px;\n",
              "    }\n",
              "\n",
              "    [theme=dark] .colab-df-convert {\n",
              "      background-color: #3B4455;\n",
              "      fill: #D2E3FC;\n",
              "    }\n",
              "\n",
              "    [theme=dark] .colab-df-convert:hover {\n",
              "      background-color: #434B5C;\n",
              "      box-shadow: 0px 1px 3px 1px rgba(0, 0, 0, 0.15);\n",
              "      filter: drop-shadow(0px 1px 2px rgba(0, 0, 0, 0.3));\n",
              "      fill: #FFFFFF;\n",
              "    }\n",
              "  </style>\n",
              "\n",
              "    <script>\n",
              "      const buttonEl =\n",
              "        document.querySelector('#df-60ce2041-11a0-4668-8aa2-81174839d890 button.colab-df-convert');\n",
              "      buttonEl.style.display =\n",
              "        google.colab.kernel.accessAllowed ? 'block' : 'none';\n",
              "\n",
              "      async function convertToInteractive(key) {\n",
              "        const element = document.querySelector('#df-60ce2041-11a0-4668-8aa2-81174839d890');\n",
              "        const dataTable =\n",
              "          await google.colab.kernel.invokeFunction('convertToInteractive',\n",
              "                                                    [key], {});\n",
              "        if (!dataTable) return;\n",
              "\n",
              "        const docLinkHtml = 'Like what you see? Visit the ' +\n",
              "          '<a target=\"_blank\" href=https://colab.research.google.com/notebooks/data_table.ipynb>data table notebook</a>'\n",
              "          + ' to learn more about interactive tables.';\n",
              "        element.innerHTML = '';\n",
              "        dataTable['output_type'] = 'display_data';\n",
              "        await google.colab.output.renderOutput(dataTable, element);\n",
              "        const docLink = document.createElement('div');\n",
              "        docLink.innerHTML = docLinkHtml;\n",
              "        element.appendChild(docLink);\n",
              "      }\n",
              "    </script>\n",
              "  </div>\n",
              "\n",
              "\n",
              "    <div id=\"df-72223093-e545-4347-9b0c-e7317749c5c6\">\n",
              "      <button class=\"colab-df-quickchart\" onclick=\"quickchart('df-72223093-e545-4347-9b0c-e7317749c5c6')\"\n",
              "                title=\"Suggest charts\"\n",
              "                style=\"display:none;\">\n",
              "\n",
              "<svg xmlns=\"http://www.w3.org/2000/svg\" height=\"24px\"viewBox=\"0 0 24 24\"\n",
              "     width=\"24px\">\n",
              "    <g>\n",
              "        <path d=\"M19 3H5c-1.1 0-2 .9-2 2v14c0 1.1.9 2 2 2h14c1.1 0 2-.9 2-2V5c0-1.1-.9-2-2-2zM9 17H7v-7h2v7zm4 0h-2V7h2v10zm4 0h-2v-4h2v4z\"/>\n",
              "    </g>\n",
              "</svg>\n",
              "      </button>\n",
              "\n",
              "<style>\n",
              "  .colab-df-quickchart {\n",
              "      --bg-color: #E8F0FE;\n",
              "      --fill-color: #1967D2;\n",
              "      --hover-bg-color: #E2EBFA;\n",
              "      --hover-fill-color: #174EA6;\n",
              "      --disabled-fill-color: #AAA;\n",
              "      --disabled-bg-color: #DDD;\n",
              "  }\n",
              "\n",
              "  [theme=dark] .colab-df-quickchart {\n",
              "      --bg-color: #3B4455;\n",
              "      --fill-color: #D2E3FC;\n",
              "      --hover-bg-color: #434B5C;\n",
              "      --hover-fill-color: #FFFFFF;\n",
              "      --disabled-bg-color: #3B4455;\n",
              "      --disabled-fill-color: #666;\n",
              "  }\n",
              "\n",
              "  .colab-df-quickchart {\n",
              "    background-color: var(--bg-color);\n",
              "    border: none;\n",
              "    border-radius: 50%;\n",
              "    cursor: pointer;\n",
              "    display: none;\n",
              "    fill: var(--fill-color);\n",
              "    height: 32px;\n",
              "    padding: 0;\n",
              "    width: 32px;\n",
              "  }\n",
              "\n",
              "  .colab-df-quickchart:hover {\n",
              "    background-color: var(--hover-bg-color);\n",
              "    box-shadow: 0 1px 2px rgba(60, 64, 67, 0.3), 0 1px 3px 1px rgba(60, 64, 67, 0.15);\n",
              "    fill: var(--button-hover-fill-color);\n",
              "  }\n",
              "\n",
              "  .colab-df-quickchart-complete:disabled,\n",
              "  .colab-df-quickchart-complete:disabled:hover {\n",
              "    background-color: var(--disabled-bg-color);\n",
              "    fill: var(--disabled-fill-color);\n",
              "    box-shadow: none;\n",
              "  }\n",
              "\n",
              "  .colab-df-spinner {\n",
              "    border: 2px solid var(--fill-color);\n",
              "    border-color: transparent;\n",
              "    border-bottom-color: var(--fill-color);\n",
              "    animation:\n",
              "      spin 1s steps(1) infinite;\n",
              "  }\n",
              "\n",
              "  @keyframes spin {\n",
              "    0% {\n",
              "      border-color: transparent;\n",
              "      border-bottom-color: var(--fill-color);\n",
              "      border-left-color: var(--fill-color);\n",
              "    }\n",
              "    20% {\n",
              "      border-color: transparent;\n",
              "      border-left-color: var(--fill-color);\n",
              "      border-top-color: var(--fill-color);\n",
              "    }\n",
              "    30% {\n",
              "      border-color: transparent;\n",
              "      border-left-color: var(--fill-color);\n",
              "      border-top-color: var(--fill-color);\n",
              "      border-right-color: var(--fill-color);\n",
              "    }\n",
              "    40% {\n",
              "      border-color: transparent;\n",
              "      border-right-color: var(--fill-color);\n",
              "      border-top-color: var(--fill-color);\n",
              "    }\n",
              "    60% {\n",
              "      border-color: transparent;\n",
              "      border-right-color: var(--fill-color);\n",
              "    }\n",
              "    80% {\n",
              "      border-color: transparent;\n",
              "      border-right-color: var(--fill-color);\n",
              "      border-bottom-color: var(--fill-color);\n",
              "    }\n",
              "    90% {\n",
              "      border-color: transparent;\n",
              "      border-bottom-color: var(--fill-color);\n",
              "    }\n",
              "  }\n",
              "</style>\n",
              "\n",
              "      <script>\n",
              "        async function quickchart(key) {\n",
              "          const quickchartButtonEl =\n",
              "            document.querySelector('#' + key + ' button');\n",
              "          quickchartButtonEl.disabled = true;  // To prevent multiple clicks.\n",
              "          quickchartButtonEl.classList.add('colab-df-spinner');\n",
              "          try {\n",
              "            const charts = await google.colab.kernel.invokeFunction(\n",
              "                'suggestCharts', [key], {});\n",
              "          } catch (error) {\n",
              "            console.error('Error during call to suggestCharts:', error);\n",
              "          }\n",
              "          quickchartButtonEl.classList.remove('colab-df-spinner');\n",
              "          quickchartButtonEl.classList.add('colab-df-quickchart-complete');\n",
              "        }\n",
              "        (() => {\n",
              "          let quickchartButtonEl =\n",
              "            document.querySelector('#df-72223093-e545-4347-9b0c-e7317749c5c6 button');\n",
              "          quickchartButtonEl.style.display =\n",
              "            google.colab.kernel.accessAllowed ? 'block' : 'none';\n",
              "        })();\n",
              "      </script>\n",
              "    </div>\n",
              "\n",
              "    </div>\n",
              "  </div>\n"
            ],
            "application/vnd.google.colaboratory.intrinsic+json": {
              "type": "dataframe",
              "variable_name": "test_df",
              "summary": "{\n  \"name\": \"test_df\",\n  \"rows\": 3263,\n  \"fields\": [\n    {\n      \"column\": \"id\",\n      \"properties\": {\n        \"dtype\": \"number\",\n        \"std\": 3146,\n        \"min\": 0,\n        \"max\": 10875,\n        \"num_unique_values\": 3263,\n        \"samples\": [\n          8051,\n          425,\n          1330\n        ],\n        \"semantic_type\": \"\",\n        \"description\": \"\"\n      }\n    },\n    {\n      \"column\": \"keyword\",\n      \"properties\": {\n        \"dtype\": \"category\",\n        \"num_unique_values\": 221,\n        \"samples\": [\n          \"injury\",\n          \"nuclear%20reactor\",\n          \"engulfed\"\n        ],\n        \"semantic_type\": \"\",\n        \"description\": \"\"\n      }\n    },\n    {\n      \"column\": \"location\",\n      \"properties\": {\n        \"dtype\": \"category\",\n        \"num_unique_values\": 1602,\n        \"samples\": [\n          \"UAE\",\n          \"Tokio / Tokyo\",\n          \"Texas\"\n        ],\n        \"semantic_type\": \"\",\n        \"description\": \"\"\n      }\n    },\n    {\n      \"column\": \"text\",\n      \"properties\": {\n        \"dtype\": \"string\",\n        \"num_unique_values\": 3243,\n        \"samples\": [\n          \"Latest: USA: Huge sinkhole swallows up Brooklyn intersection http://t.co/vspKHg3nZy\",\n          \"I liked a @YouTube video http://t.co/a5YTAw9Vih S.O.S. Rona Guide - The Red Whirlwind\",\n          \"HitchBot travels Europe and greeted with open arms. Gets destroyed after two weeks in america. There's a lesson to be learned here.\"\n        ],\n        \"semantic_type\": \"\",\n        \"description\": \"\"\n      }\n    }\n  ]\n}"
            }
          },
          "metadata": {},
          "execution_count": 9
        }
      ]
    },
    {
      "cell_type": "code",
      "source": [
        "# How many examples of each classes\n",
        "train_df.target.value_counts()"
      ],
      "metadata": {
        "colab": {
          "base_uri": "https://localhost:8080/",
          "height": 178
        },
        "id": "14Sb9rxVqugm",
        "outputId": "b98e5767-d0c9-4879-df18-79f913014f03"
      },
      "id": "14Sb9rxVqugm",
      "execution_count": 10,
      "outputs": [
        {
          "output_type": "execute_result",
          "data": {
            "text/plain": [
              "target\n",
              "0    4342\n",
              "1    3271\n",
              "Name: count, dtype: int64"
            ],
            "text/html": [
              "<div>\n",
              "<style scoped>\n",
              "    .dataframe tbody tr th:only-of-type {\n",
              "        vertical-align: middle;\n",
              "    }\n",
              "\n",
              "    .dataframe tbody tr th {\n",
              "        vertical-align: top;\n",
              "    }\n",
              "\n",
              "    .dataframe thead th {\n",
              "        text-align: right;\n",
              "    }\n",
              "</style>\n",
              "<table border=\"1\" class=\"dataframe\">\n",
              "  <thead>\n",
              "    <tr style=\"text-align: right;\">\n",
              "      <th></th>\n",
              "      <th>count</th>\n",
              "    </tr>\n",
              "    <tr>\n",
              "      <th>target</th>\n",
              "      <th></th>\n",
              "    </tr>\n",
              "  </thead>\n",
              "  <tbody>\n",
              "    <tr>\n",
              "      <th>0</th>\n",
              "      <td>4342</td>\n",
              "    </tr>\n",
              "    <tr>\n",
              "      <th>1</th>\n",
              "      <td>3271</td>\n",
              "    </tr>\n",
              "  </tbody>\n",
              "</table>\n",
              "</div><br><label><b>dtype:</b> int64</label>"
            ]
          },
          "metadata": {},
          "execution_count": 10
        }
      ]
    },
    {
      "cell_type": "code",
      "source": [
        "# How many Total Samples\n",
        "len(train_df),len(test_df)"
      ],
      "metadata": {
        "colab": {
          "base_uri": "https://localhost:8080/"
        },
        "id": "VRZ0K-x3rFlY",
        "outputId": "4360c3cc-4c2c-4770-e2f1-5d471c61c28c"
      },
      "id": "VRZ0K-x3rFlY",
      "execution_count": 11,
      "outputs": [
        {
          "output_type": "execute_result",
          "data": {
            "text/plain": [
              "(7613, 3263)"
            ]
          },
          "metadata": {},
          "execution_count": 11
        }
      ]
    },
    {
      "cell_type": "markdown",
      "source": [
        "# **Visualize some random training examples**"
      ],
      "metadata": {
        "id": "tjK-XSYsrSte"
      },
      "id": "tjK-XSYsrSte"
    },
    {
      "cell_type": "code",
      "source": [
        "import random\n",
        "random_index=random.randint(0,len(train_df)-5)\n",
        "for row in train_df_shuffled[['text','target']][random_index:random_index+5].itertuples():\n",
        "    _,text,target=row\n",
        "    print(f'Target : {target} \\n ',\"(real disaster)\" if target>0 else \"not real disaster\")\n",
        "    print(f'Text : \\n {text}')\n",
        "    print('---\\n')"
      ],
      "metadata": {
        "colab": {
          "base_uri": "https://localhost:8080/"
        },
        "id": "EdTfwsABrNpW",
        "outputId": "52557fbe-5515-4fab-d40d-6aec68af4786"
      },
      "id": "EdTfwsABrNpW",
      "execution_count": 12,
      "outputs": [
        {
          "output_type": "stream",
          "name": "stdout",
          "text": [
            "Target : 1 \n",
            "  (real disaster)\n",
            "Text : \n",
            " A brief violent storm swept through the Chicago area Sunday afternoon leading to one death and an evacuation of Lollapalooza and more\n",
            "---\n",
            "\n",
            "Target : 0 \n",
            "  not real disaster\n",
            "Text : \n",
            " Owner of Chicago-Area Gay Bar Admits to Arson Scheme: Frank Elliott pleaded guilty to hiring an arsonist to to... http://t.co/jCFEhrHLq8\n",
            "---\n",
            "\n",
            "Target : 1 \n",
            "  (real disaster)\n",
            "Text : \n",
            " Senators calling for emergency housing: Boxer Feinstein back plan to move #homeless vets to VA campus http://t.co/Gm80X3vutf\n",
            "---\n",
            "\n",
            "Target : 0 \n",
            "  not real disaster\n",
            "Text : \n",
            " @DmoneyDemi I had my meltdown yesterday.  I'm going to miss you so much. You are forsure my DTB for life. When I get back watchout ??\n",
            "---\n",
            "\n",
            "Target : 1 \n",
            "  (real disaster)\n",
            "Text : \n",
            " .@Vagersedolla visits villages recently bombed by Turkey and finds people fed up with the PKK http://t.co/UUWEiKD7sP\n",
            "---\n",
            "\n"
          ]
        }
      ]
    },
    {
      "cell_type": "code",
      "source": [
        "#Splitting data into Train and Validation\n",
        "from sklearn.model_selection import train_test_split\n",
        "\n",
        "train_sentances,val_sentances,train_labels,val_labels=train_test_split(\n",
        "                                                      train_df_shuffled['text'].to_numpy(),\n",
        "                                                      train_df_shuffled['target'].to_numpy(),\n",
        "                                                      test_size=0.1,\n",
        "                                                      random_state=42)"
      ],
      "metadata": {
        "id": "wMV3n0nutBqw"
      },
      "id": "wMV3n0nutBqw",
      "execution_count": 13,
      "outputs": []
    },
    {
      "cell_type": "code",
      "source": [
        "# Check lengths\n",
        "len(train_sentances),len(val_sentances),len(train_labels),len(val_labels)"
      ],
      "metadata": {
        "colab": {
          "base_uri": "https://localhost:8080/"
        },
        "id": "INoCGnqhtv4z",
        "outputId": "17e5e962-5c76-4ad3-efa4-2ea2456075fd"
      },
      "id": "INoCGnqhtv4z",
      "execution_count": 14,
      "outputs": [
        {
          "output_type": "execute_result",
          "data": {
            "text/plain": [
              "(6851, 762, 6851, 762)"
            ]
          },
          "metadata": {},
          "execution_count": 14
        }
      ]
    },
    {
      "cell_type": "markdown",
      "source": [
        "# **Convert Text into Numbers**"
      ],
      "metadata": {
        "id": "qbFNALyouHma"
      },
      "id": "qbFNALyouHma"
    },
    {
      "cell_type": "code",
      "source": [
        "import tensorflow as tf\n",
        "from tensorflow.keras.layers import TextVectorization\n",
        "text_vectorizer=TextVectorization(\n",
        "                                  max_tokens=10000, # Set max_tokens to a value\n",
        "                                  standardize='lower_and_strip_punctuation',\n",
        "                                  split='whitespace',\n",
        "                                  ngrams=None,\n",
        "                                  output_mode='int',\n",
        "                                  output_sequence_length=None,\n",
        "                                  pad_to_max_tokens=True,\n",
        "                                   )"
      ],
      "metadata": {
        "id": "YrtXGOeQu8Ug"
      },
      "id": "YrtXGOeQu8Ug",
      "execution_count": 15,
      "outputs": []
    },
    {
      "cell_type": "code",
      "source": [
        "max_vocab_length=100   # Max number of words to have in vocabulary\n",
        "max_length=15  # Max length our sequence will be\n",
        "text_vectorizer=TextVectorization(max_tokens=max_vocab_length,\n",
        "                                  standardize='lower_and_strip_punctuation',\n",
        "                                  split='whitespace',\n",
        "                                  ngrams=None,\n",
        "                                  output_mode='int',\n",
        "                                  output_sequence_length=max_vocab_length,\n",
        "                                  pad_to_max_tokens=True)"
      ],
      "metadata": {
        "id": "mQZEu3pNv1b6"
      },
      "id": "mQZEu3pNv1b6",
      "execution_count": 16,
      "outputs": []
    },
    {
      "cell_type": "code",
      "source": [
        "# Fit the Text Vectorizer\n",
        "text_vectorizer.adapt(train_sentances)"
      ],
      "metadata": {
        "id": "3M87lSsv3vp0"
      },
      "id": "3M87lSsv3vp0",
      "execution_count": 17,
      "outputs": []
    },
    {
      "cell_type": "code",
      "source": [
        "# Create a sample sentance and tokenize it\n",
        "sample_sentance=random.choice(train_sentances)\n",
        "print(f' The Original Sentance \\n {sample_sentance} \\n The Text Vectorized Version \\n')\n",
        "text_vectorizer([sample_sentance])"
      ],
      "metadata": {
        "colab": {
          "base_uri": "https://localhost:8080/"
        },
        "id": "xMdvl0-t4ofh",
        "outputId": "da5c04a0-f75f-4109-dbfb-2fee3f3122fc"
      },
      "id": "xMdvl0-t4ofh",
      "execution_count": 18,
      "outputs": [
        {
          "output_type": "stream",
          "name": "stdout",
          "text": [
            " The Original Sentance \n",
            " (OFFICIAL VID) &gt; #DoubleCups &gt;&gt; https://t.co/lfKMTZaEkk &gt;&gt; @TrubGME Prod @THISIZBWRIGHT &gt;&gt; #ARMAGEDDON                 . \n",
            " The Text Vectorized Version \n",
            "\n"
          ]
        },
        {
          "output_type": "execute_result",
          "data": {
            "text/plain": [
              "<tf.Tensor: shape=(1, 100), dtype=int64, numpy=\n",
              "array([[1, 1, 1, 1, 1, 1, 1, 1, 1, 1, 1, 1, 0, 0, 0, 0, 0, 0, 0, 0, 0, 0,\n",
              "        0, 0, 0, 0, 0, 0, 0, 0, 0, 0, 0, 0, 0, 0, 0, 0, 0, 0, 0, 0, 0, 0,\n",
              "        0, 0, 0, 0, 0, 0, 0, 0, 0, 0, 0, 0, 0, 0, 0, 0, 0, 0, 0, 0, 0, 0,\n",
              "        0, 0, 0, 0, 0, 0, 0, 0, 0, 0, 0, 0, 0, 0, 0, 0, 0, 0, 0, 0, 0, 0,\n",
              "        0, 0, 0, 0, 0, 0, 0, 0, 0, 0, 0, 0]])>"
            ]
          },
          "metadata": {},
          "execution_count": 18
        }
      ]
    },
    {
      "cell_type": "code",
      "source": [
        "# Get uniqe words in vocab\n",
        "words_in_vocab=text_vectorizer.get_vocabulary()\n",
        "top_5_words=words_in_vocab[:5]\n",
        "bottom_5_words=words_in_vocab[-5:]\n",
        "print(f'The Number of words in vocab are : {len(words_in_vocab)}')\n",
        "print(f'The Five most common words in vocab are : {top_5_words}')\n",
        "print(f'The Five least words in vocab are : {bottom_5_words}')"
      ],
      "metadata": {
        "colab": {
          "base_uri": "https://localhost:8080/"
        },
        "id": "SWFaiThw4vrw",
        "outputId": "df603873-f7bb-48e8-f1af-728db44e39c7"
      },
      "id": "SWFaiThw4vrw",
      "execution_count": 19,
      "outputs": [
        {
          "output_type": "stream",
          "name": "stdout",
          "text": [
            "The Number of words in vocab are : 100\n",
            "The Five most common words in vocab are : ['', '[UNK]', np.str_('the'), np.str_('a'), np.str_('in')]\n",
            "The Five least words in vocab are : [np.str_('buildings'), np.str_('rt'), np.str_('first'), np.str_('cant'), np.str_('see')]\n"
          ]
        }
      ]
    },
    {
      "cell_type": "code",
      "source": [
        "# Creating a embedding layer that turns text vectorized into the embeding vectors\n",
        "from tensorflow.keras.layers import Embedding\n",
        "\n",
        "embedding=Embedding(input_dim=max_vocab_length,\n",
        "                    output_dim=128,\n",
        "                    )"
      ],
      "metadata": {
        "id": "p7mdj4Ty5rsA"
      },
      "id": "p7mdj4Ty5rsA",
      "execution_count": 20,
      "outputs": []
    },
    {
      "cell_type": "code",
      "source": [
        "# Get Random Sentance from trainning set\n",
        "random_sentance=random.choice(train_sentances)\n",
        "print(f'Original Text \\n {random_sentance}\\n')\n",
        "sample_embedding=embedding(text_vectorizer([random_sentance]))\n",
        "sample_embedding"
      ],
      "metadata": {
        "colab": {
          "base_uri": "https://localhost:8080/"
        },
        "id": "433odmK27cxo",
        "outputId": "ee3a35f7-f49c-42ae-9740-7c29a656a90f"
      },
      "id": "433odmK27cxo",
      "execution_count": 21,
      "outputs": [
        {
          "output_type": "stream",
          "name": "stdout",
          "text": [
            "Original Text \n",
            " Look: #I have collapsed #after attempting to munch an endangered species.\n",
            "\n"
          ]
        },
        {
          "output_type": "execute_result",
          "data": {
            "text/plain": [
              "<tf.Tensor: shape=(1, 100, 128), dtype=float32, numpy=\n",
              "array([[[ 4.6506491e-02,  1.4164988e-02, -1.0480881e-03, ...,\n",
              "          3.3488993e-02, -1.6133558e-02, -1.3996802e-02],\n",
              "        [ 4.6285477e-02,  5.7812557e-03, -3.2888256e-02, ...,\n",
              "         -5.6624413e-06,  3.8006220e-02, -3.7045132e-02],\n",
              "        [ 9.0920329e-03, -4.0367387e-02,  7.9524145e-03, ...,\n",
              "          3.5651494e-02, -4.9711801e-02,  2.9194761e-02],\n",
              "        ...,\n",
              "        [ 4.1544262e-02,  3.8823750e-02, -4.3369643e-03, ...,\n",
              "          3.6131728e-02, -4.8943687e-02, -9.9865906e-03],\n",
              "        [ 4.1544262e-02,  3.8823750e-02, -4.3369643e-03, ...,\n",
              "          3.6131728e-02, -4.8943687e-02, -9.9865906e-03],\n",
              "        [ 4.1544262e-02,  3.8823750e-02, -4.3369643e-03, ...,\n",
              "          3.6131728e-02, -4.8943687e-02, -9.9865906e-03]]], dtype=float32)>"
            ]
          },
          "metadata": {},
          "execution_count": 21
        }
      ]
    },
    {
      "cell_type": "markdown",
      "source": [
        "# ***Lets Now Create our Baseline Model***\n",
        "its common to use ML model first or non DL model and then switch to DL model"
      ],
      "metadata": {
        "id": "7jVRac8Q8vHI"
      },
      "id": "7jVRac8Q8vHI"
    },
    {
      "cell_type": "code",
      "source": [
        "from sklearn.feature_extraction.text import TfidfVectorizer\n",
        "from sklearn.naive_bayes import MultinomialNB\n",
        "from sklearn.pipeline import Pipeline\n",
        "\n",
        "model_0=Pipeline([\n",
        "    ('tfid',TfidfVectorizer()),\n",
        "    ('clf',MultinomialNB()),\n",
        "])\n",
        "\n",
        "model_0.fit(train_sentances,train_labels)\n",
        "baseline_score=model_0.score(val_sentances,val_labels)\n",
        "\n",
        "print(f'Our Baseline Model Acheives Accuracy of : {baseline_score*100:.2f}')"
      ],
      "metadata": {
        "colab": {
          "base_uri": "https://localhost:8080/"
        },
        "id": "vVnZOG9A8dwx",
        "outputId": "ee018b30-7664-4796-e5ec-b70e730fbdc6"
      },
      "id": "vVnZOG9A8dwx",
      "execution_count": 22,
      "outputs": [
        {
          "output_type": "stream",
          "name": "stdout",
          "text": [
            "Our Baseline Model Acheives Accuracy of : 79.27\n"
          ]
        }
      ]
    },
    {
      "cell_type": "code",
      "source": [
        "# Model Predictions\n",
        "baseline_preds=model_0.predict(val_sentances)\n",
        "baseline_preds[:20]"
      ],
      "metadata": {
        "colab": {
          "base_uri": "https://localhost:8080/"
        },
        "id": "W83eH1la9qMi",
        "outputId": "385ee940-64f4-44f1-91b4-dd3d7413e560"
      },
      "id": "W83eH1la9qMi",
      "execution_count": 23,
      "outputs": [
        {
          "output_type": "execute_result",
          "data": {
            "text/plain": [
              "array([1, 1, 1, 0, 0, 1, 1, 1, 1, 0, 0, 1, 0, 0, 0, 0, 0, 0, 0, 1])"
            ]
          },
          "metadata": {},
          "execution_count": 23
        }
      ]
    },
    {
      "cell_type": "markdown",
      "source": [
        "# **Creating an evaluation function**"
      ],
      "metadata": {
        "id": "fVKbRAs763wd"
      },
      "id": "fVKbRAs763wd"
    },
    {
      "cell_type": "code",
      "source": [
        "from sklearn.metrics import accuracy_score,precision_recall_fscore_support\n",
        "\n",
        "\n",
        "def calculate_results(y_true,y_pred):\n",
        "  model_accuracy=accuracy_score(y_true=y_true,y_pred=y_pred)\n",
        "  model_precission,model_recall,model_f1,_=precision_recall_fscore_support(y_true=y_true,y_pred=y_pred,average='weighted')\n",
        "\n",
        "  model_results={\n",
        "     \"accuracy\":model_accuracy,\n",
        "     \"precsion\":model_precission,\n",
        "     \"recall\":model_recall,\n",
        "     'f1_score':model_f1\n",
        "  }\n",
        "  return model_results"
      ],
      "metadata": {
        "id": "kIae8fDw5sV4"
      },
      "id": "kIae8fDw5sV4",
      "execution_count": 33,
      "outputs": []
    },
    {
      "cell_type": "code",
      "source": [
        "# Get Baseline Results\n",
        "baseline_results=calculate_results(y_true=val_labels,y_pred=baseline_preds)\n",
        "\n",
        "baseline_results"
      ],
      "metadata": {
        "colab": {
          "base_uri": "https://localhost:8080/"
        },
        "id": "U3hOOLyr6zsH",
        "outputId": "834a5350-5bbf-403c-f9af-85087377af93"
      },
      "id": "U3hOOLyr6zsH",
      "execution_count": 34,
      "outputs": [
        {
          "output_type": "execute_result",
          "data": {
            "text/plain": [
              "{'accuracy': 0.7926509186351706,\n",
              " 'precsion': 0.8111390004213173,\n",
              " 'recall': 0.7926509186351706,\n",
              " 'f1_score': 0.7862189758049549}"
            ]
          },
          "metadata": {},
          "execution_count": 34
        }
      ]
    },
    {
      "cell_type": "markdown",
      "source": [
        "# **Model1 : Feed Forward Neural Network ( Dense Model)**"
      ],
      "metadata": {
        "id": "vyXSO-967_-z"
      },
      "id": "vyXSO-967_-z"
    },
    {
      "cell_type": "code",
      "source": [
        "from helper_functions import create_tensorboard_callback\n",
        "from tensorflow.keras import layers"
      ],
      "metadata": {
        "id": "RVZbkEUq781s"
      },
      "id": "RVZbkEUq781s",
      "execution_count": 37,
      "outputs": []
    },
    {
      "cell_type": "code",
      "source": [
        "SAVE_DIR=\"ModelLogs\"\n",
        "\n",
        "inputs=layers.Input(shape=(1,),dtype=tf.string)\n",
        "x=text_vectorizer(inputs)\n",
        "x=embedding(x)\n",
        "x=layers.GlobalAveragePooling1D()(x) # Add this layer to reduce dimensions\n",
        "outputs=layers.Dense(1,activation='sigmoid')(x)\n",
        "model_1=tf.keras.Model(inputs,outputs,name=\"model_1_Dense\")\n",
        "model_1.summary()"
      ],
      "metadata": {
        "colab": {
          "base_uri": "https://localhost:8080/",
          "height": 323
        },
        "id": "fPKAH30T8QOD",
        "outputId": "2832c3db-3cd1-42d5-a393-07c5319105fe"
      },
      "id": "fPKAH30T8QOD",
      "execution_count": 40,
      "outputs": [
        {
          "output_type": "display_data",
          "data": {
            "text/plain": [
              "\u001b[1mModel: \"model_1_Dense\"\u001b[0m\n"
            ],
            "text/html": [
              "<pre style=\"white-space:pre;overflow-x:auto;line-height:normal;font-family:Menlo,'DejaVu Sans Mono',consolas,'Courier New',monospace\"><span style=\"font-weight: bold\">Model: \"model_1_Dense\"</span>\n",
              "</pre>\n"
            ]
          },
          "metadata": {}
        },
        {
          "output_type": "display_data",
          "data": {
            "text/plain": [
              "┏━━━━━━━━━━━━━━━━━━━━━━━━━━━━━━━━━┳━━━━━━━━━━━━━━━━━━━━━━━━┳━━━━━━━━━━━━━━━┓\n",
              "┃\u001b[1m \u001b[0m\u001b[1mLayer (type)                   \u001b[0m\u001b[1m \u001b[0m┃\u001b[1m \u001b[0m\u001b[1mOutput Shape          \u001b[0m\u001b[1m \u001b[0m┃\u001b[1m \u001b[0m\u001b[1m      Param #\u001b[0m\u001b[1m \u001b[0m┃\n",
              "┡━━━━━━━━━━━━━━━━━━━━━━━━━━━━━━━━━╇━━━━━━━━━━━━━━━━━━━━━━━━╇━━━━━━━━━━━━━━━┩\n",
              "│ input_layer_1 (\u001b[38;5;33mInputLayer\u001b[0m)      │ (\u001b[38;5;45mNone\u001b[0m, \u001b[38;5;34m1\u001b[0m)              │             \u001b[38;5;34m0\u001b[0m │\n",
              "├─────────────────────────────────┼────────────────────────┼───────────────┤\n",
              "│ text_vectorization_1            │ (\u001b[38;5;45mNone\u001b[0m, \u001b[38;5;34m100\u001b[0m)            │             \u001b[38;5;34m0\u001b[0m │\n",
              "│ (\u001b[38;5;33mTextVectorization\u001b[0m)             │                        │               │\n",
              "├─────────────────────────────────┼────────────────────────┼───────────────┤\n",
              "│ embedding (\u001b[38;5;33mEmbedding\u001b[0m)           │ (\u001b[38;5;45mNone\u001b[0m, \u001b[38;5;34m100\u001b[0m, \u001b[38;5;34m128\u001b[0m)       │        \u001b[38;5;34m12,800\u001b[0m │\n",
              "├─────────────────────────────────┼────────────────────────┼───────────────┤\n",
              "│ global_average_pooling1d        │ (\u001b[38;5;45mNone\u001b[0m, \u001b[38;5;34m128\u001b[0m)            │             \u001b[38;5;34m0\u001b[0m │\n",
              "│ (\u001b[38;5;33mGlobalAveragePooling1D\u001b[0m)        │                        │               │\n",
              "├─────────────────────────────────┼────────────────────────┼───────────────┤\n",
              "│ dense_1 (\u001b[38;5;33mDense\u001b[0m)                 │ (\u001b[38;5;45mNone\u001b[0m, \u001b[38;5;34m1\u001b[0m)              │           \u001b[38;5;34m129\u001b[0m │\n",
              "└─────────────────────────────────┴────────────────────────┴───────────────┘\n"
            ],
            "text/html": [
              "<pre style=\"white-space:pre;overflow-x:auto;line-height:normal;font-family:Menlo,'DejaVu Sans Mono',consolas,'Courier New',monospace\">┏━━━━━━━━━━━━━━━━━━━━━━━━━━━━━━━━━┳━━━━━━━━━━━━━━━━━━━━━━━━┳━━━━━━━━━━━━━━━┓\n",
              "┃<span style=\"font-weight: bold\"> Layer (type)                    </span>┃<span style=\"font-weight: bold\"> Output Shape           </span>┃<span style=\"font-weight: bold\">       Param # </span>┃\n",
              "┡━━━━━━━━━━━━━━━━━━━━━━━━━━━━━━━━━╇━━━━━━━━━━━━━━━━━━━━━━━━╇━━━━━━━━━━━━━━━┩\n",
              "│ input_layer_1 (<span style=\"color: #0087ff; text-decoration-color: #0087ff\">InputLayer</span>)      │ (<span style=\"color: #00d7ff; text-decoration-color: #00d7ff\">None</span>, <span style=\"color: #00af00; text-decoration-color: #00af00\">1</span>)              │             <span style=\"color: #00af00; text-decoration-color: #00af00\">0</span> │\n",
              "├─────────────────────────────────┼────────────────────────┼───────────────┤\n",
              "│ text_vectorization_1            │ (<span style=\"color: #00d7ff; text-decoration-color: #00d7ff\">None</span>, <span style=\"color: #00af00; text-decoration-color: #00af00\">100</span>)            │             <span style=\"color: #00af00; text-decoration-color: #00af00\">0</span> │\n",
              "│ (<span style=\"color: #0087ff; text-decoration-color: #0087ff\">TextVectorization</span>)             │                        │               │\n",
              "├─────────────────────────────────┼────────────────────────┼───────────────┤\n",
              "│ embedding (<span style=\"color: #0087ff; text-decoration-color: #0087ff\">Embedding</span>)           │ (<span style=\"color: #00d7ff; text-decoration-color: #00d7ff\">None</span>, <span style=\"color: #00af00; text-decoration-color: #00af00\">100</span>, <span style=\"color: #00af00; text-decoration-color: #00af00\">128</span>)       │        <span style=\"color: #00af00; text-decoration-color: #00af00\">12,800</span> │\n",
              "├─────────────────────────────────┼────────────────────────┼───────────────┤\n",
              "│ global_average_pooling1d        │ (<span style=\"color: #00d7ff; text-decoration-color: #00d7ff\">None</span>, <span style=\"color: #00af00; text-decoration-color: #00af00\">128</span>)            │             <span style=\"color: #00af00; text-decoration-color: #00af00\">0</span> │\n",
              "│ (<span style=\"color: #0087ff; text-decoration-color: #0087ff\">GlobalAveragePooling1D</span>)        │                        │               │\n",
              "├─────────────────────────────────┼────────────────────────┼───────────────┤\n",
              "│ dense_1 (<span style=\"color: #0087ff; text-decoration-color: #0087ff\">Dense</span>)                 │ (<span style=\"color: #00d7ff; text-decoration-color: #00d7ff\">None</span>, <span style=\"color: #00af00; text-decoration-color: #00af00\">1</span>)              │           <span style=\"color: #00af00; text-decoration-color: #00af00\">129</span> │\n",
              "└─────────────────────────────────┴────────────────────────┴───────────────┘\n",
              "</pre>\n"
            ]
          },
          "metadata": {}
        },
        {
          "output_type": "display_data",
          "data": {
            "text/plain": [
              "\u001b[1m Total params: \u001b[0m\u001b[38;5;34m12,929\u001b[0m (50.50 KB)\n"
            ],
            "text/html": [
              "<pre style=\"white-space:pre;overflow-x:auto;line-height:normal;font-family:Menlo,'DejaVu Sans Mono',consolas,'Courier New',monospace\"><span style=\"font-weight: bold\"> Total params: </span><span style=\"color: #00af00; text-decoration-color: #00af00\">12,929</span> (50.50 KB)\n",
              "</pre>\n"
            ]
          },
          "metadata": {}
        },
        {
          "output_type": "display_data",
          "data": {
            "text/plain": [
              "\u001b[1m Trainable params: \u001b[0m\u001b[38;5;34m12,929\u001b[0m (50.50 KB)\n"
            ],
            "text/html": [
              "<pre style=\"white-space:pre;overflow-x:auto;line-height:normal;font-family:Menlo,'DejaVu Sans Mono',consolas,'Courier New',monospace\"><span style=\"font-weight: bold\"> Trainable params: </span><span style=\"color: #00af00; text-decoration-color: #00af00\">12,929</span> (50.50 KB)\n",
              "</pre>\n"
            ]
          },
          "metadata": {}
        },
        {
          "output_type": "display_data",
          "data": {
            "text/plain": [
              "\u001b[1m Non-trainable params: \u001b[0m\u001b[38;5;34m0\u001b[0m (0.00 B)\n"
            ],
            "text/html": [
              "<pre style=\"white-space:pre;overflow-x:auto;line-height:normal;font-family:Menlo,'DejaVu Sans Mono',consolas,'Courier New',monospace\"><span style=\"font-weight: bold\"> Non-trainable params: </span><span style=\"color: #00af00; text-decoration-color: #00af00\">0</span> (0.00 B)\n",
              "</pre>\n"
            ]
          },
          "metadata": {}
        }
      ]
    },
    {
      "cell_type": "code",
      "source": [
        "model_1.compile(loss='binary_crossentropy',\n",
        "                optimizer=tf.keras.optimizers.Adam(),\n",
        "                metrics=['accuracy'])\n",
        "model_1_history=model_1.fit(train_sentances,train_labels,epochs=5,validation_data=(val_sentances,val_labels),callbacks=[create_tensorboard_callback(dir_name=SAVE_DIR,experiment_name='model_1_dense')])"
      ],
      "metadata": {
        "colab": {
          "base_uri": "https://localhost:8080/"
        },
        "id": "sN0C3bSD81eY",
        "outputId": "c043d74b-bd1a-4d37-b38b-9151137c7851"
      },
      "id": "sN0C3bSD81eY",
      "execution_count": 41,
      "outputs": [
        {
          "output_type": "stream",
          "name": "stdout",
          "text": [
            "Saving TensorBoard log files to: ModelLogs/model_1_dense/20251024-064543\n",
            "Epoch 1/5\n",
            "\u001b[1m215/215\u001b[0m \u001b[32m━━━━━━━━━━━━━━━━━━━━\u001b[0m\u001b[37m\u001b[0m \u001b[1m3s\u001b[0m 7ms/step - accuracy: 0.5557 - loss: 0.6840 - val_accuracy: 0.5433 - val_loss: 0.6963\n",
            "Epoch 2/5\n",
            "\u001b[1m215/215\u001b[0m \u001b[32m━━━━━━━━━━━━━━━━━━━━\u001b[0m\u001b[37m\u001b[0m \u001b[1m1s\u001b[0m 6ms/step - accuracy: 0.5842 - loss: 0.6697 - val_accuracy: 0.6299 - val_loss: 0.6598\n",
            "Epoch 3/5\n",
            "\u001b[1m215/215\u001b[0m \u001b[32m━━━━━━━━━━━━━━━━━━━━\u001b[0m\u001b[37m\u001b[0m \u001b[1m1s\u001b[0m 6ms/step - accuracy: 0.6219 - loss: 0.6503 - val_accuracy: 0.6168 - val_loss: 0.6444\n",
            "Epoch 4/5\n",
            "\u001b[1m215/215\u001b[0m \u001b[32m━━━━━━━━━━━━━━━━━━━━\u001b[0m\u001b[37m\u001b[0m \u001b[1m1s\u001b[0m 6ms/step - accuracy: 0.6439 - loss: 0.6341 - val_accuracy: 0.6640 - val_loss: 0.6198\n",
            "Epoch 5/5\n",
            "\u001b[1m215/215\u001b[0m \u001b[32m━━━━━━━━━━━━━━━━━━━━\u001b[0m\u001b[37m\u001b[0m \u001b[1m1s\u001b[0m 6ms/step - accuracy: 0.6753 - loss: 0.6129 - val_accuracy: 0.6509 - val_loss: 0.6237\n"
          ]
        }
      ]
    },
    {
      "cell_type": "code",
      "source": [
        "model_1.evaluate(val_sentances,val_labels)"
      ],
      "metadata": {
        "colab": {
          "base_uri": "https://localhost:8080/"
        },
        "id": "Quzoywi_9oUM",
        "outputId": "b31ddb05-f110-4824-c21e-672997d51e74"
      },
      "id": "Quzoywi_9oUM",
      "execution_count": 42,
      "outputs": [
        {
          "output_type": "stream",
          "name": "stdout",
          "text": [
            "\u001b[1m24/24\u001b[0m \u001b[32m━━━━━━━━━━━━━━━━━━━━\u001b[0m\u001b[37m\u001b[0m \u001b[1m0s\u001b[0m 4ms/step - accuracy: 0.6464 - loss: 0.6462\n"
          ]
        },
        {
          "output_type": "execute_result",
          "data": {
            "text/plain": [
              "[0.623660683631897, 0.6509186625480652]"
            ]
          },
          "metadata": {},
          "execution_count": 42
        }
      ]
    },
    {
      "cell_type": "code",
      "source": [
        "model_1_predict_probs=model_1.predict(val_sentances)\n",
        "model_1_predict_probs"
      ],
      "metadata": {
        "colab": {
          "base_uri": "https://localhost:8080/"
        },
        "id": "7mezY-iW98qu",
        "outputId": "52bb5bee-e434-4c7d-f18e-fbbfc9a30432"
      },
      "id": "7mezY-iW98qu",
      "execution_count": 43,
      "outputs": [
        {
          "output_type": "stream",
          "name": "stdout",
          "text": [
            "\u001b[1m24/24\u001b[0m \u001b[32m━━━━━━━━━━━━━━━━━━━━\u001b[0m\u001b[37m\u001b[0m \u001b[1m0s\u001b[0m 6ms/step\n"
          ]
        },
        {
          "output_type": "execute_result",
          "data": {
            "text/plain": [
              "array([[0.441873  ],\n",
              "       [0.56637543],\n",
              "       [0.62882084],\n",
              "       [0.25346127],\n",
              "       [0.347933  ],\n",
              "       [0.5374462 ],\n",
              "       [0.61757904],\n",
              "       [0.5580428 ],\n",
              "       [0.5725021 ],\n",
              "       [0.20823337],\n",
              "       [0.38588038],\n",
              "       [0.43684903],\n",
              "       [0.47977015],\n",
              "       [0.36418056],\n",
              "       [0.5252877 ],\n",
              "       [0.39477822],\n",
              "       [0.20861995],\n",
              "       [0.29424295],\n",
              "       [0.3260463 ],\n",
              "       [0.4161183 ],\n",
              "       [0.19044794],\n",
              "       [0.10061562],\n",
              "       [0.30691427],\n",
              "       [0.36289054],\n",
              "       [0.4029231 ],\n",
              "       [0.5134693 ],\n",
              "       [0.10110677],\n",
              "       [0.43567425],\n",
              "       [0.17998363],\n",
              "       [0.22076803],\n",
              "       [0.3549491 ],\n",
              "       [0.36171046],\n",
              "       [0.4391593 ],\n",
              "       [0.3682958 ],\n",
              "       [0.4338756 ],\n",
              "       [0.11391601],\n",
              "       [0.54043925],\n",
              "       [0.20278646],\n",
              "       [0.18965393],\n",
              "       [0.5870159 ],\n",
              "       [0.28281024],\n",
              "       [0.50212675],\n",
              "       [0.3081129 ],\n",
              "       [0.41848502],\n",
              "       [0.27322412],\n",
              "       [0.4875286 ],\n",
              "       [0.35142255],\n",
              "       [0.657592  ],\n",
              "       [0.284683  ],\n",
              "       [0.6300071 ],\n",
              "       [0.07339392],\n",
              "       [0.43976602],\n",
              "       [0.37350562],\n",
              "       [0.22025393],\n",
              "       [0.05547106],\n",
              "       [0.11586172],\n",
              "       [0.46651998],\n",
              "       [0.47792467],\n",
              "       [0.37746277],\n",
              "       [0.01755244],\n",
              "       [0.22488303],\n",
              "       [0.39288378],\n",
              "       [0.84599   ],\n",
              "       [0.23367092],\n",
              "       [0.52650654],\n",
              "       [0.6159302 ],\n",
              "       [0.17698665],\n",
              "       [0.51391846],\n",
              "       [0.14513156],\n",
              "       [0.2904301 ],\n",
              "       [0.3187574 ],\n",
              "       [0.21005352],\n",
              "       [0.5277269 ],\n",
              "       [0.22289407],\n",
              "       [0.28433824],\n",
              "       [0.34647134],\n",
              "       [0.34410128],\n",
              "       [0.35815352],\n",
              "       [0.2339439 ],\n",
              "       [0.5993817 ],\n",
              "       [0.45067275],\n",
              "       [0.14809859],\n",
              "       [0.4597633 ],\n",
              "       [0.25161093],\n",
              "       [0.34214213],\n",
              "       [0.24715911],\n",
              "       [0.15905865],\n",
              "       [0.35991257],\n",
              "       [0.5262995 ],\n",
              "       [0.27002105],\n",
              "       [0.40291497],\n",
              "       [0.33433002],\n",
              "       [0.1841887 ],\n",
              "       [0.40149373],\n",
              "       [0.51304907],\n",
              "       [0.52127975],\n",
              "       [0.48784998],\n",
              "       [0.41795602],\n",
              "       [0.5175956 ],\n",
              "       [0.6069271 ],\n",
              "       [0.60625726],\n",
              "       [0.2593703 ],\n",
              "       [0.16235885],\n",
              "       [0.55116385],\n",
              "       [0.29827243],\n",
              "       [0.15925218],\n",
              "       [0.5489394 ],\n",
              "       [0.5025746 ],\n",
              "       [0.35915875],\n",
              "       [0.37481788],\n",
              "       [0.45984983],\n",
              "       [0.24464421],\n",
              "       [0.31639025],\n",
              "       [0.42800903],\n",
              "       [0.31744173],\n",
              "       [0.7041453 ],\n",
              "       [0.4160497 ],\n",
              "       [0.5516146 ],\n",
              "       [0.44817695],\n",
              "       [0.32051957],\n",
              "       [0.55743754],\n",
              "       [0.46592677],\n",
              "       [0.28875315],\n",
              "       [0.5075215 ],\n",
              "       [0.46375793],\n",
              "       [0.24341561],\n",
              "       [0.4217232 ],\n",
              "       [0.23802465],\n",
              "       [0.290195  ],\n",
              "       [0.4269254 ],\n",
              "       [0.26252547],\n",
              "       [0.55743754],\n",
              "       [0.69694227],\n",
              "       [0.5134693 ],\n",
              "       [0.50680435],\n",
              "       [0.3385922 ],\n",
              "       [0.4133726 ],\n",
              "       [0.2782369 ],\n",
              "       [0.30056807],\n",
              "       [0.23407213],\n",
              "       [0.53679544],\n",
              "       [0.3505901 ],\n",
              "       [0.36418056],\n",
              "       [0.37304232],\n",
              "       [0.26831755],\n",
              "       [0.56887233],\n",
              "       [0.19538422],\n",
              "       [0.14029871],\n",
              "       [0.23277518],\n",
              "       [0.3834097 ],\n",
              "       [0.4113399 ],\n",
              "       [0.3217377 ],\n",
              "       [0.3937975 ],\n",
              "       [0.42956778],\n",
              "       [0.14498605],\n",
              "       [0.67301804],\n",
              "       [0.5798958 ],\n",
              "       [0.4386879 ],\n",
              "       [0.543785  ],\n",
              "       [0.32196674],\n",
              "       [0.61716676],\n",
              "       [0.01358205],\n",
              "       [0.14737411],\n",
              "       [0.62570393],\n",
              "       [0.33513024],\n",
              "       [0.42454004],\n",
              "       [0.6192768 ],\n",
              "       [0.28949016],\n",
              "       [0.42520717],\n",
              "       [0.38327438],\n",
              "       [0.6534072 ],\n",
              "       [0.5989861 ],\n",
              "       [0.57025677],\n",
              "       [0.19332667],\n",
              "       [0.49936944],\n",
              "       [0.21235704],\n",
              "       [0.47467765],\n",
              "       [0.28785306],\n",
              "       [0.25446752],\n",
              "       [0.5493562 ],\n",
              "       [0.24308243],\n",
              "       [0.5643227 ],\n",
              "       [0.48125887],\n",
              "       [0.48097843],\n",
              "       [0.4372409 ],\n",
              "       [0.4618471 ],\n",
              "       [0.25645673],\n",
              "       [0.6721481 ],\n",
              "       [0.44531804],\n",
              "       [0.376335  ],\n",
              "       [0.446681  ],\n",
              "       [0.43513116],\n",
              "       [0.39417908],\n",
              "       [0.45507175],\n",
              "       [0.34930784],\n",
              "       [0.54352504],\n",
              "       [0.2354284 ],\n",
              "       [0.23388942],\n",
              "       [0.3643145 ],\n",
              "       [0.30899644],\n",
              "       [0.20506322],\n",
              "       [0.3582154 ],\n",
              "       [0.6017518 ],\n",
              "       [0.3406328 ],\n",
              "       [0.48097682],\n",
              "       [0.5454309 ],\n",
              "       [0.38635653],\n",
              "       [0.614205  ],\n",
              "       [0.44240588],\n",
              "       [0.60191965],\n",
              "       [0.3020851 ],\n",
              "       [0.5302894 ],\n",
              "       [0.11444416],\n",
              "       [0.20723735],\n",
              "       [0.20588334],\n",
              "       [0.22150774],\n",
              "       [0.5525122 ],\n",
              "       [0.49487472],\n",
              "       [0.37307426],\n",
              "       [0.16785318],\n",
              "       [0.47727036],\n",
              "       [0.2954558 ],\n",
              "       [0.21612984],\n",
              "       [0.3139461 ],\n",
              "       [0.39136323],\n",
              "       [0.45226714],\n",
              "       [0.70754135],\n",
              "       [0.51789355],\n",
              "       [0.3698997 ],\n",
              "       [0.45097485],\n",
              "       [0.4408628 ],\n",
              "       [0.2619822 ],\n",
              "       [0.50453895],\n",
              "       [0.17107634],\n",
              "       [0.2388244 ],\n",
              "       [0.1887723 ],\n",
              "       [0.36349985],\n",
              "       [0.6080445 ],\n",
              "       [0.4312285 ],\n",
              "       [0.2526623 ],\n",
              "       [0.41087773],\n",
              "       [0.43767232],\n",
              "       [0.4035617 ],\n",
              "       [0.38653043],\n",
              "       [0.34577492],\n",
              "       [0.4571091 ],\n",
              "       [0.44660407],\n",
              "       [0.37230465],\n",
              "       [0.24188022],\n",
              "       [0.41311872],\n",
              "       [0.26480538],\n",
              "       [0.34954077],\n",
              "       [0.05960224],\n",
              "       [0.36494353],\n",
              "       [0.31008333],\n",
              "       [0.22712326],\n",
              "       [0.5866693 ],\n",
              "       [0.53782076],\n",
              "       [0.18930387],\n",
              "       [0.42843705],\n",
              "       [0.612483  ],\n",
              "       [0.2737938 ],\n",
              "       [0.26447722],\n",
              "       [0.49083877],\n",
              "       [0.47799873],\n",
              "       [0.61116064],\n",
              "       [0.4091276 ],\n",
              "       [0.17941451],\n",
              "       [0.17468157],\n",
              "       [0.20135058],\n",
              "       [0.39643285],\n",
              "       [0.49685615],\n",
              "       [0.4099793 ],\n",
              "       [0.36230084],\n",
              "       [0.40948159],\n",
              "       [0.4536199 ],\n",
              "       [0.56777704],\n",
              "       [0.18026356],\n",
              "       [0.4676114 ],\n",
              "       [0.4433703 ],\n",
              "       [0.09446113],\n",
              "       [0.3341577 ],\n",
              "       [0.45831096],\n",
              "       [0.43744346],\n",
              "       [0.5136891 ],\n",
              "       [0.5220371 ],\n",
              "       [0.37043718],\n",
              "       [0.13061376],\n",
              "       [0.5464242 ],\n",
              "       [0.24380295],\n",
              "       [0.4388266 ],\n",
              "       [0.49761182],\n",
              "       [0.325407  ],\n",
              "       [0.3095192 ],\n",
              "       [0.46340445],\n",
              "       [0.58554673],\n",
              "       [0.26706886],\n",
              "       [0.46072623],\n",
              "       [0.11067399],\n",
              "       [0.69423765],\n",
              "       [0.5377797 ],\n",
              "       [0.15285338],\n",
              "       [0.3798469 ],\n",
              "       [0.6047399 ],\n",
              "       [0.27168727],\n",
              "       [0.14713301],\n",
              "       [0.2864967 ],\n",
              "       [0.27107707],\n",
              "       [0.31339538],\n",
              "       [0.2653317 ],\n",
              "       [0.41156656],\n",
              "       [0.3321818 ],\n",
              "       [0.29918355],\n",
              "       [0.53312916],\n",
              "       [0.52869064],\n",
              "       [0.2207391 ],\n",
              "       [0.40019664],\n",
              "       [0.314328  ],\n",
              "       [0.18844178],\n",
              "       [0.2310396 ],\n",
              "       [0.3893639 ],\n",
              "       [0.20823838],\n",
              "       [0.45890138],\n",
              "       [0.2872795 ],\n",
              "       [0.4133726 ],\n",
              "       [0.34947628],\n",
              "       [0.41486177],\n",
              "       [0.46264848],\n",
              "       [0.3677738 ],\n",
              "       [0.66326153],\n",
              "       [0.27028263],\n",
              "       [0.2235916 ],\n",
              "       [0.49186543],\n",
              "       [0.4926958 ],\n",
              "       [0.3146369 ],\n",
              "       [0.45313555],\n",
              "       [0.18425603],\n",
              "       [0.3962322 ],\n",
              "       [0.1290844 ],\n",
              "       [0.5519485 ],\n",
              "       [0.1957818 ],\n",
              "       [0.15028852],\n",
              "       [0.4663727 ],\n",
              "       [0.49795443],\n",
              "       [0.3143313 ],\n",
              "       [0.24877496],\n",
              "       [0.41393787],\n",
              "       [0.19638795],\n",
              "       [0.20237175],\n",
              "       [0.3426527 ],\n",
              "       [0.27107707],\n",
              "       [0.564099  ],\n",
              "       [0.11124698],\n",
              "       [0.4998772 ],\n",
              "       [0.30325782],\n",
              "       [0.25951338],\n",
              "       [0.29691786],\n",
              "       [0.5134693 ],\n",
              "       [0.49684948],\n",
              "       [0.27665892],\n",
              "       [0.3746225 ],\n",
              "       [0.34309223],\n",
              "       [0.44828388],\n",
              "       [0.29414925],\n",
              "       [0.54447675],\n",
              "       [0.21663429],\n",
              "       [0.22372146],\n",
              "       [0.32076398],\n",
              "       [0.41983646],\n",
              "       [0.07933753],\n",
              "       [0.25087065],\n",
              "       [0.24492104],\n",
              "       [0.3625496 ],\n",
              "       [0.40868014],\n",
              "       [0.21117552],\n",
              "       [0.25248867],\n",
              "       [0.36024353],\n",
              "       [0.57899696],\n",
              "       [0.3053121 ],\n",
              "       [0.5730069 ],\n",
              "       [0.3869219 ],\n",
              "       [0.27107707],\n",
              "       [0.2776555 ],\n",
              "       [0.43567425],\n",
              "       [0.3263258 ],\n",
              "       [0.43718386],\n",
              "       [0.5469009 ],\n",
              "       [0.17744488],\n",
              "       [0.5630168 ],\n",
              "       [0.33839205],\n",
              "       [0.45143545],\n",
              "       [0.11833271],\n",
              "       [0.15248787],\n",
              "       [0.30910543],\n",
              "       [0.18006471],\n",
              "       [0.3892836 ],\n",
              "       [0.24383079],\n",
              "       [0.33968815],\n",
              "       [0.44818822],\n",
              "       [0.54447675],\n",
              "       [0.4338285 ],\n",
              "       [0.04617266],\n",
              "       [0.2534173 ],\n",
              "       [0.66907406],\n",
              "       [0.6319894 ],\n",
              "       [0.55743754],\n",
              "       [0.40880704],\n",
              "       [0.4464194 ],\n",
              "       [0.26675418],\n",
              "       [0.48943362],\n",
              "       [0.6199731 ],\n",
              "       [0.11020724],\n",
              "       [0.06884892],\n",
              "       [0.22483943],\n",
              "       [0.52624243],\n",
              "       [0.428452  ],\n",
              "       [0.39125428],\n",
              "       [0.59103394],\n",
              "       [0.5650966 ],\n",
              "       [0.28949016],\n",
              "       [0.5542692 ],\n",
              "       [0.47566298],\n",
              "       [0.5436899 ],\n",
              "       [0.6419478 ],\n",
              "       [0.13929197],\n",
              "       [0.41816115],\n",
              "       [0.20041215],\n",
              "       [0.37808046],\n",
              "       [0.30446967],\n",
              "       [0.33935562],\n",
              "       [0.22092262],\n",
              "       [0.3820446 ],\n",
              "       [0.15816921],\n",
              "       [0.4103528 ],\n",
              "       [0.4231283 ],\n",
              "       [0.3128141 ],\n",
              "       [0.2072034 ],\n",
              "       [0.43567425],\n",
              "       [0.5348982 ],\n",
              "       [0.6263426 ],\n",
              "       [0.26502118],\n",
              "       [0.56637543],\n",
              "       [0.53750753],\n",
              "       [0.1764396 ],\n",
              "       [0.30002812],\n",
              "       [0.49951455],\n",
              "       [0.3251855 ],\n",
              "       [0.19461603],\n",
              "       [0.4228356 ],\n",
              "       [0.30464542],\n",
              "       [0.37012082],\n",
              "       [0.5392131 ],\n",
              "       [0.61964524],\n",
              "       [0.4303104 ],\n",
              "       [0.7099305 ],\n",
              "       [0.44895044],\n",
              "       [0.39385238],\n",
              "       [0.26805916],\n",
              "       [0.4289642 ],\n",
              "       [0.5119714 ],\n",
              "       [0.44817695],\n",
              "       [0.20279141],\n",
              "       [0.4099716 ],\n",
              "       [0.4077799 ],\n",
              "       [0.52953583],\n",
              "       [0.5450087 ],\n",
              "       [0.4612198 ],\n",
              "       [0.355924  ],\n",
              "       [0.7619694 ],\n",
              "       [0.25267324],\n",
              "       [0.25456595],\n",
              "       [0.6357645 ],\n",
              "       [0.3914208 ],\n",
              "       [0.3246673 ],\n",
              "       [0.29271752],\n",
              "       [0.4988306 ],\n",
              "       [0.3914208 ],\n",
              "       [0.60189354],\n",
              "       [0.252437  ],\n",
              "       [0.2811831 ],\n",
              "       [0.5500804 ],\n",
              "       [0.2185746 ],\n",
              "       [0.5030033 ],\n",
              "       [0.4583685 ],\n",
              "       [0.27120718],\n",
              "       [0.26774853],\n",
              "       [0.43567425],\n",
              "       [0.12876269],\n",
              "       [0.29751024],\n",
              "       [0.55074996],\n",
              "       [0.5774727 ],\n",
              "       [0.5118557 ],\n",
              "       [0.3308292 ],\n",
              "       [0.3952491 ],\n",
              "       [0.41526404],\n",
              "       [0.50530434],\n",
              "       [0.3488835 ],\n",
              "       [0.4620126 ],\n",
              "       [0.15054514],\n",
              "       [0.45429108],\n",
              "       [0.5999734 ],\n",
              "       [0.40465745],\n",
              "       [0.197292  ],\n",
              "       [0.57861364],\n",
              "       [0.30937788],\n",
              "       [0.23220582],\n",
              "       [0.10344545],\n",
              "       [0.697451  ],\n",
              "       [0.20747872],\n",
              "       [0.2534173 ],\n",
              "       [0.31170866],\n",
              "       [0.2946359 ],\n",
              "       [0.30631042],\n",
              "       [0.26975006],\n",
              "       [0.39842275],\n",
              "       [0.2534173 ],\n",
              "       [0.6906768 ],\n",
              "       [0.33175325],\n",
              "       [0.52127975],\n",
              "       [0.7978697 ],\n",
              "       [0.3215584 ],\n",
              "       [0.26118928],\n",
              "       [0.49186543],\n",
              "       [0.44763145],\n",
              "       [0.1086644 ],\n",
              "       [0.6157841 ],\n",
              "       [0.5605116 ],\n",
              "       [0.48097682],\n",
              "       [0.61512053],\n",
              "       [0.40190744],\n",
              "       [0.4023699 ],\n",
              "       [0.4869773 ],\n",
              "       [0.13288462],\n",
              "       [0.19274107],\n",
              "       [0.36881152],\n",
              "       [0.29444715],\n",
              "       [0.26783195],\n",
              "       [0.24381116],\n",
              "       [0.09588137],\n",
              "       [0.2635018 ],\n",
              "       [0.14815724],\n",
              "       [0.25564963],\n",
              "       [0.27107707],\n",
              "       [0.39044744],\n",
              "       [0.3086245 ],\n",
              "       [0.5365118 ],\n",
              "       [0.50101614],\n",
              "       [0.54490227],\n",
              "       [0.6944503 ],\n",
              "       [0.46402064],\n",
              "       [0.36820891],\n",
              "       [0.43167338],\n",
              "       [0.4039406 ],\n",
              "       [0.4046696 ],\n",
              "       [0.19909264],\n",
              "       [0.40977442],\n",
              "       [0.27107707],\n",
              "       [0.32196674],\n",
              "       [0.3727024 ],\n",
              "       [0.26954615],\n",
              "       [0.15719359],\n",
              "       [0.413387  ],\n",
              "       [0.56213665],\n",
              "       [0.43301234],\n",
              "       [0.4080848 ],\n",
              "       [0.22275385],\n",
              "       [0.4203895 ],\n",
              "       [0.4732559 ],\n",
              "       [0.28545073],\n",
              "       [0.45170856],\n",
              "       [0.40621936],\n",
              "       [0.48720556],\n",
              "       [0.38152528],\n",
              "       [0.49673796],\n",
              "       [0.14592478],\n",
              "       [0.2599368 ],\n",
              "       [0.41073978],\n",
              "       [0.28949016],\n",
              "       [0.43167338],\n",
              "       [0.40598622],\n",
              "       [0.2055751 ],\n",
              "       [0.24099526],\n",
              "       [0.3815002 ],\n",
              "       [0.33307147],\n",
              "       [0.2469205 ],\n",
              "       [0.4683945 ],\n",
              "       [0.5266894 ],\n",
              "       [0.22691968],\n",
              "       [0.3489362 ],\n",
              "       [0.23703687],\n",
              "       [0.32535613],\n",
              "       [0.49774936],\n",
              "       [0.3928525 ],\n",
              "       [0.29393268],\n",
              "       [0.4617714 ],\n",
              "       [0.41344267],\n",
              "       [0.46142283],\n",
              "       [0.5469213 ],\n",
              "       [0.6323385 ],\n",
              "       [0.14421843],\n",
              "       [0.37285927],\n",
              "       [0.08118128],\n",
              "       [0.5350465 ],\n",
              "       [0.5076344 ],\n",
              "       [0.72136074],\n",
              "       [0.30458564],\n",
              "       [0.4384745 ],\n",
              "       [0.27107707],\n",
              "       [0.57305306],\n",
              "       [0.3273964 ],\n",
              "       [0.23266554],\n",
              "       [0.5721787 ],\n",
              "       [0.27880475],\n",
              "       [0.24403918],\n",
              "       [0.59735423],\n",
              "       [0.25789285],\n",
              "       [0.09090119],\n",
              "       [0.3698997 ],\n",
              "       [0.14191774],\n",
              "       [0.3054713 ],\n",
              "       [0.5454309 ],\n",
              "       [0.3888351 ],\n",
              "       [0.6066502 ],\n",
              "       [0.3442239 ],\n",
              "       [0.33693483],\n",
              "       [0.17983274],\n",
              "       [0.3698997 ],\n",
              "       [0.40094864],\n",
              "       [0.42431614],\n",
              "       [0.168894  ],\n",
              "       [0.43537804],\n",
              "       [0.55410314],\n",
              "       [0.3936259 ],\n",
              "       [0.5038731 ],\n",
              "       [0.4133726 ],\n",
              "       [0.16892053],\n",
              "       [0.29912817],\n",
              "       [0.38912645],\n",
              "       [0.19148462],\n",
              "       [0.28822395],\n",
              "       [0.32406306],\n",
              "       [0.29242724],\n",
              "       [0.4462466 ],\n",
              "       [0.5361961 ],\n",
              "       [0.33604723],\n",
              "       [0.2671195 ],\n",
              "       [0.2534173 ],\n",
              "       [0.3137669 ],\n",
              "       [0.24005544],\n",
              "       [0.40540013],\n",
              "       [0.5470793 ],\n",
              "       [0.3177766 ],\n",
              "       [0.38305953],\n",
              "       [0.19300717],\n",
              "       [0.34168676],\n",
              "       [0.38110888],\n",
              "       [0.12594682],\n",
              "       [0.5515415 ],\n",
              "       [0.30681708],\n",
              "       [0.22462696],\n",
              "       [0.23791276],\n",
              "       [0.31867245],\n",
              "       [0.48091647],\n",
              "       [0.31943944],\n",
              "       [0.43567425],\n",
              "       [0.19672544],\n",
              "       [0.52310026],\n",
              "       [0.3886214 ],\n",
              "       [0.6517212 ],\n",
              "       [0.3488835 ],\n",
              "       [0.29345426],\n",
              "       [0.30731046],\n",
              "       [0.308674  ],\n",
              "       [0.5763839 ],\n",
              "       [0.3915449 ],\n",
              "       [0.5623756 ],\n",
              "       [0.33962372],\n",
              "       [0.5648073 ],\n",
              "       [0.24427567],\n",
              "       [0.1743455 ],\n",
              "       [0.3086245 ],\n",
              "       [0.14732404],\n",
              "       [0.5528206 ],\n",
              "       [0.32843888],\n",
              "       [0.18483208],\n",
              "       [0.61296445],\n",
              "       [0.29636464],\n",
              "       [0.28949016],\n",
              "       [0.48097682],\n",
              "       [0.28033537],\n",
              "       [0.5057566 ],\n",
              "       [0.55743754],\n",
              "       [0.35242152],\n",
              "       [0.16173875],\n",
              "       [0.4759149 ],\n",
              "       [0.44312918],\n",
              "       [0.4462817 ],\n",
              "       [0.44312918],\n",
              "       [0.50379336],\n",
              "       [0.43228427],\n",
              "       [0.22548081],\n",
              "       [0.47427785],\n",
              "       [0.533938  ],\n",
              "       [0.49379   ],\n",
              "       [0.34097427],\n",
              "       [0.25571138],\n",
              "       [0.23852895],\n",
              "       [0.25968397],\n",
              "       [0.08611964],\n",
              "       [0.342769  ],\n",
              "       [0.15899622],\n",
              "       [0.1540273 ],\n",
              "       [0.49564102],\n",
              "       [0.07318934],\n",
              "       [0.22488303],\n",
              "       [0.27118406],\n",
              "       [0.3780372 ],\n",
              "       [0.08602434],\n",
              "       [0.47723782],\n",
              "       [0.224504  ],\n",
              "       [0.5837358 ],\n",
              "       [0.14235233],\n",
              "       [0.1690607 ],\n",
              "       [0.3698997 ],\n",
              "       [0.48771876],\n",
              "       [0.28317863],\n",
              "       [0.44353035],\n",
              "       [0.18478128],\n",
              "       [0.65704924],\n",
              "       [0.3780372 ],\n",
              "       [0.4021052 ],\n",
              "       [0.6832678 ],\n",
              "       [0.4133726 ],\n",
              "       [0.529295  ],\n",
              "       [0.7505122 ],\n",
              "       [0.63202816],\n",
              "       [0.41497716],\n",
              "       [0.29533127],\n",
              "       [0.27641043],\n",
              "       [0.3914208 ],\n",
              "       [0.50822985],\n",
              "       [0.2790062 ],\n",
              "       [0.4119605 ],\n",
              "       [0.4530009 ],\n",
              "       [0.49070305],\n",
              "       [0.35853723],\n",
              "       [0.35367915],\n",
              "       [0.24798125],\n",
              "       [0.23182295],\n",
              "       [0.1303342 ],\n",
              "       [0.14249341],\n",
              "       [0.27258044],\n",
              "       [0.5386365 ],\n",
              "       [0.18844865],\n",
              "       [0.40525928],\n",
              "       [0.4162003 ],\n",
              "       [0.17434403],\n",
              "       [0.25640452],\n",
              "       [0.1940235 ],\n",
              "       [0.51936966],\n",
              "       [0.4270548 ],\n",
              "       [0.23966886]], dtype=float32)"
            ]
          },
          "metadata": {},
          "execution_count": 43
        }
      ]
    },
    {
      "cell_type": "code",
      "source": [
        "model_1_predict_probs.shape"
      ],
      "metadata": {
        "colab": {
          "base_uri": "https://localhost:8080/"
        },
        "id": "SIpsqs38-LnF",
        "outputId": "683207e9-957a-40e3-ebef-9d345d2fa760"
      },
      "id": "SIpsqs38-LnF",
      "execution_count": 44,
      "outputs": [
        {
          "output_type": "execute_result",
          "data": {
            "text/plain": [
              "(762, 1)"
            ]
          },
          "metadata": {},
          "execution_count": 44
        }
      ]
    },
    {
      "cell_type": "code",
      "source": [
        "model_1_predict_probs[0]"
      ],
      "metadata": {
        "colab": {
          "base_uri": "https://localhost:8080/"
        },
        "id": "ckUJXAR3-VrR",
        "outputId": "09f6853a-f75c-41dd-bce6-4b1d19a6b882"
      },
      "id": "ckUJXAR3-VrR",
      "execution_count": 45,
      "outputs": [
        {
          "output_type": "execute_result",
          "data": {
            "text/plain": [
              "array([0.441873], dtype=float32)"
            ]
          },
          "metadata": {},
          "execution_count": 45
        }
      ]
    },
    {
      "cell_type": "code",
      "source": [
        "# Make the preictions comaparable with the actaul labels\n",
        "model_1_predict_probs=tf.squeeze(tf.round(model_1_predict_probs))\n",
        "model_1_predict_probs[:10]"
      ],
      "metadata": {
        "colab": {
          "base_uri": "https://localhost:8080/"
        },
        "id": "0yAY1ua--ZZL",
        "outputId": "a552a7dd-a5dd-4baf-b4ff-49b71f931d8d"
      },
      "id": "0yAY1ua--ZZL",
      "execution_count": 47,
      "outputs": [
        {
          "output_type": "execute_result",
          "data": {
            "text/plain": [
              "<tf.Tensor: shape=(10,), dtype=float32, numpy=array([0., 1., 1., 0., 0., 1., 1., 1., 1., 0.], dtype=float32)>"
            ]
          },
          "metadata": {},
          "execution_count": 47
        }
      ]
    },
    {
      "cell_type": "code",
      "source": [
        "val_labels[:10]"
      ],
      "metadata": {
        "colab": {
          "base_uri": "https://localhost:8080/"
        },
        "id": "vsFl7Hi7-vsm",
        "outputId": "bbcd3303-9f53-4562-b3e0-1fd2cb3d3bfd"
      },
      "id": "vsFl7Hi7-vsm",
      "execution_count": 49,
      "outputs": [
        {
          "output_type": "execute_result",
          "data": {
            "text/plain": [
              "array([0, 0, 1, 1, 1, 1, 1, 1, 1, 0])"
            ]
          },
          "metadata": {},
          "execution_count": 49
        }
      ]
    },
    {
      "cell_type": "markdown",
      "source": [
        "# ***Calculate Model Results***"
      ],
      "metadata": {
        "id": "wpNBirEp-5TE"
      },
      "id": "wpNBirEp-5TE"
    },
    {
      "cell_type": "code",
      "source": [
        "model_1_results=calculate_results(y_true=val_labels,y_pred=model_1_predict_probs)\n",
        "model_1_results"
      ],
      "metadata": {
        "colab": {
          "base_uri": "https://localhost:8080/"
        },
        "id": "6WC9okhM-0c5",
        "outputId": "b30af0c9-9969-4ffc-efdc-f3b2c1e902b9"
      },
      "id": "6WC9okhM-0c5",
      "execution_count": 50,
      "outputs": [
        {
          "output_type": "execute_result",
          "data": {
            "text/plain": [
              "{'accuracy': 0.6509186351706037,\n",
              " 'precsion': 0.6814052089642642,\n",
              " 'recall': 0.6509186351706037,\n",
              " 'f1_score': 0.6199277469577666}"
            ]
          },
          "metadata": {},
          "execution_count": 50
        }
      ]
    },
    {
      "cell_type": "code",
      "source": [
        "import numpy as np\n",
        "np.array(list(model_1_results.values()))>np.array(list(baseline_results.values()))"
      ],
      "metadata": {
        "colab": {
          "base_uri": "https://localhost:8080/"
        },
        "id": "5cJG9MXi_hKE",
        "outputId": "c9c26409-679e-499d-dcec-49ed3f560b24"
      },
      "id": "5cJG9MXi_hKE",
      "execution_count": 53,
      "outputs": [
        {
          "output_type": "execute_result",
          "data": {
            "text/plain": [
              "array([False, False, False, False])"
            ]
          },
          "metadata": {},
          "execution_count": 53
        }
      ]
    },
    {
      "cell_type": "markdown",
      "source": [
        "# ***Lets Visualize the embedding that Model learned using Tensorflow Projector***"
      ],
      "metadata": {
        "id": "ZRDepOumAhni"
      },
      "id": "ZRDepOumAhni"
    },
    {
      "cell_type": "code",
      "source": [
        "words_in_vocab=text_vectorizer.get_vocabulary()\n",
        "len(words_in_vocab),words_in_vocab[:10]"
      ],
      "metadata": {
        "colab": {
          "base_uri": "https://localhost:8080/"
        },
        "id": "nGwG30ydAnSs",
        "outputId": "b3884d2d-6d29-4242-ac1d-3fa95ffd978c"
      },
      "id": "nGwG30ydAnSs",
      "execution_count": 54,
      "outputs": [
        {
          "output_type": "execute_result",
          "data": {
            "text/plain": [
              "(100,\n",
              " ['',\n",
              "  '[UNK]',\n",
              "  np.str_('the'),\n",
              "  np.str_('a'),\n",
              "  np.str_('in'),\n",
              "  np.str_('to'),\n",
              "  np.str_('of'),\n",
              "  np.str_('and'),\n",
              "  np.str_('i'),\n",
              "  np.str_('is')])"
            ]
          },
          "metadata": {},
          "execution_count": 54
        }
      ]
    },
    {
      "cell_type": "code",
      "source": [
        "model_1.summary()"
      ],
      "metadata": {
        "colab": {
          "base_uri": "https://localhost:8080/",
          "height": 340
        },
        "id": "WCKbAK7zA28L",
        "outputId": "68369826-4a04-42aa-c0ea-ab51904132a7"
      },
      "id": "WCKbAK7zA28L",
      "execution_count": 55,
      "outputs": [
        {
          "output_type": "display_data",
          "data": {
            "text/plain": [
              "\u001b[1mModel: \"model_1_Dense\"\u001b[0m\n"
            ],
            "text/html": [
              "<pre style=\"white-space:pre;overflow-x:auto;line-height:normal;font-family:Menlo,'DejaVu Sans Mono',consolas,'Courier New',monospace\"><span style=\"font-weight: bold\">Model: \"model_1_Dense\"</span>\n",
              "</pre>\n"
            ]
          },
          "metadata": {}
        },
        {
          "output_type": "display_data",
          "data": {
            "text/plain": [
              "┏━━━━━━━━━━━━━━━━━━━━━━━━━━━━━━━━━┳━━━━━━━━━━━━━━━━━━━━━━━━┳━━━━━━━━━━━━━━━┓\n",
              "┃\u001b[1m \u001b[0m\u001b[1mLayer (type)                   \u001b[0m\u001b[1m \u001b[0m┃\u001b[1m \u001b[0m\u001b[1mOutput Shape          \u001b[0m\u001b[1m \u001b[0m┃\u001b[1m \u001b[0m\u001b[1m      Param #\u001b[0m\u001b[1m \u001b[0m┃\n",
              "┡━━━━━━━━━━━━━━━━━━━━━━━━━━━━━━━━━╇━━━━━━━━━━━━━━━━━━━━━━━━╇━━━━━━━━━━━━━━━┩\n",
              "│ input_layer_1 (\u001b[38;5;33mInputLayer\u001b[0m)      │ (\u001b[38;5;45mNone\u001b[0m, \u001b[38;5;34m1\u001b[0m)              │             \u001b[38;5;34m0\u001b[0m │\n",
              "├─────────────────────────────────┼────────────────────────┼───────────────┤\n",
              "│ text_vectorization_1            │ (\u001b[38;5;45mNone\u001b[0m, \u001b[38;5;34m100\u001b[0m)            │             \u001b[38;5;34m0\u001b[0m │\n",
              "│ (\u001b[38;5;33mTextVectorization\u001b[0m)             │                        │               │\n",
              "├─────────────────────────────────┼────────────────────────┼───────────────┤\n",
              "│ embedding (\u001b[38;5;33mEmbedding\u001b[0m)           │ (\u001b[38;5;45mNone\u001b[0m, \u001b[38;5;34m100\u001b[0m, \u001b[38;5;34m128\u001b[0m)       │        \u001b[38;5;34m12,800\u001b[0m │\n",
              "├─────────────────────────────────┼────────────────────────┼───────────────┤\n",
              "│ global_average_pooling1d        │ (\u001b[38;5;45mNone\u001b[0m, \u001b[38;5;34m128\u001b[0m)            │             \u001b[38;5;34m0\u001b[0m │\n",
              "│ (\u001b[38;5;33mGlobalAveragePooling1D\u001b[0m)        │                        │               │\n",
              "├─────────────────────────────────┼────────────────────────┼───────────────┤\n",
              "│ dense_1 (\u001b[38;5;33mDense\u001b[0m)                 │ (\u001b[38;5;45mNone\u001b[0m, \u001b[38;5;34m1\u001b[0m)              │           \u001b[38;5;34m129\u001b[0m │\n",
              "└─────────────────────────────────┴────────────────────────┴───────────────┘\n"
            ],
            "text/html": [
              "<pre style=\"white-space:pre;overflow-x:auto;line-height:normal;font-family:Menlo,'DejaVu Sans Mono',consolas,'Courier New',monospace\">┏━━━━━━━━━━━━━━━━━━━━━━━━━━━━━━━━━┳━━━━━━━━━━━━━━━━━━━━━━━━┳━━━━━━━━━━━━━━━┓\n",
              "┃<span style=\"font-weight: bold\"> Layer (type)                    </span>┃<span style=\"font-weight: bold\"> Output Shape           </span>┃<span style=\"font-weight: bold\">       Param # </span>┃\n",
              "┡━━━━━━━━━━━━━━━━━━━━━━━━━━━━━━━━━╇━━━━━━━━━━━━━━━━━━━━━━━━╇━━━━━━━━━━━━━━━┩\n",
              "│ input_layer_1 (<span style=\"color: #0087ff; text-decoration-color: #0087ff\">InputLayer</span>)      │ (<span style=\"color: #00d7ff; text-decoration-color: #00d7ff\">None</span>, <span style=\"color: #00af00; text-decoration-color: #00af00\">1</span>)              │             <span style=\"color: #00af00; text-decoration-color: #00af00\">0</span> │\n",
              "├─────────────────────────────────┼────────────────────────┼───────────────┤\n",
              "│ text_vectorization_1            │ (<span style=\"color: #00d7ff; text-decoration-color: #00d7ff\">None</span>, <span style=\"color: #00af00; text-decoration-color: #00af00\">100</span>)            │             <span style=\"color: #00af00; text-decoration-color: #00af00\">0</span> │\n",
              "│ (<span style=\"color: #0087ff; text-decoration-color: #0087ff\">TextVectorization</span>)             │                        │               │\n",
              "├─────────────────────────────────┼────────────────────────┼───────────────┤\n",
              "│ embedding (<span style=\"color: #0087ff; text-decoration-color: #0087ff\">Embedding</span>)           │ (<span style=\"color: #00d7ff; text-decoration-color: #00d7ff\">None</span>, <span style=\"color: #00af00; text-decoration-color: #00af00\">100</span>, <span style=\"color: #00af00; text-decoration-color: #00af00\">128</span>)       │        <span style=\"color: #00af00; text-decoration-color: #00af00\">12,800</span> │\n",
              "├─────────────────────────────────┼────────────────────────┼───────────────┤\n",
              "│ global_average_pooling1d        │ (<span style=\"color: #00d7ff; text-decoration-color: #00d7ff\">None</span>, <span style=\"color: #00af00; text-decoration-color: #00af00\">128</span>)            │             <span style=\"color: #00af00; text-decoration-color: #00af00\">0</span> │\n",
              "│ (<span style=\"color: #0087ff; text-decoration-color: #0087ff\">GlobalAveragePooling1D</span>)        │                        │               │\n",
              "├─────────────────────────────────┼────────────────────────┼───────────────┤\n",
              "│ dense_1 (<span style=\"color: #0087ff; text-decoration-color: #0087ff\">Dense</span>)                 │ (<span style=\"color: #00d7ff; text-decoration-color: #00d7ff\">None</span>, <span style=\"color: #00af00; text-decoration-color: #00af00\">1</span>)              │           <span style=\"color: #00af00; text-decoration-color: #00af00\">129</span> │\n",
              "└─────────────────────────────────┴────────────────────────┴───────────────┘\n",
              "</pre>\n"
            ]
          },
          "metadata": {}
        },
        {
          "output_type": "display_data",
          "data": {
            "text/plain": [
              "\u001b[1m Total params: \u001b[0m\u001b[38;5;34m38,789\u001b[0m (151.52 KB)\n"
            ],
            "text/html": [
              "<pre style=\"white-space:pre;overflow-x:auto;line-height:normal;font-family:Menlo,'DejaVu Sans Mono',consolas,'Courier New',monospace\"><span style=\"font-weight: bold\"> Total params: </span><span style=\"color: #00af00; text-decoration-color: #00af00\">38,789</span> (151.52 KB)\n",
              "</pre>\n"
            ]
          },
          "metadata": {}
        },
        {
          "output_type": "display_data",
          "data": {
            "text/plain": [
              "\u001b[1m Trainable params: \u001b[0m\u001b[38;5;34m12,929\u001b[0m (50.50 KB)\n"
            ],
            "text/html": [
              "<pre style=\"white-space:pre;overflow-x:auto;line-height:normal;font-family:Menlo,'DejaVu Sans Mono',consolas,'Courier New',monospace\"><span style=\"font-weight: bold\"> Trainable params: </span><span style=\"color: #00af00; text-decoration-color: #00af00\">12,929</span> (50.50 KB)\n",
              "</pre>\n"
            ]
          },
          "metadata": {}
        },
        {
          "output_type": "display_data",
          "data": {
            "text/plain": [
              "\u001b[1m Non-trainable params: \u001b[0m\u001b[38;5;34m0\u001b[0m (0.00 B)\n"
            ],
            "text/html": [
              "<pre style=\"white-space:pre;overflow-x:auto;line-height:normal;font-family:Menlo,'DejaVu Sans Mono',consolas,'Courier New',monospace\"><span style=\"font-weight: bold\"> Non-trainable params: </span><span style=\"color: #00af00; text-decoration-color: #00af00\">0</span> (0.00 B)\n",
              "</pre>\n"
            ]
          },
          "metadata": {}
        },
        {
          "output_type": "display_data",
          "data": {
            "text/plain": [
              "\u001b[1m Optimizer params: \u001b[0m\u001b[38;5;34m25,860\u001b[0m (101.02 KB)\n"
            ],
            "text/html": [
              "<pre style=\"white-space:pre;overflow-x:auto;line-height:normal;font-family:Menlo,'DejaVu Sans Mono',consolas,'Courier New',monospace\"><span style=\"font-weight: bold\"> Optimizer params: </span><span style=\"color: #00af00; text-decoration-color: #00af00\">25,860</span> (101.02 KB)\n",
              "</pre>\n"
            ]
          },
          "metadata": {}
        }
      ]
    },
    {
      "cell_type": "code",
      "source": [
        "embed_weights=model_1.get_layer('embedding').get_weights()[0]\n",
        "embed_weights,print(embed_weights.shape)"
      ],
      "metadata": {
        "colab": {
          "base_uri": "https://localhost:8080/"
        },
        "id": "nuYMmO_iA7HX",
        "outputId": "73e7a2c8-e894-47c7-9513-a822d63034e6"
      },
      "id": "nuYMmO_iA7HX",
      "execution_count": 58,
      "outputs": [
        {
          "output_type": "stream",
          "name": "stdout",
          "text": [
            "(100, 128)\n"
          ]
        },
        {
          "output_type": "execute_result",
          "data": {
            "text/plain": [
              "(array([[-0.02001623,  0.03515048,  0.02171817, ..., -0.01733577,\n",
              "          0.01981488, -0.03238846],\n",
              "        [ 0.2107572 , -0.1618422 , -0.16945435, ...,  0.1960888 ,\n",
              "         -0.19072764,  0.15263574],\n",
              "        [-0.1843201 ,  0.11794026,  0.16367866, ..., -0.14328706,\n",
              "          0.1824277 , -0.1899749 ],\n",
              "        ...,\n",
              "        [ 0.01247601,  0.00373714, -0.03959863, ...,  0.05834554,\n",
              "         -0.05785266,  0.03516963],\n",
              "        [-0.42073542,  0.32182497,  0.4227325 , ..., -0.3164959 ,\n",
              "          0.39596078, -0.32230723],\n",
              "        [-0.28698093,  0.2727575 ,  0.35410658, ..., -0.24189903,\n",
              "          0.3330483 , -0.3176406 ]], dtype=float32),\n",
              " None)"
            ]
          },
          "metadata": {},
          "execution_count": 58
        }
      ]
    },
    {
      "cell_type": "markdown",
      "source": [
        "Write the weights to disk. To use the Embedding Projector, you will upload two files in tab separated format: a file of vectors (containing the embedding), and a file of meta data (containing the words).  This code is from the tensorflow documentation Here[https://www.tensorflow.org/text/guide/word_embeddings]"
      ],
      "metadata": {
        "id": "U_POLZP5CBzy"
      },
      "id": "U_POLZP5CBzy"
    },
    {
      "cell_type": "code",
      "source": [
        "import io\n",
        "out_v = io.open('vectors.tsv', 'w', encoding='utf-8')\n",
        "out_m = io.open('metadata.tsv', 'w', encoding='utf-8')\n",
        "\n",
        "for index, word in enumerate(words_in_vocab):\n",
        "  if index == 0:\n",
        "    continue  # skip 0, it's padding.\n",
        "  vec = embed_weights[index]\n",
        "  out_v.write('\\t'.join([str(x) for x in vec]) + \"\\n\")\n",
        "  out_m.write(word + \"\\n\")\n",
        "out_v.close()\n",
        "out_m.close()"
      ],
      "metadata": {
        "id": "4J565xUdB8gL"
      },
      "id": "4J565xUdB8gL",
      "execution_count": 59,
      "outputs": []
    },
    {
      "cell_type": "code",
      "source": [
        "# After this download step use projector tensorflow to visualzize it\n",
        "\"\"\"\n",
        "try:\n",
        "  from google.colab import files\n",
        "  files.download('vectors.tsv')\n",
        "  files.download('metadata.tsv')\n",
        "except Exception:\n",
        "  pass\n",
        "\"\"\"\n"
      ],
      "metadata": {
        "id": "QiGrdgdUB9aK",
        "outputId": "f5625958-e39b-4634-afd2-14b6db37c608",
        "colab": {
          "base_uri": "https://localhost:8080/",
          "height": 17
        }
      },
      "id": "QiGrdgdUB9aK",
      "execution_count": 60,
      "outputs": [
        {
          "output_type": "display_data",
          "data": {
            "text/plain": [
              "<IPython.core.display.Javascript object>"
            ],
            "application/javascript": [
              "\n",
              "    async function download(id, filename, size) {\n",
              "      if (!google.colab.kernel.accessAllowed) {\n",
              "        return;\n",
              "      }\n",
              "      const div = document.createElement('div');\n",
              "      const label = document.createElement('label');\n",
              "      label.textContent = `Downloading \"${filename}\": `;\n",
              "      div.appendChild(label);\n",
              "      const progress = document.createElement('progress');\n",
              "      progress.max = size;\n",
              "      div.appendChild(progress);\n",
              "      document.body.appendChild(div);\n",
              "\n",
              "      const buffers = [];\n",
              "      let downloaded = 0;\n",
              "\n",
              "      const channel = await google.colab.kernel.comms.open(id);\n",
              "      // Send a message to notify the kernel that we're ready.\n",
              "      channel.send({})\n",
              "\n",
              "      for await (const message of channel.messages) {\n",
              "        // Send a message to notify the kernel that we're ready.\n",
              "        channel.send({})\n",
              "        if (message.buffers) {\n",
              "          for (const buffer of message.buffers) {\n",
              "            buffers.push(buffer);\n",
              "            downloaded += buffer.byteLength;\n",
              "            progress.value = downloaded;\n",
              "          }\n",
              "        }\n",
              "      }\n",
              "      const blob = new Blob(buffers, {type: 'application/binary'});\n",
              "      const a = document.createElement('a');\n",
              "      a.href = window.URL.createObjectURL(blob);\n",
              "      a.download = filename;\n",
              "      div.appendChild(a);\n",
              "      a.click();\n",
              "      div.remove();\n",
              "    }\n",
              "  "
            ]
          },
          "metadata": {}
        },
        {
          "output_type": "display_data",
          "data": {
            "text/plain": [
              "<IPython.core.display.Javascript object>"
            ],
            "application/javascript": [
              "download(\"download_76be73a5-a311-4132-978c-71a12371af9f\", \"vectors.tsv\", 143848)"
            ]
          },
          "metadata": {}
        },
        {
          "output_type": "display_data",
          "data": {
            "text/plain": [
              "<IPython.core.display.Javascript object>"
            ],
            "application/javascript": [
              "\n",
              "    async function download(id, filename, size) {\n",
              "      if (!google.colab.kernel.accessAllowed) {\n",
              "        return;\n",
              "      }\n",
              "      const div = document.createElement('div');\n",
              "      const label = document.createElement('label');\n",
              "      label.textContent = `Downloading \"${filename}\": `;\n",
              "      div.appendChild(label);\n",
              "      const progress = document.createElement('progress');\n",
              "      progress.max = size;\n",
              "      div.appendChild(progress);\n",
              "      document.body.appendChild(div);\n",
              "\n",
              "      const buffers = [];\n",
              "      let downloaded = 0;\n",
              "\n",
              "      const channel = await google.colab.kernel.comms.open(id);\n",
              "      // Send a message to notify the kernel that we're ready.\n",
              "      channel.send({})\n",
              "\n",
              "      for await (const message of channel.messages) {\n",
              "        // Send a message to notify the kernel that we're ready.\n",
              "        channel.send({})\n",
              "        if (message.buffers) {\n",
              "          for (const buffer of message.buffers) {\n",
              "            buffers.push(buffer);\n",
              "            downloaded += buffer.byteLength;\n",
              "            progress.value = downloaded;\n",
              "          }\n",
              "        }\n",
              "      }\n",
              "      const blob = new Blob(buffers, {type: 'application/binary'});\n",
              "      const a = document.createElement('a');\n",
              "      a.href = window.URL.createObjectURL(blob);\n",
              "      a.download = filename;\n",
              "      div.appendChild(a);\n",
              "      a.click();\n",
              "      div.remove();\n",
              "    }\n",
              "  "
            ]
          },
          "metadata": {}
        },
        {
          "output_type": "display_data",
          "data": {
            "text/plain": [
              "<IPython.core.display.Javascript object>"
            ],
            "application/javascript": [
              "download(\"download_4db73f74-84a0-44a5-9b52-3725e17eeaad\", \"metadata.tsv\", 451)"
            ]
          },
          "metadata": {}
        }
      ]
    }
  ],
  "metadata": {
    "kernelspec": {
      "display_name": "TensorFlow GPU",
      "language": "python",
      "name": "tf-gpu"
    },
    "language_info": {
      "name": "python",
      "version": "3.10.11"
    },
    "colab": {
      "provenance": [],
      "include_colab_link": true
    }
  },
  "nbformat": 4,
  "nbformat_minor": 5
}