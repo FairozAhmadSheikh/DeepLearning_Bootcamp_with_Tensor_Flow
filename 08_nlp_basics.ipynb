{
  "cells": [
    {
      "cell_type": "markdown",
      "metadata": {
        "id": "view-in-github",
        "colab_type": "text"
      },
      "source": [
        "<a href=\"https://colab.research.google.com/github/FairozAhmadSheikh/DeepLearning_Bootcamp_with_Tensor_Flow/blob/main/08_nlp_basics.ipynb\" target=\"_parent\"><img src=\"https://colab.research.google.com/assets/colab-badge.svg\" alt=\"Open In Colab\"/></a>"
      ]
    },
    {
      "cell_type": "code",
      "execution_count": 3,
      "id": "79bebad2",
      "metadata": {
        "colab": {
          "base_uri": "https://localhost:8080/"
        },
        "id": "79bebad2",
        "outputId": "a441fccd-16f2-4fcd-8b87-04db2387d317"
      },
      "outputs": [
        {
          "output_type": "stream",
          "name": "stdout",
          "text": [
            "--2025-10-26 07:15:58--  https://raw.githubusercontent.com/FairozAhmadSheikh/DeepLearning_Bootcamp_with_Tensor_Flow/refs/heads/main/helper_functions/helper_functions.py\n",
            "Resolving raw.githubusercontent.com (raw.githubusercontent.com)... 185.199.108.133, 185.199.109.133, 185.199.110.133, ...\n",
            "Connecting to raw.githubusercontent.com (raw.githubusercontent.com)|185.199.108.133|:443... connected.\n",
            "HTTP request sent, awaiting response... 200 OK\n",
            "Length: 6733 (6.6K) [text/plain]\n",
            "Saving to: ‘helper_functions.py.1’\n",
            "\n",
            "helper_functions.py 100%[===================>]   6.58K  --.-KB/s    in 0s      \n",
            "\n",
            "2025-10-26 07:15:59 (106 MB/s) - ‘helper_functions.py.1’ saved [6733/6733]\n",
            "\n"
          ]
        }
      ],
      "source": [
        "!wget https://raw.githubusercontent.com/FairozAhmadSheikh/DeepLearning_Bootcamp_with_Tensor_Flow/refs/heads/main/helper_functions/helper_functions.py"
      ]
    },
    {
      "cell_type": "code",
      "source": [
        "from helper_functions import unzip_data,plot_loss_curves,compare_historys,create_tensorboard_callback"
      ],
      "metadata": {
        "id": "q1kydqFNoI4r"
      },
      "id": "q1kydqFNoI4r",
      "execution_count": 4,
      "outputs": []
    },
    {
      "cell_type": "code",
      "source": [
        "# Get the Dataset from kaggle NLP with Disaster Tweets\n",
        "!wget https://storage.googleapis.com/ztm_tf_course/nlp_getting_started.zip"
      ],
      "metadata": {
        "colab": {
          "base_uri": "https://localhost:8080/"
        },
        "id": "2DCyKa_jobwa",
        "outputId": "0887fe3e-128d-4cd0-a84e-d2eb934401af"
      },
      "id": "2DCyKa_jobwa",
      "execution_count": 5,
      "outputs": [
        {
          "output_type": "stream",
          "name": "stdout",
          "text": [
            "--2025-10-26 07:15:59--  https://storage.googleapis.com/ztm_tf_course/nlp_getting_started.zip\n",
            "Resolving storage.googleapis.com (storage.googleapis.com)... 142.251.12.207, 64.233.170.207, 74.125.200.207, ...\n",
            "Connecting to storage.googleapis.com (storage.googleapis.com)|142.251.12.207|:443... connected.\n",
            "HTTP request sent, awaiting response... 200 OK\n",
            "Length: 607343 (593K) [application/zip]\n",
            "Saving to: ‘nlp_getting_started.zip.1’\n",
            "\n",
            "nlp_getting_started 100%[===================>] 593.11K   703KB/s    in 0.8s    \n",
            "\n",
            "2025-10-26 07:16:00 (703 KB/s) - ‘nlp_getting_started.zip.1’ saved [607343/607343]\n",
            "\n"
          ]
        }
      ]
    },
    {
      "cell_type": "code",
      "source": [
        "unzip_data(\"nlp_getting_started.zip\")"
      ],
      "metadata": {
        "id": "9T83aIBFovEb"
      },
      "id": "9T83aIBFovEb",
      "execution_count": 6,
      "outputs": []
    },
    {
      "cell_type": "code",
      "source": [
        "# Become One with Dataset (Visualize)\n",
        "import pandas as pd\n",
        "train_df=pd.read_csv('train.csv')\n",
        "test_df=pd.read_csv('test.csv')\n",
        "train_df.head()"
      ],
      "metadata": {
        "colab": {
          "base_uri": "https://localhost:8080/",
          "height": 206
        },
        "id": "ruf8rF-Lpafz",
        "outputId": "8bc9b8e0-6d4b-417c-d81a-ee2df440454e"
      },
      "id": "ruf8rF-Lpafz",
      "execution_count": 7,
      "outputs": [
        {
          "output_type": "execute_result",
          "data": {
            "text/plain": [
              "   id keyword location                                               text  \\\n",
              "0   1     NaN      NaN  Our Deeds are the Reason of this #earthquake M...   \n",
              "1   4     NaN      NaN             Forest fire near La Ronge Sask. Canada   \n",
              "2   5     NaN      NaN  All residents asked to 'shelter in place' are ...   \n",
              "3   6     NaN      NaN  13,000 people receive #wildfires evacuation or...   \n",
              "4   7     NaN      NaN  Just got sent this photo from Ruby #Alaska as ...   \n",
              "\n",
              "   target  \n",
              "0       1  \n",
              "1       1  \n",
              "2       1  \n",
              "3       1  \n",
              "4       1  "
            ],
            "text/html": [
              "\n",
              "  <div id=\"df-05fd5fb7-debc-4eac-8e87-719fc0c58eb8\" class=\"colab-df-container\">\n",
              "    <div>\n",
              "<style scoped>\n",
              "    .dataframe tbody tr th:only-of-type {\n",
              "        vertical-align: middle;\n",
              "    }\n",
              "\n",
              "    .dataframe tbody tr th {\n",
              "        vertical-align: top;\n",
              "    }\n",
              "\n",
              "    .dataframe thead th {\n",
              "        text-align: right;\n",
              "    }\n",
              "</style>\n",
              "<table border=\"1\" class=\"dataframe\">\n",
              "  <thead>\n",
              "    <tr style=\"text-align: right;\">\n",
              "      <th></th>\n",
              "      <th>id</th>\n",
              "      <th>keyword</th>\n",
              "      <th>location</th>\n",
              "      <th>text</th>\n",
              "      <th>target</th>\n",
              "    </tr>\n",
              "  </thead>\n",
              "  <tbody>\n",
              "    <tr>\n",
              "      <th>0</th>\n",
              "      <td>1</td>\n",
              "      <td>NaN</td>\n",
              "      <td>NaN</td>\n",
              "      <td>Our Deeds are the Reason of this #earthquake M...</td>\n",
              "      <td>1</td>\n",
              "    </tr>\n",
              "    <tr>\n",
              "      <th>1</th>\n",
              "      <td>4</td>\n",
              "      <td>NaN</td>\n",
              "      <td>NaN</td>\n",
              "      <td>Forest fire near La Ronge Sask. Canada</td>\n",
              "      <td>1</td>\n",
              "    </tr>\n",
              "    <tr>\n",
              "      <th>2</th>\n",
              "      <td>5</td>\n",
              "      <td>NaN</td>\n",
              "      <td>NaN</td>\n",
              "      <td>All residents asked to 'shelter in place' are ...</td>\n",
              "      <td>1</td>\n",
              "    </tr>\n",
              "    <tr>\n",
              "      <th>3</th>\n",
              "      <td>6</td>\n",
              "      <td>NaN</td>\n",
              "      <td>NaN</td>\n",
              "      <td>13,000 people receive #wildfires evacuation or...</td>\n",
              "      <td>1</td>\n",
              "    </tr>\n",
              "    <tr>\n",
              "      <th>4</th>\n",
              "      <td>7</td>\n",
              "      <td>NaN</td>\n",
              "      <td>NaN</td>\n",
              "      <td>Just got sent this photo from Ruby #Alaska as ...</td>\n",
              "      <td>1</td>\n",
              "    </tr>\n",
              "  </tbody>\n",
              "</table>\n",
              "</div>\n",
              "    <div class=\"colab-df-buttons\">\n",
              "\n",
              "  <div class=\"colab-df-container\">\n",
              "    <button class=\"colab-df-convert\" onclick=\"convertToInteractive('df-05fd5fb7-debc-4eac-8e87-719fc0c58eb8')\"\n",
              "            title=\"Convert this dataframe to an interactive table.\"\n",
              "            style=\"display:none;\">\n",
              "\n",
              "  <svg xmlns=\"http://www.w3.org/2000/svg\" height=\"24px\" viewBox=\"0 -960 960 960\">\n",
              "    <path d=\"M120-120v-720h720v720H120Zm60-500h600v-160H180v160Zm220 220h160v-160H400v160Zm0 220h160v-160H400v160ZM180-400h160v-160H180v160Zm440 0h160v-160H620v160ZM180-180h160v-160H180v160Zm440 0h160v-160H620v160Z\"/>\n",
              "  </svg>\n",
              "    </button>\n",
              "\n",
              "  <style>\n",
              "    .colab-df-container {\n",
              "      display:flex;\n",
              "      gap: 12px;\n",
              "    }\n",
              "\n",
              "    .colab-df-convert {\n",
              "      background-color: #E8F0FE;\n",
              "      border: none;\n",
              "      border-radius: 50%;\n",
              "      cursor: pointer;\n",
              "      display: none;\n",
              "      fill: #1967D2;\n",
              "      height: 32px;\n",
              "      padding: 0 0 0 0;\n",
              "      width: 32px;\n",
              "    }\n",
              "\n",
              "    .colab-df-convert:hover {\n",
              "      background-color: #E2EBFA;\n",
              "      box-shadow: 0px 1px 2px rgba(60, 64, 67, 0.3), 0px 1px 3px 1px rgba(60, 64, 67, 0.15);\n",
              "      fill: #174EA6;\n",
              "    }\n",
              "\n",
              "    .colab-df-buttons div {\n",
              "      margin-bottom: 4px;\n",
              "    }\n",
              "\n",
              "    [theme=dark] .colab-df-convert {\n",
              "      background-color: #3B4455;\n",
              "      fill: #D2E3FC;\n",
              "    }\n",
              "\n",
              "    [theme=dark] .colab-df-convert:hover {\n",
              "      background-color: #434B5C;\n",
              "      box-shadow: 0px 1px 3px 1px rgba(0, 0, 0, 0.15);\n",
              "      filter: drop-shadow(0px 1px 2px rgba(0, 0, 0, 0.3));\n",
              "      fill: #FFFFFF;\n",
              "    }\n",
              "  </style>\n",
              "\n",
              "    <script>\n",
              "      const buttonEl =\n",
              "        document.querySelector('#df-05fd5fb7-debc-4eac-8e87-719fc0c58eb8 button.colab-df-convert');\n",
              "      buttonEl.style.display =\n",
              "        google.colab.kernel.accessAllowed ? 'block' : 'none';\n",
              "\n",
              "      async function convertToInteractive(key) {\n",
              "        const element = document.querySelector('#df-05fd5fb7-debc-4eac-8e87-719fc0c58eb8');\n",
              "        const dataTable =\n",
              "          await google.colab.kernel.invokeFunction('convertToInteractive',\n",
              "                                                    [key], {});\n",
              "        if (!dataTable) return;\n",
              "\n",
              "        const docLinkHtml = 'Like what you see? Visit the ' +\n",
              "          '<a target=\"_blank\" href=https://colab.research.google.com/notebooks/data_table.ipynb>data table notebook</a>'\n",
              "          + ' to learn more about interactive tables.';\n",
              "        element.innerHTML = '';\n",
              "        dataTable['output_type'] = 'display_data';\n",
              "        await google.colab.output.renderOutput(dataTable, element);\n",
              "        const docLink = document.createElement('div');\n",
              "        docLink.innerHTML = docLinkHtml;\n",
              "        element.appendChild(docLink);\n",
              "      }\n",
              "    </script>\n",
              "  </div>\n",
              "\n",
              "\n",
              "    <div id=\"df-bdf19a28-a4e1-413b-93af-2d50229d15be\">\n",
              "      <button class=\"colab-df-quickchart\" onclick=\"quickchart('df-bdf19a28-a4e1-413b-93af-2d50229d15be')\"\n",
              "                title=\"Suggest charts\"\n",
              "                style=\"display:none;\">\n",
              "\n",
              "<svg xmlns=\"http://www.w3.org/2000/svg\" height=\"24px\"viewBox=\"0 0 24 24\"\n",
              "     width=\"24px\">\n",
              "    <g>\n",
              "        <path d=\"M19 3H5c-1.1 0-2 .9-2 2v14c0 1.1.9 2 2 2h14c1.1 0 2-.9 2-2V5c0-1.1-.9-2-2-2zM9 17H7v-7h2v7zm4 0h-2V7h2v10zm4 0h-2v-4h2v4z\"/>\n",
              "    </g>\n",
              "</svg>\n",
              "      </button>\n",
              "\n",
              "<style>\n",
              "  .colab-df-quickchart {\n",
              "      --bg-color: #E8F0FE;\n",
              "      --fill-color: #1967D2;\n",
              "      --hover-bg-color: #E2EBFA;\n",
              "      --hover-fill-color: #174EA6;\n",
              "      --disabled-fill-color: #AAA;\n",
              "      --disabled-bg-color: #DDD;\n",
              "  }\n",
              "\n",
              "  [theme=dark] .colab-df-quickchart {\n",
              "      --bg-color: #3B4455;\n",
              "      --fill-color: #D2E3FC;\n",
              "      --hover-bg-color: #434B5C;\n",
              "      --hover-fill-color: #FFFFFF;\n",
              "      --disabled-bg-color: #3B4455;\n",
              "      --disabled-fill-color: #666;\n",
              "  }\n",
              "\n",
              "  .colab-df-quickchart {\n",
              "    background-color: var(--bg-color);\n",
              "    border: none;\n",
              "    border-radius: 50%;\n",
              "    cursor: pointer;\n",
              "    display: none;\n",
              "    fill: var(--fill-color);\n",
              "    height: 32px;\n",
              "    padding: 0;\n",
              "    width: 32px;\n",
              "  }\n",
              "\n",
              "  .colab-df-quickchart:hover {\n",
              "    background-color: var(--hover-bg-color);\n",
              "    box-shadow: 0 1px 2px rgba(60, 64, 67, 0.3), 0 1px 3px 1px rgba(60, 64, 67, 0.15);\n",
              "    fill: var(--button-hover-fill-color);\n",
              "  }\n",
              "\n",
              "  .colab-df-quickchart-complete:disabled,\n",
              "  .colab-df-quickchart-complete:disabled:hover {\n",
              "    background-color: var(--disabled-bg-color);\n",
              "    fill: var(--disabled-fill-color);\n",
              "    box-shadow: none;\n",
              "  }\n",
              "\n",
              "  .colab-df-spinner {\n",
              "    border: 2px solid var(--fill-color);\n",
              "    border-color: transparent;\n",
              "    border-bottom-color: var(--fill-color);\n",
              "    animation:\n",
              "      spin 1s steps(1) infinite;\n",
              "  }\n",
              "\n",
              "  @keyframes spin {\n",
              "    0% {\n",
              "      border-color: transparent;\n",
              "      border-bottom-color: var(--fill-color);\n",
              "      border-left-color: var(--fill-color);\n",
              "    }\n",
              "    20% {\n",
              "      border-color: transparent;\n",
              "      border-left-color: var(--fill-color);\n",
              "      border-top-color: var(--fill-color);\n",
              "    }\n",
              "    30% {\n",
              "      border-color: transparent;\n",
              "      border-left-color: var(--fill-color);\n",
              "      border-top-color: var(--fill-color);\n",
              "      border-right-color: var(--fill-color);\n",
              "    }\n",
              "    40% {\n",
              "      border-color: transparent;\n",
              "      border-right-color: var(--fill-color);\n",
              "      border-top-color: var(--fill-color);\n",
              "    }\n",
              "    60% {\n",
              "      border-color: transparent;\n",
              "      border-right-color: var(--fill-color);\n",
              "    }\n",
              "    80% {\n",
              "      border-color: transparent;\n",
              "      border-right-color: var(--fill-color);\n",
              "      border-bottom-color: var(--fill-color);\n",
              "    }\n",
              "    90% {\n",
              "      border-color: transparent;\n",
              "      border-bottom-color: var(--fill-color);\n",
              "    }\n",
              "  }\n",
              "</style>\n",
              "\n",
              "      <script>\n",
              "        async function quickchart(key) {\n",
              "          const quickchartButtonEl =\n",
              "            document.querySelector('#' + key + ' button');\n",
              "          quickchartButtonEl.disabled = true;  // To prevent multiple clicks.\n",
              "          quickchartButtonEl.classList.add('colab-df-spinner');\n",
              "          try {\n",
              "            const charts = await google.colab.kernel.invokeFunction(\n",
              "                'suggestCharts', [key], {});\n",
              "          } catch (error) {\n",
              "            console.error('Error during call to suggestCharts:', error);\n",
              "          }\n",
              "          quickchartButtonEl.classList.remove('colab-df-spinner');\n",
              "          quickchartButtonEl.classList.add('colab-df-quickchart-complete');\n",
              "        }\n",
              "        (() => {\n",
              "          let quickchartButtonEl =\n",
              "            document.querySelector('#df-bdf19a28-a4e1-413b-93af-2d50229d15be button');\n",
              "          quickchartButtonEl.style.display =\n",
              "            google.colab.kernel.accessAllowed ? 'block' : 'none';\n",
              "        })();\n",
              "      </script>\n",
              "    </div>\n",
              "\n",
              "    </div>\n",
              "  </div>\n"
            ],
            "application/vnd.google.colaboratory.intrinsic+json": {
              "type": "dataframe",
              "variable_name": "train_df",
              "summary": "{\n  \"name\": \"train_df\",\n  \"rows\": 7613,\n  \"fields\": [\n    {\n      \"column\": \"id\",\n      \"properties\": {\n        \"dtype\": \"number\",\n        \"std\": 3137,\n        \"min\": 1,\n        \"max\": 10873,\n        \"num_unique_values\": 7613,\n        \"samples\": [\n          3796,\n          3185,\n          7769\n        ],\n        \"semantic_type\": \"\",\n        \"description\": \"\"\n      }\n    },\n    {\n      \"column\": \"keyword\",\n      \"properties\": {\n        \"dtype\": \"category\",\n        \"num_unique_values\": 221,\n        \"samples\": [\n          \"injury\",\n          \"nuclear%20reactor\",\n          \"engulfed\"\n        ],\n        \"semantic_type\": \"\",\n        \"description\": \"\"\n      }\n    },\n    {\n      \"column\": \"location\",\n      \"properties\": {\n        \"dtype\": \"category\",\n        \"num_unique_values\": 3341,\n        \"samples\": [\n          \"Oklahoma\",\n          \"Starling City\",\n          \"Trinidad and Tobago\"\n        ],\n        \"semantic_type\": \"\",\n        \"description\": \"\"\n      }\n    },\n    {\n      \"column\": \"text\",\n      \"properties\": {\n        \"dtype\": \"string\",\n        \"num_unique_values\": 7503,\n        \"samples\": [\n          \"Three Homes Demolished in Unrecognized Arab Village - International Middle East Media Center http://t.co/ik8m4Yi9T4\",\n          \"Reid Lake fire prompts campground evacuation order http://t.co/jBODKM6rBU\",\n          \"FAAN orders evacuation of abandoned aircraft at MMA http://t.co/dEvYbnVXGQ via @todayng\"\n        ],\n        \"semantic_type\": \"\",\n        \"description\": \"\"\n      }\n    },\n    {\n      \"column\": \"target\",\n      \"properties\": {\n        \"dtype\": \"number\",\n        \"std\": 0,\n        \"min\": 0,\n        \"max\": 1,\n        \"num_unique_values\": 2,\n        \"samples\": [\n          0,\n          1\n        ],\n        \"semantic_type\": \"\",\n        \"description\": \"\"\n      }\n    }\n  ]\n}"
            }
          },
          "metadata": {},
          "execution_count": 7
        }
      ]
    },
    {
      "cell_type": "code",
      "source": [
        "train_df['text'][1]"
      ],
      "metadata": {
        "colab": {
          "base_uri": "https://localhost:8080/",
          "height": 35
        },
        "id": "M2gAI_KPptCk",
        "outputId": "7c918bd4-1d9e-4a9f-8c2c-6377a29d40b2"
      },
      "id": "M2gAI_KPptCk",
      "execution_count": 8,
      "outputs": [
        {
          "output_type": "execute_result",
          "data": {
            "text/plain": [
              "'Forest fire near La Ronge Sask. Canada'"
            ],
            "application/vnd.google.colaboratory.intrinsic+json": {
              "type": "string"
            }
          },
          "metadata": {},
          "execution_count": 8
        }
      ]
    },
    {
      "cell_type": "code",
      "source": [
        "train_df['text'][0]"
      ],
      "metadata": {
        "colab": {
          "base_uri": "https://localhost:8080/",
          "height": 35
        },
        "id": "B3Hua_hrp-U9",
        "outputId": "76c6629b-676d-4828-a6e2-543ed425cfee"
      },
      "id": "B3Hua_hrp-U9",
      "execution_count": 9,
      "outputs": [
        {
          "output_type": "execute_result",
          "data": {
            "text/plain": [
              "'Our Deeds are the Reason of this #earthquake May ALLAH Forgive us all'"
            ],
            "application/vnd.google.colaboratory.intrinsic+json": {
              "type": "string"
            }
          },
          "metadata": {},
          "execution_count": 9
        }
      ]
    },
    {
      "cell_type": "code",
      "source": [
        "# Shuffle Dataset\n",
        "train_df_shuffled=train_df.sample(frac=1,random_state=42)\n",
        "train_df_shuffled.head()\n"
      ],
      "metadata": {
        "colab": {
          "base_uri": "https://localhost:8080/",
          "height": 206
        },
        "id": "R7s7Cm_uqMbN",
        "outputId": "7d14b76c-b9a5-42e4-e535-4b76008ab94e"
      },
      "id": "R7s7Cm_uqMbN",
      "execution_count": 10,
      "outputs": [
        {
          "output_type": "execute_result",
          "data": {
            "text/plain": [
              "        id      keyword               location  \\\n",
              "2644  3796  destruction                    NaN   \n",
              "2227  3185       deluge                    NaN   \n",
              "5448  7769       police                     UK   \n",
              "132    191   aftershock                    NaN   \n",
              "6845  9810       trauma  Montgomery County, MD   \n",
              "\n",
              "                                                   text  target  \n",
              "2644  So you have a new weapon that can cause un-ima...       1  \n",
              "2227  The f$&amp;@ing things I do for #GISHWHES Just...       0  \n",
              "5448  DT @georgegalloway: RT @Galloway4Mayor: ÛÏThe...       1  \n",
              "132   Aftershock back to school kick off was great. ...       0  \n",
              "6845  in response to trauma Children of Addicts deve...       0  "
            ],
            "text/html": [
              "\n",
              "  <div id=\"df-32ef869f-578e-471d-ad38-ac3260b8b37f\" class=\"colab-df-container\">\n",
              "    <div>\n",
              "<style scoped>\n",
              "    .dataframe tbody tr th:only-of-type {\n",
              "        vertical-align: middle;\n",
              "    }\n",
              "\n",
              "    .dataframe tbody tr th {\n",
              "        vertical-align: top;\n",
              "    }\n",
              "\n",
              "    .dataframe thead th {\n",
              "        text-align: right;\n",
              "    }\n",
              "</style>\n",
              "<table border=\"1\" class=\"dataframe\">\n",
              "  <thead>\n",
              "    <tr style=\"text-align: right;\">\n",
              "      <th></th>\n",
              "      <th>id</th>\n",
              "      <th>keyword</th>\n",
              "      <th>location</th>\n",
              "      <th>text</th>\n",
              "      <th>target</th>\n",
              "    </tr>\n",
              "  </thead>\n",
              "  <tbody>\n",
              "    <tr>\n",
              "      <th>2644</th>\n",
              "      <td>3796</td>\n",
              "      <td>destruction</td>\n",
              "      <td>NaN</td>\n",
              "      <td>So you have a new weapon that can cause un-ima...</td>\n",
              "      <td>1</td>\n",
              "    </tr>\n",
              "    <tr>\n",
              "      <th>2227</th>\n",
              "      <td>3185</td>\n",
              "      <td>deluge</td>\n",
              "      <td>NaN</td>\n",
              "      <td>The f$&amp;amp;@ing things I do for #GISHWHES Just...</td>\n",
              "      <td>0</td>\n",
              "    </tr>\n",
              "    <tr>\n",
              "      <th>5448</th>\n",
              "      <td>7769</td>\n",
              "      <td>police</td>\n",
              "      <td>UK</td>\n",
              "      <td>DT @georgegalloway: RT @Galloway4Mayor: ÛÏThe...</td>\n",
              "      <td>1</td>\n",
              "    </tr>\n",
              "    <tr>\n",
              "      <th>132</th>\n",
              "      <td>191</td>\n",
              "      <td>aftershock</td>\n",
              "      <td>NaN</td>\n",
              "      <td>Aftershock back to school kick off was great. ...</td>\n",
              "      <td>0</td>\n",
              "    </tr>\n",
              "    <tr>\n",
              "      <th>6845</th>\n",
              "      <td>9810</td>\n",
              "      <td>trauma</td>\n",
              "      <td>Montgomery County, MD</td>\n",
              "      <td>in response to trauma Children of Addicts deve...</td>\n",
              "      <td>0</td>\n",
              "    </tr>\n",
              "  </tbody>\n",
              "</table>\n",
              "</div>\n",
              "    <div class=\"colab-df-buttons\">\n",
              "\n",
              "  <div class=\"colab-df-container\">\n",
              "    <button class=\"colab-df-convert\" onclick=\"convertToInteractive('df-32ef869f-578e-471d-ad38-ac3260b8b37f')\"\n",
              "            title=\"Convert this dataframe to an interactive table.\"\n",
              "            style=\"display:none;\">\n",
              "\n",
              "  <svg xmlns=\"http://www.w3.org/2000/svg\" height=\"24px\" viewBox=\"0 -960 960 960\">\n",
              "    <path d=\"M120-120v-720h720v720H120Zm60-500h600v-160H180v160Zm220 220h160v-160H400v160Zm0 220h160v-160H400v160ZM180-400h160v-160H180v160Zm440 0h160v-160H620v160ZM180-180h160v-160H180v160Zm440 0h160v-160H620v160Z\"/>\n",
              "  </svg>\n",
              "    </button>\n",
              "\n",
              "  <style>\n",
              "    .colab-df-container {\n",
              "      display:flex;\n",
              "      gap: 12px;\n",
              "    }\n",
              "\n",
              "    .colab-df-convert {\n",
              "      background-color: #E8F0FE;\n",
              "      border: none;\n",
              "      border-radius: 50%;\n",
              "      cursor: pointer;\n",
              "      display: none;\n",
              "      fill: #1967D2;\n",
              "      height: 32px;\n",
              "      padding: 0 0 0 0;\n",
              "      width: 32px;\n",
              "    }\n",
              "\n",
              "    .colab-df-convert:hover {\n",
              "      background-color: #E2EBFA;\n",
              "      box-shadow: 0px 1px 2px rgba(60, 64, 67, 0.3), 0px 1px 3px 1px rgba(60, 64, 67, 0.15);\n",
              "      fill: #174EA6;\n",
              "    }\n",
              "\n",
              "    .colab-df-buttons div {\n",
              "      margin-bottom: 4px;\n",
              "    }\n",
              "\n",
              "    [theme=dark] .colab-df-convert {\n",
              "      background-color: #3B4455;\n",
              "      fill: #D2E3FC;\n",
              "    }\n",
              "\n",
              "    [theme=dark] .colab-df-convert:hover {\n",
              "      background-color: #434B5C;\n",
              "      box-shadow: 0px 1px 3px 1px rgba(0, 0, 0, 0.15);\n",
              "      filter: drop-shadow(0px 1px 2px rgba(0, 0, 0, 0.3));\n",
              "      fill: #FFFFFF;\n",
              "    }\n",
              "  </style>\n",
              "\n",
              "    <script>\n",
              "      const buttonEl =\n",
              "        document.querySelector('#df-32ef869f-578e-471d-ad38-ac3260b8b37f button.colab-df-convert');\n",
              "      buttonEl.style.display =\n",
              "        google.colab.kernel.accessAllowed ? 'block' : 'none';\n",
              "\n",
              "      async function convertToInteractive(key) {\n",
              "        const element = document.querySelector('#df-32ef869f-578e-471d-ad38-ac3260b8b37f');\n",
              "        const dataTable =\n",
              "          await google.colab.kernel.invokeFunction('convertToInteractive',\n",
              "                                                    [key], {});\n",
              "        if (!dataTable) return;\n",
              "\n",
              "        const docLinkHtml = 'Like what you see? Visit the ' +\n",
              "          '<a target=\"_blank\" href=https://colab.research.google.com/notebooks/data_table.ipynb>data table notebook</a>'\n",
              "          + ' to learn more about interactive tables.';\n",
              "        element.innerHTML = '';\n",
              "        dataTable['output_type'] = 'display_data';\n",
              "        await google.colab.output.renderOutput(dataTable, element);\n",
              "        const docLink = document.createElement('div');\n",
              "        docLink.innerHTML = docLinkHtml;\n",
              "        element.appendChild(docLink);\n",
              "      }\n",
              "    </script>\n",
              "  </div>\n",
              "\n",
              "\n",
              "    <div id=\"df-c8db1a07-0482-4905-aee6-b75f11c730ca\">\n",
              "      <button class=\"colab-df-quickchart\" onclick=\"quickchart('df-c8db1a07-0482-4905-aee6-b75f11c730ca')\"\n",
              "                title=\"Suggest charts\"\n",
              "                style=\"display:none;\">\n",
              "\n",
              "<svg xmlns=\"http://www.w3.org/2000/svg\" height=\"24px\"viewBox=\"0 0 24 24\"\n",
              "     width=\"24px\">\n",
              "    <g>\n",
              "        <path d=\"M19 3H5c-1.1 0-2 .9-2 2v14c0 1.1.9 2 2 2h14c1.1 0 2-.9 2-2V5c0-1.1-.9-2-2-2zM9 17H7v-7h2v7zm4 0h-2V7h2v10zm4 0h-2v-4h2v4z\"/>\n",
              "    </g>\n",
              "</svg>\n",
              "      </button>\n",
              "\n",
              "<style>\n",
              "  .colab-df-quickchart {\n",
              "      --bg-color: #E8F0FE;\n",
              "      --fill-color: #1967D2;\n",
              "      --hover-bg-color: #E2EBFA;\n",
              "      --hover-fill-color: #174EA6;\n",
              "      --disabled-fill-color: #AAA;\n",
              "      --disabled-bg-color: #DDD;\n",
              "  }\n",
              "\n",
              "  [theme=dark] .colab-df-quickchart {\n",
              "      --bg-color: #3B4455;\n",
              "      --fill-color: #D2E3FC;\n",
              "      --hover-bg-color: #434B5C;\n",
              "      --hover-fill-color: #FFFFFF;\n",
              "      --disabled-bg-color: #3B4455;\n",
              "      --disabled-fill-color: #666;\n",
              "  }\n",
              "\n",
              "  .colab-df-quickchart {\n",
              "    background-color: var(--bg-color);\n",
              "    border: none;\n",
              "    border-radius: 50%;\n",
              "    cursor: pointer;\n",
              "    display: none;\n",
              "    fill: var(--fill-color);\n",
              "    height: 32px;\n",
              "    padding: 0;\n",
              "    width: 32px;\n",
              "  }\n",
              "\n",
              "  .colab-df-quickchart:hover {\n",
              "    background-color: var(--hover-bg-color);\n",
              "    box-shadow: 0 1px 2px rgba(60, 64, 67, 0.3), 0 1px 3px 1px rgba(60, 64, 67, 0.15);\n",
              "    fill: var(--button-hover-fill-color);\n",
              "  }\n",
              "\n",
              "  .colab-df-quickchart-complete:disabled,\n",
              "  .colab-df-quickchart-complete:disabled:hover {\n",
              "    background-color: var(--disabled-bg-color);\n",
              "    fill: var(--disabled-fill-color);\n",
              "    box-shadow: none;\n",
              "  }\n",
              "\n",
              "  .colab-df-spinner {\n",
              "    border: 2px solid var(--fill-color);\n",
              "    border-color: transparent;\n",
              "    border-bottom-color: var(--fill-color);\n",
              "    animation:\n",
              "      spin 1s steps(1) infinite;\n",
              "  }\n",
              "\n",
              "  @keyframes spin {\n",
              "    0% {\n",
              "      border-color: transparent;\n",
              "      border-bottom-color: var(--fill-color);\n",
              "      border-left-color: var(--fill-color);\n",
              "    }\n",
              "    20% {\n",
              "      border-color: transparent;\n",
              "      border-left-color: var(--fill-color);\n",
              "      border-top-color: var(--fill-color);\n",
              "    }\n",
              "    30% {\n",
              "      border-color: transparent;\n",
              "      border-left-color: var(--fill-color);\n",
              "      border-top-color: var(--fill-color);\n",
              "      border-right-color: var(--fill-color);\n",
              "    }\n",
              "    40% {\n",
              "      border-color: transparent;\n",
              "      border-right-color: var(--fill-color);\n",
              "      border-top-color: var(--fill-color);\n",
              "    }\n",
              "    60% {\n",
              "      border-color: transparent;\n",
              "      border-right-color: var(--fill-color);\n",
              "    }\n",
              "    80% {\n",
              "      border-color: transparent;\n",
              "      border-right-color: var(--fill-color);\n",
              "      border-bottom-color: var(--fill-color);\n",
              "    }\n",
              "    90% {\n",
              "      border-color: transparent;\n",
              "      border-bottom-color: var(--fill-color);\n",
              "    }\n",
              "  }\n",
              "</style>\n",
              "\n",
              "      <script>\n",
              "        async function quickchart(key) {\n",
              "          const quickchartButtonEl =\n",
              "            document.querySelector('#' + key + ' button');\n",
              "          quickchartButtonEl.disabled = true;  // To prevent multiple clicks.\n",
              "          quickchartButtonEl.classList.add('colab-df-spinner');\n",
              "          try {\n",
              "            const charts = await google.colab.kernel.invokeFunction(\n",
              "                'suggestCharts', [key], {});\n",
              "          } catch (error) {\n",
              "            console.error('Error during call to suggestCharts:', error);\n",
              "          }\n",
              "          quickchartButtonEl.classList.remove('colab-df-spinner');\n",
              "          quickchartButtonEl.classList.add('colab-df-quickchart-complete');\n",
              "        }\n",
              "        (() => {\n",
              "          let quickchartButtonEl =\n",
              "            document.querySelector('#df-c8db1a07-0482-4905-aee6-b75f11c730ca button');\n",
              "          quickchartButtonEl.style.display =\n",
              "            google.colab.kernel.accessAllowed ? 'block' : 'none';\n",
              "        })();\n",
              "      </script>\n",
              "    </div>\n",
              "\n",
              "    </div>\n",
              "  </div>\n"
            ],
            "application/vnd.google.colaboratory.intrinsic+json": {
              "type": "dataframe",
              "variable_name": "train_df_shuffled",
              "summary": "{\n  \"name\": \"train_df_shuffled\",\n  \"rows\": 7613,\n  \"fields\": [\n    {\n      \"column\": \"id\",\n      \"properties\": {\n        \"dtype\": \"number\",\n        \"std\": 3137,\n        \"min\": 1,\n        \"max\": 10873,\n        \"num_unique_values\": 7613,\n        \"samples\": [\n          7061,\n          843,\n          10603\n        ],\n        \"semantic_type\": \"\",\n        \"description\": \"\"\n      }\n    },\n    {\n      \"column\": \"keyword\",\n      \"properties\": {\n        \"dtype\": \"category\",\n        \"num_unique_values\": 221,\n        \"samples\": [\n          \"blazing\",\n          \"emergency\",\n          \"rescue\"\n        ],\n        \"semantic_type\": \"\",\n        \"description\": \"\"\n      }\n    },\n    {\n      \"column\": \"location\",\n      \"properties\": {\n        \"dtype\": \"category\",\n        \"num_unique_values\": 3341,\n        \"samples\": [\n          \"617-BTOWN-BEATDOWN\",\n          \"Newcastle Upon Tyne, England\",\n          \"Federal Capital Territory\"\n        ],\n        \"semantic_type\": \"\",\n        \"description\": \"\"\n      }\n    },\n    {\n      \"column\": \"text\",\n      \"properties\": {\n        \"dtype\": \"string\",\n        \"num_unique_values\": 7503,\n        \"samples\": [\n          \"This week first responders and DART members are participating in a four day intensive Technical Large Animal... http://t.co/tL93AOd3ER\",\n          \"My mom is watching a show about bridges breaking/falling and the people on them drowning in their cars aka one of my biggest fears ????\",\n          \"@NickLee8  i went to school in a bombed out East End of London3 families to one house no bathroom outside loo &amp; poor so whats yr point\"\n        ],\n        \"semantic_type\": \"\",\n        \"description\": \"\"\n      }\n    },\n    {\n      \"column\": \"target\",\n      \"properties\": {\n        \"dtype\": \"number\",\n        \"std\": 0,\n        \"min\": 0,\n        \"max\": 1,\n        \"num_unique_values\": 2,\n        \"samples\": [\n          0,\n          1\n        ],\n        \"semantic_type\": \"\",\n        \"description\": \"\"\n      }\n    }\n  ]\n}"
            }
          },
          "metadata": {},
          "execution_count": 10
        }
      ]
    },
    {
      "cell_type": "code",
      "source": [
        "# What does Test Dataset Look like\n",
        "test_df.head()"
      ],
      "metadata": {
        "colab": {
          "base_uri": "https://localhost:8080/",
          "height": 206
        },
        "id": "3nzua3WmqbSf",
        "outputId": "529df145-ff22-4d7c-9c16-b84476f01cce"
      },
      "id": "3nzua3WmqbSf",
      "execution_count": 11,
      "outputs": [
        {
          "output_type": "execute_result",
          "data": {
            "text/plain": [
              "   id keyword location                                               text\n",
              "0   0     NaN      NaN                 Just happened a terrible car crash\n",
              "1   2     NaN      NaN  Heard about #earthquake is different cities, s...\n",
              "2   3     NaN      NaN  there is a forest fire at spot pond, geese are...\n",
              "3   9     NaN      NaN           Apocalypse lighting. #Spokane #wildfires\n",
              "4  11     NaN      NaN      Typhoon Soudelor kills 28 in China and Taiwan"
            ],
            "text/html": [
              "\n",
              "  <div id=\"df-9b22b8cc-2e73-44b9-b77c-7962a4e0a6a2\" class=\"colab-df-container\">\n",
              "    <div>\n",
              "<style scoped>\n",
              "    .dataframe tbody tr th:only-of-type {\n",
              "        vertical-align: middle;\n",
              "    }\n",
              "\n",
              "    .dataframe tbody tr th {\n",
              "        vertical-align: top;\n",
              "    }\n",
              "\n",
              "    .dataframe thead th {\n",
              "        text-align: right;\n",
              "    }\n",
              "</style>\n",
              "<table border=\"1\" class=\"dataframe\">\n",
              "  <thead>\n",
              "    <tr style=\"text-align: right;\">\n",
              "      <th></th>\n",
              "      <th>id</th>\n",
              "      <th>keyword</th>\n",
              "      <th>location</th>\n",
              "      <th>text</th>\n",
              "    </tr>\n",
              "  </thead>\n",
              "  <tbody>\n",
              "    <tr>\n",
              "      <th>0</th>\n",
              "      <td>0</td>\n",
              "      <td>NaN</td>\n",
              "      <td>NaN</td>\n",
              "      <td>Just happened a terrible car crash</td>\n",
              "    </tr>\n",
              "    <tr>\n",
              "      <th>1</th>\n",
              "      <td>2</td>\n",
              "      <td>NaN</td>\n",
              "      <td>NaN</td>\n",
              "      <td>Heard about #earthquake is different cities, s...</td>\n",
              "    </tr>\n",
              "    <tr>\n",
              "      <th>2</th>\n",
              "      <td>3</td>\n",
              "      <td>NaN</td>\n",
              "      <td>NaN</td>\n",
              "      <td>there is a forest fire at spot pond, geese are...</td>\n",
              "    </tr>\n",
              "    <tr>\n",
              "      <th>3</th>\n",
              "      <td>9</td>\n",
              "      <td>NaN</td>\n",
              "      <td>NaN</td>\n",
              "      <td>Apocalypse lighting. #Spokane #wildfires</td>\n",
              "    </tr>\n",
              "    <tr>\n",
              "      <th>4</th>\n",
              "      <td>11</td>\n",
              "      <td>NaN</td>\n",
              "      <td>NaN</td>\n",
              "      <td>Typhoon Soudelor kills 28 in China and Taiwan</td>\n",
              "    </tr>\n",
              "  </tbody>\n",
              "</table>\n",
              "</div>\n",
              "    <div class=\"colab-df-buttons\">\n",
              "\n",
              "  <div class=\"colab-df-container\">\n",
              "    <button class=\"colab-df-convert\" onclick=\"convertToInteractive('df-9b22b8cc-2e73-44b9-b77c-7962a4e0a6a2')\"\n",
              "            title=\"Convert this dataframe to an interactive table.\"\n",
              "            style=\"display:none;\">\n",
              "\n",
              "  <svg xmlns=\"http://www.w3.org/2000/svg\" height=\"24px\" viewBox=\"0 -960 960 960\">\n",
              "    <path d=\"M120-120v-720h720v720H120Zm60-500h600v-160H180v160Zm220 220h160v-160H400v160Zm0 220h160v-160H400v160ZM180-400h160v-160H180v160Zm440 0h160v-160H620v160ZM180-180h160v-160H180v160Zm440 0h160v-160H620v160Z\"/>\n",
              "  </svg>\n",
              "    </button>\n",
              "\n",
              "  <style>\n",
              "    .colab-df-container {\n",
              "      display:flex;\n",
              "      gap: 12px;\n",
              "    }\n",
              "\n",
              "    .colab-df-convert {\n",
              "      background-color: #E8F0FE;\n",
              "      border: none;\n",
              "      border-radius: 50%;\n",
              "      cursor: pointer;\n",
              "      display: none;\n",
              "      fill: #1967D2;\n",
              "      height: 32px;\n",
              "      padding: 0 0 0 0;\n",
              "      width: 32px;\n",
              "    }\n",
              "\n",
              "    .colab-df-convert:hover {\n",
              "      background-color: #E2EBFA;\n",
              "      box-shadow: 0px 1px 2px rgba(60, 64, 67, 0.3), 0px 1px 3px 1px rgba(60, 64, 67, 0.15);\n",
              "      fill: #174EA6;\n",
              "    }\n",
              "\n",
              "    .colab-df-buttons div {\n",
              "      margin-bottom: 4px;\n",
              "    }\n",
              "\n",
              "    [theme=dark] .colab-df-convert {\n",
              "      background-color: #3B4455;\n",
              "      fill: #D2E3FC;\n",
              "    }\n",
              "\n",
              "    [theme=dark] .colab-df-convert:hover {\n",
              "      background-color: #434B5C;\n",
              "      box-shadow: 0px 1px 3px 1px rgba(0, 0, 0, 0.15);\n",
              "      filter: drop-shadow(0px 1px 2px rgba(0, 0, 0, 0.3));\n",
              "      fill: #FFFFFF;\n",
              "    }\n",
              "  </style>\n",
              "\n",
              "    <script>\n",
              "      const buttonEl =\n",
              "        document.querySelector('#df-9b22b8cc-2e73-44b9-b77c-7962a4e0a6a2 button.colab-df-convert');\n",
              "      buttonEl.style.display =\n",
              "        google.colab.kernel.accessAllowed ? 'block' : 'none';\n",
              "\n",
              "      async function convertToInteractive(key) {\n",
              "        const element = document.querySelector('#df-9b22b8cc-2e73-44b9-b77c-7962a4e0a6a2');\n",
              "        const dataTable =\n",
              "          await google.colab.kernel.invokeFunction('convertToInteractive',\n",
              "                                                    [key], {});\n",
              "        if (!dataTable) return;\n",
              "\n",
              "        const docLinkHtml = 'Like what you see? Visit the ' +\n",
              "          '<a target=\"_blank\" href=https://colab.research.google.com/notebooks/data_table.ipynb>data table notebook</a>'\n",
              "          + ' to learn more about interactive tables.';\n",
              "        element.innerHTML = '';\n",
              "        dataTable['output_type'] = 'display_data';\n",
              "        await google.colab.output.renderOutput(dataTable, element);\n",
              "        const docLink = document.createElement('div');\n",
              "        docLink.innerHTML = docLinkHtml;\n",
              "        element.appendChild(docLink);\n",
              "      }\n",
              "    </script>\n",
              "  </div>\n",
              "\n",
              "\n",
              "    <div id=\"df-5fcd7c5f-4bf9-4eda-916a-e913e138fc5a\">\n",
              "      <button class=\"colab-df-quickchart\" onclick=\"quickchart('df-5fcd7c5f-4bf9-4eda-916a-e913e138fc5a')\"\n",
              "                title=\"Suggest charts\"\n",
              "                style=\"display:none;\">\n",
              "\n",
              "<svg xmlns=\"http://www.w3.org/2000/svg\" height=\"24px\"viewBox=\"0 0 24 24\"\n",
              "     width=\"24px\">\n",
              "    <g>\n",
              "        <path d=\"M19 3H5c-1.1 0-2 .9-2 2v14c0 1.1.9 2 2 2h14c1.1 0 2-.9 2-2V5c0-1.1-.9-2-2-2zM9 17H7v-7h2v7zm4 0h-2V7h2v10zm4 0h-2v-4h2v4z\"/>\n",
              "    </g>\n",
              "</svg>\n",
              "      </button>\n",
              "\n",
              "<style>\n",
              "  .colab-df-quickchart {\n",
              "      --bg-color: #E8F0FE;\n",
              "      --fill-color: #1967D2;\n",
              "      --hover-bg-color: #E2EBFA;\n",
              "      --hover-fill-color: #174EA6;\n",
              "      --disabled-fill-color: #AAA;\n",
              "      --disabled-bg-color: #DDD;\n",
              "  }\n",
              "\n",
              "  [theme=dark] .colab-df-quickchart {\n",
              "      --bg-color: #3B4455;\n",
              "      --fill-color: #D2E3FC;\n",
              "      --hover-bg-color: #434B5C;\n",
              "      --hover-fill-color: #FFFFFF;\n",
              "      --disabled-bg-color: #3B4455;\n",
              "      --disabled-fill-color: #666;\n",
              "  }\n",
              "\n",
              "  .colab-df-quickchart {\n",
              "    background-color: var(--bg-color);\n",
              "    border: none;\n",
              "    border-radius: 50%;\n",
              "    cursor: pointer;\n",
              "    display: none;\n",
              "    fill: var(--fill-color);\n",
              "    height: 32px;\n",
              "    padding: 0;\n",
              "    width: 32px;\n",
              "  }\n",
              "\n",
              "  .colab-df-quickchart:hover {\n",
              "    background-color: var(--hover-bg-color);\n",
              "    box-shadow: 0 1px 2px rgba(60, 64, 67, 0.3), 0 1px 3px 1px rgba(60, 64, 67, 0.15);\n",
              "    fill: var(--button-hover-fill-color);\n",
              "  }\n",
              "\n",
              "  .colab-df-quickchart-complete:disabled,\n",
              "  .colab-df-quickchart-complete:disabled:hover {\n",
              "    background-color: var(--disabled-bg-color);\n",
              "    fill: var(--disabled-fill-color);\n",
              "    box-shadow: none;\n",
              "  }\n",
              "\n",
              "  .colab-df-spinner {\n",
              "    border: 2px solid var(--fill-color);\n",
              "    border-color: transparent;\n",
              "    border-bottom-color: var(--fill-color);\n",
              "    animation:\n",
              "      spin 1s steps(1) infinite;\n",
              "  }\n",
              "\n",
              "  @keyframes spin {\n",
              "    0% {\n",
              "      border-color: transparent;\n",
              "      border-bottom-color: var(--fill-color);\n",
              "      border-left-color: var(--fill-color);\n",
              "    }\n",
              "    20% {\n",
              "      border-color: transparent;\n",
              "      border-left-color: var(--fill-color);\n",
              "      border-top-color: var(--fill-color);\n",
              "    }\n",
              "    30% {\n",
              "      border-color: transparent;\n",
              "      border-left-color: var(--fill-color);\n",
              "      border-top-color: var(--fill-color);\n",
              "      border-right-color: var(--fill-color);\n",
              "    }\n",
              "    40% {\n",
              "      border-color: transparent;\n",
              "      border-right-color: var(--fill-color);\n",
              "      border-top-color: var(--fill-color);\n",
              "    }\n",
              "    60% {\n",
              "      border-color: transparent;\n",
              "      border-right-color: var(--fill-color);\n",
              "    }\n",
              "    80% {\n",
              "      border-color: transparent;\n",
              "      border-right-color: var(--fill-color);\n",
              "      border-bottom-color: var(--fill-color);\n",
              "    }\n",
              "    90% {\n",
              "      border-color: transparent;\n",
              "      border-bottom-color: var(--fill-color);\n",
              "    }\n",
              "  }\n",
              "</style>\n",
              "\n",
              "      <script>\n",
              "        async function quickchart(key) {\n",
              "          const quickchartButtonEl =\n",
              "            document.querySelector('#' + key + ' button');\n",
              "          quickchartButtonEl.disabled = true;  // To prevent multiple clicks.\n",
              "          quickchartButtonEl.classList.add('colab-df-spinner');\n",
              "          try {\n",
              "            const charts = await google.colab.kernel.invokeFunction(\n",
              "                'suggestCharts', [key], {});\n",
              "          } catch (error) {\n",
              "            console.error('Error during call to suggestCharts:', error);\n",
              "          }\n",
              "          quickchartButtonEl.classList.remove('colab-df-spinner');\n",
              "          quickchartButtonEl.classList.add('colab-df-quickchart-complete');\n",
              "        }\n",
              "        (() => {\n",
              "          let quickchartButtonEl =\n",
              "            document.querySelector('#df-5fcd7c5f-4bf9-4eda-916a-e913e138fc5a button');\n",
              "          quickchartButtonEl.style.display =\n",
              "            google.colab.kernel.accessAllowed ? 'block' : 'none';\n",
              "        })();\n",
              "      </script>\n",
              "    </div>\n",
              "\n",
              "    </div>\n",
              "  </div>\n"
            ],
            "application/vnd.google.colaboratory.intrinsic+json": {
              "type": "dataframe",
              "variable_name": "test_df",
              "summary": "{\n  \"name\": \"test_df\",\n  \"rows\": 3263,\n  \"fields\": [\n    {\n      \"column\": \"id\",\n      \"properties\": {\n        \"dtype\": \"number\",\n        \"std\": 3146,\n        \"min\": 0,\n        \"max\": 10875,\n        \"num_unique_values\": 3263,\n        \"samples\": [\n          8051,\n          425,\n          1330\n        ],\n        \"semantic_type\": \"\",\n        \"description\": \"\"\n      }\n    },\n    {\n      \"column\": \"keyword\",\n      \"properties\": {\n        \"dtype\": \"category\",\n        \"num_unique_values\": 221,\n        \"samples\": [\n          \"injury\",\n          \"nuclear%20reactor\",\n          \"engulfed\"\n        ],\n        \"semantic_type\": \"\",\n        \"description\": \"\"\n      }\n    },\n    {\n      \"column\": \"location\",\n      \"properties\": {\n        \"dtype\": \"category\",\n        \"num_unique_values\": 1602,\n        \"samples\": [\n          \"UAE\",\n          \"Tokio / Tokyo\",\n          \"Texas\"\n        ],\n        \"semantic_type\": \"\",\n        \"description\": \"\"\n      }\n    },\n    {\n      \"column\": \"text\",\n      \"properties\": {\n        \"dtype\": \"string\",\n        \"num_unique_values\": 3243,\n        \"samples\": [\n          \"Latest: USA: Huge sinkhole swallows up Brooklyn intersection http://t.co/vspKHg3nZy\",\n          \"I liked a @YouTube video http://t.co/a5YTAw9Vih S.O.S. Rona Guide - The Red Whirlwind\",\n          \"HitchBot travels Europe and greeted with open arms. Gets destroyed after two weeks in america. There's a lesson to be learned here.\"\n        ],\n        \"semantic_type\": \"\",\n        \"description\": \"\"\n      }\n    }\n  ]\n}"
            }
          },
          "metadata": {},
          "execution_count": 11
        }
      ]
    },
    {
      "cell_type": "code",
      "source": [
        "# How many examples of each classes\n",
        "train_df.target.value_counts()"
      ],
      "metadata": {
        "colab": {
          "base_uri": "https://localhost:8080/",
          "height": 178
        },
        "id": "14Sb9rxVqugm",
        "outputId": "5d0f47e3-4862-4001-b5e6-77798a02c3f2"
      },
      "id": "14Sb9rxVqugm",
      "execution_count": 12,
      "outputs": [
        {
          "output_type": "execute_result",
          "data": {
            "text/plain": [
              "target\n",
              "0    4342\n",
              "1    3271\n",
              "Name: count, dtype: int64"
            ],
            "text/html": [
              "<div>\n",
              "<style scoped>\n",
              "    .dataframe tbody tr th:only-of-type {\n",
              "        vertical-align: middle;\n",
              "    }\n",
              "\n",
              "    .dataframe tbody tr th {\n",
              "        vertical-align: top;\n",
              "    }\n",
              "\n",
              "    .dataframe thead th {\n",
              "        text-align: right;\n",
              "    }\n",
              "</style>\n",
              "<table border=\"1\" class=\"dataframe\">\n",
              "  <thead>\n",
              "    <tr style=\"text-align: right;\">\n",
              "      <th></th>\n",
              "      <th>count</th>\n",
              "    </tr>\n",
              "    <tr>\n",
              "      <th>target</th>\n",
              "      <th></th>\n",
              "    </tr>\n",
              "  </thead>\n",
              "  <tbody>\n",
              "    <tr>\n",
              "      <th>0</th>\n",
              "      <td>4342</td>\n",
              "    </tr>\n",
              "    <tr>\n",
              "      <th>1</th>\n",
              "      <td>3271</td>\n",
              "    </tr>\n",
              "  </tbody>\n",
              "</table>\n",
              "</div><br><label><b>dtype:</b> int64</label>"
            ]
          },
          "metadata": {},
          "execution_count": 12
        }
      ]
    },
    {
      "cell_type": "code",
      "source": [
        "# How many Total Samples\n",
        "len(train_df),len(test_df)"
      ],
      "metadata": {
        "colab": {
          "base_uri": "https://localhost:8080/"
        },
        "id": "VRZ0K-x3rFlY",
        "outputId": "1c27872e-83e8-4a8c-a6b6-8e7840ea8862"
      },
      "id": "VRZ0K-x3rFlY",
      "execution_count": 13,
      "outputs": [
        {
          "output_type": "execute_result",
          "data": {
            "text/plain": [
              "(7613, 3263)"
            ]
          },
          "metadata": {},
          "execution_count": 13
        }
      ]
    },
    {
      "cell_type": "markdown",
      "source": [
        "# **Visualize some random training examples**"
      ],
      "metadata": {
        "id": "tjK-XSYsrSte"
      },
      "id": "tjK-XSYsrSte"
    },
    {
      "cell_type": "code",
      "source": [
        "import random\n",
        "random_index=random.randint(0,len(train_df)-5)\n",
        "for row in train_df_shuffled[['text','target']][random_index:random_index+5].itertuples():\n",
        "    _,text,target=row\n",
        "    print(f'Target : {target} \\n ',\"(real disaster)\" if target>0 else \"not real disaster\")\n",
        "    print(f'Text : \\n {text}')\n",
        "    print('---\\n')"
      ],
      "metadata": {
        "colab": {
          "base_uri": "https://localhost:8080/"
        },
        "id": "EdTfwsABrNpW",
        "outputId": "73bcc874-899f-4e83-a6f1-7decaa7d1116"
      },
      "id": "EdTfwsABrNpW",
      "execution_count": 14,
      "outputs": [
        {
          "output_type": "stream",
          "name": "stdout",
          "text": [
            "Target : 0 \n",
            "  not real disaster\n",
            "Text : \n",
            " Fatality  https://t.co/407V1y4HHg\n",
            "---\n",
            "\n",
            "Target : 0 \n",
            "  not real disaster\n",
            "Text : \n",
            " I JUST SCREAMED SIDJSJDJEKDJSKDJD . I CANT STAND YOU ?? https://t.co/0Vcsafx9bY\n",
            "---\n",
            "\n",
            "Target : 0 \n",
            "  not real disaster\n",
            "Text : \n",
            " Court back in session. Testimony continues with med. examiner discussing gunshot wounds #KerrickTrial\n",
            "---\n",
            "\n",
            "Target : 1 \n",
            "  (real disaster)\n",
            "Text : \n",
            " #NJTurnpike å_ #NJTurnpike Reopens Hours After Truck Fire In? http://t.co/oABJZtbVyZ http://t.co/GPBXRrDc07\n",
            "---\n",
            "\n",
            "Target : 1 \n",
            "  (real disaster)\n",
            "Text : \n",
            " The cryptic words that guided pilots on the Hiroshima bombing mission http://t.co/nSS5L64cvR #canada\n",
            "---\n",
            "\n"
          ]
        }
      ]
    },
    {
      "cell_type": "code",
      "source": [
        "#Splitting data into Train and Validation\n",
        "from sklearn.model_selection import train_test_split\n",
        "\n",
        "train_sentances,val_sentances,train_labels,val_labels=train_test_split(\n",
        "                                                      train_df_shuffled['text'].to_numpy(),\n",
        "                                                      train_df_shuffled['target'].to_numpy(),\n",
        "                                                      test_size=0.1,\n",
        "                                                      random_state=42)"
      ],
      "metadata": {
        "id": "wMV3n0nutBqw"
      },
      "id": "wMV3n0nutBqw",
      "execution_count": 15,
      "outputs": []
    },
    {
      "cell_type": "code",
      "source": [
        "# Check lengths\n",
        "len(train_sentances),len(val_sentances),len(train_labels),len(val_labels)"
      ],
      "metadata": {
        "colab": {
          "base_uri": "https://localhost:8080/"
        },
        "id": "INoCGnqhtv4z",
        "outputId": "e9bf7211-6daf-4e1f-96d8-267157a80afe"
      },
      "id": "INoCGnqhtv4z",
      "execution_count": 16,
      "outputs": [
        {
          "output_type": "execute_result",
          "data": {
            "text/plain": [
              "(6851, 762, 6851, 762)"
            ]
          },
          "metadata": {},
          "execution_count": 16
        }
      ]
    },
    {
      "cell_type": "markdown",
      "source": [
        "# **Convert Text into Numbers**"
      ],
      "metadata": {
        "id": "qbFNALyouHma"
      },
      "id": "qbFNALyouHma"
    },
    {
      "cell_type": "code",
      "source": [
        "import tensorflow as tf\n",
        "from tensorflow.keras.layers import TextVectorization\n",
        "text_vectorizer=TextVectorization(\n",
        "                                  max_tokens=10000, # Set max_tokens to a value\n",
        "                                  standardize='lower_and_strip_punctuation',\n",
        "                                  split='whitespace',\n",
        "                                  ngrams=None,\n",
        "                                  output_mode='int',\n",
        "                                  output_sequence_length=None,\n",
        "                                  pad_to_max_tokens=True,\n",
        "                                   )"
      ],
      "metadata": {
        "id": "YrtXGOeQu8Ug"
      },
      "id": "YrtXGOeQu8Ug",
      "execution_count": 17,
      "outputs": []
    },
    {
      "cell_type": "code",
      "source": [
        "max_vocab_length=100   # Max number of words to have in vocabulary\n",
        "max_length=15  # Max length our sequence will be\n",
        "text_vectorizer=TextVectorization(max_tokens=max_vocab_length,\n",
        "                                  standardize='lower_and_strip_punctuation',\n",
        "                                  split='whitespace',\n",
        "                                  ngrams=None,\n",
        "                                  output_mode='int',\n",
        "                                  output_sequence_length=max_vocab_length,\n",
        "                                  pad_to_max_tokens=True)"
      ],
      "metadata": {
        "id": "mQZEu3pNv1b6"
      },
      "id": "mQZEu3pNv1b6",
      "execution_count": 18,
      "outputs": []
    },
    {
      "cell_type": "code",
      "source": [
        "# Fit the Text Vectorizer\n",
        "text_vectorizer.adapt(train_sentances)"
      ],
      "metadata": {
        "id": "3M87lSsv3vp0"
      },
      "id": "3M87lSsv3vp0",
      "execution_count": 19,
      "outputs": []
    },
    {
      "cell_type": "code",
      "source": [
        "# Create a sample sentance and tokenize it\n",
        "sample_sentance=random.choice(train_sentances)\n",
        "print(f' The Original Sentance \\n {sample_sentance} \\n The Text Vectorized Version \\n')\n",
        "text_vectorizer([sample_sentance])"
      ],
      "metadata": {
        "colab": {
          "base_uri": "https://localhost:8080/"
        },
        "id": "xMdvl0-t4ofh",
        "outputId": "fe67e2a0-b7cd-4a26-977a-cb3f8447d816"
      },
      "id": "xMdvl0-t4ofh",
      "execution_count": 20,
      "outputs": [
        {
          "output_type": "stream",
          "name": "stdout",
          "text": [
            " The Original Sentance \n",
            " The insides of the explosion box..\n",
            "Get it customized the way you want!\n",
            "\n",
            "#dcubecrafts #greetingcardsÛ_ https://t.co/T07qxP5cBE \n",
            " The Text Vectorized Version \n",
            "\n"
          ]
        },
        {
          "output_type": "execute_result",
          "data": {
            "text/plain": [
              "<tf.Tensor: shape=(1, 100), dtype=int64, numpy=\n",
              "array([[ 2,  1,  6,  2,  1,  1, 52, 15,  1,  2,  1, 12,  1,  1,  1,  1,\n",
              "         0,  0,  0,  0,  0,  0,  0,  0,  0,  0,  0,  0,  0,  0,  0,  0,\n",
              "         0,  0,  0,  0,  0,  0,  0,  0,  0,  0,  0,  0,  0,  0,  0,  0,\n",
              "         0,  0,  0,  0,  0,  0,  0,  0,  0,  0,  0,  0,  0,  0,  0,  0,\n",
              "         0,  0,  0,  0,  0,  0,  0,  0,  0,  0,  0,  0,  0,  0,  0,  0,\n",
              "         0,  0,  0,  0,  0,  0,  0,  0,  0,  0,  0,  0,  0,  0,  0,  0,\n",
              "         0,  0,  0,  0]])>"
            ]
          },
          "metadata": {},
          "execution_count": 20
        }
      ]
    },
    {
      "cell_type": "code",
      "source": [
        "# Get uniqe words in vocab\n",
        "words_in_vocab=text_vectorizer.get_vocabulary()\n",
        "top_5_words=words_in_vocab[:5]\n",
        "bottom_5_words=words_in_vocab[-5:]\n",
        "print(f'The Number of words in vocab are : {len(words_in_vocab)}')\n",
        "print(f'The Five most common words in vocab are : {top_5_words}')\n",
        "print(f'The Five least words in vocab are : {bottom_5_words}')"
      ],
      "metadata": {
        "colab": {
          "base_uri": "https://localhost:8080/"
        },
        "id": "SWFaiThw4vrw",
        "outputId": "b99adbe5-3904-4bf7-b30d-ce0f8ab2feea"
      },
      "id": "SWFaiThw4vrw",
      "execution_count": 21,
      "outputs": [
        {
          "output_type": "stream",
          "name": "stdout",
          "text": [
            "The Number of words in vocab are : 100\n",
            "The Five most common words in vocab are : ['', '[UNK]', np.str_('the'), np.str_('a'), np.str_('in')]\n",
            "The Five least words in vocab are : [np.str_('buildings'), np.str_('rt'), np.str_('first'), np.str_('cant'), np.str_('see')]\n"
          ]
        }
      ]
    },
    {
      "cell_type": "code",
      "source": [
        "# Creating a embedding layer that turns text vectorized into the embeding vectors\n",
        "from tensorflow.keras.layers import Embedding\n",
        "\n",
        "embedding=Embedding(input_dim=max_vocab_length,\n",
        "                    output_dim=128,\n",
        "                    )"
      ],
      "metadata": {
        "id": "p7mdj4Ty5rsA"
      },
      "id": "p7mdj4Ty5rsA",
      "execution_count": 22,
      "outputs": []
    },
    {
      "cell_type": "code",
      "source": [
        "# Get Random Sentance from trainning set\n",
        "random_sentance=random.choice(train_sentances)\n",
        "print(f'Original Text \\n {random_sentance}\\n')\n",
        "sample_embedding=embedding(text_vectorizer([random_sentance]))\n",
        "sample_embedding"
      ],
      "metadata": {
        "colab": {
          "base_uri": "https://localhost:8080/"
        },
        "id": "433odmK27cxo",
        "outputId": "c8f67723-970c-47c5-bb40-bc1f9e5b05ca"
      },
      "id": "433odmK27cxo",
      "execution_count": 23,
      "outputs": [
        {
          "output_type": "stream",
          "name": "stdout",
          "text": [
            "Original Text \n",
            " I'm loving this classic barn shot! We may or may not have got electrocuted got stung a few times and stepped in... http://t.co/X6aSGRjsWC\n",
            "\n"
          ]
        },
        {
          "output_type": "execute_result",
          "data": {
            "text/plain": [
              "<tf.Tensor: shape=(1, 100, 128), dtype=float32, numpy=\n",
              "array([[[ 0.03014734, -0.04384613, -0.02922777, ...,  0.02506921,\n",
              "         -0.02240675, -0.04163507],\n",
              "        [ 0.02266918, -0.01995186,  0.00289994, ..., -0.0473236 ,\n",
              "          0.03376264, -0.0265023 ],\n",
              "        [ 0.0411945 ,  0.02148844,  0.03441937, ..., -0.0049775 ,\n",
              "         -0.04240881,  0.00167096],\n",
              "        ...,\n",
              "        [-0.03490497,  0.02895408, -0.01048367, ..., -0.00315329,\n",
              "         -0.03401694, -0.04065144],\n",
              "        [-0.03490497,  0.02895408, -0.01048367, ..., -0.00315329,\n",
              "         -0.03401694, -0.04065144],\n",
              "        [-0.03490497,  0.02895408, -0.01048367, ..., -0.00315329,\n",
              "         -0.03401694, -0.04065144]]], dtype=float32)>"
            ]
          },
          "metadata": {},
          "execution_count": 23
        }
      ]
    },
    {
      "cell_type": "markdown",
      "source": [
        "# ***Lets Now Create our Baseline Model***\n",
        "its common to use ML model first or non DL model and then switch to DL model"
      ],
      "metadata": {
        "id": "7jVRac8Q8vHI"
      },
      "id": "7jVRac8Q8vHI"
    },
    {
      "cell_type": "code",
      "source": [
        "from sklearn.feature_extraction.text import TfidfVectorizer\n",
        "from sklearn.naive_bayes import MultinomialNB\n",
        "from sklearn.pipeline import Pipeline\n",
        "\n",
        "model_0=Pipeline([\n",
        "    ('tfid',TfidfVectorizer()),\n",
        "    ('clf',MultinomialNB()),\n",
        "])\n",
        "\n",
        "model_0.fit(train_sentances,train_labels)\n",
        "baseline_score=model_0.score(val_sentances,val_labels)\n",
        "\n",
        "print(f'Our Baseline Model Acheives Accuracy of : {baseline_score*100:.2f}')"
      ],
      "metadata": {
        "colab": {
          "base_uri": "https://localhost:8080/"
        },
        "id": "vVnZOG9A8dwx",
        "outputId": "95fc116a-53bf-4eac-ca9c-ddfa16273895"
      },
      "id": "vVnZOG9A8dwx",
      "execution_count": 24,
      "outputs": [
        {
          "output_type": "stream",
          "name": "stdout",
          "text": [
            "Our Baseline Model Acheives Accuracy of : 79.27\n"
          ]
        }
      ]
    },
    {
      "cell_type": "code",
      "source": [
        "# Model Predictions\n",
        "baseline_preds=model_0.predict(val_sentances)\n",
        "baseline_preds[:20]"
      ],
      "metadata": {
        "colab": {
          "base_uri": "https://localhost:8080/"
        },
        "id": "W83eH1la9qMi",
        "outputId": "334760ea-1216-484a-a2c5-5ad76b8e3f99"
      },
      "id": "W83eH1la9qMi",
      "execution_count": 25,
      "outputs": [
        {
          "output_type": "execute_result",
          "data": {
            "text/plain": [
              "array([1, 1, 1, 0, 0, 1, 1, 1, 1, 0, 0, 1, 0, 0, 0, 0, 0, 0, 0, 1])"
            ]
          },
          "metadata": {},
          "execution_count": 25
        }
      ]
    },
    {
      "cell_type": "markdown",
      "source": [
        "# **Creating an evaluation function**"
      ],
      "metadata": {
        "id": "fVKbRAs763wd"
      },
      "id": "fVKbRAs763wd"
    },
    {
      "cell_type": "code",
      "source": [
        "from sklearn.metrics import accuracy_score,precision_recall_fscore_support\n",
        "\n",
        "\n",
        "def calculate_results(y_true,y_pred):\n",
        "  model_accuracy=accuracy_score(y_true=y_true,y_pred=y_pred)\n",
        "  model_precission,model_recall,model_f1,_=precision_recall_fscore_support(y_true=y_true,y_pred=y_pred,average='weighted')\n",
        "\n",
        "  model_results={\n",
        "     \"accuracy\":model_accuracy,\n",
        "     \"precsion\":model_precission,\n",
        "     \"recall\":model_recall,\n",
        "     'f1_score':model_f1\n",
        "  }\n",
        "  return model_results"
      ],
      "metadata": {
        "id": "kIae8fDw5sV4"
      },
      "id": "kIae8fDw5sV4",
      "execution_count": 26,
      "outputs": []
    },
    {
      "cell_type": "code",
      "source": [
        "# Get Baseline Results\n",
        "baseline_results=calculate_results(y_true=val_labels,y_pred=baseline_preds)\n",
        "\n",
        "baseline_results"
      ],
      "metadata": {
        "colab": {
          "base_uri": "https://localhost:8080/"
        },
        "id": "U3hOOLyr6zsH",
        "outputId": "d1cc18bb-0d0f-4c49-9208-3879cf3583a4"
      },
      "id": "U3hOOLyr6zsH",
      "execution_count": 27,
      "outputs": [
        {
          "output_type": "execute_result",
          "data": {
            "text/plain": [
              "{'accuracy': 0.7926509186351706,\n",
              " 'precsion': 0.8111390004213173,\n",
              " 'recall': 0.7926509186351706,\n",
              " 'f1_score': 0.7862189758049549}"
            ]
          },
          "metadata": {},
          "execution_count": 27
        }
      ]
    },
    {
      "cell_type": "markdown",
      "source": [
        "# **Model1 : Feed Forward Neural Network ( Dense Model)**"
      ],
      "metadata": {
        "id": "vyXSO-967_-z"
      },
      "id": "vyXSO-967_-z"
    },
    {
      "cell_type": "code",
      "source": [
        "from helper_functions import create_tensorboard_callback\n",
        "from tensorflow.keras import layers"
      ],
      "metadata": {
        "id": "RVZbkEUq781s"
      },
      "id": "RVZbkEUq781s",
      "execution_count": 28,
      "outputs": []
    },
    {
      "cell_type": "code",
      "source": [
        "SAVE_DIR=\"ModelLogs\"\n",
        "\n",
        "inputs=layers.Input(shape=(1,),dtype=tf.string)\n",
        "x=text_vectorizer(inputs)\n",
        "x=embedding(x)\n",
        "x=layers.GlobalAveragePooling1D()(x) # Add this layer to reduce dimensions\n",
        "outputs=layers.Dense(1,activation='sigmoid')(x)\n",
        "model_1=tf.keras.Model(inputs,outputs,name=\"model_1_Dense\")\n",
        "model_1.summary()"
      ],
      "metadata": {
        "colab": {
          "base_uri": "https://localhost:8080/",
          "height": 323
        },
        "id": "fPKAH30T8QOD",
        "outputId": "11ff30fc-ac77-440c-ff42-133cc5b603b8"
      },
      "id": "fPKAH30T8QOD",
      "execution_count": 29,
      "outputs": [
        {
          "output_type": "display_data",
          "data": {
            "text/plain": [
              "\u001b[1mModel: \"model_1_Dense\"\u001b[0m\n"
            ],
            "text/html": [
              "<pre style=\"white-space:pre;overflow-x:auto;line-height:normal;font-family:Menlo,'DejaVu Sans Mono',consolas,'Courier New',monospace\"><span style=\"font-weight: bold\">Model: \"model_1_Dense\"</span>\n",
              "</pre>\n"
            ]
          },
          "metadata": {}
        },
        {
          "output_type": "display_data",
          "data": {
            "text/plain": [
              "┏━━━━━━━━━━━━━━━━━━━━━━━━━━━━━━━━━┳━━━━━━━━━━━━━━━━━━━━━━━━┳━━━━━━━━━━━━━━━┓\n",
              "┃\u001b[1m \u001b[0m\u001b[1mLayer (type)                   \u001b[0m\u001b[1m \u001b[0m┃\u001b[1m \u001b[0m\u001b[1mOutput Shape          \u001b[0m\u001b[1m \u001b[0m┃\u001b[1m \u001b[0m\u001b[1m      Param #\u001b[0m\u001b[1m \u001b[0m┃\n",
              "┡━━━━━━━━━━━━━━━━━━━━━━━━━━━━━━━━━╇━━━━━━━━━━━━━━━━━━━━━━━━╇━━━━━━━━━━━━━━━┩\n",
              "│ input_layer (\u001b[38;5;33mInputLayer\u001b[0m)        │ (\u001b[38;5;45mNone\u001b[0m, \u001b[38;5;34m1\u001b[0m)              │             \u001b[38;5;34m0\u001b[0m │\n",
              "├─────────────────────────────────┼────────────────────────┼───────────────┤\n",
              "│ text_vectorization_1            │ (\u001b[38;5;45mNone\u001b[0m, \u001b[38;5;34m100\u001b[0m)            │             \u001b[38;5;34m0\u001b[0m │\n",
              "│ (\u001b[38;5;33mTextVectorization\u001b[0m)             │                        │               │\n",
              "├─────────────────────────────────┼────────────────────────┼───────────────┤\n",
              "│ embedding (\u001b[38;5;33mEmbedding\u001b[0m)           │ (\u001b[38;5;45mNone\u001b[0m, \u001b[38;5;34m100\u001b[0m, \u001b[38;5;34m128\u001b[0m)       │        \u001b[38;5;34m12,800\u001b[0m │\n",
              "├─────────────────────────────────┼────────────────────────┼───────────────┤\n",
              "│ global_average_pooling1d        │ (\u001b[38;5;45mNone\u001b[0m, \u001b[38;5;34m128\u001b[0m)            │             \u001b[38;5;34m0\u001b[0m │\n",
              "│ (\u001b[38;5;33mGlobalAveragePooling1D\u001b[0m)        │                        │               │\n",
              "├─────────────────────────────────┼────────────────────────┼───────────────┤\n",
              "│ dense (\u001b[38;5;33mDense\u001b[0m)                   │ (\u001b[38;5;45mNone\u001b[0m, \u001b[38;5;34m1\u001b[0m)              │           \u001b[38;5;34m129\u001b[0m │\n",
              "└─────────────────────────────────┴────────────────────────┴───────────────┘\n"
            ],
            "text/html": [
              "<pre style=\"white-space:pre;overflow-x:auto;line-height:normal;font-family:Menlo,'DejaVu Sans Mono',consolas,'Courier New',monospace\">┏━━━━━━━━━━━━━━━━━━━━━━━━━━━━━━━━━┳━━━━━━━━━━━━━━━━━━━━━━━━┳━━━━━━━━━━━━━━━┓\n",
              "┃<span style=\"font-weight: bold\"> Layer (type)                    </span>┃<span style=\"font-weight: bold\"> Output Shape           </span>┃<span style=\"font-weight: bold\">       Param # </span>┃\n",
              "┡━━━━━━━━━━━━━━━━━━━━━━━━━━━━━━━━━╇━━━━━━━━━━━━━━━━━━━━━━━━╇━━━━━━━━━━━━━━━┩\n",
              "│ input_layer (<span style=\"color: #0087ff; text-decoration-color: #0087ff\">InputLayer</span>)        │ (<span style=\"color: #00d7ff; text-decoration-color: #00d7ff\">None</span>, <span style=\"color: #00af00; text-decoration-color: #00af00\">1</span>)              │             <span style=\"color: #00af00; text-decoration-color: #00af00\">0</span> │\n",
              "├─────────────────────────────────┼────────────────────────┼───────────────┤\n",
              "│ text_vectorization_1            │ (<span style=\"color: #00d7ff; text-decoration-color: #00d7ff\">None</span>, <span style=\"color: #00af00; text-decoration-color: #00af00\">100</span>)            │             <span style=\"color: #00af00; text-decoration-color: #00af00\">0</span> │\n",
              "│ (<span style=\"color: #0087ff; text-decoration-color: #0087ff\">TextVectorization</span>)             │                        │               │\n",
              "├─────────────────────────────────┼────────────────────────┼───────────────┤\n",
              "│ embedding (<span style=\"color: #0087ff; text-decoration-color: #0087ff\">Embedding</span>)           │ (<span style=\"color: #00d7ff; text-decoration-color: #00d7ff\">None</span>, <span style=\"color: #00af00; text-decoration-color: #00af00\">100</span>, <span style=\"color: #00af00; text-decoration-color: #00af00\">128</span>)       │        <span style=\"color: #00af00; text-decoration-color: #00af00\">12,800</span> │\n",
              "├─────────────────────────────────┼────────────────────────┼───────────────┤\n",
              "│ global_average_pooling1d        │ (<span style=\"color: #00d7ff; text-decoration-color: #00d7ff\">None</span>, <span style=\"color: #00af00; text-decoration-color: #00af00\">128</span>)            │             <span style=\"color: #00af00; text-decoration-color: #00af00\">0</span> │\n",
              "│ (<span style=\"color: #0087ff; text-decoration-color: #0087ff\">GlobalAveragePooling1D</span>)        │                        │               │\n",
              "├─────────────────────────────────┼────────────────────────┼───────────────┤\n",
              "│ dense (<span style=\"color: #0087ff; text-decoration-color: #0087ff\">Dense</span>)                   │ (<span style=\"color: #00d7ff; text-decoration-color: #00d7ff\">None</span>, <span style=\"color: #00af00; text-decoration-color: #00af00\">1</span>)              │           <span style=\"color: #00af00; text-decoration-color: #00af00\">129</span> │\n",
              "└─────────────────────────────────┴────────────────────────┴───────────────┘\n",
              "</pre>\n"
            ]
          },
          "metadata": {}
        },
        {
          "output_type": "display_data",
          "data": {
            "text/plain": [
              "\u001b[1m Total params: \u001b[0m\u001b[38;5;34m12,929\u001b[0m (50.50 KB)\n"
            ],
            "text/html": [
              "<pre style=\"white-space:pre;overflow-x:auto;line-height:normal;font-family:Menlo,'DejaVu Sans Mono',consolas,'Courier New',monospace\"><span style=\"font-weight: bold\"> Total params: </span><span style=\"color: #00af00; text-decoration-color: #00af00\">12,929</span> (50.50 KB)\n",
              "</pre>\n"
            ]
          },
          "metadata": {}
        },
        {
          "output_type": "display_data",
          "data": {
            "text/plain": [
              "\u001b[1m Trainable params: \u001b[0m\u001b[38;5;34m12,929\u001b[0m (50.50 KB)\n"
            ],
            "text/html": [
              "<pre style=\"white-space:pre;overflow-x:auto;line-height:normal;font-family:Menlo,'DejaVu Sans Mono',consolas,'Courier New',monospace\"><span style=\"font-weight: bold\"> Trainable params: </span><span style=\"color: #00af00; text-decoration-color: #00af00\">12,929</span> (50.50 KB)\n",
              "</pre>\n"
            ]
          },
          "metadata": {}
        },
        {
          "output_type": "display_data",
          "data": {
            "text/plain": [
              "\u001b[1m Non-trainable params: \u001b[0m\u001b[38;5;34m0\u001b[0m (0.00 B)\n"
            ],
            "text/html": [
              "<pre style=\"white-space:pre;overflow-x:auto;line-height:normal;font-family:Menlo,'DejaVu Sans Mono',consolas,'Courier New',monospace\"><span style=\"font-weight: bold\"> Non-trainable params: </span><span style=\"color: #00af00; text-decoration-color: #00af00\">0</span> (0.00 B)\n",
              "</pre>\n"
            ]
          },
          "metadata": {}
        }
      ]
    },
    {
      "cell_type": "code",
      "source": [
        "model_1.compile(loss='binary_crossentropy',\n",
        "                optimizer=tf.keras.optimizers.Adam(),\n",
        "                metrics=['accuracy'])\n",
        "model_1_history=model_1.fit(train_sentances,train_labels,epochs=5,validation_data=(val_sentances,val_labels),callbacks=[create_tensorboard_callback(dir_name=SAVE_DIR,experiment_name='model_1_dense')])"
      ],
      "metadata": {
        "colab": {
          "base_uri": "https://localhost:8080/"
        },
        "id": "sN0C3bSD81eY",
        "outputId": "01f5a06b-6296-4451-99c2-10fb3a47c6f0"
      },
      "id": "sN0C3bSD81eY",
      "execution_count": 30,
      "outputs": [
        {
          "output_type": "stream",
          "name": "stdout",
          "text": [
            "Saving TensorBoard log files to: ModelLogs/model_1_dense/20251026-071603\n",
            "Epoch 1/5\n",
            "\u001b[1m215/215\u001b[0m \u001b[32m━━━━━━━━━━━━━━━━━━━━\u001b[0m\u001b[37m\u001b[0m \u001b[1m4s\u001b[0m 7ms/step - accuracy: 0.5658 - loss: 0.6826 - val_accuracy: 0.5433 - val_loss: 0.6800\n",
            "Epoch 2/5\n",
            "\u001b[1m215/215\u001b[0m \u001b[32m━━━━━━━━━━━━━━━━━━━━\u001b[0m\u001b[37m\u001b[0m \u001b[1m1s\u001b[0m 6ms/step - accuracy: 0.5769 - loss: 0.6699 - val_accuracy: 0.5787 - val_loss: 0.6627\n",
            "Epoch 3/5\n",
            "\u001b[1m215/215\u001b[0m \u001b[32m━━━━━━━━━━━━━━━━━━━━\u001b[0m\u001b[37m\u001b[0m \u001b[1m1s\u001b[0m 6ms/step - accuracy: 0.6092 - loss: 0.6551 - val_accuracy: 0.6483 - val_loss: 0.6388\n",
            "Epoch 4/5\n",
            "\u001b[1m215/215\u001b[0m \u001b[32m━━━━━━━━━━━━━━━━━━━━\u001b[0m\u001b[37m\u001b[0m \u001b[1m1s\u001b[0m 6ms/step - accuracy: 0.6339 - loss: 0.6382 - val_accuracy: 0.6627 - val_loss: 0.6221\n",
            "Epoch 5/5\n",
            "\u001b[1m215/215\u001b[0m \u001b[32m━━━━━━━━━━━━━━━━━━━━\u001b[0m\u001b[37m\u001b[0m \u001b[1m1s\u001b[0m 6ms/step - accuracy: 0.6676 - loss: 0.6132 - val_accuracy: 0.6339 - val_loss: 0.6342\n"
          ]
        }
      ]
    },
    {
      "cell_type": "code",
      "source": [
        "model_1.evaluate(val_sentances,val_labels)"
      ],
      "metadata": {
        "colab": {
          "base_uri": "https://localhost:8080/"
        },
        "id": "Quzoywi_9oUM",
        "outputId": "7725b6ba-8cf2-48e6-c87b-e9fc6349368f"
      },
      "id": "Quzoywi_9oUM",
      "execution_count": 31,
      "outputs": [
        {
          "output_type": "stream",
          "name": "stdout",
          "text": [
            "\u001b[1m24/24\u001b[0m \u001b[32m━━━━━━━━━━━━━━━━━━━━\u001b[0m\u001b[37m\u001b[0m \u001b[1m0s\u001b[0m 4ms/step - accuracy: 0.6207 - loss: 0.6584\n"
          ]
        },
        {
          "output_type": "execute_result",
          "data": {
            "text/plain": [
              "[0.6341687440872192, 0.6338582634925842]"
            ]
          },
          "metadata": {},
          "execution_count": 31
        }
      ]
    },
    {
      "cell_type": "code",
      "source": [
        "model_1_predict_probs=model_1.predict(val_sentances)\n",
        "model_1_predict_probs"
      ],
      "metadata": {
        "colab": {
          "base_uri": "https://localhost:8080/"
        },
        "id": "7mezY-iW98qu",
        "outputId": "73eadc9f-6f46-4930-bb4a-0d2ec85f93b3"
      },
      "id": "7mezY-iW98qu",
      "execution_count": 32,
      "outputs": [
        {
          "output_type": "stream",
          "name": "stdout",
          "text": [
            "\u001b[1m24/24\u001b[0m \u001b[32m━━━━━━━━━━━━━━━━━━━━\u001b[0m\u001b[37m\u001b[0m \u001b[1m0s\u001b[0m 5ms/step\n"
          ]
        },
        {
          "output_type": "execute_result",
          "data": {
            "text/plain": [
              "array([[0.41432133],\n",
              "       [0.5407893 ],\n",
              "       [0.6024225 ],\n",
              "       [0.23142602],\n",
              "       [0.32359833],\n",
              "       [0.50702536],\n",
              "       [0.590639  ],\n",
              "       [0.5356057 ],\n",
              "       [0.5429497 ],\n",
              "       [0.18834917],\n",
              "       [0.36257634],\n",
              "       [0.406003  ],\n",
              "       [0.45248067],\n",
              "       [0.34041524],\n",
              "       [0.4996337 ],\n",
              "       [0.3665099 ],\n",
              "       [0.18877049],\n",
              "       [0.2715337 ],\n",
              "       [0.3007244 ],\n",
              "       [0.38773206],\n",
              "       [0.17472044],\n",
              "       [0.09013733],\n",
              "       [0.2831259 ],\n",
              "       [0.33199504],\n",
              "       [0.3771925 ],\n",
              "       [0.49195072],\n",
              "       [0.0909083 ],\n",
              "       [0.4080649 ],\n",
              "       [0.16759352],\n",
              "       [0.20154598],\n",
              "       [0.32867745],\n",
              "       [0.33560598],\n",
              "       [0.4103986 ],\n",
              "       [0.34668675],\n",
              "       [0.4022485 ],\n",
              "       [0.10235772],\n",
              "       [0.50944847],\n",
              "       [0.1847616 ],\n",
              "       [0.17366764],\n",
              "       [0.5548491 ],\n",
              "       [0.2538151 ],\n",
              "       [0.47654364],\n",
              "       [0.29197547],\n",
              "       [0.39330623],\n",
              "       [0.25886902],\n",
              "       [0.45664784],\n",
              "       [0.32622457],\n",
              "       [0.6262433 ],\n",
              "       [0.26116306],\n",
              "       [0.6087432 ],\n",
              "       [0.06736262],\n",
              "       [0.41128075],\n",
              "       [0.3482981 ],\n",
              "       [0.20280765],\n",
              "       [0.05085814],\n",
              "       [0.10317034],\n",
              "       [0.43559706],\n",
              "       [0.45050535],\n",
              "       [0.34326857],\n",
              "       [0.01605386],\n",
              "       [0.20458359],\n",
              "       [0.36382324],\n",
              "       [0.82775843],\n",
              "       [0.21277347],\n",
              "       [0.4982105 ],\n",
              "       [0.5921064 ],\n",
              "       [0.16022812],\n",
              "       [0.48178113],\n",
              "       [0.1318363 ],\n",
              "       [0.2663215 ],\n",
              "       [0.29539675],\n",
              "       [0.1953473 ],\n",
              "       [0.49964097],\n",
              "       [0.20364122],\n",
              "       [0.26176634],\n",
              "       [0.32235622],\n",
              "       [0.31460127],\n",
              "       [0.33602852],\n",
              "       [0.21155061],\n",
              "       [0.5696728 ],\n",
              "       [0.4212326 ],\n",
              "       [0.13549249],\n",
              "       [0.43044135],\n",
              "       [0.23513067],\n",
              "       [0.31672224],\n",
              "       [0.21889398],\n",
              "       [0.14120562],\n",
              "       [0.33452874],\n",
              "       [0.49812627],\n",
              "       [0.25091934],\n",
              "       [0.37421593],\n",
              "       [0.31220052],\n",
              "       [0.16408245],\n",
              "       [0.3762302 ],\n",
              "       [0.4893577 ],\n",
              "       [0.49516335],\n",
              "       [0.4585667 ],\n",
              "       [0.39118   ],\n",
              "       [0.48575532],\n",
              "       [0.5821866 ],\n",
              "       [0.5838289 ],\n",
              "       [0.23539263],\n",
              "       [0.14667188],\n",
              "       [0.52194834],\n",
              "       [0.27473316],\n",
              "       [0.14282675],\n",
              "       [0.5304988 ],\n",
              "       [0.4757324 ],\n",
              "       [0.34210983],\n",
              "       [0.3499466 ],\n",
              "       [0.43563896],\n",
              "       [0.2248444 ],\n",
              "       [0.2884014 ],\n",
              "       [0.39915547],\n",
              "       [0.2959957 ],\n",
              "       [0.6815939 ],\n",
              "       [0.38815206],\n",
              "       [0.52172244],\n",
              "       [0.420488  ],\n",
              "       [0.28704756],\n",
              "       [0.5220202 ],\n",
              "       [0.43819147],\n",
              "       [0.2669014 ],\n",
              "       [0.4807027 ],\n",
              "       [0.43202356],\n",
              "       [0.22222453],\n",
              "       [0.402851  ],\n",
              "       [0.22677773],\n",
              "       [0.26488444],\n",
              "       [0.39489126],\n",
              "       [0.23847407],\n",
              "       [0.5220202 ],\n",
              "       [0.66972363],\n",
              "       [0.49195072],\n",
              "       [0.4791325 ],\n",
              "       [0.32329005],\n",
              "       [0.38582638],\n",
              "       [0.2557082 ],\n",
              "       [0.27932686],\n",
              "       [0.21208195],\n",
              "       [0.51065683],\n",
              "       [0.32258838],\n",
              "       [0.34041524],\n",
              "       [0.35171765],\n",
              "       [0.24461016],\n",
              "       [0.54000694],\n",
              "       [0.1769461 ],\n",
              "       [0.13444574],\n",
              "       [0.21645477],\n",
              "       [0.3589401 ],\n",
              "       [0.38499874],\n",
              "       [0.29512733],\n",
              "       [0.36531702],\n",
              "       [0.4033566 ],\n",
              "       [0.13534021],\n",
              "       [0.65184027],\n",
              "       [0.5549314 ],\n",
              "       [0.4117653 ],\n",
              "       [0.51594883],\n",
              "       [0.29275456],\n",
              "       [0.5908979 ],\n",
              "       [0.01278805],\n",
              "       [0.13585278],\n",
              "       [0.6001382 ],\n",
              "       [0.3106489 ],\n",
              "       [0.39608064],\n",
              "       [0.59215236],\n",
              "       [0.26455915],\n",
              "       [0.39938   ],\n",
              "       [0.35238785],\n",
              "       [0.6299886 ],\n",
              "       [0.5747067 ],\n",
              "       [0.53839654],\n",
              "       [0.17754753],\n",
              "       [0.47362018],\n",
              "       [0.19024828],\n",
              "       [0.44807196],\n",
              "       [0.26419154],\n",
              "       [0.23386739],\n",
              "       [0.52335936],\n",
              "       [0.2215361 ],\n",
              "       [0.5405931 ],\n",
              "       [0.4544505 ],\n",
              "       [0.4539115 ],\n",
              "       [0.40974906],\n",
              "       [0.42975438],\n",
              "       [0.23852539],\n",
              "       [0.64517504],\n",
              "       [0.41799125],\n",
              "       [0.3562227 ],\n",
              "       [0.41547945],\n",
              "       [0.40808702],\n",
              "       [0.36948982],\n",
              "       [0.42752486],\n",
              "       [0.32529998],\n",
              "       [0.5188627 ],\n",
              "       [0.21992476],\n",
              "       [0.21667457],\n",
              "       [0.33757773],\n",
              "       [0.2822793 ],\n",
              "       [0.18432325],\n",
              "       [0.3293361 ],\n",
              "       [0.5695514 ],\n",
              "       [0.3169195 ],\n",
              "       [0.45360073],\n",
              "       [0.5203942 ],\n",
              "       [0.357732  ],\n",
              "       [0.5830965 ],\n",
              "       [0.42161942],\n",
              "       [0.5738799 ],\n",
              "       [0.276017  ],\n",
              "       [0.49957234],\n",
              "       [0.10395361],\n",
              "       [0.18500303],\n",
              "       [0.18587115],\n",
              "       [0.20350923],\n",
              "       [0.5217311 ],\n",
              "       [0.46452957],\n",
              "       [0.34514916],\n",
              "       [0.15291573],\n",
              "       [0.44891173],\n",
              "       [0.27419427],\n",
              "       [0.20143503],\n",
              "       [0.28936824],\n",
              "       [0.36356494],\n",
              "       [0.4248323 ],\n",
              "       [0.68921036],\n",
              "       [0.4962054 ],\n",
              "       [0.34282538],\n",
              "       [0.4264566 ],\n",
              "       [0.41324532],\n",
              "       [0.2409156 ],\n",
              "       [0.47339153],\n",
              "       [0.15149584],\n",
              "       [0.21832561],\n",
              "       [0.17073259],\n",
              "       [0.3405726 ],\n",
              "       [0.5807625 ],\n",
              "       [0.39961037],\n",
              "       [0.23007126],\n",
              "       [0.38535592],\n",
              "       [0.41245246],\n",
              "       [0.37598887],\n",
              "       [0.3574604 ],\n",
              "       [0.3215969 ],\n",
              "       [0.4239318 ],\n",
              "       [0.41851848],\n",
              "       [0.34420994],\n",
              "       [0.2205665 ],\n",
              "       [0.3814622 ],\n",
              "       [0.24043562],\n",
              "       [0.3246692 ],\n",
              "       [0.0523544 ],\n",
              "       [0.33750644],\n",
              "       [0.28572527],\n",
              "       [0.20724328],\n",
              "       [0.5667032 ],\n",
              "       [0.50868344],\n",
              "       [0.17491344],\n",
              "       [0.39712778],\n",
              "       [0.5908945 ],\n",
              "       [0.2524476 ],\n",
              "       [0.24680756],\n",
              "       [0.4620628 ],\n",
              "       [0.4616163 ],\n",
              "       [0.58784384],\n",
              "       [0.3799095 ],\n",
              "       [0.16510071],\n",
              "       [0.15981133],\n",
              "       [0.18629295],\n",
              "       [0.36714056],\n",
              "       [0.4722326 ],\n",
              "       [0.38292915],\n",
              "       [0.33579922],\n",
              "       [0.38481063],\n",
              "       [0.4247585 ],\n",
              "       [0.5443962 ],\n",
              "       [0.1693152 ],\n",
              "       [0.4346502 ],\n",
              "       [0.4091674 ],\n",
              "       [0.08488107],\n",
              "       [0.31218657],\n",
              "       [0.43090212],\n",
              "       [0.40509507],\n",
              "       [0.48747692],\n",
              "       [0.49604723],\n",
              "       [0.34860954],\n",
              "       [0.11960397],\n",
              "       [0.5224903 ],\n",
              "       [0.22984543],\n",
              "       [0.41326213],\n",
              "       [0.47486952],\n",
              "       [0.30135715],\n",
              "       [0.29005355],\n",
              "       [0.43668315],\n",
              "       [0.5576203 ],\n",
              "       [0.24736744],\n",
              "       [0.4314543 ],\n",
              "       [0.09765608],\n",
              "       [0.6666024 ],\n",
              "       [0.51066947],\n",
              "       [0.13604906],\n",
              "       [0.35337994],\n",
              "       [0.580438  ],\n",
              "       [0.24752797],\n",
              "       [0.1338461 ],\n",
              "       [0.26797113],\n",
              "       [0.24687956],\n",
              "       [0.2910091 ],\n",
              "       [0.24287064],\n",
              "       [0.38659412],\n",
              "       [0.30350918],\n",
              "       [0.27385047],\n",
              "       [0.5029983 ],\n",
              "       [0.49804112],\n",
              "       [0.20392428],\n",
              "       [0.37035358],\n",
              "       [0.28904817],\n",
              "       [0.17408715],\n",
              "       [0.2092563 ],\n",
              "       [0.36628327],\n",
              "       [0.19006711],\n",
              "       [0.42882913],\n",
              "       [0.26947507],\n",
              "       [0.38582638],\n",
              "       [0.32490999],\n",
              "       [0.38558975],\n",
              "       [0.43837515],\n",
              "       [0.34554324],\n",
              "       [0.63575447],\n",
              "       [0.24611181],\n",
              "       [0.20414898],\n",
              "       [0.4606478 ],\n",
              "       [0.4696139 ],\n",
              "       [0.28682458],\n",
              "       [0.42368942],\n",
              "       [0.1668846 ],\n",
              "       [0.36803588],\n",
              "       [0.11661978],\n",
              "       [0.5229025 ],\n",
              "       [0.17788576],\n",
              "       [0.1419455 ],\n",
              "       [0.43587062],\n",
              "       [0.46513453],\n",
              "       [0.2939131 ],\n",
              "       [0.22701049],\n",
              "       [0.3946203 ],\n",
              "       [0.17651714],\n",
              "       [0.18134326],\n",
              "       [0.31780824],\n",
              "       [0.24687956],\n",
              "       [0.5333051 ],\n",
              "       [0.10185656],\n",
              "       [0.470769  ],\n",
              "       [0.28230646],\n",
              "       [0.2374296 ],\n",
              "       [0.27169806],\n",
              "       [0.49195072],\n",
              "       [0.46929854],\n",
              "       [0.25928867],\n",
              "       [0.34498957],\n",
              "       [0.3217515 ],\n",
              "       [0.42231607],\n",
              "       [0.27139804],\n",
              "       [0.5086443 ],\n",
              "       [0.20201373],\n",
              "       [0.20111558],\n",
              "       [0.2962983 ],\n",
              "       [0.39283398],\n",
              "       [0.07471129],\n",
              "       [0.23159331],\n",
              "       [0.23143572],\n",
              "       [0.33351803],\n",
              "       [0.3856207 ],\n",
              "       [0.1911795 ],\n",
              "       [0.22898027],\n",
              "       [0.3363765 ],\n",
              "       [0.54957634],\n",
              "       [0.29142147],\n",
              "       [0.5500892 ],\n",
              "       [0.35702053],\n",
              "       [0.24687956],\n",
              "       [0.2515013 ],\n",
              "       [0.4080649 ],\n",
              "       [0.30013818],\n",
              "       [0.4078236 ],\n",
              "       [0.5193404 ],\n",
              "       [0.15861587],\n",
              "       [0.53263295],\n",
              "       [0.31139028],\n",
              "       [0.43398118],\n",
              "       [0.1062401 ],\n",
              "       [0.13959491],\n",
              "       [0.28385344],\n",
              "       [0.16736321],\n",
              "       [0.36571622],\n",
              "       [0.22133273],\n",
              "       [0.31471735],\n",
              "       [0.42011094],\n",
              "       [0.5086443 ],\n",
              "       [0.41425642],\n",
              "       [0.04175914],\n",
              "       [0.23001195],\n",
              "       [0.64524674],\n",
              "       [0.6060117 ],\n",
              "       [0.5220202 ],\n",
              "       [0.3817608 ],\n",
              "       [0.4149417 ],\n",
              "       [0.23518619],\n",
              "       [0.46076882],\n",
              "       [0.59062624],\n",
              "       [0.09913344],\n",
              "       [0.06625598],\n",
              "       [0.20832548],\n",
              "       [0.4968674 ],\n",
              "       [0.39840332],\n",
              "       [0.363367  ],\n",
              "       [0.56687814],\n",
              "       [0.5435235 ],\n",
              "       [0.26455915],\n",
              "       [0.527418  ],\n",
              "       [0.4468837 ],\n",
              "       [0.5193001 ],\n",
              "       [0.6194518 ],\n",
              "       [0.1277817 ],\n",
              "       [0.39816436],\n",
              "       [0.19119385],\n",
              "       [0.348413  ],\n",
              "       [0.28786388],\n",
              "       [0.31497812],\n",
              "       [0.20024526],\n",
              "       [0.355394  ],\n",
              "       [0.1425094 ],\n",
              "       [0.38398656],\n",
              "       [0.39952677],\n",
              "       [0.29014707],\n",
              "       [0.18990406],\n",
              "       [0.4080649 ],\n",
              "       [0.5086982 ],\n",
              "       [0.60288274],\n",
              "       [0.24575278],\n",
              "       [0.5407893 ],\n",
              "       [0.5037138 ],\n",
              "       [0.16422388],\n",
              "       [0.27464044],\n",
              "       [0.4665966 ],\n",
              "       [0.29764032],\n",
              "       [0.17499138],\n",
              "       [0.39654246],\n",
              "       [0.28169712],\n",
              "       [0.34864834],\n",
              "       [0.5127239 ],\n",
              "       [0.59900445],\n",
              "       [0.40521345],\n",
              "       [0.68404955],\n",
              "       [0.42071548],\n",
              "       [0.37151054],\n",
              "       [0.24783869],\n",
              "       [0.4003499 ],\n",
              "       [0.48198286],\n",
              "       [0.420488  ],\n",
              "       [0.18514515],\n",
              "       [0.37927657],\n",
              "       [0.37835777],\n",
              "       [0.50182146],\n",
              "       [0.52336824],\n",
              "       [0.4379007 ],\n",
              "       [0.32773983],\n",
              "       [0.74136   ],\n",
              "       [0.23531266],\n",
              "       [0.231724  ],\n",
              "       [0.6057312 ],\n",
              "       [0.3640545 ],\n",
              "       [0.29529703],\n",
              "       [0.26818576],\n",
              "       [0.46983442],\n",
              "       [0.3640545 ],\n",
              "       [0.57989174],\n",
              "       [0.23056866],\n",
              "       [0.2577805 ],\n",
              "       [0.5218039 ],\n",
              "       [0.19971581],\n",
              "       [0.4793079 ],\n",
              "       [0.43285692],\n",
              "       [0.248055  ],\n",
              "       [0.24070026],\n",
              "       [0.4080649 ],\n",
              "       [0.11832546],\n",
              "       [0.27280757],\n",
              "       [0.5219369 ],\n",
              "       [0.54924107],\n",
              "       [0.4857308 ],\n",
              "       [0.3033161 ],\n",
              "       [0.3733172 ],\n",
              "       [0.38922206],\n",
              "       [0.4819087 ],\n",
              "       [0.32220697],\n",
              "       [0.43248397],\n",
              "       [0.14230399],\n",
              "       [0.42143348],\n",
              "       [0.5701942 ],\n",
              "       [0.37864468],\n",
              "       [0.18071204],\n",
              "       [0.55237013],\n",
              "       [0.28701755],\n",
              "       [0.21210027],\n",
              "       [0.09806078],\n",
              "       [0.6686249 ],\n",
              "       [0.19122162],\n",
              "       [0.23001195],\n",
              "       [0.2868353 ],\n",
              "       [0.27610272],\n",
              "       [0.28155324],\n",
              "       [0.2541418 ],\n",
              "       [0.37081593],\n",
              "       [0.23001195],\n",
              "       [0.65958804],\n",
              "       [0.30758065],\n",
              "       [0.49516335],\n",
              "       [0.77656025],\n",
              "       [0.2963123 ],\n",
              "       [0.24197876],\n",
              "       [0.4606478 ],\n",
              "       [0.42009246],\n",
              "       [0.09591613],\n",
              "       [0.59179306],\n",
              "       [0.5356032 ],\n",
              "       [0.45360073],\n",
              "       [0.5847738 ],\n",
              "       [0.37251443],\n",
              "       [0.37505394],\n",
              "       [0.45809868],\n",
              "       [0.12605108],\n",
              "       [0.17276607],\n",
              "       [0.34578818],\n",
              "       [0.28009236],\n",
              "       [0.24694774],\n",
              "       [0.22343065],\n",
              "       [0.0866091 ],\n",
              "       [0.24106343],\n",
              "       [0.1333026 ],\n",
              "       [0.23576105],\n",
              "       [0.24687956],\n",
              "       [0.35743293],\n",
              "       [0.283029  ],\n",
              "       [0.5109039 ],\n",
              "       [0.4743694 ],\n",
              "       [0.5202604 ],\n",
              "       [0.6719882 ],\n",
              "       [0.4357006 ],\n",
              "       [0.34378415],\n",
              "       [0.40176594],\n",
              "       [0.3761329 ],\n",
              "       [0.3758403 ],\n",
              "       [0.18302457],\n",
              "       [0.3864804 ],\n",
              "       [0.24687956],\n",
              "       [0.29275456],\n",
              "       [0.3463241 ],\n",
              "       [0.24602343],\n",
              "       [0.1421735 ],\n",
              "       [0.37814158],\n",
              "       [0.5371369 ],\n",
              "       [0.40697634],\n",
              "       [0.38302982],\n",
              "       [0.20095913],\n",
              "       [0.39388973],\n",
              "       [0.4424026 ],\n",
              "       [0.26698032],\n",
              "       [0.42176598],\n",
              "       [0.38284644],\n",
              "       [0.45803446],\n",
              "       [0.35378963],\n",
              "       [0.47088113],\n",
              "       [0.13356732],\n",
              "       [0.2455813 ],\n",
              "       [0.38410178],\n",
              "       [0.26455915],\n",
              "       [0.40176594],\n",
              "       [0.37779132],\n",
              "       [0.19327049],\n",
              "       [0.21885128],\n",
              "       [0.35229182],\n",
              "       [0.3132103 ],\n",
              "       [0.23263092],\n",
              "       [0.44558093],\n",
              "       [0.50182104],\n",
              "       [0.20875356],\n",
              "       [0.32394937],\n",
              "       [0.21554102],\n",
              "       [0.29968244],\n",
              "       [0.4728391 ],\n",
              "       [0.36810234],\n",
              "       [0.27293795],\n",
              "       [0.43791625],\n",
              "       [0.38603505],\n",
              "       [0.43687522],\n",
              "       [0.52541196],\n",
              "       [0.6037078 ],\n",
              "       [0.12803523],\n",
              "       [0.34828076],\n",
              "       [0.0724609 ],\n",
              "       [0.5078428 ],\n",
              "       [0.47796178],\n",
              "       [0.69739765],\n",
              "       [0.28265592],\n",
              "       [0.41127223],\n",
              "       [0.24687956],\n",
              "       [0.54434747],\n",
              "       [0.30051437],\n",
              "       [0.21194975],\n",
              "       [0.55135316],\n",
              "       [0.25428432],\n",
              "       [0.2235918 ],\n",
              "       [0.5764236 ],\n",
              "       [0.23938446],\n",
              "       [0.08332048],\n",
              "       [0.34282538],\n",
              "       [0.12867732],\n",
              "       [0.28191298],\n",
              "       [0.5203942 ],\n",
              "       [0.3623698 ],\n",
              "       [0.579295  ],\n",
              "       [0.3159943 ],\n",
              "       [0.3117175 ],\n",
              "       [0.162453  ],\n",
              "       [0.34282538],\n",
              "       [0.37428147],\n",
              "       [0.39658132],\n",
              "       [0.15416013],\n",
              "       [0.4009443 ],\n",
              "       [0.5289301 ],\n",
              "       [0.36565492],\n",
              "       [0.47332343],\n",
              "       [0.38582638],\n",
              "       [0.15450814],\n",
              "       [0.27726874],\n",
              "       [0.37056804],\n",
              "       [0.17428726],\n",
              "       [0.25411844],\n",
              "       [0.2947149 ],\n",
              "       [0.27300212],\n",
              "       [0.41422066],\n",
              "       [0.5057483 ],\n",
              "       [0.3118651 ],\n",
              "       [0.24465816],\n",
              "       [0.23001195],\n",
              "       [0.29276562],\n",
              "       [0.21861327],\n",
              "       [0.37393066],\n",
              "       [0.5161176 ],\n",
              "       [0.29318798],\n",
              "       [0.35946897],\n",
              "       [0.1792187 ],\n",
              "       [0.31555104],\n",
              "       [0.35619327],\n",
              "       [0.11484498],\n",
              "       [0.51956624],\n",
              "       [0.28119233],\n",
              "       [0.20730977],\n",
              "       [0.21918628],\n",
              "       [0.2959263 ],\n",
              "       [0.4530766 ],\n",
              "       [0.30374613],\n",
              "       [0.4080649 ],\n",
              "       [0.17752507],\n",
              "       [0.4968656 ],\n",
              "       [0.36247957],\n",
              "       [0.62362844],\n",
              "       [0.32220697],\n",
              "       [0.27055904],\n",
              "       [0.2849544 ],\n",
              "       [0.28464845],\n",
              "       [0.5513431 ],\n",
              "       [0.36610526],\n",
              "       [0.5293861 ],\n",
              "       [0.3139636 ],\n",
              "       [0.53758115],\n",
              "       [0.2270997 ],\n",
              "       [0.16166164],\n",
              "       [0.283029  ],\n",
              "       [0.1347122 ],\n",
              "       [0.5261969 ],\n",
              "       [0.3022583 ],\n",
              "       [0.16715652],\n",
              "       [0.58726734],\n",
              "       [0.2791053 ],\n",
              "       [0.26455915],\n",
              "       [0.45360073],\n",
              "       [0.2539591 ],\n",
              "       [0.48683414],\n",
              "       [0.5220202 ],\n",
              "       [0.32728457],\n",
              "       [0.14916436],\n",
              "       [0.45333672],\n",
              "       [0.41377687],\n",
              "       [0.41834772],\n",
              "       [0.41377687],\n",
              "       [0.47671354],\n",
              "       [0.40189254],\n",
              "       [0.21038634],\n",
              "       [0.45097375],\n",
              "       [0.50905263],\n",
              "       [0.47172832],\n",
              "       [0.30857137],\n",
              "       [0.23759648],\n",
              "       [0.22240591],\n",
              "       [0.23805292],\n",
              "       [0.08193509],\n",
              "       [0.3196494 ],\n",
              "       [0.14608191],\n",
              "       [0.13884033],\n",
              "       [0.46842393],\n",
              "       [0.06531446],\n",
              "       [0.20458359],\n",
              "       [0.25356942],\n",
              "       [0.35544002],\n",
              "       [0.07596813],\n",
              "       [0.44468278],\n",
              "       [0.20790687],\n",
              "       [0.5588853 ],\n",
              "       [0.12720902],\n",
              "       [0.155021  ],\n",
              "       [0.34282538],\n",
              "       [0.463682  ],\n",
              "       [0.2639466 ],\n",
              "       [0.4214821 ],\n",
              "       [0.16982226],\n",
              "       [0.6274042 ],\n",
              "       [0.35544002],\n",
              "       [0.3829516 ],\n",
              "       [0.6591931 ],\n",
              "       [0.38582638],\n",
              "       [0.5032506 ],\n",
              "       [0.7320206 ],\n",
              "       [0.6047856 ],\n",
              "       [0.391008  ],\n",
              "       [0.279888  ],\n",
              "       [0.2539069 ],\n",
              "       [0.3640545 ],\n",
              "       [0.48452482],\n",
              "       [0.25996986],\n",
              "       [0.39078483],\n",
              "       [0.42211464],\n",
              "       [0.46213743],\n",
              "       [0.33892927],\n",
              "       [0.3291144 ],\n",
              "       [0.22217892],\n",
              "       [0.20674017],\n",
              "       [0.11743453],\n",
              "       [0.12691608],\n",
              "       [0.24760623],\n",
              "       [0.5089684 ],\n",
              "       [0.1712227 ],\n",
              "       [0.37777892],\n",
              "       [0.38768157],\n",
              "       [0.15790813],\n",
              "       [0.23396565],\n",
              "       [0.18111946],\n",
              "       [0.49155873],\n",
              "       [0.40107647],\n",
              "       [0.21747078]], dtype=float32)"
            ]
          },
          "metadata": {},
          "execution_count": 32
        }
      ]
    },
    {
      "cell_type": "code",
      "source": [
        "model_1_predict_probs.shape"
      ],
      "metadata": {
        "colab": {
          "base_uri": "https://localhost:8080/"
        },
        "id": "SIpsqs38-LnF",
        "outputId": "d2220ebf-ffde-4f77-c5f4-02311c1fce4b"
      },
      "id": "SIpsqs38-LnF",
      "execution_count": 33,
      "outputs": [
        {
          "output_type": "execute_result",
          "data": {
            "text/plain": [
              "(762, 1)"
            ]
          },
          "metadata": {},
          "execution_count": 33
        }
      ]
    },
    {
      "cell_type": "code",
      "source": [
        "model_1_predict_probs[0]"
      ],
      "metadata": {
        "colab": {
          "base_uri": "https://localhost:8080/"
        },
        "id": "ckUJXAR3-VrR",
        "outputId": "34009d7c-ba11-4f63-cdbf-cdafad886676"
      },
      "id": "ckUJXAR3-VrR",
      "execution_count": 34,
      "outputs": [
        {
          "output_type": "execute_result",
          "data": {
            "text/plain": [
              "array([0.41432133], dtype=float32)"
            ]
          },
          "metadata": {},
          "execution_count": 34
        }
      ]
    },
    {
      "cell_type": "code",
      "source": [
        "# Make the preictions comaparable with the actaul labels\n",
        "model_1_predict_probs=tf.squeeze(tf.round(model_1_predict_probs))\n",
        "model_1_predict_probs[:10]"
      ],
      "metadata": {
        "colab": {
          "base_uri": "https://localhost:8080/"
        },
        "id": "0yAY1ua--ZZL",
        "outputId": "652c0767-61bc-47e1-b5af-e98d57cae544"
      },
      "id": "0yAY1ua--ZZL",
      "execution_count": 35,
      "outputs": [
        {
          "output_type": "execute_result",
          "data": {
            "text/plain": [
              "<tf.Tensor: shape=(10,), dtype=float32, numpy=array([0., 1., 1., 0., 0., 1., 1., 1., 1., 0.], dtype=float32)>"
            ]
          },
          "metadata": {},
          "execution_count": 35
        }
      ]
    },
    {
      "cell_type": "code",
      "source": [
        "val_labels[:10]"
      ],
      "metadata": {
        "colab": {
          "base_uri": "https://localhost:8080/"
        },
        "id": "vsFl7Hi7-vsm",
        "outputId": "2cd7a672-0286-41c5-d5fc-8629f71d40ad"
      },
      "id": "vsFl7Hi7-vsm",
      "execution_count": 36,
      "outputs": [
        {
          "output_type": "execute_result",
          "data": {
            "text/plain": [
              "array([0, 0, 1, 1, 1, 1, 1, 1, 1, 0])"
            ]
          },
          "metadata": {},
          "execution_count": 36
        }
      ]
    },
    {
      "cell_type": "markdown",
      "source": [
        "# ***Calculate Model Results***"
      ],
      "metadata": {
        "id": "wpNBirEp-5TE"
      },
      "id": "wpNBirEp-5TE"
    },
    {
      "cell_type": "code",
      "source": [
        "model_1_results=calculate_results(y_true=val_labels,y_pred=model_1_predict_probs)\n",
        "model_1_results"
      ],
      "metadata": {
        "colab": {
          "base_uri": "https://localhost:8080/"
        },
        "id": "6WC9okhM-0c5",
        "outputId": "ebb19cc3-e1ba-4288-88ed-49011f522484"
      },
      "id": "6WC9okhM-0c5",
      "execution_count": 37,
      "outputs": [
        {
          "output_type": "execute_result",
          "data": {
            "text/plain": [
              "{'accuracy': 0.6338582677165354,\n",
              " 'precsion': 0.6800743922219686,\n",
              " 'recall': 0.6338582677165354,\n",
              " 'f1_score': 0.5880996237312797}"
            ]
          },
          "metadata": {},
          "execution_count": 37
        }
      ]
    },
    {
      "cell_type": "code",
      "source": [
        "import numpy as np\n",
        "np.array(list(model_1_results.values()))>np.array(list(baseline_results.values()))"
      ],
      "metadata": {
        "colab": {
          "base_uri": "https://localhost:8080/"
        },
        "id": "5cJG9MXi_hKE",
        "outputId": "137aa65e-3398-4e24-e727-de78794f0af1"
      },
      "id": "5cJG9MXi_hKE",
      "execution_count": 38,
      "outputs": [
        {
          "output_type": "execute_result",
          "data": {
            "text/plain": [
              "array([False, False, False, False])"
            ]
          },
          "metadata": {},
          "execution_count": 38
        }
      ]
    },
    {
      "cell_type": "markdown",
      "source": [
        "# ***Lets Visualize the embedding that Model learned using Tensorflow Projector***"
      ],
      "metadata": {
        "id": "ZRDepOumAhni"
      },
      "id": "ZRDepOumAhni"
    },
    {
      "cell_type": "code",
      "source": [
        "words_in_vocab=text_vectorizer.get_vocabulary()\n",
        "len(words_in_vocab),words_in_vocab[:10]"
      ],
      "metadata": {
        "colab": {
          "base_uri": "https://localhost:8080/"
        },
        "id": "nGwG30ydAnSs",
        "outputId": "c25ce24a-8983-415e-fffc-254a7ffcc311"
      },
      "id": "nGwG30ydAnSs",
      "execution_count": 39,
      "outputs": [
        {
          "output_type": "execute_result",
          "data": {
            "text/plain": [
              "(100,\n",
              " ['',\n",
              "  '[UNK]',\n",
              "  np.str_('the'),\n",
              "  np.str_('a'),\n",
              "  np.str_('in'),\n",
              "  np.str_('to'),\n",
              "  np.str_('of'),\n",
              "  np.str_('and'),\n",
              "  np.str_('i'),\n",
              "  np.str_('is')])"
            ]
          },
          "metadata": {},
          "execution_count": 39
        }
      ]
    },
    {
      "cell_type": "code",
      "source": [
        "model_1.summary()"
      ],
      "metadata": {
        "colab": {
          "base_uri": "https://localhost:8080/",
          "height": 340
        },
        "id": "WCKbAK7zA28L",
        "outputId": "4ec297f3-5b56-473a-e5d8-bcf125170478"
      },
      "id": "WCKbAK7zA28L",
      "execution_count": 40,
      "outputs": [
        {
          "output_type": "display_data",
          "data": {
            "text/plain": [
              "\u001b[1mModel: \"model_1_Dense\"\u001b[0m\n"
            ],
            "text/html": [
              "<pre style=\"white-space:pre;overflow-x:auto;line-height:normal;font-family:Menlo,'DejaVu Sans Mono',consolas,'Courier New',monospace\"><span style=\"font-weight: bold\">Model: \"model_1_Dense\"</span>\n",
              "</pre>\n"
            ]
          },
          "metadata": {}
        },
        {
          "output_type": "display_data",
          "data": {
            "text/plain": [
              "┏━━━━━━━━━━━━━━━━━━━━━━━━━━━━━━━━━┳━━━━━━━━━━━━━━━━━━━━━━━━┳━━━━━━━━━━━━━━━┓\n",
              "┃\u001b[1m \u001b[0m\u001b[1mLayer (type)                   \u001b[0m\u001b[1m \u001b[0m┃\u001b[1m \u001b[0m\u001b[1mOutput Shape          \u001b[0m\u001b[1m \u001b[0m┃\u001b[1m \u001b[0m\u001b[1m      Param #\u001b[0m\u001b[1m \u001b[0m┃\n",
              "┡━━━━━━━━━━━━━━━━━━━━━━━━━━━━━━━━━╇━━━━━━━━━━━━━━━━━━━━━━━━╇━━━━━━━━━━━━━━━┩\n",
              "│ input_layer (\u001b[38;5;33mInputLayer\u001b[0m)        │ (\u001b[38;5;45mNone\u001b[0m, \u001b[38;5;34m1\u001b[0m)              │             \u001b[38;5;34m0\u001b[0m │\n",
              "├─────────────────────────────────┼────────────────────────┼───────────────┤\n",
              "│ text_vectorization_1            │ (\u001b[38;5;45mNone\u001b[0m, \u001b[38;5;34m100\u001b[0m)            │             \u001b[38;5;34m0\u001b[0m │\n",
              "│ (\u001b[38;5;33mTextVectorization\u001b[0m)             │                        │               │\n",
              "├─────────────────────────────────┼────────────────────────┼───────────────┤\n",
              "│ embedding (\u001b[38;5;33mEmbedding\u001b[0m)           │ (\u001b[38;5;45mNone\u001b[0m, \u001b[38;5;34m100\u001b[0m, \u001b[38;5;34m128\u001b[0m)       │        \u001b[38;5;34m12,800\u001b[0m │\n",
              "├─────────────────────────────────┼────────────────────────┼───────────────┤\n",
              "│ global_average_pooling1d        │ (\u001b[38;5;45mNone\u001b[0m, \u001b[38;5;34m128\u001b[0m)            │             \u001b[38;5;34m0\u001b[0m │\n",
              "│ (\u001b[38;5;33mGlobalAveragePooling1D\u001b[0m)        │                        │               │\n",
              "├─────────────────────────────────┼────────────────────────┼───────────────┤\n",
              "│ dense (\u001b[38;5;33mDense\u001b[0m)                   │ (\u001b[38;5;45mNone\u001b[0m, \u001b[38;5;34m1\u001b[0m)              │           \u001b[38;5;34m129\u001b[0m │\n",
              "└─────────────────────────────────┴────────────────────────┴───────────────┘\n"
            ],
            "text/html": [
              "<pre style=\"white-space:pre;overflow-x:auto;line-height:normal;font-family:Menlo,'DejaVu Sans Mono',consolas,'Courier New',monospace\">┏━━━━━━━━━━━━━━━━━━━━━━━━━━━━━━━━━┳━━━━━━━━━━━━━━━━━━━━━━━━┳━━━━━━━━━━━━━━━┓\n",
              "┃<span style=\"font-weight: bold\"> Layer (type)                    </span>┃<span style=\"font-weight: bold\"> Output Shape           </span>┃<span style=\"font-weight: bold\">       Param # </span>┃\n",
              "┡━━━━━━━━━━━━━━━━━━━━━━━━━━━━━━━━━╇━━━━━━━━━━━━━━━━━━━━━━━━╇━━━━━━━━━━━━━━━┩\n",
              "│ input_layer (<span style=\"color: #0087ff; text-decoration-color: #0087ff\">InputLayer</span>)        │ (<span style=\"color: #00d7ff; text-decoration-color: #00d7ff\">None</span>, <span style=\"color: #00af00; text-decoration-color: #00af00\">1</span>)              │             <span style=\"color: #00af00; text-decoration-color: #00af00\">0</span> │\n",
              "├─────────────────────────────────┼────────────────────────┼───────────────┤\n",
              "│ text_vectorization_1            │ (<span style=\"color: #00d7ff; text-decoration-color: #00d7ff\">None</span>, <span style=\"color: #00af00; text-decoration-color: #00af00\">100</span>)            │             <span style=\"color: #00af00; text-decoration-color: #00af00\">0</span> │\n",
              "│ (<span style=\"color: #0087ff; text-decoration-color: #0087ff\">TextVectorization</span>)             │                        │               │\n",
              "├─────────────────────────────────┼────────────────────────┼───────────────┤\n",
              "│ embedding (<span style=\"color: #0087ff; text-decoration-color: #0087ff\">Embedding</span>)           │ (<span style=\"color: #00d7ff; text-decoration-color: #00d7ff\">None</span>, <span style=\"color: #00af00; text-decoration-color: #00af00\">100</span>, <span style=\"color: #00af00; text-decoration-color: #00af00\">128</span>)       │        <span style=\"color: #00af00; text-decoration-color: #00af00\">12,800</span> │\n",
              "├─────────────────────────────────┼────────────────────────┼───────────────┤\n",
              "│ global_average_pooling1d        │ (<span style=\"color: #00d7ff; text-decoration-color: #00d7ff\">None</span>, <span style=\"color: #00af00; text-decoration-color: #00af00\">128</span>)            │             <span style=\"color: #00af00; text-decoration-color: #00af00\">0</span> │\n",
              "│ (<span style=\"color: #0087ff; text-decoration-color: #0087ff\">GlobalAveragePooling1D</span>)        │                        │               │\n",
              "├─────────────────────────────────┼────────────────────────┼───────────────┤\n",
              "│ dense (<span style=\"color: #0087ff; text-decoration-color: #0087ff\">Dense</span>)                   │ (<span style=\"color: #00d7ff; text-decoration-color: #00d7ff\">None</span>, <span style=\"color: #00af00; text-decoration-color: #00af00\">1</span>)              │           <span style=\"color: #00af00; text-decoration-color: #00af00\">129</span> │\n",
              "└─────────────────────────────────┴────────────────────────┴───────────────┘\n",
              "</pre>\n"
            ]
          },
          "metadata": {}
        },
        {
          "output_type": "display_data",
          "data": {
            "text/plain": [
              "\u001b[1m Total params: \u001b[0m\u001b[38;5;34m38,789\u001b[0m (151.52 KB)\n"
            ],
            "text/html": [
              "<pre style=\"white-space:pre;overflow-x:auto;line-height:normal;font-family:Menlo,'DejaVu Sans Mono',consolas,'Courier New',monospace\"><span style=\"font-weight: bold\"> Total params: </span><span style=\"color: #00af00; text-decoration-color: #00af00\">38,789</span> (151.52 KB)\n",
              "</pre>\n"
            ]
          },
          "metadata": {}
        },
        {
          "output_type": "display_data",
          "data": {
            "text/plain": [
              "\u001b[1m Trainable params: \u001b[0m\u001b[38;5;34m12,929\u001b[0m (50.50 KB)\n"
            ],
            "text/html": [
              "<pre style=\"white-space:pre;overflow-x:auto;line-height:normal;font-family:Menlo,'DejaVu Sans Mono',consolas,'Courier New',monospace\"><span style=\"font-weight: bold\"> Trainable params: </span><span style=\"color: #00af00; text-decoration-color: #00af00\">12,929</span> (50.50 KB)\n",
              "</pre>\n"
            ]
          },
          "metadata": {}
        },
        {
          "output_type": "display_data",
          "data": {
            "text/plain": [
              "\u001b[1m Non-trainable params: \u001b[0m\u001b[38;5;34m0\u001b[0m (0.00 B)\n"
            ],
            "text/html": [
              "<pre style=\"white-space:pre;overflow-x:auto;line-height:normal;font-family:Menlo,'DejaVu Sans Mono',consolas,'Courier New',monospace\"><span style=\"font-weight: bold\"> Non-trainable params: </span><span style=\"color: #00af00; text-decoration-color: #00af00\">0</span> (0.00 B)\n",
              "</pre>\n"
            ]
          },
          "metadata": {}
        },
        {
          "output_type": "display_data",
          "data": {
            "text/plain": [
              "\u001b[1m Optimizer params: \u001b[0m\u001b[38;5;34m25,860\u001b[0m (101.02 KB)\n"
            ],
            "text/html": [
              "<pre style=\"white-space:pre;overflow-x:auto;line-height:normal;font-family:Menlo,'DejaVu Sans Mono',consolas,'Courier New',monospace\"><span style=\"font-weight: bold\"> Optimizer params: </span><span style=\"color: #00af00; text-decoration-color: #00af00\">25,860</span> (101.02 KB)\n",
              "</pre>\n"
            ]
          },
          "metadata": {}
        }
      ]
    },
    {
      "cell_type": "code",
      "source": [
        "embed_weights=model_1.get_layer('embedding').get_weights()[0]\n",
        "embed_weights,print(embed_weights.shape)"
      ],
      "metadata": {
        "colab": {
          "base_uri": "https://localhost:8080/"
        },
        "id": "nuYMmO_iA7HX",
        "outputId": "9c9c908b-9f09-4efb-bbab-9ae43b58703a"
      },
      "id": "nuYMmO_iA7HX",
      "execution_count": 41,
      "outputs": [
        {
          "output_type": "stream",
          "name": "stdout",
          "text": [
            "(100, 128)\n"
          ]
        },
        {
          "output_type": "execute_result",
          "data": {
            "text/plain": [
              "(array([[-0.0474328 , -0.01829541,  0.02090177, ..., -0.03636983,\n",
              "          0.0151578 , -0.06661812],\n",
              "        [ 0.21566932,  0.143458  , -0.1559395 , ...,  0.1385901 ,\n",
              "         -0.10536648,  0.16851062],\n",
              "        [-0.15702176, -0.18805403,  0.21020553, ..., -0.17485799,\n",
              "          0.21768025, -0.18193826],\n",
              "        ...,\n",
              "        [ 0.05051449,  0.05950725, -0.06682415, ...,  0.02703283,\n",
              "         -0.0593372 , -0.00679595],\n",
              "        [-0.33486792, -0.4179492 ,  0.39716566, ..., -0.3620644 ,\n",
              "          0.35633844, -0.27178305],\n",
              "        [-0.24780518, -0.27161008,  0.33804557, ..., -0.29235393,\n",
              "          0.32291746, -0.28521264]], dtype=float32),\n",
              " None)"
            ]
          },
          "metadata": {},
          "execution_count": 41
        }
      ]
    },
    {
      "cell_type": "markdown",
      "source": [
        "Write the weights to disk. To use the Embedding Projector, you will upload two files in tab separated format: a file of vectors (containing the embedding), and a file of meta data (containing the words).  This code is from the tensorflow documentation Here[https://www.tensorflow.org/text/guide/word_embeddings]"
      ],
      "metadata": {
        "id": "U_POLZP5CBzy"
      },
      "id": "U_POLZP5CBzy"
    },
    {
      "cell_type": "code",
      "source": [
        "import io\n",
        "out_v = io.open('vectors.tsv', 'w', encoding='utf-8')\n",
        "out_m = io.open('metadata.tsv', 'w', encoding='utf-8')\n",
        "\n",
        "for index, word in enumerate(words_in_vocab):\n",
        "  if index == 0:\n",
        "    continue  # skip 0, it's padding.\n",
        "  vec = embed_weights[index]\n",
        "  out_v.write('\\t'.join([str(x) for x in vec]) + \"\\n\")\n",
        "  out_m.write(word + \"\\n\")\n",
        "out_v.close()\n",
        "out_m.close()"
      ],
      "metadata": {
        "id": "4J565xUdB8gL"
      },
      "id": "4J565xUdB8gL",
      "execution_count": 42,
      "outputs": []
    },
    {
      "cell_type": "code",
      "source": [
        "# After this download step use projector tensorflow to visualzize it\n",
        "\"\"\"\n",
        "try:\n",
        "  from google.colab import files\n",
        "  files.download('vectors.tsv')\n",
        "  files.download('metadata.tsv')\n",
        "except Exception:\n",
        "  pass\n",
        "\"\"\"\n"
      ],
      "metadata": {
        "id": "QiGrdgdUB9aK",
        "outputId": "f1a9ea87-7401-4053-8e0d-6f749137636a",
        "colab": {
          "base_uri": "https://localhost:8080/",
          "height": 35
        }
      },
      "id": "QiGrdgdUB9aK",
      "execution_count": 43,
      "outputs": [
        {
          "output_type": "execute_result",
          "data": {
            "text/plain": [
              "\"\\ntry:\\n  from google.colab import files\\n  files.download('vectors.tsv')\\n  files.download('metadata.tsv')\\nexcept Exception:\\n  pass\\n\""
            ],
            "application/vnd.google.colaboratory.intrinsic+json": {
              "type": "string"
            }
          },
          "metadata": {},
          "execution_count": 43
        }
      ]
    },
    {
      "cell_type": "markdown",
      "source": [
        "# ***MODEL2 =  LSTM [LONG SHORT TERM MEMORY]***"
      ],
      "metadata": {
        "id": "s3TiE9k7-qzW"
      },
      "id": "s3TiE9k7-qzW"
    },
    {
      "cell_type": "code",
      "source": [
        "from tensorflow.keras import layers\n"
      ],
      "metadata": {
        "id": "VI9DORkn-5im"
      },
      "id": "VI9DORkn-5im",
      "execution_count": 44,
      "outputs": []
    },
    {
      "cell_type": "code",
      "source": [
        "inputs=layers.Input(shape=(1,),dtype=tf.string)\n",
        "x=text_vectorizer(inputs)\n",
        "x=embedding(x)\n",
        "x=layers.LSTM(64,return_sequences=True)(x)\n",
        "x=layers.LSTM(64)(x)\n",
        "x=layers.Dense(64,activation='relu')(x)\n",
        "outputs=layers.Dense(1,activation='sigmoid')(x)\n",
        "model_2=tf.keras.Model(inputs,outputs)"
      ],
      "metadata": {
        "id": "iA3Mqk0H_GH2"
      },
      "id": "iA3Mqk0H_GH2",
      "execution_count": 45,
      "outputs": []
    },
    {
      "cell_type": "code",
      "source": [
        "model_2.compile(loss='binary_crossentropy',\n",
        "                optimizer=tf.keras.optimizers.Adam(),\n",
        "                metrics=['accuracy'])"
      ],
      "metadata": {
        "id": "E0Mw9dX9Awxk"
      },
      "id": "E0Mw9dX9Awxk",
      "execution_count": 46,
      "outputs": []
    },
    {
      "cell_type": "code",
      "source": [
        "model_2.summary()"
      ],
      "metadata": {
        "colab": {
          "base_uri": "https://localhost:8080/",
          "height": 372
        },
        "id": "bpT9eHEFBeRJ",
        "outputId": "a1e9ca0a-5cda-4e4a-97e8-b6afbcbb0b82"
      },
      "id": "bpT9eHEFBeRJ",
      "execution_count": 47,
      "outputs": [
        {
          "output_type": "display_data",
          "data": {
            "text/plain": [
              "\u001b[1mModel: \"functional\"\u001b[0m\n"
            ],
            "text/html": [
              "<pre style=\"white-space:pre;overflow-x:auto;line-height:normal;font-family:Menlo,'DejaVu Sans Mono',consolas,'Courier New',monospace\"><span style=\"font-weight: bold\">Model: \"functional\"</span>\n",
              "</pre>\n"
            ]
          },
          "metadata": {}
        },
        {
          "output_type": "display_data",
          "data": {
            "text/plain": [
              "┏━━━━━━━━━━━━━━━━━━━━━━━━━━━━━━━━━┳━━━━━━━━━━━━━━━━━━━━━━━━┳━━━━━━━━━━━━━━━┓\n",
              "┃\u001b[1m \u001b[0m\u001b[1mLayer (type)                   \u001b[0m\u001b[1m \u001b[0m┃\u001b[1m \u001b[0m\u001b[1mOutput Shape          \u001b[0m\u001b[1m \u001b[0m┃\u001b[1m \u001b[0m\u001b[1m      Param #\u001b[0m\u001b[1m \u001b[0m┃\n",
              "┡━━━━━━━━━━━━━━━━━━━━━━━━━━━━━━━━━╇━━━━━━━━━━━━━━━━━━━━━━━━╇━━━━━━━━━━━━━━━┩\n",
              "│ input_layer_1 (\u001b[38;5;33mInputLayer\u001b[0m)      │ (\u001b[38;5;45mNone\u001b[0m, \u001b[38;5;34m1\u001b[0m)              │             \u001b[38;5;34m0\u001b[0m │\n",
              "├─────────────────────────────────┼────────────────────────┼───────────────┤\n",
              "│ text_vectorization_1            │ (\u001b[38;5;45mNone\u001b[0m, \u001b[38;5;34m100\u001b[0m)            │             \u001b[38;5;34m0\u001b[0m │\n",
              "│ (\u001b[38;5;33mTextVectorization\u001b[0m)             │                        │               │\n",
              "├─────────────────────────────────┼────────────────────────┼───────────────┤\n",
              "│ embedding (\u001b[38;5;33mEmbedding\u001b[0m)           │ (\u001b[38;5;45mNone\u001b[0m, \u001b[38;5;34m100\u001b[0m, \u001b[38;5;34m128\u001b[0m)       │        \u001b[38;5;34m12,800\u001b[0m │\n",
              "├─────────────────────────────────┼────────────────────────┼───────────────┤\n",
              "│ lstm (\u001b[38;5;33mLSTM\u001b[0m)                     │ (\u001b[38;5;45mNone\u001b[0m, \u001b[38;5;34m100\u001b[0m, \u001b[38;5;34m64\u001b[0m)        │        \u001b[38;5;34m49,408\u001b[0m │\n",
              "├─────────────────────────────────┼────────────────────────┼───────────────┤\n",
              "│ lstm_1 (\u001b[38;5;33mLSTM\u001b[0m)                   │ (\u001b[38;5;45mNone\u001b[0m, \u001b[38;5;34m64\u001b[0m)             │        \u001b[38;5;34m33,024\u001b[0m │\n",
              "├─────────────────────────────────┼────────────────────────┼───────────────┤\n",
              "│ dense_1 (\u001b[38;5;33mDense\u001b[0m)                 │ (\u001b[38;5;45mNone\u001b[0m, \u001b[38;5;34m64\u001b[0m)             │         \u001b[38;5;34m4,160\u001b[0m │\n",
              "├─────────────────────────────────┼────────────────────────┼───────────────┤\n",
              "│ dense_2 (\u001b[38;5;33mDense\u001b[0m)                 │ (\u001b[38;5;45mNone\u001b[0m, \u001b[38;5;34m1\u001b[0m)              │            \u001b[38;5;34m65\u001b[0m │\n",
              "└─────────────────────────────────┴────────────────────────┴───────────────┘\n"
            ],
            "text/html": [
              "<pre style=\"white-space:pre;overflow-x:auto;line-height:normal;font-family:Menlo,'DejaVu Sans Mono',consolas,'Courier New',monospace\">┏━━━━━━━━━━━━━━━━━━━━━━━━━━━━━━━━━┳━━━━━━━━━━━━━━━━━━━━━━━━┳━━━━━━━━━━━━━━━┓\n",
              "┃<span style=\"font-weight: bold\"> Layer (type)                    </span>┃<span style=\"font-weight: bold\"> Output Shape           </span>┃<span style=\"font-weight: bold\">       Param # </span>┃\n",
              "┡━━━━━━━━━━━━━━━━━━━━━━━━━━━━━━━━━╇━━━━━━━━━━━━━━━━━━━━━━━━╇━━━━━━━━━━━━━━━┩\n",
              "│ input_layer_1 (<span style=\"color: #0087ff; text-decoration-color: #0087ff\">InputLayer</span>)      │ (<span style=\"color: #00d7ff; text-decoration-color: #00d7ff\">None</span>, <span style=\"color: #00af00; text-decoration-color: #00af00\">1</span>)              │             <span style=\"color: #00af00; text-decoration-color: #00af00\">0</span> │\n",
              "├─────────────────────────────────┼────────────────────────┼───────────────┤\n",
              "│ text_vectorization_1            │ (<span style=\"color: #00d7ff; text-decoration-color: #00d7ff\">None</span>, <span style=\"color: #00af00; text-decoration-color: #00af00\">100</span>)            │             <span style=\"color: #00af00; text-decoration-color: #00af00\">0</span> │\n",
              "│ (<span style=\"color: #0087ff; text-decoration-color: #0087ff\">TextVectorization</span>)             │                        │               │\n",
              "├─────────────────────────────────┼────────────────────────┼───────────────┤\n",
              "│ embedding (<span style=\"color: #0087ff; text-decoration-color: #0087ff\">Embedding</span>)           │ (<span style=\"color: #00d7ff; text-decoration-color: #00d7ff\">None</span>, <span style=\"color: #00af00; text-decoration-color: #00af00\">100</span>, <span style=\"color: #00af00; text-decoration-color: #00af00\">128</span>)       │        <span style=\"color: #00af00; text-decoration-color: #00af00\">12,800</span> │\n",
              "├─────────────────────────────────┼────────────────────────┼───────────────┤\n",
              "│ lstm (<span style=\"color: #0087ff; text-decoration-color: #0087ff\">LSTM</span>)                     │ (<span style=\"color: #00d7ff; text-decoration-color: #00d7ff\">None</span>, <span style=\"color: #00af00; text-decoration-color: #00af00\">100</span>, <span style=\"color: #00af00; text-decoration-color: #00af00\">64</span>)        │        <span style=\"color: #00af00; text-decoration-color: #00af00\">49,408</span> │\n",
              "├─────────────────────────────────┼────────────────────────┼───────────────┤\n",
              "│ lstm_1 (<span style=\"color: #0087ff; text-decoration-color: #0087ff\">LSTM</span>)                   │ (<span style=\"color: #00d7ff; text-decoration-color: #00d7ff\">None</span>, <span style=\"color: #00af00; text-decoration-color: #00af00\">64</span>)             │        <span style=\"color: #00af00; text-decoration-color: #00af00\">33,024</span> │\n",
              "├─────────────────────────────────┼────────────────────────┼───────────────┤\n",
              "│ dense_1 (<span style=\"color: #0087ff; text-decoration-color: #0087ff\">Dense</span>)                 │ (<span style=\"color: #00d7ff; text-decoration-color: #00d7ff\">None</span>, <span style=\"color: #00af00; text-decoration-color: #00af00\">64</span>)             │         <span style=\"color: #00af00; text-decoration-color: #00af00\">4,160</span> │\n",
              "├─────────────────────────────────┼────────────────────────┼───────────────┤\n",
              "│ dense_2 (<span style=\"color: #0087ff; text-decoration-color: #0087ff\">Dense</span>)                 │ (<span style=\"color: #00d7ff; text-decoration-color: #00d7ff\">None</span>, <span style=\"color: #00af00; text-decoration-color: #00af00\">1</span>)              │            <span style=\"color: #00af00; text-decoration-color: #00af00\">65</span> │\n",
              "└─────────────────────────────────┴────────────────────────┴───────────────┘\n",
              "</pre>\n"
            ]
          },
          "metadata": {}
        },
        {
          "output_type": "display_data",
          "data": {
            "text/plain": [
              "\u001b[1m Total params: \u001b[0m\u001b[38;5;34m99,457\u001b[0m (388.50 KB)\n"
            ],
            "text/html": [
              "<pre style=\"white-space:pre;overflow-x:auto;line-height:normal;font-family:Menlo,'DejaVu Sans Mono',consolas,'Courier New',monospace\"><span style=\"font-weight: bold\"> Total params: </span><span style=\"color: #00af00; text-decoration-color: #00af00\">99,457</span> (388.50 KB)\n",
              "</pre>\n"
            ]
          },
          "metadata": {}
        },
        {
          "output_type": "display_data",
          "data": {
            "text/plain": [
              "\u001b[1m Trainable params: \u001b[0m\u001b[38;5;34m99,457\u001b[0m (388.50 KB)\n"
            ],
            "text/html": [
              "<pre style=\"white-space:pre;overflow-x:auto;line-height:normal;font-family:Menlo,'DejaVu Sans Mono',consolas,'Courier New',monospace\"><span style=\"font-weight: bold\"> Trainable params: </span><span style=\"color: #00af00; text-decoration-color: #00af00\">99,457</span> (388.50 KB)\n",
              "</pre>\n"
            ]
          },
          "metadata": {}
        },
        {
          "output_type": "display_data",
          "data": {
            "text/plain": [
              "\u001b[1m Non-trainable params: \u001b[0m\u001b[38;5;34m0\u001b[0m (0.00 B)\n"
            ],
            "text/html": [
              "<pre style=\"white-space:pre;overflow-x:auto;line-height:normal;font-family:Menlo,'DejaVu Sans Mono',consolas,'Courier New',monospace\"><span style=\"font-weight: bold\"> Non-trainable params: </span><span style=\"color: #00af00; text-decoration-color: #00af00\">0</span> (0.00 B)\n",
              "</pre>\n"
            ]
          },
          "metadata": {}
        }
      ]
    },
    {
      "cell_type": "code",
      "source": [
        "model_2_history=model_2.fit(train_sentances,train_labels,epochs=5,validation_data=(val_sentances,val_labels),callbacks=[create_tensorboard_callback(SAVE_DIR,\"model_2_LSTM\")])"
      ],
      "metadata": {
        "colab": {
          "base_uri": "https://localhost:8080/"
        },
        "id": "Glw6UceeA_mr",
        "outputId": "eae63639-2f75-4ab3-b83e-d88c5e2bb6bd"
      },
      "id": "Glw6UceeA_mr",
      "execution_count": 48,
      "outputs": [
        {
          "output_type": "stream",
          "name": "stdout",
          "text": [
            "Saving TensorBoard log files to: ModelLogs/model_2_LSTM/20251026-071613\n",
            "Epoch 1/5\n",
            "\u001b[1m215/215\u001b[0m \u001b[32m━━━━━━━━━━━━━━━━━━━━\u001b[0m\u001b[37m\u001b[0m \u001b[1m6s\u001b[0m 15ms/step - accuracy: 0.5694 - loss: 0.6849 - val_accuracy: 0.5433 - val_loss: 0.6894\n",
            "Epoch 2/5\n",
            "\u001b[1m215/215\u001b[0m \u001b[32m━━━━━━━━━━━━━━━━━━━━\u001b[0m\u001b[37m\u001b[0m \u001b[1m3s\u001b[0m 13ms/step - accuracy: 0.5765 - loss: 0.6822 - val_accuracy: 0.5433 - val_loss: 0.6899\n",
            "Epoch 3/5\n",
            "\u001b[1m215/215\u001b[0m \u001b[32m━━━━━━━━━━━━━━━━━━━━\u001b[0m\u001b[37m\u001b[0m \u001b[1m3s\u001b[0m 13ms/step - accuracy: 0.5749 - loss: 0.6826 - val_accuracy: 0.5433 - val_loss: 0.6906\n",
            "Epoch 4/5\n",
            "\u001b[1m215/215\u001b[0m \u001b[32m━━━━━━━━━━━━━━━━━━━━\u001b[0m\u001b[37m\u001b[0m \u001b[1m4s\u001b[0m 17ms/step - accuracy: 0.5759 - loss: 0.6820 - val_accuracy: 0.5433 - val_loss: 0.6913\n",
            "Epoch 5/5\n",
            "\u001b[1m215/215\u001b[0m \u001b[32m━━━━━━━━━━━━━━━━━━━━\u001b[0m\u001b[37m\u001b[0m \u001b[1m4s\u001b[0m 14ms/step - accuracy: 0.5829 - loss: 0.6797 - val_accuracy: 0.5433 - val_loss: 0.6903\n"
          ]
        }
      ]
    },
    {
      "cell_type": "code",
      "source": [
        "model_2_pred_probs=model_2.predict(val_sentances)\n",
        "model_2_pred_probs[:10]"
      ],
      "metadata": {
        "colab": {
          "base_uri": "https://localhost:8080/"
        },
        "id": "iSbZa8kWBXAP",
        "outputId": "09af976b-b451-485e-a796-87db8edd0765"
      },
      "id": "iSbZa8kWBXAP",
      "execution_count": 49,
      "outputs": [
        {
          "output_type": "stream",
          "name": "stdout",
          "text": [
            "\u001b[1m24/24\u001b[0m \u001b[32m━━━━━━━━━━━━━━━━━━━━\u001b[0m\u001b[37m\u001b[0m \u001b[1m1s\u001b[0m 14ms/step\n"
          ]
        },
        {
          "output_type": "execute_result",
          "data": {
            "text/plain": [
              "array([[0.43529],\n",
              "       [0.43529],\n",
              "       [0.43529],\n",
              "       [0.43529],\n",
              "       [0.43529],\n",
              "       [0.43529],\n",
              "       [0.43529],\n",
              "       [0.43529],\n",
              "       [0.43529],\n",
              "       [0.43529]], dtype=float32)"
            ]
          },
          "metadata": {},
          "execution_count": 49
        }
      ]
    },
    {
      "cell_type": "code",
      "source": [
        "model_2_preds=tf.squeeze(tf.round(model_2_pred_probs))\n",
        "model_2_preds[:10]"
      ],
      "metadata": {
        "colab": {
          "base_uri": "https://localhost:8080/"
        },
        "id": "rpzJwHiWCMPp",
        "outputId": "545dc6ca-acea-4e26-d51c-97d580dbfbe8"
      },
      "id": "rpzJwHiWCMPp",
      "execution_count": 50,
      "outputs": [
        {
          "output_type": "execute_result",
          "data": {
            "text/plain": [
              "<tf.Tensor: shape=(10,), dtype=float32, numpy=array([0., 0., 0., 0., 0., 0., 0., 0., 0., 0.], dtype=float32)>"
            ]
          },
          "metadata": {},
          "execution_count": 50
        }
      ]
    },
    {
      "cell_type": "code",
      "source": [
        "model_2_results=calculate_results(y_true=val_labels,y_pred=model_2_preds)\n",
        "model_2_results"
      ],
      "metadata": {
        "colab": {
          "base_uri": "https://localhost:8080/"
        },
        "id": "FXjvEqQNCZru",
        "outputId": "e562e764-6635-4498-805f-5c9799db982b"
      },
      "id": "FXjvEqQNCZru",
      "execution_count": 51,
      "outputs": [
        {
          "output_type": "stream",
          "name": "stderr",
          "text": [
            "/usr/local/lib/python3.12/dist-packages/sklearn/metrics/_classification.py:1565: UndefinedMetricWarning: Precision is ill-defined and being set to 0.0 in labels with no predicted samples. Use `zero_division` parameter to control this behavior.\n",
            "  _warn_prf(average, modifier, f\"{metric.capitalize()} is\", len(result))\n"
          ]
        },
        {
          "output_type": "execute_result",
          "data": {
            "text/plain": [
              "{'accuracy': 0.5433070866141733,\n",
              " 'precsion': 0.29518259036518074,\n",
              " 'recall': 0.5433070866141733,\n",
              " 'f1_score': 0.38253254057528524}"
            ]
          },
          "metadata": {},
          "execution_count": 51
        }
      ]
    },
    {
      "cell_type": "code",
      "source": [
        "baseline_results"
      ],
      "metadata": {
        "colab": {
          "base_uri": "https://localhost:8080/"
        },
        "id": "AN9fwHSwEcaS",
        "outputId": "b85e714d-bd5a-4b54-9e57-5fb2f305adb0"
      },
      "id": "AN9fwHSwEcaS",
      "execution_count": 52,
      "outputs": [
        {
          "output_type": "execute_result",
          "data": {
            "text/plain": [
              "{'accuracy': 0.7926509186351706,\n",
              " 'precsion': 0.8111390004213173,\n",
              " 'recall': 0.7926509186351706,\n",
              " 'f1_score': 0.7862189758049549}"
            ]
          },
          "metadata": {},
          "execution_count": 52
        }
      ]
    },
    {
      "cell_type": "markdown",
      "source": [
        "# ***As it is clear our baseline is more accurate***"
      ],
      "metadata": {
        "id": "JltJdgbdExp0"
      },
      "id": "JltJdgbdExp0"
    },
    {
      "cell_type": "markdown",
      "source": [
        "# ***Model_3 GRU (Gated Recurrent Unit)***"
      ],
      "metadata": {
        "id": "FvP3SosnE78m"
      },
      "id": "FvP3SosnE78m"
    },
    {
      "cell_type": "code",
      "source": [
        "from tensorflow.keras import layers\n",
        "\n",
        "inputs=layers.Input(shape=(1,),dtype=tf.string)\n",
        "x=text_vectorizer(inputs)\n",
        "x=embedding(x)\n",
        "x=layers.GRU(64)(x)\n",
        "x=layers.Dense(64,activation='relu')(x)\n",
        "outputs=layers.Dense(1,activation='sigmoid')(x)\n",
        "model_3=tf.keras.Model(inputs,outputs)\n"
      ],
      "metadata": {
        "id": "9mPEO25RE4mV"
      },
      "id": "9mPEO25RE4mV",
      "execution_count": 53,
      "outputs": []
    },
    {
      "cell_type": "code",
      "source": [
        "model_3.summary()"
      ],
      "metadata": {
        "colab": {
          "base_uri": "https://localhost:8080/",
          "height": 340
        },
        "id": "wRDh0YLsGO5w",
        "outputId": "f6e5d903-c73a-4f6d-db0d-86c851a67483"
      },
      "id": "wRDh0YLsGO5w",
      "execution_count": 54,
      "outputs": [
        {
          "output_type": "display_data",
          "data": {
            "text/plain": [
              "\u001b[1mModel: \"functional_1\"\u001b[0m\n"
            ],
            "text/html": [
              "<pre style=\"white-space:pre;overflow-x:auto;line-height:normal;font-family:Menlo,'DejaVu Sans Mono',consolas,'Courier New',monospace\"><span style=\"font-weight: bold\">Model: \"functional_1\"</span>\n",
              "</pre>\n"
            ]
          },
          "metadata": {}
        },
        {
          "output_type": "display_data",
          "data": {
            "text/plain": [
              "┏━━━━━━━━━━━━━━━━━━━━━━━━━━━━━━━━━┳━━━━━━━━━━━━━━━━━━━━━━━━┳━━━━━━━━━━━━━━━┓\n",
              "┃\u001b[1m \u001b[0m\u001b[1mLayer (type)                   \u001b[0m\u001b[1m \u001b[0m┃\u001b[1m \u001b[0m\u001b[1mOutput Shape          \u001b[0m\u001b[1m \u001b[0m┃\u001b[1m \u001b[0m\u001b[1m      Param #\u001b[0m\u001b[1m \u001b[0m┃\n",
              "┡━━━━━━━━━━━━━━━━━━━━━━━━━━━━━━━━━╇━━━━━━━━━━━━━━━━━━━━━━━━╇━━━━━━━━━━━━━━━┩\n",
              "│ input_layer_2 (\u001b[38;5;33mInputLayer\u001b[0m)      │ (\u001b[38;5;45mNone\u001b[0m, \u001b[38;5;34m1\u001b[0m)              │             \u001b[38;5;34m0\u001b[0m │\n",
              "├─────────────────────────────────┼────────────────────────┼───────────────┤\n",
              "│ text_vectorization_1            │ (\u001b[38;5;45mNone\u001b[0m, \u001b[38;5;34m100\u001b[0m)            │             \u001b[38;5;34m0\u001b[0m │\n",
              "│ (\u001b[38;5;33mTextVectorization\u001b[0m)             │                        │               │\n",
              "├─────────────────────────────────┼────────────────────────┼───────────────┤\n",
              "│ embedding (\u001b[38;5;33mEmbedding\u001b[0m)           │ (\u001b[38;5;45mNone\u001b[0m, \u001b[38;5;34m100\u001b[0m, \u001b[38;5;34m128\u001b[0m)       │        \u001b[38;5;34m12,800\u001b[0m │\n",
              "├─────────────────────────────────┼────────────────────────┼───────────────┤\n",
              "│ gru (\u001b[38;5;33mGRU\u001b[0m)                       │ (\u001b[38;5;45mNone\u001b[0m, \u001b[38;5;34m64\u001b[0m)             │        \u001b[38;5;34m37,248\u001b[0m │\n",
              "├─────────────────────────────────┼────────────────────────┼───────────────┤\n",
              "│ dense_3 (\u001b[38;5;33mDense\u001b[0m)                 │ (\u001b[38;5;45mNone\u001b[0m, \u001b[38;5;34m64\u001b[0m)             │         \u001b[38;5;34m4,160\u001b[0m │\n",
              "├─────────────────────────────────┼────────────────────────┼───────────────┤\n",
              "│ dense_4 (\u001b[38;5;33mDense\u001b[0m)                 │ (\u001b[38;5;45mNone\u001b[0m, \u001b[38;5;34m1\u001b[0m)              │            \u001b[38;5;34m65\u001b[0m │\n",
              "└─────────────────────────────────┴────────────────────────┴───────────────┘\n"
            ],
            "text/html": [
              "<pre style=\"white-space:pre;overflow-x:auto;line-height:normal;font-family:Menlo,'DejaVu Sans Mono',consolas,'Courier New',monospace\">┏━━━━━━━━━━━━━━━━━━━━━━━━━━━━━━━━━┳━━━━━━━━━━━━━━━━━━━━━━━━┳━━━━━━━━━━━━━━━┓\n",
              "┃<span style=\"font-weight: bold\"> Layer (type)                    </span>┃<span style=\"font-weight: bold\"> Output Shape           </span>┃<span style=\"font-weight: bold\">       Param # </span>┃\n",
              "┡━━━━━━━━━━━━━━━━━━━━━━━━━━━━━━━━━╇━━━━━━━━━━━━━━━━━━━━━━━━╇━━━━━━━━━━━━━━━┩\n",
              "│ input_layer_2 (<span style=\"color: #0087ff; text-decoration-color: #0087ff\">InputLayer</span>)      │ (<span style=\"color: #00d7ff; text-decoration-color: #00d7ff\">None</span>, <span style=\"color: #00af00; text-decoration-color: #00af00\">1</span>)              │             <span style=\"color: #00af00; text-decoration-color: #00af00\">0</span> │\n",
              "├─────────────────────────────────┼────────────────────────┼───────────────┤\n",
              "│ text_vectorization_1            │ (<span style=\"color: #00d7ff; text-decoration-color: #00d7ff\">None</span>, <span style=\"color: #00af00; text-decoration-color: #00af00\">100</span>)            │             <span style=\"color: #00af00; text-decoration-color: #00af00\">0</span> │\n",
              "│ (<span style=\"color: #0087ff; text-decoration-color: #0087ff\">TextVectorization</span>)             │                        │               │\n",
              "├─────────────────────────────────┼────────────────────────┼───────────────┤\n",
              "│ embedding (<span style=\"color: #0087ff; text-decoration-color: #0087ff\">Embedding</span>)           │ (<span style=\"color: #00d7ff; text-decoration-color: #00d7ff\">None</span>, <span style=\"color: #00af00; text-decoration-color: #00af00\">100</span>, <span style=\"color: #00af00; text-decoration-color: #00af00\">128</span>)       │        <span style=\"color: #00af00; text-decoration-color: #00af00\">12,800</span> │\n",
              "├─────────────────────────────────┼────────────────────────┼───────────────┤\n",
              "│ gru (<span style=\"color: #0087ff; text-decoration-color: #0087ff\">GRU</span>)                       │ (<span style=\"color: #00d7ff; text-decoration-color: #00d7ff\">None</span>, <span style=\"color: #00af00; text-decoration-color: #00af00\">64</span>)             │        <span style=\"color: #00af00; text-decoration-color: #00af00\">37,248</span> │\n",
              "├─────────────────────────────────┼────────────────────────┼───────────────┤\n",
              "│ dense_3 (<span style=\"color: #0087ff; text-decoration-color: #0087ff\">Dense</span>)                 │ (<span style=\"color: #00d7ff; text-decoration-color: #00d7ff\">None</span>, <span style=\"color: #00af00; text-decoration-color: #00af00\">64</span>)             │         <span style=\"color: #00af00; text-decoration-color: #00af00\">4,160</span> │\n",
              "├─────────────────────────────────┼────────────────────────┼───────────────┤\n",
              "│ dense_4 (<span style=\"color: #0087ff; text-decoration-color: #0087ff\">Dense</span>)                 │ (<span style=\"color: #00d7ff; text-decoration-color: #00d7ff\">None</span>, <span style=\"color: #00af00; text-decoration-color: #00af00\">1</span>)              │            <span style=\"color: #00af00; text-decoration-color: #00af00\">65</span> │\n",
              "└─────────────────────────────────┴────────────────────────┴───────────────┘\n",
              "</pre>\n"
            ]
          },
          "metadata": {}
        },
        {
          "output_type": "display_data",
          "data": {
            "text/plain": [
              "\u001b[1m Total params: \u001b[0m\u001b[38;5;34m54,273\u001b[0m (212.00 KB)\n"
            ],
            "text/html": [
              "<pre style=\"white-space:pre;overflow-x:auto;line-height:normal;font-family:Menlo,'DejaVu Sans Mono',consolas,'Courier New',monospace\"><span style=\"font-weight: bold\"> Total params: </span><span style=\"color: #00af00; text-decoration-color: #00af00\">54,273</span> (212.00 KB)\n",
              "</pre>\n"
            ]
          },
          "metadata": {}
        },
        {
          "output_type": "display_data",
          "data": {
            "text/plain": [
              "\u001b[1m Trainable params: \u001b[0m\u001b[38;5;34m54,273\u001b[0m (212.00 KB)\n"
            ],
            "text/html": [
              "<pre style=\"white-space:pre;overflow-x:auto;line-height:normal;font-family:Menlo,'DejaVu Sans Mono',consolas,'Courier New',monospace\"><span style=\"font-weight: bold\"> Trainable params: </span><span style=\"color: #00af00; text-decoration-color: #00af00\">54,273</span> (212.00 KB)\n",
              "</pre>\n"
            ]
          },
          "metadata": {}
        },
        {
          "output_type": "display_data",
          "data": {
            "text/plain": [
              "\u001b[1m Non-trainable params: \u001b[0m\u001b[38;5;34m0\u001b[0m (0.00 B)\n"
            ],
            "text/html": [
              "<pre style=\"white-space:pre;overflow-x:auto;line-height:normal;font-family:Menlo,'DejaVu Sans Mono',consolas,'Courier New',monospace\"><span style=\"font-weight: bold\"> Non-trainable params: </span><span style=\"color: #00af00; text-decoration-color: #00af00\">0</span> (0.00 B)\n",
              "</pre>\n"
            ]
          },
          "metadata": {}
        }
      ]
    },
    {
      "cell_type": "code",
      "source": [
        "model_3.compile(loss='binary_crossentropy',\n",
        "                optimizer=tf.keras.optimizers.Adam(),\n",
        "                metrics=['accuracy'])"
      ],
      "metadata": {
        "id": "AdxMqMkMGUlt"
      },
      "id": "AdxMqMkMGUlt",
      "execution_count": 55,
      "outputs": []
    },
    {
      "cell_type": "code",
      "source": [
        "model_3_history=model_3.fit(train_sentances,train_labels,epochs=5,validation_data=(val_sentances,val_labels),callbacks=[create_tensorboard_callback(SAVE_DIR,\"model_GRU\")])"
      ],
      "metadata": {
        "colab": {
          "base_uri": "https://localhost:8080/"
        },
        "id": "KLgWwCiZGQca",
        "outputId": "bbf3b71b-bf8c-4e1a-83c2-e25e8065c758"
      },
      "id": "KLgWwCiZGQca",
      "execution_count": 56,
      "outputs": [
        {
          "output_type": "stream",
          "name": "stdout",
          "text": [
            "Saving TensorBoard log files to: ModelLogs/model_GRU/20251026-071634\n",
            "Epoch 1/5\n",
            "\u001b[1m215/215\u001b[0m \u001b[32m━━━━━━━━━━━━━━━━━━━━\u001b[0m\u001b[37m\u001b[0m \u001b[1m4s\u001b[0m 11ms/step - accuracy: 0.5561 - loss: 0.6852 - val_accuracy: 0.5433 - val_loss: 0.6906\n",
            "Epoch 2/5\n",
            "\u001b[1m215/215\u001b[0m \u001b[32m━━━━━━━━━━━━━━━━━━━━\u001b[0m\u001b[37m\u001b[0m \u001b[1m3s\u001b[0m 13ms/step - accuracy: 0.5649 - loss: 0.6856 - val_accuracy: 0.5433 - val_loss: 0.6902\n",
            "Epoch 3/5\n",
            "\u001b[1m215/215\u001b[0m \u001b[32m━━━━━━━━━━━━━━━━━━━━\u001b[0m\u001b[37m\u001b[0m \u001b[1m5s\u001b[0m 13ms/step - accuracy: 0.5754 - loss: 0.6831 - val_accuracy: 0.5433 - val_loss: 0.6963\n",
            "Epoch 4/5\n",
            "\u001b[1m215/215\u001b[0m \u001b[32m━━━━━━━━━━━━━━━━━━━━\u001b[0m\u001b[37m\u001b[0m \u001b[1m2s\u001b[0m 10ms/step - accuracy: 0.5764 - loss: 0.6821 - val_accuracy: 0.5433 - val_loss: 0.6920\n",
            "Epoch 5/5\n",
            "\u001b[1m215/215\u001b[0m \u001b[32m━━━━━━━━━━━━━━━━━━━━\u001b[0m\u001b[37m\u001b[0m \u001b[1m2s\u001b[0m 9ms/step - accuracy: 0.5871 - loss: 0.6780 - val_accuracy: 0.5433 - val_loss: 0.6896\n"
          ]
        }
      ]
    },
    {
      "cell_type": "code",
      "source": [
        "model_3_pred_probs=model_3.predict(val_sentances)\n",
        "model_3_pred_probs"
      ],
      "metadata": {
        "colab": {
          "base_uri": "https://localhost:8080/"
        },
        "id": "VOIQy-c-G3kv",
        "outputId": "cd19c94c-a2f5-4fbc-e6cc-887059eb1726"
      },
      "id": "VOIQy-c-G3kv",
      "execution_count": 57,
      "outputs": [
        {
          "output_type": "stream",
          "name": "stdout",
          "text": [
            "\u001b[1m24/24\u001b[0m \u001b[32m━━━━━━━━━━━━━━━━━━━━\u001b[0m\u001b[37m\u001b[0m \u001b[1m0s\u001b[0m 9ms/step\n"
          ]
        },
        {
          "output_type": "execute_result",
          "data": {
            "text/plain": [
              "array([[0.44613856],\n",
              "       [0.44613856],\n",
              "       [0.44613856],\n",
              "       [0.44613856],\n",
              "       [0.44613856],\n",
              "       [0.44613856],\n",
              "       [0.44613856],\n",
              "       [0.44613856],\n",
              "       [0.44613856],\n",
              "       [0.44613856],\n",
              "       [0.44613856],\n",
              "       [0.44613856],\n",
              "       [0.44613856],\n",
              "       [0.44613856],\n",
              "       [0.44613856],\n",
              "       [0.44613856],\n",
              "       [0.44613856],\n",
              "       [0.44613856],\n",
              "       [0.44613856],\n",
              "       [0.44613856],\n",
              "       [0.44613856],\n",
              "       [0.44613856],\n",
              "       [0.44613856],\n",
              "       [0.44613856],\n",
              "       [0.44613856],\n",
              "       [0.44613856],\n",
              "       [0.44613856],\n",
              "       [0.44613856],\n",
              "       [0.44613856],\n",
              "       [0.44613856],\n",
              "       [0.44613856],\n",
              "       [0.44613856],\n",
              "       [0.44613856],\n",
              "       [0.44613856],\n",
              "       [0.44613856],\n",
              "       [0.44613856],\n",
              "       [0.44613856],\n",
              "       [0.44613856],\n",
              "       [0.44613856],\n",
              "       [0.44613856],\n",
              "       [0.44613856],\n",
              "       [0.44613856],\n",
              "       [0.44613856],\n",
              "       [0.44613856],\n",
              "       [0.44613856],\n",
              "       [0.44613856],\n",
              "       [0.44613856],\n",
              "       [0.44613856],\n",
              "       [0.44613856],\n",
              "       [0.44613856],\n",
              "       [0.44613856],\n",
              "       [0.44613856],\n",
              "       [0.44613856],\n",
              "       [0.44613856],\n",
              "       [0.44613856],\n",
              "       [0.44613856],\n",
              "       [0.44613856],\n",
              "       [0.44613856],\n",
              "       [0.44613856],\n",
              "       [0.44613856],\n",
              "       [0.44613856],\n",
              "       [0.44613856],\n",
              "       [0.44613856],\n",
              "       [0.44613856],\n",
              "       [0.44613856],\n",
              "       [0.44613856],\n",
              "       [0.44613856],\n",
              "       [0.44613856],\n",
              "       [0.44613856],\n",
              "       [0.44613856],\n",
              "       [0.44613856],\n",
              "       [0.44613856],\n",
              "       [0.44613856],\n",
              "       [0.44613856],\n",
              "       [0.44613856],\n",
              "       [0.44613856],\n",
              "       [0.44613856],\n",
              "       [0.44613856],\n",
              "       [0.44613856],\n",
              "       [0.44613856],\n",
              "       [0.44613856],\n",
              "       [0.44613856],\n",
              "       [0.44613856],\n",
              "       [0.44613856],\n",
              "       [0.44613856],\n",
              "       [0.44613856],\n",
              "       [0.44613856],\n",
              "       [0.44613856],\n",
              "       [0.44613856],\n",
              "       [0.44613856],\n",
              "       [0.44613856],\n",
              "       [0.44613856],\n",
              "       [0.44613856],\n",
              "       [0.44613856],\n",
              "       [0.44613856],\n",
              "       [0.44613856],\n",
              "       [0.44613856],\n",
              "       [0.44613856],\n",
              "       [0.44613856],\n",
              "       [0.44613856],\n",
              "       [0.44613856],\n",
              "       [0.44613856],\n",
              "       [0.44613856],\n",
              "       [0.44613856],\n",
              "       [0.44613856],\n",
              "       [0.44613856],\n",
              "       [0.44613856],\n",
              "       [0.44613856],\n",
              "       [0.44613856],\n",
              "       [0.44613856],\n",
              "       [0.44613856],\n",
              "       [0.44613856],\n",
              "       [0.44613856],\n",
              "       [0.44613856],\n",
              "       [0.44613856],\n",
              "       [0.44613856],\n",
              "       [0.44613856],\n",
              "       [0.44613856],\n",
              "       [0.44613856],\n",
              "       [0.44613856],\n",
              "       [0.44613856],\n",
              "       [0.44613856],\n",
              "       [0.44613856],\n",
              "       [0.44613856],\n",
              "       [0.44613856],\n",
              "       [0.44613856],\n",
              "       [0.44613856],\n",
              "       [0.44613856],\n",
              "       [0.44613856],\n",
              "       [0.44613856],\n",
              "       [0.44613856],\n",
              "       [0.44613856],\n",
              "       [0.44613856],\n",
              "       [0.44613856],\n",
              "       [0.44613856],\n",
              "       [0.44613856],\n",
              "       [0.44613856],\n",
              "       [0.44613856],\n",
              "       [0.44613856],\n",
              "       [0.44613856],\n",
              "       [0.44613856],\n",
              "       [0.44613856],\n",
              "       [0.44613856],\n",
              "       [0.44613856],\n",
              "       [0.44613856],\n",
              "       [0.44613856],\n",
              "       [0.44613856],\n",
              "       [0.44613856],\n",
              "       [0.44613856],\n",
              "       [0.44613856],\n",
              "       [0.44613856],\n",
              "       [0.44613856],\n",
              "       [0.44613856],\n",
              "       [0.44613856],\n",
              "       [0.44613856],\n",
              "       [0.44613856],\n",
              "       [0.44613856],\n",
              "       [0.44613856],\n",
              "       [0.44613856],\n",
              "       [0.44613856],\n",
              "       [0.44613856],\n",
              "       [0.44613856],\n",
              "       [0.44613856],\n",
              "       [0.44613856],\n",
              "       [0.44613856],\n",
              "       [0.44613856],\n",
              "       [0.44613856],\n",
              "       [0.44613856],\n",
              "       [0.44613856],\n",
              "       [0.44613856],\n",
              "       [0.44613856],\n",
              "       [0.44613856],\n",
              "       [0.44613856],\n",
              "       [0.44613856],\n",
              "       [0.44613856],\n",
              "       [0.44613856],\n",
              "       [0.44613856],\n",
              "       [0.44613856],\n",
              "       [0.44613856],\n",
              "       [0.44613856],\n",
              "       [0.44613856],\n",
              "       [0.44613856],\n",
              "       [0.44613856],\n",
              "       [0.44613856],\n",
              "       [0.44613856],\n",
              "       [0.44613856],\n",
              "       [0.44613856],\n",
              "       [0.44613856],\n",
              "       [0.44613856],\n",
              "       [0.44613856],\n",
              "       [0.44613856],\n",
              "       [0.44613856],\n",
              "       [0.44613856],\n",
              "       [0.44613856],\n",
              "       [0.44613856],\n",
              "       [0.44613856],\n",
              "       [0.44613856],\n",
              "       [0.44613856],\n",
              "       [0.44613856],\n",
              "       [0.44613856],\n",
              "       [0.44613856],\n",
              "       [0.44613856],\n",
              "       [0.44613856],\n",
              "       [0.44613856],\n",
              "       [0.44613856],\n",
              "       [0.44613856],\n",
              "       [0.44613856],\n",
              "       [0.44613856],\n",
              "       [0.44613856],\n",
              "       [0.44613856],\n",
              "       [0.44613856],\n",
              "       [0.44613856],\n",
              "       [0.44613856],\n",
              "       [0.44613856],\n",
              "       [0.44613856],\n",
              "       [0.44613856],\n",
              "       [0.44613856],\n",
              "       [0.44613856],\n",
              "       [0.44613856],\n",
              "       [0.44613856],\n",
              "       [0.44613856],\n",
              "       [0.44613856],\n",
              "       [0.44613856],\n",
              "       [0.44613856],\n",
              "       [0.44613856],\n",
              "       [0.44613856],\n",
              "       [0.44613856],\n",
              "       [0.44613856],\n",
              "       [0.44613856],\n",
              "       [0.44613856],\n",
              "       [0.44613856],\n",
              "       [0.44613856],\n",
              "       [0.44613856],\n",
              "       [0.44613856],\n",
              "       [0.44613856],\n",
              "       [0.44613856],\n",
              "       [0.44613856],\n",
              "       [0.44613856],\n",
              "       [0.44613856],\n",
              "       [0.44613856],\n",
              "       [0.44613856],\n",
              "       [0.44613856],\n",
              "       [0.44613856],\n",
              "       [0.44613856],\n",
              "       [0.44613856],\n",
              "       [0.44613856],\n",
              "       [0.44613856],\n",
              "       [0.44613856],\n",
              "       [0.44613856],\n",
              "       [0.44613856],\n",
              "       [0.44613856],\n",
              "       [0.44613856],\n",
              "       [0.44613856],\n",
              "       [0.44613856],\n",
              "       [0.44613856],\n",
              "       [0.44613856],\n",
              "       [0.44613856],\n",
              "       [0.44613856],\n",
              "       [0.44613856],\n",
              "       [0.44613856],\n",
              "       [0.44613856],\n",
              "       [0.44613856],\n",
              "       [0.44613856],\n",
              "       [0.44613856],\n",
              "       [0.44613856],\n",
              "       [0.44613856],\n",
              "       [0.44613856],\n",
              "       [0.44613856],\n",
              "       [0.44613856],\n",
              "       [0.44613856],\n",
              "       [0.44613856],\n",
              "       [0.44613856],\n",
              "       [0.44613856],\n",
              "       [0.44613856],\n",
              "       [0.44613856],\n",
              "       [0.44613856],\n",
              "       [0.44613856],\n",
              "       [0.44613856],\n",
              "       [0.44613856],\n",
              "       [0.44613856],\n",
              "       [0.44613856],\n",
              "       [0.44613856],\n",
              "       [0.44613856],\n",
              "       [0.44613856],\n",
              "       [0.44613856],\n",
              "       [0.44613856],\n",
              "       [0.44613856],\n",
              "       [0.44613856],\n",
              "       [0.44613856],\n",
              "       [0.44613856],\n",
              "       [0.44613856],\n",
              "       [0.44613856],\n",
              "       [0.44613856],\n",
              "       [0.44613856],\n",
              "       [0.44613856],\n",
              "       [0.44613856],\n",
              "       [0.44613856],\n",
              "       [0.44613856],\n",
              "       [0.44613856],\n",
              "       [0.44613856],\n",
              "       [0.44613856],\n",
              "       [0.44613856],\n",
              "       [0.44613856],\n",
              "       [0.44613856],\n",
              "       [0.44613856],\n",
              "       [0.44613856],\n",
              "       [0.44613856],\n",
              "       [0.44613856],\n",
              "       [0.44613856],\n",
              "       [0.44613856],\n",
              "       [0.44613856],\n",
              "       [0.44613856],\n",
              "       [0.44613856],\n",
              "       [0.44613856],\n",
              "       [0.44613856],\n",
              "       [0.44613856],\n",
              "       [0.44613856],\n",
              "       [0.44613856],\n",
              "       [0.44613856],\n",
              "       [0.44613856],\n",
              "       [0.44613856],\n",
              "       [0.44613856],\n",
              "       [0.44613856],\n",
              "       [0.44613856],\n",
              "       [0.44613856],\n",
              "       [0.44613856],\n",
              "       [0.44613856],\n",
              "       [0.44613856],\n",
              "       [0.44613856],\n",
              "       [0.44613856],\n",
              "       [0.44613856],\n",
              "       [0.44613856],\n",
              "       [0.44613856],\n",
              "       [0.44613856],\n",
              "       [0.44613856],\n",
              "       [0.44613856],\n",
              "       [0.44613856],\n",
              "       [0.44613856],\n",
              "       [0.44613856],\n",
              "       [0.44613856],\n",
              "       [0.44613856],\n",
              "       [0.44613856],\n",
              "       [0.44613856],\n",
              "       [0.44613856],\n",
              "       [0.44613856],\n",
              "       [0.44613856],\n",
              "       [0.44613856],\n",
              "       [0.44613856],\n",
              "       [0.44613856],\n",
              "       [0.44613856],\n",
              "       [0.44613856],\n",
              "       [0.44613856],\n",
              "       [0.44613856],\n",
              "       [0.44613856],\n",
              "       [0.44613856],\n",
              "       [0.44613856],\n",
              "       [0.44613856],\n",
              "       [0.44613856],\n",
              "       [0.44613856],\n",
              "       [0.44613856],\n",
              "       [0.44613856],\n",
              "       [0.44613856],\n",
              "       [0.44613856],\n",
              "       [0.44613856],\n",
              "       [0.44613856],\n",
              "       [0.44613856],\n",
              "       [0.44613856],\n",
              "       [0.44613856],\n",
              "       [0.44613856],\n",
              "       [0.44613856],\n",
              "       [0.44613856],\n",
              "       [0.44613856],\n",
              "       [0.44613856],\n",
              "       [0.44613856],\n",
              "       [0.44613856],\n",
              "       [0.44613856],\n",
              "       [0.44613856],\n",
              "       [0.44613856],\n",
              "       [0.44613856],\n",
              "       [0.44613856],\n",
              "       [0.44613856],\n",
              "       [0.44613856],\n",
              "       [0.44613856],\n",
              "       [0.44613856],\n",
              "       [0.44613856],\n",
              "       [0.44613856],\n",
              "       [0.44613856],\n",
              "       [0.44613856],\n",
              "       [0.44613856],\n",
              "       [0.44613856],\n",
              "       [0.44613856],\n",
              "       [0.44613856],\n",
              "       [0.44613856],\n",
              "       [0.44613856],\n",
              "       [0.44613856],\n",
              "       [0.44613856],\n",
              "       [0.44613856],\n",
              "       [0.44613856],\n",
              "       [0.44613856],\n",
              "       [0.44613856],\n",
              "       [0.44613856],\n",
              "       [0.44613856],\n",
              "       [0.44613856],\n",
              "       [0.44613856],\n",
              "       [0.44613856],\n",
              "       [0.44613856],\n",
              "       [0.44613856],\n",
              "       [0.44613856],\n",
              "       [0.44613856],\n",
              "       [0.44613856],\n",
              "       [0.44613856],\n",
              "       [0.44613856],\n",
              "       [0.44613856],\n",
              "       [0.44613856],\n",
              "       [0.44613856],\n",
              "       [0.44613856],\n",
              "       [0.44613856],\n",
              "       [0.44613856],\n",
              "       [0.44613856],\n",
              "       [0.44613856],\n",
              "       [0.44613856],\n",
              "       [0.44613856],\n",
              "       [0.44613856],\n",
              "       [0.44613856],\n",
              "       [0.44613856],\n",
              "       [0.44613856],\n",
              "       [0.44613856],\n",
              "       [0.44613856],\n",
              "       [0.44613856],\n",
              "       [0.44613856],\n",
              "       [0.44613856],\n",
              "       [0.44613856],\n",
              "       [0.44613856],\n",
              "       [0.44613856],\n",
              "       [0.44613856],\n",
              "       [0.44613856],\n",
              "       [0.44613856],\n",
              "       [0.44613856],\n",
              "       [0.44613856],\n",
              "       [0.44613856],\n",
              "       [0.44613856],\n",
              "       [0.44613856],\n",
              "       [0.44613856],\n",
              "       [0.44613856],\n",
              "       [0.44613856],\n",
              "       [0.44613856],\n",
              "       [0.44613856],\n",
              "       [0.44613856],\n",
              "       [0.44613856],\n",
              "       [0.44613856],\n",
              "       [0.44613856],\n",
              "       [0.44613856],\n",
              "       [0.44613856],\n",
              "       [0.44613856],\n",
              "       [0.44613856],\n",
              "       [0.44613856],\n",
              "       [0.44613856],\n",
              "       [0.44613856],\n",
              "       [0.44613856],\n",
              "       [0.44613856],\n",
              "       [0.44613856],\n",
              "       [0.44613856],\n",
              "       [0.44613856],\n",
              "       [0.44613856],\n",
              "       [0.44613856],\n",
              "       [0.44613856],\n",
              "       [0.44613856],\n",
              "       [0.44613856],\n",
              "       [0.44613856],\n",
              "       [0.44613856],\n",
              "       [0.44613856],\n",
              "       [0.44613856],\n",
              "       [0.44613856],\n",
              "       [0.44613856],\n",
              "       [0.44613856],\n",
              "       [0.44613856],\n",
              "       [0.44613856],\n",
              "       [0.44613856],\n",
              "       [0.44613856],\n",
              "       [0.44613856],\n",
              "       [0.44613856],\n",
              "       [0.44613856],\n",
              "       [0.44613856],\n",
              "       [0.44613856],\n",
              "       [0.44613856],\n",
              "       [0.44613856],\n",
              "       [0.44613856],\n",
              "       [0.44613856],\n",
              "       [0.44613856],\n",
              "       [0.44613856],\n",
              "       [0.44613856],\n",
              "       [0.44613856],\n",
              "       [0.44613856],\n",
              "       [0.44613856],\n",
              "       [0.44613856],\n",
              "       [0.44613856],\n",
              "       [0.44613856],\n",
              "       [0.44613856],\n",
              "       [0.44613856],\n",
              "       [0.44613856],\n",
              "       [0.44613856],\n",
              "       [0.44613856],\n",
              "       [0.44613856],\n",
              "       [0.44613856],\n",
              "       [0.44613856],\n",
              "       [0.44613856],\n",
              "       [0.44613856],\n",
              "       [0.44613856],\n",
              "       [0.44613856],\n",
              "       [0.44613856],\n",
              "       [0.44613856],\n",
              "       [0.44613856],\n",
              "       [0.44613856],\n",
              "       [0.44613856],\n",
              "       [0.44613856],\n",
              "       [0.44613856],\n",
              "       [0.44613856],\n",
              "       [0.44613856],\n",
              "       [0.44613856],\n",
              "       [0.44613856],\n",
              "       [0.44613856],\n",
              "       [0.44613856],\n",
              "       [0.44613856],\n",
              "       [0.44613856],\n",
              "       [0.44613856],\n",
              "       [0.44613856],\n",
              "       [0.44613856],\n",
              "       [0.44613856],\n",
              "       [0.44613856],\n",
              "       [0.44613856],\n",
              "       [0.44613856],\n",
              "       [0.44613856],\n",
              "       [0.44613856],\n",
              "       [0.44613856],\n",
              "       [0.44613856],\n",
              "       [0.44613856],\n",
              "       [0.44613856],\n",
              "       [0.44613856],\n",
              "       [0.44613856],\n",
              "       [0.44613856],\n",
              "       [0.44613856],\n",
              "       [0.44613856],\n",
              "       [0.44613856],\n",
              "       [0.44613856],\n",
              "       [0.44613856],\n",
              "       [0.44613856],\n",
              "       [0.44613856],\n",
              "       [0.44613856],\n",
              "       [0.44613856],\n",
              "       [0.44613856],\n",
              "       [0.44613856],\n",
              "       [0.44613856],\n",
              "       [0.44613856],\n",
              "       [0.44613856],\n",
              "       [0.44613856],\n",
              "       [0.44613856],\n",
              "       [0.44613856],\n",
              "       [0.44613856],\n",
              "       [0.44613856],\n",
              "       [0.44613856],\n",
              "       [0.44613856],\n",
              "       [0.44613856],\n",
              "       [0.44613856],\n",
              "       [0.44613856],\n",
              "       [0.44613856],\n",
              "       [0.44613856],\n",
              "       [0.44613856],\n",
              "       [0.44613856],\n",
              "       [0.44613856],\n",
              "       [0.44613856],\n",
              "       [0.44613856],\n",
              "       [0.44613856],\n",
              "       [0.44613856],\n",
              "       [0.44613856],\n",
              "       [0.44613856],\n",
              "       [0.44613856],\n",
              "       [0.44613856],\n",
              "       [0.44613856],\n",
              "       [0.44613856],\n",
              "       [0.44613856],\n",
              "       [0.44613856],\n",
              "       [0.44613856],\n",
              "       [0.44613856],\n",
              "       [0.44613856],\n",
              "       [0.44613856],\n",
              "       [0.44613856],\n",
              "       [0.44613856],\n",
              "       [0.44613856],\n",
              "       [0.44613856],\n",
              "       [0.44613856],\n",
              "       [0.44613856],\n",
              "       [0.44613856],\n",
              "       [0.44613856],\n",
              "       [0.44613856],\n",
              "       [0.44613856],\n",
              "       [0.44613856],\n",
              "       [0.44613856],\n",
              "       [0.44613856],\n",
              "       [0.44613856],\n",
              "       [0.44613856],\n",
              "       [0.44613856],\n",
              "       [0.44613856],\n",
              "       [0.44613856],\n",
              "       [0.44613856],\n",
              "       [0.44613856],\n",
              "       [0.44613856],\n",
              "       [0.44613856],\n",
              "       [0.44613856],\n",
              "       [0.44613856],\n",
              "       [0.44613856],\n",
              "       [0.44613856],\n",
              "       [0.44613856],\n",
              "       [0.44613856],\n",
              "       [0.44613856],\n",
              "       [0.44613856],\n",
              "       [0.44613856],\n",
              "       [0.44613856],\n",
              "       [0.44613856],\n",
              "       [0.44613856],\n",
              "       [0.44613856],\n",
              "       [0.44613856],\n",
              "       [0.44613856],\n",
              "       [0.44613856],\n",
              "       [0.44613856],\n",
              "       [0.44613856],\n",
              "       [0.44613856],\n",
              "       [0.44613856],\n",
              "       [0.44613856],\n",
              "       [0.44613856],\n",
              "       [0.44613856],\n",
              "       [0.44613856],\n",
              "       [0.44613856],\n",
              "       [0.44613856],\n",
              "       [0.44613856],\n",
              "       [0.44613856],\n",
              "       [0.44613856],\n",
              "       [0.44613856],\n",
              "       [0.44613856],\n",
              "       [0.44613856],\n",
              "       [0.44613856],\n",
              "       [0.44613856],\n",
              "       [0.44613856],\n",
              "       [0.44613856],\n",
              "       [0.44613856],\n",
              "       [0.44613856],\n",
              "       [0.44613856],\n",
              "       [0.44613856],\n",
              "       [0.44613856],\n",
              "       [0.44613856],\n",
              "       [0.44613856],\n",
              "       [0.44613856],\n",
              "       [0.44613856],\n",
              "       [0.44613856],\n",
              "       [0.44613856],\n",
              "       [0.44613856],\n",
              "       [0.44613856],\n",
              "       [0.44613856],\n",
              "       [0.44613856],\n",
              "       [0.44613856],\n",
              "       [0.44613856],\n",
              "       [0.44613856],\n",
              "       [0.44613856],\n",
              "       [0.44613856],\n",
              "       [0.44613856],\n",
              "       [0.44613856],\n",
              "       [0.44613856],\n",
              "       [0.44613856],\n",
              "       [0.44613856],\n",
              "       [0.44613856],\n",
              "       [0.44613856],\n",
              "       [0.44613856],\n",
              "       [0.44613856],\n",
              "       [0.44613856],\n",
              "       [0.44613856],\n",
              "       [0.44613856],\n",
              "       [0.44613856],\n",
              "       [0.44613856],\n",
              "       [0.44613856],\n",
              "       [0.44613856],\n",
              "       [0.44613856],\n",
              "       [0.44613856],\n",
              "       [0.44613856],\n",
              "       [0.44613856],\n",
              "       [0.44613856],\n",
              "       [0.44613856],\n",
              "       [0.44613856],\n",
              "       [0.44613856],\n",
              "       [0.44613856],\n",
              "       [0.44613856],\n",
              "       [0.44613856],\n",
              "       [0.44613856],\n",
              "       [0.44613856],\n",
              "       [0.44613856],\n",
              "       [0.44613856],\n",
              "       [0.44613856],\n",
              "       [0.44613856],\n",
              "       [0.44613856],\n",
              "       [0.44613856],\n",
              "       [0.44613856],\n",
              "       [0.44613856],\n",
              "       [0.44613856],\n",
              "       [0.44613856],\n",
              "       [0.44613856],\n",
              "       [0.44613856],\n",
              "       [0.44613856],\n",
              "       [0.44613856],\n",
              "       [0.44613856],\n",
              "       [0.44613856],\n",
              "       [0.44613856],\n",
              "       [0.44613856],\n",
              "       [0.44613856],\n",
              "       [0.44613856],\n",
              "       [0.44613856],\n",
              "       [0.44613856],\n",
              "       [0.44613856],\n",
              "       [0.44613856],\n",
              "       [0.44613856],\n",
              "       [0.44613856],\n",
              "       [0.44613856],\n",
              "       [0.44613856],\n",
              "       [0.44613856],\n",
              "       [0.44613856],\n",
              "       [0.44613856],\n",
              "       [0.44613856],\n",
              "       [0.44613856],\n",
              "       [0.44613856],\n",
              "       [0.44613856],\n",
              "       [0.44613856],\n",
              "       [0.44613856],\n",
              "       [0.44613856],\n",
              "       [0.44613856],\n",
              "       [0.44613856],\n",
              "       [0.44613856],\n",
              "       [0.44613856],\n",
              "       [0.44613856],\n",
              "       [0.44613856],\n",
              "       [0.44613856],\n",
              "       [0.44613856],\n",
              "       [0.44613856],\n",
              "       [0.44613856],\n",
              "       [0.44613856],\n",
              "       [0.44613856],\n",
              "       [0.44613856],\n",
              "       [0.44613856],\n",
              "       [0.44613856],\n",
              "       [0.44613856],\n",
              "       [0.44613856],\n",
              "       [0.44613856],\n",
              "       [0.44613856],\n",
              "       [0.44613856],\n",
              "       [0.44613856],\n",
              "       [0.44613856],\n",
              "       [0.44613856],\n",
              "       [0.44613856],\n",
              "       [0.44613856],\n",
              "       [0.44613856],\n",
              "       [0.44613856],\n",
              "       [0.44613856],\n",
              "       [0.44613856],\n",
              "       [0.44613856],\n",
              "       [0.44613856],\n",
              "       [0.44613856]], dtype=float32)"
            ]
          },
          "metadata": {},
          "execution_count": 57
        }
      ]
    },
    {
      "cell_type": "code",
      "source": [
        "model_3_pred=tf.squeeze(tf.round(model_3_pred_probs))\n",
        "model_3_pred[:10]"
      ],
      "metadata": {
        "colab": {
          "base_uri": "https://localhost:8080/"
        },
        "id": "ytPB8iHJHLRU",
        "outputId": "b768e06a-f343-493d-ebf2-5e4953c7fe63"
      },
      "id": "ytPB8iHJHLRU",
      "execution_count": 58,
      "outputs": [
        {
          "output_type": "execute_result",
          "data": {
            "text/plain": [
              "<tf.Tensor: shape=(10,), dtype=float32, numpy=array([0., 0., 0., 0., 0., 0., 0., 0., 0., 0.], dtype=float32)>"
            ]
          },
          "metadata": {},
          "execution_count": 58
        }
      ]
    },
    {
      "cell_type": "code",
      "source": [
        "model_3_results=calculate_results(val_labels,model_3_pred)\n",
        "model_3_results"
      ],
      "metadata": {
        "colab": {
          "base_uri": "https://localhost:8080/"
        },
        "id": "QwQzBjgeHYmU",
        "outputId": "229202a8-cc31-43c9-ea62-9e08e604fab6"
      },
      "id": "QwQzBjgeHYmU",
      "execution_count": 59,
      "outputs": [
        {
          "output_type": "stream",
          "name": "stderr",
          "text": [
            "/usr/local/lib/python3.12/dist-packages/sklearn/metrics/_classification.py:1565: UndefinedMetricWarning: Precision is ill-defined and being set to 0.0 in labels with no predicted samples. Use `zero_division` parameter to control this behavior.\n",
            "  _warn_prf(average, modifier, f\"{metric.capitalize()} is\", len(result))\n"
          ]
        },
        {
          "output_type": "execute_result",
          "data": {
            "text/plain": [
              "{'accuracy': 0.5433070866141733,\n",
              " 'precsion': 0.29518259036518074,\n",
              " 'recall': 0.5433070866141733,\n",
              " 'f1_score': 0.38253254057528524}"
            ]
          },
          "metadata": {},
          "execution_count": 59
        }
      ]
    },
    {
      "cell_type": "markdown",
      "source": [
        "# ***GRU Does not beat the baseline***\n",
        "lets try something else"
      ],
      "metadata": {
        "id": "380mBMO5Hr0N"
      },
      "id": "380mBMO5Hr0N"
    },
    {
      "cell_type": "markdown",
      "source": [
        "# ***Model_4 Bidirectional Model***"
      ],
      "metadata": {
        "id": "38-lUExwIB3M"
      },
      "id": "38-lUExwIB3M"
    },
    {
      "cell_type": "code",
      "source": [
        "from tensorflow.keras import layers\n",
        "\n",
        "inputs=layers.Input(shape=(1,),dtype=tf.string)\n",
        "x=text_vectorizer(inputs)\n",
        "x=embedding(x)\n",
        "x=layers.Bidirectional(layers.LSTM(64))(x)\n",
        "outputs=layers.Dense(1,activation='sigmoid')(x)\n",
        "model_4=tf.keras.Model(inputs,outputs)\n",
        "\n",
        "model_4.compile(loss='binary_crossentropy',\n",
        "                optimizer=tf.keras.optimizers.Adam(),\n",
        "                metrics=['accuracy'])\n",
        "\n",
        "model_4.summary()"
      ],
      "metadata": {
        "colab": {
          "base_uri": "https://localhost:8080/",
          "height": 307
        },
        "id": "54KbndmkHyll",
        "outputId": "13bd7c29-3f5d-46b6-f6c6-9fbbdc2f7c96"
      },
      "id": "54KbndmkHyll",
      "execution_count": 60,
      "outputs": [
        {
          "output_type": "display_data",
          "data": {
            "text/plain": [
              "\u001b[1mModel: \"functional_2\"\u001b[0m\n"
            ],
            "text/html": [
              "<pre style=\"white-space:pre;overflow-x:auto;line-height:normal;font-family:Menlo,'DejaVu Sans Mono',consolas,'Courier New',monospace\"><span style=\"font-weight: bold\">Model: \"functional_2\"</span>\n",
              "</pre>\n"
            ]
          },
          "metadata": {}
        },
        {
          "output_type": "display_data",
          "data": {
            "text/plain": [
              "┏━━━━━━━━━━━━━━━━━━━━━━━━━━━━━━━━━┳━━━━━━━━━━━━━━━━━━━━━━━━┳━━━━━━━━━━━━━━━┓\n",
              "┃\u001b[1m \u001b[0m\u001b[1mLayer (type)                   \u001b[0m\u001b[1m \u001b[0m┃\u001b[1m \u001b[0m\u001b[1mOutput Shape          \u001b[0m\u001b[1m \u001b[0m┃\u001b[1m \u001b[0m\u001b[1m      Param #\u001b[0m\u001b[1m \u001b[0m┃\n",
              "┡━━━━━━━━━━━━━━━━━━━━━━━━━━━━━━━━━╇━━━━━━━━━━━━━━━━━━━━━━━━╇━━━━━━━━━━━━━━━┩\n",
              "│ input_layer_3 (\u001b[38;5;33mInputLayer\u001b[0m)      │ (\u001b[38;5;45mNone\u001b[0m, \u001b[38;5;34m1\u001b[0m)              │             \u001b[38;5;34m0\u001b[0m │\n",
              "├─────────────────────────────────┼────────────────────────┼───────────────┤\n",
              "│ text_vectorization_1            │ (\u001b[38;5;45mNone\u001b[0m, \u001b[38;5;34m100\u001b[0m)            │             \u001b[38;5;34m0\u001b[0m │\n",
              "│ (\u001b[38;5;33mTextVectorization\u001b[0m)             │                        │               │\n",
              "├─────────────────────────────────┼────────────────────────┼───────────────┤\n",
              "│ embedding (\u001b[38;5;33mEmbedding\u001b[0m)           │ (\u001b[38;5;45mNone\u001b[0m, \u001b[38;5;34m100\u001b[0m, \u001b[38;5;34m128\u001b[0m)       │        \u001b[38;5;34m12,800\u001b[0m │\n",
              "├─────────────────────────────────┼────────────────────────┼───────────────┤\n",
              "│ bidirectional (\u001b[38;5;33mBidirectional\u001b[0m)   │ (\u001b[38;5;45mNone\u001b[0m, \u001b[38;5;34m128\u001b[0m)            │        \u001b[38;5;34m98,816\u001b[0m │\n",
              "├─────────────────────────────────┼────────────────────────┼───────────────┤\n",
              "│ dense_5 (\u001b[38;5;33mDense\u001b[0m)                 │ (\u001b[38;5;45mNone\u001b[0m, \u001b[38;5;34m1\u001b[0m)              │           \u001b[38;5;34m129\u001b[0m │\n",
              "└─────────────────────────────────┴────────────────────────┴───────────────┘\n"
            ],
            "text/html": [
              "<pre style=\"white-space:pre;overflow-x:auto;line-height:normal;font-family:Menlo,'DejaVu Sans Mono',consolas,'Courier New',monospace\">┏━━━━━━━━━━━━━━━━━━━━━━━━━━━━━━━━━┳━━━━━━━━━━━━━━━━━━━━━━━━┳━━━━━━━━━━━━━━━┓\n",
              "┃<span style=\"font-weight: bold\"> Layer (type)                    </span>┃<span style=\"font-weight: bold\"> Output Shape           </span>┃<span style=\"font-weight: bold\">       Param # </span>┃\n",
              "┡━━━━━━━━━━━━━━━━━━━━━━━━━━━━━━━━━╇━━━━━━━━━━━━━━━━━━━━━━━━╇━━━━━━━━━━━━━━━┩\n",
              "│ input_layer_3 (<span style=\"color: #0087ff; text-decoration-color: #0087ff\">InputLayer</span>)      │ (<span style=\"color: #00d7ff; text-decoration-color: #00d7ff\">None</span>, <span style=\"color: #00af00; text-decoration-color: #00af00\">1</span>)              │             <span style=\"color: #00af00; text-decoration-color: #00af00\">0</span> │\n",
              "├─────────────────────────────────┼────────────────────────┼───────────────┤\n",
              "│ text_vectorization_1            │ (<span style=\"color: #00d7ff; text-decoration-color: #00d7ff\">None</span>, <span style=\"color: #00af00; text-decoration-color: #00af00\">100</span>)            │             <span style=\"color: #00af00; text-decoration-color: #00af00\">0</span> │\n",
              "│ (<span style=\"color: #0087ff; text-decoration-color: #0087ff\">TextVectorization</span>)             │                        │               │\n",
              "├─────────────────────────────────┼────────────────────────┼───────────────┤\n",
              "│ embedding (<span style=\"color: #0087ff; text-decoration-color: #0087ff\">Embedding</span>)           │ (<span style=\"color: #00d7ff; text-decoration-color: #00d7ff\">None</span>, <span style=\"color: #00af00; text-decoration-color: #00af00\">100</span>, <span style=\"color: #00af00; text-decoration-color: #00af00\">128</span>)       │        <span style=\"color: #00af00; text-decoration-color: #00af00\">12,800</span> │\n",
              "├─────────────────────────────────┼────────────────────────┼───────────────┤\n",
              "│ bidirectional (<span style=\"color: #0087ff; text-decoration-color: #0087ff\">Bidirectional</span>)   │ (<span style=\"color: #00d7ff; text-decoration-color: #00d7ff\">None</span>, <span style=\"color: #00af00; text-decoration-color: #00af00\">128</span>)            │        <span style=\"color: #00af00; text-decoration-color: #00af00\">98,816</span> │\n",
              "├─────────────────────────────────┼────────────────────────┼───────────────┤\n",
              "│ dense_5 (<span style=\"color: #0087ff; text-decoration-color: #0087ff\">Dense</span>)                 │ (<span style=\"color: #00d7ff; text-decoration-color: #00d7ff\">None</span>, <span style=\"color: #00af00; text-decoration-color: #00af00\">1</span>)              │           <span style=\"color: #00af00; text-decoration-color: #00af00\">129</span> │\n",
              "└─────────────────────────────────┴────────────────────────┴───────────────┘\n",
              "</pre>\n"
            ]
          },
          "metadata": {}
        },
        {
          "output_type": "display_data",
          "data": {
            "text/plain": [
              "\u001b[1m Total params: \u001b[0m\u001b[38;5;34m111,745\u001b[0m (436.50 KB)\n"
            ],
            "text/html": [
              "<pre style=\"white-space:pre;overflow-x:auto;line-height:normal;font-family:Menlo,'DejaVu Sans Mono',consolas,'Courier New',monospace\"><span style=\"font-weight: bold\"> Total params: </span><span style=\"color: #00af00; text-decoration-color: #00af00\">111,745</span> (436.50 KB)\n",
              "</pre>\n"
            ]
          },
          "metadata": {}
        },
        {
          "output_type": "display_data",
          "data": {
            "text/plain": [
              "\u001b[1m Trainable params: \u001b[0m\u001b[38;5;34m111,745\u001b[0m (436.50 KB)\n"
            ],
            "text/html": [
              "<pre style=\"white-space:pre;overflow-x:auto;line-height:normal;font-family:Menlo,'DejaVu Sans Mono',consolas,'Courier New',monospace\"><span style=\"font-weight: bold\"> Trainable params: </span><span style=\"color: #00af00; text-decoration-color: #00af00\">111,745</span> (436.50 KB)\n",
              "</pre>\n"
            ]
          },
          "metadata": {}
        },
        {
          "output_type": "display_data",
          "data": {
            "text/plain": [
              "\u001b[1m Non-trainable params: \u001b[0m\u001b[38;5;34m0\u001b[0m (0.00 B)\n"
            ],
            "text/html": [
              "<pre style=\"white-space:pre;overflow-x:auto;line-height:normal;font-family:Menlo,'DejaVu Sans Mono',consolas,'Courier New',monospace\"><span style=\"font-weight: bold\"> Non-trainable params: </span><span style=\"color: #00af00; text-decoration-color: #00af00\">0</span> (0.00 B)\n",
              "</pre>\n"
            ]
          },
          "metadata": {}
        }
      ]
    },
    {
      "cell_type": "code",
      "source": [
        "model_4_history=model_4.fit(train_sentances,train_labels,epochs=5,validation_data=(val_sentances,val_labels),callbacks=[create_tensorboard_callback(SAVE_DIR,\"model_4_bi_directional\")])"
      ],
      "metadata": {
        "colab": {
          "base_uri": "https://localhost:8080/"
        },
        "id": "7WRnNkBqJa3b",
        "outputId": "c600238e-6d0e-4b90-c998-8f1194912832"
      },
      "id": "7WRnNkBqJa3b",
      "execution_count": 61,
      "outputs": [
        {
          "output_type": "stream",
          "name": "stdout",
          "text": [
            "Saving TensorBoard log files to: ModelLogs/model_4_bi_directional/20251026-071651\n",
            "Epoch 1/5\n",
            "\u001b[1m215/215\u001b[0m \u001b[32m━━━━━━━━━━━━━━━━━━━━\u001b[0m\u001b[37m\u001b[0m \u001b[1m6s\u001b[0m 17ms/step - accuracy: 0.6953 - loss: 0.5949 - val_accuracy: 0.6811 - val_loss: 0.6161\n",
            "Epoch 2/5\n",
            "\u001b[1m215/215\u001b[0m \u001b[32m━━━━━━━━━━━━━━━━━━━━\u001b[0m\u001b[37m\u001b[0m \u001b[1m3s\u001b[0m 13ms/step - accuracy: 0.7149 - loss: 0.5722 - val_accuracy: 0.6877 - val_loss: 0.5936\n",
            "Epoch 3/5\n",
            "\u001b[1m215/215\u001b[0m \u001b[32m━━━━━━━━━━━━━━━━━━━━\u001b[0m\u001b[37m\u001b[0m \u001b[1m3s\u001b[0m 13ms/step - accuracy: 0.7105 - loss: 0.5625 - val_accuracy: 0.6929 - val_loss: 0.5966\n",
            "Epoch 4/5\n",
            "\u001b[1m215/215\u001b[0m \u001b[32m━━━━━━━━━━━━━━━━━━━━\u001b[0m\u001b[37m\u001b[0m \u001b[1m4s\u001b[0m 17ms/step - accuracy: 0.7260 - loss: 0.5486 - val_accuracy: 0.6903 - val_loss: 0.5888\n",
            "Epoch 5/5\n",
            "\u001b[1m215/215\u001b[0m \u001b[32m━━━━━━━━━━━━━━━━━━━━\u001b[0m\u001b[37m\u001b[0m \u001b[1m3s\u001b[0m 13ms/step - accuracy: 0.7294 - loss: 0.5459 - val_accuracy: 0.7113 - val_loss: 0.5773\n"
          ]
        }
      ]
    },
    {
      "cell_type": "code",
      "source": [
        "model_4_pred_probs=model_4.predict(val_sentances)\n",
        "model_4_pred_probs[:10]"
      ],
      "metadata": {
        "colab": {
          "base_uri": "https://localhost:8080/"
        },
        "id": "Re7smlARJslC",
        "outputId": "ef14bbc6-d806-40ad-b004-566a35647b15"
      },
      "id": "Re7smlARJslC",
      "execution_count": 62,
      "outputs": [
        {
          "output_type": "stream",
          "name": "stdout",
          "text": [
            "\u001b[1m24/24\u001b[0m \u001b[32m━━━━━━━━━━━━━━━━━━━━\u001b[0m\u001b[37m\u001b[0m \u001b[1m1s\u001b[0m 14ms/step\n"
          ]
        },
        {
          "output_type": "execute_result",
          "data": {
            "text/plain": [
              "array([[0.47912097],\n",
              "       [0.6801736 ],\n",
              "       [0.5746057 ],\n",
              "       [0.27526224],\n",
              "       [0.3199024 ],\n",
              "       [0.6509503 ],\n",
              "       [0.7819601 ],\n",
              "       [0.74651855],\n",
              "       [0.7441455 ],\n",
              "       [0.15885091]], dtype=float32)"
            ]
          },
          "metadata": {},
          "execution_count": 62
        }
      ]
    },
    {
      "cell_type": "code",
      "source": [
        "model_4_pred=tf.squeeze(tf.round(model_4_pred_probs))\n",
        "model_4_pred[:10]"
      ],
      "metadata": {
        "colab": {
          "base_uri": "https://localhost:8080/"
        },
        "id": "bUZ0k3ezKRst",
        "outputId": "c34b027b-5b39-4170-cf4f-da1018e3aab9"
      },
      "id": "bUZ0k3ezKRst",
      "execution_count": 63,
      "outputs": [
        {
          "output_type": "execute_result",
          "data": {
            "text/plain": [
              "<tf.Tensor: shape=(10,), dtype=float32, numpy=array([0., 1., 1., 0., 0., 1., 1., 1., 1., 0.], dtype=float32)>"
            ]
          },
          "metadata": {},
          "execution_count": 63
        }
      ]
    },
    {
      "cell_type": "code",
      "source": [
        "model_4_results=calculate_results(val_labels,model_4_pred)"
      ],
      "metadata": {
        "id": "HGMtk_4nKaZi"
      },
      "id": "HGMtk_4nKaZi",
      "execution_count": 64,
      "outputs": []
    },
    {
      "cell_type": "code",
      "source": [
        "model_4_results"
      ],
      "metadata": {
        "colab": {
          "base_uri": "https://localhost:8080/"
        },
        "id": "Id-GPx6dKoA0",
        "outputId": "b9c8cefb-6b7b-4984-b11d-73876659b254"
      },
      "id": "Id-GPx6dKoA0",
      "execution_count": 65,
      "outputs": [
        {
          "output_type": "execute_result",
          "data": {
            "text/plain": [
              "{'accuracy': 0.7112860892388452,\n",
              " 'precsion': 0.7276513311777119,\n",
              " 'recall': 0.7112860892388452,\n",
              " 'f1_score': 0.6991424210612955}"
            ]
          },
          "metadata": {},
          "execution_count": 65
        }
      ]
    },
    {
      "cell_type": "markdown",
      "source": [
        "# ***Still Not enough to beat the baseline***\n",
        "\n",
        "**1D Convolutional Neural Network**"
      ],
      "metadata": {
        "id": "GeROyJIfKtnX"
      },
      "id": "GeROyJIfKtnX"
    },
    {
      "cell_type": "code",
      "source": [
        "from tensorflow.keras import layers\n",
        "\n",
        "inputs=layers.Input(shape=(1,),dtype=tf.string)\n",
        "x=text_vectorizer(inputs)\n",
        "x=embedding(x)\n",
        "x=layers.Conv1D(filters=64,kernel_size=5,strides=1,activation='relu',padding='valid')(x)\n",
        "x=layers.GlobalMaxPool1D()(x)\n",
        "outputs=layers.Dense(1,activation='sigmoid')(x)\n",
        "model_5=tf.keras.Model(inputs,outputs,name='Model_5_Conv1D')"
      ],
      "metadata": {
        "id": "HKFUFbPHLZxv"
      },
      "id": "HKFUFbPHLZxv",
      "execution_count": 66,
      "outputs": []
    },
    {
      "cell_type": "code",
      "source": [
        "model_5.compile(loss='binary_crossentropy',\n",
        "                optimizer=tf.keras.optimizers.Adam(),\n",
        "                metrics=['accuracy'])"
      ],
      "metadata": {
        "id": "kwucN7U6NkFH"
      },
      "id": "kwucN7U6NkFH",
      "execution_count": 67,
      "outputs": []
    },
    {
      "cell_type": "code",
      "source": [
        "model_5_history=model_5.fit(train_sentances,train_labels,epochs=5,validation_data=(val_sentances,val_labels))"
      ],
      "metadata": {
        "colab": {
          "base_uri": "https://localhost:8080/"
        },
        "id": "f638wmy9N7ly",
        "outputId": "60443ce2-f3b8-4cc5-8150-c258a828ca3b"
      },
      "id": "f638wmy9N7ly",
      "execution_count": 68,
      "outputs": [
        {
          "output_type": "stream",
          "name": "stdout",
          "text": [
            "Epoch 1/5\n",
            "\u001b[1m215/215\u001b[0m \u001b[32m━━━━━━━━━━━━━━━━━━━━\u001b[0m\u001b[37m\u001b[0m \u001b[1m3s\u001b[0m 7ms/step - accuracy: 0.6956 - loss: 0.5900 - val_accuracy: 0.6850 - val_loss: 0.6013\n",
            "Epoch 2/5\n",
            "\u001b[1m215/215\u001b[0m \u001b[32m━━━━━━━━━━━━━━━━━━━━\u001b[0m\u001b[37m\u001b[0m \u001b[1m1s\u001b[0m 5ms/step - accuracy: 0.7177 - loss: 0.5574 - val_accuracy: 0.6759 - val_loss: 0.5932\n",
            "Epoch 3/5\n",
            "\u001b[1m215/215\u001b[0m \u001b[32m━━━━━━━━━━━━━━━━━━━━\u001b[0m\u001b[37m\u001b[0m \u001b[1m1s\u001b[0m 6ms/step - accuracy: 0.7309 - loss: 0.5478 - val_accuracy: 0.6811 - val_loss: 0.5929\n",
            "Epoch 4/5\n",
            "\u001b[1m215/215\u001b[0m \u001b[32m━━━━━━━━━━━━━━━━━━━━\u001b[0m\u001b[37m\u001b[0m \u001b[1m3s\u001b[0m 10ms/step - accuracy: 0.7248 - loss: 0.5481 - val_accuracy: 0.6929 - val_loss: 0.5851\n",
            "Epoch 5/5\n",
            "\u001b[1m215/215\u001b[0m \u001b[32m━━━━━━━━━━━━━━━━━━━━\u001b[0m\u001b[37m\u001b[0m \u001b[1m1s\u001b[0m 6ms/step - accuracy: 0.7398 - loss: 0.5289 - val_accuracy: 0.6955 - val_loss: 0.5870\n"
          ]
        }
      ]
    },
    {
      "cell_type": "code",
      "source": [
        "model_5_pred_probs=model_5.predict(val_sentances)\n",
        "model_5_pred_probs[:10]"
      ],
      "metadata": {
        "colab": {
          "base_uri": "https://localhost:8080/"
        },
        "id": "0_Q4CtYCON3n",
        "outputId": "48769ae2-edb5-496d-c6fa-e92659b3b30e"
      },
      "id": "0_Q4CtYCON3n",
      "execution_count": 69,
      "outputs": [
        {
          "output_type": "stream",
          "name": "stdout",
          "text": [
            "\u001b[1m24/24\u001b[0m \u001b[32m━━━━━━━━━━━━━━━━━━━━\u001b[0m\u001b[37m\u001b[0m \u001b[1m0s\u001b[0m 7ms/step\n"
          ]
        },
        {
          "output_type": "execute_result",
          "data": {
            "text/plain": [
              "array([[0.6800068 ],\n",
              "       [0.46601665],\n",
              "       [0.52359325],\n",
              "       [0.38178402],\n",
              "       [0.46703717],\n",
              "       [0.66686726],\n",
              "       [0.96955734],\n",
              "       [0.80672663],\n",
              "       [0.6957864 ],\n",
              "       [0.13353898]], dtype=float32)"
            ]
          },
          "metadata": {},
          "execution_count": 69
        }
      ]
    },
    {
      "cell_type": "code",
      "source": [
        "model_5_pred=tf.squeeze(tf.round(model_5_pred_probs))\n",
        "model_5_pred[:10]"
      ],
      "metadata": {
        "colab": {
          "base_uri": "https://localhost:8080/"
        },
        "id": "mfFBY6RjOeWW",
        "outputId": "3074e25e-ffe1-402b-ddf9-72a27a74611c"
      },
      "id": "mfFBY6RjOeWW",
      "execution_count": 70,
      "outputs": [
        {
          "output_type": "execute_result",
          "data": {
            "text/plain": [
              "<tf.Tensor: shape=(10,), dtype=float32, numpy=array([1., 0., 1., 0., 0., 1., 1., 1., 1., 0.], dtype=float32)>"
            ]
          },
          "metadata": {},
          "execution_count": 70
        }
      ]
    },
    {
      "cell_type": "code",
      "source": [
        "model_5_results=calculate_results(val_labels,model_5_pred)\n",
        "model_5_results"
      ],
      "metadata": {
        "colab": {
          "base_uri": "https://localhost:8080/"
        },
        "id": "fOHITJmeOl7u",
        "outputId": "90bb96c1-ea71-49a5-83fc-ec9213b7e227"
      },
      "id": "fOHITJmeOl7u",
      "execution_count": 71,
      "outputs": [
        {
          "output_type": "execute_result",
          "data": {
            "text/plain": [
              "{'accuracy': 0.6955380577427821,\n",
              " 'precsion': 0.694828392311652,\n",
              " 'recall': 0.6955380577427821,\n",
              " 'f1_score': 0.6934264844332912}"
            ]
          },
          "metadata": {},
          "execution_count": 71
        }
      ]
    },
    {
      "cell_type": "markdown",
      "source": [
        "# **Still does not beat the Baseline**\n",
        " Lets try a pretrained  model from tensorflow hub\n",
        " Using *USE: Unviversal Sentence Encoder*"
      ],
      "metadata": {
        "id": "kGCoKN3gPBxO"
      },
      "id": "kGCoKN3gPBxO"
    },
    {
      "cell_type": "code",
      "source": [
        "import tensorflow_hub as hub\n",
        "embed=hub.load('https://tfhub.dev/google/universal-sentence-encoder/4')"
      ],
      "metadata": {
        "id": "tCeAXOQoPFbj"
      },
      "id": "tCeAXOQoPFbj",
      "execution_count": 72,
      "outputs": []
    },
    {
      "cell_type": "code",
      "source": [
        "url='https://tfhub.dev/google/universal-sentence-encoder/4'"
      ],
      "metadata": {
        "id": "cNKMgD0xYmR3"
      },
      "id": "cNKMgD0xYmR3",
      "execution_count": null,
      "outputs": []
    },
    {
      "cell_type": "code",
      "source": [
        "embed_samples=embed([sample_sentance])\n",
        "print(embed_samples[0][:50])"
      ],
      "metadata": {
        "id": "WtrOtmd5XdYA",
        "outputId": "2bdfc1e9-b783-4199-a043-0a88a50eea5d",
        "colab": {
          "base_uri": "https://localhost:8080/"
        }
      },
      "id": "WtrOtmd5XdYA",
      "execution_count": 73,
      "outputs": [
        {
          "output_type": "stream",
          "name": "stdout",
          "text": [
            "tf.Tensor(\n",
            "[-0.03066502  0.0496372  -0.05217693  0.00139907 -0.00926552  0.00673183\n",
            "  0.01304122  0.06996512  0.06852724  0.07824161 -0.00789557 -0.0040019\n",
            "  0.00460476 -0.01420973  0.03097453  0.0219287   0.00318545  0.02783472\n",
            " -0.08563413 -0.03833722 -0.04447577  0.04989638  0.03295439  0.01984563\n",
            " -0.03200996 -0.03538054 -0.06820709  0.03808664  0.03749126  0.01803972\n",
            " -0.02028149 -0.01247546 -0.01853     0.0129871   0.01497612  0.06763671\n",
            " -0.092466    0.00197926 -0.01782483 -0.03774925  0.00956515 -0.0329027\n",
            " -0.06632379 -0.01825559 -0.04180375  0.00383663  0.01642472  0.02767501\n",
            " -0.066098   -0.00594822], shape=(50,), dtype=float32)\n"
          ]
        }
      ]
    },
    {
      "cell_type": "code",
      "source": [
        "sentence_encoder_layer=hub.KerasLayer()"
      ],
      "metadata": {
        "id": "qE1NzPGzYeug"
      },
      "id": "qE1NzPGzYeug",
      "execution_count": null,
      "outputs": []
    }
  ],
  "metadata": {
    "kernelspec": {
      "display_name": "TensorFlow GPU",
      "language": "python",
      "name": "tf-gpu"
    },
    "language_info": {
      "name": "python",
      "version": "3.10.11"
    },
    "colab": {
      "provenance": [],
      "gpuType": "T4",
      "include_colab_link": true
    },
    "accelerator": "GPU"
  },
  "nbformat": 4,
  "nbformat_minor": 5
}