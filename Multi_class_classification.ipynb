{
  "nbformat": 4,
  "nbformat_minor": 0,
  "metadata": {
    "colab": {
      "provenance": [],
      "gpuType": "V5E1",
      "authorship_tag": "ABX9TyOHkB8qcpyDO+caagD4qY+T",
      "include_colab_link": true
    },
    "kernelspec": {
      "name": "python3",
      "display_name": "Python 3"
    },
    "language_info": {
      "name": "python"
    },
    "accelerator": "TPU"
  },
  "cells": [
    {
      "cell_type": "markdown",
      "metadata": {
        "id": "view-in-github",
        "colab_type": "text"
      },
      "source": [
        "<a href=\"https://colab.research.google.com/github/FairozAhmadSheikh/DeepLearning_Bootcamp_with_Tensor_Flow/blob/main/Multi_class_classification.ipynb\" target=\"_parent\"><img src=\"https://colab.research.google.com/assets/colab-badge.svg\" alt=\"Open In Colab\"/></a>"
      ]
    },
    {
      "cell_type": "code",
      "execution_count": 1,
      "metadata": {
        "id": "fSCKgHvfl7yX"
      },
      "outputs": [],
      "source": [
        "import zipfile"
      ]
    },
    {
      "cell_type": "code",
      "source": [
        "!wget https://storage.googleapis.com/ztm_tf_course/food_vision/10_food_classes_all_data.zip"
      ],
      "metadata": {
        "colab": {
          "base_uri": "https://localhost:8080/"
        },
        "id": "VTPbyc1EmFea",
        "outputId": "989766d7-2da8-4d6b-f8a2-0ca059f78890"
      },
      "execution_count": 2,
      "outputs": [
        {
          "output_type": "stream",
          "name": "stdout",
          "text": [
            "--2025-09-14 09:40:44--  https://storage.googleapis.com/ztm_tf_course/food_vision/10_food_classes_all_data.zip\n",
            "Resolving storage.googleapis.com (storage.googleapis.com)... 172.217.164.27, 172.217.0.91, 172.217.12.27, ...\n",
            "Connecting to storage.googleapis.com (storage.googleapis.com)|172.217.164.27|:443... connected.\n",
            "HTTP request sent, awaiting response... 200 OK\n",
            "Length: 519183241 (495M) [application/zip]\n",
            "Saving to: ‘10_food_classes_all_data.zip’\n",
            "\n",
            "10_food_classes_all 100%[===================>] 495.13M  73.2MB/s    in 7.3s    \n",
            "\n",
            "2025-09-14 09:40:52 (67.8 MB/s) - ‘10_food_classes_all_data.zip’ saved [519183241/519183241]\n",
            "\n"
          ]
        }
      ]
    },
    {
      "cell_type": "code",
      "source": [
        "zip_ref=zipfile.ZipFile('10_food_classes_all_data.zip')\n",
        "zip_ref=zip_ref.extractall()"
      ],
      "metadata": {
        "id": "IFCDH0V8mSXM"
      },
      "execution_count": 4,
      "outputs": []
    },
    {
      "cell_type": "markdown",
      "source": [
        "**lets walkthrough files etc in our data**"
      ],
      "metadata": {
        "id": "ad_2YR7snz78"
      }
    },
    {
      "cell_type": "code",
      "source": [
        "import os"
      ],
      "metadata": {
        "id": "V_KPCfaBoGPN"
      },
      "execution_count": 6,
      "outputs": []
    },
    {
      "cell_type": "code",
      "source": [
        "for dirpath,dirnames,filenames in os.walk('10_food_classes_all_data'):\n",
        "    print(f'There are {len(dirnames)} directoiries and {len(filenames)} images in {dirpath}')"
      ],
      "metadata": {
        "colab": {
          "base_uri": "https://localhost:8080/"
        },
        "id": "I6C6mD4vnQsy",
        "outputId": "a9ce4185-2580-4b5e-a5aa-5ff8cd196494"
      },
      "execution_count": 8,
      "outputs": [
        {
          "output_type": "stream",
          "name": "stdout",
          "text": [
            "There are 2 directoiries and 0 images in 10_food_classes_all_data\n",
            "There are 10 directoiries and 0 images in 10_food_classes_all_data/test\n",
            "There are 0 directoiries and 250 images in 10_food_classes_all_data/test/grilled_salmon\n",
            "There are 0 directoiries and 250 images in 10_food_classes_all_data/test/ramen\n",
            "There are 0 directoiries and 250 images in 10_food_classes_all_data/test/chicken_curry\n",
            "There are 0 directoiries and 250 images in 10_food_classes_all_data/test/pizza\n",
            "There are 0 directoiries and 250 images in 10_food_classes_all_data/test/sushi\n",
            "There are 0 directoiries and 250 images in 10_food_classes_all_data/test/fried_rice\n",
            "There are 0 directoiries and 250 images in 10_food_classes_all_data/test/hamburger\n",
            "There are 0 directoiries and 250 images in 10_food_classes_all_data/test/ice_cream\n",
            "There are 0 directoiries and 250 images in 10_food_classes_all_data/test/steak\n",
            "There are 0 directoiries and 250 images in 10_food_classes_all_data/test/chicken_wings\n",
            "There are 10 directoiries and 0 images in 10_food_classes_all_data/train\n",
            "There are 0 directoiries and 750 images in 10_food_classes_all_data/train/grilled_salmon\n",
            "There are 0 directoiries and 750 images in 10_food_classes_all_data/train/ramen\n",
            "There are 0 directoiries and 750 images in 10_food_classes_all_data/train/chicken_curry\n",
            "There are 0 directoiries and 750 images in 10_food_classes_all_data/train/pizza\n",
            "There are 0 directoiries and 750 images in 10_food_classes_all_data/train/sushi\n",
            "There are 0 directoiries and 750 images in 10_food_classes_all_data/train/fried_rice\n",
            "There are 0 directoiries and 750 images in 10_food_classes_all_data/train/hamburger\n",
            "There are 0 directoiries and 750 images in 10_food_classes_all_data/train/ice_cream\n",
            "There are 0 directoiries and 750 images in 10_food_classes_all_data/train/steak\n",
            "There are 0 directoiries and 750 images in 10_food_classes_all_data/train/chicken_wings\n"
          ]
        }
      ]
    },
    {
      "cell_type": "code",
      "source": [],
      "metadata": {
        "id": "-ZJrivdCoHVu"
      },
      "execution_count": null,
      "outputs": []
    }
  ]
}